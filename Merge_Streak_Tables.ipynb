{
 "cells": [
  {
   "cell_type": "code",
   "execution_count": 1,
   "metadata": {},
   "outputs": [],
   "source": [
    "import pandas as pd\n"
   ]
  },
  {
   "cell_type": "code",
   "execution_count": 3,
   "metadata": {},
   "outputs": [],
   "source": [
    "boxes = pd.read_csv(\"./Streak Export_ Jeff's Pipeline (10-29-19 4_27 PM) - Boxes (Jeff's Pipeline).csv\")\n",
    "boxes = boxes.set_index(boxes[\"Name\"])"
   ]
  },
  {
   "cell_type": "code",
   "execution_count": 5,
   "metadata": {},
   "outputs": [],
   "source": [
    "contacts = pd.read_csv(\"./Streak Export_ Jeff's Pipeline (10-29-19 4_27 PM) - Contacts (Jeff's Pipeline).csv\")\n",
    "merge_contacts_with_boxes = contacts.merge(boxes, left_on='Box Name', right_on=boxes.index, how=\"outer\")"
   ]
  },
  {
   "cell_type": "code",
   "execution_count": 6,
   "metadata": {},
   "outputs": [],
   "source": [
    "organizations = pd.read_csv(\"./Streak Export_ Jeff's Pipeline (10-29-19 4_27 PM) - Organizations (Jeff's Pipeline).csv\")\n",
    "merge_merge_contacts_with_boxes_with_organizations = merge_contacts_with_boxes.merge(organizations, left_on=merge_contacts_with_boxes[\"Box Name\"], right_on=organizations[\"Box Name\"], how=\"outer\")\n"
   ]
  },
  {
   "cell_type": "code",
   "execution_count": 7,
   "metadata": {},
   "outputs": [
    {
     "name": "stdout",
     "output_type": "stream",
     "text": [
      "0 key_0\n",
      "1 First Name\n",
      "2 Box Name_x\n",
      "3 Last Name\n",
      "4 Other_x\n",
      "5 Title\n",
      "6 Email Addresses\n",
      "7 Phone Numbers_x\n",
      "8 Addresses_x\n",
      "9 Domains_x\n",
      "10 Twitter_x\n",
      "11 Facebook_x\n",
      "12 LinkedIn_x\n",
      "13 Instagram_x\n",
      "14 Name_x\n",
      "15 Stage\n",
      "16 Status\n",
      "17 Deal Size\n",
      "18 Notes\n",
      "19 UCC Date\n",
      "20 UCC Secured Party\n",
      "21 Date Created\n",
      "22 Date of Last Sent Email\n",
      "23 Date of Last Received Email\n",
      "24 Assigned To\n",
      "25 Date of Last Stage Change\n",
      "26 Owned By\n",
      "27 Tasks Count\n",
      "28 Name_y\n",
      "29 Box Name_y\n",
      "30 Other_y\n",
      "31 Domains_y\n",
      "32 Industry\n",
      "33 Phone Numbers_y\n",
      "34 Addresses_y\n",
      "35 Employee Count\n",
      "36 Twitter_y\n",
      "37 Facebook_y\n",
      "38 LinkedIn_y\n",
      "39 Instagram_y\n"
     ]
    }
   ],
   "source": [
    "for x,y in enumerate(merge_merge_contacts_with_boxes_with_organizations.columns):\n",
    "    print(x,y)"
   ]
  },
  {
   "cell_type": "code",
   "execution_count": 8,
   "metadata": {},
   "outputs": [],
   "source": [
    "merge_merge_contacts_with_boxes_with_organizations.to_excel(\"streak_merged_boxes_contacts_organizations.xlsx\")"
   ]
  },
  {
   "cell_type": "code",
   "execution_count": null,
   "metadata": {},
   "outputs": [],
   "source": []
  }
 ],
 "metadata": {
  "kernelspec": {
   "display_name": "Python 3",
   "language": "python",
   "name": "python3"
  },
  "language_info": {
   "codemirror_mode": {
    "name": "ipython",
    "version": 3
   },
   "file_extension": ".py",
   "mimetype": "text/x-python",
   "name": "python",
   "nbconvert_exporter": "python",
   "pygments_lexer": "ipython3",
   "version": "3.6.4"
  }
 },
 "nbformat": 4,
 "nbformat_minor": 2
}
