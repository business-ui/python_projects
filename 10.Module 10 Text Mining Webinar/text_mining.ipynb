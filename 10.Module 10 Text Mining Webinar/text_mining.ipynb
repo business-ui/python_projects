{
 "cells": [
  {
   "cell_type": "code",
   "execution_count": 1,
   "metadata": {
    "slideshow": {
     "slide_type": "skip"
    }
   },
   "outputs": [
    {
     "data": {
      "text/html": [
       "<h2 style=\"margin: 0\">An Introduction to Text Mining</h2>\n",
       "\n",
       "<div class=\"entities\" style=\"line-height: 2.5; direction: ltr\"></br>The history of natural language processing generally started in \n",
       "<mark class=\"entity\" style=\"background: #bfe1d9; padding: 0.45em 0.6em; margin: 0 0.25em; line-height: 1; border-radius: 0.35em;\">\n",
       "    the 1950s\n",
       "    <span style=\"font-size: 0.8em; font-weight: bold; line-height: 1; border-radius: 0.35em; text-transform: uppercase; vertical-align: middle; margin-left: 0.5rem\">DATE</span>\n",
       "</mark>\n",
       ", although work can be found from earlier periods. </br>In \n",
       "<mark class=\"entity\" style=\"background: #bfe1d9; padding: 0.45em 0.6em; margin: 0 0.25em; line-height: 1; border-radius: 0.35em;\">\n",
       "    1950\n",
       "    <span style=\"font-size: 0.8em; font-weight: bold; line-height: 1; border-radius: 0.35em; text-transform: uppercase; vertical-align: middle; margin-left: 0.5rem\">DATE</span>\n",
       "</mark>\n",
       ", \n",
       "<mark class=\"entity\" style=\"background: #aa9cfc; padding: 0.45em 0.6em; margin: 0 0.25em; line-height: 1; border-radius: 0.35em;\">\n",
       "    Alan Turing\n",
       "    <span style=\"font-size: 0.8em; font-weight: bold; line-height: 1; border-radius: 0.35em; text-transform: uppercase; vertical-align: middle; margin-left: 0.5rem\">PERSON</span>\n",
       "</mark>\n",
       " published an article titled &quot;\n",
       "<mark class=\"entity\" style=\"background: #f0d0ff; padding: 0.45em 0.6em; margin: 0 0.25em; line-height: 1; border-radius: 0.35em;\">\n",
       "    Intelligence\n",
       "    <span style=\"font-size: 0.8em; font-weight: bold; line-height: 1; border-radius: 0.35em; text-transform: uppercase; vertical-align: middle; margin-left: 0.5rem\">WORK_OF_ART</span>\n",
       "</mark>\n",
       "&quot; which proposed what is now called the \n",
       "<mark class=\"entity\" style=\"background: #ff9561; padding: 0.45em 0.6em; margin: 0 0.25em; line-height: 1; border-radius: 0.35em;\">\n",
       "    Turing\n",
       "    <span style=\"font-size: 0.8em; font-weight: bold; line-height: 1; border-radius: 0.35em; text-transform: uppercase; vertical-align: middle; margin-left: 0.5rem\">LOC</span>\n",
       "</mark>\n",
       " test as a criterion of intelligence.</br>The \n",
       "<mark class=\"entity\" style=\"background: #7aecec; padding: 0.45em 0.6em; margin: 0 0.25em; line-height: 1; border-radius: 0.35em;\">\n",
       "    Georgetown\n",
       "    <span style=\"font-size: 0.8em; font-weight: bold; line-height: 1; border-radius: 0.35em; text-transform: uppercase; vertical-align: middle; margin-left: 0.5rem\">ORG</span>\n",
       "</mark>\n",
       " experiment in \n",
       "<mark class=\"entity\" style=\"background: #bfe1d9; padding: 0.45em 0.6em; margin: 0 0.25em; line-height: 1; border-radius: 0.35em;\">\n",
       "    1954\n",
       "    <span style=\"font-size: 0.8em; font-weight: bold; line-height: 1; border-radius: 0.35em; text-transform: uppercase; vertical-align: middle; margin-left: 0.5rem\">DATE</span>\n",
       "</mark>\n",
       " involved fully automatic translation of \n",
       "<mark class=\"entity\" style=\"background: #e4e7d2; padding: 0.45em 0.6em; margin: 0 0.25em; line-height: 1; border-radius: 0.35em;\">\n",
       "    more than sixty\n",
       "    <span style=\"font-size: 0.8em; font-weight: bold; line-height: 1; border-radius: 0.35em; text-transform: uppercase; vertical-align: middle; margin-left: 0.5rem\">CARDINAL</span>\n",
       "</mark>\n",
       " \n",
       "<mark class=\"entity\" style=\"background: #c887fb; padding: 0.45em 0.6em; margin: 0 0.25em; line-height: 1; border-radius: 0.35em;\">\n",
       "    Russian\n",
       "    <span style=\"font-size: 0.8em; font-weight: bold; line-height: 1; border-radius: 0.35em; text-transform: uppercase; vertical-align: middle; margin-left: 0.5rem\">NORP</span>\n",
       "</mark>\n",
       " sentences into \n",
       "<mark class=\"entity\" style=\"background: #ff8197; padding: 0.45em 0.6em; margin: 0 0.25em; line-height: 1; border-radius: 0.35em;\">\n",
       "    English\n",
       "    <span style=\"font-size: 0.8em; font-weight: bold; line-height: 1; border-radius: 0.35em; text-transform: uppercase; vertical-align: middle; margin-left: 0.5rem\">LANGUAGE</span>\n",
       "</mark>\n",
       ". </br>The authors claimed that within \n",
       "<mark class=\"entity\" style=\"background: #bfe1d9; padding: 0.45em 0.6em; margin: 0 0.25em; line-height: 1; border-radius: 0.35em;\">\n",
       "    three or five years\n",
       "    <span style=\"font-size: 0.8em; font-weight: bold; line-height: 1; border-radius: 0.35em; text-transform: uppercase; vertical-align: middle; margin-left: 0.5rem\">DATE</span>\n",
       "</mark>\n",
       ", machine translation would be a solved problem.</br>However, real progress was much slower, and after the \n",
       "<mark class=\"entity\" style=\"background: #7aecec; padding: 0.45em 0.6em; margin: 0 0.25em; line-height: 1; border-radius: 0.35em;\">\n",
       "    ALPAC\n",
       "    <span style=\"font-size: 0.8em; font-weight: bold; line-height: 1; border-radius: 0.35em; text-transform: uppercase; vertical-align: middle; margin-left: 0.5rem\">ORG</span>\n",
       "</mark>\n",
       " report in \n",
       "<mark class=\"entity\" style=\"background: #bfe1d9; padding: 0.45em 0.6em; margin: 0 0.25em; line-height: 1; border-radius: 0.35em;\">\n",
       "    1966\n",
       "    <span style=\"font-size: 0.8em; font-weight: bold; line-height: 1; border-radius: 0.35em; text-transform: uppercase; vertical-align: middle; margin-left: 0.5rem\">DATE</span>\n",
       "</mark>\n",
       ", </br>which found that \n",
       "<mark class=\"entity\" style=\"background: #bfe1d9; padding: 0.45em 0.6em; margin: 0 0.25em; line-height: 1; border-radius: 0.35em;\">\n",
       "    ten-year-long\n",
       "    <span style=\"font-size: 0.8em; font-weight: bold; line-height: 1; border-radius: 0.35em; text-transform: uppercase; vertical-align: middle; margin-left: 0.5rem\">DATE</span>\n",
       "</mark>\n",
       " research had failed to fulfill the expectations, funding for machine translation was dramatically reduced. </br>Little further research in machine translation was conducted until \n",
       "<mark class=\"entity\" style=\"background: #bfe1d9; padding: 0.45em 0.6em; margin: 0 0.25em; line-height: 1; border-radius: 0.35em;\">\n",
       "    the late 1980s\n",
       "    <span style=\"font-size: 0.8em; font-weight: bold; line-height: 1; border-radius: 0.35em; text-transform: uppercase; vertical-align: middle; margin-left: 0.5rem\">DATE</span>\n",
       "</mark>\n",
       ", when the \n",
       "<mark class=\"entity\" style=\"background: #e4e7d2; padding: 0.45em 0.6em; margin: 0 0.25em; line-height: 1; border-radius: 0.35em;\">\n",
       "    first\n",
       "    <span style=\"font-size: 0.8em; font-weight: bold; line-height: 1; border-radius: 0.35em; text-transform: uppercase; vertical-align: middle; margin-left: 0.5rem\">ORDINAL</span>\n",
       "</mark>\n",
       " statistical machine translation systems were developed.\n",
       "</div>"
      ],
      "text/plain": [
       "<IPython.core.display.HTML object>"
      ]
     },
     "metadata": {},
     "output_type": "display_data"
    }
   ],
   "source": [
    "import spacy\n",
    "#if you need to install spacy you can \n",
    "#uncomment the pip install or see the link below\n",
    "#https://spacy.io/usage/\n",
    "#!pip install -U spacy\n",
    "from spacy import displacy\n",
    "nlp = spacy.load('en')\n",
    "doc = nlp(u'''\n",
    "The history of natural language processing generally started in the 1950s, although work can be found from earlier periods. \n",
    "In 1950, Alan Turing published an article titled \"Intelligence\" which proposed what is now called the Turing test as a criterion of intelligence.\n",
    "The Georgetown experiment in 1954 involved fully automatic translation of more than sixty Russian sentences into English. \n",
    "The authors claimed that within three or five years, machine translation would be a solved problem.\n",
    "However, real progress was much slower, and after the ALPAC report in 1966, \n",
    "which found that ten-year-long research had failed to fulfill the expectations, funding for machine translation was dramatically reduced. \n",
    "Little further research in machine translation was conducted until the late 1980s, when the first statistical machine translation systems were developed.\n",
    "''')\n",
    "doc.user_data['title'] = 'An Introduction to Text Mining'\n",
    "displacy.render(doc, style = 'ent', jupyter = True)"
   ]
  },
  {
   "cell_type": "code",
   "execution_count": 2,
   "metadata": {
    "slideshow": {
     "slide_type": "slide"
    }
   },
   "outputs": [
    {
     "data": {
      "text/html": [
       "<h2 style=\"margin: 0\">An Introduction to Text Mining</h2>\n",
       "\n",
       "<div class=\"entities\" style=\"line-height: 2.5; direction: ltr\"></br>The history of natural language processing generally started in \n",
       "<mark class=\"entity\" style=\"background: #bfe1d9; padding: 0.45em 0.6em; margin: 0 0.25em; line-height: 1; border-radius: 0.35em;\">\n",
       "    the 1950s\n",
       "    <span style=\"font-size: 0.8em; font-weight: bold; line-height: 1; border-radius: 0.35em; text-transform: uppercase; vertical-align: middle; margin-left: 0.5rem\">DATE</span>\n",
       "</mark>\n",
       ", although work can be found from earlier periods. </br>In \n",
       "<mark class=\"entity\" style=\"background: #bfe1d9; padding: 0.45em 0.6em; margin: 0 0.25em; line-height: 1; border-radius: 0.35em;\">\n",
       "    1950\n",
       "    <span style=\"font-size: 0.8em; font-weight: bold; line-height: 1; border-radius: 0.35em; text-transform: uppercase; vertical-align: middle; margin-left: 0.5rem\">DATE</span>\n",
       "</mark>\n",
       ", \n",
       "<mark class=\"entity\" style=\"background: #aa9cfc; padding: 0.45em 0.6em; margin: 0 0.25em; line-height: 1; border-radius: 0.35em;\">\n",
       "    Alan Turing\n",
       "    <span style=\"font-size: 0.8em; font-weight: bold; line-height: 1; border-radius: 0.35em; text-transform: uppercase; vertical-align: middle; margin-left: 0.5rem\">PERSON</span>\n",
       "</mark>\n",
       " published an article titled &quot;\n",
       "<mark class=\"entity\" style=\"background: #f0d0ff; padding: 0.45em 0.6em; margin: 0 0.25em; line-height: 1; border-radius: 0.35em;\">\n",
       "    Intelligence\n",
       "    <span style=\"font-size: 0.8em; font-weight: bold; line-height: 1; border-radius: 0.35em; text-transform: uppercase; vertical-align: middle; margin-left: 0.5rem\">WORK_OF_ART</span>\n",
       "</mark>\n",
       "&quot; which proposed what is now called the \n",
       "<mark class=\"entity\" style=\"background: #ff9561; padding: 0.45em 0.6em; margin: 0 0.25em; line-height: 1; border-radius: 0.35em;\">\n",
       "    Turing\n",
       "    <span style=\"font-size: 0.8em; font-weight: bold; line-height: 1; border-radius: 0.35em; text-transform: uppercase; vertical-align: middle; margin-left: 0.5rem\">LOC</span>\n",
       "</mark>\n",
       " test as a criterion of intelligence.</br>The \n",
       "<mark class=\"entity\" style=\"background: #7aecec; padding: 0.45em 0.6em; margin: 0 0.25em; line-height: 1; border-radius: 0.35em;\">\n",
       "    Georgetown\n",
       "    <span style=\"font-size: 0.8em; font-weight: bold; line-height: 1; border-radius: 0.35em; text-transform: uppercase; vertical-align: middle; margin-left: 0.5rem\">ORG</span>\n",
       "</mark>\n",
       " experiment in \n",
       "<mark class=\"entity\" style=\"background: #bfe1d9; padding: 0.45em 0.6em; margin: 0 0.25em; line-height: 1; border-radius: 0.35em;\">\n",
       "    1954\n",
       "    <span style=\"font-size: 0.8em; font-weight: bold; line-height: 1; border-radius: 0.35em; text-transform: uppercase; vertical-align: middle; margin-left: 0.5rem\">DATE</span>\n",
       "</mark>\n",
       " involved fully automatic translation of \n",
       "<mark class=\"entity\" style=\"background: #e4e7d2; padding: 0.45em 0.6em; margin: 0 0.25em; line-height: 1; border-radius: 0.35em;\">\n",
       "    more than sixty\n",
       "    <span style=\"font-size: 0.8em; font-weight: bold; line-height: 1; border-radius: 0.35em; text-transform: uppercase; vertical-align: middle; margin-left: 0.5rem\">CARDINAL</span>\n",
       "</mark>\n",
       " \n",
       "<mark class=\"entity\" style=\"background: #c887fb; padding: 0.45em 0.6em; margin: 0 0.25em; line-height: 1; border-radius: 0.35em;\">\n",
       "    Russian\n",
       "    <span style=\"font-size: 0.8em; font-weight: bold; line-height: 1; border-radius: 0.35em; text-transform: uppercase; vertical-align: middle; margin-left: 0.5rem\">NORP</span>\n",
       "</mark>\n",
       " sentences into \n",
       "<mark class=\"entity\" style=\"background: #ff8197; padding: 0.45em 0.6em; margin: 0 0.25em; line-height: 1; border-radius: 0.35em;\">\n",
       "    English\n",
       "    <span style=\"font-size: 0.8em; font-weight: bold; line-height: 1; border-radius: 0.35em; text-transform: uppercase; vertical-align: middle; margin-left: 0.5rem\">LANGUAGE</span>\n",
       "</mark>\n",
       ". </br>The authors claimed that within \n",
       "<mark class=\"entity\" style=\"background: #bfe1d9; padding: 0.45em 0.6em; margin: 0 0.25em; line-height: 1; border-radius: 0.35em;\">\n",
       "    three or five years\n",
       "    <span style=\"font-size: 0.8em; font-weight: bold; line-height: 1; border-radius: 0.35em; text-transform: uppercase; vertical-align: middle; margin-left: 0.5rem\">DATE</span>\n",
       "</mark>\n",
       ", machine translation would be a solved problem.</br>However, real progress was much slower, and after the \n",
       "<mark class=\"entity\" style=\"background: #7aecec; padding: 0.45em 0.6em; margin: 0 0.25em; line-height: 1; border-radius: 0.35em;\">\n",
       "    ALPAC\n",
       "    <span style=\"font-size: 0.8em; font-weight: bold; line-height: 1; border-radius: 0.35em; text-transform: uppercase; vertical-align: middle; margin-left: 0.5rem\">ORG</span>\n",
       "</mark>\n",
       " report in \n",
       "<mark class=\"entity\" style=\"background: #bfe1d9; padding: 0.45em 0.6em; margin: 0 0.25em; line-height: 1; border-radius: 0.35em;\">\n",
       "    1966\n",
       "    <span style=\"font-size: 0.8em; font-weight: bold; line-height: 1; border-radius: 0.35em; text-transform: uppercase; vertical-align: middle; margin-left: 0.5rem\">DATE</span>\n",
       "</mark>\n",
       ", </br>which found that \n",
       "<mark class=\"entity\" style=\"background: #bfe1d9; padding: 0.45em 0.6em; margin: 0 0.25em; line-height: 1; border-radius: 0.35em;\">\n",
       "    ten-year-long\n",
       "    <span style=\"font-size: 0.8em; font-weight: bold; line-height: 1; border-radius: 0.35em; text-transform: uppercase; vertical-align: middle; margin-left: 0.5rem\">DATE</span>\n",
       "</mark>\n",
       " research had failed to fulfill the expectations, funding for machine translation was dramatically reduced. </br>Little further research in machine translation was conducted until \n",
       "<mark class=\"entity\" style=\"background: #bfe1d9; padding: 0.45em 0.6em; margin: 0 0.25em; line-height: 1; border-radius: 0.35em;\">\n",
       "    the late 1980s\n",
       "    <span style=\"font-size: 0.8em; font-weight: bold; line-height: 1; border-radius: 0.35em; text-transform: uppercase; vertical-align: middle; margin-left: 0.5rem\">DATE</span>\n",
       "</mark>\n",
       ", when the \n",
       "<mark class=\"entity\" style=\"background: #e4e7d2; padding: 0.45em 0.6em; margin: 0 0.25em; line-height: 1; border-radius: 0.35em;\">\n",
       "    first\n",
       "    <span style=\"font-size: 0.8em; font-weight: bold; line-height: 1; border-radius: 0.35em; text-transform: uppercase; vertical-align: middle; margin-left: 0.5rem\">ORDINAL</span>\n",
       "</mark>\n",
       " statistical machine translation systems were developed.\n",
       "</div>"
      ],
      "text/plain": [
       "<IPython.core.display.HTML object>"
      ]
     },
     "metadata": {},
     "output_type": "display_data"
    }
   ],
   "source": [
    "doc.user_data['title'] = 'An Introduction to Text Mining'\n",
    "displacy.render(doc, style = 'ent', jupyter = True)"
   ]
  },
  {
   "cell_type": "code",
   "execution_count": 3,
   "metadata": {
    "slideshow": {
     "slide_type": "subslide"
    }
   },
   "outputs": [],
   "source": [
    "import pandas as pd"
   ]
  },
  {
   "cell_type": "code",
   "execution_count": 4,
   "metadata": {
    "slideshow": {
     "slide_type": "fragment"
    }
   },
   "outputs": [],
   "source": [
    "#load the data\n",
    "songs = pd.read_json('big_one.json')"
   ]
  },
  {
   "cell_type": "code",
   "execution_count": 5,
   "metadata": {
    "slideshow": {
     "slide_type": "subslide"
    }
   },
   "outputs": [
    {
     "data": {
      "text/html": [
       "<div>\n",
       "<style scoped>\n",
       "    .dataframe tbody tr th:only-of-type {\n",
       "        vertical-align: middle;\n",
       "    }\n",
       "\n",
       "    .dataframe tbody tr th {\n",
       "        vertical-align: top;\n",
       "    }\n",
       "\n",
       "    .dataframe thead th {\n",
       "        text-align: right;\n",
       "    }\n",
       "</style>\n",
       "<table border=\"1\" class=\"dataframe\">\n",
       "  <thead>\n",
       "    <tr style=\"text-align: right;\">\n",
       "      <th></th>\n",
       "      <th>album</th>\n",
       "      <th>artists</th>\n",
       "      <th>text</th>\n",
       "    </tr>\n",
       "  </thead>\n",
       "  <tbody>\n",
       "    <tr>\n",
       "      <th>0</th>\n",
       "      <td>[Not for Sale]</td>\n",
       "      <td>[Smoke DZA]</td>\n",
       "      <td>[Harlem rapper Smoke DZA keeps it real on , , ...</td>\n",
       "    </tr>\n",
       "    <tr>\n",
       "      <th>1</th>\n",
       "      <td>[Loud Patterns]</td>\n",
       "      <td>[Makeness]</td>\n",
       "      <td>[The first full-length album from the British ...</td>\n",
       "    </tr>\n",
       "    <tr>\n",
       "      <th>2</th>\n",
       "      <td>[am i happy, singing_]</td>\n",
       "      <td>[Ricky Eat Acid]</td>\n",
       "      <td>[On this three-track album from Sam Ray’s elec...</td>\n",
       "    </tr>\n",
       "    <tr>\n",
       "      <th>3</th>\n",
       "      <td>[Ceremony of Dreams: Studio Sessions &amp; Outtake...</td>\n",
       "      <td>[Entourage]</td>\n",
       "      <td>[The unearthing of these odd compositions from...</td>\n",
       "    </tr>\n",
       "    <tr>\n",
       "      <th>4</th>\n",
       "      <td>[My Dear Melancholy,]</td>\n",
       "      <td>[The Weeknd]</td>\n",
       "      <td>[The Weeknd’s new six-song album finds him in ...</td>\n",
       "    </tr>\n",
       "  </tbody>\n",
       "</table>\n",
       "</div>"
      ],
      "text/plain": [
       "                                               album           artists  \\\n",
       "0                                     [Not for Sale]       [Smoke DZA]   \n",
       "1                                    [Loud Patterns]        [Makeness]   \n",
       "2                             [am i happy, singing_]  [Ricky Eat Acid]   \n",
       "3  [Ceremony of Dreams: Studio Sessions & Outtake...       [Entourage]   \n",
       "4                              [My Dear Melancholy,]      [The Weeknd]   \n",
       "\n",
       "                                                text  \n",
       "0  [Harlem rapper Smoke DZA keeps it real on , , ...  \n",
       "1  [The first full-length album from the British ...  \n",
       "2  [On this three-track album from Sam Ray’s elec...  \n",
       "3  [The unearthing of these odd compositions from...  \n",
       "4  [The Weeknd’s new six-song album finds him in ...  "
      ]
     },
     "execution_count": 5,
     "metadata": {},
     "output_type": "execute_result"
    }
   ],
   "source": [
    "#take a peek at the first five rows\n",
    "songs.head()"
   ]
  },
  {
   "cell_type": "code",
   "execution_count": 6,
   "metadata": {
    "slideshow": {
     "slide_type": "slide"
    }
   },
   "outputs": [],
   "source": [
    "#clean up the data in \n",
    "#anticipation of NLP\n",
    "for i in songs.columns:\n",
    "    songs[i] = songs[i].apply(lambda x: ''.join(x))"
   ]
  },
  {
   "cell_type": "code",
   "execution_count": 7,
   "metadata": {
    "slideshow": {
     "slide_type": "subslide"
    }
   },
   "outputs": [
    {
     "data": {
      "text/html": [
       "<div>\n",
       "<style scoped>\n",
       "    .dataframe tbody tr th:only-of-type {\n",
       "        vertical-align: middle;\n",
       "    }\n",
       "\n",
       "    .dataframe tbody tr th {\n",
       "        vertical-align: top;\n",
       "    }\n",
       "\n",
       "    .dataframe thead th {\n",
       "        text-align: right;\n",
       "    }\n",
       "</style>\n",
       "<table border=\"1\" class=\"dataframe\">\n",
       "  <thead>\n",
       "    <tr style=\"text-align: right;\">\n",
       "      <th></th>\n",
       "      <th>album</th>\n",
       "      <th>artists</th>\n",
       "      <th>text</th>\n",
       "    </tr>\n",
       "  </thead>\n",
       "  <tbody>\n",
       "    <tr>\n",
       "      <th>0</th>\n",
       "      <td>Not for Sale</td>\n",
       "      <td>Smoke DZA</td>\n",
       "      <td>Harlem rapper Smoke DZA keeps it real on , dou...</td>\n",
       "    </tr>\n",
       "    <tr>\n",
       "      <th>1</th>\n",
       "      <td>Loud Patterns</td>\n",
       "      <td>Makeness</td>\n",
       "      <td>The first full-length album from the British s...</td>\n",
       "    </tr>\n",
       "    <tr>\n",
       "      <th>2</th>\n",
       "      <td>am i happy, singing_</td>\n",
       "      <td>Ricky Eat Acid</td>\n",
       "      <td>On this three-track album from Sam Ray’s elect...</td>\n",
       "    </tr>\n",
       "    <tr>\n",
       "      <th>3</th>\n",
       "      <td>Ceremony of Dreams: Studio Sessions &amp; Outtakes...</td>\n",
       "      <td>Entourage</td>\n",
       "      <td>The unearthing of these odd compositions from ...</td>\n",
       "    </tr>\n",
       "    <tr>\n",
       "      <th>4</th>\n",
       "      <td>My Dear Melancholy,</td>\n",
       "      <td>The Weeknd</td>\n",
       "      <td>The Weeknd’s new six-song album finds him in l...</td>\n",
       "    </tr>\n",
       "  </tbody>\n",
       "</table>\n",
       "</div>"
      ],
      "text/plain": [
       "                                               album         artists  \\\n",
       "0                                       Not for Sale       Smoke DZA   \n",
       "1                                      Loud Patterns        Makeness   \n",
       "2                               am i happy, singing_  Ricky Eat Acid   \n",
       "3  Ceremony of Dreams: Studio Sessions & Outtakes...       Entourage   \n",
       "4                                My Dear Melancholy,      The Weeknd   \n",
       "\n",
       "                                                text  \n",
       "0  Harlem rapper Smoke DZA keeps it real on , dou...  \n",
       "1  The first full-length album from the British s...  \n",
       "2  On this three-track album from Sam Ray’s elect...  \n",
       "3  The unearthing of these odd compositions from ...  \n",
       "4  The Weeknd’s new six-song album finds him in l...  "
      ]
     },
     "execution_count": 7,
     "metadata": {},
     "output_type": "execute_result"
    }
   ],
   "source": [
    "songs.head()"
   ]
  },
  {
   "cell_type": "code",
   "execution_count": 8,
   "metadata": {
    "slideshow": {
     "slide_type": "slide"
    }
   },
   "outputs": [
    {
     "data": {
      "text/plain": [
       "'Harlem rapper Smoke DZA keeps it real on , doubling down on classic hip-hop as he’s got an allergy to trends. That’s mostly a good thing.Harlem rapper ’s  is a memorandum for culture vultures, those outsiders who, in his mind, are trying to pollute rap, and those industry insiders trying to sap its swagger for their own personal gain. DZA is a classicist, and he derides those in the game selling out, all while listing off the things money can’t buy them—the love, smoothness, the culture, the cool. If 2016’s  with Bronx legend and rap super-producer  was DZA’s taking a stand in deed, aligning himself with a cultural icon, then this is him writing new bylaws. These are DZA’s 12 rap commandments, in which he extols the mid-grade hustler.DZA’s rap philosophy is to always err on the side of caution. This can make him a bit of a conservative music-maker, but it also makes him relatively dependable. He presents a lifestyle of subtle comfort and his verses are capo proverbs rapped through kush'"
      ]
     },
     "execution_count": 8,
     "metadata": {},
     "output_type": "execute_result"
    }
   ],
   "source": [
    "#look at first review\n",
    "songs['text'][0][:1000]"
   ]
  },
  {
   "cell_type": "code",
   "execution_count": 9,
   "metadata": {
    "slideshow": {
     "slide_type": "slide"
    }
   },
   "outputs": [],
   "source": [
    "from nltk import word_tokenize"
   ]
  },
  {
   "cell_type": "code",
   "execution_count": 10,
   "metadata": {
    "slideshow": {
     "slide_type": "fragment"
    }
   },
   "outputs": [],
   "source": [
    "tokes = word_tokenize(songs['text'][0])"
   ]
  },
  {
   "cell_type": "code",
   "execution_count": 11,
   "metadata": {
    "slideshow": {
     "slide_type": "subslide"
    }
   },
   "outputs": [
    {
     "data": {
      "text/plain": [
       "['Harlem',\n",
       " 'rapper',\n",
       " 'Smoke',\n",
       " 'DZA',\n",
       " 'keeps',\n",
       " 'it',\n",
       " 'real',\n",
       " 'on',\n",
       " ',',\n",
       " 'doubling']"
      ]
     },
     "execution_count": 11,
     "metadata": {},
     "output_type": "execute_result"
    }
   ],
   "source": [
    "tokes[:10]"
   ]
  },
  {
   "cell_type": "code",
   "execution_count": 12,
   "metadata": {
    "slideshow": {
     "slide_type": "slide"
    }
   },
   "outputs": [],
   "source": [
    "#getting frequencies\n",
    "import nltk"
   ]
  },
  {
   "cell_type": "code",
   "execution_count": 13,
   "metadata": {
    "slideshow": {
     "slide_type": "fragment"
    }
   },
   "outputs": [],
   "source": [
    "fdist = nltk.FreqDist(tokes)"
   ]
  },
  {
   "cell_type": "code",
   "execution_count": 14,
   "metadata": {
    "slideshow": {
     "slide_type": "subslide"
    }
   },
   "outputs": [
    {
     "data": {
      "text/plain": [
       "[(',', 61),\n",
       " ('’', 38),\n",
       " ('the', 25),\n",
       " ('.', 24),\n",
       " ('s', 22),\n",
       " ('a', 18),\n",
       " ('his', 18),\n",
       " ('to', 17),\n",
       " ('and', 16),\n",
       " ('of', 16)]"
      ]
     },
     "execution_count": 14,
     "metadata": {},
     "output_type": "execute_result"
    }
   ],
   "source": [
    "fdist.most_common(10)"
   ]
  },
  {
   "cell_type": "code",
   "execution_count": 15,
   "metadata": {
    "slideshow": {
     "slide_type": "slide"
    }
   },
   "outputs": [
    {
     "data": {
      "text/plain": [
       "<Figure size 640x480 with 1 Axes>"
      ]
     },
     "metadata": {},
     "output_type": "display_data"
    },
    {
     "data": {
      "text/plain": [
       "<matplotlib.axes._subplots.AxesSubplot at 0x15b9df04160>"
      ]
     },
     "execution_count": 15,
     "metadata": {},
     "output_type": "execute_result"
    }
   ],
   "source": [
    "fdist.plot(20)"
   ]
  },
  {
   "cell_type": "markdown",
   "metadata": {
    "slideshow": {
     "slide_type": "slide"
    }
   },
   "source": [
    "### Stopword Removal"
   ]
  },
  {
   "cell_type": "code",
   "execution_count": 16,
   "metadata": {
    "slideshow": {
     "slide_type": "fragment"
    }
   },
   "outputs": [],
   "source": [
    "from nltk.corpus import stopwords"
   ]
  },
  {
   "cell_type": "code",
   "execution_count": 17,
   "metadata": {
    "slideshow": {
     "slide_type": "subslide"
    }
   },
   "outputs": [
    {
     "data": {
      "text/plain": [
       "{'he',\n",
       " 'him',\n",
       " 'his',\n",
       " 'i',\n",
       " 'me',\n",
       " 'my',\n",
       " 'myself',\n",
       " 'our',\n",
       " 'ours',\n",
       " 'ourselves',\n",
       " 'we',\n",
       " 'you',\n",
       " \"you'd\",\n",
       " \"you'll\",\n",
       " \"you're\",\n",
       " \"you've\",\n",
       " 'your',\n",
       " 'yours',\n",
       " 'yourself',\n",
       " 'yourselves'}"
      ]
     },
     "execution_count": 17,
     "metadata": {},
     "output_type": "execute_result"
    }
   ],
   "source": [
    "set(stopwords.words('english')[:20])"
   ]
  },
  {
   "cell_type": "code",
   "execution_count": 18,
   "metadata": {
    "slideshow": {
     "slide_type": "slide"
    }
   },
   "outputs": [
    {
     "name": "stdout",
     "output_type": "stream",
     "text": [
      "The original review 887\n",
      "and the filtered 561\n"
     ]
    }
   ],
   "source": [
    "from nltk.corpus import stopwords\n",
    "stopwords = set(stopwords.words('english'))\n",
    "filtered_review = [w for w in tokes if not w in stopwords]\n",
    "print('The original review {}\\nand the filtered {}'.format(len(tokes), len(filtered_review)))"
   ]
  },
  {
   "cell_type": "code",
   "execution_count": 19,
   "metadata": {
    "slideshow": {
     "slide_type": "subslide"
    }
   },
   "outputs": [
    {
     "data": {
      "text/plain": [
       "['Harlem',\n",
       " 'rapper',\n",
       " 'Smoke',\n",
       " 'DZA',\n",
       " 'keeps',\n",
       " 'real',\n",
       " ',',\n",
       " 'doubling',\n",
       " 'classic',\n",
       " 'hip-hop']"
      ]
     },
     "execution_count": 19,
     "metadata": {},
     "output_type": "execute_result"
    }
   ],
   "source": [
    "filtered_review[:10]"
   ]
  },
  {
   "cell_type": "markdown",
   "metadata": {
    "slideshow": {
     "slide_type": "slide"
    }
   },
   "source": [
    "### Regular Expression filtering"
   ]
  },
  {
   "cell_type": "code",
   "execution_count": 20,
   "metadata": {
    "slideshow": {
     "slide_type": "fragment"
    }
   },
   "outputs": [],
   "source": [
    "import re\n",
    "review_words = re.split(r'\\W+', songs['text'][0])"
   ]
  },
  {
   "cell_type": "code",
   "execution_count": 21,
   "metadata": {
    "slideshow": {
     "slide_type": "subslide"
    }
   },
   "outputs": [
    {
     "data": {
      "image/png": "[encoded data removed]",
      "text/plain": [
       "<Figure size 432x288 with 1 Axes>"
      ]
     },
     "metadata": {
      "needs_background": "light"
     },
     "output_type": "display_data"
    },
    {
     "data": {
      "text/plain": [
       "<matplotlib.axes._subplots.AxesSubplot at 0x15b9dfb87f0>"
      ]
     },
     "execution_count": 21,
     "metadata": {},
     "output_type": "execute_result"
    }
   ],
   "source": [
    "fdist = nltk.FreqDist(review_words)\n",
    "fdist.plot(20)"
   ]
  },
  {
   "cell_type": "code",
   "execution_count": 22,
   "metadata": {
    "slideshow": {
     "slide_type": "slide"
    }
   },
   "outputs": [
    {
     "name": "stdout",
     "output_type": "stream",
     "text": [
      "The original review 887\n",
      "and the filtered 420\n"
     ]
    }
   ],
   "source": [
    "from nltk.corpus import stopwords\n",
    "stopwords = set(stopwords.words('english'))\n",
    "filtered_review = [w for w in review_words if not w in stopwords]\n",
    "print('The original review {}\\nand the filtered {}'.format(len(tokes), len(filtered_review)))                "
   ]
  },
  {
   "cell_type": "code",
   "execution_count": 23,
   "metadata": {
    "slideshow": {
     "slide_type": "subslide"
    }
   },
   "outputs": [
    {
     "data": {
      "image/png": "[encoded data removed]",
      "text/plain": [
       "<Figure size 432x288 with 1 Axes>"
      ]
     },
     "metadata": {
      "needs_background": "light"
     },
     "output_type": "display_data"
    },
    {
     "data": {
      "text/plain": [
       "<matplotlib.axes._subplots.AxesSubplot at 0x15b9dfb8320>"
      ]
     },
     "execution_count": 23,
     "metadata": {},
     "output_type": "execute_result"
    }
   ],
   "source": [
    "fdist = nltk.FreqDist(filtered_review)\n",
    "fdist.plot(20)"
   ]
  },
  {
   "cell_type": "code",
   "execution_count": 24,
   "metadata": {
    "slideshow": {
     "slide_type": "slide"
    }
   },
   "outputs": [],
   "source": [
    "%matplotlib inline\n",
    "import matplotlib.pyplot as plt\n",
    "import numpy as np"
   ]
  },
  {
   "cell_type": "code",
   "execution_count": 25,
   "metadata": {
    "slideshow": {
     "slide_type": "subslide"
    }
   },
   "outputs": [],
   "source": [
    "x = np.arange(len(list(fdist.keys())))\n",
    "y = list(fdist.values())\n",
    "labels = list(fdist.keys())"
   ]
  },
  {
   "cell_type": "code",
   "execution_count": 26,
   "metadata": {
    "slideshow": {
     "slide_type": "subslide"
    }
   },
   "outputs": [
    {
     "data": {
      "image/png": "[encoded data removed]",
      "text/plain": [
       "<Figure size 792x288 with 1 Axes>"
      ]
     },
     "metadata": {
      "needs_background": "light"
     },
     "output_type": "display_data"
    }
   ],
   "source": [
    "plt.figure(figsize = (11,4))\n",
    "plt.bar(x[:10], y[:10])\n",
    "plt.xticks(x[:10]+ 0.4, labels[:10], rotation = 90);"
   ]
  },
  {
   "cell_type": "markdown",
   "metadata": {
    "slideshow": {
     "slide_type": "slide"
    }
   },
   "source": [
    "### Most Common Words"
   ]
  },
  {
   "cell_type": "code",
   "execution_count": 27,
   "metadata": {
    "slideshow": {
     "slide_type": "subslide"
    }
   },
   "outputs": [
    {
     "data": {
      "text/plain": [
       "[('DZA', 14),\n",
       " ('He', 9),\n",
       " ('rap', 8),\n",
       " ('The', 8),\n",
       " ('like', 4),\n",
       " ('raps', 4),\n",
       " ('even', 4),\n",
       " ('rapper', 3),\n",
       " ('Smoke', 3),\n",
       " ('things', 3)]"
      ]
     },
     "execution_count": 27,
     "metadata": {},
     "output_type": "execute_result"
    }
   ],
   "source": [
    "fdist.most_common(10)"
   ]
  },
  {
   "cell_type": "code",
   "execution_count": 28,
   "metadata": {
    "slideshow": {
     "slide_type": "subslide"
    }
   },
   "outputs": [],
   "source": [
    "x = np.arange(10)\n",
    "y = [i[1] for i in fdist.most_common(10)]\n",
    "labels = [i[0] for i in fdist.most_common(10)]"
   ]
  },
  {
   "cell_type": "code",
   "execution_count": 29,
   "metadata": {
    "slideshow": {
     "slide_type": "subslide"
    }
   },
   "outputs": [
    {
     "data": {
      "image/png": "[encoded data removed]",
      "text/plain": [
       "<Figure size 864x288 with 1 Axes>"
      ]
     },
     "metadata": {
      "needs_background": "light"
     },
     "output_type": "display_data"
    }
   ],
   "source": [
    "plt.figure(figsize = (12,4))\n",
    "plt.bar(x[:10], y[:10], color = 'lightblue')\n",
    "plt.xticks(x[:10]+ 0.4, labels[:10]);"
   ]
  },
  {
   "cell_type": "markdown",
   "metadata": {
    "slideshow": {
     "slide_type": "slide"
    }
   },
   "source": [
    "## Sentiment Analysis\n",
    "\n",
    "from Wikipedia page on [List of music considered the worst](https://en.wikipedia.org/wiki/List_of_music_considered_the_worst)\n",
    "> *\"Sgt. Pepper's Lonely Hearts Club Band, The Beatles (1967) \n",
    "Voted the worst record ever made in a 1998 Melody Maker poll of pop stars, DJs, and journalists.[3] Among the harshest detractors was musician and journalist John Robb, who described the album as \"the benchmark of 1967 - the low water point of rock 'n' roll\".[3] Guardian critic Richard Smith wrote that it is, \"if not the worst, then certainly the most overrated album of all time.\" He also contended that the \"excruciating\" LP was often ranked by members of the music press as the best ever due to affection for its cultural impact, and \"not because of anything intrinsically great about the record\".[4] Billy Childish was asked in 2007 to nominate the \"supposedly great\" album that he would \"gladly never hear again\", and he named Sgt. Pepper's Lonely Hearts Club Band and argued that it \"signalled the death of rock 'n' roll\".[5] Musician and author Bill Drummond called the record \"the worst thing that ever happened to music\".*"
   ]
  },
  {
   "cell_type": "code",
   "execution_count": 31,
   "metadata": {
    "slideshow": {
     "slide_type": "subslide"
    }
   },
   "outputs": [],
   "source": [
    "from textblob import TextBlob\n",
    "blob = TextBlob(songs['text'][0])"
   ]
  },
  {
   "cell_type": "code",
   "execution_count": 32,
   "metadata": {
    "slideshow": {
     "slide_type": "subslide"
    }
   },
   "outputs": [
    {
     "name": "stdout",
     "output_type": "stream",
     "text": [
      "Harlem rapper Smoke DZA keeps it real on , doublin 0.07037037037037036\n",
      "That’s mostly a good thing.Harlem rapper ’s  is a  0.4333333333333333\n",
      "DZA is a classicist, and he derides those in the g 0.15\n",
      "If 2016’s  with Bronx legend and rap super-produce 0.11818181818181818\n",
      "These are DZA’s 12 rap commandments, in which he e 0.0\n"
     ]
    }
   ],
   "source": [
    "for sentence in blob.sentences[:5]:\n",
    "    print(sentence[:50], sentence.sentiment.polarity)"
   ]
  },
  {
   "cell_type": "code",
   "execution_count": 33,
   "metadata": {
    "slideshow": {
     "slide_type": "fragment"
    }
   },
   "outputs": [
    {
     "data": {
      "text/plain": [
       "0.17559934509934505"
      ]
     },
     "execution_count": 33,
     "metadata": {},
     "output_type": "execute_result"
    }
   ],
   "source": [
    "blob.sentiment.polarity"
   ]
  },
  {
   "cell_type": "code",
   "execution_count": 34,
   "metadata": {
    "slideshow": {
     "slide_type": "fragment"
    }
   },
   "outputs": [
    {
     "data": {
      "text/plain": [
       "0.4680952935952934"
      ]
     },
     "execution_count": 34,
     "metadata": {},
     "output_type": "execute_result"
    }
   ],
   "source": [
    "blob.sentiment.subjectivity"
   ]
  },
  {
   "cell_type": "code",
   "execution_count": 35,
   "metadata": {
    "slideshow": {
     "slide_type": "slide"
    }
   },
   "outputs": [],
   "source": [
    "pos_words = ['great', 'excellent', 'dope', 'good', 'amazing', 'ill']\n",
    "neg_words = ['bad', 'terrible', 'awful', 'weak', 'stupid', 'boring']"
   ]
  },
  {
   "cell_type": "code",
   "execution_count": 36,
   "metadata": {
    "slideshow": {
     "slide_type": "subslide"
    }
   },
   "outputs": [],
   "source": [
    "pos = neg = 0\n",
    "for i in songs.text:\n",
    "    blob = TextBlob(i)\n",
    "    for word in blob.words:\n",
    "        if word in pos_words:\n",
    "            pos += 1\n",
    "        if word in neg_words:\n",
    "            neg += 1"
   ]
  },
  {
   "cell_type": "code",
   "execution_count": 37,
   "metadata": {
    "slideshow": {
     "slide_type": "fragment"
    }
   },
   "outputs": [
    {
     "data": {
      "text/plain": [
       "435"
      ]
     },
     "execution_count": 37,
     "metadata": {},
     "output_type": "execute_result"
    }
   ],
   "source": [
    "pos"
   ]
  },
  {
   "cell_type": "code",
   "execution_count": 38,
   "metadata": {
    "slideshow": {
     "slide_type": "fragment"
    }
   },
   "outputs": [
    {
     "data": {
      "text/plain": [
       "120"
      ]
     },
     "execution_count": 38,
     "metadata": {},
     "output_type": "execute_result"
    }
   ],
   "source": [
    "neg"
   ]
  },
  {
   "cell_type": "markdown",
   "metadata": {
    "slideshow": {
     "slide_type": "slide"
    }
   },
   "source": [
    "### Determining the Best and Worst Albums\n",
    "\n",
    "TextBlob's sentiment analyzer has been trained on a movie review corpus, so it could give nice insight into the quality of an album.  "
   ]
  },
  {
   "cell_type": "code",
   "execution_count": 39,
   "metadata": {
    "slideshow": {
     "slide_type": "subslide"
    }
   },
   "outputs": [],
   "source": [
    "#find sentiment of each review\n",
    "songs['sentiment'] = songs.text.apply(lambda x: TextBlob(x).sentiment.polarity)"
   ]
  },
  {
   "cell_type": "code",
   "execution_count": 40,
   "metadata": {
    "slideshow": {
     "slide_type": "subslide"
    }
   },
   "outputs": [
    {
     "data": {
      "text/html": [
       "<div>\n",
       "<style scoped>\n",
       "    .dataframe tbody tr th:only-of-type {\n",
       "        vertical-align: middle;\n",
       "    }\n",
       "\n",
       "    .dataframe tbody tr th {\n",
       "        vertical-align: top;\n",
       "    }\n",
       "\n",
       "    .dataframe thead th {\n",
       "        text-align: right;\n",
       "    }\n",
       "</style>\n",
       "<table border=\"1\" class=\"dataframe\">\n",
       "  <thead>\n",
       "    <tr style=\"text-align: right;\">\n",
       "      <th></th>\n",
       "      <th>album</th>\n",
       "      <th>artists</th>\n",
       "      <th>text</th>\n",
       "      <th>sentiment</th>\n",
       "    </tr>\n",
       "  </thead>\n",
       "  <tbody>\n",
       "    <tr>\n",
       "      <th>0</th>\n",
       "      <td>Not for Sale</td>\n",
       "      <td>Smoke DZA</td>\n",
       "      <td>Harlem rapper Smoke DZA keeps it real on , dou...</td>\n",
       "      <td>0.175599</td>\n",
       "    </tr>\n",
       "    <tr>\n",
       "      <th>1</th>\n",
       "      <td>Loud Patterns</td>\n",
       "      <td>Makeness</td>\n",
       "      <td>The first full-length album from the British s...</td>\n",
       "      <td>0.119350</td>\n",
       "    </tr>\n",
       "    <tr>\n",
       "      <th>2</th>\n",
       "      <td>am i happy, singing_</td>\n",
       "      <td>Ricky Eat Acid</td>\n",
       "      <td>On this three-track album from Sam Ray’s elect...</td>\n",
       "      <td>0.169092</td>\n",
       "    </tr>\n",
       "    <tr>\n",
       "      <th>3</th>\n",
       "      <td>Ceremony of Dreams: Studio Sessions &amp; Outtakes...</td>\n",
       "      <td>Entourage</td>\n",
       "      <td>The unearthing of these odd compositions from ...</td>\n",
       "      <td>0.113756</td>\n",
       "    </tr>\n",
       "    <tr>\n",
       "      <th>4</th>\n",
       "      <td>My Dear Melancholy,</td>\n",
       "      <td>The Weeknd</td>\n",
       "      <td>The Weeknd’s new six-song album finds him in l...</td>\n",
       "      <td>0.038336</td>\n",
       "    </tr>\n",
       "  </tbody>\n",
       "</table>\n",
       "</div>"
      ],
      "text/plain": [
       "                                               album         artists  \\\n",
       "0                                       Not for Sale       Smoke DZA   \n",
       "1                                      Loud Patterns        Makeness   \n",
       "2                               am i happy, singing_  Ricky Eat Acid   \n",
       "3  Ceremony of Dreams: Studio Sessions & Outtakes...       Entourage   \n",
       "4                                My Dear Melancholy,      The Weeknd   \n",
       "\n",
       "                                                text  sentiment  \n",
       "0  Harlem rapper Smoke DZA keeps it real on , dou...   0.175599  \n",
       "1  The first full-length album from the British s...   0.119350  \n",
       "2  On this three-track album from Sam Ray’s elect...   0.169092  \n",
       "3  The unearthing of these odd compositions from ...   0.113756  \n",
       "4  The Weeknd’s new six-song album finds him in l...   0.038336  "
      ]
     },
     "execution_count": 40,
     "metadata": {},
     "output_type": "execute_result"
    }
   ],
   "source": [
    "songs.head()"
   ]
  },
  {
   "cell_type": "code",
   "execution_count": 41,
   "metadata": {
    "slideshow": {
     "slide_type": "subslide"
    }
   },
   "outputs": [
    {
     "data": {
      "text/html": [
       "<div>\n",
       "<style scoped>\n",
       "    .dataframe tbody tr th:only-of-type {\n",
       "        vertical-align: middle;\n",
       "    }\n",
       "\n",
       "    .dataframe tbody tr th {\n",
       "        vertical-align: top;\n",
       "    }\n",
       "\n",
       "    .dataframe thead th {\n",
       "        text-align: right;\n",
       "    }\n",
       "</style>\n",
       "<table border=\"1\" class=\"dataframe\">\n",
       "  <thead>\n",
       "    <tr style=\"text-align: right;\">\n",
       "      <th></th>\n",
       "      <th>album</th>\n",
       "      <th>artists</th>\n",
       "      <th>text</th>\n",
       "      <th>sentiment</th>\n",
       "    </tr>\n",
       "  </thead>\n",
       "  <tbody>\n",
       "    <tr>\n",
       "      <th>540</th>\n",
       "      <td>Bajas Fresh</td>\n",
       "      <td>Bitchin Bajas</td>\n",
       "      <td>Over seven tracks that span 80 minutes, the ex...</td>\n",
       "      <td>0.301116</td>\n",
       "    </tr>\n",
       "    <tr>\n",
       "      <th>241</th>\n",
       "      <td>Drum Dance to the Motherland</td>\n",
       "      <td>The Khan Jamal Creative Arts Ensemble</td>\n",
       "      <td>A long-forgotten gem of experimental jazz gets...</td>\n",
       "      <td>0.276320</td>\n",
       "    </tr>\n",
       "    <tr>\n",
       "      <th>580</th>\n",
       "      <td>Say Less</td>\n",
       "      <td>Roy Wood$</td>\n",
       "      <td>OVO Sound signee Roy Wood$ offers a chilled-ou...</td>\n",
       "      <td>0.271008</td>\n",
       "    </tr>\n",
       "    <tr>\n",
       "      <th>475</th>\n",
       "      <td>The Space Between</td>\n",
       "      <td>Majid Jordan</td>\n",
       "      <td>The refined sophomore album from Majid Jordan—...</td>\n",
       "      <td>0.268265</td>\n",
       "    </tr>\n",
       "    <tr>\n",
       "      <th>571</th>\n",
       "      <td>Yes Lawd! Remixes</td>\n",
       "      <td>NxWorries</td>\n",
       "      <td>On this collection of remixes from Anderson .P...</td>\n",
       "      <td>0.267699</td>\n",
       "    </tr>\n",
       "    <tr>\n",
       "      <th>267</th>\n",
       "      <td>November</td>\n",
       "      <td>SiR</td>\n",
       "      <td>The Inglewood artist’s first album as Kendrick...</td>\n",
       "      <td>0.251643</td>\n",
       "    </tr>\n",
       "    <tr>\n",
       "      <th>7</th>\n",
       "      <td>Universal Love: Wedding Songs Reimagined EP</td>\n",
       "      <td></td>\n",
       "      <td>Featuring Bob Dylan, St. Vincent, and Ben Gibb...</td>\n",
       "      <td>0.248650</td>\n",
       "    </tr>\n",
       "    <tr>\n",
       "      <th>396</th>\n",
       "      <td>Room Inside the World</td>\n",
       "      <td>Ought</td>\n",
       "      <td>Ought’s third album straightens out their soun...</td>\n",
       "      <td>0.247076</td>\n",
       "    </tr>\n",
       "    <tr>\n",
       "      <th>260</th>\n",
       "      <td>Phantom Thread Original Motion Picture Soundtrack</td>\n",
       "      <td>Jonny Greenwood</td>\n",
       "      <td>Recorded with a 60-piece orchestra, the Radioh...</td>\n",
       "      <td>0.246984</td>\n",
       "    </tr>\n",
       "    <tr>\n",
       "      <th>205</th>\n",
       "      <td>Hexadic III</td>\n",
       "      <td></td>\n",
       "      <td>Six Organs of Admittance’s Ben Chasny invites ...</td>\n",
       "      <td>0.244322</td>\n",
       "    </tr>\n",
       "  </tbody>\n",
       "</table>\n",
       "</div>"
      ],
      "text/plain": [
       "                                                 album  \\\n",
       "540                                        Bajas Fresh   \n",
       "241                       Drum Dance to the Motherland   \n",
       "580                                           Say Less   \n",
       "475                                  The Space Between   \n",
       "571                                  Yes Lawd! Remixes   \n",
       "267                                           November   \n",
       "7          Universal Love: Wedding Songs Reimagined EP   \n",
       "396                              Room Inside the World   \n",
       "260  Phantom Thread Original Motion Picture Soundtrack   \n",
       "205                                        Hexadic III   \n",
       "\n",
       "                                   artists  \\\n",
       "540                          Bitchin Bajas   \n",
       "241  The Khan Jamal Creative Arts Ensemble   \n",
       "580                              Roy Wood$   \n",
       "475                           Majid Jordan   \n",
       "571                              NxWorries   \n",
       "267                                    SiR   \n",
       "7                                            \n",
       "396                                  Ought   \n",
       "260                        Jonny Greenwood   \n",
       "205                                          \n",
       "\n",
       "                                                  text  sentiment  \n",
       "540  Over seven tracks that span 80 minutes, the ex...   0.301116  \n",
       "241  A long-forgotten gem of experimental jazz gets...   0.276320  \n",
       "580  OVO Sound signee Roy Wood$ offers a chilled-ou...   0.271008  \n",
       "475  The refined sophomore album from Majid Jordan—...   0.268265  \n",
       "571  On this collection of remixes from Anderson .P...   0.267699  \n",
       "267  The Inglewood artist’s first album as Kendrick...   0.251643  \n",
       "7    Featuring Bob Dylan, St. Vincent, and Ben Gibb...   0.248650  \n",
       "396  Ought’s third album straightens out their soun...   0.247076  \n",
       "260  Recorded with a 60-piece orchestra, the Radioh...   0.246984  \n",
       "205  Six Organs of Admittance’s Ben Chasny invites ...   0.244322  "
      ]
     },
     "execution_count": 41,
     "metadata": {},
     "output_type": "execute_result"
    }
   ],
   "source": [
    "songs.nlargest(10, 'sentiment')"
   ]
  },
  {
   "cell_type": "code",
   "execution_count": 42,
   "metadata": {
    "slideshow": {
     "slide_type": "slide"
    }
   },
   "outputs": [
    {
     "data": {
      "text/plain": [
       "' Crain’s hopes are realized on , an album worth hanging on your wall and staring at for a long time.'"
      ]
     },
     "execution_count": 42,
     "metadata": {},
     "output_type": "execute_result"
    }
   ],
   "source": [
    "songs.loc[540, 'text'][-100:]"
   ]
  },
  {
   "cell_type": "code",
   "execution_count": 43,
   "metadata": {
    "slideshow": {
     "slide_type": "subslide"
    }
   },
   "outputs": [
    {
     "data": {
      "text/html": [
       "<div>\n",
       "<style scoped>\n",
       "    .dataframe tbody tr th:only-of-type {\n",
       "        vertical-align: middle;\n",
       "    }\n",
       "\n",
       "    .dataframe tbody tr th {\n",
       "        vertical-align: top;\n",
       "    }\n",
       "\n",
       "    .dataframe thead th {\n",
       "        text-align: right;\n",
       "    }\n",
       "</style>\n",
       "<table border=\"1\" class=\"dataframe\">\n",
       "  <thead>\n",
       "    <tr style=\"text-align: right;\">\n",
       "      <th></th>\n",
       "      <th>album</th>\n",
       "      <th>artists</th>\n",
       "      <th>text</th>\n",
       "      <th>sentiment</th>\n",
       "    </tr>\n",
       "  </thead>\n",
       "  <tbody>\n",
       "    <tr>\n",
       "      <th>237</th>\n",
       "      <td>The Beautiful &amp; Damned</td>\n",
       "      <td>G-Eazy</td>\n",
       "      <td>The new album from Oakland rapper G-Eazy is a ...</td>\n",
       "      <td>-0.080848</td>\n",
       "    </tr>\n",
       "    <tr>\n",
       "      <th>555</th>\n",
       "      <td>No Shame</td>\n",
       "      <td>Hopsin</td>\n",
       "      <td>On his corrosive fifth album, the rapper takes...</td>\n",
       "      <td>-0.073474</td>\n",
       "    </tr>\n",
       "    <tr>\n",
       "      <th>487</th>\n",
       "      <td>Rest</td>\n",
       "      <td>Charlotte Gainsbourg</td>\n",
       "      <td>Best new musicSung mostly in French, Gainsbour...</td>\n",
       "      <td>-0.039959</td>\n",
       "    </tr>\n",
       "    <tr>\n",
       "      <th>141</th>\n",
       "      <td>Goat Girl</td>\n",
       "      <td>Goat Girl</td>\n",
       "      <td>The debut LP from this South London band is ab...</td>\n",
       "      <td>-0.038142</td>\n",
       "    </tr>\n",
       "    <tr>\n",
       "      <th>165</th>\n",
       "      <td>Total Xanarchy</td>\n",
       "      <td>Lil Xan</td>\n",
       "      <td>On his debut album, the standard-bearer of the...</td>\n",
       "      <td>-0.020340</td>\n",
       "    </tr>\n",
       "    <tr>\n",
       "      <th>264</th>\n",
       "      <td>Somewhere Else</td>\n",
       "      <td>Profligate</td>\n",
       "      <td>On their quietly commanding darkwave record, s...</td>\n",
       "      <td>-0.016461</td>\n",
       "    </tr>\n",
       "    <tr>\n",
       "      <th>468</th>\n",
       "      <td>Walk Among Us</td>\n",
       "      <td>Misfits</td>\n",
       "      <td>They were outliers when they started, but by t...</td>\n",
       "      <td>-0.005458</td>\n",
       "    </tr>\n",
       "    <tr>\n",
       "      <th>336</th>\n",
       "      <td>In Tongues EP</td>\n",
       "      <td>Joji</td>\n",
       "      <td>The former YouTube star’s debut EP establishes...</td>\n",
       "      <td>-0.004661</td>\n",
       "    </tr>\n",
       "    <tr>\n",
       "      <th>107</th>\n",
       "      <td>Edgewood</td>\n",
       "      <td>Trouble</td>\n",
       "      <td>Newly signed to Mike WiLL’s label, the Atlanta...</td>\n",
       "      <td>-0.002059</td>\n",
       "    </tr>\n",
       "    <tr>\n",
       "      <th>484</th>\n",
       "      <td>The Animal Spirits</td>\n",
       "      <td>James HoldenThe Animal Spirits</td>\n",
       "      <td>Electronic producer James Holden has remade hi...</td>\n",
       "      <td>0.005320</td>\n",
       "    </tr>\n",
       "  </tbody>\n",
       "</table>\n",
       "</div>"
      ],
      "text/plain": [
       "                      album                         artists  \\\n",
       "237  The Beautiful & Damned                          G-Eazy   \n",
       "555                No Shame                          Hopsin   \n",
       "487                    Rest            Charlotte Gainsbourg   \n",
       "141               Goat Girl                      Goat Girl    \n",
       "165          Total Xanarchy                         Lil Xan   \n",
       "264          Somewhere Else                     Profligate    \n",
       "468           Walk Among Us                         Misfits   \n",
       "336           In Tongues EP                            Joji   \n",
       "107                Edgewood                         Trouble   \n",
       "484      The Animal Spirits  James HoldenThe Animal Spirits   \n",
       "\n",
       "                                                  text  sentiment  \n",
       "237  The new album from Oakland rapper G-Eazy is a ...  -0.080848  \n",
       "555  On his corrosive fifth album, the rapper takes...  -0.073474  \n",
       "487  Best new musicSung mostly in French, Gainsbour...  -0.039959  \n",
       "141  The debut LP from this South London band is ab...  -0.038142  \n",
       "165  On his debut album, the standard-bearer of the...  -0.020340  \n",
       "264  On their quietly commanding darkwave record, s...  -0.016461  \n",
       "468  They were outliers when they started, but by t...  -0.005458  \n",
       "336  The former YouTube star’s debut EP establishes...  -0.004661  \n",
       "107  Newly signed to Mike WiLL’s label, the Atlanta...  -0.002059  \n",
       "484  Electronic producer James Holden has remade hi...   0.005320  "
      ]
     },
     "execution_count": 43,
     "metadata": {},
     "output_type": "execute_result"
    }
   ],
   "source": [
    "songs.nsmallest(10, 'sentiment')"
   ]
  },
  {
   "cell_type": "code",
   "execution_count": 44,
   "metadata": {
    "slideshow": {
     "slide_type": "slide"
    }
   },
   "outputs": [
    {
     "data": {
      "text/plain": [
       "'c outlook. Amid the myopia, the constant navel-gazing, and the show biz boilerplates, his contemptuous takes on stardom ultimately prove to be hollow.'"
      ]
     },
     "execution_count": 44,
     "metadata": {},
     "output_type": "execute_result"
    }
   ],
   "source": [
    "songs.loc[237, 'text'][-150:]"
   ]
  },
  {
   "cell_type": "code",
   "execution_count": 45,
   "metadata": {
    "slideshow": {
     "slide_type": "subslide"
    }
   },
   "outputs": [
    {
     "data": {
      "text/plain": [
       "'They were outliers when they started, but by the time their classic debut arrived in 1982, Misfits’ gleeful, ghoulish punk rock was exactly in tune with the national mood.In 1982, America hungered for horror. As the president yanked the country to the right and tensions with Russia portended mutual assured destruction, fans flocked to see George A. Romero’s  and ’s —two films that uniquely revived 1950s scares for the new nuclear age, using goofy camp and gruesome social commentary to speak to a terrifying reality. Into this fraught atmosphere,  dropped their magnificently malignant debut full-length, .When they formed in the late ’70s, Misfits were the wrong band at the wrong time. Frontman  was a working-class kid from Lodi, New Jersey; he and bassist  were directly inspired by the Briti'"
      ]
     },
     "execution_count": 45,
     "metadata": {},
     "output_type": "execute_result"
    }
   ],
   "source": [
    "songs.loc[468, 'text'][:800]"
   ]
  },
  {
   "cell_type": "markdown",
   "metadata": {
    "slideshow": {
     "slide_type": "slide"
    }
   },
   "source": [
    "## Emotional DJ"
   ]
  },
  {
   "cell_type": "code",
   "execution_count": 46,
   "metadata": {
    "slideshow": {
     "slide_type": "subslide"
    }
   },
   "outputs": [],
   "source": [
    "def get_records(keywords):\n",
    "    sub_df = songs[songs.text.str.contains(keywords)]\n",
    "    return sub_df.nlargest(5, 'sentiment')"
   ]
  },
  {
   "cell_type": "code",
   "execution_count": 47,
   "metadata": {
    "slideshow": {
     "slide_type": "subslide"
    }
   },
   "outputs": [
    {
     "data": {
      "text/html": [
       "<div>\n",
       "<style scoped>\n",
       "    .dataframe tbody tr th:only-of-type {\n",
       "        vertical-align: middle;\n",
       "    }\n",
       "\n",
       "    .dataframe tbody tr th {\n",
       "        vertical-align: top;\n",
       "    }\n",
       "\n",
       "    .dataframe thead th {\n",
       "        text-align: right;\n",
       "    }\n",
       "</style>\n",
       "<table border=\"1\" class=\"dataframe\">\n",
       "  <thead>\n",
       "    <tr style=\"text-align: right;\">\n",
       "      <th></th>\n",
       "      <th>album</th>\n",
       "      <th>artists</th>\n",
       "      <th>text</th>\n",
       "      <th>sentiment</th>\n",
       "    </tr>\n",
       "  </thead>\n",
       "  <tbody>\n",
       "    <tr>\n",
       "      <th>540</th>\n",
       "      <td>Bajas Fresh</td>\n",
       "      <td>Bitchin Bajas</td>\n",
       "      <td>Over seven tracks that span 80 minutes, the ex...</td>\n",
       "      <td>0.301116</td>\n",
       "    </tr>\n",
       "    <tr>\n",
       "      <th>241</th>\n",
       "      <td>Drum Dance to the Motherland</td>\n",
       "      <td>The Khan Jamal Creative Arts Ensemble</td>\n",
       "      <td>A long-forgotten gem of experimental jazz gets...</td>\n",
       "      <td>0.276320</td>\n",
       "    </tr>\n",
       "    <tr>\n",
       "      <th>580</th>\n",
       "      <td>Say Less</td>\n",
       "      <td>Roy Wood$</td>\n",
       "      <td>OVO Sound signee Roy Wood$ offers a chilled-ou...</td>\n",
       "      <td>0.271008</td>\n",
       "    </tr>\n",
       "    <tr>\n",
       "      <th>475</th>\n",
       "      <td>The Space Between</td>\n",
       "      <td>Majid Jordan</td>\n",
       "      <td>The refined sophomore album from Majid Jordan—...</td>\n",
       "      <td>0.268265</td>\n",
       "    </tr>\n",
       "    <tr>\n",
       "      <th>571</th>\n",
       "      <td>Yes Lawd! Remixes</td>\n",
       "      <td>NxWorries</td>\n",
       "      <td>On this collection of remixes from Anderson .P...</td>\n",
       "      <td>0.267699</td>\n",
       "    </tr>\n",
       "  </tbody>\n",
       "</table>\n",
       "</div>"
      ],
      "text/plain": [
       "                            album                                artists  \\\n",
       "540                   Bajas Fresh                          Bitchin Bajas   \n",
       "241  Drum Dance to the Motherland  The Khan Jamal Creative Arts Ensemble   \n",
       "580                      Say Less                              Roy Wood$   \n",
       "475             The Space Between                           Majid Jordan   \n",
       "571             Yes Lawd! Remixes                              NxWorries   \n",
       "\n",
       "                                                  text  sentiment  \n",
       "540  Over seven tracks that span 80 minutes, the ex...   0.301116  \n",
       "241  A long-forgotten gem of experimental jazz gets...   0.276320  \n",
       "580  OVO Sound signee Roy Wood$ offers a chilled-ou...   0.271008  \n",
       "475  The refined sophomore album from Majid Jordan—...   0.268265  \n",
       "571  On this collection of remixes from Anderson .P...   0.267699  "
      ]
     },
     "execution_count": 47,
     "metadata": {},
     "output_type": "execute_result"
    }
   ],
   "source": [
    "get_records('rap')"
   ]
  },
  {
   "cell_type": "code",
   "execution_count": 48,
   "metadata": {
    "slideshow": {
     "slide_type": "subslide"
    }
   },
   "outputs": [
    {
     "data": {
      "text/html": [
       "<div>\n",
       "<style scoped>\n",
       "    .dataframe tbody tr th:only-of-type {\n",
       "        vertical-align: middle;\n",
       "    }\n",
       "\n",
       "    .dataframe tbody tr th {\n",
       "        vertical-align: top;\n",
       "    }\n",
       "\n",
       "    .dataframe thead th {\n",
       "        text-align: right;\n",
       "    }\n",
       "</style>\n",
       "<table border=\"1\" class=\"dataframe\">\n",
       "  <thead>\n",
       "    <tr style=\"text-align: right;\">\n",
       "      <th></th>\n",
       "      <th>album</th>\n",
       "      <th>artists</th>\n",
       "      <th>text</th>\n",
       "      <th>sentiment</th>\n",
       "    </tr>\n",
       "  </thead>\n",
       "  <tbody>\n",
       "    <tr>\n",
       "      <th>205</th>\n",
       "      <td>Hexadic III</td>\n",
       "      <td></td>\n",
       "      <td>Six Organs of Admittance’s Ben Chasny invites ...</td>\n",
       "      <td>0.244322</td>\n",
       "    </tr>\n",
       "    <tr>\n",
       "      <th>170</th>\n",
       "      <td>Sparrow</td>\n",
       "      <td>Ashley Monroe</td>\n",
       "      <td>The Nashville singer-songwriter looks backward...</td>\n",
       "      <td>0.240628</td>\n",
       "    </tr>\n",
       "    <tr>\n",
       "      <th>281</th>\n",
       "      <td>Marble Skies</td>\n",
       "      <td>Django Django</td>\n",
       "      <td>The mad scientists of UK psych-rock take an un...</td>\n",
       "      <td>0.228349</td>\n",
       "    </tr>\n",
       "    <tr>\n",
       "      <th>333</th>\n",
       "      <td>Hundred Acres</td>\n",
       "      <td>S. Carey</td>\n",
       "      <td>As his solo career gains momentum, the second-...</td>\n",
       "      <td>0.214583</td>\n",
       "    </tr>\n",
       "    <tr>\n",
       "      <th>537</th>\n",
       "      <td>Mount Qaf (Divine Love)</td>\n",
       "      <td>Peter Matthew Bauer</td>\n",
       "      <td>Peter Matthew Bauer, bassist and organist in t...</td>\n",
       "      <td>0.213078</td>\n",
       "    </tr>\n",
       "  </tbody>\n",
       "</table>\n",
       "</div>"
      ],
      "text/plain": [
       "                       album              artists  \\\n",
       "205              Hexadic III                        \n",
       "170                  Sparrow        Ashley Monroe   \n",
       "281             Marble Skies        Django Django   \n",
       "333            Hundred Acres             S. Carey   \n",
       "537  Mount Qaf (Divine Love)  Peter Matthew Bauer   \n",
       "\n",
       "                                                  text  sentiment  \n",
       "205  Six Organs of Admittance’s Ben Chasny invites ...   0.244322  \n",
       "170  The Nashville singer-songwriter looks backward...   0.240628  \n",
       "281  The mad scientists of UK psych-rock take an un...   0.228349  \n",
       "333  As his solo career gains momentum, the second-...   0.214583  \n",
       "537  Peter Matthew Bauer, bassist and organist in t...   0.213078  "
      ]
     },
     "execution_count": 48,
     "metadata": {},
     "output_type": "execute_result"
    }
   ],
   "source": [
    "get_records('country')"
   ]
  },
  {
   "cell_type": "code",
   "execution_count": 49,
   "metadata": {
    "slideshow": {
     "slide_type": "subslide"
    }
   },
   "outputs": [
    {
     "data": {
      "text/html": [
       "<div>\n",
       "<style scoped>\n",
       "    .dataframe tbody tr th:only-of-type {\n",
       "        vertical-align: middle;\n",
       "    }\n",
       "\n",
       "    .dataframe tbody tr th {\n",
       "        vertical-align: top;\n",
       "    }\n",
       "\n",
       "    .dataframe thead th {\n",
       "        text-align: right;\n",
       "    }\n",
       "</style>\n",
       "<table border=\"1\" class=\"dataframe\">\n",
       "  <thead>\n",
       "    <tr style=\"text-align: right;\">\n",
       "      <th></th>\n",
       "      <th>album</th>\n",
       "      <th>artists</th>\n",
       "      <th>text</th>\n",
       "      <th>sentiment</th>\n",
       "    </tr>\n",
       "  </thead>\n",
       "  <tbody>\n",
       "    <tr>\n",
       "      <th>175</th>\n",
       "      <td>The Deconstruction</td>\n",
       "      <td>Eels</td>\n",
       "      <td>On Eels’ 12th album, Mark Everett trots out hi...</td>\n",
       "      <td>0.207998</td>\n",
       "    </tr>\n",
       "    <tr>\n",
       "      <th>298</th>\n",
       "      <td>Something/Anything?A Wizard, a True Star</td>\n",
       "      <td>Todd RundgrenTodd Rundgren</td>\n",
       "      <td>1 / 2 AlbumsThe wildly ambitious albums that c...</td>\n",
       "      <td>0.182923</td>\n",
       "    </tr>\n",
       "    <tr>\n",
       "      <th>632</th>\n",
       "      <td>Plum</td>\n",
       "      <td>Wand</td>\n",
       "      <td>The new album from Cory Hanson’s band Wand is ...</td>\n",
       "      <td>0.143373</td>\n",
       "    </tr>\n",
       "    <tr>\n",
       "      <th>76</th>\n",
       "      <td>Jericho Sirens</td>\n",
       "      <td>Hot Snakes</td>\n",
       "      <td>Teeming with revved-up riffs and apocalyptic i...</td>\n",
       "      <td>0.138615</td>\n",
       "    </tr>\n",
       "    <tr>\n",
       "      <th>651</th>\n",
       "      <td>As You Were</td>\n",
       "      <td>Liam Gallagher</td>\n",
       "      <td>The debut solo album from the 45-year-old, wou...</td>\n",
       "      <td>0.137974</td>\n",
       "    </tr>\n",
       "  </tbody>\n",
       "</table>\n",
       "</div>"
      ],
      "text/plain": [
       "                                        album                     artists  \\\n",
       "175                        The Deconstruction                        Eels   \n",
       "298  Something/Anything?A Wizard, a True Star  Todd RundgrenTodd Rundgren   \n",
       "632                                      Plum                        Wand   \n",
       "76                             Jericho Sirens                  Hot Snakes   \n",
       "651                               As You Were              Liam Gallagher   \n",
       "\n",
       "                                                  text  sentiment  \n",
       "175  On Eels’ 12th album, Mark Everett trots out hi...   0.207998  \n",
       "298  1 / 2 AlbumsThe wildly ambitious albums that c...   0.182923  \n",
       "632  The new album from Cory Hanson’s band Wand is ...   0.143373  \n",
       "76   Teeming with revved-up riffs and apocalyptic i...   0.138615  \n",
       "651  The debut solo album from the 45-year-old, wou...   0.137974  "
      ]
     },
     "execution_count": 49,
     "metadata": {},
     "output_type": "execute_result"
    }
   ],
   "source": [
    "get_records('classic rock')"
   ]
  },
  {
   "cell_type": "markdown",
   "metadata": {
    "slideshow": {
     "slide_type": "slide"
    }
   },
   "source": [
    "## Word Clouds"
   ]
  },
  {
   "cell_type": "code",
   "execution_count": 52,
   "metadata": {
    "slideshow": {
     "slide_type": "subslide"
    }
   },
   "outputs": [],
   "source": [
    "from wordcloud import WordCloud, STOPWORDS\n",
    "text = ''\n",
    "rock = get_records('classic rock')\n",
    "for review in rock.text:\n",
    "    text += review "
   ]
  },
  {
   "cell_type": "code",
   "execution_count": 53,
   "metadata": {
    "slideshow": {
     "slide_type": "subslide"
    }
   },
   "outputs": [],
   "source": [
    "wordcloud = WordCloud(stopwords = STOPWORDS, background_color = 'white').generate(text)"
   ]
  },
  {
   "cell_type": "code",
   "execution_count": 54,
   "metadata": {
    "slideshow": {
     "slide_type": "subslide"
    }
   },
   "outputs": [
    {
     "data": {
      "image/png": "[encoded data removed]",
      "text/plain": [
       "<Figure size 432x288 with 1 Axes>"
      ]
     },
     "metadata": {
      "needs_background": "light"
     },
     "output_type": "display_data"
    }
   ],
   "source": [
    "plt.imshow(wordcloud)\n",
    "plt.axis('off')\n",
    "plt.show()"
   ]
  },
  {
   "cell_type": "code",
   "execution_count": 55,
   "metadata": {
    "slideshow": {
     "slide_type": "slide"
    }
   },
   "outputs": [],
   "source": [
    "def rev_cloud(words):\n",
    "    text = ''\n",
    "    roev = get_records(words)\n",
    "    for review in roev.text:\n",
    "        text += review \n",
    "    wordcloud = WordCloud(stopwords = STOPWORDS, background_color = 'white').generate(text)\n",
    "    plt.imshow(wordcloud)\n",
    "    plt.axis('off')\n",
    "    plt.show()"
   ]
  },
  {
   "cell_type": "code",
   "execution_count": 56,
   "metadata": {
    "slideshow": {
     "slide_type": "subslide"
    }
   },
   "outputs": [
    {
     "data": {
      "image/png": "[encoded data removed]",
      "text/plain": [
       "<Figure size 432x288 with 1 Axes>"
      ]
     },
     "metadata": {
      "needs_background": "light"
     },
     "output_type": "display_data"
    }
   ],
   "source": [
    "rev_cloud('cowboy')"
   ]
  },
  {
   "cell_type": "markdown",
   "metadata": {
    "slideshow": {
     "slide_type": "slide"
    }
   },
   "source": [
    "## Corpus Reader"
   ]
  },
  {
   "cell_type": "code",
   "execution_count": 57,
   "metadata": {
    "slideshow": {
     "slide_type": "fragment"
    }
   },
   "outputs": [],
   "source": [
    "from nltk.corpus import PlaintextCorpusReader"
   ]
  },
  {
   "cell_type": "code",
   "execution_count": 65,
   "metadata": {
    "slideshow": {
     "slide_type": "fragment"
    }
   },
   "outputs": [],
   "source": [
    "root = './'\n",
    "filetype = '.*txt'\n",
    "corpus = PlaintextCorpusReader(root, filetype)"
   ]
  },
  {
   "cell_type": "code",
   "execution_count": 66,
   "metadata": {
    "slideshow": {
     "slide_type": "slide"
    }
   },
   "outputs": [
    {
     "data": {
      "text/plain": [
       "['alice.txt']"
      ]
     },
     "execution_count": 66,
     "metadata": {},
     "output_type": "execute_result"
    }
   ],
   "source": [
    "corpus.fileids()[:5]"
   ]
  },
  {
   "cell_type": "code",
   "execution_count": 67,
   "metadata": {
    "slideshow": {
     "slide_type": "subslide"
    }
   },
   "outputs": [
    {
     "data": {
      "text/plain": [
       "\" away or\\r\\nre-use it under the terms of the Project Gutenberg License included\\r\\nwith this eBook or online at www.gutenberg.net\\r\\n\\r\\n\\r\\nTitle: Alice's Adventures in Wonderland\\r\\n       Illustrated by Arthur Rackham. With a Proem by Austin Dobson\\r\\n\\r\\nAuthor: Lewis Carroll\\r\\n\\r\\nIllustrator: Arthur Rackham\\r\\n\\r\\nR\""
      ]
     },
     "execution_count": 67,
     "metadata": {},
     "output_type": "execute_result"
    }
   ],
   "source": [
    "corpus.raw()[200:500]"
   ]
  },
  {
   "cell_type": "code",
   "execution_count": 68,
   "metadata": {
    "slideshow": {
     "slide_type": "slide"
    }
   },
   "outputs": [
    {
     "data": {
      "image/png": "[encoded data removed]",
      "text/plain": [
       "<Figure size 432x288 with 1 Axes>"
      ]
     },
     "metadata": {
      "needs_background": "light"
     },
     "output_type": "display_data"
    }
   ],
   "source": [
    "text = ''\n",
    "for word in corpus.raw():\n",
    "    text += word\n",
    "wordcloud = WordCloud(stopwords = STOPWORDS, background_color = 'white', colormap = 'magma', height = 600, width = 1200).generate(text)\n",
    "plt.imshow(wordcloud)\n",
    "plt.axis('off')\n",
    "plt.show()"
   ]
  },
  {
   "cell_type": "code",
   "execution_count": 69,
   "metadata": {
    "slideshow": {
     "slide_type": "subslide"
    }
   },
   "outputs": [
    {
     "data": {
      "text/plain": [
       "5"
      ]
     },
     "execution_count": 69,
     "metadata": {},
     "output_type": "execute_result"
    }
   ],
   "source": [
    "len(get_records('pop'))"
   ]
  },
  {
   "cell_type": "code",
   "execution_count": 70,
   "metadata": {
    "slideshow": {
     "slide_type": "slide"
    }
   },
   "outputs": [
    {
     "data": {
      "text/html": [
       "<div>\n",
       "<style scoped>\n",
       "    .dataframe tbody tr th:only-of-type {\n",
       "        vertical-align: middle;\n",
       "    }\n",
       "\n",
       "    .dataframe tbody tr th {\n",
       "        vertical-align: top;\n",
       "    }\n",
       "\n",
       "    .dataframe thead th {\n",
       "        text-align: right;\n",
       "    }\n",
       "</style>\n",
       "<table border=\"1\" class=\"dataframe\">\n",
       "  <thead>\n",
       "    <tr style=\"text-align: right;\">\n",
       "      <th></th>\n",
       "      <th>album</th>\n",
       "      <th>artists</th>\n",
       "      <th>text</th>\n",
       "      <th>sentiment</th>\n",
       "    </tr>\n",
       "  </thead>\n",
       "  <tbody>\n",
       "    <tr>\n",
       "      <th>580</th>\n",
       "      <td>Say Less</td>\n",
       "      <td>Roy Wood$</td>\n",
       "      <td>OVO Sound signee Roy Wood$ offers a chilled-ou...</td>\n",
       "      <td>0.271008</td>\n",
       "    </tr>\n",
       "    <tr>\n",
       "      <th>475</th>\n",
       "      <td>The Space Between</td>\n",
       "      <td>Majid Jordan</td>\n",
       "      <td>The refined sophomore album from Majid Jordan—...</td>\n",
       "      <td>0.268265</td>\n",
       "    </tr>\n",
       "    <tr>\n",
       "      <th>7</th>\n",
       "      <td>Universal Love: Wedding Songs Reimagined EP</td>\n",
       "      <td></td>\n",
       "      <td>Featuring Bob Dylan, St. Vincent, and Ben Gibb...</td>\n",
       "      <td>0.248650</td>\n",
       "    </tr>\n",
       "    <tr>\n",
       "      <th>260</th>\n",
       "      <td>Phantom Thread Original Motion Picture Soundtrack</td>\n",
       "      <td>Jonny Greenwood</td>\n",
       "      <td>Recorded with a 60-piece orchestra, the Radioh...</td>\n",
       "      <td>0.246984</td>\n",
       "    </tr>\n",
       "    <tr>\n",
       "      <th>586</th>\n",
       "      <td>Kick</td>\n",
       "      <td>INXS</td>\n",
       "      <td>Best new reissueThe 30th-anniversary edition o...</td>\n",
       "      <td>0.242337</td>\n",
       "    </tr>\n",
       "  </tbody>\n",
       "</table>\n",
       "</div>"
      ],
      "text/plain": [
       "                                                 album          artists  \\\n",
       "580                                           Say Less        Roy Wood$   \n",
       "475                                  The Space Between     Majid Jordan   \n",
       "7          Universal Love: Wedding Songs Reimagined EP                    \n",
       "260  Phantom Thread Original Motion Picture Soundtrack  Jonny Greenwood   \n",
       "586                                               Kick             INXS   \n",
       "\n",
       "                                                  text  sentiment  \n",
       "580  OVO Sound signee Roy Wood$ offers a chilled-ou...   0.271008  \n",
       "475  The refined sophomore album from Majid Jordan—...   0.268265  \n",
       "7    Featuring Bob Dylan, St. Vincent, and Ben Gibb...   0.248650  \n",
       "260  Recorded with a 60-piece orchestra, the Radioh...   0.246984  \n",
       "586  Best new reissueThe 30th-anniversary edition o...   0.242337  "
      ]
     },
     "execution_count": 70,
     "metadata": {},
     "output_type": "execute_result"
    }
   ],
   "source": [
    "text = get_records('pop')\n",
    "col_num = 2\n",
    "row_num = 3\n",
    "text"
   ]
  },
  {
   "cell_type": "code",
   "execution_count": 71,
   "metadata": {
    "slideshow": {
     "slide_type": "slide"
    }
   },
   "outputs": [
    {
     "data": {
      "image/png": "[encoded data removed]",
      "text/plain": [
       "<Figure size 1152x864 with 5 Axes>"
      ]
     },
     "metadata": {
      "needs_background": "light"
     },
     "output_type": "display_data"
    }
   ],
   "source": [
    "fig, axes = plt.subplots(1,5, figsize = (16, 12))\n",
    "count = 1\n",
    "for rev in text['text']:\n",
    "    plt.subplot(1, 5, count)\n",
    "    cloud = wordcloud = WordCloud().generate(rev)\n",
    "    plt.imshow(cloud)\n",
    "    plt.axis('off')\n",
    "    count += 1"
   ]
  },
  {
   "cell_type": "markdown",
   "metadata": {
    "slideshow": {
     "slide_type": "slide"
    }
   },
   "source": [
    "## Valence Sentiment\n",
    "\n"
   ]
  },
  {
   "cell_type": "code",
   "execution_count": 75,
   "metadata": {
    "slideshow": {
     "slide_type": "skip"
    }
   },
   "outputs": [],
   "source": [
    "# !pip install vaderSentiment"
   ]
  },
  {
   "cell_type": "code",
   "execution_count": 76,
   "metadata": {
    "slideshow": {
     "slide_type": "subslide"
    }
   },
   "outputs": [],
   "source": [
    "from vaderSentiment.vaderSentiment import SentimentIntensityAnalyzer\n",
    "from nltk import sent_tokenize"
   ]
  },
  {
   "cell_type": "code",
   "execution_count": 77,
   "metadata": {
    "slideshow": {
     "slide_type": "subslide"
    }
   },
   "outputs": [
    {
     "name": "stdout",
     "output_type": "stream",
     "text": [
      "Smoke DZA 0.09841666666666667 0.02245833333333333 0.8790833333333333 0.2827708333333333\n",
      "Makeness 0.07637499999999998 0.0538125 0.86975 0.17410625\n",
      "Ricky Eat Acid 0.10129166666666667 0.030125 0.868625 0.260825\n",
      "Entourage 0.09840625 0.0255625 0.8760312499999999 0.283175\n",
      "The Weeknd 0.10673684210526316 0.05499999999999999 0.8382105263157893 0.2008578947368421\n",
      "The Messthetics 0.07971428571428571 0.039642857142857146 0.8806428571428572 0.19982142857142857\n",
      "No JoySonic Boom 0.0784736842105263 0.03757894736842105 0.8839999999999999 0.20490000000000003\n",
      " 0.15425 0.03029166666666667 0.8154166666666667 0.40077083333333335\n",
      "Françoise Hardy 0.17800000000000005 0.0296875 0.7923125 0.48922499999999997\n",
      "Flatbush Zombies 0.08713333333333334 0.0577 0.8550666666666668 0.15604666666666667\n",
      "A Place to Bury Strangers 0.11235294117647059 0.038470588235294124 0.8491764705882354 0.2838176470588235\n",
      "Tinashe 0.07552941176470589 0.03111764705882353 0.8932941176470587 0.1978588235294117\n",
      "Park Jiha 0.10695652173913044 0.0542608695652174 0.8388260869565218 0.1777304347826087\n",
      "Saweetie 0.12713333333333332 0.04800000000000001 0.8248 0.40040666666666663\n",
      "Soccer Mommy 0.14216666666666666 0.06623333333333334 0.7916666666666665 0.21187333333333333\n",
      "Haley Heynderickx 0.10623809523809524 0.07257142857142856 0.8211428571428572 0.07001428571428574\n",
      " 0.07086046511627905 0.04906976744186047 0.8800697674418605 0.06959302325581396\n",
      "Bishop Nehru 0.09376190476190478 0.09085714285714287 0.8154761904761906 0.029895238095238117\n",
      "Rich Homie Quan 0.078125 0.05408333333333334 0.8678333333333331 0.13292083333333332\n",
      "Kash Doll 0.09452380952380951 0.05461904761904762 0.8509523809523811 0.17826190476190476\n"
     ]
    }
   ],
   "source": [
    "headers = ['pos', 'neg', 'neu', 'compound']\n",
    "texts = songs.text\n",
    "analyzer = SentimentIntensityAnalyzer()\n",
    "for i in range(len(texts[:20])):\n",
    "    sentences = sent_tokenize(texts[i])\n",
    "    pos = compound = neu = neg = 0\n",
    "    for sentence in sentences:\n",
    "        vs = analyzer.polarity_scores(sentence)\n",
    "        pos += vs['pos']/(len(sentences))\n",
    "        compound += vs['compound']/(len(sentences))\n",
    "        neu += vs['neu']/(len(sentences))\n",
    "        neg += vs['neg']/len(sentences)\n",
    "    print(songs.iloc[i]['artists'], pos, neg, neu, compound)\n",
    "    "
   ]
  },
  {
   "cell_type": "code",
   "execution_count": 78,
   "metadata": {
    "slideshow": {
     "slide_type": "slide"
    }
   },
   "outputs": [],
   "source": [
    "def vader_comparison(texts):\n",
    "    from vaderSentiment.vaderSentiment import SentimentIntensityAnalyzer\n",
    "    from nltk import sent_tokenize\n",
    "    headers = ['pos', 'neg', 'neu', 'compound']\n",
    "    analyzer = SentimentIntensityAnalyzer()\n",
    "    print('Album\\t\\t\\t\\t\\t', 'pos\\t', 'neg\\t', 'neu\\t', 'compound')\n",
    "    print('-----------------------------------------------------------------------')\n",
    "    for i in range(len(texts[:5])):\n",
    "        sentences = sent_tokenize(texts[i])\n",
    "        pos = compound = neu = neg = 0\n",
    "        for sentence in sentences:\n",
    "            vs = analyzer.polarity_scores(sentence)\n",
    "            pos += vs['pos']/(len(sentences))\n",
    "            compound += vs['compound']/(len(sentences))\n",
    "            neu += vs['neu']/(len(sentences))\n",
    "            neg += vs['neg']/len(sentences)\n",
    "        print('%-20s\\t\\t\\t'%songs.iloc[i]['artists'], '%1.2f\\t'%pos, '%1.2f\\t'%neg, '%1.2f\\t'%neu, '%1.2f\\t'%compound)\n"
   ]
  },
  {
   "cell_type": "code",
   "execution_count": 79,
   "metadata": {
    "slideshow": {
     "slide_type": "subslide"
    }
   },
   "outputs": [
    {
     "name": "stdout",
     "output_type": "stream",
     "text": [
      "Album\t\t\t\t\t pos\t neg\t neu\t compound\n",
      "-----------------------------------------------------------------------\n",
      "Smoke DZA           \t\t\t 0.10\t 0.02\t 0.88\t 0.28\t\n",
      "Makeness            \t\t\t 0.08\t 0.05\t 0.87\t 0.17\t\n",
      "Ricky Eat Acid      \t\t\t 0.10\t 0.03\t 0.87\t 0.26\t\n",
      "Entourage           \t\t\t 0.10\t 0.03\t 0.88\t 0.28\t\n",
      "The Weeknd          \t\t\t 0.11\t 0.05\t 0.84\t 0.20\t\n"
     ]
    }
   ],
   "source": [
    "vader_comparison(songs.text)"
   ]
  },
  {
   "cell_type": "markdown",
   "metadata": {
    "slideshow": {
     "slide_type": "slide"
    }
   },
   "source": [
    "## Complexity Analysis"
   ]
  },
  {
   "cell_type": "code",
   "execution_count": 81,
   "metadata": {
    "slideshow": {
     "slide_type": "subslide"
    }
   },
   "outputs": [],
   "source": [
    "root = './'\n",
    "filetype = '.*txt'\n",
    "corpus = PlaintextCorpusReader(root, filetype)"
   ]
  },
  {
   "cell_type": "code",
   "execution_count": 82,
   "metadata": {
    "slideshow": {
     "slide_type": "fragment"
    }
   },
   "outputs": [
    {
     "data": {
      "text/plain": [
       "39164"
      ]
     },
     "execution_count": 82,
     "metadata": {},
     "output_type": "execute_result"
    }
   ],
   "source": [
    "len(corpus.words())"
   ]
  },
  {
   "cell_type": "code",
   "execution_count": 83,
   "metadata": {
    "slideshow": {
     "slide_type": "fragment"
    }
   },
   "outputs": [
    {
     "data": {
      "text/plain": [
       "3866"
      ]
     },
     "execution_count": 83,
     "metadata": {},
     "output_type": "execute_result"
    }
   ],
   "source": [
    "len(set(corpus.words()))"
   ]
  },
  {
   "cell_type": "code",
   "execution_count": 84,
   "metadata": {
    "slideshow": {
     "slide_type": "fragment"
    }
   },
   "outputs": [],
   "source": [
    "lex_diversity = len(set(corpus.words()))/len(corpus.words())"
   ]
  },
  {
   "cell_type": "code",
   "execution_count": 85,
   "metadata": {
    "slideshow": {
     "slide_type": "fragment"
    }
   },
   "outputs": [
    {
     "data": {
      "text/plain": [
       "0.09871310387090185"
      ]
     },
     "execution_count": 85,
     "metadata": {},
     "output_type": "execute_result"
    }
   ],
   "source": [
    "lex_diversity"
   ]
  },
  {
   "cell_type": "markdown",
   "metadata": {
    "slideshow": {
     "slide_type": "slide"
    }
   },
   "source": [
    "## Named Entity Analysis\n",
    "\n",
    "[SpaCy Usage](https://spacy.io/usage/linguistic-features#entity-types)"
   ]
  },
  {
   "cell_type": "code",
   "execution_count": 86,
   "metadata": {
    "slideshow": {
     "slide_type": "slide"
    }
   },
   "outputs": [],
   "source": [
    "en = {}\n",
    "try:\n",
    "    sent_detector = nltk.data.load('tokenizers/punkt/english.pickle')\n",
    "    sentences = sent_detector.tokenize(corpus.raw())\n",
    "    for sentence in sentences:\n",
    "        tokenized = nltk.word_tokenize(sentence)\n",
    "        tagged = nltk.pos_tag(tokenized)\n",
    "        chunked = nltk.ne_chunk(tagged)\n",
    "        for tree in chunked:\n",
    "            if hasattr(tree, 'label'):\n",
    "                ne = ' '.join(c[0] for c in tree.leaves())\n",
    "                en[ne] = [tree.label(), ''.join(c[1] for c in tree.leaves())]\n",
    "except Exception as e:\n",
    "    print(str(e))"
   ]
  },
  {
   "cell_type": "code",
   "execution_count": 87,
   "metadata": {
    "slideshow": {
     "slide_type": "subslide"
    }
   },
   "outputs": [
    {
     "data": {
      "text/plain": [
       "301"
      ]
     },
     "execution_count": 87,
     "metadata": {},
     "output_type": "execute_result"
    }
   ],
   "source": [
    "import pprint\n",
    "pp = pprint.PrettyPrinter(indent = 4)\n",
    "len(en)"
   ]
  },
  {
   "cell_type": "code",
   "execution_count": 88,
   "metadata": {
    "slideshow": {
     "slide_type": "subslide"
    }
   },
   "outputs": [
    {
     "data": {
      "text/plain": [
       "['Gutenberg',\n",
       " 'Wonderland',\n",
       " 'Lewis Carroll',\n",
       " 'Project Gutenberg License',\n",
       " 'Arthur Rackham',\n",
       " 'Austin Dobson Author',\n",
       " 'Lewis Carroll Illustrator',\n",
       " 'Arthur Rackham Release Date',\n",
       " 'English',\n",
       " 'THIS',\n",
       " 'ADVENTURES',\n",
       " 'Jana Srna',\n",
       " 'Emmy',\n",
       " 'Online Distributed',\n",
       " 'University',\n",
       " 'Florida',\n",
       " 'Digital Collections',\n",
       " 'AUSTIN',\n",
       " 'DOBSON',\n",
       " 'CARROLL',\n",
       " 'Sent',\n",
       " 'Can',\n",
       " 'TENNIEL',\n",
       " 'Truth',\n",
       " 'LEAR',\n",
       " 'HAMLET',\n",
       " 'Types',\n",
       " 'Taste',\n",
       " 'RIP',\n",
       " '_AUSTIN',\n",
       " 'Ah',\n",
       " 'Beneath',\n",
       " 'Imperious',\n",
       " 'Prima',\n",
       " 'Secunda',\n",
       " 'Tertia',\n",
       " 'Anon',\n",
       " 'Alice',\n",
       " 'Childhood',\n",
       " 'Memory',\n",
       " 'Pluck',\n",
       " 'CONTENTS',\n",
       " 'POOL OF',\n",
       " 'LONG',\n",
       " 'RABBIT',\n",
       " 'LITTLE',\n",
       " 'PIG',\n",
       " 'AND',\n",
       " 'MAD',\n",
       " 'QUEEN',\n",
       " 'MOCK',\n",
       " 'TURTLE',\n",
       " 'LOBSTER',\n",
       " 'THE TARTS',\n",
       " 'EVIDENCE',\n",
       " 'LIST OF',\n",
       " 'THE',\n",
       " 'PLATES _To',\n",
       " 'Pool',\n",
       " 'Mary Ann',\n",
       " 'Queen',\n",
       " 'Knave',\n",
       " 'Mock Turtle',\n",
       " 'White Rabbit',\n",
       " 'Rabbit',\n",
       " 'ORANGE',\n",
       " 'Which',\n",
       " 'Down',\n",
       " 'Latitude',\n",
       " 'Longitude',\n",
       " 'Please',\n",
       " 'Australia',\n",
       " 'Dinah',\n",
       " 'DRINK',\n",
       " 'Tears_',\n",
       " 'CURIOUSER',\n",
       " 'Right Foot',\n",
       " 'Esq',\n",
       " 'Hearthrug',\n",
       " 'Fender',\n",
       " 'Poor',\n",
       " 'Duchess',\n",
       " 'Ada',\n",
       " 'Mabel',\n",
       " 'Multiplication Table',\n",
       " 'Geography',\n",
       " 'London',\n",
       " 'Paris',\n",
       " 'Rome',\n",
       " 'How',\n",
       " 'O Mouse',\n",
       " 'Latin Grammar',\n",
       " 'Mouse',\n",
       " 'French',\n",
       " 'William',\n",
       " 'Conqueror',\n",
       " '_I_',\n",
       " 'Eaglet',\n",
       " 'III',\n",
       " 'Long Tale_']"
      ]
     },
     "execution_count": 88,
     "metadata": {},
     "output_type": "execute_result"
    }
   ],
   "source": [
    "list(en)[:100]"
   ]
  },
  {
   "cell_type": "code",
   "execution_count": 89,
   "metadata": {
    "slideshow": {
     "slide_type": "slide"
    }
   },
   "outputs": [],
   "source": [
    "text = nlp(songs.text[4])"
   ]
  },
  {
   "cell_type": "code",
   "execution_count": 90,
   "metadata": {},
   "outputs": [
    {
     "data": {
      "text/html": [
       "<div class=\"entities\" style=\"line-height: 2.5; direction: ltr\">The \n",
       "<mark class=\"entity\" style=\"background: #aa9cfc; padding: 0.45em 0.6em; margin: 0 0.25em; line-height: 1; border-radius: 0.35em;\">\n",
       "    Weeknd\n",
       "    <span style=\"font-size: 0.8em; font-weight: bold; line-height: 1; border-radius: 0.35em; text-transform: uppercase; vertical-align: middle; margin-left: 0.5rem\">PERSON</span>\n",
       "</mark>\n",
       "’s new \n",
       "<mark class=\"entity\" style=\"background: #e4e7d2; padding: 0.45em 0.6em; margin: 0 0.25em; line-height: 1; border-radius: 0.35em;\">\n",
       "    six\n",
       "    <span style=\"font-size: 0.8em; font-weight: bold; line-height: 1; border-radius: 0.35em; text-transform: uppercase; vertical-align: middle; margin-left: 0.5rem\">CARDINAL</span>\n",
       "</mark>\n",
       "-song album finds him in limbo between the bleary-eyed vibe of his early mixtapes and the bulletproof pop stylings of his last \n",
       "<mark class=\"entity\" style=\"background: #e4e7d2; padding: 0.45em 0.6em; margin: 0 0.25em; line-height: 1; border-radius: 0.35em;\">\n",
       "    two\n",
       "    <span style=\"font-size: 0.8em; font-weight: bold; line-height: 1; border-radius: 0.35em; text-transform: uppercase; vertical-align: middle; margin-left: 0.5rem\">CARDINAL</span>\n",
       "</mark>\n",
       " albums.Over \n",
       "<mark class=\"entity\" style=\"background: #bfe1d9; padding: 0.45em 0.6em; margin: 0 0.25em; line-height: 1; border-radius: 0.35em;\">\n",
       "    the last five years\n",
       "    <span style=\"font-size: 0.8em; font-weight: bold; line-height: 1; border-radius: 0.35em; text-transform: uppercase; vertical-align: middle; margin-left: 0.5rem\">DATE</span>\n",
       "</mark>\n",
       ", \n",
       "<mark class=\"entity\" style=\"background: #aa9cfc; padding: 0.45em 0.6em; margin: 0 0.25em; line-height: 1; border-radius: 0.35em;\">\n",
       "    Abel Tesfaye\n",
       "    <span style=\"font-size: 0.8em; font-weight: bold; line-height: 1; border-radius: 0.35em; text-transform: uppercase; vertical-align: middle; margin-left: 0.5rem\">PERSON</span>\n",
       "</mark>\n",
       " has publicly executed a sort of artistic evolution-in-reverse, inching away from the oily R&amp;B aesthetic that propelled his initial ascent as the \n",
       "<mark class=\"entity\" style=\"background: #aa9cfc; padding: 0.45em 0.6em; margin: 0 0.25em; line-height: 1; border-radius: 0.35em;\">\n",
       "    Weeknd\n",
       "    <span style=\"font-size: 0.8em; font-weight: bold; line-height: 1; border-radius: 0.35em; text-transform: uppercase; vertical-align: middle; margin-left: 0.5rem\">PERSON</span>\n",
       "</mark>\n",
       " in order to seek pure pop omnipresence. And who can blame him? The early releases collected on \n",
       "<mark class=\"entity\" style=\"background: #bfe1d9; padding: 0.45em 0.6em; margin: 0 0.25em; line-height: 1; border-radius: 0.35em;\">\n",
       "    2012\n",
       "    <span style=\"font-size: 0.8em; font-weight: bold; line-height: 1; border-radius: 0.35em; text-transform: uppercase; vertical-align: middle; margin-left: 0.5rem\">DATE</span>\n",
       "</mark>\n",
       "’s triple-disc blowout  cast a long shadow of influence over modern pop, for better and . The mood those mixtapes captured—horny, druggy, and downright miserable, like a never-ending bender—was overbearing in a way that could suffocate creative growth, and eventually it did: \n",
       "<mark class=\"entity\" style=\"background: #bfe1d9; padding: 0.45em 0.6em; margin: 0 0.25em; line-height: 1; border-radius: 0.35em;\">\n",
       "    2013\n",
       "    <span style=\"font-size: 0.8em; font-weight: bold; line-height: 1; border-radius: 0.35em; text-transform: uppercase; vertical-align: middle; margin-left: 0.5rem\">DATE</span>\n",
       "</mark>\n",
       "’s  doubled down on ’s aesthetic received a tepid response critically and commercially. \n",
       "<mark class=\"entity\" style=\"background: #bfe1d9; padding: 0.45em 0.6em; margin: 0 0.25em; line-height: 1; border-radius: 0.35em;\">\n",
       "    Just a few years\n",
       "    <span style=\"font-size: 0.8em; font-weight: bold; line-height: 1; border-radius: 0.35em; text-transform: uppercase; vertical-align: middle; margin-left: 0.5rem\">DATE</span>\n",
       "</mark>\n",
       " into his career, it seemed like \n",
       "<mark class=\"entity\" style=\"background: #7aecec; padding: 0.45em 0.6em; margin: 0 0.25em; line-height: 1; border-radius: 0.35em;\">\n",
       "    Tesfaye\n",
       "    <span style=\"font-size: 0.8em; font-weight: bold; line-height: 1; border-radius: 0.35em; text-transform: uppercase; vertical-align: middle; margin-left: 0.5rem\">ORG</span>\n",
       "</mark>\n",
       " had already hit a creative dead-end.What followed was, even in this transparently careerist era of pop music, a fascinatingly direct dilution of the \n",
       "<mark class=\"entity\" style=\"background: #aa9cfc; padding: 0.45em 0.6em; margin: 0 0.25em; line-height: 1; border-radius: 0.35em;\">\n",
       "    Weeknd\n",
       "    <span style=\"font-size: 0.8em; font-weight: bold; line-height: 1; border-radius: 0.35em; text-transform: uppercase; vertical-align: middle; margin-left: 0.5rem\">PERSON</span>\n",
       "</mark>\n",
       "’s brand. Big-deal pop wizards like \n",
       "<mark class=\"entity\" style=\"background: #aa9cfc; padding: 0.45em 0.6em; margin: 0 0.25em; line-height: 1; border-radius: 0.35em;\">\n",
       "    Max Martin\n",
       "    <span style=\"font-size: 0.8em; font-weight: bold; line-height: 1; border-radius: 0.35em; text-transform: uppercase; vertical-align: middle; margin-left: 0.5rem\">PERSON</span>\n",
       "</mark>\n",
       " and  started sharing production credits alongside \n",
       "<mark class=\"entity\" style=\"background: #aa9cfc; padding: 0.45em 0.6em; margin: 0 0.25em; line-height: 1; border-radius: 0.35em;\">\n",
       "    O.G. Weeknd\n",
       "    <span style=\"font-size: 0.8em; font-weight: bold; line-height: 1; border-radius: 0.35em; text-transform: uppercase; vertical-align: middle; margin-left: 0.5rem\">PERSON</span>\n",
       "</mark>\n",
       " collaborators  and \n",
       "<mark class=\"entity\" style=\"background: #aa9cfc; padding: 0.45em 0.6em; margin: 0 0.25em; line-height: 1; border-radius: 0.35em;\">\n",
       "    Doc McKinney\n",
       "    <span style=\"font-size: 0.8em; font-weight: bold; line-height: 1; border-radius: 0.35em; text-transform: uppercase; vertical-align: middle; margin-left: 0.5rem\">PERSON</span>\n",
       "</mark>\n",
       ". And \n",
       "<mark class=\"entity\" style=\"background: #7aecec; padding: 0.45em 0.6em; margin: 0 0.25em; line-height: 1; border-radius: 0.35em;\">\n",
       "    Tesfaye\n",
       "    <span style=\"font-size: 0.8em; font-weight: bold; line-height: 1; border-radius: 0.35em; text-transform: uppercase; vertical-align: middle; margin-left: 0.5rem\">ORG</span>\n",
       "</mark>\n",
       ", who was once content to exploit anonymity as a marketing tool, could now be seen  in a promotional tie-in for .Increasingly, the \n",
       "<mark class=\"entity\" style=\"background: #feca74; padding: 0.45em 0.6em; margin: 0 0.25em; line-height: 1; border-radius: 0.35em;\">\n",
       "    Weeknd\n",
       "    <span style=\"font-size: 0.8em; font-weight: bold; line-height: 1; border-radius: 0.35em; text-transform: uppercase; vertical-align: middle; margin-left: 0.5rem\">GPE</span>\n",
       "</mark>\n",
       "’s musical output : You could hear him over , , , and . \n",
       "<mark class=\"entity\" style=\"background: #bfe1d9; padding: 0.45em 0.6em; margin: 0 0.25em; line-height: 1; border-radius: 0.35em;\">\n",
       "    2015\n",
       "    <span style=\"font-size: 0.8em; font-weight: bold; line-height: 1; border-radius: 0.35em; text-transform: uppercase; vertical-align: middle; margin-left: 0.5rem\">DATE</span>\n",
       "</mark>\n",
       "’s  was a bombastic Event Record streaked with aspirations of \n",
       "<mark class=\"entity\" style=\"background: #ff9561; padding: 0.45em 0.6em; margin: 0 0.25em; line-height: 1; border-radius: 0.35em;\">\n",
       "    Grammy\n",
       "    <span style=\"font-size: 0.8em; font-weight: bold; line-height: 1; border-radius: 0.35em; text-transform: uppercase; vertical-align: middle; margin-left: 0.5rem\">LOC</span>\n",
       "</mark>\n",
       " gold; \n",
       "<mark class=\"entity\" style=\"background: #bfe1d9; padding: 0.45em 0.6em; margin: 0 0.25em; line-height: 1; border-radius: 0.35em;\">\n",
       "    the following year\n",
       "    <span style=\"font-size: 0.8em; font-weight: bold; line-height: 1; border-radius: 0.35em; text-transform: uppercase; vertical-align: middle; margin-left: 0.5rem\">DATE</span>\n",
       "</mark>\n",
       "’s  pushed his newfound eclecticism into the red, a try-anything-once album that doubled as the \n",
       "<mark class=\"entity\" style=\"background: #ff9561; padding: 0.45em 0.6em; margin: 0 0.25em; line-height: 1; border-radius: 0.35em;\">\n",
       "    Weeknd\n",
       "    <span style=\"font-size: 0.8em; font-weight: bold; line-height: 1; border-radius: 0.35em; text-transform: uppercase; vertical-align: middle; margin-left: 0.5rem\">LOC</span>\n",
       "</mark>\n",
       "’s longest LP to date. Dreams of \n",
       "<mark class=\"entity\" style=\"background: #aa9cfc; padding: 0.45em 0.6em; margin: 0 0.25em; line-height: 1; border-radius: 0.35em;\">\n",
       "    Michael Jackson\n",
       "    <span style=\"font-size: 0.8em; font-weight: bold; line-height: 1; border-radius: 0.35em; text-transform: uppercase; vertical-align: middle; margin-left: 0.5rem\">PERSON</span>\n",
       "</mark>\n",
       " abounded on both records, to a sometimes comical extreme: Watch \n",
       "<mark class=\"entity\" style=\"background: #aa9cfc; padding: 0.45em 0.6em; margin: 0 0.25em; line-height: 1; border-radius: 0.35em;\">\n",
       "    Tesfaye\n",
       "    <span style=\"font-size: 0.8em; font-weight: bold; line-height: 1; border-radius: 0.35em; text-transform: uppercase; vertical-align: middle; margin-left: 0.5rem\">PERSON</span>\n",
       "</mark>\n",
       "  in the video for “,” and try not to think of  while filming a \n",
       "<mark class=\"entity\" style=\"background: #7aecec; padding: 0.45em 0.6em; margin: 0 0.25em; line-height: 1; border-radius: 0.35em;\">\n",
       "    Pepsi\n",
       "    <span style=\"font-size: 0.8em; font-weight: bold; line-height: 1; border-radius: 0.35em; text-transform: uppercase; vertical-align: middle; margin-left: 0.5rem\">ORG</span>\n",
       "</mark>\n",
       " commercial in 1984.The knowingly crass gambit—\n",
       "<mark class=\"entity\" style=\"background: #7aecec; padding: 0.45em 0.6em; margin: 0 0.25em; line-height: 1; border-radius: 0.35em;\">\n",
       "    Tesfaye\n",
       "    <span style=\"font-size: 0.8em; font-weight: bold; line-height: 1; border-radius: 0.35em; text-transform: uppercase; vertical-align: middle; margin-left: 0.5rem\">ORG</span>\n",
       "</mark>\n",
       " losing his sense of self in the service of increased image awareness—worked. As of this writing,  is triple-platinum, with  certified double. Following all this eclecticism, the \n",
       "<mark class=\"entity\" style=\"background: #aa9cfc; padding: 0.45em 0.6em; margin: 0 0.25em; line-height: 1; border-radius: 0.35em;\">\n",
       "    Weeknd\n",
       "    <span style=\"font-size: 0.8em; font-weight: bold; line-height: 1; border-radius: 0.35em; text-transform: uppercase; vertical-align: middle; margin-left: 0.5rem\">PERSON</span>\n",
       "</mark>\n",
       "’s latest project,  turns \n",
       "<mark class=\"entity\" style=\"background: #aa9cfc; padding: 0.45em 0.6em; margin: 0 0.25em; line-height: 1; border-radius: 0.35em;\">\n",
       "    Tesfaye\n",
       "    <span style=\"font-size: 0.8em; font-weight: bold; line-height: 1; border-radius: 0.35em; text-transform: uppercase; vertical-align: middle; margin-left: 0.5rem\">PERSON</span>\n",
       "</mark>\n",
       "’s gaze back to the project’s earlier, more morose material.Many have speculated that the album’s \n",
       "<mark class=\"entity\" style=\"background: #e4e7d2; padding: 0.45em 0.6em; margin: 0 0.25em; line-height: 1; border-radius: 0.35em;\">\n",
       "    six\n",
       "    <span style=\"font-size: 0.8em; font-weight: bold; line-height: 1; border-radius: 0.35em; text-transform: uppercase; vertical-align: middle; margin-left: 0.5rem\">CARDINAL</span>\n",
       "</mark>\n",
       " tracks of downcast, bleary-eyed electronic pop are direct responses to \n",
       "<mark class=\"entity\" style=\"background: #7aecec; padding: 0.45em 0.6em; margin: 0 0.25em; line-height: 1; border-radius: 0.35em;\">\n",
       "    Tesfaye\n",
       "    <span style=\"font-size: 0.8em; font-weight: bold; line-height: 1; border-radius: 0.35em; text-transform: uppercase; vertical-align: middle; margin-left: 0.5rem\">ORG</span>\n",
       "</mark>\n",
       "’s recent split with pop star , and there’s  in that respect. But the record’s title and contents could also be interpreted as \n",
       "<mark class=\"entity\" style=\"background: #7aecec; padding: 0.45em 0.6em; margin: 0 0.25em; line-height: 1; border-radius: 0.35em;\">\n",
       "    Tesfaye\n",
       "    <span style=\"font-size: 0.8em; font-weight: bold; line-height: 1; border-radius: 0.35em; text-transform: uppercase; vertical-align: middle; margin-left: 0.5rem\">ORG</span>\n",
       "</mark>\n",
       "’s sign of affection for the moody music that he made his name on—a love letter to the aesthetic past he left behind.If old habits die hard, though, then so do new routines, and  finds \n",
       "<mark class=\"entity\" style=\"background: #aa9cfc; padding: 0.45em 0.6em; margin: 0 0.25em; line-height: 1; border-radius: 0.35em;\">\n",
       "    Tesfaye\n",
       "    <span style=\"font-size: 0.8em; font-weight: bold; line-height: 1; border-radius: 0.35em; text-transform: uppercase; vertical-align: middle; margin-left: 0.5rem\">PERSON</span>\n",
       "</mark>\n",
       " trapped in a middle ground between where he came from and where he is right now. As it was with his last \n",
       "<mark class=\"entity\" style=\"background: #e4e7d2; padding: 0.45em 0.6em; margin: 0 0.25em; line-height: 1; border-radius: 0.35em;\">\n",
       "    two\n",
       "    <span style=\"font-size: 0.8em; font-weight: bold; line-height: 1; border-radius: 0.35em; text-transform: uppercase; vertical-align: middle; margin-left: 0.5rem\">CARDINAL</span>\n",
       "</mark>\n",
       " records, the production list is moneyed and well-respected: , , ’s \n",
       "<mark class=\"entity\" style=\"background: #aa9cfc; padding: 0.45em 0.6em; margin: 0 0.25em; line-height: 1; border-radius: 0.35em;\">\n",
       "    Guy-Manuel de Homem-Cristo\n",
       "    <span style=\"font-size: 0.8em; font-weight: bold; line-height: 1; border-radius: 0.35em; text-transform: uppercase; vertical-align: middle; margin-left: 0.5rem\">PERSON</span>\n",
       "</mark>\n",
       ", and  are among the collaborators here, adding new wrinkles to \n",
       "<mark class=\"entity\" style=\"background: #7aecec; padding: 0.45em 0.6em; margin: 0 0.25em; line-height: 1; border-radius: 0.35em;\">\n",
       "    Tesfaye\n",
       "    <span style=\"font-size: 0.8em; font-weight: bold; line-height: 1; border-radius: 0.35em; text-transform: uppercase; vertical-align: middle; margin-left: 0.5rem\">ORG</span>\n",
       "</mark>\n",
       "’s ever-expanding sonic palette.Skrillex continues pursuing his  with “\n",
       "<mark class=\"entity\" style=\"background: #7aecec; padding: 0.45em 0.6em; margin: 0 0.25em; line-height: 1; border-radius: 0.35em;\">\n",
       "    Wasted Times\n",
       "    <span style=\"font-size: 0.8em; font-weight: bold; line-height: 1; border-radius: 0.35em; text-transform: uppercase; vertical-align: middle; margin-left: 0.5rem\">ORG</span>\n",
       "</mark>\n",
       ",” featuring a breakdown that seems tailor-made for ; the pained nihilism of “\n",
       "<mark class=\"entity\" style=\"background: #f0d0ff; padding: 0.45em 0.6em; margin: 0 0.25em; line-height: 1; border-radius: 0.35em;\">\n",
       "    Privilege\n",
       "    <span style=\"font-size: 0.8em; font-weight: bold; line-height: 1; border-radius: 0.35em; text-transform: uppercase; vertical-align: middle; margin-left: 0.5rem\">WORK_OF_ART</span>\n",
       "</mark>\n",
       "” takes on a subtle bloom in the hands of \n",
       "<mark class=\"entity\" style=\"background: #aa9cfc; padding: 0.45em 0.6em; margin: 0 0.25em; line-height: 1; border-radius: 0.35em;\">\n",
       "    Frank Dukes\n",
       "    <span style=\"font-size: 0.8em; font-weight: bold; line-height: 1; border-radius: 0.35em; text-transform: uppercase; vertical-align: middle; margin-left: 0.5rem\">PERSON</span>\n",
       "</mark>\n",
       " (, ), with a pleasingly wordless chorus that emerges in the song’s final \n",
       "<mark class=\"entity\" style=\"background: #e4e7d2; padding: 0.45em 0.6em; margin: 0 0.25em; line-height: 1; border-radius: 0.35em;\">\n",
       "    third\n",
       "    <span style=\"font-size: 0.8em; font-weight: bold; line-height: 1; border-radius: 0.35em; text-transform: uppercase; vertical-align: middle; margin-left: 0.5rem\">ORDINAL</span>\n",
       "</mark>\n",
       ". Arguably, the production has always been the most interesting element of the Weeknd as a project, and these highlights showcase \n",
       "<mark class=\"entity\" style=\"background: #aa9cfc; padding: 0.45em 0.6em; margin: 0 0.25em; line-height: 1; border-radius: 0.35em;\">\n",
       "    Tesfaye\n",
       "    <span style=\"font-size: 0.8em; font-weight: bold; line-height: 1; border-radius: 0.35em; text-transform: uppercase; vertical-align: middle; margin-left: 0.5rem\">PERSON</span>\n",
       "</mark>\n",
       "’s still-sharp ear for cool, contemporary sounds.When  does recall \n",
       "<mark class=\"entity\" style=\"background: #aa9cfc; padding: 0.45em 0.6em; margin: 0 0.25em; line-height: 1; border-radius: 0.35em;\">\n",
       "    Tesfaye\n",
       "    <span style=\"font-size: 0.8em; font-weight: bold; line-height: 1; border-radius: 0.35em; text-transform: uppercase; vertical-align: middle; margin-left: 0.5rem\">PERSON</span>\n",
       "</mark>\n",
       "’s creative past, it serves to illuminate the project’s weaknesses. It’s impossible not to hear the pronounced “\n",
       "<mark class=\"entity\" style=\"background: #f0d0ff; padding: 0.45em 0.6em; margin: 0 0.25em; line-height: 1; border-radius: 0.35em;\">\n",
       "    Call Out My Name\n",
       "    <span style=\"font-size: 0.8em; font-weight: bold; line-height: 1; border-radius: 0.35em; text-transform: uppercase; vertical-align: middle; margin-left: 0.5rem\">WORK_OF_ART</span>\n",
       "</mark>\n",
       "” as a redux of ’ “\n",
       "<mark class=\"entity\" style=\"background: #f0d0ff; padding: 0.45em 0.6em; margin: 0 0.25em; line-height: 1; border-radius: 0.35em;\">\n",
       "    Earned It\n",
       "    <span style=\"font-size: 0.8em; font-weight: bold; line-height: 1; border-radius: 0.35em; text-transform: uppercase; vertical-align: middle; margin-left: 0.5rem\">WORK_OF_ART</span>\n",
       "</mark>\n",
       ".” On “\n",
       "<mark class=\"entity\" style=\"background: #f0d0ff; padding: 0.45em 0.6em; margin: 0 0.25em; line-height: 1; border-radius: 0.35em;\">\n",
       "    Hurt You\n",
       "    <span style=\"font-size: 0.8em; font-weight: bold; line-height: 1; border-radius: 0.35em; text-transform: uppercase; vertical-align: middle; margin-left: 0.5rem\">WORK_OF_ART</span>\n",
       "</mark>\n",
       ",” \n",
       "<mark class=\"entity\" style=\"background: #aa9cfc; padding: 0.45em 0.6em; margin: 0 0.25em; line-height: 1; border-radius: 0.35em;\">\n",
       "    Homem-Cristo\n",
       "    <span style=\"font-size: 0.8em; font-weight: bold; line-height: 1; border-radius: 0.35em; text-transform: uppercase; vertical-align: middle; margin-left: 0.5rem\">PERSON</span>\n",
       "</mark>\n",
       " and fellow \n",
       "<mark class=\"entity\" style=\"background: #aa9cfc; padding: 0.45em 0.6em; margin: 0 0.25em; line-height: 1; border-radius: 0.35em;\">\n",
       "    Frenchman Gesaffelstein\n",
       "    <span style=\"font-size: 0.8em; font-weight: bold; line-height: 1; border-radius: 0.35em; text-transform: uppercase; vertical-align: middle; margin-left: 0.5rem\">PERSON</span>\n",
       "</mark>\n",
       " draw from the same well that produced ’s title track and “\n",
       "<mark class=\"entity\" style=\"background: #f0d0ff; padding: 0.45em 0.6em; margin: 0 0.25em; line-height: 1; border-radius: 0.35em;\">\n",
       "    I Feel It Coming\n",
       "    <span style=\"font-size: 0.8em; font-weight: bold; line-height: 1; border-radius: 0.35em; text-transform: uppercase; vertical-align: middle; margin-left: 0.5rem\">WORK_OF_ART</span>\n",
       "</mark>\n",
       ",” but fail to match the radiance of either.Simply put, it’s too early in this stage of \n",
       "<mark class=\"entity\" style=\"background: #7aecec; padding: 0.45em 0.6em; margin: 0 0.25em; line-height: 1; border-radius: 0.35em;\">\n",
       "    Tesfaye\n",
       "    <span style=\"font-size: 0.8em; font-weight: bold; line-height: 1; border-radius: 0.35em; text-transform: uppercase; vertical-align: middle; margin-left: 0.5rem\">ORG</span>\n",
       "</mark>\n",
       "’s career to so obviously attempt to replicate past glories. While  makes for a slight curio in the \n",
       "<mark class=\"entity\" style=\"background: #feca74; padding: 0.45em 0.6em; margin: 0 0.25em; line-height: 1; border-radius: 0.35em;\">\n",
       "    Weeknd\n",
       "    <span style=\"font-size: 0.8em; font-weight: bold; line-height: 1; border-radius: 0.35em; text-transform: uppercase; vertical-align: middle; margin-left: 0.5rem\">GPE</span>\n",
       "</mark>\n",
       "’s discography, it also feels like an unnecessary step backwards following the down-for-whatever approach of his recent work. There’s nothing wrong with reflecting on the past, but sometimes it’s better to just leave it there.: An original version of this review mislabeled the album as an EP.</div>"
      ],
      "text/plain": [
       "<IPython.core.display.HTML object>"
      ]
     },
     "metadata": {},
     "output_type": "display_data"
    }
   ],
   "source": [
    "displacy.render(text, style = 'ent', jupyter = True)"
   ]
  },
  {
   "cell_type": "markdown",
   "metadata": {
    "slideshow": {
     "slide_type": "slide"
    }
   },
   "source": [
    "## Next"
   ]
  },
  {
   "cell_type": "code",
   "execution_count": 92,
   "metadata": {
    "slideshow": {
     "slide_type": "subslide"
    }
   },
   "outputs": [],
   "source": [
    "df = pd.read_csv(\"Datafiniti_Amazon_Consumer_Reviews_of_Amazon_Products_May19.csv.zip\" ,compression='zip')"
   ]
  },
  {
   "cell_type": "code",
   "execution_count": 93,
   "metadata": {
    "slideshow": {
     "slide_type": "subslide"
    }
   },
   "outputs": [
    {
     "data": {
      "text/html": [
       "<div>\n",
       "<style scoped>\n",
       "    .dataframe tbody tr th:only-of-type {\n",
       "        vertical-align: middle;\n",
       "    }\n",
       "\n",
       "    .dataframe tbody tr th {\n",
       "        vertical-align: top;\n",
       "    }\n",
       "\n",
       "    .dataframe thead th {\n",
       "        text-align: right;\n",
       "    }\n",
       "</style>\n",
       "<table border=\"1\" class=\"dataframe\">\n",
       "  <thead>\n",
       "    <tr style=\"text-align: right;\">\n",
       "      <th></th>\n",
       "      <th>id</th>\n",
       "      <th>dateAdded</th>\n",
       "      <th>dateUpdated</th>\n",
       "      <th>name</th>\n",
       "      <th>asins</th>\n",
       "      <th>brand</th>\n",
       "      <th>categories</th>\n",
       "      <th>primaryCategories</th>\n",
       "      <th>imageURLs</th>\n",
       "      <th>keys</th>\n",
       "      <th>...</th>\n",
       "      <th>reviews.didPurchase</th>\n",
       "      <th>reviews.doRecommend</th>\n",
       "      <th>reviews.id</th>\n",
       "      <th>reviews.numHelpful</th>\n",
       "      <th>reviews.rating</th>\n",
       "      <th>reviews.sourceURLs</th>\n",
       "      <th>reviews.text</th>\n",
       "      <th>reviews.title</th>\n",
       "      <th>reviews.username</th>\n",
       "      <th>sourceURLs</th>\n",
       "    </tr>\n",
       "  </thead>\n",
       "  <tbody>\n",
       "    <tr>\n",
       "      <th>0</th>\n",
       "      <td>AVpgNzjwLJeJML43Kpxn</td>\n",
       "      <td>2015-10-30T08:59:32Z</td>\n",
       "      <td>2019-04-25T09:08:16Z</td>\n",
       "      <td>AmazonBasics AAA Performance Alkaline Batterie...</td>\n",
       "      <td>B00QWO9P0O,B00LH3DMUO</td>\n",
       "      <td>Amazonbasics</td>\n",
       "      <td>AA,AAA,Health,Electronics,Health &amp; Household,C...</td>\n",
       "      <td>Health &amp; Beauty</td>\n",
       "      <td>https://images-na.ssl-images-amazon.com/images...</td>\n",
       "      <td>amazonbasics/hl002619,amazonbasicsaaaperforman...</td>\n",
       "      <td>...</td>\n",
       "      <td>NaN</td>\n",
       "      <td>NaN</td>\n",
       "      <td>NaN</td>\n",
       "      <td>NaN</td>\n",
       "      <td>3</td>\n",
       "      <td>https://www.amazon.com/product-reviews/B00QWO9...</td>\n",
       "      <td>I order 3 of them and one of the item is bad q...</td>\n",
       "      <td>... 3 of them and one of the item is bad quali...</td>\n",
       "      <td>Byger yang</td>\n",
       "      <td>https://www.barcodable.com/upc/841710106442,ht...</td>\n",
       "    </tr>\n",
       "    <tr>\n",
       "      <th>1</th>\n",
       "      <td>AVpgNzjwLJeJML43Kpxn</td>\n",
       "      <td>2015-10-30T08:59:32Z</td>\n",
       "      <td>2019-04-25T09:08:16Z</td>\n",
       "      <td>AmazonBasics AAA Performance Alkaline Batterie...</td>\n",
       "      <td>B00QWO9P0O,B00LH3DMUO</td>\n",
       "      <td>Amazonbasics</td>\n",
       "      <td>AA,AAA,Health,Electronics,Health &amp; Household,C...</td>\n",
       "      <td>Health &amp; Beauty</td>\n",
       "      <td>https://images-na.ssl-images-amazon.com/images...</td>\n",
       "      <td>amazonbasics/hl002619,amazonbasicsaaaperforman...</td>\n",
       "      <td>...</td>\n",
       "      <td>NaN</td>\n",
       "      <td>NaN</td>\n",
       "      <td>NaN</td>\n",
       "      <td>NaN</td>\n",
       "      <td>4</td>\n",
       "      <td>https://www.amazon.com/product-reviews/B00QWO9...</td>\n",
       "      <td>Bulk is always the less expensive way to go fo...</td>\n",
       "      <td>... always the less expensive way to go for pr...</td>\n",
       "      <td>ByMG</td>\n",
       "      <td>https://www.barcodable.com/upc/841710106442,ht...</td>\n",
       "    </tr>\n",
       "    <tr>\n",
       "      <th>2</th>\n",
       "      <td>AVpgNzjwLJeJML43Kpxn</td>\n",
       "      <td>2015-10-30T08:59:32Z</td>\n",
       "      <td>2019-04-25T09:08:16Z</td>\n",
       "      <td>AmazonBasics AAA Performance Alkaline Batterie...</td>\n",
       "      <td>B00QWO9P0O,B00LH3DMUO</td>\n",
       "      <td>Amazonbasics</td>\n",
       "      <td>AA,AAA,Health,Electronics,Health &amp; Household,C...</td>\n",
       "      <td>Health &amp; Beauty</td>\n",
       "      <td>https://images-na.ssl-images-amazon.com/images...</td>\n",
       "      <td>amazonbasics/hl002619,amazonbasicsaaaperforman...</td>\n",
       "      <td>...</td>\n",
       "      <td>NaN</td>\n",
       "      <td>NaN</td>\n",
       "      <td>NaN</td>\n",
       "      <td>NaN</td>\n",
       "      <td>5</td>\n",
       "      <td>https://www.amazon.com/product-reviews/B00QWO9...</td>\n",
       "      <td>Well they are not Duracell but for the price i...</td>\n",
       "      <td>... are not Duracell but for the price i am ha...</td>\n",
       "      <td>BySharon Lambert</td>\n",
       "      <td>https://www.barcodable.com/upc/841710106442,ht...</td>\n",
       "    </tr>\n",
       "    <tr>\n",
       "      <th>3</th>\n",
       "      <td>AVpgNzjwLJeJML43Kpxn</td>\n",
       "      <td>2015-10-30T08:59:32Z</td>\n",
       "      <td>2019-04-25T09:08:16Z</td>\n",
       "      <td>AmazonBasics AAA Performance Alkaline Batterie...</td>\n",
       "      <td>B00QWO9P0O,B00LH3DMUO</td>\n",
       "      <td>Amazonbasics</td>\n",
       "      <td>AA,AAA,Health,Electronics,Health &amp; Household,C...</td>\n",
       "      <td>Health &amp; Beauty</td>\n",
       "      <td>https://images-na.ssl-images-amazon.com/images...</td>\n",
       "      <td>amazonbasics/hl002619,amazonbasicsaaaperforman...</td>\n",
       "      <td>...</td>\n",
       "      <td>NaN</td>\n",
       "      <td>NaN</td>\n",
       "      <td>NaN</td>\n",
       "      <td>NaN</td>\n",
       "      <td>5</td>\n",
       "      <td>https://www.amazon.com/product-reviews/B00QWO9...</td>\n",
       "      <td>Seem to work as well as name brand batteries a...</td>\n",
       "      <td>... as well as name brand batteries at a much ...</td>\n",
       "      <td>Bymark sexson</td>\n",
       "      <td>https://www.barcodable.com/upc/841710106442,ht...</td>\n",
       "    </tr>\n",
       "    <tr>\n",
       "      <th>4</th>\n",
       "      <td>AVpgNzjwLJeJML43Kpxn</td>\n",
       "      <td>2015-10-30T08:59:32Z</td>\n",
       "      <td>2019-04-25T09:08:16Z</td>\n",
       "      <td>AmazonBasics AAA Performance Alkaline Batterie...</td>\n",
       "      <td>B00QWO9P0O,B00LH3DMUO</td>\n",
       "      <td>Amazonbasics</td>\n",
       "      <td>AA,AAA,Health,Electronics,Health &amp; Household,C...</td>\n",
       "      <td>Health &amp; Beauty</td>\n",
       "      <td>https://images-na.ssl-images-amazon.com/images...</td>\n",
       "      <td>amazonbasics/hl002619,amazonbasicsaaaperforman...</td>\n",
       "      <td>...</td>\n",
       "      <td>NaN</td>\n",
       "      <td>NaN</td>\n",
       "      <td>NaN</td>\n",
       "      <td>NaN</td>\n",
       "      <td>5</td>\n",
       "      <td>https://www.amazon.com/product-reviews/B00QWO9...</td>\n",
       "      <td>These batteries are very long lasting the pric...</td>\n",
       "      <td>... batteries are very long lasting the price ...</td>\n",
       "      <td>Bylinda</td>\n",
       "      <td>https://www.barcodable.com/upc/841710106442,ht...</td>\n",
       "    </tr>\n",
       "  </tbody>\n",
       "</table>\n",
       "<p>5 rows × 24 columns</p>\n",
       "</div>"
      ],
      "text/plain": [
       "                     id             dateAdded           dateUpdated  \\\n",
       "0  AVpgNzjwLJeJML43Kpxn  2015-10-30T08:59:32Z  2019-04-25T09:08:16Z   \n",
       "1  AVpgNzjwLJeJML43Kpxn  2015-10-30T08:59:32Z  2019-04-25T09:08:16Z   \n",
       "2  AVpgNzjwLJeJML43Kpxn  2015-10-30T08:59:32Z  2019-04-25T09:08:16Z   \n",
       "3  AVpgNzjwLJeJML43Kpxn  2015-10-30T08:59:32Z  2019-04-25T09:08:16Z   \n",
       "4  AVpgNzjwLJeJML43Kpxn  2015-10-30T08:59:32Z  2019-04-25T09:08:16Z   \n",
       "\n",
       "                                                name                  asins  \\\n",
       "0  AmazonBasics AAA Performance Alkaline Batterie...  B00QWO9P0O,B00LH3DMUO   \n",
       "1  AmazonBasics AAA Performance Alkaline Batterie...  B00QWO9P0O,B00LH3DMUO   \n",
       "2  AmazonBasics AAA Performance Alkaline Batterie...  B00QWO9P0O,B00LH3DMUO   \n",
       "3  AmazonBasics AAA Performance Alkaline Batterie...  B00QWO9P0O,B00LH3DMUO   \n",
       "4  AmazonBasics AAA Performance Alkaline Batterie...  B00QWO9P0O,B00LH3DMUO   \n",
       "\n",
       "          brand                                         categories  \\\n",
       "0  Amazonbasics  AA,AAA,Health,Electronics,Health & Household,C...   \n",
       "1  Amazonbasics  AA,AAA,Health,Electronics,Health & Household,C...   \n",
       "2  Amazonbasics  AA,AAA,Health,Electronics,Health & Household,C...   \n",
       "3  Amazonbasics  AA,AAA,Health,Electronics,Health & Household,C...   \n",
       "4  Amazonbasics  AA,AAA,Health,Electronics,Health & Household,C...   \n",
       "\n",
       "  primaryCategories                                          imageURLs  \\\n",
       "0   Health & Beauty  https://images-na.ssl-images-amazon.com/images...   \n",
       "1   Health & Beauty  https://images-na.ssl-images-amazon.com/images...   \n",
       "2   Health & Beauty  https://images-na.ssl-images-amazon.com/images...   \n",
       "3   Health & Beauty  https://images-na.ssl-images-amazon.com/images...   \n",
       "4   Health & Beauty  https://images-na.ssl-images-amazon.com/images...   \n",
       "\n",
       "                                                keys  ... reviews.didPurchase  \\\n",
       "0  amazonbasics/hl002619,amazonbasicsaaaperforman...  ...                 NaN   \n",
       "1  amazonbasics/hl002619,amazonbasicsaaaperforman...  ...                 NaN   \n",
       "2  amazonbasics/hl002619,amazonbasicsaaaperforman...  ...                 NaN   \n",
       "3  amazonbasics/hl002619,amazonbasicsaaaperforman...  ...                 NaN   \n",
       "4  amazonbasics/hl002619,amazonbasicsaaaperforman...  ...                 NaN   \n",
       "\n",
       "  reviews.doRecommend reviews.id reviews.numHelpful reviews.rating  \\\n",
       "0                 NaN        NaN                NaN              3   \n",
       "1                 NaN        NaN                NaN              4   \n",
       "2                 NaN        NaN                NaN              5   \n",
       "3                 NaN        NaN                NaN              5   \n",
       "4                 NaN        NaN                NaN              5   \n",
       "\n",
       "                                  reviews.sourceURLs  \\\n",
       "0  https://www.amazon.com/product-reviews/B00QWO9...   \n",
       "1  https://www.amazon.com/product-reviews/B00QWO9...   \n",
       "2  https://www.amazon.com/product-reviews/B00QWO9...   \n",
       "3  https://www.amazon.com/product-reviews/B00QWO9...   \n",
       "4  https://www.amazon.com/product-reviews/B00QWO9...   \n",
       "\n",
       "                                        reviews.text  \\\n",
       "0  I order 3 of them and one of the item is bad q...   \n",
       "1  Bulk is always the less expensive way to go fo...   \n",
       "2  Well they are not Duracell but for the price i...   \n",
       "3  Seem to work as well as name brand batteries a...   \n",
       "4  These batteries are very long lasting the pric...   \n",
       "\n",
       "                                       reviews.title  reviews.username  \\\n",
       "0  ... 3 of them and one of the item is bad quali...        Byger yang   \n",
       "1  ... always the less expensive way to go for pr...              ByMG   \n",
       "2  ... are not Duracell but for the price i am ha...  BySharon Lambert   \n",
       "3  ... as well as name brand batteries at a much ...     Bymark sexson   \n",
       "4  ... batteries are very long lasting the price ...           Bylinda   \n",
       "\n",
       "                                          sourceURLs  \n",
       "0  https://www.barcodable.com/upc/841710106442,ht...  \n",
       "1  https://www.barcodable.com/upc/841710106442,ht...  \n",
       "2  https://www.barcodable.com/upc/841710106442,ht...  \n",
       "3  https://www.barcodable.com/upc/841710106442,ht...  \n",
       "4  https://www.barcodable.com/upc/841710106442,ht...  \n",
       "\n",
       "[5 rows x 24 columns]"
      ]
     },
     "execution_count": 93,
     "metadata": {},
     "output_type": "execute_result"
    }
   ],
   "source": [
    "df.head()"
   ]
  },
  {
   "cell_type": "code",
   "execution_count": 94,
   "metadata": {
    "slideshow": {
     "slide_type": "subslide"
    }
   },
   "outputs": [
    {
     "data": {
      "text/plain": [
       "array(['Health & Beauty', 'Electronics', 'Office Supplies',\n",
       "       'Animals & Pet Supplies', 'Home & Garden', 'Electronics,Furniture',\n",
       "       'Toys & Games,Electronics', 'Electronics,Media',\n",
       "       'Office Supplies,Electronics'], dtype=object)"
      ]
     },
     "execution_count": 94,
     "metadata": {},
     "output_type": "execute_result"
    }
   ],
   "source": [
    "df.primaryCategories.unique()"
   ]
  },
  {
   "cell_type": "code",
   "execution_count": 95,
   "metadata": {
    "slideshow": {
     "slide_type": "slide"
    }
   },
   "outputs": [
    {
     "data": {
      "text/html": [
       "<div>\n",
       "<style scoped>\n",
       "    .dataframe tbody tr th:only-of-type {\n",
       "        vertical-align: middle;\n",
       "    }\n",
       "\n",
       "    .dataframe tbody tr th {\n",
       "        vertical-align: top;\n",
       "    }\n",
       "\n",
       "    .dataframe thead th {\n",
       "        text-align: right;\n",
       "    }\n",
       "</style>\n",
       "<table border=\"1\" class=\"dataframe\">\n",
       "  <thead>\n",
       "    <tr style=\"text-align: right;\">\n",
       "      <th></th>\n",
       "      <th>reviews.username</th>\n",
       "      <th>reviews.text</th>\n",
       "    </tr>\n",
       "  </thead>\n",
       "  <tbody>\n",
       "    <tr>\n",
       "      <th>12859</th>\n",
       "      <td>jetgrrrl</td>\n",
       "      <td>Is Amazon kidding me They want me to pay 19.99...</td>\n",
       "    </tr>\n",
       "    <tr>\n",
       "      <th>25880</th>\n",
       "      <td>debugy2k</td>\n",
       "      <td>It's a bit smaller than Apple's wireless keybo...</td>\n",
       "    </tr>\n",
       "    <tr>\n",
       "      <th>12764</th>\n",
       "      <td>Heather A</td>\n",
       "      <td>It was just a few weeks ago that I was bemoani...</td>\n",
       "    </tr>\n",
       "    <tr>\n",
       "      <th>25878</th>\n",
       "      <td>Rob Blackwell</td>\n",
       "      <td>Like a lot of reviewers here, I struggled to f...</td>\n",
       "    </tr>\n",
       "    <tr>\n",
       "      <th>25868</th>\n",
       "      <td>Amazon Customer</td>\n",
       "      <td>Stay away from the certified refurbished Amazo...</td>\n",
       "    </tr>\n",
       "    <tr>\n",
       "      <th>25884</th>\n",
       "      <td>WingNut/Pilot</td>\n",
       "      <td>Since the details for the items are a little s...</td>\n",
       "    </tr>\n",
       "    <tr>\n",
       "      <th>12210</th>\n",
       "      <td>Just Wondering</td>\n",
       "      <td>I do a lot of international travelling, so I h...</td>\n",
       "    </tr>\n",
       "    <tr>\n",
       "      <th>12862</th>\n",
       "      <td>Jeff L Howley</td>\n",
       "      <td>No reason. This product is described as 5W, 1 ...</td>\n",
       "    </tr>\n",
       "    <tr>\n",
       "      <th>19689</th>\n",
       "      <td>AlphaKryptonyte</td>\n",
       "      <td>Now, I didn't expect this to be an amazing tab...</td>\n",
       "    </tr>\n",
       "    <tr>\n",
       "      <th>19290</th>\n",
       "      <td>AlphaKryptonyte</td>\n",
       "      <td>Now, I didn't expect this to be an amazing tab...</td>\n",
       "    </tr>\n",
       "  </tbody>\n",
       "</table>\n",
       "</div>"
      ],
      "text/plain": [
       "      reviews.username                                       reviews.text\n",
       "12859         jetgrrrl  Is Amazon kidding me They want me to pay 19.99...\n",
       "25880         debugy2k  It's a bit smaller than Apple's wireless keybo...\n",
       "12764        Heather A  It was just a few weeks ago that I was bemoani...\n",
       "25878    Rob Blackwell  Like a lot of reviewers here, I struggled to f...\n",
       "25868  Amazon Customer  Stay away from the certified refurbished Amazo...\n",
       "25884    WingNut/Pilot  Since the details for the items are a little s...\n",
       "12210   Just Wondering  I do a lot of international travelling, so I h...\n",
       "12862    Jeff L Howley  No reason. This product is described as 5W, 1 ...\n",
       "19689  AlphaKryptonyte  Now, I didn't expect this to be an amazing tab...\n",
       "19290  AlphaKryptonyte  Now, I didn't expect this to be an amazing tab..."
      ]
     },
     "execution_count": 95,
     "metadata": {},
     "output_type": "execute_result"
    }
   ],
   "source": [
    "df.nlargest(10, 'reviews.numHelpful')[['reviews.username', 'reviews.text']]"
   ]
  },
  {
   "cell_type": "markdown",
   "metadata": {
    "slideshow": {
     "slide_type": "slide"
    }
   },
   "source": [
    "## Topic Models"
   ]
  },
  {
   "cell_type": "code",
   "execution_count": 98,
   "metadata": {
    "slideshow": {
     "slide_type": "subslide"
    }
   },
   "outputs": [],
   "source": [
    "from gensim import corpora \n",
    "from gensim.models.ldamodel import LdaModel\n",
    "from gensim.parsing.preprocessing import STOPWORDS\n",
    "import pprint"
   ]
  },
  {
   "cell_type": "code",
   "execution_count": 101,
   "metadata": {
    "slideshow": {
     "slide_type": "subslide"
    }
   },
   "outputs": [],
   "source": [
    "root = './'\n",
    "filetype = 'alice.txt'\n",
    "corpus = PlaintextCorpusReader(root, filetype)"
   ]
  },
  {
   "cell_type": "code",
   "execution_count": 102,
   "metadata": {
    "slideshow": {
     "slide_type": "slide"
    }
   },
   "outputs": [
    {
     "data": {
      "text/plain": [
       "[['Project', 'Gutenberg', \"'\", 's', 'Alice', \"'\", 's', 'Adventures', 'in', 'Wonderland', ',', 'by', 'Lewis', 'Carroll'], ['This', 'eBook', 'is', 'for', 'the', 'use', 'of', 'anyone', 'anywhere', 'at', 'no', 'cost', 'and', 'with', 'almost', 'no', 'restrictions', 'whatsoever', '.'], ...]"
      ]
     },
     "execution_count": 102,
     "metadata": {},
     "output_type": "execute_result"
    }
   ],
   "source": [
    "corpus.sents()"
   ]
  },
  {
   "cell_type": "code",
   "execution_count": 103,
   "metadata": {
    "slideshow": {
     "slide_type": "subslide"
    }
   },
   "outputs": [],
   "source": [
    "words = corpus.words()"
   ]
  },
  {
   "cell_type": "code",
   "execution_count": 104,
   "metadata": {
    "slideshow": {
     "slide_type": "subslide"
    }
   },
   "outputs": [],
   "source": [
    "texts = [[word for word in sentence if word not in STOPWORDS and word.isalnum()] for sentence in corpus.sents()]"
   ]
  },
  {
   "cell_type": "code",
   "execution_count": 105,
   "metadata": {
    "slideshow": {
     "slide_type": "fragment"
    }
   },
   "outputs": [
    {
     "data": {
      "text/plain": [
       "1974"
      ]
     },
     "execution_count": 105,
     "metadata": {},
     "output_type": "execute_result"
    }
   ],
   "source": [
    "len(texts)"
   ]
  },
  {
   "cell_type": "code",
   "execution_count": 106,
   "metadata": {
    "slideshow": {
     "slide_type": "slide"
    }
   },
   "outputs": [
    {
     "data": {
      "text/plain": [
       "[['Produced',\n",
       "  'Jana',\n",
       "  'Srna',\n",
       "  'Emmy',\n",
       "  'Online',\n",
       "  'Distributed',\n",
       "  'Proofreading',\n",
       "  'Team',\n",
       "  'http',\n",
       "  'www',\n",
       "  'pgdp',\n",
       "  'net',\n",
       "  'This',\n",
       "  'file',\n",
       "  'produced',\n",
       "  'images',\n",
       "  'generously',\n",
       "  'available',\n",
       "  'University',\n",
       "  'Florida',\n",
       "  'Digital',\n",
       "  'Collections'],\n",
       " ['ALICE', 'S', 'ADVENTURES', 'IN', 'WONDERLAND']]"
      ]
     },
     "execution_count": 106,
     "metadata": {},
     "output_type": "execute_result"
    }
   ],
   "source": [
    "texts[10:12]"
   ]
  },
  {
   "cell_type": "code",
   "execution_count": 107,
   "metadata": {
    "slideshow": {
     "slide_type": "slide"
    }
   },
   "outputs": [],
   "source": [
    "#prepare the matrix\n",
    "dictionary = corpora.Dictionary(texts)\n",
    "corpus = [dictionary.doc2bow(text) for text in texts]"
   ]
  },
  {
   "cell_type": "code",
   "execution_count": 108,
   "metadata": {
    "slideshow": {
     "slide_type": "subslide"
    }
   },
   "outputs": [],
   "source": [
    "lda = LdaModel(corpus, id2word=dictionary, num_topics= 4, passes = 3)"
   ]
  },
  {
   "cell_type": "code",
   "execution_count": 109,
   "metadata": {
    "slideshow": {
     "slide_type": "subslide"
    }
   },
   "outputs": [
    {
     "name": "stdout",
     "output_type": "stream",
     "text": [
      "[   (   0,\n",
      "        '0.053*\"I\" + 0.038*\"said\" + 0.033*\"Alice\" + 0.022*\"t\" + 0.016*\"s\" + '\n",
      "        '0.008*\"King\" + 0.008*\"know\" + 0.007*\"m\" + 0.007*\"like\" + '\n",
      "        '0.007*\"little\"'),\n",
      "    (   1,\n",
      "        '0.023*\"said\" + 0.014*\"Alice\" + 0.009*\"The\" + 0.009*\"Project\" + '\n",
      "        '0.009*\"Gutenberg\" + 0.009*\"Turtle\" + 0.008*\"Mock\" + 0.007*\"Queen\" + '\n",
      "        '0.006*\"little\" + 0.006*\"Caterpillar\"'),\n",
      "    (   2,\n",
      "        '0.031*\"I\" + 0.015*\"Alice\" + 0.010*\"The\" + 0.008*\"little\" + '\n",
      "        '0.007*\"thing\" + 0.006*\"said\" + 0.006*\"went\" + 0.005*\"round\" + '\n",
      "        '0.005*\"came\" + 0.005*\"Why\"'),\n",
      "    (   3,\n",
      "        '0.021*\"said\" + 0.017*\"Alice\" + 0.017*\"s\" + 0.011*\"t\" + 0.011*\"I\" + '\n",
      "        '0.008*\"1\" + 0.008*\"little\" + 0.007*\"What\" + 0.007*\"thought\" + '\n",
      "        '0.006*\"And\"')]\n"
     ]
    }
   ],
   "source": [
    "pp = pprint.PrettyPrinter(indent = 4)\n",
    "pp.pprint(lda.print_topics(num_words = 10))"
   ]
  },
  {
   "cell_type": "code",
   "execution_count": 110,
   "metadata": {
    "slideshow": {
     "slide_type": "subslide"
    }
   },
   "outputs": [],
   "source": [
    "lda = LdaModel(corpus, id2word=dictionary, num_topics= 50, passes = 3)"
   ]
  },
  {
   "cell_type": "code",
   "execution_count": 111,
   "metadata": {
    "slideshow": {
     "slide_type": "slide"
    }
   },
   "outputs": [
    {
     "name": "stdout",
     "output_type": "stream",
     "text": [
      "[   (   28,\n",
      "        '0.120*\"I\" + 0.038*\"Alice\" + 0.034*\"t\" + 0.023*\"know\" + 0.020*\"said\" + '\n",
      "        '0.019*\"thing\" + 0.013*\"think\" + 0.010*\"went\" + 0.009*\"s\" + '\n",
      "        '0.008*\"replied\"'),\n",
      "    (   16,\n",
      "        '0.135*\"I\" + 0.045*\"t\" + 0.040*\"said\" + 0.036*\"m\" + 0.016*\"Alice\" + '\n",
      "        '0.014*\"s\" + 0.012*\"ll\" + 0.009*\"That\" + 0.008*\"know\" + 0.008*\"door\"'),\n",
      "    (   20,\n",
      "        '0.026*\"Who\" + 0.020*\"business\" + 0.015*\"panting\" + 0.015*\"asking\" + '\n",
      "        '0.015*\"But\" + 0.015*\"round\" + 0.015*\"won\" + 0.015*\"crowded\" + '\n",
      "        '0.014*\"Did\" + 0.013*\"What\"'),\n",
      "    (   39,\n",
      "        '0.035*\"I\" + 0.019*\"voice\" + 0.016*\"said\" + 0.015*\"work\" + 0.014*\"m\" + '\n",
      "        '0.012*\"came\" + 0.012*\"little\" + 0.011*\"grow\" + 0.010*\"time\" + '\n",
      "        '0.010*\"She\"'),\n",
      "    (   6,\n",
      "        '0.068*\"Illustration\" + 0.031*\"1\" + 0.031*\"said\" + 0.014*\"F\" + '\n",
      "        '0.013*\"Alice\" + 0.011*\"t\" + 0.011*\"Mary\" + 0.011*\"Ann\" + 0.010*\"E\" + '\n",
      "        '0.010*\"Two\"'),\n",
      "    (   18,\n",
      "        '0.028*\"Not\" + 0.022*\"replied\" + 0.020*\"Gutenberg\" + 0.019*\"Project\" + '\n",
      "        '0.015*\"work\" + 0.013*\"Mock\" + 0.013*\"Turtle\" + 0.011*\"I\" + 0.010*\"tm\" '\n",
      "        '+ 0.010*\"said\"'),\n",
      "    (   48,\n",
      "        '0.036*\"Queen\" + 0.027*\"said\" + 0.027*\"I\" + 0.024*\"Alice\" + '\n",
      "        '0.019*\"The\" + 0.014*\"shouted\" + 0.011*\"ready\" + 0.011*\"ll\" + '\n",
      "        '0.011*\"looked\" + 0.010*\"soldiers\"'),\n",
      "    (   43,\n",
      "        '0.022*\"little\" + 0.019*\"Alice\" + 0.016*\"We\" + 0.015*\"time\" + '\n",
      "        '0.014*\"The\" + 0.013*\"room\" + 0.011*\"simple\" + 0.010*\"No\" + '\n",
      "        '0.008*\"said\" + 0.007*\"gloves\"'),\n",
      "    (   44,\n",
      "        '0.038*\"And\" + 0.020*\"The\" + 0.012*\"day\" + 0.011*\"United\" + '\n",
      "        '0.011*\"States\" + 0.011*\"tarts\" + 0.010*\"Let\" + 0.010*\"stole\" + '\n",
      "        '0.009*\"Hearts\" + 0.009*\"got\"'),\n",
      "    (   23,\n",
      "        '0.052*\"t\" + 0.046*\"won\" + 0.028*\"I\" + 0.020*\"dance\" + 0.019*\"join\" + '\n",
      "        '0.016*\"8\" + 0.013*\"Will\" + 0.011*\"little\" + 0.010*\"28885\" + '\n",
      "        '0.007*\"Paris\"'),\n",
      "    (   14,\n",
      "        '0.023*\"said\" + 0.020*\"Then\" + 0.019*\"Rabbit\" + 0.017*\"Alice\" + '\n",
      "        '0.013*\"large\" + 0.011*\"One\" + 0.010*\"story\" + 0.009*\"s\" + '\n",
      "        '0.009*\"time\" + 0.009*\"house\"'),\n",
      "    (   32,\n",
      "        '0.013*\"And\" + 0.013*\"s\" + 0.011*\"round\" + 0.010*\"said\" + 0.010*\"I\" + '\n",
      "        '0.010*\"whiting\" + 0.009*\"little\" + 0.007*\"Alice\" + 0.007*\"tells\" + '\n",
      "        '0.007*\"know\"'),\n",
      "    (   24,\n",
      "        '0.055*\"said\" + 0.054*\"Alice\" + 0.024*\"Gryphon\" + 0.011*\"s\" + '\n",
      "        '0.011*\"called\" + 0.011*\"Footman\" + 0.011*\"lobsters\" + '\n",
      "        '0.009*\"creatures\" + 0.009*\"went\" + 0.009*\"heads\"'),\n",
      "    (   36,\n",
      "        '0.073*\"I\" + 0.029*\"t\" + 0.019*\"s\" + 0.016*\"Alice\" + 0.015*\"know\" + '\n",
      "        '0.015*\"wish\" + 0.015*\"said\" + 0.011*\"way\" + 0.010*\"things\" + '\n",
      "        '0.009*\"ll\"'),\n",
      "    (   13,\n",
      "        '0.044*\"s\" + 0.022*\"Sidenote\" + 0.022*\"said\" + 0.021*\"It\" + '\n",
      "        '0.018*\"Alice\" + 0.014*\"witness\" + 0.013*\"work\" + 0.011*\"Queen\" + '\n",
      "        '0.009*\"exclaimed\" + 0.008*\"Call\"'),\n",
      "    (   31,\n",
      "        '0.046*\"Caterpillar\" + 0.039*\"said\" + 0.014*\"s\" + 0.014*\"Mock\" + '\n",
      "        '0.014*\"Turtle\" + 0.012*\"help\" + 0.012*\"night\" + 0.012*\"day\" + '\n",
      "        '0.011*\"different\" + 0.011*\"Project\"'),\n",
      "    (   33,\n",
      "        '0.032*\"Alice\" + 0.024*\"t\" + 0.024*\"Come\" + 0.023*\"said\" + 0.020*\"s\" + '\n",
      "        '0.012*\"like\" + 0.012*\"speak\" + 0.011*\"I\" + 0.011*\"Don\" + '\n",
      "        '0.010*\"They\"'),\n",
      "    (   40,\n",
      "        '0.031*\"The\" + 0.028*\"Alice\" + 0.018*\"Soup\" + 0.016*\"Well\" + '\n",
      "        '0.016*\"said\" + 0.015*\"looked\" + 0.014*\"thing\" + 0.013*\"got\" + '\n",
      "        '0.013*\"think\" + 0.012*\"beautiful\"'),\n",
      "    (   19,\n",
      "        '0.026*\"The\" + 0.020*\"Hatter\" + 0.018*\"times\" + 0.016*\"draw\" + '\n",
      "        '0.015*\"said\" + 0.013*\"set\" + 0.013*\"little\" + 0.012*\"treacle\" + '\n",
      "        '0.010*\"high\" + 0.010*\"I\"'),\n",
      "    (   21,\n",
      "        '0.028*\"I\" + 0.026*\"s\" + 0.014*\"Tell\" + 0.014*\"sure\" + 0.012*\"Are\" + '\n",
      "        '0.012*\"That\" + 0.011*\"Queen\" + 0.010*\"said\" + 0.010*\"THE\" + '\n",
      "        '0.008*\"Alice\"')]\n"
     ]
    }
   ],
   "source": [
    "pp = pprint.PrettyPrinter(indent = 4)\n",
    "pp.pprint(lda.print_topics(num_words = 10))"
   ]
  },
  {
   "cell_type": "code",
   "execution_count": 112,
   "metadata": {
    "slideshow": {
     "slide_type": "slide"
    }
   },
   "outputs": [],
   "source": [
    "from gensim.test.utils import datapath\n",
    "temp_file = datapath(\"model\")\n",
    "lda.save(temp_file)"
   ]
  },
  {
   "cell_type": "code",
   "execution_count": 113,
   "metadata": {
    "slideshow": {
     "slide_type": "subslide"
    }
   },
   "outputs": [],
   "source": [
    "# Load a potentially pretrained model from disk.\n",
    "lda = LdaModel.load(temp_file)"
   ]
  },
  {
   "cell_type": "markdown",
   "metadata": {
    "slideshow": {
     "slide_type": "slide"
    }
   },
   "source": [
    "## Predictive Modeling with Text"
   ]
  },
  {
   "cell_type": "code",
   "execution_count": 114,
   "metadata": {
    "slideshow": {
     "slide_type": "subslide"
    }
   },
   "outputs": [],
   "source": [
    "df = pd.read_csv('yelp.csv')"
   ]
  },
  {
   "cell_type": "code",
   "execution_count": 115,
   "metadata": {
    "slideshow": {
     "slide_type": "subslide"
    }
   },
   "outputs": [
    {
     "data": {
      "text/html": [
       "<div>\n",
       "<style scoped>\n",
       "    .dataframe tbody tr th:only-of-type {\n",
       "        vertical-align: middle;\n",
       "    }\n",
       "\n",
       "    .dataframe tbody tr th {\n",
       "        vertical-align: top;\n",
       "    }\n",
       "\n",
       "    .dataframe thead th {\n",
       "        text-align: right;\n",
       "    }\n",
       "</style>\n",
       "<table border=\"1\" class=\"dataframe\">\n",
       "  <thead>\n",
       "    <tr style=\"text-align: right;\">\n",
       "      <th></th>\n",
       "      <th>business_id</th>\n",
       "      <th>date</th>\n",
       "      <th>review_id</th>\n",
       "      <th>stars</th>\n",
       "      <th>text</th>\n",
       "      <th>type</th>\n",
       "      <th>user_id</th>\n",
       "      <th>cool</th>\n",
       "      <th>useful</th>\n",
       "      <th>funny</th>\n",
       "    </tr>\n",
       "  </thead>\n",
       "  <tbody>\n",
       "    <tr>\n",
       "      <th>0</th>\n",
       "      <td>9yKzy9PApeiPPOUJEtnvkg</td>\n",
       "      <td>2011-01-26</td>\n",
       "      <td>fWKvX83p0-ka4JS3dc6E5A</td>\n",
       "      <td>5</td>\n",
       "      <td>My wife took me here on my birthday for breakf...</td>\n",
       "      <td>review</td>\n",
       "      <td>rLtl8ZkDX5vH5nAx9C3q5Q</td>\n",
       "      <td>2</td>\n",
       "      <td>5</td>\n",
       "      <td>0</td>\n",
       "    </tr>\n",
       "    <tr>\n",
       "      <th>1</th>\n",
       "      <td>ZRJwVLyzEJq1VAihDhYiow</td>\n",
       "      <td>2011-07-27</td>\n",
       "      <td>IjZ33sJrzXqU-0X6U8NwyA</td>\n",
       "      <td>5</td>\n",
       "      <td>I have no idea why some people give bad review...</td>\n",
       "      <td>review</td>\n",
       "      <td>0a2KyEL0d3Yb1V6aivbIuQ</td>\n",
       "      <td>0</td>\n",
       "      <td>0</td>\n",
       "      <td>0</td>\n",
       "    </tr>\n",
       "    <tr>\n",
       "      <th>2</th>\n",
       "      <td>6oRAC4uyJCsJl1X0WZpVSA</td>\n",
       "      <td>2012-06-14</td>\n",
       "      <td>IESLBzqUCLdSzSqm0eCSxQ</td>\n",
       "      <td>4</td>\n",
       "      <td>love the gyro plate. Rice is so good and I als...</td>\n",
       "      <td>review</td>\n",
       "      <td>0hT2KtfLiobPvh6cDC8JQg</td>\n",
       "      <td>0</td>\n",
       "      <td>1</td>\n",
       "      <td>0</td>\n",
       "    </tr>\n",
       "    <tr>\n",
       "      <th>3</th>\n",
       "      <td>_1QQZuf4zZOyFCvXc0o6Vg</td>\n",
       "      <td>2010-05-27</td>\n",
       "      <td>G-WvGaISbqqaMHlNnByodA</td>\n",
       "      <td>5</td>\n",
       "      <td>Rosie, Dakota, and I LOVE Chaparral Dog Park!!...</td>\n",
       "      <td>review</td>\n",
       "      <td>uZetl9T0NcROGOyFfughhg</td>\n",
       "      <td>1</td>\n",
       "      <td>2</td>\n",
       "      <td>0</td>\n",
       "    </tr>\n",
       "    <tr>\n",
       "      <th>4</th>\n",
       "      <td>6ozycU1RpktNG2-1BroVtw</td>\n",
       "      <td>2012-01-05</td>\n",
       "      <td>1uJFq2r5QfJG_6ExMRCaGw</td>\n",
       "      <td>5</td>\n",
       "      <td>General Manager Scott Petello is a good egg!!!...</td>\n",
       "      <td>review</td>\n",
       "      <td>vYmM4KTsC8ZfQBg-j5MWkw</td>\n",
       "      <td>0</td>\n",
       "      <td>0</td>\n",
       "      <td>0</td>\n",
       "    </tr>\n",
       "  </tbody>\n",
       "</table>\n",
       "</div>"
      ],
      "text/plain": [
       "              business_id        date               review_id  stars  \\\n",
       "0  9yKzy9PApeiPPOUJEtnvkg  2011-01-26  fWKvX83p0-ka4JS3dc6E5A      5   \n",
       "1  ZRJwVLyzEJq1VAihDhYiow  2011-07-27  IjZ33sJrzXqU-0X6U8NwyA      5   \n",
       "2  6oRAC4uyJCsJl1X0WZpVSA  2012-06-14  IESLBzqUCLdSzSqm0eCSxQ      4   \n",
       "3  _1QQZuf4zZOyFCvXc0o6Vg  2010-05-27  G-WvGaISbqqaMHlNnByodA      5   \n",
       "4  6ozycU1RpktNG2-1BroVtw  2012-01-05  1uJFq2r5QfJG_6ExMRCaGw      5   \n",
       "\n",
       "                                                text    type  \\\n",
       "0  My wife took me here on my birthday for breakf...  review   \n",
       "1  I have no idea why some people give bad review...  review   \n",
       "2  love the gyro plate. Rice is so good and I als...  review   \n",
       "3  Rosie, Dakota, and I LOVE Chaparral Dog Park!!...  review   \n",
       "4  General Manager Scott Petello is a good egg!!!...  review   \n",
       "\n",
       "                  user_id  cool  useful  funny  \n",
       "0  rLtl8ZkDX5vH5nAx9C3q5Q     2       5      0  \n",
       "1  0a2KyEL0d3Yb1V6aivbIuQ     0       0      0  \n",
       "2  0hT2KtfLiobPvh6cDC8JQg     0       1      0  \n",
       "3  uZetl9T0NcROGOyFfughhg     1       2      0  \n",
       "4  vYmM4KTsC8ZfQBg-j5MWkw     0       0      0  "
      ]
     },
     "execution_count": 115,
     "metadata": {},
     "output_type": "execute_result"
    }
   ],
   "source": [
    "df.head()"
   ]
  },
  {
   "cell_type": "code",
   "execution_count": 116,
   "metadata": {
    "slideshow": {
     "slide_type": "subslide"
    }
   },
   "outputs": [
    {
     "data": {
      "text/plain": [
       "4    3526\n",
       "5    3337\n",
       "3    1461\n",
       "2     927\n",
       "1     749\n",
       "Name: stars, dtype: int64"
      ]
     },
     "execution_count": 116,
     "metadata": {},
     "output_type": "execute_result"
    }
   ],
   "source": [
    "df.stars.value_counts()"
   ]
  },
  {
   "cell_type": "code",
   "execution_count": 117,
   "metadata": {
    "slideshow": {
     "slide_type": "fragment"
    }
   },
   "outputs": [],
   "source": [
    "from sklearn.feature_extraction.text import CountVectorizer, TfidfVectorizer"
   ]
  },
  {
   "cell_type": "code",
   "execution_count": 118,
   "metadata": {
    "slideshow": {
     "slide_type": "fragment"
    }
   },
   "outputs": [],
   "source": [
    "cvect = CountVectorizer()"
   ]
  },
  {
   "cell_type": "code",
   "execution_count": 119,
   "metadata": {
    "slideshow": {
     "slide_type": "fragment"
    }
   },
   "outputs": [
    {
     "data": {
      "text/plain": [
       "<10000x29185 sparse matrix of type '<class 'numpy.int64'>'\n",
       "\twith 827105 stored elements in Compressed Sparse Row format>"
      ]
     },
     "execution_count": 119,
     "metadata": {},
     "output_type": "execute_result"
    }
   ],
   "source": [
    "cvect.fit_transform(df.text)"
   ]
  },
  {
   "cell_type": "code",
   "execution_count": 120,
   "metadata": {
    "slideshow": {
     "slide_type": "slide"
    }
   },
   "outputs": [
    {
     "data": {
      "text/plain": [
       "['00', '000', '007', '00a', '00am', '00pm', '01', '02', '03', '03342']"
      ]
     },
     "execution_count": 120,
     "metadata": {},
     "output_type": "execute_result"
    }
   ],
   "source": [
    "cvect.get_feature_names()[:10]"
   ]
  },
  {
   "cell_type": "code",
   "execution_count": 121,
   "metadata": {
    "slideshow": {
     "slide_type": "fragment"
    }
   },
   "outputs": [],
   "source": [
    "words = cvect.fit_transform(df.text)"
   ]
  },
  {
   "cell_type": "code",
   "execution_count": 122,
   "metadata": {
    "slideshow": {
     "slide_type": "fragment"
    }
   },
   "outputs": [
    {
     "data": {
      "text/plain": [
       "<10000x29185 sparse matrix of type '<class 'numpy.int64'>'\n",
       "\twith 827105 stored elements in Compressed Sparse Row format>"
      ]
     },
     "execution_count": 122,
     "metadata": {},
     "output_type": "execute_result"
    }
   ],
   "source": [
    "words"
   ]
  },
  {
   "cell_type": "code",
   "execution_count": 123,
   "metadata": {
    "slideshow": {
     "slide_type": "slide"
    }
   },
   "outputs": [
    {
     "data": {
      "text/plain": [
       "array([[0, 0, 0, ..., 0, 0, 0],\n",
       "       [0, 0, 0, ..., 0, 0, 0],\n",
       "       [0, 0, 0, ..., 0, 0, 0],\n",
       "       ...,\n",
       "       [0, 0, 0, ..., 0, 0, 0],\n",
       "       [0, 0, 0, ..., 0, 0, 0],\n",
       "       [0, 0, 0, ..., 0, 0, 0]], dtype=int64)"
      ]
     },
     "execution_count": 123,
     "metadata": {},
     "output_type": "execute_result"
    }
   ],
   "source": [
    "words.toarray()"
   ]
  },
  {
   "cell_type": "code",
   "execution_count": 124,
   "metadata": {
    "slideshow": {
     "slide_type": "slide"
    }
   },
   "outputs": [],
   "source": [
    "from sklearn.pipeline import make_pipeline\n",
    "from sklearn.linear_model import LinearRegression"
   ]
  },
  {
   "cell_type": "code",
   "execution_count": 125,
   "metadata": {
    "slideshow": {
     "slide_type": "subslide"
    }
   },
   "outputs": [],
   "source": [
    "pipe = make_pipeline(CountVectorizer(max_features=300), LinearRegression())"
   ]
  },
  {
   "cell_type": "code",
   "execution_count": 126,
   "metadata": {
    "slideshow": {
     "slide_type": "subslide"
    }
   },
   "outputs": [],
   "source": [
    "X = df.text\n",
    "y = df.stars"
   ]
  },
  {
   "cell_type": "code",
   "execution_count": 127,
   "metadata": {
    "slideshow": {
     "slide_type": "fragment"
    }
   },
   "outputs": [
    {
     "data": {
      "text/plain": [
       "Pipeline(memory=None,\n",
       "         steps=[('countvectorizer',\n",
       "                 CountVectorizer(analyzer='word', binary=False,\n",
       "                                 decode_error='strict',\n",
       "                                 dtype=<class 'numpy.int64'>, encoding='utf-8',\n",
       "                                 input='content', lowercase=True, max_df=1.0,\n",
       "                                 max_features=300, min_df=1, ngram_range=(1, 1),\n",
       "                                 preprocessor=None, stop_words=None,\n",
       "                                 strip_accents=None,\n",
       "                                 token_pattern='(?u)\\\\b\\\\w\\\\w+\\\\b',\n",
       "                                 tokenizer=None, vocabulary=None)),\n",
       "                ('linearregression',\n",
       "                 LinearRegression(copy_X=True, fit_intercept=True, n_jobs=None,\n",
       "                                  normalize=False))],\n",
       "         verbose=False)"
      ]
     },
     "execution_count": 127,
     "metadata": {},
     "output_type": "execute_result"
    }
   ],
   "source": [
    "pipe.fit(X, y)"
   ]
  },
  {
   "cell_type": "code",
   "execution_count": 128,
   "metadata": {
    "slideshow": {
     "slide_type": "subslide"
    }
   },
   "outputs": [
    {
     "data": {
      "text/plain": [
       "0.34945910601677954"
      ]
     },
     "execution_count": 128,
     "metadata": {},
     "output_type": "execute_result"
    }
   ],
   "source": [
    "pipe.score(X, y)"
   ]
  },
  {
   "cell_type": "markdown",
   "metadata": {
    "slideshow": {
     "slide_type": "slide"
    }
   },
   "source": [
    "## Summarizer"
   ]
  },
  {
   "cell_type": "code",
   "execution_count": 129,
   "metadata": {
    "slideshow": {
     "slide_type": "slide"
    }
   },
   "outputs": [],
   "source": [
    "import nltk\n",
    "# nltk.download('stopwords')\n",
    "# nltk.download('punkt')\n",
    "\n",
    "from nltk.tokenize import sent_tokenize, word_tokenize\n",
    "from string import punctuation\n",
    "from heapq import nlargest\n",
    "from collections import defaultdict\n",
    "\n",
    "class FrequencySummarizer:\n",
    "    \n",
    "    def __init__(self, min_cut = 0.1, max_cut = 0.9):\n",
    "        self._min_cut = min_cut\n",
    "        self._max_cut = max_cut\n",
    "        self._stopwords = set(stopwords)\n",
    "        \n",
    "    def compute_frequencies(self, word_sent):\n",
    "        freq = defaultdict(int)\n",
    "        \n",
    "        for sentence in word_sent:\n",
    "            \n",
    "            for word in sentence:\n",
    "                if word not in self._stopwords:\n",
    "                    freq[word] += 1\n",
    "                        \n",
    "        max_freq = float(max(freq.values()))               \n",
    "    \n",
    "        for word in freq.keys():\n",
    "\n",
    "            freq[word] = freq[word]/max_freq\n",
    "            \n",
    "        if freq[word] >= self._max_cut or freq[word] <= self._min_cut:\n",
    "            del freq[word]\n",
    "        return freq\n",
    "\n",
    "    def summarize(self, text, n):\n",
    "        sents = sent_tokenize(text)\n",
    "        \n",
    "        assert n <= len(sents)\n",
    "        word_sent = [word_tokenize(s.lower()) for s in sents]\n",
    "        self._freq = self.compute_frequencies(word_sent)\n",
    "        \n",
    "        rankings = defaultdict(int)\n",
    "        \n",
    "        for i, sent in enumerate(word_sent):\n",
    "            for word in sent:\n",
    "                if word in self._freq:\n",
    "                    rankings[i] += self._freq[word]\n",
    "                    \n",
    "        sents_idx = nlargest(n, rankings, key = rankings.get)\n",
    "        return [sents[j] for j in sents_idx]\n",
    "                    "
   ]
  },
  {
   "cell_type": "code",
   "execution_count": 130,
   "metadata": {
    "slideshow": {
     "slide_type": "subslide"
    }
   },
   "outputs": [],
   "source": [
    "s = '''\n",
    "Sgt. Pepper's Lonely Hearts Club Band, The Beatles (1967) Voted the worst record ever made in a 1998 Melody Maker poll of pop stars, DJs, and journalists.[3] Among the harshest detractors was musician and journalist John Robb, who described the album as \"the benchmark of 1967 - the low water point of rock 'n' roll\".[3] Guardian critic Richard Smith wrote that it is, \"if not the worst, then certainly the most overrated album of all time.\" He also contended that the \"excruciating\" LP was often ranked by members of the music press as the best ever due to affection for its cultural impact, and \"not because of anything intrinsically great about the record\".[4] Billy Childish was asked in 2007 to nominate the \"supposedly great\" album that he would \"gladly never hear again\", and he named Sgt. Pepper's Lonely Hearts Club Band and argued that it \"signalled the death of rock 'n' roll\".[5] Musician and author Bill Drummond called the record \"the worst thing that ever happened to music\n",
    "'''"
   ]
  },
  {
   "cell_type": "code",
   "execution_count": 131,
   "metadata": {
    "slideshow": {
     "slide_type": "fragment"
    }
   },
   "outputs": [],
   "source": [
    "f = FrequencySummarizer()"
   ]
  },
  {
   "cell_type": "code",
   "execution_count": 132,
   "metadata": {
    "slideshow": {
     "slide_type": "slide"
    }
   },
   "outputs": [
    {
     "data": {
      "text/plain": [
       "defaultdict(int,\n",
       "            {'\\n': 0.011976047904191617,\n",
       "             'S': 0.017964071856287425,\n",
       "             'g': 0.0718562874251497,\n",
       "             '.': 0.041916167664670656,\n",
       "             ' ': 1.0,\n",
       "             'P': 0.017964071856287425,\n",
       "             'e': 0.49101796407185627,\n",
       "             'p': 0.08383233532934131,\n",
       "             'r': 0.30538922155688625,\n",
       "             \"'\": 0.03592814371257485,\n",
       "             'L': 0.017964071856287425,\n",
       "             'n': 0.2754491017964072,\n",
       "             'l': 0.23353293413173654,\n",
       "             'H': 0.017964071856287425,\n",
       "             'C': 0.017964071856287425,\n",
       "             'u': 0.1377245508982036,\n",
       "             'b': 0.08383233532934131,\n",
       "             'B': 0.029940119760479042,\n",
       "             ',': 0.04790419161676647,\n",
       "             'T': 0.005988023952095809,\n",
       "             'h': 0.23353293413173654,\n",
       "             '(': 0.005988023952095809,\n",
       "             '1': 0.017964071856287425,\n",
       "             '9': 0.023952095808383235,\n",
       "             '6': 0.011976047904191617,\n",
       "             '7': 0.017964071856287425,\n",
       "             ')': 0.005988023952095809,\n",
       "             'V': 0.005988023952095809,\n",
       "             'w': 0.0658682634730539,\n",
       "             'c': 0.1497005988023952,\n",
       "             'v': 0.029940119760479042,\n",
       "             '8': 0.005988023952095809,\n",
       "             'M': 0.017964071856287425,\n",
       "             'k': 0.03592814371257485,\n",
       "             'f': 0.0718562874251497,\n",
       "             'D': 0.011976047904191617,\n",
       "             'J': 0.011976047904191617,\n",
       "             'j': 0.011976047904191617,\n",
       "             '[': 0.023952095808383235,\n",
       "             '3': 0.011976047904191617,\n",
       "             ']': 0.023952095808383235,\n",
       "             'A': 0.005988023952095809,\n",
       "             'R': 0.011976047904191617,\n",
       "             '\"': 0.08982035928143713,\n",
       "             '-': 0.005988023952095809,\n",
       "             'G': 0.005988023952095809,\n",
       "             'x': 0.005988023952095809,\n",
       "             '4': 0.005988023952095809,\n",
       "             '2': 0.005988023952095809,\n",
       "             '0': 0.011976047904191617})"
      ]
     },
     "execution_count": 132,
     "metadata": {},
     "output_type": "execute_result"
    }
   ],
   "source": [
    "f.compute_frequencies(s)"
   ]
  },
  {
   "cell_type": "code",
   "execution_count": 133,
   "metadata": {
    "slideshow": {
     "slide_type": "slide"
    }
   },
   "outputs": [
    {
     "data": {
      "text/plain": [
       "['[3] Among the harshest detractors was musician and journalist John Robb, who described the album as \"the benchmark of 1967 - the low water point of rock \\'n\\' roll\".',\n",
       " '[4] Billy Childish was asked in 2007 to nominate the \"supposedly great\" album that he would \"gladly never hear again\", and he named Sgt.',\n",
       " 'He also contended that the \"excruciating\" LP was often ranked by members of the music press as the best ever due to affection for its cultural impact, and \"not because of anything intrinsically great about the record\".',\n",
       " \"Pepper's Lonely Hearts Club Band, The Beatles (1967) Voted the worst record ever made in a 1998 Melody Maker poll of pop stars, DJs, and journalists.\"]"
      ]
     },
     "execution_count": 133,
     "metadata": {},
     "output_type": "execute_result"
    }
   ],
   "source": [
    "f.summarize(s, 4)"
   ]
  },
  {
   "cell_type": "code",
   "execution_count": null,
   "metadata": {},
   "outputs": [],
   "source": []
  }
 ],
 "metadata": {
  "kernelspec": {
   "display_name": "Python 3",
   "language": "python",
   "name": "python3"
  },
  "language_info": {
   "codemirror_mode": {
    "name": "ipython",
    "version": 3
   },
   "file_extension": ".py",
   "mimetype": "text/x-python",
   "name": "python",
   "nbconvert_exporter": "python",
   "pygments_lexer": "ipython3",
   "version": "3.7.3"
  }
 },
 "nbformat": 4,
 "nbformat_minor": 2
}
