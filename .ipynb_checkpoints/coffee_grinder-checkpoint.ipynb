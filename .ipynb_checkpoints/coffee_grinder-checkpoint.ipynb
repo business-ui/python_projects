{
 "cells": [
  {
   "cell_type": "code",
   "execution_count": 1,
   "metadata": {},
   "outputs": [],
   "source": [
    "from flask import Flask\n",
    "from flask_apscheduler import APScheduler\n",
    "\n",
    "import pandas as pd\n",
    "from sqlalchemy import create_engine\n",
    "\n",
    "import requests\n",
    "from bs4 import BeautifulSoup\n",
    "\n",
    "class Config(object):\n",
    "    SCHEDULER_API_ENABLED = True\n",
    "\n",
    "\n",
    "scheduler = APScheduler()"
   ]
  },
  {
   "cell_type": "code",
   "execution_count": 2,
   "metadata": {},
   "outputs": [],
   "source": [
    "def get_current_data():\n",
    "    r = requests.get(\"http://www.madebyknock.com/store/p50/Aerspeed.html\")\n",
    "    soup = BeautifulSoup(r.text)\n",
    "\n",
    "    # retail_price, sale_price, on_sale, sold_out\n",
    "    retail_price = float(soup.find(\"div\", {\"id\": \"wsite-com-product-price\"}).find(\"span\").text[1:])\n",
    "    sale_price = float(soup.find(\"div\", {\"id\": \"wsite-com-product-price-range\"}).find(\"span\").text[1:])\n",
    "    \n",
    "    try:\n",
    "        if soup.find(\"div\", {\"id\": \"wsite-com-product-on-sale\"}).text.strip():\n",
    "            on_sale = 1\n",
    "    except:\n",
    "        on_sale = 0\n",
    "\n",
    "    try:\n",
    "        if soup.find(\"div\", {\"id\": \"wsite-com-product-inventory-message\"}).text.strip():\n",
    "            sold_out = 1\n",
    "    except:\n",
    "        sold_out = 0\n",
    "    \n",
    "    return retail_price, sale_price, on_sale, sold_out"
   ]
  },
  {
   "cell_type": "code",
   "execution_count": 29,
   "metadata": {},
   "outputs": [],
   "source": [
    "def get_previous_data():\n",
    "    engine = create_engine(\"sqlite:///coffee_database.db\")\n",
    "    conn = engine.connect()\n",
    "    df = pd.read_sql(\"SELECT * FROM coffee\",con=conn)\n",
    "    conn.close()\n",
    "    engine.dispose()\n",
    "    return df['retail_price'].values[0],df['sale_price'].values[0],df['on_sale'].values[0],df['sold_out'].values[0]"
   ]
  },
  {
   "cell_type": "code",
   "execution_count": 40,
   "metadata": {},
   "outputs": [],
   "source": [
    "def update_data():\n",
    "    data = get_current_data()\n",
    "    df = pd.DataFrame({\"retail_price\":[data[0]],\n",
    "                   \"sale_price\":[data[1]],\n",
    "                   \"on_sale\":[data[2]],\n",
    "                   \"sold_out\":[data[3]]\n",
    "                  })\n",
    "    engine = create_engine(\"sqlite:///coffee_database.db\")\n",
    "    conn = engine.connect()\n",
    "    df.to_sql(\"coffee\",con=conn,if_exists='replace',index=False)\n",
    "    conn.close()\n",
    "    engine.dispose()\n",
    "    return df['retail_price'].values[0],df['sale_price'].values[0],df['on_sale'].values[0],df['sold_out'].values[0]"
   ]
  },
  {
   "cell_type": "code",
   "execution_count": 43,
   "metadata": {},
   "outputs": [],
   "source": [
    "def send_email(retail_price,sale_price,on_sale):\n",
    "    \n",
    "    if on_sale==1:\n",
    "        on_sale = \"True\"\n",
    "    else:\n",
    "        on_sale = \"False\"\n",
    "    \n",
    "    import yagmail\n",
    "\n",
    "    sender_email = \"ryan.al.miller@gmail.com\"\n",
    "    receiver_email = \"gkravats@gmail.com\"\n",
    "    subject = 'IN STOCK - Aerspeed Information'\n",
    "    body = \"\"\"Retail Price: {}\n",
    "    Sale Price: {}\n",
    "    On Sale: {}\n",
    "    http://www.madebyknock.com/store/p50/Aerspeed.html\n",
    "    \"\"\".format(retail_price,sale_price,on_sale)\n",
    "\n",
    "    yag=yagmail.SMTP(sender_email)\n",
    "    yag.send(\n",
    "        to=receiver_email,\n",
    "        subject=subject,\n",
    "        contents=body\n",
    "    )"
   ]
  },
  {
   "cell_type": "code",
   "execution_count": 44,
   "metadata": {},
   "outputs": [],
   "source": [
    "@scheduler.task('interval', id='do_job_1', minutes=1, misfire_grace_time=900)\n",
    "def job1():\n",
    "    data = get_current_data()\n",
    "    if data != get_previous_data() and data[3]==0:\n",
    "        update_data()\n",
    "        send_email(data[0],data[1],data[2])"
   ]
  },
  {
   "cell_type": "code",
   "execution_count": null,
   "metadata": {},
   "outputs": [],
   "source": []
  },
  {
   "cell_type": "code",
   "execution_count": 6,
   "metadata": {},
   "outputs": [
    {
     "name": "stdout",
     "output_type": "stream",
     "text": [
      " * Serving Flask app \"__main__\" (lazy loading)\n",
      " * Environment: production\n",
      "   WARNING: This is a development server. Do not use it in a production deployment.\n",
      "   Use a production WSGI server instead.\n",
      " * Debug mode: off\n"
     ]
    },
    {
     "name": "stderr",
     "output_type": "stream",
     "text": [
      " * Running on http://127.0.0.1:5000/ (Press CTRL+C to quit)\n"
     ]
    }
   ],
   "source": [
    "if __name__ == '__main__':\n",
    "    app = Flask(__name__)\n",
    "    app.config.from_object(Config())\n",
    "\n",
    "    # it is also possible to enable the API directly\n",
    "    # scheduler.api_enabled = True\n",
    "    scheduler.init_app(app)\n",
    "    scheduler.start()\n",
    "\n",
    "    app.run()"
   ]
  }
 ],
 "metadata": {
  "kernelspec": {
   "display_name": "Python 3",
   "language": "python",
   "name": "python3"
  },
  "language_info": {
   "codemirror_mode": {
    "name": "ipython",
    "version": 3
   },
   "file_extension": ".py",
   "mimetype": "text/x-python",
   "name": "python",
   "nbconvert_exporter": "python",
   "pygments_lexer": "ipython3",
   "version": "3.7.3"
  }
 },
 "nbformat": 4,
 "nbformat_minor": 2
}
