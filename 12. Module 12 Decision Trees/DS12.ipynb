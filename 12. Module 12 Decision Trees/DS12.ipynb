{
 "cells": [
  {
   "cell_type": "code",
   "execution_count": 1,
   "metadata": {},
   "outputs": [],
   "source": [
    "import pandas as pd\n",
    "import matplotlib.pyplot as plt\n",
    "import numpy as np\n",
    "\n",
    "from sklearn.model_selection import train_test_split\n",
    "from sklearn.tree import DecisionTreeClassifier, DecisionTreeRegressor\n",
    "from sklearn.ensemble import RandomForestClassifier, RandomForestRegressor\n",
    "from sklearn.linear_model import LinearRegression\n",
    "from sklearn.metrics import r2_score\n",
    "\n",
    "%matplotlib inline"
   ]
  },
  {
   "cell_type": "markdown",
   "metadata": {},
   "source": [
    "#### Reading-In and Cleaning Up the Data\n",
    "\n",
    "The first thing to do is to take a hold-out set. This is different from the training and testing set in that it will only be used at the very end of our work in order to select  between the various models in sklearn using the training and testing set.\n",
    "\n",
    "Using the train/test parlance, the hold-out set might be considered the \"exam\" data. For this, I will select 10% of the data."
   ]
  },
  {
   "cell_type": "code",
   "execution_count": 2,
   "metadata": {},
   "outputs": [
    {
     "data": {
      "text/plain": [
       "array([25192, 12077, 19707, 17760, 45501, 44784,  6862, 38064, 45819,\n",
       "        5265], dtype=int64)"
      ]
     },
     "execution_count": 2,
     "metadata": {},
     "output_type": "execute_result"
    }
   ],
   "source": [
    "data_path = './office_supply.csv'\n",
    "df = pd.read_csv(data_path)\n",
    "holdout_indices = np.random.choice(df.index, replace=False, size=round(len(df.index)*.1))\n",
    "holdout_indices[:10]"
   ]
  },
  {
   "cell_type": "markdown",
   "metadata": {},
   "source": [
    "With the inidices for the holdout data in hand, I will read in all the data and separate the holdout-data from the training data."
   ]
  },
  {
   "cell_type": "code",
   "execution_count": 3,
   "metadata": {},
   "outputs": [
    {
     "name": "stdout",
     "output_type": "stream",
     "text": [
      "The length of the holdout data:  4641\n",
      "The length of the training data:  41766\n"
     ]
    }
   ],
   "source": [
    "holdout_data = df.loc[holdout_indices,:]\n",
    "print(\"The length of the holdout data: \",len(holdout_data))\n",
    "training_data = df.drop(holdout_indices, axis='rows')\n",
    "# dropping the indices of the holdout data from the full dataframe leaves the training data\n",
    "print(\"The length of the training data: \",len(training_data))"
   ]
  },
  {
   "cell_type": "markdown",
   "metadata": {},
   "source": [
    "#### Below are the functions which will be used to preprocess the data:"
   ]
  },
  {
   "cell_type": "code",
   "execution_count": 9,
   "metadata": {},
   "outputs": [],
   "source": [
    "# Function for preprocessing data\n",
    "def office_preprocess(X,y):\n",
    "    # Hard-code lists for dropping and to_bool\n",
    "    # Dropped variables include dates and features with many missing values\n",
    "    to_drop = ['date_of_last_transaction', 'date_of_first_purchase',\n",
    "               'customer_number', 'language',\n",
    "               'last_transaction_channel', 'number_of_employees']\n",
    "    to_bool = ['desk', 'executive_chair', 'standard_chair',\n",
    "               'monitor', 'printer','computer', 'insurance',\n",
    "               'toner', 'office_supplies']\n",
    "    # Hard-code values for notice, auto, and prem\n",
    "    notice = \"NOTICE\"\n",
    "    auto = \"AUTO RENEW\"\n",
    "    prem = \"Premier\"\n",
    "\n",
    "    # Function to convert and fill \"Y/N\" features\n",
    "    def convert_fill_bool(val):\n",
    "        if val == 'Y': return True\n",
    "        else: return False\n",
    "\n",
    "    # Function to encode the service as \"premium\" : true or false\n",
    "    def encode_service(val):\n",
    "        if val == prem: return True\n",
    "        else: return False\n",
    "\n",
    "    # Function to encode the repurchase feature into two columns: \"notice\" true/false and \"auto_renew\" true/false\n",
    "    # \"payment\" plan implied by \"false\" in \"notice\" and \"auto_renew\" columns\n",
    "    def encode_repurchase(series):\n",
    "\n",
    "        def notice_encode(val):\n",
    "            if val == notice: return True\n",
    "            else: return False\n",
    "\n",
    "        def auto_renew_encode(val):\n",
    "            if val == auto: return True\n",
    "            else: return False\n",
    "\n",
    "        ser_notice = series.apply(notice_encode)\n",
    "        ser_notice.name = \"repurchase_notice\"\n",
    "        ser_auto = series.apply(auto_renew_encode)\n",
    "        ser_auto.name = \"repurchase_auto\"\n",
    "\n",
    "        return pd.concat([ser_notice, ser_auto], axis = 'columns')\n",
    "\n",
    "    # Function to transform campaign_period_sales to a float\n",
    "    def transform_target(raw):\n",
    "        # make sure the value is initially cast as a string\n",
    "        raw = str(raw)\n",
    "\n",
    "        # determine if negative or not\n",
    "        if raw.count(\"(\") > 0: sign = -1\n",
    "        else: sign = 1\n",
    "\n",
    "        # remove all spaces, commas, dollar signs, and parentheses\n",
    "        for to_rem in [\" \",\",\",\"$\", \"(\",\")\"]:\n",
    "            raw = raw.replace(to_rem,\"\")\n",
    "        return sign *float(raw)\n",
    "\n",
    "    y_trans = y.apply(transform_target)\n",
    "\n",
    "    X_trans = X.drop(to_drop, axis = 'columns')\n",
    "\n",
    "    for col in to_bool:\n",
    "        X_trans[col] = X_trans[col].apply(convert_fill_bool)\n",
    "\n",
    "    X_trans['premier_service'] = X_trans['service_level'].apply(encode_service)\n",
    "    X_trans.drop('service_level', axis = 'columns', inplace = True)\n",
    "\n",
    "    repurch = encode_repurchase(X_trans['repurchase_method'])\n",
    "    X_trans = pd.concat([X_trans.drop('repurchase_method', axis = 'columns'), repurch], axis = 'columns')\n",
    "\n",
    "    return X_trans, y_trans\n",
    "\n",
    "def rename_columns(df):\n",
    "    df.columns = [col.strip().replace(' ', '_').lower() for col in df.columns]\n",
    "    return df\n",
    "\n",
    "def pull_out_target_pass_to_preprocess(df):\n",
    "    # Pull out target and explanatory variables\n",
    "    X = df.drop('campaign_period_sales', axis = 'columns')\n",
    "    y = df['campaign_period_sales']\n",
    "\n",
    "    X, y = office_preprocess(X,y)\n",
    "\n",
    "    return pd.concat([y,X],axis = 'columns')"
   ]
  },
  {
   "cell_type": "code",
   "execution_count": 10,
   "metadata": {},
   "outputs": [
    {
     "name": "stdout",
     "output_type": "stream",
     "text": [
      "       campaign_period_sales  number_of_transactions  \\\n",
      "25192                 393.94                      18   \n",
      "\n",
      "       do_not_direct_mail_solicit  do_not_email  do_not_telemarket  \\\n",
      "25192                       False         False              False   \n",
      "\n",
      "       email_available   desk  executive_chair  standard_chair  monitor  \\\n",
      "25192             True  False            False           False    False   \n",
      "\n",
      "       printer  computer  insurance  toner  office_supplies  premier_service  \\\n",
      "25192    False     False      False  False             True            False   \n",
      "\n",
      "       repurchase_notice  repurchase_auto  \n",
      "25192              False             True  \n",
      "   campaign_period_sales  number_of_transactions  do_not_direct_mail_solicit  \\\n",
      "0                 107.16                      20                       False   \n",
      "\n",
      "   do_not_email  do_not_telemarket  email_available   desk  executive_chair  \\\n",
      "0         False              False            False  False            False   \n",
      "\n",
      "   standard_chair  monitor  printer  computer  insurance  toner  \\\n",
      "0           False    False    False     False      False  False   \n",
      "\n",
      "   office_supplies  premier_service  repurchase_notice  repurchase_auto  \n",
      "0             True            False               True            False  \n"
     ]
    }
   ],
   "source": [
    "# Perform pre-processing on both holdout and fitting data\n",
    "holdout_data = rename_columns(holdout_data)\n",
    "holdout_data = pull_out_target_pass_to_preprocess(holdout_data)\n",
    "\n",
    "training_data = rename_columns(training_data)\n",
    "training_data = pull_out_target_pass_to_preprocess(training_data)\n",
    "\n",
    "print(holdout_data.head(1))\n",
    "print(training_data.head(1))\n"
   ]
  },
  {
   "cell_type": "markdown",
   "metadata": {},
   "source": [
    "Now I have the holdout data, which will be used for the final evaluation of the model -- indicating precisely how well the model will perform.\n",
    "\n",
    "To select the model, I need to create the train_test_split. At this point I will separate out the target (y) and explanatory data (X):"
   ]
  },
  {
   "cell_type": "code",
   "execution_count": 12,
   "metadata": {},
   "outputs": [],
   "source": [
    "X = training_data.drop('campaign_period_sales', axis = 'columns')\n",
    "y = training_data['campaign_period_sales']\n",
    "\n",
    "X_train, X_test, y_train, y_test = train_test_split(X, y, test_size = .25)\n"
   ]
  },
  {
   "cell_type": "markdown",
   "metadata": {},
   "source": [
    "Finally I can proceed with model building. The target is a continuous variable - campaign period sales."
   ]
  },
  {
   "cell_type": "markdown",
   "metadata": {},
   "source": [
    "Regressors are used with data that is continuous."
   ]
  },
  {
   "cell_type": "markdown",
   "metadata": {},
   "source": [
    "Below, two tree models and a simple linear regression are   fit and used to predict on the test set of data."
   ]
  },
  {
   "cell_type": "code",
   "execution_count": 13,
   "metadata": {},
   "outputs": [
    {
     "name": "stdout",
     "output_type": "stream",
     "text": [
      "Decision Tree r2 Score: 0.44270127917863533\n",
      "Random Forest r2 Score: 0.49324829761428496\n",
      "Linear Regression r2 Score: 0.4966728806947007\n"
     ]
    }
   ],
   "source": [
    "# Instantiate Model\n",
    "dt = DecisionTreeRegressor()\n",
    "rf = RandomForestRegressor(n_estimators=100)\n",
    "lr = LinearRegression()\n",
    "# Fit Models\n",
    "dt.fit(X_train, y_train)\n",
    "rf.fit(X_train, y_train)\n",
    "lr.fit(X_train, y_train)\n",
    "# Find Score on Testing dAta\n",
    "print(\"Decision Tree r2 Score:\", dt.score(X_test, y_test))\n",
    "print(\"Random Forest r2 Score:\", rf.score(X_test, y_test) )\n",
    "print(\"Linear Regression r2 Score:\", lr.score(X_test, y_test))"
   ]
  },
  {
   "cell_type": "markdown",
   "metadata": {},
   "source": [
    "Only the Decision tree r2 score looks slightly worse.\n",
    "\n",
    "I'm going to use the Random Forest model.\n",
    "\n",
    "The next step will be to fit the Random Forest on both the training and testing data and <i>then</i> I can see how well it performs on the holdout data."
   ]
  },
  {
   "cell_type": "code",
   "execution_count": 14,
   "metadata": {},
   "outputs": [
    {
     "data": {
      "text/plain": [
       "0.5122608920418055"
      ]
     },
     "execution_count": 14,
     "metadata": {},
     "output_type": "execute_result"
    }
   ],
   "source": [
    "# Fitting model on ALL the training data\n",
    "rf.fit(X,y)\n",
    "# Splitting out target in the holdout data\n",
    "holdout_target = holdout_data['campaign_period_sales']\n",
    "holdout_explanitory = holdout_data.drop('campaign_period_sales', axis = 'columns')\n",
    "# Finding r2 score\n",
    "rf.score(holdout_explanitory, holdout_target)\n"
   ]
  },
  {
   "cell_type": "markdown",
   "metadata": {},
   "source": [
    "Notably, the model did not perform markedly better (or worse) on the holdout data. This is actually a good thing. At this point, I can be pretty confident that the Random Forest Model will account for between 45 and 50% of the variance in the sales data."
   ]
  },
  {
   "cell_type": "markdown",
   "metadata": {},
   "source": [
    "If the scores were inconsistent, that would most likely be a sign that the model was getting \"lucky\" on the data being picked in the holdout-set.\n"
   ]
  },
  {
   "cell_type": "markdown",
   "metadata": {},
   "source": [
    "# Fitting Models in sklearn\n",
    "\n",
    "In the above project, I went through multiple steps to clean the data, instantiate the model, fit the model to the data, and make predicitions or score the model."
   ]
  },
  {
   "cell_type": "markdown",
   "metadata": {},
   "source": [
    "### Step 1: Use pandas to clean and normalize the data."
   ]
  },
  {
   "cell_type": "markdown",
   "metadata": {},
   "source": [
    "### Step 2: Instantiate the model."
   ]
  },
  {
   "cell_type": "code",
   "execution_count": 15,
   "metadata": {},
   "outputs": [],
   "source": [
    "decision_tree = DecisionTreeRegressor()\n",
    "random_forest = RandomForestRegressor(n_estimators=100)\n",
    "linear_regression = LinearRegression()"
   ]
  },
  {
   "cell_type": "markdown",
   "metadata": {},
   "source": [
    "### Step 3: Fit the model."
   ]
  },
  {
   "cell_type": "code",
   "execution_count": 16,
   "metadata": {},
   "outputs": [
    {
     "data": {
      "text/plain": [
       "LinearRegression(copy_X=True, fit_intercept=True, n_jobs=None, normalize=False)"
      ]
     },
     "execution_count": 16,
     "metadata": {},
     "output_type": "execute_result"
    }
   ],
   "source": [
    "decision_tree.fit(X_train, y_train)\n",
    "random_forest.fit(X_train, y_train)\n",
    "linear_regression.fit(X_train, y_train)"
   ]
  },
  {
   "cell_type": "markdown",
   "metadata": {},
   "source": [
    "### Step 4: Make Predictions and/or Scores."
   ]
  },
  {
   "cell_type": "code",
   "execution_count": 17,
   "metadata": {},
   "outputs": [
    {
     "name": "stdout",
     "output_type": "stream",
     "text": [
      ".predict():  [ 433.58        355.67597826  392.11450292 ...  450.296      3922.53\n",
      "  384.22448087]\n",
      ".score():  0.4966728806947007\n"
     ]
    }
   ],
   "source": [
    "print(\".predict(): \", decision_tree.predict(X_test))\n",
    "print(\".score(): \", linear_regression.score(X_test, y_test))"
   ]
  },
  {
   "cell_type": "code",
   "execution_count": null,
   "metadata": {},
   "outputs": [],
   "source": []
  }
 ],
 "metadata": {
  "kernelspec": {
   "display_name": "Python 3",
   "language": "python",
   "name": "python3"
  },
  "language_info": {
   "codemirror_mode": {
    "name": "ipython",
    "version": 3
   },
   "file_extension": ".py",
   "mimetype": "text/x-python",
   "name": "python",
   "nbconvert_exporter": "python",
   "pygments_lexer": "ipython3",
   "version": "3.7.3"
  }
 },
 "nbformat": 4,
 "nbformat_minor": 2
}
