{
 "cells": [
  {
   "cell_type": "code",
   "execution_count": 1,
   "metadata": {},
   "outputs": [],
   "source": [
    "from flask import Flask, render_template, url_for, request, redirect\n",
    "from flask_apscheduler import APScheduler\n",
    "from apscheduler.schedulers.background import BackgroundScheduler\n",
    "from flask import Response\n",
    "# from flask_sqlalchemy import SQLAlchemy\n",
    "from sqlalchemy import create_engine\n",
    "\n",
    "import matplotlib.pyplot as plt\n",
    "import matplotlib.transforms as mtransforms\n",
    "from matplotlib.backends.backend_agg import FigureCanvasAgg as FigureCanvas\n",
    "import matplotlib\n",
    "matplotlib.use('Agg')\n",
    "\n",
    "import io\n",
    "import numpy as np\n",
    "import pandas as pd"
   ]
  },
  {
   "cell_type": "code",
   "execution_count": 2,
   "metadata": {},
   "outputs": [],
   "source": [
    "# app = Flask(__name__)\n",
    "SCHEDULER = APScheduler()\n",
    "SCHEDULER_TARGET = \"https://\"\n",
    "\n",
    "# class Config(object):\n",
    "#     JOBS = [\n",
    "#         {\n",
    "#             \"id\":\"Scheduled_Task\",\n",
    "#             'func':'scheduled_task'\n",
    "#         }\n",
    "#     ]\n",
    "#     SQLALCHEMY_DATABASE_URI = 'sqlite:///database.db'\n",
    "#     SCHEDULER_API_ENABLED=True\n",
    "    \n",
    "from bs4 import BeautifulSoup\n",
    "# url = \"https://en.wikipedia.org/wiki/Gross_domestic_product\"\n",
    "import requests\n",
    "from datetime import datetime\n",
    "# soup = BeautifulSoup(requests.get(url).text, features=\"html.parser\")\n",
    "# print(soup.find(id=\"firstHeading\").text)\n",
    "engine = create_engine(\"sqlite:///database.db\")    \n",
    "    \n",
    "@SCHEDULER.task('interval',id=\"Scheduled_Task\",seconds=8)\n",
    "def scheduled_task():\n",
    "    #constant data grab\n",
    "    soup = BeautifulSoup(requests.get(SCHEDULER_TARGET).text, features=\"html.parser\")\n",
    "    elem = float(soup.find(\"span\",attrs={\"data-reactid\": \"14\"}).text.replace(\",\",\"\"))\n",
    "#     print(elem)\n",
    "    df = pd.DataFrame(data = {\"time\":[datetime.now()],\"btc_price\":[elem]})\n",
    "    \n",
    "    #sql engine\n",
    "    \n",
    "    with engine.connect() as conn:\n",
    "        df.to_sql(\"btc\",con=conn,if_exists=\"append\")\n",
    "        print(pd.read_sql(\"SELECT * FROM btc\",con=conn))"
   ]
  },
  {
   "cell_type": "code",
   "execution_count": 3,
   "metadata": {},
   "outputs": [
    {
     "name": "stdout",
     "output_type": "stream",
     "text": [
      "       index                        time  btc_price\n",
      "0          0  2020-05-01 18:04:51.432273    8865.62\n",
      "1          0  2020-05-01 18:04:59.255141    8865.62\n",
      "2          0  2020-05-01 18:05:07.392666    8865.62\n",
      "3          0  2020-05-01 18:05:52.814023    8858.09\n",
      "4          0  2020-05-01 18:06:00.731750    8858.09\n",
      "...      ...                         ...        ...\n",
      "11331      0  2020-05-03 00:54:20.515674    9112.60\n",
      "11332      0  2020-05-03 00:54:28.676471    9112.60\n",
      "11333      0  2020-05-03 00:54:36.550354    9112.60\n",
      "11334      0  2020-05-03 00:56:00.711603    9105.75\n",
      "11335      0  2020-05-03 01:00:18.837208    9094.41\n",
      "\n",
      "[11336 rows x 3 columns]\n"
     ]
    },
    {
     "name": "stderr",
     "output_type": "stream",
     "text": [
      "Execution of job \"scheduled_task (trigger: interval[0:00:08], next run at: 2020-05-03 01:00:34 EDT)\" skipped: maximum number of running instances reached (1)\n"
     ]
    },
    {
     "name": "stdout",
     "output_type": "stream",
     "text": [
      "       index                        time  btc_price\n",
      "0          0  2020-05-01 18:04:51.432273    8865.62\n",
      "1          0  2020-05-01 18:04:59.255141    8865.62\n",
      "2          0  2020-05-01 18:05:07.392666    8865.62\n",
      "3          0  2020-05-01 18:05:52.814023    8858.09\n",
      "4          0  2020-05-01 18:06:00.731750    8858.09\n",
      "...      ...                         ...        ...\n",
      "11332      0  2020-05-03 00:54:28.676471    9112.60\n",
      "11333      0  2020-05-03 00:54:36.550354    9112.60\n",
      "11334      0  2020-05-03 00:56:00.711603    9105.75\n",
      "11335      0  2020-05-03 01:00:18.837208    9094.41\n",
      "11336      0  2020-05-03 01:00:35.294571    9094.41\n",
      "\n",
      "[11337 rows x 3 columns]\n",
      "       index                        time  btc_price\n",
      "0          0  2020-05-01 18:04:51.432273    8865.62\n",
      "1          0  2020-05-01 18:04:59.255141    8865.62\n",
      "2          0  2020-05-01 18:05:07.392666    8865.62\n",
      "3          0  2020-05-01 18:05:52.814023    8858.09\n",
      "4          0  2020-05-01 18:06:00.731750    8858.09\n",
      "...      ...                         ...        ...\n",
      "11333      0  2020-05-03 00:54:36.550354    9112.60\n",
      "11334      0  2020-05-03 00:56:00.711603    9105.75\n",
      "11335      0  2020-05-03 01:00:18.837208    9094.41\n",
      "11336      0  2020-05-03 01:00:35.294571    9094.41\n",
      "11337      0  2020-05-03 01:00:42.769855    9094.41\n",
      "\n",
      "[11338 rows x 3 columns]\n",
      "       index                        time  btc_price\n",
      "0          0  2020-05-01 18:04:51.432273    8865.62\n",
      "1          0  2020-05-01 18:04:59.255141    8865.62\n",
      "2          0  2020-05-01 18:05:07.392666    8865.62\n",
      "3          0  2020-05-01 18:05:52.814023    8858.09\n",
      "4          0  2020-05-01 18:06:00.731750    8858.09\n",
      "...      ...                         ...        ...\n",
      "11334      0  2020-05-03 00:56:00.711603    9105.75\n",
      "11335      0  2020-05-03 01:00:18.837208    9094.41\n",
      "11336      0  2020-05-03 01:00:35.294571    9094.41\n",
      "11337      0  2020-05-03 01:00:42.769855    9094.41\n",
      "11338      0  2020-05-03 01:00:50.996594    9094.41\n",
      "\n",
      "[11339 rows x 3 columns]\n"
     ]
    }
   ],
   "source": [
    "# app.config.from_object(Config())\n",
    "scheduler.start()\n",
    "\n",
    "# app.run()"
   ]
  },
  {
   "cell_type": "code",
   "execution_count": 3,
   "metadata": {},
   "outputs": [
    {
     "ename": "NameError",
     "evalue": "name 'url' is not defined",
     "output_type": "error",
     "traceback": [
      "\u001b[1;31m---------------------------------------------------------------------------\u001b[0m",
      "\u001b[1;31mNameError\u001b[0m                                 Traceback (most recent call last)",
      "\u001b[1;32m<ipython-input-3-1fc7980616e7>\u001b[0m in \u001b[0;36m<module>\u001b[1;34m\u001b[0m\n\u001b[0;32m      7\u001b[0m }\n\u001b[0;32m      8\u001b[0m \u001b[1;33m\u001b[0m\u001b[0m\n\u001b[1;32m----> 9\u001b[1;33m \u001b[0mr\u001b[0m \u001b[1;33m=\u001b[0m \u001b[0mrequests\u001b[0m\u001b[1;33m.\u001b[0m\u001b[0mget\u001b[0m\u001b[1;33m(\u001b[0m\u001b[0murl\u001b[0m\u001b[1;33m,\u001b[0m \u001b[0mheaders\u001b[0m\u001b[1;33m=\u001b[0m\u001b[0mheader\u001b[0m\u001b[1;33m)\u001b[0m\u001b[1;33m\u001b[0m\u001b[1;33m\u001b[0m\u001b[0m\n\u001b[0m\u001b[0;32m     10\u001b[0m \u001b[0mpd\u001b[0m\u001b[1;33m.\u001b[0m\u001b[0mread_html\u001b[0m\u001b[1;33m(\u001b[0m\u001b[0mr\u001b[0m\u001b[1;33m.\u001b[0m\u001b[0mtext\u001b[0m\u001b[1;33m)\u001b[0m\u001b[1;33m\u001b[0m\u001b[1;33m\u001b[0m\u001b[0m\n",
      "\u001b[1;31mNameError\u001b[0m: name 'url' is not defined"
     ]
    }
   ],
   "source": [
    "import pandas as pd\n",
    "import requests\n",
    "\n",
    "header = {\n",
    "  \"User-Agent\": \"Mozilla/5.0 (X11; Linux x86_64) AppleWebKit/537.36 (KHTML, like Gecko) Chrome/50.0.2661.75 Safari/537.36\",\n",
    "  \"X-Requested-With\": \"XMLHttpRequest\"\n",
    "}\n",
    "\n",
    "r = requests.get(url, headers=header)\n",
    "pd.read_html(r.text)"
   ]
  },
  {
   "cell_type": "code",
   "execution_count": null,
   "metadata": {},
   "outputs": [],
   "source": []
  }
 ],
 "metadata": {
  "kernelspec": {
   "display_name": "Python 3",
   "language": "python",
   "name": "python3"
  },
  "language_info": {
   "codemirror_mode": {
    "name": "ipython",
    "version": 3
   },
   "file_extension": ".py",
   "mimetype": "text/x-python",
   "name": "python",
   "nbconvert_exporter": "python",
   "pygments_lexer": "ipython3",
   "version": "3.7.3"
  }
 },
 "nbformat": 4,
 "nbformat_minor": 2
}
