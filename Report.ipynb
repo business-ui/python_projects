{
 "cells": [
  {
   "cell_type": "code",
   "execution_count": 1,
   "metadata": {},
   "outputs": [],
   "source": [
    "import csv"
   ]
  },
  {
   "cell_type": "code",
   "execution_count": 2,
   "metadata": {},
   "outputs": [],
   "source": [
    "import pandas as pd"
   ]
  },
  {
   "cell_type": "code",
   "execution_count": 3,
   "metadata": {},
   "outputs": [],
   "source": [
    "import numpy as np"
   ]
  },
  {
   "cell_type": "code",
   "execution_count": 4,
   "metadata": {},
   "outputs": [],
   "source": [
    "from datetime import datetime\n",
    "from dateutil.parser import parse"
   ]
  },
  {
   "cell_type": "code",
   "execution_count": 5,
   "metadata": {},
   "outputs": [],
   "source": [
    "df = pd.read_csv(\"./dave_deals.csv\", sep=\",\", parse_dates=True)"
   ]
  },
  {
   "cell_type": "code",
   "execution_count": 6,
   "metadata": {},
   "outputs": [
    {
     "name": "stdout",
     "output_type": "stream",
     "text": [
      "7775\n",
      "7775\n"
     ]
    }
   ],
   "source": [
    "print(len(df))\n",
    "df = df.replace(r'\\n', ' ', regex=True)\n",
    "print(len(df))"
   ]
  },
  {
   "cell_type": "code",
   "execution_count": 7,
   "metadata": {},
   "outputs": [],
   "source": [
    "df['audited_changes'] = df['audited_changes'].replace('underwriter_id.*','',regex=True)\n",
    "\n",
    "df['audited_changes'] = df['audited_changes'].replace('relation.*','',regex=True)\n"
   ]
  },
  {
   "cell_type": "code",
   "execution_count": 8,
   "metadata": {},
   "outputs": [],
   "source": [
    "df['audited_changes'] = df['audited_changes'].replace(r'--- !ruby/hash:ActiveSupport::HashWithIndifferentAccess status: ','',regex=True)\n",
    "df['audited_changes'] = df['audited_changes'].replace(\"--- status: - \",\"\",regex=True)\n",
    "df['audited_changes'] = df['audited_changes'].replace(\"--- status: \",\"\",regex=True)\n",
    "df['audited_changes'] = df['audited_changes'].replace(\"^(- )\",\"\",regex=True)\n",
    "df['audited_changes'] = df['audited_changes'].replace(\"('' - )|( - '')\",\"\",regex=True)\n",
    "df['audited_changes'] = df['audited_changes'].str.rstrip()\n",
    "df['created_at'] = pd.to_datetime(df['created_at'])\n",
    "df = df.sort_values(by='created_at')"
   ]
  },
  {
   "cell_type": "code",
   "execution_count": 9,
   "metadata": {},
   "outputs": [],
   "source": [
    "df = df.loc[df['audited_changes']!=\"--- !ruby/hash:ActiveSupport::HashWithIndifferentAccess\"]"
   ]
  },
  {
   "cell_type": "code",
   "execution_count": 10,
   "metadata": {},
   "outputs": [
    {
     "name": "stdout",
     "output_type": "stream",
     "text": [
      "2989\n",
      "4173\n"
     ]
    }
   ],
   "source": [
    "print(len(df.loc[~df.audited_changes.str.contains(\"-\")]))\n",
    "print(len(df.loc[df.audited_changes.str.contains(\"-\")]))\n",
    "assert(len(df.loc[~df.audited_changes.str.contains(\"-\")]) \\\n",
    "      + len(df.loc[df.audited_changes.str.contains(\"-\")])\\\n",
    "     ==len(df))\n",
    "assert(len(df.loc[df.audited_changes.str.contains(\"-{1}\")])==len(df.loc[df.audited_changes.str.contains(\"-\")]))"
   ]
  },
  {
   "cell_type": "code",
   "execution_count": 11,
   "metadata": {},
   "outputs": [],
   "source": [
    "approved_statuses = ['Approved',\n",
    "                     'Contracts Back',\n",
    "                     'Contract Sent',\n",
    "                     'Soft Approval',\n",
    "                     'Ready to Fund',\n",
    "                     'Lost Deal',\n",
    "                     'Contract Returned',\n",
    "                     'Funding Call',\n",
    "                     'Open Approval']\n",
    "declined_statuses = ['Negative Balances',\n",
    "                     'Declined',\n",
    "                     'Bad Credit',\n",
    "                     'Too Small',\n",
    "                     'No Room',\n",
    "                     'Previous Default',\n",
    "                     'Merchant Declined',\n",
    "                     'Declined Previously',\n",
    "                     'Too Few Deposits',\n",
    "                     'SIC Code',\n",
    "                     'Declined Bad Iso',\n",
    "                     'Suspected Fraud',\n",
    "                     'Auto-declined',\n",
    "                     'Fraud',\n",
    "                     'Missing Stips',\n",
    "                     'Merchant Declined',\n",
    "                     'No Logins',\n",
    "                     'No COJ',\n",
    "                     'Negative Banks',\n",
    "                     'New MCA',\n",
    "                     'Poor Landlord',\n",
    "                     'Contracts Back Declined']\n",
    "funded_statuses = ['Funded']"
   ]
  },
  {
   "cell_type": "code",
   "execution_count": 12,
   "metadata": {},
   "outputs": [],
   "source": [
    "grouped_status_df = df['audited_changes'].str.split(\" - \", n=1, expand=True)\n",
    "grouped_status_df.columns = ['left','right']\n",
    "null_idx = grouped_status_df['right'].isnull()\n",
    "grouped_status_df.loc[null_idx, 'right'] = grouped_status_df['left']\n",
    "grouped_status_df.loc[null_idx, 'left'] = np.nan\n"
   ]
  },
  {
   "cell_type": "code",
   "execution_count": 13,
   "metadata": {},
   "outputs": [],
   "source": [
    "df['old_status'] = grouped_status_df['left']\n",
    "df['new_status'] = grouped_status_df['right']\n",
    "df = df.set_index(df.created_at)"
   ]
  },
  {
   "cell_type": "code",
   "execution_count": 14,
   "metadata": {},
   "outputs": [],
   "source": [
    "def status_groups(g):\n",
    "    if g in approved_statuses:\n",
    "        return \"approved\"\n",
    "    elif g in declined_statuses:\n",
    "        return \"declined\"\n",
    "    elif g in funded_statuses:\n",
    "        return \"funded\"\n",
    "    else:\n",
    "        return \"submission\"\n",
    "    \n",
    "df['group_status'] = df['new_status'].apply(status_groups)"
   ]
  },
  {
   "cell_type": "code",
   "execution_count": 15,
   "metadata": {},
   "outputs": [
    {
     "data": {
      "text/plain": [
       "DatetimeIndex(['2019-07-01 14:41:31', '2019-07-01 14:41:31',\n",
       "               '2019-07-01 14:45:52', '2019-07-01 14:45:52',\n",
       "               '2019-07-01 14:45:52', '2019-07-01 14:56:31',\n",
       "               '2019-07-01 14:56:31', '2019-07-01 14:58:33',\n",
       "               '2019-07-01 14:58:33', '2019-07-01 15:12:47',\n",
       "               ...\n",
       "               '2019-10-23 15:03:18', '2019-10-23 15:04:19',\n",
       "               '2019-10-23 15:07:00', '2019-10-23 15:07:00',\n",
       "               '2019-10-23 15:10:09', '2019-10-23 15:16:38',\n",
       "               '2019-10-23 15:16:38', '2019-10-23 15:35:34',\n",
       "               '2019-10-23 15:46:35', '2019-10-23 15:47:58'],\n",
       "              dtype='datetime64[ns]', name='created_at', length=7162, freq=None)"
      ]
     },
     "execution_count": 15,
     "metadata": {},
     "output_type": "execute_result"
    }
   ],
   "source": [
    "df.index"
   ]
  },
  {
   "cell_type": "code",
   "execution_count": 16,
   "metadata": {},
   "outputs": [],
   "source": [
    "grouped_df = df.groupby(df.id)"
   ]
  },
  {
   "cell_type": "code",
   "execution_count": 17,
   "metadata": {},
   "outputs": [],
   "source": [
    "df = grouped_df.tail(1)"
   ]
  },
  {
   "cell_type": "code",
   "execution_count": 20,
   "metadata": {},
   "outputs": [],
   "source": [
    "# setting declined deals with funded amount over 0 to 0\n",
    "df.loc[(df.group_status==\"declined\") & (df.funded_amount!=0) & (df.status!=\"Funded\"), 'funded_amount'].apply(0)\n",
    "# setting funded deals with a group status of declined to \"funded\"\n",
    "df.loc[(df.group_status==\"declined\") & (df.funded_amount!=0),'group_status']=\"funded\""
   ]
  },
  {
   "cell_type": "code",
   "execution_count": 21,
   "metadata": {},
   "outputs": [],
   "source": [
    "def total_in_submissions(df):\n",
    "    return len(df.loc[df.group_status=='submission'])\n",
    "def total_declined(df):\n",
    "    return len(df.loc[df.group_status=='declined'])\n",
    "def total_approved(df):\n",
    "    return len(df.loc[df.group_status=='approved'])\n",
    "def total_funded(df):\n",
    "    return len(df.loc[df.group_status=='funded'])\n",
    "\n",
    "def submission_metric(df):\n",
    "    return total_in_submissions(df) / len(df)\n",
    "def declined_metric(df):\n",
    "    return total_declined(df) / len(df)\n",
    "def approved_metric(df):\n",
    "    return total_approved(df) / len(df)\n",
    "def funded_metric(df):\n",
    "    return total_funded(df) / len(df)"
   ]
  },
  {
   "cell_type": "code",
   "execution_count": 22,
   "metadata": {},
   "outputs": [
    {
     "name": "stdout",
     "output_type": "stream",
     "text": [
      "<Worksheet \"Sheet\">\n",
      "<Worksheet \"cleaned_data\">\n"
     ]
    }
   ],
   "source": [
    "import openpyxl as xl\n",
    "wb = xl.Workbook()\n",
    "ws = wb.active\n",
    "ws.append(['Data Start Date',df.created_at.iloc[0].strftime(\"%m/%d\")])\n",
    "ws.append(['Data End Date', df.created_at.iloc[-1].strftime('%m/%d')])\n",
    "ws.append(['Submissions', total_in_submissions(df),'% of Total',submission_metric(df)])\n",
    "ws.append(['Declined', total_declined(df),'% of Total',declined_metric(df)])\n",
    "ws.append(['Approved',total_approved(df),'% of Total',approved_metric(df)])\n",
    "ws.append(['Funded',total_funded(df),'% of Total',funded_metric(df)])\n",
    "wb.create_sheet(\"cleaned_data\")\n",
    "print(wb.active)\n",
    "wb.active = 1\n",
    "ws = wb.active\n",
    "print(ws)\n",
    "wb.save('abc1234_report.xlsx')\n",
    "from openpyxl.utils.dataframe import dataframe_to_rows\n",
    "for r in dataframe_to_rows(df):\n",
    "    ws.append(r)\n",
    "wb.save('abc1234_report.xlsx')"
   ]
  },
  {
   "cell_type": "code",
   "execution_count": null,
   "metadata": {},
   "outputs": [],
   "source": [
    "print(len(df.Iso.unique()))\n",
    "for iso in sorted(df.Iso.unique()):\n",
    "    print(iso,\n",
    "          sum(df.loc[(df['Iso']==iso) & (df['group_status']=='submission')].count()),\n",
    "          sum(df.loc[(df['Iso']==iso) & (df['group_status']=='declined')].count()),\n",
    "          sum(df.loc[(df['Iso']==iso) & (df['group_status']=='approved')].count()),\n",
    "          sum(df.loc[(df['Iso']==iso) & (df['group_status']=='funded')].count()),\n",
    "          sum(df.loc[(df['Iso']==iso) & df['group_status'].isin(['funded'])]['funded_amount']),\n",
    "          sum(df.loc[(df['Iso']==iso) & df['group_status'].isin(['approved'])]['funded_amount']))"
   ]
  },
  {
   "cell_type": "code",
   "execution_count": null,
   "metadata": {},
   "outputs": [],
   "source": [
    "df.created_at.iloc[0].strftime(\"%m/%d\")"
   ]
  },
  {
   "cell_type": "code",
   "execution_count": null,
   "metadata": {},
   "outputs": [],
   "source": [
    "df.created_at.iloc[-1].strftime('%m/%d')"
   ]
  },
  {
   "cell_type": "code",
   "execution_count": null,
   "metadata": {},
   "outputs": [],
   "source": [
    "df.pivot_table(df,values='funded_amount',index=['Iso'],columns='group_status',aggfunc='sum').reset_index()"
   ]
  },
  {
   "cell_type": "code",
   "execution_count": 23,
   "metadata": {},
   "outputs": [],
   "source": [
    "def groupby_printer(df):\n",
    "    for key, item in df.groupby(pd.Grouper(freq='M')):\n",
    "        print(df.groupby(pd.Grouper(freq='M')).get_group(key), \"\\n\\n\")"
   ]
  },
  
  {
   "cell_type": "code",
   "execution_count": null,
   "metadata": {},
   "outputs": [],
   "source": []
  }
 ],
 "metadata": {
  "kernelspec": {
   "display_name": "Python 3",
   "language": "python",
   "name": "python3"
  },
  "language_info": {
   "codemirror_mode": {
    "name": "ipython",
    "version": 3
   },
   "file_extension": ".py",
   "mimetype": "text/x-python",
   "name": "python",
   "nbconvert_exporter": "python",
   "pygments_lexer": "ipython3",
   "version": "3.6.4"
  }
 },
 "nbformat": 4,
 "nbformat_minor": 2
}
