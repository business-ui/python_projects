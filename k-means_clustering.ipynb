{
 "cells": [
  {
   "cell_type": "markdown",
   "metadata": {},
   "source": [
    "<h1>Clustering Algorithms</h1>\n",
    "<h3>Unsupervised learning</h3>\n",
    "<ul>\n",
    "<li>The algorithm tries to group similar data together (clusters)\n",
    "<li>Using the values of the feature space\n",
    "</ul>\n",
    "<h3>K-Means Clusterng</h3>\n",
    "<ul>\n",
    "<li>partitions the dataspace into clusters\n",
    "<li>minimizes distance between the mean of a cluster and the data points\n",
    "<li>the desired number of clusters must be known in advance\n",
    "</ul>"
   ]
  },
  {
   "cell_type": "markdown",
   "metadata": {},
   "source": [
    "<h2>Image recognition dataset</h2>\n",
    "<ul>\n",
    "<li>Digits 0-9 pixelated into 64 quadrants\n",
    "<li>Each value represents the area that is shaded\n"
   ]
  },
  {
   "cell_type": "markdown",
   "metadata": {},
   "source": [
    "<h2>Do imports</h2>"
   ]
  },
  {
   "cell_type": "code",
   "execution_count": 1,
   "metadata": {},
   "outputs": [],
   "source": [
    "import numpy as np\n",
    "import matplotlib.pyplot as plt\n",
    "%matplotlib inline\n",
    "from sklearn.datasets import load_digits\n",
    "from sklearn.preprocessing import scale"
   ]
  },
  {
   "cell_type": "markdown",
   "metadata": {},
   "source": [
    "<h2>Load data</h2>"
   ]
  },
  {
   "cell_type": "code",
   "execution_count": 2,
   "metadata": {},
   "outputs": [
    {
     "data": {
      "text/plain": [
       "{'data': array([[ 0.,  0.,  5., ...,  0.,  0.,  0.],\n",
       "        [ 0.,  0.,  0., ..., 10.,  0.,  0.],\n",
       "        [ 0.,  0.,  0., ..., 16.,  9.,  0.],\n",
       "        ...,\n",
       "        [ 0.,  0.,  1., ...,  6.,  0.,  0.],\n",
       "        [ 0.,  0.,  2., ..., 12.,  0.,  0.],\n",
       "        [ 0.,  0., 10., ..., 12.,  1.,  0.]]),\n",
       " 'target': array([0, 1, 2, ..., 8, 9, 8]),\n",
       " 'target_names': array([0, 1, 2, 3, 4, 5, 6, 7, 8, 9]),\n",
       " 'images': array([[[ 0.,  0.,  5., ...,  1.,  0.,  0.],\n",
       "         [ 0.,  0., 13., ..., 15.,  5.,  0.],\n",
       "         [ 0.,  3., 15., ..., 11.,  8.,  0.],\n",
       "         ...,\n",
       "         [ 0.,  4., 11., ..., 12.,  7.,  0.],\n",
       "         [ 0.,  2., 14., ..., 12.,  0.,  0.],\n",
       "         [ 0.,  0.,  6., ...,  0.,  0.,  0.]],\n",
       " \n",
       "        [[ 0.,  0.,  0., ...,  5.,  0.,  0.],\n",
       "         [ 0.,  0.,  0., ...,  9.,  0.,  0.],\n",
       "         [ 0.,  0.,  3., ...,  6.,  0.,  0.],\n",
       "         ...,\n",
       "         [ 0.,  0.,  1., ...,  6.,  0.,  0.],\n",
       "         [ 0.,  0.,  1., ...,  6.,  0.,  0.],\n",
       "         [ 0.,  0.,  0., ..., 10.,  0.,  0.]],\n",
       " \n",
       "        [[ 0.,  0.,  0., ..., 12.,  0.,  0.],\n",
       "         [ 0.,  0.,  3., ..., 14.,  0.,  0.],\n",
       "         [ 0.,  0.,  8., ..., 16.,  0.,  0.],\n",
       "         ...,\n",
       "         [ 0.,  9., 16., ...,  0.,  0.,  0.],\n",
       "         [ 0.,  3., 13., ..., 11.,  5.,  0.],\n",
       "         [ 0.,  0.,  0., ..., 16.,  9.,  0.]],\n",
       " \n",
       "        ...,\n",
       " \n",
       "        [[ 0.,  0.,  1., ...,  1.,  0.,  0.],\n",
       "         [ 0.,  0., 13., ...,  2.,  1.,  0.],\n",
       "         [ 0.,  0., 16., ..., 16.,  5.,  0.],\n",
       "         ...,\n",
       "         [ 0.,  0., 16., ..., 15.,  0.,  0.],\n",
       "         [ 0.,  0., 15., ..., 16.,  0.,  0.],\n",
       "         [ 0.,  0.,  2., ...,  6.,  0.,  0.]],\n",
       " \n",
       "        [[ 0.,  0.,  2., ...,  0.,  0.,  0.],\n",
       "         [ 0.,  0., 14., ..., 15.,  1.,  0.],\n",
       "         [ 0.,  4., 16., ..., 16.,  7.,  0.],\n",
       "         ...,\n",
       "         [ 0.,  0.,  0., ..., 16.,  2.,  0.],\n",
       "         [ 0.,  0.,  4., ..., 16.,  2.,  0.],\n",
       "         [ 0.,  0.,  5., ..., 12.,  0.,  0.]],\n",
       " \n",
       "        [[ 0.,  0., 10., ...,  1.,  0.,  0.],\n",
       "         [ 0.,  2., 16., ...,  1.,  0.,  0.],\n",
       "         [ 0.,  0., 15., ..., 15.,  0.,  0.],\n",
       "         ...,\n",
       "         [ 0.,  4., 16., ..., 16.,  6.,  0.],\n",
       "         [ 0.,  8., 16., ..., 16.,  8.,  0.],\n",
       "         [ 0.,  1.,  8., ..., 12.,  1.,  0.]]]),\n",
       " 'DESCR': \".. _digits_dataset:\\n\\nOptical recognition of handwritten digits dataset\\n--------------------------------------------------\\n\\n**Data Set Characteristics:**\\n\\n    :Number of Instances: 5620\\n    :Number of Attributes: 64\\n    :Attribute Information: 8x8 image of integer pixels in the range 0..16.\\n    :Missing Attribute Values: None\\n    :Creator: E. Alpaydin (alpaydin '@' boun.edu.tr)\\n    :Date: July; 1998\\n\\nThis is a copy of the test set of the UCI ML hand-written digits datasets\\nhttps://archive.ics.uci.edu/ml/datasets/Optical+Recognition+of+Handwritten+Digits\\n\\nThe data set contains images of hand-written digits: 10 classes where\\neach class refers to a digit.\\n\\nPreprocessing programs made available by NIST were used to extract\\nnormalized bitmaps of handwritten digits from a preprinted form. From a\\ntotal of 43 people, 30 contributed to the training set and different 13\\nto the test set. 32x32 bitmaps are divided into nonoverlapping blocks of\\n4x4 and the number of on pixels are counted in each block. This generates\\nan input matrix of 8x8 where each element is an integer in the range\\n0..16. This reduces dimensionality and gives invariance to small\\ndistortions.\\n\\nFor info on NIST preprocessing routines, see M. D. Garris, J. L. Blue, G.\\nT. Candela, D. L. Dimmick, J. Geist, P. J. Grother, S. A. Janet, and C.\\nL. Wilson, NIST Form-Based Handprint Recognition System, NISTIR 5469,\\n1994.\\n\\n.. topic:: References\\n\\n  - C. Kaynak (1995) Methods of Combining Multiple Classifiers and Their\\n    Applications to Handwritten Digit Recognition, MSc Thesis, Institute of\\n    Graduate Studies in Science and Engineering, Bogazici University.\\n  - E. Alpaydin, C. Kaynak (1998) Cascading Classifiers, Kybernetika.\\n  - Ken Tang and Ponnuthurai N. Suganthan and Xi Yao and A. Kai Qin.\\n    Linear dimensionalityreduction using relevance weighted LDA. School of\\n    Electrical and Electronic Engineering Nanyang Technological University.\\n    2005.\\n  - Claudio Gentile. A New Approximate Maximal Margin Classification\\n    Algorithm. NIPS. 2000.\"}"
      ]
     },
     "execution_count": 2,
     "metadata": {},
     "output_type": "execute_result"
    }
   ],
   "source": [
    "digits = load_digits()\n",
    "digits"
   ]
  },
  {
   "cell_type": "code",
   "execution_count": 3,
   "metadata": {},
   "outputs": [
    {
     "name": "stdout",
     "output_type": "stream",
     "text": [
      ".. _digits_dataset:\n",
      "\n",
      "Optical recognition of handwritten digits dataset\n",
      "--------------------------------------------------\n",
      "\n",
      "**Data Set Characteristics:**\n",
      "\n",
      "    :Number of Instances: 5620\n",
      "    :Number of Attributes: 64\n",
      "    :Attribute Information: 8x8 image of integer pixels in the range 0..16.\n",
      "    :Missing Attribute Values: None\n",
      "    :Creator: E. Alpaydin (alpaydin '@' boun.edu.tr)\n",
      "    :Date: July; 1998\n",
      "\n",
      "This is a copy of the test set of the UCI ML hand-written digits datasets\n",
      "https://archive.ics.uci.edu/ml/datasets/Optical+Recognition+of+Handwritten+Digits\n",
      "\n",
      "The data set contains images of hand-written digits: 10 classes where\n",
      "each class refers to a digit.\n",
      "\n",
      "Preprocessing programs made available by NIST were used to extract\n",
      "normalized bitmaps of handwritten digits from a preprinted form. From a\n",
      "total of 43 people, 30 contributed to the training set and different 13\n",
      "to the test set. 32x32 bitmaps are divided into nonoverlapping blocks of\n",
      "4x4 and the number of on pixels are counted in each block. This generates\n",
      "an input matrix of 8x8 where each element is an integer in the range\n",
      "0..16. This reduces dimensionality and gives invariance to small\n",
      "distortions.\n",
      "\n",
      "For info on NIST preprocessing routines, see M. D. Garris, J. L. Blue, G.\n",
      "T. Candela, D. L. Dimmick, J. Geist, P. J. Grother, S. A. Janet, and C.\n",
      "L. Wilson, NIST Form-Based Handprint Recognition System, NISTIR 5469,\n",
      "1994.\n",
      "\n",
      ".. topic:: References\n",
      "\n",
      "  - C. Kaynak (1995) Methods of Combining Multiple Classifiers and Their\n",
      "    Applications to Handwritten Digit Recognition, MSc Thesis, Institute of\n",
      "    Graduate Studies in Science and Engineering, Bogazici University.\n",
      "  - E. Alpaydin, C. Kaynak (1998) Cascading Classifiers, Kybernetika.\n",
      "  - Ken Tang and Ponnuthurai N. Suganthan and Xi Yao and A. Kai Qin.\n",
      "    Linear dimensionalityreduction using relevance weighted LDA. School of\n",
      "    Electrical and Electronic Engineering Nanyang Technological University.\n",
      "    2005.\n",
      "  - Claudio Gentile. A New Approximate Maximal Margin Classification\n",
      "    Algorithm. NIPS. 2000.\n"
     ]
    }
   ],
   "source": [
    "print(digits['DESCR'])\n"
   ]
  },
  {
   "cell_type": "markdown",
   "metadata": {},
   "source": [
    "<h2>scale the data to normal distribution</h2>"
   ]
  },
  {
   "cell_type": "code",
   "execution_count": 4,
   "metadata": {},
   "outputs": [],
   "source": [
    "data = scale(digits.data)"
   ]
  },
  {
   "cell_type": "code",
   "execution_count": 5,
   "metadata": {},
   "outputs": [
    {
     "data": {
      "text/plain": [
       "array([[ 0.        , -0.33501649, -0.04308102, ..., -1.14664746,\n",
       "        -0.5056698 , -0.19600752],\n",
       "       [ 0.        , -0.33501649, -1.09493684, ...,  0.54856067,\n",
       "        -0.5056698 , -0.19600752],\n",
       "       [ 0.        , -0.33501649, -1.09493684, ...,  1.56568555,\n",
       "         1.6951369 , -0.19600752],\n",
       "       ...,\n",
       "       [ 0.        , -0.33501649, -0.88456568, ..., -0.12952258,\n",
       "        -0.5056698 , -0.19600752],\n",
       "       [ 0.        , -0.33501649, -0.67419451, ...,  0.8876023 ,\n",
       "        -0.5056698 , -0.19600752],\n",
       "       [ 0.        , -0.33501649,  1.00877481, ...,  0.8876023 ,\n",
       "        -0.26113572, -0.19600752]])"
      ]
     },
     "execution_count": 5,
     "metadata": {},
     "output_type": "execute_result"
    }
   ],
   "source": [
    "data"
   ]
  },
  {
   "cell_type": "markdown",
   "metadata": {},
   "source": [
    "<h2>Render the digit images and their associated values</h2>"
   ]
  },
  {
   "cell_type": "code",
   "execution_count": 6,
   "metadata": {},
   "outputs": [
    {
     "data": {
      "image/png": "[encoded data removed]",
      "text/plain": [
       "<Figure size 864x864 with 10 Axes>"
      ]
     },
     "metadata": {},
     "output_type": "display_data"
    }
   ],
   "source": [
    "def print_digits(images,y,max_n=10):\n",
    "    # set up the figure size in inches\n",
    "    fig = plt.figure(figsize=(12, 12))\n",
    "    fig.subplots_adjust(left=0, right=1, bottom=0, top=1,\n",
    "           hspace=.05, wspace=.5)\n",
    "    i = 0\n",
    "    while i <max_n and i <images.shape[0]:\n",
    "        # plot the images in a matrix of 20x20\n",
    "        p = fig.add_subplot(20, 20, i + 1, xticks=[],\n",
    "              yticks=[])\n",
    "        p.imshow(images[i], cmap=plt.cm.bone)\n",
    "        # label the image with the target value\n",
    "        p.text(0, 14, str(y[i]))\n",
    "        i = i + 1\n",
    "print_digits(digits.images, digits.target, max_n=10)"
   ]
  },
  {
   "cell_type": "markdown",
   "metadata": {},
   "source": [
    "<h2>Training and testing samples</h2>"
   ]
  },
  {
   "cell_type": "code",
   "execution_count": 7,
   "metadata": {},
   "outputs": [],
   "source": [
    "from sklearn.model_selection import train_test_split\n",
    "X_train, X_test, y_train, y_test, images_train,images_test = train_test_split(\n",
    "        data, digits.target, digits.images,  test_size=0.25, \n",
    "          random_state=42)\n",
    "\n",
    "n_samples, n_features = X_train.shape\n",
    "n_digits = len(np.unique(y_train))\n",
    "labels = y_train"
   ]
  },
  {
   "cell_type": "code",
   "execution_count": 8,
   "metadata": {},
   "outputs": [
    {
     "data": {
      "text/plain": [
       "10"
      ]
     },
     "execution_count": 8,
     "metadata": {},
     "output_type": "execute_result"
    }
   ],
   "source": [
    "len(np.unique(y_train))"
   ]
  },
  {
   "cell_type": "markdown",
   "metadata": {},
   "source": [
    "<h2>Create the model and fit the data</h2>"
   ]
  },
  {
   "cell_type": "code",
   "execution_count": 9,
   "metadata": {},
   "outputs": [
    {
     "data": {
      "text/plain": [
       "KMeans(algorithm='auto', copy_x=True, init='k-means++', max_iter=300,\n",
       "       n_clusters=10, n_init=10, n_jobs=None, precompute_distances='auto',\n",
       "       random_state=42, tol=0.0001, verbose=0)"
      ]
     },
     "execution_count": 9,
     "metadata": {},
     "output_type": "execute_result"
    }
   ],
   "source": [
    "from sklearn import cluster\n",
    "clf = cluster.KMeans(init='k-means++',n_clusters=10, random_state=42)\n",
    "clf.fit(X_train)"
   ]
  },
  {
   "cell_type": "markdown",
   "metadata": {},
   "source": [
    "k-means++ runs an initializer before using the k-means algorithm"
   ]
  },
  {
   "cell_type": "code",
   "execution_count": 10,
   "metadata": {},
   "outputs": [
    {
     "data": {
      "text/plain": [
       "array([[[ 0.,  0.,  2., ..., 16., 11.,  0.],\n",
       "        [ 0.,  0.,  8., ...,  3.,  0.,  0.],\n",
       "        [ 0.,  0., 13., ...,  0.,  0.,  0.],\n",
       "        ...,\n",
       "        [ 0.,  6., 16., ..., 16.,  5.,  0.],\n",
       "        [ 0.,  0.,  3., ...,  8.,  0.,  0.],\n",
       "        [ 0.,  0.,  4., ...,  0.,  0.,  0.]],\n",
       "\n",
       "       [[ 0.,  5., 16., ...,  0.,  0.,  0.],\n",
       "        [ 0., 11., 14., ...,  0.,  0.,  0.],\n",
       "        [ 0.,  8., 11., ...,  0.,  0.,  0.],\n",
       "        ...,\n",
       "        [ 0.,  0.,  0., ...,  5.,  1.,  0.],\n",
       "        [ 0.,  1., 11., ..., 16., 10.,  0.],\n",
       "        [ 0.,  5., 16., ...,  6.,  1.,  0.]],\n",
       "\n",
       "       [[ 0.,  0.,  4., ...,  0.,  0.,  0.],\n",
       "        [ 0.,  0., 13., ...,  7.,  0.,  0.],\n",
       "        [ 0.,  3., 16., ..., 15.,  6.,  0.],\n",
       "        ...,\n",
       "        [ 0.,  4., 12., ..., 11.,  6.,  0.],\n",
       "        [ 0.,  0., 14., ..., 14.,  1.,  0.],\n",
       "        [ 0.,  0.,  7., ...,  2.,  0.,  0.]],\n",
       "\n",
       "       ...,\n",
       "\n",
       "       [[ 0.,  0.,  9., ..., 13.,  1.,  0.],\n",
       "        [ 0.,  0., 12., ..., 16.,  7.,  0.],\n",
       "        [ 0.,  0.,  0., ..., 16.,  4.,  0.],\n",
       "        ...,\n",
       "        [ 0.,  0.,  7., ...,  0.,  0.,  0.],\n",
       "        [ 0.,  2., 15., ...,  7.,  0.,  0.],\n",
       "        [ 0.,  0.,  9., ..., 16.,  2.,  0.]],\n",
       "\n",
       "       [[ 0.,  0.,  1., ..., 10.,  0.,  0.],\n",
       "        [ 0.,  0.,  8., ..., 14.,  0.,  0.],\n",
       "        [ 0.,  1., 15., ..., 15.,  0.,  0.],\n",
       "        ...,\n",
       "        [ 0.,  0.,  4., ...,  9.,  1.,  0.],\n",
       "        [ 0.,  0.,  0., ...,  0.,  0.,  0.],\n",
       "        [ 0.,  0.,  1., ...,  0.,  0.,  0.]],\n",
       "\n",
       "       [[ 0.,  0.,  1., ...,  1.,  0.,  0.],\n",
       "        [ 0.,  0.,  1., ...,  4.,  0.,  0.],\n",
       "        [ 0.,  0.,  3., ...,  2.,  0.,  0.],\n",
       "        ...,\n",
       "        [ 0.,  0., 14., ...,  0.,  0.,  0.],\n",
       "        [ 0.,  0.,  9., ...,  0.,  0.,  0.],\n",
       "        [ 0.,  0.,  2., ...,  1.,  0.,  0.]]])"
      ]
     },
     "execution_count": 10,
     "metadata": {},
     "output_type": "execute_result"
    }
   ],
   "source": [
    "images_train"
   ]
  },
  {
   "cell_type": "markdown",
   "metadata": {},
   "source": [
    "<h2>Call print_digits with training images, and computed labels</h2>\n",
    "<h2>Returned labels are cluster numbers</h2>"
   ]
  },
  {
   "cell_type": "code",
   "execution_count": 11,
   "metadata": {},
   "outputs": [
    {
     "data": {
      "image/png": "[encoded data removed]",
      "text/plain": [
       "<Figure size 864x864 with 20 Axes>"
      ]
     },
     "metadata": {},
     "output_type": "display_data"
    }
   ],
   "source": [
    "print_digits(images_train, clf.labels_, max_n=20)"
   ]
  },
  {
   "cell_type": "markdown",
   "metadata": {},
   "source": [
    "<h2>Use test sample to generate predictions</h2>"
   ]
  },
  {
   "cell_type": "code",
   "execution_count": 12,
   "metadata": {},
   "outputs": [
    {
     "data": {
      "text/plain": [
       "array([4, 8, 8, 9, 3, 3, 5, 8, 5, 3, 0, 7, 1, 2, 1, 3, 8, 6, 8, 8, 1, 5,\n",
       "       8, 6, 5, 4, 8, 5, 4, 8, 1, 8, 3, 1, 1, 4, 8, 1, 6, 4, 4, 8, 0, 8,\n",
       "       4, 7, 8, 2, 4, 5, 5, 0, 8, 5, 4, 2, 8, 2, 2, 7, 2, 1, 5, 3, 1, 5,\n",
       "       6, 2, 6, 8, 8, 8, 8, 6, 6, 2, 1, 5, 8, 8, 8, 2, 3, 8, 8, 2, 4, 1,\n",
       "       1, 8, 0, 3, 7, 8, 8, 3, 8, 2, 1, 1, 1, 8, 5, 8, 7, 6, 5, 7, 1, 3,\n",
       "       6, 6, 1, 1, 7, 8, 0, 6, 8, 6, 3, 4, 8, 7, 2, 6, 3, 6, 5, 0, 5, 5,\n",
       "       6, 7, 2, 4, 4, 1, 3, 0, 2, 8, 1, 4, 8, 7, 4, 8, 2, 8, 8, 4, 4, 2,\n",
       "       4, 1, 3, 8, 8, 6, 6, 3, 8, 2, 1, 5, 0, 4, 5, 6, 8, 0, 1, 0, 0, 8,\n",
       "       6, 6, 3, 3, 8, 8, 8, 2, 8, 0, 3, 5, 4, 8, 8, 1, 0, 5, 9, 3, 8, 4,\n",
       "       1, 0, 8, 8, 5, 6, 0, 8, 1, 0, 0, 5, 1, 1, 8, 4, 0, 8, 4, 2, 1, 5,\n",
       "       3, 6, 7, 4, 1, 5, 4, 2, 8, 3, 8, 4, 6, 7, 8, 3, 1, 6, 4, 5, 0, 8,\n",
       "       5, 0, 2, 3, 0, 0, 6, 5, 6, 4, 3, 3, 3, 8, 1, 0, 5, 8, 4, 2, 8, 6,\n",
       "       6, 2, 0, 2, 1, 8, 0, 5, 8, 4, 2, 1, 3, 2, 2, 8, 4, 8, 8, 6, 8, 5,\n",
       "       8, 8, 8, 0, 5, 8, 8, 7, 2, 5, 0, 8, 1, 2, 3, 1, 4, 1, 8, 1, 8, 2,\n",
       "       5, 3, 3, 8, 7, 1, 0, 0, 6, 2, 0, 5, 3, 0, 0, 7, 6, 2, 4, 1, 0, 0,\n",
       "       5, 0, 0, 1, 5, 5, 9, 8, 0, 4, 2, 4, 3, 2, 9, 8, 0, 8, 5, 3, 6, 6,\n",
       "       7, 8, 6, 1, 8, 6, 8, 8, 4, 2, 2, 8, 2, 5, 2, 2, 1, 7, 3, 8, 0, 5,\n",
       "       5, 4, 8, 0, 8, 0, 1, 3, 8, 8, 8, 8, 0, 5, 2, 4, 8, 8, 9, 0, 4, 1,\n",
       "       3, 3, 7, 0, 4, 1, 6, 1, 0, 8, 1, 2, 5, 7, 8, 1, 5, 6, 4, 8, 6, 2,\n",
       "       0, 8, 9, 5, 8, 6, 1, 0, 3, 8, 2, 6, 5, 6, 8, 4, 8, 8, 4, 8, 8, 2,\n",
       "       0, 8, 5, 0, 6, 6, 4, 3, 4, 5])"
      ]
     },
     "execution_count": 12,
     "metadata": {},
     "output_type": "execute_result"
    }
   ],
   "source": [
    "y_pred=clf.predict(X_test)\n",
    "y_pred"
   ]
  },
  {
   "cell_type": "code",
   "execution_count": 13,
   "metadata": {},
   "outputs": [
    {
     "data": {
      "image/png": "[encoded data removed]",
      "text/plain": [
       "<Figure size 864x864 with 15 Axes>"
      ]
     },
     "metadata": {},
     "output_type": "display_data"
    },
    {
     "data": {
      "image/png": "[encoded data removed]",
      "text/plain": [
       "<Figure size 864x864 with 15 Axes>"
      ]
     },
     "metadata": {},
     "output_type": "display_data"
    },
    {
     "data": {
      "image/png": "[encoded data removed]",
      "text/plain": [
       "<Figure size 864x864 with 15 Axes>"
      ]
     },
     "metadata": {},
     "output_type": "display_data"
    },
    {
     "data": {
      "image/png": "[encoded data removed]",
      "text/plain": [
       "<Figure size 864x864 with 15 Axes>"
      ]
     },
     "metadata": {},
     "output_type": "display_data"
    },
    {
     "data": {
      "image/png": "[encoded data removed]",
      "text/plain": [
       "<Figure size 864x864 with 15 Axes>"
      ]
     },
     "metadata": {},
     "output_type": "display_data"
    },
    {
     "data": {
      "image/png": "[encoded data removed]",
      "text/plain": [
       "<Figure size 864x864 with 15 Axes>"
      ]
     },
     "metadata": {},
     "output_type": "display_data"
    },
    {
     "data": {
      "image/png": "[encoded data removed]",
      "text/plain": [
       "<Figure size 864x864 with 15 Axes>"
      ]
     },
     "metadata": {},
     "output_type": "display_data"
    },
    {
     "data": {
      "image/png": "[encoded data removed]",
      "text/plain": [
       "<Figure size 864x864 with 15 Axes>"
      ]
     },
     "metadata": {},
     "output_type": "display_data"
    },
    {
     "data": {
      "image/png": "[encoded data removed]",
      "text/plain": [
       "<Figure size 864x864 with 15 Axes>"
      ]
     },
     "metadata": {},
     "output_type": "display_data"
    },
    {
     "data": {
      "image/png": "[encoded data removed]",
      "text/plain": [
       "<Figure size 864x864 with 6 Axes>"
      ]
     },
     "metadata": {},
     "output_type": "display_data"
    }
   ],
   "source": [
    "def print_cluster(images, y_pred, cluster_number):\n",
    "    images = images[y_pred==cluster_number]\n",
    "    y_pred = y_pred[y_pred==cluster_number]\n",
    "    print_digits(images, y_pred,max_n=15)\n",
    "for i in range(10):\n",
    "      print_cluster(images_test, y_pred, i)\n"
   ]
  },
  {
   "cell_type": "markdown",
   "metadata": {},
   "source": [
    "<h1>Evaluating the model</h1>\n",
    "<li>Adjusted rand index: A measure of the similarity between two groups</li>\n",
    "<li>We'll use it to see how similar the y_test actuals and predicted groupings are</li>\n",
    "<li>http://scikit-learn.org/stable/modules/generated/sklearn.metrics.adjusted_rand_score.html</li>\n",
    "<li>0.0 indicates that there is no similarity and any overlap is explainable as totally random</li>\n",
    "<li>1.0 indicates that the two groups are identical</li>\n"
   ]
  },
  {
   "cell_type": "code",
   "execution_count": 14,
   "metadata": {},
   "outputs": [
    {
     "name": "stdout",
     "output_type": "stream",
     "text": [
      "Adjusted rand score: 0.5674467844660916\n"
     ]
    }
   ],
   "source": [
    "from sklearn import metrics\n",
    "print(\"Adjusted rand score: {0:2}\".format(metrics.adjusted_rand_score(y_test, y_pred)))"
   ]
  },
  {
   "cell_type": "markdown",
   "metadata": {},
   "source": [
    "<h2>Confusion matrix</h2>\n",
    "<li>Each row corresponds to a number (y_test)\n",
    "<li>Each column to y_pred (the cluster number)\n",
    "<li>Data is the number of times y_test was assigned to the corresponding y_pred\n",
    "<li>For example, 0 is fully assigned to cluster 2 (Row 0, Column 2)\n",
    "<li>8 is assigned to cluster 0  21 times (Row 8, Column 0)\n",
    "<li>7, which is cluster 6 is assigned to cluster 6 34 times (Row 7, Column 6)\n"
   ]
  },
  {
   "cell_type": "code",
   "execution_count": 15,
   "metadata": {},
   "outputs": [
    {
     "name": "stdout",
     "output_type": "stream",
     "text": [
      "[[ 0  0 43  0  0  0  0  0  0  0]\n",
      " [20  0  0  7  0  0  0 10  0  0]\n",
      " [ 5  0  0 31  0  0  0  1  1  0]\n",
      " [ 1  0  0  1  0  1  4  0 39  0]\n",
      " [ 1 50  0  0  0  0  1  2  0  1]\n",
      " [ 1  0  0  0  1 41  0  0 16  0]\n",
      " [ 0  0  1  0 44  0  0  0  0  0]\n",
      " [ 0  0  0  0  0  1 34  1  0  5]\n",
      " [21  0  0  0  0  3  1  2 11  0]\n",
      " [ 0  0  0  0  0  2  3  3 40  0]]\n"
     ]
    }
   ],
   "source": [
    "print(metrics.confusion_matrix(y_test, y_pred))"
   ]
  },
  {
   "cell_type": "markdown",
   "metadata": {},
   "source": [
    "<h2>Graphical view of the clusters</h2>"
   ]
  },
  {
   "cell_type": "markdown",
   "metadata": {},
   "source": [
    "<li>First reduce the x dimensions to 2 using principle component analysis</li>\n",
    "<li>https://en.wikipedia.org/wiki/Principal_component_analysis</li>\n",
    "<li>Then figure out the range of values and define the grid</li>\n",
    "<li>Run k-means on the reduced (2 component) data set</li>\n",
    "<li>Draw a color map and plot the pca points on this map</li>\n",
    "<li>Find the cluster centroids and plot them on the color map</li>\n",
    "\n"
   ]
  },
  {
   "cell_type": "code",
   "execution_count": 16,
   "metadata": {},
   "outputs": [
    {
     "data": {
      "image/png": "[encoded data removed]",
      "text/plain": [
       "<Figure size 432x288 with 1 Axes>"
      ]
     },
     "metadata": {},
     "output_type": "display_data"
    }
   ],
   "source": [
    "from sklearn import decomposition\n",
    "pca = decomposition.PCA(n_components=2).fit(X_train)\n",
    "reduced_X_train = pca.transform(X_train)\n",
    "# Step size of the mesh. \n",
    "h = .01     \n",
    "# point in the mesh [x_min, m_max]x[y_min, y_max].\n",
    "x_min, x_max = reduced_X_train[:, 0].min() + 1, reduced_X_train[:, 0].max() - 1\n",
    "y_min, y_max = reduced_X_train[:, 1].min() + 1, reduced_X_train[:, 1].max() - 1\n",
    "xx, yy = np.meshgrid(np.arange(x_min, x_max, h), \n",
    "    np.arange(y_min, y_max, h))\n",
    "kmeans = cluster.KMeans(init='k-means++', n_clusters=n_digits, \n",
    "    n_init=10)\n",
    "kmeans.fit(reduced_X_train)\n",
    "Z = kmeans.predict(np.c_[xx.ravel(), yy.ravel()])\n",
    "# Put the result into a color plot\n",
    "Z = Z.reshape(xx.shape)\n",
    "plt.figure(1)\n",
    "plt.clf()\n",
    "plt.imshow(Z, interpolation='nearest', extent=(xx.min(), xx.max(), yy.min(), yy.max()), cmap=plt.cm.Paired, aspect='auto', origin='lower')\n",
    "plt.plot(reduced_X_train[:, 0], reduced_X_train[:, 1], 'k.', \n",
    "    markersize=2)\n",
    "# Plot the centroids as a white X\n",
    "centroids = kmeans.cluster_centers_\n",
    "plt.scatter(centroids[:, 0], centroids[:, 1],marker='.', \n",
    "    s=169, linewidths=3, color='w', zorder=10)\n",
    "plt.title('K-means clustering on the digits dataset (PCA reduced data)\\nCentroids are marked with white dots')\n",
    "plt.xlim(x_min, x_max)\n",
    "plt.ylim(y_min, y_max)\n",
    "plt.xticks(())\n",
    "plt.yticks(())\n",
    "plt.show()"
   ]
  },
  {
   "cell_type": "code",
   "execution_count": null,
   "metadata": {},
   "outputs": [],
   "source": []
  }
 ],
 "metadata": {
  "anaconda-cloud": {},
  "kernelspec": {
   "display_name": "Python 3",
   "language": "python",
   "name": "python3"
  },
  "language_info": {
   "codemirror_mode": {
    "name": "ipython",
    "version": 3
   },
   "file_extension": ".py",
   "mimetype": "text/x-python",
   "name": "python",
   "nbconvert_exporter": "python",
   "pygments_lexer": "ipython3",
   "version": "3.7.3"
  }
 },
 "nbformat": 4,
 "nbformat_minor": 1
}
