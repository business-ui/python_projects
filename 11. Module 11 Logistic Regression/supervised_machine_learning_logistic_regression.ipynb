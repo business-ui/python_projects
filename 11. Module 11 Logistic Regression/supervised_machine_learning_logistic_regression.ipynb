{
 "cells": [
  {
   "cell_type": "markdown",
   "metadata": {
    "slideshow": {
     "slide_type": "slide"
    }
   },
   "source": [
    "### Predicting a categorical response"
   ]
  },
  {
   "cell_type": "code",
   "execution_count": 1,
   "metadata": {
    "slideshow": {
     "slide_type": "fragment"
    }
   },
   "outputs": [],
   "source": [
    "#data handling/modeling\n",
    "import pandas as pd\n",
    "import numpy as np\n",
    "from sklearn.linear_model import LinearRegression, LogisticRegression\n",
    "from sklearn.model_selection import train_test_split\n",
    "from sklearn import metrics\n",
    "import scipy.stats as stats\n",
    "\n",
    "# visualization\n",
    "%matplotlib inline\n",
    "import seaborn as sns"
   ]
  },
  {
   "cell_type": "markdown",
   "metadata": {},
   "source": [
    "I am going to import a dataset from the [UCI Machine Learning Repository](https://archive.ics.uci.edu/ml/index.html) that can be found [here](https://archive.ics.uci.edu/ml/datasets/Vertebral+Column).\n",
    "\n",
    "This dataset contains 6 biomechanical features used to classify orthopaedic patients into 2 classes - normal and abnormal:\n",
    "  * pelvic incidence\n",
    "  * pelvic tilt\n",
    "  * lumbar lordosis angle\n",
    "  * sacral slope\n",
    "  * pelvic radius\n",
    "  * grade of spondylolisthesis\n",
    "  \n",
    "Data loaded below:"
   ]
  },
  {
   "cell_type": "code",
   "execution_count": 2,
   "metadata": {},
   "outputs": [
    {
     "data": {
      "text/plain": [
       "AB    210\n",
       "NO    100\n",
       "Name: outcome, dtype: int64"
      ]
     },
     "execution_count": 2,
     "metadata": {},
     "output_type": "execute_result"
    }
   ],
   "source": [
    "vertebral_data = pd.read_csv(\"./vertebral_column_2_categories.dat\", sep=\" \",\n",
    "                             names=[\"pelvic_incidence\",\"pelvic_tilt\",\"lumbar_lordosis_angle\",\"sacral_slope\",\"pelvic_radius\",\"spondy_grade\",\"outcome\"])\n",
    "vertebral_data.outcome.value_counts()"
   ]
  },
  {
   "cell_type": "code",
   "execution_count": 3,
   "metadata": {},
   "outputs": [
    {
     "data": {
      "text/html": [
       "<div>\n",
       "<style scoped>\n",
       "    .dataframe tbody tr th:only-of-type {\n",
       "        vertical-align: middle;\n",
       "    }\n",
       "\n",
       "    .dataframe tbody tr th {\n",
       "        vertical-align: top;\n",
       "    }\n",
       "\n",
       "    .dataframe thead th {\n",
       "        text-align: right;\n",
       "    }\n",
       "</style>\n",
       "<table border=\"1\" class=\"dataframe\">\n",
       "  <thead>\n",
       "    <tr style=\"text-align: right;\">\n",
       "      <th></th>\n",
       "      <th>pelvic_incidence</th>\n",
       "      <th>pelvic_tilt</th>\n",
       "      <th>lumbar_lordosis_angle</th>\n",
       "      <th>sacral_slope</th>\n",
       "      <th>pelvic_radius</th>\n",
       "      <th>spondy_grade</th>\n",
       "      <th>outcome</th>\n",
       "    </tr>\n",
       "  </thead>\n",
       "  <tbody>\n",
       "    <tr>\n",
       "      <th>0</th>\n",
       "      <td>63.03</td>\n",
       "      <td>22.55</td>\n",
       "      <td>39.61</td>\n",
       "      <td>40.48</td>\n",
       "      <td>98.67</td>\n",
       "      <td>-0.25</td>\n",
       "      <td>AB</td>\n",
       "    </tr>\n",
       "    <tr>\n",
       "      <th>1</th>\n",
       "      <td>39.06</td>\n",
       "      <td>10.06</td>\n",
       "      <td>25.02</td>\n",
       "      <td>29.00</td>\n",
       "      <td>114.41</td>\n",
       "      <td>4.56</td>\n",
       "      <td>AB</td>\n",
       "    </tr>\n",
       "    <tr>\n",
       "      <th>2</th>\n",
       "      <td>68.83</td>\n",
       "      <td>22.22</td>\n",
       "      <td>50.09</td>\n",
       "      <td>46.61</td>\n",
       "      <td>105.99</td>\n",
       "      <td>-3.53</td>\n",
       "      <td>AB</td>\n",
       "    </tr>\n",
       "    <tr>\n",
       "      <th>3</th>\n",
       "      <td>69.30</td>\n",
       "      <td>24.65</td>\n",
       "      <td>44.31</td>\n",
       "      <td>44.64</td>\n",
       "      <td>101.87</td>\n",
       "      <td>11.21</td>\n",
       "      <td>AB</td>\n",
       "    </tr>\n",
       "    <tr>\n",
       "      <th>4</th>\n",
       "      <td>49.71</td>\n",
       "      <td>9.65</td>\n",
       "      <td>28.32</td>\n",
       "      <td>40.06</td>\n",
       "      <td>108.17</td>\n",
       "      <td>7.92</td>\n",
       "      <td>AB</td>\n",
       "    </tr>\n",
       "  </tbody>\n",
       "</table>\n",
       "</div>"
      ],
      "text/plain": [
       "   pelvic_incidence  pelvic_tilt  lumbar_lordosis_angle  sacral_slope  \\\n",
       "0             63.03        22.55                  39.61         40.48   \n",
       "1             39.06        10.06                  25.02         29.00   \n",
       "2             68.83        22.22                  50.09         46.61   \n",
       "3             69.30        24.65                  44.31         44.64   \n",
       "4             49.71         9.65                  28.32         40.06   \n",
       "\n",
       "   pelvic_radius  spondy_grade outcome  \n",
       "0          98.67         -0.25      AB  \n",
       "1         114.41          4.56      AB  \n",
       "2         105.99         -3.53      AB  \n",
       "3         101.87         11.21      AB  \n",
       "4         108.17          7.92      AB  "
      ]
     },
     "execution_count": 3,
     "metadata": {},
     "output_type": "execute_result"
    }
   ],
   "source": [
    "vertebral_data.head()"
   ]
  },
  {
   "cell_type": "markdown",
   "metadata": {},
   "source": [
    "In order to use linear regression for this task, I have to convert my **categorical** target into a number:"
   ]
  },
  {
   "cell_type": "code",
   "execution_count": 4,
   "metadata": {},
   "outputs": [
    {
     "data": {
      "text/plain": [
       "1    210\n",
       "0    100\n",
       "Name: outcome_number, dtype: int64"
      ]
     },
     "execution_count": 4,
     "metadata": {},
     "output_type": "execute_result"
    }
   ],
   "source": [
    "vertebral_data[\"outcome_number\"] = (vertebral_data.outcome=='AB').astype(int)\n",
    "vertebral_data.outcome_number.value_counts()"
   ]
  },
  {
   "cell_type": "code",
   "execution_count": 5,
   "metadata": {},
   "outputs": [
    {
     "data": {
      "text/html": [
       "<div>\n",
       "<style scoped>\n",
       "    .dataframe tbody tr th:only-of-type {\n",
       "        vertical-align: middle;\n",
       "    }\n",
       "\n",
       "    .dataframe tbody tr th {\n",
       "        vertical-align: top;\n",
       "    }\n",
       "\n",
       "    .dataframe thead th {\n",
       "        text-align: right;\n",
       "    }\n",
       "</style>\n",
       "<table border=\"1\" class=\"dataframe\">\n",
       "  <thead>\n",
       "    <tr style=\"text-align: right;\">\n",
       "      <th></th>\n",
       "      <th>pelvic_incidence</th>\n",
       "      <th>pelvic_tilt</th>\n",
       "      <th>lumbar_lordosis_angle</th>\n",
       "      <th>sacral_slope</th>\n",
       "      <th>pelvic_radius</th>\n",
       "      <th>spondy_grade</th>\n",
       "      <th>outcome</th>\n",
       "      <th>outcome_number</th>\n",
       "    </tr>\n",
       "  </thead>\n",
       "  <tbody>\n",
       "    <tr>\n",
       "      <th>305</th>\n",
       "      <td>47.90</td>\n",
       "      <td>13.62</td>\n",
       "      <td>36.00</td>\n",
       "      <td>34.29</td>\n",
       "      <td>117.45</td>\n",
       "      <td>-4.25</td>\n",
       "      <td>NO</td>\n",
       "      <td>0</td>\n",
       "    </tr>\n",
       "    <tr>\n",
       "      <th>306</th>\n",
       "      <td>53.94</td>\n",
       "      <td>20.72</td>\n",
       "      <td>29.22</td>\n",
       "      <td>33.22</td>\n",
       "      <td>114.37</td>\n",
       "      <td>-0.42</td>\n",
       "      <td>NO</td>\n",
       "      <td>0</td>\n",
       "    </tr>\n",
       "    <tr>\n",
       "      <th>307</th>\n",
       "      <td>61.45</td>\n",
       "      <td>22.69</td>\n",
       "      <td>46.17</td>\n",
       "      <td>38.75</td>\n",
       "      <td>125.67</td>\n",
       "      <td>-2.71</td>\n",
       "      <td>NO</td>\n",
       "      <td>0</td>\n",
       "    </tr>\n",
       "    <tr>\n",
       "      <th>308</th>\n",
       "      <td>45.25</td>\n",
       "      <td>8.69</td>\n",
       "      <td>41.58</td>\n",
       "      <td>36.56</td>\n",
       "      <td>118.55</td>\n",
       "      <td>0.21</td>\n",
       "      <td>NO</td>\n",
       "      <td>0</td>\n",
       "    </tr>\n",
       "    <tr>\n",
       "      <th>309</th>\n",
       "      <td>33.84</td>\n",
       "      <td>5.07</td>\n",
       "      <td>36.64</td>\n",
       "      <td>28.77</td>\n",
       "      <td>123.95</td>\n",
       "      <td>-0.20</td>\n",
       "      <td>NO</td>\n",
       "      <td>0</td>\n",
       "    </tr>\n",
       "  </tbody>\n",
       "</table>\n",
       "</div>"
      ],
      "text/plain": [
       "     pelvic_incidence  pelvic_tilt  lumbar_lordosis_angle  sacral_slope  \\\n",
       "305             47.90        13.62                  36.00         34.29   \n",
       "306             53.94        20.72                  29.22         33.22   \n",
       "307             61.45        22.69                  46.17         38.75   \n",
       "308             45.25         8.69                  41.58         36.56   \n",
       "309             33.84         5.07                  36.64         28.77   \n",
       "\n",
       "     pelvic_radius  spondy_grade outcome  outcome_number  \n",
       "305         117.45         -4.25      NO               0  \n",
       "306         114.37         -0.42      NO               0  \n",
       "307         125.67         -2.71      NO               0  \n",
       "308         118.55          0.21      NO               0  \n",
       "309         123.95         -0.20      NO               0  "
      ]
     },
     "execution_count": 5,
     "metadata": {},
     "output_type": "execute_result"
    }
   ],
   "source": [
    "vertebral_data.tail()"
   ]
  },
  {
   "cell_type": "markdown",
   "metadata": {},
   "source": [
    "My outcome is no longer a value, but a number. Below I plot `pelvic_incidence` relative to this new numeric `outcome_number`:"
   ]
  },
  {
   "cell_type": "code",
   "execution_count": 6,
   "metadata": {},
   "outputs": [
    {
     "data": {
      "image/png": "[encoded data removed]",
      "text/plain": [
       "<Figure size 345.6x432 with 1 Axes>"
      ]
     },
     "metadata": {
      "needs_background": "light"
     },
     "output_type": "display_data"
    }
   ],
   "source": [
    "sns.pairplot(vertebral_data,x_vars=[\"pelvic_incidence\"],y_vars=\"outcome_number\", height=6, aspect=0.8);"
   ]
  },
  {
   "cell_type": "markdown",
   "metadata": {
    "slideshow": {
     "slide_type": "subslide"
    }
   },
   "source": [
    "And now I will do a simple linear regression using this feature as the sole predictor and the converted outcome number as the target using scikit-learn:"
   ]
  },
  {
   "cell_type": "code",
   "execution_count": 7,
   "metadata": {
    "slideshow": {
     "slide_type": "fragment"
    }
   },
   "outputs": [],
   "source": [
    "# fit a linear regression model and store the predictions\n",
    "feature_cols = ['pelvic_incidence']\n",
    "X = vertebral_data[feature_cols]\n",
    "y = vertebral_data.outcome_number\n",
    "linreg = LinearRegression()\n",
    "linreg.fit(X, y)\n",
    "outcome_pred = linreg.predict(X)"
   ]
  },
  {
   "cell_type": "code",
   "execution_count": 8,
   "metadata": {
    "slideshow": {
     "slide_type": "subslide"
    }
   },
   "outputs": [
    {
     "data": {
      "image/png": "[encoded data removed]",
      "text/plain": [
       "<Figure size 432x288 with 1 Axes>"
      ]
     },
     "metadata": {
      "needs_background": "light"
     },
     "output_type": "display_data"
    }
   ],
   "source": [
    "# scatter plot that includes the regression line\n",
    "sns.mpl.pyplot.scatter(vertebral_data.pelvic_incidence, vertebral_data.outcome_number);\n",
    "sns.mpl.pyplot.plot(vertebral_data.pelvic_incidence, outcome_pred, color='red');\n",
    "sns.mpl.pyplot.xlabel(feature_cols[0]);\n",
    "sns.mpl.pyplot.ylabel(y.name);\n",
    "sns.mpl.pyplot.title(\"Simple linear regression using pelvic incidence\");"
   ]
  },
  {
   "cell_type": "markdown",
   "metadata": {
    "slideshow": {
     "slide_type": "fragment"
    }
   },
   "source": [
    "Predictions below:"
   ]
  },
  {
   "cell_type": "code",
   "execution_count": 9,
   "metadata": {},
   "outputs": [
    {
     "data": {
      "text/plain": [
       "array([0.70173614, 0.47167114, 0.75740477, 0.76191585, 0.57389026,\n",
       "       0.4830928 , 0.60959496, 0.53223477, 0.51706986, 0.44892378])"
      ]
     },
     "execution_count": 9,
     "metadata": {},
     "output_type": "execute_result"
    }
   ],
   "source": [
    "outcome_pred[:10]"
   ]
  },
  {
   "cell_type": "markdown",
   "metadata": {},
   "source": [
    "If **pelvic_incidence=35**, I predict **0** the class for the outcome\n",
    "\n",
    "So, I predict the 0 class for **lower** values of `pelvic_incidence`, and the 1 class for **higher** values of `pelvic_incidence`.\n",
    "\n",
    "My cutoff value should be around **pelvic_incidence=45**, because that's where the linear regression line crosses the midpoint (0.5) between predicting class 0 and class 1.\n",
    "\n",
    "So, I'll say that if **outcome_pred >= 0.5**, I predict a class of **1**, else I predict a class of **0**."
   ]
  },
  {
   "cell_type": "code",
   "execution_count": 10,
   "metadata": {
    "slideshow": {
     "slide_type": "fragment"
    }
   },
   "outputs": [
    {
     "data": {
      "text/plain": [
       "array([1, 0, 1, 1, 1, 0, 1, 1, 1, 0, 1, 0, 1, 1, 1, 1, 1, 0, 0, 0, 1, 1,\n",
       "       1, 1, 0, 1, 0, 1, 1, 1, 1, 1, 1, 0, 1, 0, 0, 0, 1, 1, 0, 1, 1, 1,\n",
       "       1, 1, 1, 0, 0, 0, 1, 1, 1, 0, 0, 1, 1, 1, 1, 1, 1, 1, 1, 1, 1, 1,\n",
       "       1, 1, 1, 1, 1, 1, 1, 1, 1, 1, 1, 1, 1, 1, 1, 1, 1, 1, 1, 1, 1, 1,\n",
       "       1, 1, 1, 1, 1, 1, 1, 1, 1, 1, 1, 1, 1, 1, 1, 1, 1, 1, 1, 1, 1, 1,\n",
       "       1, 1, 1, 1, 1, 1, 1, 1, 1, 1, 1, 1, 1, 1, 1, 1, 1, 1, 1, 1, 1, 1,\n",
       "       1, 1, 1, 1, 1, 1, 1, 1, 1, 1, 1, 1, 1, 1, 1, 1, 1, 1, 1, 1, 1, 1,\n",
       "       0, 1, 1, 1, 1, 1, 1, 1, 1, 1, 1, 1, 1, 1, 1, 1, 1, 1, 1, 1, 1, 1,\n",
       "       1, 1, 1, 1, 0, 1, 1, 1, 1, 1, 1, 1, 1, 1, 1, 1, 1, 1, 1, 1, 1, 1,\n",
       "       1, 1, 1, 1, 1, 1, 1, 1, 1, 1, 1, 1, 0, 1, 1, 1, 1, 0, 1, 0, 1, 1,\n",
       "       1, 1, 1, 1, 1, 1, 1, 1, 0, 1, 1, 1, 1, 0, 0, 1, 1, 1, 1, 1, 0, 1,\n",
       "       0, 0, 1, 1, 1, 1, 1, 1, 0, 0, 1, 1, 1, 1, 1, 1, 0, 1, 1, 1, 1, 0,\n",
       "       1, 1, 1, 1, 1, 0, 1, 1, 0, 0, 1, 1, 1, 1, 0, 1, 1, 1, 1, 1, 1, 1,\n",
       "       1, 0, 1, 1, 0, 1, 0, 1, 1, 1, 0, 1, 1, 1, 1, 1, 1, 0, 1, 1, 1, 1,\n",
       "       1, 0])"
      ]
     },
     "execution_count": 10,
     "metadata": {},
     "output_type": "execute_result"
    }
   ],
   "source": [
    "# np.where returns the first value if the condition is True, and the second value if the condition is False\n",
    "np.where(outcome_pred >= .5, 1, 0)"
   ]
  },
  {
   "cell_type": "code",
   "execution_count": 11,
   "metadata": {
    "slideshow": {
     "slide_type": "fragment"
    }
   },
   "outputs": [
    {
     "data": {
      "text/plain": [
       "array([1, 0, 1, 1, 1, 0, 1, 1, 1, 0, 1, 0, 1, 1, 1, 1, 1, 0, 0, 0, 1, 1,\n",
       "       1, 1, 0, 1, 0, 1, 1, 1, 1, 1, 1, 0, 1, 0, 0, 0, 1, 1, 0, 1, 1, 1,\n",
       "       1, 1, 1, 0, 0, 0, 1, 1, 1, 0, 0, 1, 1, 1, 1, 1, 1, 1, 1, 1, 1, 1,\n",
       "       1, 1, 1, 1, 1, 1, 1, 1, 1, 1, 1, 1, 1, 1, 1, 1, 1, 1, 1, 1, 1, 1,\n",
       "       1, 1, 1, 1, 1, 1, 1, 1, 1, 1, 1, 1, 1, 1, 1, 1, 1, 1, 1, 1, 1, 1,\n",
       "       1, 1, 1, 1, 1, 1, 1, 1, 1, 1, 1, 1, 1, 1, 1, 1, 1, 1, 1, 1, 1, 1,\n",
       "       1, 1, 1, 1, 1, 1, 1, 1, 1, 1, 1, 1, 1, 1, 1, 1, 1, 1, 1, 1, 1, 1,\n",
       "       0, 1, 1, 1, 1, 1, 1, 1, 1, 1, 1, 1, 1, 1, 1, 1, 1, 1, 1, 1, 1, 1,\n",
       "       1, 1, 1, 1, 0, 1, 1, 1, 1, 1, 1, 1, 1, 1, 1, 1, 1, 1, 1, 1, 1, 1,\n",
       "       1, 1, 1, 1, 1, 1, 1, 1, 1, 1, 1, 1, 0, 1, 1, 1, 1, 0, 1, 0, 1, 1,\n",
       "       1, 1, 1, 1, 1, 1, 1, 1, 0, 1, 1, 1, 1, 0, 0, 1, 1, 1, 1, 1, 0, 1,\n",
       "       0, 0, 1, 1, 1, 1, 1, 1, 0, 0, 1, 1, 1, 1, 1, 1, 0, 1, 1, 1, 1, 0,\n",
       "       1, 1, 1, 1, 1, 0, 1, 1, 0, 0, 1, 1, 1, 1, 0, 1, 1, 1, 1, 1, 1, 1,\n",
       "       1, 0, 1, 1, 0, 1, 0, 1, 1, 1, 0, 1, 1, 1, 1, 1, 1, 0, 1, 1, 1, 1,\n",
       "       1, 0])"
      ]
     },
     "execution_count": 11,
     "metadata": {},
     "output_type": "execute_result"
    }
   ],
   "source": [
    "# transform predictions to 1 or 0\n",
    "outcome_pred_class = np.where(outcome_pred >= 0.5, 1, 0)\n",
    "outcome_pred_class"
   ]
  },
  {
   "cell_type": "code",
   "execution_count": 12,
   "metadata": {
    "slideshow": {
     "slide_type": "subslide"
    }
   },
   "outputs": [
    {
     "data": {
      "image/png": "[encoded data removed]",
      "text/plain": [
       "<Figure size 432x288 with 1 Axes>"
      ]
     },
     "metadata": {
      "needs_background": "light"
     },
     "output_type": "display_data"
    }
   ],
   "source": [
    "# plot the class predictions\n",
    "sns.mpl.pyplot.scatter(vertebral_data.pelvic_incidence, vertebral_data.outcome_number);\n",
    "sns.mpl.pyplot.plot(vertebral_data.pelvic_incidence, outcome_pred_class, color='red');\n",
    "sns.mpl.pyplot.xlabel(feature_cols[0]);\n",
    "sns.mpl.pyplot.ylabel(y.name);\n",
    "sns.mpl.pyplot.title(\"Simple linear regression using pelvic incidence, with thresholded values\");"
   ]
  },
  {
   "cell_type": "markdown",
   "metadata": {
    "slideshow": {
     "slide_type": "subslide"
    }
   },
   "source": [
    "What went wrong? This is a line plot, and it connects points in the order they are found. I need to sort the `DataFrame` by **pelvic_incidence** to fix this:"
   ]
  },
  {
   "cell_type": "code",
   "execution_count": 13,
   "metadata": {
    "slideshow": {
     "slide_type": "fragment"
    }
   },
   "outputs": [],
   "source": [
    "# add predicted class to DataFrame\n",
    "vertebral_data['outcome_pred_class'] = outcome_pred_class\n",
    "\n",
    "# sort DataFrame by pelvic_incidence so that the line plot makes sense\n",
    "vertebral_data.sort_values('pelvic_incidence', inplace=True)"
   ]
  },
  {
   "cell_type": "code",
   "execution_count": 14,
   "metadata": {
    "slideshow": {
     "slide_type": "fragment"
    }
   },
   "outputs": [
    {
     "data": {
      "image/png": "[encoded data removed]",
      "text/plain": [
       "<Figure size 432x288 with 1 Axes>"
      ]
     },
     "metadata": {
      "needs_background": "light"
     },
     "output_type": "display_data"
    }
   ],
   "source": [
    "# plot the class predictions again\n",
    "sns.mpl.pyplot.scatter(vertebral_data.pelvic_incidence, vertebral_data.outcome_number);\n",
    "sns.mpl.pyplot.plot(vertebral_data.pelvic_incidence, vertebral_data.outcome_pred_class, color='red');\n",
    "sns.mpl.pyplot.xlabel(feature_cols[0]);\n",
    "sns.mpl.pyplot.ylabel(y.name);\n",
    "sns.mpl.pyplot.title(\"Simple linear regression using pelvic incidence, with sorted thresholded values\");"
   ]
  },
  {
   "cell_type": "markdown",
   "metadata": {
    "slideshow": {
     "slide_type": "slide"
    }
   },
   "source": [
    "### Use Logistic Regression Instead of Linear Regression on Categorical Outcome Variables\n",
    "\n",
    "Logistic regression can do exactly what I just did, but automatically, and also provide the likelihood (probability) that a given class is class 1:"
   ]
  },
  {
   "cell_type": "code",
   "execution_count": 15,
   "metadata": {
    "slideshow": {
     "slide_type": "subslide"
    }
   },
   "outputs": [],
   "source": [
    "logreg = LogisticRegression(C=1e9,solver='lbfgs')\n",
    "feature_cols = ['pelvic_incidence']\n",
    "X = vertebral_data[feature_cols]\n",
    "y = vertebral_data.outcome_number\n",
    "logreg.fit(X, y)\n",
    "outcome_pred_class_log = logreg.predict(X)"
   ]
  },
  {
   "cell_type": "code",
   "execution_count": 16,
   "metadata": {
    "slideshow": {
     "slide_type": "fragment"
    }
   },
   "outputs": [
    {
     "data": {
      "text/plain": [
       "array([0, 0, 0, 0, 0, 0, 0, 0, 0, 0, 0, 0, 0, 0, 0, 0, 0, 0, 0, 0, 0, 0,\n",
       "       0, 0, 0, 0, 0, 0, 0, 0, 0, 0, 0, 0, 0, 0, 0, 0, 0, 0, 0, 0, 0, 0,\n",
       "       0, 0, 0, 0, 0, 0, 0, 0, 0, 0, 0, 0, 0, 1, 1, 1, 1, 1, 1, 1, 1, 1,\n",
       "       1, 1, 1, 1, 1, 1, 1, 1, 1, 1, 1, 1, 1, 1, 1, 1, 1, 1, 1, 1, 1, 1,\n",
       "       1, 1, 1, 1, 1, 1, 1, 1, 1, 1, 1, 1, 1, 1, 1, 1, 1, 1, 1, 1, 1, 1,\n",
       "       1, 1, 1, 1, 1, 1, 1, 1, 1, 1, 1, 1, 1, 1, 1, 1, 1, 1, 1, 1, 1, 1,\n",
       "       1, 1, 1, 1, 1, 1, 1, 1, 1, 1, 1, 1, 1, 1, 1, 1, 1, 1, 1, 1, 1, 1,\n",
       "       1, 1, 1, 1, 1, 1, 1, 1, 1, 1, 1, 1, 1, 1, 1, 1, 1, 1, 1, 1, 1, 1,\n",
       "       1, 1, 1, 1, 1, 1, 1, 1, 1, 1, 1, 1, 1, 1, 1, 1, 1, 1, 1, 1, 1, 1,\n",
       "       1, 1, 1, 1, 1, 1, 1, 1, 1, 1, 1, 1, 1, 1, 1, 1, 1, 1, 1, 1, 1, 1,\n",
       "       1, 1, 1, 1, 1, 1, 1, 1, 1, 1, 1, 1, 1, 1, 1, 1, 1, 1, 1, 1, 1, 1,\n",
       "       1, 1, 1, 1, 1, 1, 1, 1, 1, 1, 1, 1, 1, 1, 1, 1, 1, 1, 1, 1, 1, 1,\n",
       "       1, 1, 1, 1, 1, 1, 1, 1, 1, 1, 1, 1, 1, 1, 1, 1, 1, 1, 1, 1, 1, 1,\n",
       "       1, 1, 1, 1, 1, 1, 1, 1, 1, 1, 1, 1, 1, 1, 1, 1, 1, 1, 1, 1, 1, 1,\n",
       "       1, 1])"
      ]
     },
     "execution_count": 16,
     "metadata": {},
     "output_type": "execute_result"
    }
   ],
   "source": [
    "# print the class predictions\n",
    "outcome_pred_class_log"
   ]
  },
  {
   "cell_type": "code",
   "execution_count": 17,
   "metadata": {
    "slideshow": {
     "slide_type": "subslide"
    }
   },
   "outputs": [
    {
     "data": {
      "image/png": "[encoded data removed]",
      "text/plain": [
       "<Figure size 432x288 with 1 Axes>"
      ]
     },
     "metadata": {
      "needs_background": "light"
     },
     "output_type": "display_data"
    }
   ],
   "source": [
    "# plot the class predictions\n",
    "sns.mpl.pyplot.scatter(vertebral_data.pelvic_incidence, vertebral_data.outcome_number);\n",
    "sns.mpl.pyplot.plot(vertebral_data.pelvic_incidence, outcome_pred_class_log, color='red');\n",
    "sns.mpl.pyplot.xlabel(feature_cols[0]);\n",
    "sns.mpl.pyplot.ylabel(y.name);\n",
    "sns.mpl.pyplot.title(\"Logistic regression using pelvic incidence, with predicted category membership\");"
   ]
  },
  {
   "cell_type": "markdown",
   "metadata": {
    "slideshow": {
     "slide_type": "fragment"
    }
   },
   "source": [
    "Below I am showing the **predicted probabilites** instead of just the **class predictions**, to understand how confident given predictions are."
   ]
  },
  {
   "cell_type": "code",
   "execution_count": 42,
   "metadata": {},
   "outputs": [
    {
     "data": {
      "text/plain": [
       "array([[0.72243964, 0.27756036],\n",
       "       [0.67732366, 0.32267634],\n",
       "       [0.67035095, 0.32964905],\n",
       "       [0.66450237, 0.33549763],\n",
       "       [0.66390268, 0.33609732],\n",
       "       [0.66149869, 0.33850131],\n",
       "       [0.65411524, 0.34588476],\n",
       "       [0.6424681 , 0.3575319 ],\n",
       "       [0.63315181, 0.36684819],\n",
       "       [0.63252708, 0.36747292],\n",
       "       [0.625752  , 0.374248  ],\n",
       "       [0.62234569, 0.37765431],\n",
       "       [0.62095444, 0.37904556],\n",
       "       [0.61167211, 0.38832789],\n",
       "       [0.60898644, 0.39101356],\n",
       "       [0.60667916, 0.39332084],\n",
       "       [0.60346672, 0.39653328],\n",
       "       [0.60308062, 0.39691938],\n",
       "       [0.5997291 , 0.4002709 ],\n",
       "       [0.59623877, 0.40376123],\n",
       "       [0.5904    , 0.4096    ],\n",
       "       [0.58270619, 0.41729381],\n",
       "       [0.58048166, 0.41951834],\n",
       "       [0.57851612, 0.42148388],\n",
       "       [0.5774668 , 0.4225332 ],\n",
       "       [0.57247317, 0.42752683],\n",
       "       [0.57049787, 0.42950213],\n",
       "       [0.56997074, 0.43002926],\n",
       "       [0.56521957, 0.43478043],\n",
       "       [0.56482308, 0.43517692],\n",
       "       [0.56125105, 0.43874895],\n",
       "       [0.55727468, 0.44272532],\n",
       "       [0.5494335 , 0.4505665 ],\n",
       "       [0.54810194, 0.45189806],\n",
       "       [0.54730267, 0.45269733],\n",
       "       [0.54530344, 0.45469656],\n",
       "       [0.543703  , 0.456297  ],\n",
       "       [0.542769  , 0.457231  ],\n",
       "       [0.53715886, 0.46284114],\n",
       "       [0.53689146, 0.46310854],\n",
       "       [0.53475155, 0.46524845],\n",
       "       [0.53073581, 0.46926419],\n",
       "       [0.52966426, 0.47033574],\n",
       "       [0.52912838, 0.47087162],\n",
       "       [0.52577765, 0.47422235],\n",
       "       [0.51906952, 0.48093048],\n",
       "       [0.51906952, 0.48093048],\n",
       "       [0.51369794, 0.48630206],\n",
       "       [0.51101089, 0.48898911],\n",
       "       [0.51007026, 0.48992974],\n",
       "       [0.50993588, 0.49006412],\n",
       "       [0.50792   , 0.49208   ],\n",
       "       [0.50671035, 0.49328965],\n",
       "       [0.50482851, 0.49517149],\n",
       "       [0.50294654, 0.49705346],\n",
       "       [0.50200552, 0.49799448],\n",
       "       [0.50025787, 0.49974213],\n",
       "       [0.49622489, 0.50377511],\n",
       "       [0.49582161, 0.50417839],\n",
       "       [0.49488065, 0.50511935],\n",
       "       [0.49434297, 0.50565703],\n",
       "       [0.49340207, 0.50659793],\n",
       "       [0.49259562, 0.50740438],\n",
       "       [0.492058  , 0.507942  ],\n",
       "       [0.4917892 , 0.5082108 ],\n",
       "       [0.48695177, 0.51304823],\n",
       "       [0.48654875, 0.51345125],\n",
       "       [0.48466822, 0.51533178],\n",
       "       [0.48238531, 0.51761469],\n",
       "       [0.48077428, 0.51922572],\n",
       "       [0.4798347 , 0.5201653 ],\n",
       "       [0.47849268, 0.52150732],\n",
       "       [0.47795596, 0.52204404],\n",
       "       [0.47634611, 0.52365389],\n",
       "       [0.46910835, 0.53089165],\n",
       "       [0.46736775, 0.53263225],\n",
       "       [0.46710003, 0.53289997],\n",
       "       [0.46656466, 0.53343534],\n",
       "       [0.46643083, 0.53356917],\n",
       "       [0.46375524, 0.53624476],\n",
       "       [0.46081451, 0.53918549],\n",
       "       [0.45467474, 0.54532526],\n",
       "       [0.45014539, 0.54985461],\n",
       "       [0.44908083, 0.55091917],\n",
       "       [0.44814973, 0.55185027],\n",
       "       [0.44695313, 0.55304687],\n",
       "       [0.44522579, 0.55477421],\n",
       "       [0.44482736, 0.55517264],\n",
       "       [0.44416347, 0.55583653],\n",
       "       [0.44336706, 0.55663294],\n",
       "       [0.442173  , 0.557827  ],\n",
       "       [0.44137733, 0.55862267],\n",
       "       [0.44124475, 0.55875525],\n",
       "       [0.43502312, 0.56497688],\n",
       "       [0.43370194, 0.56629806],\n",
       "       [0.43343781, 0.56656219],\n",
       "       [0.4323817 , 0.5676183 ],\n",
       "       [0.42303664, 0.57696336],\n",
       "       [0.42303664, 0.57696336],\n",
       "       [0.42211816, 0.57788184],\n",
       "       [0.42146243, 0.57853757],\n",
       "       [0.41831882, 0.58168118],\n",
       "       [0.41805715, 0.58194285],\n",
       "       [0.41714167, 0.58285833],\n",
       "       [0.4164881 , 0.5835119 ],\n",
       "       [0.41035918, 0.58964082],\n",
       "       [0.40944869, 0.59055131],\n",
       "       [0.40853882, 0.59146118],\n",
       "       [0.40840889, 0.59159111],\n",
       "       [0.40736991, 0.59263009],\n",
       "       [0.40736991, 0.59263009],\n",
       "       [0.40516484, 0.59483516],\n",
       "       [0.40218759, 0.59781241],\n",
       "       [0.40192904, 0.59807096],\n",
       "       [0.39934653, 0.60065347],\n",
       "       [0.39818621, 0.60181379],\n",
       "       [0.39073655, 0.60926345],\n",
       "       [0.38792388, 0.61207612],\n",
       "       [0.38232106, 0.61767894],\n",
       "       [0.37510931, 0.62489069],\n",
       "       [0.37334631, 0.62665369],\n",
       "       [0.37196346, 0.62803654],\n",
       "       [0.36983043, 0.63016957],\n",
       "       [0.36907881, 0.63092119],\n",
       "       [0.36870323, 0.63129677],\n",
       "       [0.36870323, 0.63129677],\n",
       "       [0.36645314, 0.63354686],\n",
       "       [0.36620349, 0.63379651],\n",
       "       [0.36172212, 0.63827788],\n",
       "       [0.36048152, 0.63951848],\n",
       "       [0.3587478 , 0.6412522 ],\n",
       "       [0.35862411, 0.64137589],\n",
       "       [0.35652415, 0.64347585],\n",
       "       [0.35652415, 0.64347585],\n",
       "       [0.35615414, 0.64384586],\n",
       "       [0.35455275, 0.64544725],\n",
       "       [0.35197277, 0.64802723],\n",
       "       [0.34927918, 0.65072082],\n",
       "       [0.34525681, 0.65474319],\n",
       "       [0.34295086, 0.65704914],\n",
       "       [0.34210316, 0.65789684],\n",
       "       [0.33787984, 0.66212016],\n",
       "       [0.33679798, 0.66320202],\n",
       "       [0.33655779, 0.66344221],\n",
       "       [0.33595771, 0.66404229],\n",
       "       [0.3352383 , 0.6647617 ],\n",
       "       [0.33141444, 0.66858556],\n",
       "       [0.33081896, 0.66918104],\n",
       "       [0.32951079, 0.67048921],\n",
       "       [0.32784966, 0.67215034],\n",
       "       [0.32773117, 0.67226883],\n",
       "       [0.32513002, 0.67486998],\n",
       "       [0.3183242 , 0.6816758 ],\n",
       "       [0.31344361, 0.68655639],\n",
       "       [0.31251859, 0.68748141],\n",
       "       [0.31044277, 0.68955723],\n",
       "       [0.3098675 , 0.6901325 ],\n",
       "       [0.3059713 , 0.6940287 ],\n",
       "       [0.30108325, 0.69891675],\n",
       "       [0.29961425, 0.70038575],\n",
       "       [0.29893763, 0.70106237],\n",
       "       [0.29612786, 0.70387214],\n",
       "       [0.29188647, 0.70811353],\n",
       "       [0.28955793, 0.71044207],\n",
       "       [0.28823228, 0.71176772],\n",
       "       [0.28100625, 0.71899375],\n",
       "       [0.28057187, 0.71942813],\n",
       "       [0.27959602, 0.72040398],\n",
       "       [0.27754272, 0.72245728],\n",
       "       [0.27657335, 0.72342665],\n",
       "       [0.2731437 , 0.7268563 ],\n",
       "       [0.26374581, 0.73625419],\n",
       "       [0.26374581, 0.73625419],\n",
       "       [0.26332834, 0.73667166],\n",
       "       [0.26228652, 0.73771348],\n",
       "       [0.26031441, 0.73968559],\n",
       "       [0.25990045, 0.74009955],\n",
       "       [0.25763134, 0.74236866],\n",
       "       [0.25609166, 0.74390834],\n",
       "       [0.25588683, 0.74411317],\n",
       "       [0.25547748, 0.74452252],\n",
       "       [0.25476216, 0.74523784],\n",
       "       [0.254456  , 0.745544  ],\n",
       "       [0.25415008, 0.74584992],\n",
       "       [0.25110424, 0.74889576],\n",
       "       [0.25100313, 0.74899687],\n",
       "       [0.25059897, 0.74940103],\n",
       "       [0.2474814 , 0.7525186 ],\n",
       "       [0.24558354, 0.75441646],\n",
       "       [0.24359643, 0.75640357],\n",
       "       [0.24359643, 0.75640357],\n",
       "       [0.23838351, 0.76161649],\n",
       "       [0.23770077, 0.76229923],\n",
       "       [0.23711664, 0.76288336],\n",
       "       [0.23624229, 0.76375771],\n",
       "       [0.23624229, 0.76375771],\n",
       "       [0.23113866, 0.76886134],\n",
       "       [0.22904295, 0.77095705],\n",
       "       [0.22630088, 0.77369912],\n",
       "       [0.22554855, 0.77445145],\n",
       "       [0.22414271, 0.77585729],\n",
       "       [0.22199922, 0.77800078],\n",
       "       [0.22172072, 0.77827928],\n",
       "       [0.2206092 , 0.7793908 ],\n",
       "       [0.219686  , 0.780314  ],\n",
       "       [0.21940958, 0.78059042],\n",
       "       [0.21702442, 0.78297558],\n",
       "       [0.20971427, 0.79028573],\n",
       "       [0.20873562, 0.79126438],\n",
       "       [0.20776033, 0.79223967],\n",
       "       [0.20625968, 0.79374032],\n",
       "       [0.20363108, 0.79636892],\n",
       "       [0.20276044, 0.79723956],\n",
       "       [0.2013732 , 0.7986268 ],\n",
       "       [0.20076852, 0.79923148],\n",
       "       [0.19964915, 0.80035085],\n",
       "       [0.19947735, 0.80052265],\n",
       "       [0.19572594, 0.80427406],\n",
       "       [0.19547211, 0.80452789],\n",
       "       [0.19420673, 0.80579327],\n",
       "       [0.19353441, 0.80646559],\n",
       "       [0.19186134, 0.80813866],\n",
       "       [0.18962023, 0.81037977],\n",
       "       [0.18920742, 0.81079258],\n",
       "       [0.18764501, 0.81235499],\n",
       "       [0.18723551, 0.81276449],\n",
       "       [0.18069719, 0.81930281],\n",
       "       [0.18045848, 0.81954152],\n",
       "       [0.17934777, 0.82065223],\n",
       "       [0.17839998, 0.82160002],\n",
       "       [0.17667257, 0.82332743],\n",
       "       [0.17604768, 0.82395232],\n",
       "       [0.17356552, 0.82643448],\n",
       "       [0.16838287, 0.83161713],\n",
       "       [0.16561513, 0.83438487],\n",
       "       [0.16502152, 0.83497848],\n",
       "       [0.16288398, 0.83711602],\n",
       "       [0.1625177 , 0.8374823 ],\n",
       "       [0.16222515, 0.83777485],\n",
       "       [0.16149565, 0.83850435],\n",
       "       [0.16040636, 0.83959364],\n",
       "       [0.16040636, 0.83959364],\n",
       "       [0.15946712, 0.84053288],\n",
       "       [0.15853235, 0.84146765],\n",
       "       [0.15625031, 0.84374969],\n",
       "       [0.15526037, 0.84473963],\n",
       "       [0.15378506, 0.84621494],\n",
       "       [0.15031859, 0.84968141],\n",
       "       [0.14922298, 0.85077702],\n",
       "       [0.1490865 , 0.8509135 ],\n",
       "       [0.14384347, 0.85615653],\n",
       "       [0.14377726, 0.85622274],\n",
       "       [0.1429847 , 0.8570153 ],\n",
       "       [0.14186814, 0.85813186],\n",
       "       [0.14023937, 0.85976063],\n",
       "       [0.14004498, 0.85995502],\n",
       "       [0.1355098 , 0.8644902 ],\n",
       "       [0.13532093, 0.86467907],\n",
       "       [0.13494385, 0.86505615],\n",
       "       [0.13024391, 0.86975609],\n",
       "       [0.12884925, 0.87115075],\n",
       "       [0.1260981 , 0.8739019 ],\n",
       "       [0.12532976, 0.87467024],\n",
       "       [0.12509416, 0.87490584],\n",
       "       [0.12322297, 0.87677703],\n",
       "       [0.12195053, 0.87804947],\n",
       "       [0.12097504, 0.87902496],\n",
       "       [0.12000628, 0.87999372],\n",
       "       [0.11960934, 0.88039066],\n",
       "       [0.11949613, 0.88050387],\n",
       "       [0.11938302, 0.88061698],\n",
       "       [0.1193265 , 0.8806735 ],\n",
       "       [0.11625328, 0.88374672],\n",
       "       [0.11575698, 0.88424302],\n",
       "       [0.11217348, 0.88782652],\n",
       "       [0.10952358, 0.89047642],\n",
       "       [0.1069801 , 0.8930199 ],\n",
       "       [0.10544865, 0.89455135],\n",
       "       [0.10453909, 0.89546091],\n",
       "       [0.10428767, 0.89571233],\n",
       "       [0.10101866, 0.89898134],\n",
       "       [0.09917803, 0.90082197],\n",
       "       [0.09903399, 0.90096601],\n",
       "       [0.09855522, 0.90144478],\n",
       "       [0.09765123, 0.90234877],\n",
       "       [0.0973673 , 0.9026327 ],\n",
       "       [0.09628571, 0.90371429],\n",
       "       [0.09600533, 0.90399467],\n",
       "       [0.09581881, 0.90418119],\n",
       "       [0.0941547 , 0.9058453 ],\n",
       "       [0.09220099, 0.90779901],\n",
       "       [0.09094845, 0.90905155],\n",
       "       [0.09028377, 0.90971623],\n",
       "       [0.08689751, 0.91310249],\n",
       "       [0.08545773, 0.91454227],\n",
       "       [0.08296961, 0.91703039],\n",
       "       [0.08138784, 0.91861216],\n",
       "       [0.07943947, 0.92056053],\n",
       "       [0.07873451, 0.92126549],\n",
       "       [0.07815142, 0.92184858],\n",
       "       [0.07555734, 0.92444266],\n",
       "       [0.07202963, 0.92797037],\n",
       "       [0.07004257, 0.92995743],\n",
       "       [0.06290777, 0.93709223],\n",
       "       [0.05917943, 0.94082057],\n",
       "       [0.05888074, 0.94111926],\n",
       "       [0.0554614 , 0.9445386 ],\n",
       "       [0.02041825, 0.97958175],\n",
       "       [0.01816236, 0.98183764],\n",
       "       [0.0097693 , 0.9902307 ]])"
      ]
     },
     "execution_count": 42,
     "metadata": {},
     "output_type": "execute_result"
    }
   ],
   "source": [
    "logreg.predict_proba(X)"
   ]
  },
  {
   "cell_type": "code",
   "execution_count": 19,
   "metadata": {
    "slideshow": {
     "slide_type": "subslide"
    }
   },
   "outputs": [],
   "source": [
    "# store the predicted probabilites of class 1\n",
    "outcome_probs = logreg.predict_proba(X)[:, 1]"
   ]
  },
  {
   "cell_type": "code",
   "execution_count": 20,
   "metadata": {
    "slideshow": {
     "slide_type": "fragment"
    }
   },
   "outputs": [
    {
     "data": {
      "image/png": "[encoded data removed]",
      "text/plain": [
       "<Figure size 432x288 with 1 Axes>"
      ]
     },
     "metadata": {
      "needs_background": "light"
     },
     "output_type": "display_data"
    }
   ],
   "source": [
    "# plot the predicted probabilities, and the 50% line\n",
    "sns.mpl.pyplot.scatter(vertebral_data.pelvic_incidence, vertebral_data.outcome_number);\n",
    "sns.mpl.pyplot.plot(vertebral_data.pelvic_incidence, outcome_probs, color='red');\n",
    "sns.mpl.pyplot.plot(vertebral_data.pelvic_incidence,np.ones(outcome_probs.shape)*.5,'k--');\n",
    "sns.mpl.pyplot.ylabel(y.name);\n",
    "sns.mpl.pyplot.title(\"Logistic regression using pelvic incidence, with predicted category probabilities\");"
   ]
  },
  {
   "cell_type": "code",
   "execution_count": 21,
   "metadata": {
    "slideshow": {
     "slide_type": "subslide"
    }
   },
   "outputs": [
    {
     "name": "stdout",
     "output_type": "stream",
     "text": [
      "Pelvic incidence of 15: [[0.82580388 0.17419612]]\n",
      "Pelvic incidence of 10: [[0.86117045 0.13882955]]\n",
      "Pelvic incidence of 55: [[0.35553784 0.64446216]]\n"
     ]
    }
   ],
   "source": [
    "# examine some example predictions\n",
    "print(\"Pelvic incidence of 15:\", logreg.predict_proba([[15]]))\n",
    "print(\"Pelvic incidence of 10:\", logreg.predict_proba([[10]]))\n",
    "print(\"Pelvic incidence of 55:\", logreg.predict_proba([[55]]))"
   ]
  },
  {
   "cell_type": "markdown",
   "metadata": {
    "slideshow": {
     "slide_type": "fragment"
    }
   },
   "source": [
    "The first number in each entry indicates the predicted probability of **class 0**, and the second number in each entry indicates the predicted probability of **class 1**."
   ]
  },
  {
   "cell_type": "markdown",
   "metadata": {
    "slideshow": {
     "slide_type": "slide"
    }
   },
   "source": [
    "$$probability = \\frac {one\\ outcome} {all\\ outcomes}$$\n",
    "\n",
    "$$odds = \\frac {one\\ outcome} {all\\ other\\ outcomes}$$\n",
    "\n",
    "$$odds = \\frac {probability} {1 - probability}$$\n",
    "\n",
    "$$probability = \\frac {odds} {1 + odds}$$"
   ]
  },
  {
   "cell_type": "code",
   "execution_count": 22,
   "metadata": {
    "slideshow": {
     "slide_type": "subslide"
    }
   },
   "outputs": [
    {
     "data": {
      "text/html": [
       "<div>\n",
       "<style scoped>\n",
       "    .dataframe tbody tr th:only-of-type {\n",
       "        vertical-align: middle;\n",
       "    }\n",
       "\n",
       "    .dataframe tbody tr th {\n",
       "        vertical-align: top;\n",
       "    }\n",
       "\n",
       "    .dataframe thead th {\n",
       "        text-align: right;\n",
       "    }\n",
       "</style>\n",
       "<table border=\"1\" class=\"dataframe\">\n",
       "  <thead>\n",
       "    <tr style=\"text-align: right;\">\n",
       "      <th></th>\n",
       "      <th>probability</th>\n",
       "      <th>odds</th>\n",
       "    </tr>\n",
       "  </thead>\n",
       "  <tbody>\n",
       "    <tr>\n",
       "      <th>0</th>\n",
       "      <td>0.100</td>\n",
       "      <td>0.111111</td>\n",
       "    </tr>\n",
       "    <tr>\n",
       "      <th>1</th>\n",
       "      <td>0.200</td>\n",
       "      <td>0.250000</td>\n",
       "    </tr>\n",
       "    <tr>\n",
       "      <th>2</th>\n",
       "      <td>0.250</td>\n",
       "      <td>0.333333</td>\n",
       "    </tr>\n",
       "    <tr>\n",
       "      <th>3</th>\n",
       "      <td>0.300</td>\n",
       "      <td>0.428571</td>\n",
       "    </tr>\n",
       "    <tr>\n",
       "      <th>4</th>\n",
       "      <td>0.400</td>\n",
       "      <td>0.666667</td>\n",
       "    </tr>\n",
       "    <tr>\n",
       "      <th>5</th>\n",
       "      <td>0.500</td>\n",
       "      <td>1.000000</td>\n",
       "    </tr>\n",
       "    <tr>\n",
       "      <th>6</th>\n",
       "      <td>0.600</td>\n",
       "      <td>1.500000</td>\n",
       "    </tr>\n",
       "    <tr>\n",
       "      <th>7</th>\n",
       "      <td>0.700</td>\n",
       "      <td>2.333333</td>\n",
       "    </tr>\n",
       "    <tr>\n",
       "      <th>8</th>\n",
       "      <td>0.800</td>\n",
       "      <td>4.000000</td>\n",
       "    </tr>\n",
       "    <tr>\n",
       "      <th>9</th>\n",
       "      <td>0.900</td>\n",
       "      <td>9.000000</td>\n",
       "    </tr>\n",
       "    <tr>\n",
       "      <th>10</th>\n",
       "      <td>0.990</td>\n",
       "      <td>99.000000</td>\n",
       "    </tr>\n",
       "    <tr>\n",
       "      <th>11</th>\n",
       "      <td>0.999</td>\n",
       "      <td>999.000000</td>\n",
       "    </tr>\n",
       "  </tbody>\n",
       "</table>\n",
       "</div>"
      ],
      "text/plain": [
       "    probability        odds\n",
       "0         0.100    0.111111\n",
       "1         0.200    0.250000\n",
       "2         0.250    0.333333\n",
       "3         0.300    0.428571\n",
       "4         0.400    0.666667\n",
       "5         0.500    1.000000\n",
       "6         0.600    1.500000\n",
       "7         0.700    2.333333\n",
       "8         0.800    4.000000\n",
       "9         0.900    9.000000\n",
       "10        0.990   99.000000\n",
       "11        0.999  999.000000"
      ]
     },
     "execution_count": 22,
     "metadata": {},
     "output_type": "execute_result"
    }
   ],
   "source": [
    "# create a table of probability versus odds\n",
    "prob_table = pd.DataFrame({'probability':[0.1, 0.2, 0.25, 0.3, 0.4, 0.5, 0.6, 0.7, 0.8, 0.9, 0.99, 0.999]})\n",
    "prob_table['odds'] = prob_table.probability/(1 - prob_table.probability)\n",
    "prob_table"
   ]
  },
  {
   "cell_type": "code",
   "execution_count": 26,
   "metadata": {
    "slideshow": {
     "slide_type": "subslide"
    }
   },
   "outputs": [
    {
     "data": {
      "text/html": [
       "<div>\n",
       "<style scoped>\n",
       "    .dataframe tbody tr th:only-of-type {\n",
       "        vertical-align: middle;\n",
       "    }\n",
       "\n",
       "    .dataframe tbody tr th {\n",
       "        vertical-align: top;\n",
       "    }\n",
       "\n",
       "    .dataframe thead th {\n",
       "        text-align: right;\n",
       "    }\n",
       "</style>\n",
       "<table border=\"1\" class=\"dataframe\">\n",
       "  <thead>\n",
       "    <tr style=\"text-align: right;\">\n",
       "      <th></th>\n",
       "      <th>probability</th>\n",
       "      <th>odds</th>\n",
       "      <th>log_odds</th>\n",
       "    </tr>\n",
       "  </thead>\n",
       "  <tbody>\n",
       "    <tr>\n",
       "      <th>0</th>\n",
       "      <td>0.100</td>\n",
       "      <td>0.111111</td>\n",
       "      <td>-2.197225</td>\n",
       "    </tr>\n",
       "    <tr>\n",
       "      <th>1</th>\n",
       "      <td>0.200</td>\n",
       "      <td>0.250000</td>\n",
       "      <td>-1.386294</td>\n",
       "    </tr>\n",
       "    <tr>\n",
       "      <th>2</th>\n",
       "      <td>0.250</td>\n",
       "      <td>0.333333</td>\n",
       "      <td>-1.098612</td>\n",
       "    </tr>\n",
       "    <tr>\n",
       "      <th>3</th>\n",
       "      <td>0.300</td>\n",
       "      <td>0.428571</td>\n",
       "      <td>-0.847298</td>\n",
       "    </tr>\n",
       "    <tr>\n",
       "      <th>4</th>\n",
       "      <td>0.400</td>\n",
       "      <td>0.666667</td>\n",
       "      <td>-0.405465</td>\n",
       "    </tr>\n",
       "    <tr>\n",
       "      <th>5</th>\n",
       "      <td>0.500</td>\n",
       "      <td>1.000000</td>\n",
       "      <td>0.000000</td>\n",
       "    </tr>\n",
       "    <tr>\n",
       "      <th>6</th>\n",
       "      <td>0.600</td>\n",
       "      <td>1.500000</td>\n",
       "      <td>0.405465</td>\n",
       "    </tr>\n",
       "    <tr>\n",
       "      <th>7</th>\n",
       "      <td>0.700</td>\n",
       "      <td>2.333333</td>\n",
       "      <td>0.847298</td>\n",
       "    </tr>\n",
       "    <tr>\n",
       "      <th>8</th>\n",
       "      <td>0.800</td>\n",
       "      <td>4.000000</td>\n",
       "      <td>1.386294</td>\n",
       "    </tr>\n",
       "    <tr>\n",
       "      <th>9</th>\n",
       "      <td>0.900</td>\n",
       "      <td>9.000000</td>\n",
       "      <td>2.197225</td>\n",
       "    </tr>\n",
       "    <tr>\n",
       "      <th>10</th>\n",
       "      <td>0.990</td>\n",
       "      <td>99.000000</td>\n",
       "      <td>4.595120</td>\n",
       "    </tr>\n",
       "    <tr>\n",
       "      <th>11</th>\n",
       "      <td>0.999</td>\n",
       "      <td>999.000000</td>\n",
       "      <td>6.906755</td>\n",
       "    </tr>\n",
       "  </tbody>\n",
       "</table>\n",
       "</div>"
      ],
      "text/plain": [
       "    probability        odds  log_odds\n",
       "0         0.100    0.111111 -2.197225\n",
       "1         0.200    0.250000 -1.386294\n",
       "2         0.250    0.333333 -1.098612\n",
       "3         0.300    0.428571 -0.847298\n",
       "4         0.400    0.666667 -0.405465\n",
       "5         0.500    1.000000  0.000000\n",
       "6         0.600    1.500000  0.405465\n",
       "7         0.700    2.333333  0.847298\n",
       "8         0.800    4.000000  1.386294\n",
       "9         0.900    9.000000  2.197225\n",
       "10        0.990   99.000000  4.595120\n",
       "11        0.999  999.000000  6.906755"
      ]
     },
     "execution_count": 26,
     "metadata": {},
     "output_type": "execute_result"
    }
   ],
   "source": [
    "# add log-odds to the table\n",
    "prob_table['log_odds'] = np.log(prob_table.odds)\n",
    "prob_table"
   ]
  },
  {
   "cell_type": "markdown",
   "metadata": {
    "slideshow": {
     "slide_type": "slide"
    }
   },
   "source": [
    "### Interpreting Logistic Regression Coefficients"
   ]
  },
  {
   "cell_type": "code",
   "execution_count": 27,
   "metadata": {
    "slideshow": {
     "slide_type": "subslide"
    }
   },
   "outputs": [
    {
     "data": {
      "image/png": "[encoded data removed]",
      "text/plain": [
       "<Figure size 432x288 with 1 Axes>"
      ]
     },
     "metadata": {
      "needs_background": "light"
     },
     "output_type": "display_data"
    }
   ],
   "source": [
    "# plot the predicted probabilities again\n",
    "sns.mpl.pyplot.scatter(vertebral_data.pelvic_incidence, vertebral_data.outcome_number);\n",
    "sns.mpl.pyplot.plot(vertebral_data.pelvic_incidence, outcome_probs, color='red');\n",
    "sns.mpl.pyplot.xlabel(feature_cols[0]);\n",
    "sns.mpl.pyplot.ylabel(y.name);\n",
    "sns.mpl.pyplot.title(\"Logistic regression using pelvic incidence, with predicted category probabilities\");"
   ]
  },
  {
   "cell_type": "code",
   "execution_count": 28,
   "metadata": {
    "slideshow": {
     "slide_type": "subslide"
    }
   },
   "outputs": [
    {
     "name": "stdout",
     "output_type": "stream",
     "text": [
      "Log odds: [0.59478442]\n"
     ]
    }
   ],
   "source": [
    "# compute predicted log-odds for pelvic_incidence=55 using the equation\n",
    "logodds = logreg.intercept_ + logreg.coef_[0] * 55\n",
    "print(\"Log odds:\",logodds)"
   ]
  },
  {
   "cell_type": "code",
   "execution_count": 29,
   "metadata": {
    "slideshow": {
     "slide_type": "fragment"
    }
   },
   "outputs": [
    {
     "name": "stdout",
     "output_type": "stream",
     "text": [
      "odds: [1.81264014]\n"
     ]
    }
   ],
   "source": [
    "# convert log-odds to odds\n",
    "odds = np.exp(logodds)\n",
    "print(\"odds:\",odds)"
   ]
  },
  {
   "cell_type": "code",
   "execution_count": 30,
   "metadata": {
    "slideshow": {
     "slide_type": "fragment"
    }
   },
   "outputs": [
    {
     "name": "stdout",
     "output_type": "stream",
     "text": [
      "probability: [0.64446216]\n"
     ]
    }
   ],
   "source": [
    "# convert odds to probability, this is the number you would see in the plot above where x= 55\n",
    "prob = odds/(1 + odds)\n",
    "print(\"probability:\",prob)"
   ]
  },
  {
   "cell_type": "code",
   "execution_count": 31,
   "metadata": {
    "slideshow": {
     "slide_type": "fragment"
    }
   },
   "outputs": [
    {
     "data": {
      "text/plain": [
       "array([0.92250464])"
      ]
     },
     "execution_count": 31,
     "metadata": {},
     "output_type": "execute_result"
    }
   ],
   "source": [
    "# compute predicted probability for al=2 using the predict_proba method\n",
    "logreg.predict_proba([[90]])[:, 1]"
   ]
  },
  {
   "cell_type": "code",
   "execution_count": 32,
   "metadata": {
    "slideshow": {
     "slide_type": "subslide"
    }
   },
   "outputs": [
    {
     "data": {
      "text/html": [
       "<div>\n",
       "<style scoped>\n",
       "    .dataframe tbody tr th:only-of-type {\n",
       "        vertical-align: middle;\n",
       "    }\n",
       "\n",
       "    .dataframe tbody tr th {\n",
       "        vertical-align: top;\n",
       "    }\n",
       "\n",
       "    .dataframe thead th {\n",
       "        text-align: right;\n",
       "    }\n",
       "</style>\n",
       "<table border=\"1\" class=\"dataframe\">\n",
       "  <thead>\n",
       "    <tr style=\"text-align: right;\">\n",
       "      <th></th>\n",
       "      <th>feature_name</th>\n",
       "      <th>coeff</th>\n",
       "    </tr>\n",
       "  </thead>\n",
       "  <tbody>\n",
       "    <tr>\n",
       "      <th>0</th>\n",
       "      <td>pelvic_incidence</td>\n",
       "      <td>0.053774</td>\n",
       "    </tr>\n",
       "  </tbody>\n",
       "</table>\n",
       "</div>"
      ],
      "text/plain": [
       "       feature_name     coeff\n",
       "0  pelvic_incidence  0.053774"
      ]
     },
     "execution_count": 32,
     "metadata": {},
     "output_type": "execute_result"
    }
   ],
   "source": [
    "# examine the coefficient for pelvic_incidence\n",
    "pd.DataFrame(list(zip(feature_cols, logreg.coef_[0])),columns=[\"feature_name\",\"coeff\"])"
   ]
  },
  {
   "cell_type": "markdown",
   "metadata": {
    "slideshow": {
     "slide_type": "fragment"
    }
   },
   "source": [
    "**Interpretation:** A 1 unit increase in `pelvic_incidence` is associated with a ~0.054 unit increase in the log-odds of `outcome`, where a positive outcome is having a vertebral abnormality (not positive in the real world, but positive in how I coded my outcome feature)."
   ]
  },
  {
   "cell_type": "code",
   "execution_count": 33,
   "metadata": {
    "slideshow": {
     "slide_type": "fragment"
    }
   },
   "outputs": [
    {
     "data": {
      "text/plain": [
       "0.6566903741190347"
      ]
     },
     "execution_count": 33,
     "metadata": {},
     "output_type": "execute_result"
    }
   ],
   "source": [
    "# increasing pelvic_incidence by 1 (so that pelvic_incidence=56) increases the log-odds by about 0.054\n",
    "logodds = 0.59481302 + 0.053766875792266015\n",
    "odds = np.exp(logodds)\n",
    "prob = odds/(1 + odds)\n",
    "prob"
   ]
  },
  {
   "cell_type": "code",
   "execution_count": 34,
   "metadata": {
    "slideshow": {
     "slide_type": "skip"
    }
   },
   "outputs": [
    {
     "data": {
      "text/plain": [
       "array([0.92626265])"
      ]
     },
     "execution_count": 34,
     "metadata": {},
     "output_type": "execute_result"
    }
   ],
   "source": [
    "# compute predicted probability for pelvic_incidence=56 using the predict_proba method\n",
    "logreg.predict_proba([[91]])[:, 1]"
   ]
  },
  {
   "cell_type": "markdown",
   "metadata": {
    "slideshow": {
     "slide_type": "subslide"
    }
   },
   "source": [
    "**Positive coefficients increase the log-odds of the response (and thus increase the probability), and negative coefficients decrease the log-odds of the response (and thus decrease the probability).**"
   ]
  },
  {
   "cell_type": "code",
   "execution_count": 35,
   "metadata": {
    "slideshow": {
     "slide_type": "subslide"
    }
   },
   "outputs": [
    {
     "data": {
      "text/plain": [
       "array([-2.36278552])"
      ]
     },
     "execution_count": 35,
     "metadata": {},
     "output_type": "execute_result"
    }
   ],
   "source": [
    "# examine the intercept\n",
    "logreg.intercept_"
   ]
  },
  {
   "cell_type": "markdown",
   "metadata": {
    "slideshow": {
     "slide_type": "fragment"
    }
   },
   "source": [
    "**Interpretation:** For a 'pelvic_incidence' value of 0, the log-odds of 'outcome' is -2.36."
   ]
  },
  {
   "cell_type": "code",
   "execution_count": 36,
   "metadata": {
    "slideshow": {
     "slide_type": "fragment"
    }
   },
   "outputs": [
    {
     "data": {
      "text/plain": [
       "array([0.08605486])"
      ]
     },
     "execution_count": 36,
     "metadata": {},
     "output_type": "execute_result"
    }
   ],
   "source": [
    "# convert log-odds to probability\n",
    "logodds = logreg.intercept_\n",
    "odds = np.exp(logodds)\n",
    "prob = odds/(1 + odds)\n",
    "prob"
   ]
  },
  {
   "cell_type": "markdown",
   "metadata": {
    "slideshow": {
     "slide_type": "fragment"
    }
   },
   "source": [
    "That makes sense from the plot above, because the probability of outcome=1 should be very low for such a low `pelvic_incidence` value."
   ]
  },
  {
   "cell_type": "markdown",
   "metadata": {
    "slideshow": {
     "slide_type": "subslide"
    }
   },
   "source": [
    "![logistic betas example](./images/logistic_betas_example.png)"
   ]
  },
  {
   "cell_type": "markdown",
   "metadata": {
    "slideshow": {
     "slide_type": "fragment"
    }
   },
   "source": [
    "Changing the $\\beta_0$ value shifts the curve **horizontally**, whereas changing the $\\beta_1$ value changes the **slope** of the curve.\n",
    "\n",
    "The non-bias $\\beta$ coefficients are effectively estimates of how certain the outcome given how much evidence that specific feature gives. A really high magnitude (positive or negative) value means a very certain of the outcome, given I/we know that feature's value."
   ]
  },
  {
   "cell_type": "markdown",
   "metadata": {},
   "source": [
    "There are two common (inverse) measurements we can make that capture the performance of my classification model:\n",
    "  * **Classification accuracy**: percentage of correct predictions (**reward function**)\n",
    "  * **Classification error**: percentage of incorrect predictions (**loss function**)\n"
   ]
  },
  {
   "cell_type": "code",
   "execution_count": 37,
   "metadata": {
    "scrolled": true
   },
   "outputs": [
    {
     "name": "stdout",
     "output_type": "stream",
     "text": [
      "Model accuracy: 0.6258064516129033\n"
     ]
    }
   ],
   "source": [
    "y = vertebral_data.outcome_number\n",
    "y_pred = outcome_pred_class\n",
    "print(\"Model accuracy:\",metrics.accuracy_score(y,y_pred))"
   ]
  },
  {
   "cell_type": "markdown",
   "metadata": {},
   "source": [
    "## Extending the LR model to handle multiple features\n",
    "Extending the logistic regression model to incorporate all of the features in the dataset is necessary now.\n",
    "\n",
    "This can be done using `train_test_split` to make sure that we train and validate the model on distinct sets of data:"
   ]
  },
  {
   "cell_type": "code",
   "execution_count": 38,
   "metadata": {},
   "outputs": [],
   "source": [
    "all_features_X = vertebral_data[vertebral_data.columns.tolist()[:-3]]\n",
    "all_y = vertebral_data.outcome_number\n",
    "\n",
    "all_X_train,all_X_test,all_y_train,all_y_test = train_test_split(all_features_X,\n",
    "                                                                 all_y,\n",
    "                                                                 test_size=0.3,\n",
    "                                                                 random_state=1)"
   ]
  },
  {
   "cell_type": "code",
   "execution_count": 39,
   "metadata": {},
   "outputs": [
    {
     "name": "stdout",
     "output_type": "stream",
     "text": [
      "Accuracy on training data: 0.857\n",
      "Accuracy on test data: 0.828\n"
     ]
    }
   ],
   "source": [
    "logreg_all = LogisticRegression(C=1e9,solver=\"lbfgs\")\n",
    "logreg_all.fit(all_X_train,all_y_train)\n",
    "\n",
    "print(\"Accuracy on training data: {:0.3f}\".format(metrics.accuracy_score(all_y_train,\n",
    "                                                                         logreg_all.predict(all_X_train))))\n",
    "\n",
    "print(\"Accuracy on test data: {:0.3f}\".format(metrics.accuracy_score(all_y_test,\n",
    "                                                                     logreg_all.predict(all_X_test))))"
   ]
  },
  {
   "cell_type": "markdown",
   "metadata": {},
   "source": [
    "Now, inspect all of the coefficients and sort them by their magnitude to see which features have the largest impact on the outcome:"
   ]
  },
  {
   "cell_type": "code",
   "execution_count": 40,
   "metadata": {},
   "outputs": [
    {
     "data": {
      "text/html": [
       "<div>\n",
       "<style scoped>\n",
       "    .dataframe tbody tr th:only-of-type {\n",
       "        vertical-align: middle;\n",
       "    }\n",
       "\n",
       "    .dataframe tbody tr th {\n",
       "        vertical-align: top;\n",
       "    }\n",
       "\n",
       "    .dataframe thead th {\n",
       "        text-align: right;\n",
       "    }\n",
       "</style>\n",
       "<table border=\"1\" class=\"dataframe\">\n",
       "  <thead>\n",
       "    <tr style=\"text-align: right;\">\n",
       "      <th></th>\n",
       "      <th>feature</th>\n",
       "      <th>coefficient</th>\n",
       "      <th>abs_coeff</th>\n",
       "    </tr>\n",
       "  </thead>\n",
       "  <tbody>\n",
       "    <tr>\n",
       "      <th>5</th>\n",
       "      <td>spondy_grade</td>\n",
       "      <td>0.166886</td>\n",
       "      <td>0.166886</td>\n",
       "    </tr>\n",
       "    <tr>\n",
       "      <th>1</th>\n",
       "      <td>pelvic_tilt</td>\n",
       "      <td>0.161644</td>\n",
       "      <td>0.161644</td>\n",
       "    </tr>\n",
       "    <tr>\n",
       "      <th>4</th>\n",
       "      <td>pelvic_radius</td>\n",
       "      <td>-0.118809</td>\n",
       "      <td>0.118809</td>\n",
       "    </tr>\n",
       "    <tr>\n",
       "      <th>0</th>\n",
       "      <td>pelvic_incidence</td>\n",
       "      <td>-0.071040</td>\n",
       "      <td>0.071040</td>\n",
       "    </tr>\n",
       "    <tr>\n",
       "      <th>2</th>\n",
       "      <td>lumbar_lordosis_angle</td>\n",
       "      <td>-0.024332</td>\n",
       "      <td>0.024332</td>\n",
       "    </tr>\n",
       "    <tr>\n",
       "      <th>3</th>\n",
       "      <td>sacral_slope</td>\n",
       "      <td>-0.011935</td>\n",
       "      <td>0.011935</td>\n",
       "    </tr>\n",
       "  </tbody>\n",
       "</table>\n",
       "</div>"
      ],
      "text/plain": [
       "                 feature  coefficient  abs_coeff\n",
       "5           spondy_grade     0.166886   0.166886\n",
       "1            pelvic_tilt     0.161644   0.161644\n",
       "4          pelvic_radius    -0.118809   0.118809\n",
       "0       pelvic_incidence    -0.071040   0.071040\n",
       "2  lumbar_lordosis_angle    -0.024332   0.024332\n",
       "3           sacral_slope    -0.011935   0.011935"
      ]
     },
     "execution_count": 40,
     "metadata": {},
     "output_type": "execute_result"
    }
   ],
   "source": [
    "coeffs_df = pd.DataFrame(list(zip(vertebral_data.columns.tolist()[:-3],\n",
    "                                  logreg_all.coef_[0])),\n",
    "                         columns=[\"feature\",\"coefficient\"])\n",
    "coeffs_df[\"abs_coeff\"] = coeffs_df.coefficient.abs()\n",
    "coeffs_df.sort_values(\"abs_coeff\",ascending=False,inplace=True)\n",
    "coeffs_df"
   ]
  },
  {
   "cell_type": "code",
   "execution_count": 41,
   "metadata": {},
   "outputs": [
    {
     "data": {
      "text/plain": [
       "array([15.8866704])"
      ]
     },
     "execution_count": 41,
     "metadata": {},
     "output_type": "execute_result"
    }
   ],
   "source": [
    "logreg_all.intercept_"
   ]
  },
  {
   "cell_type": "markdown",
   "metadata": {
    "slideshow": {
     "slide_type": "slide"
    }
   },
   "source": [
    "### Comparing Logistic Regression with Other Models\n",
    "\n",
    "Logistic regression has some really awesome advantages:\n",
    "\n",
    "  * It is a highly interpretable method (if you remember what the conversions from log-odds to probability are)\n",
    "  * Model training and prediction are fast\n",
    "  * No tuning is required (excluding regularization)\n",
    "  * No need to scale features\n",
    "  * Outputs well-calibrated predicted probabilities (the probabilities behave like probabilities)\n",
    "\n",
    "However, here are the disadvantages:\n",
    "\n",
    "  * It presumes a linear relationship between the features and the log-odds of the response\n",
    "  * Compared to other, fancier modeling approaches, performance is (generally) not competitive with the best supervised learning methods\n",
    "  * Like linear regression for regression, it is sensitive to irrelevant features\n",
    "  * Unless you explicitly code them, logistic regression can't automatically learn feature interactions"
   ]
  }
 ],
 "metadata": {
  "kernelspec": {
   "display_name": "Python 3",
   "language": "python",
   "name": "python3"
  },
  "language_info": {
   "codemirror_mode": {
    "name": "ipython",
    "version": 3
   },
   "file_extension": ".py",
   "mimetype": "text/x-python",
   "name": "python",
   "nbconvert_exporter": "python",
   "pygments_lexer": "ipython3",
   "version": "3.7.3"
  }
 },
 "nbformat": 4,
 "nbformat_minor": 1
}
