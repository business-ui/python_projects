{
 "cells": [
  {
   "cell_type": "code",
   "execution_count": 18,
   "metadata": {},
   "outputs": [],
   "source": [
    "import datetime\n",
    "import pandas as pd\n",
    "from pandas.tseries.offsets import BDay as workday\n",
    "from selenium.webdriver.support.ui import Select\n"
   ]
  },
  {
   "cell_type": "code",
   "execution_count": 19,
   "metadata": {},
   "outputs": [],
   "source": [
    "from selenium import webdriver\n",
    "from selenium.webdriver.common.keys import Keys\n",
    "from selenium.webdriver.support.expected_conditions import presence_of_element_located"
   ]
  },
  {
   "cell_type": "code",
   "execution_count": 20,
   "metadata": {},
   "outputs": [],
   "source": [
    "login = dict()"
   ]
  },
  {
   "cell_type": "code",
   "execution_count": 21,
   "metadata": {
    "scrolled": true
   },
   "outputs": [],
   "source": [
    "with open('foxfundingemail.txt') as file:\n",
    "    email = file.read()\n",
    "    login['email']=str(email)\n",
    "    \n",
    "with open('foxfundingpw.txt') as pw_file:\n",
    "    password = pw_file.read()\n",
    "    login['password']=str(password)"
   ]
  },
  {
   "cell_type": "code",
   "execution_count": 22,
   "metadata": {},
   "outputs": [],
   "source": [
    "beginning_url = \"https://foxfundingportal.com/users/sign_in\""
   ]
  },
  {
   "cell_type": "code",
   "execution_count": 23,
   "metadata": {},
   "outputs": [],
   "source": [
    "path = r\"C:\\Users\\User\\Dropbox (Fox)\\Hardly Used\\Coding\\Python\\ChromeDriver\\chromedriver.exe\""
   ]
  },
  {
   "cell_type": "code",
   "execution_count": 24,
   "metadata": {},
   "outputs": [],
   "source": [
    "driver = webdriver.Chrome(executable_path=path)\n",
    "\n",
    "driver.get(beginning_url)   \n",
    "\n",
    "driver.find_element_by_id(\"user_email\").send_keys(login['email'])\n",
    "driver.find_element_by_id(\"user_password\").send_keys(login['password'])\n",
    "driver.find_element_by_css_selector(\"input[type=submit]\").click()\n",
    "\n",
    "\n",
    "driver.get('https://foxfundingportal.com/deals')    "
   ]
  },
  {
   "cell_type": "code",
   "execution_count": 25,
   "metadata": {},
   "outputs": [
    {
     "name": "stdout",
     "output_type": "stream",
     "text": [
      "Success!\n"
     ]
    }
   ],
   "source": [
    "if driver:\n",
    "    print('Success!')\n",
    "else:\n",
    "    print('An error has occurred.')"
   ]
  },
  {
   "cell_type": "code",
   "execution_count": 26,
   "metadata": {},
   "outputs": [
    {
     "data": {
      "text/plain": [
       "'10/17/2019'"
      ]
     },
     "execution_count": 26,
     "metadata": {},
     "output_type": "execute_result"
    }
   ],
   "source": [
    "today = pd.datetime.today()\n",
    "yesterday = (today-workday(1)).strftime('%m/%d/%Y')\n",
    "from_date = \"07/01/2019\"\n",
    "to_date = today.strftime('%m/%d/%Y')\n",
    "\n",
    "def filter_set_up(driver):\n",
    "    # Javascript remove disabled part of Underwriter field\n",
    "    driver.execute_script(\"var selection = document.getElementById('underwriter');if(selection!==null){selection.removeAttribute('disabled');}\")\n",
    "    Select(driver.find_element_by_id(\"underwriter\")).select_by_value('8')\n",
    "    driver.find_element_by_id(\"from_created_date\").send_keys(from_date)\n",
    "    driver.find_element_by_id(\"to_created_date\").send_keys(to_date)\n",
    "    driver.find_element_by_id(\"search_name\").send_keys(\" \")\n",
    "    driver.find_element_by_css_selector(\"input[type=submit]\").click()\n",
    "\n",
    "filter_set_up(driver)\n",
    "to_date"
   ]
  },
  {
   "cell_type": "code",
   "execution_count": 27,
   "metadata": {},
   "outputs": [
    {
     "data": {
      "text/plain": [
       "['Deals',\n",
       " 'Date Submitted',\n",
       " 'Status',\n",
       " 'Note',\n",
       " 'Funded Amount',\n",
       " 'Term',\n",
       " 'Monthly Volume',\n",
       " 'FICO',\n",
       " 'Pos',\n",
       " 'Renew (Y/N)',\n",
       " 'Iso',\n",
       " 'Sales Rep',\n",
       " 'Underwriter',\n",
       " 'Iso RM']"
      ]
     },
     "execution_count": 27,
     "metadata": {},
     "output_type": "execute_result"
    }
   ],
   "source": [
    "select_table_headers = driver.find_elements_by_css_selector(\"body > main > div > div > section > div > div.deal_panel > form > div.table_scroll_wrapper > div > table > thead > tr > th\")\n",
    "table_headers = list()\n",
    "for elem in range(len(select_table_headers)-1):\n",
    "    table_headers.append(select_table_headers[elem].text)\n",
    "table_headers.append('Iso RM')\n",
    "\n",
    "table_headers[9] = 'Renew (Y/N)'\n",
    "\n",
    "table_headers"
   ]
  },
  {
   "cell_type": "code",
   "execution_count": 28,
   "metadata": {},
   "outputs": [
    {
     "name": "stdout",
     "output_type": "stream",
     "text": [
      "123\n"
     ]
    }
   ],
   "source": [
    "MAX_PAGE_NUMBER = int(driver.find_element_by_css_selector(\"div.table_scroll_wrapper > div > div > div > a:nth-last-child(2)\").text)\n",
    "\n",
    "print(MAX_PAGE_NUMBER)"
   ]
  },
  {
   "cell_type": "code",
   "execution_count": 29,
   "metadata": {},
   "outputs": [],
   "source": [
    "# underwriters_select = Select(driver.find_element_by_id('underwriter'))\n",
    "# underwriters = list()\n",
    "# for x in underwriters_select.options:\n",
    "#     underwriters.append(x.text)\n",
    "# underwriters"
   ]
  },
  {
   "cell_type": "code",
   "execution_count": 30,
   "metadata": {},
   "outputs": [],
   "source": [
    "from selenium.webdriver.common.by import By\n",
    "from selenium.webdriver.support.ui import WebDriverWait\n",
    "from selenium.webdriver.support import expected_conditions as EC\n",
    "\n",
    "def page_cycle(driver):\n",
    "    WebDriverWait(driver, 10).until(EC.presence_of_all_elements_located)\n",
    "    driver.find_element_by_css_selector(\"div.table_scroll_wrapper > div > div > div > a:nth-last-child(1)\").click()\n"
   ]
  },
  {
   "cell_type": "code",
   "execution_count": 31,
   "metadata": {},
   "outputs": [],
   "source": [
    "filter_set_up(driver)"
   ]
  },
  {
   "cell_type": "code",
   "execution_count": 32,
   "metadata": {},
   "outputs": [],
   "source": [
    "df = pd.read_html(driver.page_source)[0]"
   ]
  },
  {
   "cell_type": "code",
   "execution_count": 33,
   "metadata": {},
   "outputs": [],
   "source": [
    "df.columns = table_headers"
   ]
  },
  {
   "cell_type": "code",
   "execution_count": 39,
   "metadata": {},
   "outputs": [],
   "source": [
    "page_cycle(driver)"
   ]
  },
  {
   "cell_type": "code",
   "execution_count": 17,
   "metadata": {},
   "outputs": [
    {
     "ename": "AttributeError",
     "evalue": "'NoneType' object has no attribute 'click'",
     "output_type": "error",
     "traceback": [
      "\u001b[1;31m---------------------------------------------------------------------------\u001b[0m",
      "\u001b[1;31mAttributeError\u001b[0m                            Traceback (most recent call last)",
      "\u001b[1;32m<ipython-input-17-def143b35066>\u001b[0m in \u001b[0;36m<module>\u001b[1;34m\u001b[0m\n\u001b[0;32m      1\u001b[0m \u001b[1;32mwhile\u001b[0m\u001b[1;33m(\u001b[0m\u001b[1;32mTrue\u001b[0m\u001b[1;33m)\u001b[0m\u001b[1;33m:\u001b[0m\u001b[1;33m\u001b[0m\u001b[0m\n\u001b[1;32m----> 2\u001b[1;33m     \u001b[0mpage_cycle\u001b[0m\u001b[1;33m(\u001b[0m\u001b[0mdriver\u001b[0m\u001b[1;33m)\u001b[0m\u001b[1;33m\u001b[0m\u001b[0m\n\u001b[0m\u001b[0;32m      3\u001b[0m     \u001b[0mdf_rest\u001b[0m \u001b[1;33m=\u001b[0m \u001b[0mpd\u001b[0m\u001b[1;33m.\u001b[0m\u001b[0mread_html\u001b[0m\u001b[1;33m(\u001b[0m\u001b[0mdriver\u001b[0m\u001b[1;33m.\u001b[0m\u001b[0mpage_source\u001b[0m\u001b[1;33m)\u001b[0m\u001b[1;33m[\u001b[0m\u001b[1;36m0\u001b[0m\u001b[1;33m]\u001b[0m\u001b[1;33m\u001b[0m\u001b[0m\n\u001b[0;32m      4\u001b[0m     \u001b[0mdf_rest\u001b[0m\u001b[1;33m.\u001b[0m\u001b[0mcolumns\u001b[0m \u001b[1;33m=\u001b[0m \u001b[0mtable_headers\u001b[0m\u001b[1;33m\u001b[0m\u001b[0m\n\u001b[0;32m      5\u001b[0m     \u001b[0mdf\u001b[0m \u001b[1;33m=\u001b[0m \u001b[0mpd\u001b[0m\u001b[1;33m.\u001b[0m\u001b[0mconcat\u001b[0m\u001b[1;33m(\u001b[0m\u001b[1;33m[\u001b[0m\u001b[0mdf\u001b[0m\u001b[1;33m,\u001b[0m\u001b[0mdf_rest\u001b[0m\u001b[1;33m]\u001b[0m\u001b[1;33m,\u001b[0m \u001b[0mjoin_axes\u001b[0m\u001b[1;33m=\u001b[0m\u001b[1;33m[\u001b[0m\u001b[0mdf\u001b[0m\u001b[1;33m.\u001b[0m\u001b[0mcolumns\u001b[0m\u001b[1;33m]\u001b[0m\u001b[1;33m,\u001b[0m \u001b[0mignore_index\u001b[0m\u001b[1;33m=\u001b[0m\u001b[1;32mTrue\u001b[0m\u001b[1;33m)\u001b[0m\u001b[1;33m\u001b[0m\u001b[0m\n",
      "\u001b[1;32m<ipython-input-13-26e1940170c4>\u001b[0m in \u001b[0;36mpage_cycle\u001b[1;34m(driver)\u001b[0m\n\u001b[0;32m      5\u001b[0m \u001b[1;32mdef\u001b[0m \u001b[0mpage_cycle\u001b[0m\u001b[1;33m(\u001b[0m\u001b[0mdriver\u001b[0m\u001b[1;33m)\u001b[0m\u001b[1;33m:\u001b[0m\u001b[1;33m\u001b[0m\u001b[0m\n\u001b[0;32m      6\u001b[0m     \u001b[0mWebDriverWait\u001b[0m\u001b[1;33m(\u001b[0m\u001b[0mdriver\u001b[0m\u001b[1;33m,\u001b[0m \u001b[1;36m10\u001b[0m\u001b[1;33m)\u001b[0m\u001b[1;33m.\u001b[0m\u001b[0muntil\u001b[0m\u001b[1;33m(\u001b[0m\u001b[0mEC\u001b[0m\u001b[1;33m.\u001b[0m\u001b[0mpresence_of_all_elements_located\u001b[0m\u001b[1;33m)\u001b[0m\u001b[1;33m\u001b[0m\u001b[0m\n\u001b[1;32m----> 7\u001b[1;33m     \u001b[0mdriver\u001b[0m\u001b[1;33m.\u001b[0m\u001b[0mfind_element_by_css_selector\u001b[0m\u001b[1;33m(\u001b[0m\u001b[1;34m\"div.table_scroll_wrapper > div > div > div > a:nth-last-child(1)\"\u001b[0m\u001b[1;33m)\u001b[0m\u001b[1;33m.\u001b[0m\u001b[0mclick\u001b[0m\u001b[1;33m(\u001b[0m\u001b[1;33m)\u001b[0m\u001b[1;33m\u001b[0m\u001b[0m\n\u001b[0m",
      "\u001b[1;31mAttributeError\u001b[0m: 'NoneType' object has no attribute 'click'"
     ]
    }
   ],
   "source": [
    "df_rest = pd.read_html(driver.page_source)[0]\n",
    "df_rest.columns = table_headers\n",
    "df = pd.concat([df,df_rest], join_axes=[df.columns], ignore_index=True)"
   ]
  },
  {
   "cell_type": "code",
   "execution_count": null,
   "metadata": {},
   "outputs": [],
   "source": [
    "df"
   ]
  },
  {
   "cell_type": "code",
   "execution_count": null,
   "metadata": {},
   "outputs": [],
   "source": [
    "df.info()"
   ]
  },
  {
   "cell_type": "code",
   "execution_count": null,
   "metadata": {},
   "outputs": [],
   "source": [
    "print(df.Status.unique())\n",
    "approved_statuses = ['Approved', 'Contracts Ba...', 'Contract Sent', 'Soft Approval', 'Ready to Fund']\n",
    "declined_statuses = ['Negative Bal...', 'Declined', 'Bad Credit', 'Too Small', 'No Room', 'Previous Def...','Lost Deal', 'Merchant Dec...', 'Declined Pre...','Too Few Depo...', 'SIC Code']\n",
    "funded_statuses = ['Funded']\n",
    "submission_statuses = ['New', 'Need Info / ...']"
   ]
  },
  {
   "cell_type": "code",
   "execution_count": null,
   "metadata": {},
   "outputs": [],
   "source": [
    "def status_groups(g):\n",
    "    if g in approved_statuses:\n",
    "        return \"approved\"\n",
    "    elif g in declined_statuses:\n",
    "        return \"declined\"\n",
    "    elif g in funded_statuses:\n",
    "        return \"funded\"\n",
    "    else:\n",
    "        return \"submission\"\n",
    "    \n",
    "df['group_status'] = df['Status'].apply(status_groups)\n",
    "df.columns = df.columns.str.replace(' ','_')\n",
    "print(df.columns)\n",
    "df.Funded_Amount = df.Funded_Amount.replace('[\\$,]', '', regex=True).astype(float)"
   ]
  },
  {
   "cell_type": "code",
   "execution_count": null,
   "metadata": {},
   "outputs": [],
   "source": [
    "total_in_submissions = len(df.loc[df.group_status=='submission'])\n",
    "total_declined = len(df.loc[df.group_status=='declined'])\n",
    "total_approved = len(df.loc[df.group_status=='approved'])\n",
    "total_funded_today = len(df.loc[df.group_status=='funded'])\n",
    "\n",
    "submission_metric = total_in_submissions / len(df)\n",
    "declined_metric = total_declined / len(df)\n",
    "approved_metric = total_approved / len(df)\n",
    "funded_metric = total_funded_today / len(df)\n",
    "\n",
    "print(total_in_submissions, '\\n',total_approved,'\\n',total_declined,'\\n',total_funded_today,'\\n')\n",
    "print(submission_metric, '\\n',approved_metric,'\\n',declined_metric,'\\n',funded_metric,'\\n')\n",
    "\n",
    "# df.loc[(df.Underwriter=='Dave sneiderman') & (df.group_status=='approved'), 'Iso'].value_counts()\n",
    "# df.loc[(df.Underwriter=='Dave sneiderman') & (df.group_status=='declined'), 'Iso'].value_counts()\n",
    "# df.loc[(df.Underwriter=='Dave sneiderman') & (df.group_status=='funded')]\n",
    "# df.loc[(df.Underwriter=='Dave sneiderman'), 'Iso'].value_counts()\n",
    "# iso_counts = df.groupby(['Underwriter', 'Iso', 'group_status'])['Underwriter', 'Iso', 'group_status','Funded_Amount']\n",
    "# iso_counts['total'] = iso_counts.approved + iso_counts.declined + iso_counts.funded + iso_counts.submission\n",
    "# iso_counts['%approved'] = iso_counts.approved / iso_counts.total\n",
    "# iso_counts['%declined'] = iso_counts.declined / iso_counts.total\n",
    "# iso_counts['%funded'] = iso_counts.funded / iso_counts.total\n",
    "# iso_counts['%submission'] = iso_counts.submission / iso_counts.total"
   ]
  },
  {
   "cell_type": "code",
   "execution_count": null,
   "metadata": {},
   "outputs": [],
   "source": [
    "# Sum of all monies ($USD) approved yesterday\n",
    "print(sum(df.loc[df['group_status']=='approved']['Funded_Amount']))\n",
    "    \n",
    "print('-----------------------------------------------')    \n",
    "# Sum of all monies ($USD) same-day funded yesterday    \n",
    "print(sum(df.loc[df['group_status']=='funded']['Funded_Amount']))\n",
    "      "
   ]
  },
  {
   "cell_type": "code",
   "execution_count": null,
   "metadata": {},
   "outputs": [],
   "source": [
    "df.Iso.unique()"
   ]
  },
  {
   "cell_type": "code",
   "execution_count": null,
   "metadata": {},
   "outputs": [],
   "source": [
    "df.groupby(['Underwriter','Iso'])['Funded_Amount']"
   ]
  },
  {
   "cell_type": "code",
   "execution_count": null,
   "metadata": {},
   "outputs": [],
   "source": [
    "for iso in df.Iso.unique():\n",
    "    print(iso,\n",
    "          sum(df.loc[(df['Iso']==iso) & (df['group_status']=='submission')].count()),\n",
    "          sum(df.loc[(df['Iso']==iso) & (df['group_status']=='declined')].count()),\n",
    "          sum(df.loc[(df['Iso']==iso) & (df['group_status']=='approved')].count()),\n",
    "          sum(df.loc[(df['Iso']==iso) & (df['group_status']=='funded')].count()),\n",
    "          sum(df.loc[(df['Iso']==iso) & df['group_status'].isin(['approved','funded'])]['Funded_Amount']))"
   ]
  },
  {
   "cell_type": "code",
   "execution_count": null,
   "metadata": {},
   "outputs": [],
   "source": [
    "# # Database stuff\n",
    "# import sqlalchemy as db\n",
    "# mysql_password = ''\n",
    "# with open('mysqlpw.txt') as file:\n",
    "#     mysql_password = file.read()\n",
    "# engine = db.create_engine('mysql://ryan:'+ mysql_password +'@localhost:3306/daily_reports')\n"
   ]
  },
  {
   "cell_type": "code",
   "execution_count": null,
   "metadata": {},
   "outputs": [],
   "source": [
    "# # Excel stuff\n",
    "# excel_table_names = dict()\n",
    "# for underwriter in df['Underwriter'].unique():\n",
    "#     excel_table_names[str(underwriter)] = str(underwriter) + ' Report '+ today.strftime('%m.%d.%Y') + '.xlsx'\n",
    "# print(excel_table_names)\n",
    "\n",
    "\n"
   ]
  },
  {
   "cell_type": "code",
   "execution_count": null,
   "metadata": {},
   "outputs": [],
   "source": []
  },
  {
   "cell_type": "code",
   "execution_count": null,
   "metadata": {},
   "outputs": [],
   "source": [
    "# df.to_sql(\n",
    "#     name='funding_solutions',\n",
    "#     con=engine,\n",
    "#     index=False,\n",
    "#     if_exists='append'\n",
    "# )"
   ]
  },
  {
   "cell_type": "code",
   "execution_count": null,
   "metadata": {},
   "outputs": [],
   "source": [
    "with open('rows.csv','w') as file:\n",
    "    file.write(str(df))"
   ]
  },
  {
   "cell_type": "code",
   "execution_count": null,
   "metadata": {},
   "outputs": [],
   "source": [
    "# query = r\"C:\\Users\\User\\Downloads\\underwriting-20190703T205345Z-001\\underwriting\\NEW_DEALS_YESTERDAY.sql\"\n",
    "# with open(query) as file:\n",
    "#     pd.read_sql_query(file.read(), engine)\n"
   ]
  },
  {
   "cell_type": "code",
   "execution_count": null,
   "metadata": {},
   "outputs": [],
   "source": []
  }
 ],
 "metadata": {
  "kernelspec": {
   "display_name": "Python 3",
   "language": "python",
   "name": "python3"
  },
  "language_info": {
   "codemirror_mode": {
    "name": "ipython",
    "version": 3
   },
   "file_extension": ".py",
   "mimetype": "text/x-python",
   "name": "python",
   "nbconvert_exporter": "python",
   "pygments_lexer": "ipython3",
   "version": "3.6.4"
  }
 },
 "nbformat": 4,
 "nbformat_minor": 2
}
