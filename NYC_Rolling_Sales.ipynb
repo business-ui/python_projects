{
  "nbformat": 4,
  "nbformat_minor": 0,
  "metadata": {
    "colab": {
      "name": "NYC-Rolling-Sales.ipynb",
      "provenance": [],
      "collapsed_sections": [],
      "toc_visible": true,
      "authorship_tag": "ABX9TyNcgd0pDDOr7vEQ4Gm6Ah7i",
      "include_colab_link": true
    },
    "kernelspec": {
      "name": "python3",
      "display_name": "Python 3"
    }
  },
  "cells": [
    {
      "cell_type": "markdown",
      "metadata": {
        "id": "view-in-github",
        "colab_type": "text"
      },
      "source": [
        "<a href=\"https://colab.research.google.com/github/business-ui/python_projects/blob/master/NYC_Rolling_Sales.ipynb\" target=\"_parent\"><img src=\"https://colab.research.google.com/assets/colab-badge.svg\" alt=\"Open In Colab\"/></a>"
      ]
    },
    {
      "cell_type": "code",
      "metadata": {
        "id": "NPxUVGDMvY1o",
        "colab_type": "code",
        "colab": {}
      },
      "source": [
        "%tensorflow_version 2.x"
      ],
      "execution_count": 1,
      "outputs": []
    },
    {
      "cell_type": "code",
      "metadata": {
        "id": "BzMb1x0EvjSk",
        "colab_type": "code",
        "colab": {
          "base_uri": "https://localhost:8080/",
          "height": 34
        },
        "outputId": "8550a51e-55c5-431e-8d86-0dd2f8fe2360"
      },
      "source": [
        "import tensorflow as tf  # now import the tensorflow module\n",
        "print(tf.version)  # make sure the version is 2.x"
      ],
      "execution_count": 2,
      "outputs": [
        {
          "output_type": "stream",
          "text": [
            "<module 'tensorflow._api.v2.version' from '/usr/local/lib/python3.6/dist-packages/tensorflow/_api/v2/version/__init__.py'>\n"
          ],
          "name": "stdout"
        }
      ]
    },
    {
      "cell_type": "code",
      "metadata": {
        "id": "fqqIZlZwwIwK",
        "colab_type": "code",
        "colab": {
          "base_uri": "https://localhost:8080/",
          "height": 71
        },
        "outputId": "ea84fde6-3c70-4508-8dd5-5910258d7ce6"
      },
      "source": [
        "import pandas as pd\n",
        "import seaborn as sns\n",
        "import matplotlib.pyplot as plt\n",
        "import datetime\n",
        "import numpy as np\n",
        "from scipy import stats"
      ],
      "execution_count": 3,
      "outputs": [
        {
          "output_type": "stream",
          "text": [
            "/usr/local/lib/python3.6/dist-packages/statsmodels/tools/_testing.py:19: FutureWarning: pandas.util.testing is deprecated. Use the functions in the public API at pandas.testing instead.\n",
            "  import pandas.util.testing as tm\n"
          ],
          "name": "stderr"
        }
      ]
    },
    {
      "cell_type": "code",
      "metadata": {
        "id": "WZlCUZhz2uSM",
        "colab_type": "code",
        "colab": {}
      },
      "source": [
        "from sklearn.model_selection import train_test_split, cross_val_score"
      ],
      "execution_count": 4,
      "outputs": []
    },
    {
      "cell_type": "code",
      "metadata": {
        "id": "gCV73taVYpke",
        "colab_type": "code",
        "colab": {}
      },
      "source": [
        "from sklearn.metrics import mean_squared_error, r2_score"
      ],
      "execution_count": 5,
      "outputs": []
    },
    {
      "cell_type": "code",
      "metadata": {
        "id": "arA-fnlvvspV",
        "colab_type": "code",
        "colab": {}
      },
      "source": [
        "df = pd.read_csv(\"/content/nyc-rolling-sales.csv\", parse_dates=True)"
      ],
      "execution_count": 6,
      "outputs": []
    },
    {
      "cell_type": "code",
      "metadata": {
        "id": "5GBwCpgwwTGl",
        "colab_type": "code",
        "colab": {
          "base_uri": "https://localhost:8080/",
          "height": 547
        },
        "outputId": "e9298a16-e8b9-49dc-b305-dcce750cb310"
      },
      "source": [
        "df.head()"
      ],
      "execution_count": 7,
      "outputs": [
        {
          "output_type": "execute_result",
          "data": {
            "text/html": [
              "<div>\n",
              "<style scoped>\n",
              "    .dataframe tbody tr th:only-of-type {\n",
              "        vertical-align: middle;\n",
              "    }\n",
              "\n",
              "    .dataframe tbody tr th {\n",
              "        vertical-align: top;\n",
              "    }\n",
              "\n",
              "    .dataframe thead th {\n",
              "        text-align: right;\n",
              "    }\n",
              "</style>\n",
              "<table border=\"1\" class=\"dataframe\">\n",
              "  <thead>\n",
              "    <tr style=\"text-align: right;\">\n",
              "      <th></th>\n",
              "      <th>Unnamed: 0</th>\n",
              "      <th>BOROUGH</th>\n",
              "      <th>NEIGHBORHOOD</th>\n",
              "      <th>BUILDING CLASS CATEGORY</th>\n",
              "      <th>TAX CLASS AT PRESENT</th>\n",
              "      <th>BLOCK</th>\n",
              "      <th>LOT</th>\n",
              "      <th>EASE-MENT</th>\n",
              "      <th>BUILDING CLASS AT PRESENT</th>\n",
              "      <th>ADDRESS</th>\n",
              "      <th>APARTMENT NUMBER</th>\n",
              "      <th>ZIP CODE</th>\n",
              "      <th>RESIDENTIAL UNITS</th>\n",
              "      <th>COMMERCIAL UNITS</th>\n",
              "      <th>TOTAL UNITS</th>\n",
              "      <th>LAND SQUARE FEET</th>\n",
              "      <th>GROSS SQUARE FEET</th>\n",
              "      <th>YEAR BUILT</th>\n",
              "      <th>TAX CLASS AT TIME OF SALE</th>\n",
              "      <th>BUILDING CLASS AT TIME OF SALE</th>\n",
              "      <th>SALE PRICE</th>\n",
              "      <th>SALE DATE</th>\n",
              "    </tr>\n",
              "  </thead>\n",
              "  <tbody>\n",
              "    <tr>\n",
              "      <th>0</th>\n",
              "      <td>4</td>\n",
              "      <td>1</td>\n",
              "      <td>ALPHABET CITY</td>\n",
              "      <td>07 RENTALS - WALKUP APARTMENTS</td>\n",
              "      <td>2A</td>\n",
              "      <td>392</td>\n",
              "      <td>6</td>\n",
              "      <td></td>\n",
              "      <td>C2</td>\n",
              "      <td>153 AVENUE B</td>\n",
              "      <td></td>\n",
              "      <td>10009</td>\n",
              "      <td>5</td>\n",
              "      <td>0</td>\n",
              "      <td>5</td>\n",
              "      <td>1633</td>\n",
              "      <td>6440</td>\n",
              "      <td>1900</td>\n",
              "      <td>2</td>\n",
              "      <td>C2</td>\n",
              "      <td>6625000</td>\n",
              "      <td>2017-07-19 00:00:00</td>\n",
              "    </tr>\n",
              "    <tr>\n",
              "      <th>1</th>\n",
              "      <td>5</td>\n",
              "      <td>1</td>\n",
              "      <td>ALPHABET CITY</td>\n",
              "      <td>07 RENTALS - WALKUP APARTMENTS</td>\n",
              "      <td>2</td>\n",
              "      <td>399</td>\n",
              "      <td>26</td>\n",
              "      <td></td>\n",
              "      <td>C7</td>\n",
              "      <td>234 EAST 4TH   STREET</td>\n",
              "      <td></td>\n",
              "      <td>10009</td>\n",
              "      <td>28</td>\n",
              "      <td>3</td>\n",
              "      <td>31</td>\n",
              "      <td>4616</td>\n",
              "      <td>18690</td>\n",
              "      <td>1900</td>\n",
              "      <td>2</td>\n",
              "      <td>C7</td>\n",
              "      <td>-</td>\n",
              "      <td>2016-12-14 00:00:00</td>\n",
              "    </tr>\n",
              "    <tr>\n",
              "      <th>2</th>\n",
              "      <td>6</td>\n",
              "      <td>1</td>\n",
              "      <td>ALPHABET CITY</td>\n",
              "      <td>07 RENTALS - WALKUP APARTMENTS</td>\n",
              "      <td>2</td>\n",
              "      <td>399</td>\n",
              "      <td>39</td>\n",
              "      <td></td>\n",
              "      <td>C7</td>\n",
              "      <td>197 EAST 3RD   STREET</td>\n",
              "      <td></td>\n",
              "      <td>10009</td>\n",
              "      <td>16</td>\n",
              "      <td>1</td>\n",
              "      <td>17</td>\n",
              "      <td>2212</td>\n",
              "      <td>7803</td>\n",
              "      <td>1900</td>\n",
              "      <td>2</td>\n",
              "      <td>C7</td>\n",
              "      <td>-</td>\n",
              "      <td>2016-12-09 00:00:00</td>\n",
              "    </tr>\n",
              "    <tr>\n",
              "      <th>3</th>\n",
              "      <td>7</td>\n",
              "      <td>1</td>\n",
              "      <td>ALPHABET CITY</td>\n",
              "      <td>07 RENTALS - WALKUP APARTMENTS</td>\n",
              "      <td>2B</td>\n",
              "      <td>402</td>\n",
              "      <td>21</td>\n",
              "      <td></td>\n",
              "      <td>C4</td>\n",
              "      <td>154 EAST 7TH STREET</td>\n",
              "      <td></td>\n",
              "      <td>10009</td>\n",
              "      <td>10</td>\n",
              "      <td>0</td>\n",
              "      <td>10</td>\n",
              "      <td>2272</td>\n",
              "      <td>6794</td>\n",
              "      <td>1913</td>\n",
              "      <td>2</td>\n",
              "      <td>C4</td>\n",
              "      <td>3936272</td>\n",
              "      <td>2016-09-23 00:00:00</td>\n",
              "    </tr>\n",
              "    <tr>\n",
              "      <th>4</th>\n",
              "      <td>8</td>\n",
              "      <td>1</td>\n",
              "      <td>ALPHABET CITY</td>\n",
              "      <td>07 RENTALS - WALKUP APARTMENTS</td>\n",
              "      <td>2A</td>\n",
              "      <td>404</td>\n",
              "      <td>55</td>\n",
              "      <td></td>\n",
              "      <td>C2</td>\n",
              "      <td>301 EAST 10TH   STREET</td>\n",
              "      <td></td>\n",
              "      <td>10009</td>\n",
              "      <td>6</td>\n",
              "      <td>0</td>\n",
              "      <td>6</td>\n",
              "      <td>2369</td>\n",
              "      <td>4615</td>\n",
              "      <td>1900</td>\n",
              "      <td>2</td>\n",
              "      <td>C2</td>\n",
              "      <td>8000000</td>\n",
              "      <td>2016-11-17 00:00:00</td>\n",
              "    </tr>\n",
              "  </tbody>\n",
              "</table>\n",
              "</div>"
            ],
            "text/plain": [
              "   Unnamed: 0  BOROUGH  ... SALE PRICE            SALE DATE\n",
              "0           4        1  ...    6625000  2017-07-19 00:00:00\n",
              "1           5        1  ...        -    2016-12-14 00:00:00\n",
              "2           6        1  ...        -    2016-12-09 00:00:00\n",
              "3           7        1  ...    3936272  2016-09-23 00:00:00\n",
              "4           8        1  ...    8000000  2016-11-17 00:00:00\n",
              "\n",
              "[5 rows x 22 columns]"
            ]
          },
          "metadata": {
            "tags": []
          },
          "execution_count": 7
        }
      ]
    },
    {
      "cell_type": "code",
      "metadata": {
        "id": "s5B3XEGkwUIv",
        "colab_type": "code",
        "colab": {
          "base_uri": "https://localhost:8080/",
          "height": 153
        },
        "outputId": "79870c6b-85f8-4de2-86f2-8f73a85a15fd"
      },
      "source": [
        "df.columns"
      ],
      "execution_count": 8,
      "outputs": [
        {
          "output_type": "execute_result",
          "data": {
            "text/plain": [
              "Index(['Unnamed: 0', 'BOROUGH', 'NEIGHBORHOOD', 'BUILDING CLASS CATEGORY',\n",
              "       'TAX CLASS AT PRESENT', 'BLOCK', 'LOT', 'EASE-MENT',\n",
              "       'BUILDING CLASS AT PRESENT', 'ADDRESS', 'APARTMENT NUMBER', 'ZIP CODE',\n",
              "       'RESIDENTIAL UNITS', 'COMMERCIAL UNITS', 'TOTAL UNITS',\n",
              "       'LAND SQUARE FEET', 'GROSS SQUARE FEET', 'YEAR BUILT',\n",
              "       'TAX CLASS AT TIME OF SALE', 'BUILDING CLASS AT TIME OF SALE',\n",
              "       'SALE PRICE', 'SALE DATE'],\n",
              "      dtype='object')"
            ]
          },
          "metadata": {
            "tags": []
          },
          "execution_count": 8
        }
      ]
    },
    {
      "cell_type": "code",
      "metadata": {
        "id": "7WVcLaNuwXZE",
        "colab_type": "code",
        "colab": {}
      },
      "source": [
        "del df['Unnamed: 0']\n",
        "del df['APARTMENT NUMBER']"
      ],
      "execution_count": 9,
      "outputs": []
    },
    {
      "cell_type": "code",
      "metadata": {
        "id": "JZQuz4fbyI_h",
        "colab_type": "code",
        "colab": {}
      },
      "source": [
        "df['SALE DATE'] = pd.to_datetime(df['SALE DATE'], infer_datetime_format=True)\n",
        "df['TAX CLASS AT TIME OF SALE'] = df['TAX CLASS AT TIME OF SALE'].astype('category')\n",
        "df['TAX CLASS AT PRESENT'] = df['TAX CLASS AT PRESENT'].astype('category')\n",
        "df['LAND SQUARE FEET'] = pd.to_numeric(df['LAND SQUARE FEET'], errors='coerce')\n",
        "df['GROSS SQUARE FEET']= pd.to_numeric(df['GROSS SQUARE FEET'], errors='coerce')\n",
        "df['SALE PRICE'] = pd.to_numeric(df['SALE PRICE'], errors='coerce')\n",
        "df['BOROUGH'] = df['BOROUGH'].astype('category')"
      ],
      "execution_count": 10,
      "outputs": []
    },
    {
      "cell_type": "code",
      "metadata": {
        "id": "ihc-gv7pwaF2",
        "colab_type": "code",
        "colab": {}
      },
      "source": [
        "df.columns = df.columns.str.replace(\" \",\"_\").str.lower()"
      ],
      "execution_count": 11,
      "outputs": []
    },
    {
      "cell_type": "code",
      "metadata": {
        "id": "LbnFC5vGxqfX",
        "colab_type": "code",
        "colab": {
          "base_uri": "https://localhost:8080/",
          "height": 374
        },
        "outputId": "0c59aff7-7399-4684-8bc6-e97f748d8a77"
      },
      "source": [
        "df.dtypes"
      ],
      "execution_count": 12,
      "outputs": [
        {
          "output_type": "execute_result",
          "data": {
            "text/plain": [
              "borough                                 category\n",
              "neighborhood                              object\n",
              "building_class_category                   object\n",
              "tax_class_at_present                    category\n",
              "block                                      int64\n",
              "lot                                        int64\n",
              "ease-ment                                 object\n",
              "building_class_at_present                 object\n",
              "address                                   object\n",
              "zip_code                                   int64\n",
              "residential_units                          int64\n",
              "commercial_units                           int64\n",
              "total_units                                int64\n",
              "land_square_feet                         float64\n",
              "gross_square_feet                        float64\n",
              "year_built                                 int64\n",
              "tax_class_at_time_of_sale               category\n",
              "building_class_at_time_of_sale            object\n",
              "sale_price                               float64\n",
              "sale_date                         datetime64[ns]\n",
              "dtype: object"
            ]
          },
          "metadata": {
            "tags": []
          },
          "execution_count": 12
        }
      ]
    },
    {
      "cell_type": "code",
      "metadata": {
        "id": "ZP-jHkqYw2tK",
        "colab_type": "code",
        "colab": {}
      },
      "source": [
        "miss=df.isnull().sum()/len(df)\n",
        "miss=miss[miss>0]\n",
        "miss.sort_values(inplace=True)\n",
        "miss.columns=[\"name\",\"count\"]"
      ],
      "execution_count": 13,
      "outputs": []
    },
    {
      "cell_type": "code",
      "metadata": {
        "id": "Cu_a8S1MxTiF",
        "colab_type": "code",
        "colab": {
          "base_uri": "https://localhost:8080/",
          "height": 375
        },
        "outputId": "75227655-49c7-48b6-de05-8c23c27805c7"
      },
      "source": [
        "sns.set(style='whitegrid',color_codes=True)\n",
        "sns.barplot(x=miss.index, y=miss.values)\n",
        "plt.xticks(rotation=90)\n",
        "sns"
      ],
      "execution_count": 14,
      "outputs": [
        {
          "output_type": "execute_result",
          "data": {
            "text/plain": [
              "<module 'seaborn' from '/usr/local/lib/python3.6/dist-packages/seaborn/__init__.py'>"
            ]
          },
          "metadata": {
            "tags": []
          },
          "execution_count": 14
        },
        {
          "output_type": "display_data",
          "data": {
            "image/png": "[encoded data removed]",
            "text/plain": [
              "<Figure size 432x288 with 1 Axes>"
            ]
          },
          "metadata": {
            "tags": []
          }
        }
      ]
    },
    {
      "cell_type": "code",
      "metadata": {
        "id": "9m9mOaQVx8yL",
        "colab_type": "code",
        "colab": {}
      },
      "source": [
        "# let's fill these missing values up with mean values.\n",
        "df['land_square_feet']=df['land_square_feet'].fillna(df['land_square_feet'].mean())\n",
        "df['gross_square_feet']=df['gross_square_feet'].fillna(df['gross_square_feet'].mean())"
      ],
      "execution_count": 15,
      "outputs": []
    },
    {
      "cell_type": "code",
      "metadata": {
        "id": "osuqghBp4nol",
        "colab_type": "code",
        "colab": {}
      },
      "source": [
        "# I want to add the weekday and month features to the dataset. January sales can differ from July sales.\n",
        "df['weekday'] = df['sale_date'].apply(lambda x: datetime.datetime.weekday(x))\n",
        "df['sale_day'] = pd.DatetimeIndex(df['sale_date']).day\n",
        "df['sale_month'] = pd.DatetimeIndex(df['sale_date']).month\n",
        "df['sale_year'] = pd.DatetimeIndex(df['sale_date']).year\n",
        "del df['sale_date']"
      ],
      "execution_count": 16,
      "outputs": []
    },
    {
      "cell_type": "code",
      "metadata": {
        "id": "gqYUtgEE24Nr",
        "colab_type": "code",
        "colab": {
          "base_uri": "https://localhost:8080/",
          "height": 379
        },
        "outputId": "78946b65-6b2f-47cd-ca7b-9c860bead44e"
      },
      "source": [
        "sns.heatmap(df.corr(),annot=True,cmap=\"Greens_r\")"
      ],
      "execution_count": 17,
      "outputs": [
        {
          "output_type": "execute_result",
          "data": {
            "text/plain": [
              "<matplotlib.axes._subplots.AxesSubplot at 0x7fb4fc6e1dd8>"
            ]
          },
          "metadata": {
            "tags": []
          },
          "execution_count": 17
        },
        {
          "output_type": "display_data",
          "data": {
            "image/png": "[encoded data removed]",
            "text/plain": [
              "<Figure size 432x288 with 2 Axes>"
            ]
          },
          "metadata": {
            "tags": []
          }
        }
      ]
    },
    {
      "cell_type": "code",
      "metadata": {
        "id": "_FSwiIhw3QAi",
        "colab_type": "code",
        "colab": {
          "base_uri": "https://localhost:8080/",
          "height": 272
        },
        "outputId": "e798d3e8-2331-4aa8-f6b0-1721c6e9bf54"
      },
      "source": [
        "# For a numeric representation of correlation with sale_price\n",
        "df.corr()['sale_price'].sort_values(ascending=False)"
      ],
      "execution_count": 18,
      "outputs": [
        {
          "output_type": "execute_result",
          "data": {
            "text/plain": [
              "sale_price           1.000000\n",
              "gross_square_feet    0.444508\n",
              "total_units          0.125101\n",
              "residential_units    0.119698\n",
              "land_square_feet     0.059079\n",
              "commercial_units     0.046006\n",
              "lot                  0.012324\n",
              "weekday              0.004376\n",
              "sale_month           0.003461\n",
              "sale_year           -0.002167\n",
              "year_built          -0.003539\n",
              "sale_day            -0.005103\n",
              "zip_code            -0.034170\n",
              "block               -0.061139\n",
              "Name: sale_price, dtype: float64"
            ]
          },
          "metadata": {
            "tags": []
          },
          "execution_count": 18
        }
      ]
    },
    {
      "cell_type": "code",
      "metadata": {
        "id": "y1QkkK6s4d1Y",
        "colab_type": "code",
        "colab": {
          "base_uri": "https://localhost:8080/",
          "height": 479
        },
        "outputId": "0ee477c6-0e55-49f8-b9e1-cb9813d081ca"
      },
      "source": [
        "df.head()"
      ],
      "execution_count": 19,
      "outputs": [
        {
          "output_type": "execute_result",
          "data": {
            "text/html": [
              "<div>\n",
              "<style scoped>\n",
              "    .dataframe tbody tr th:only-of-type {\n",
              "        vertical-align: middle;\n",
              "    }\n",
              "\n",
              "    .dataframe tbody tr th {\n",
              "        vertical-align: top;\n",
              "    }\n",
              "\n",
              "    .dataframe thead th {\n",
              "        text-align: right;\n",
              "    }\n",
              "</style>\n",
              "<table border=\"1\" class=\"dataframe\">\n",
              "  <thead>\n",
              "    <tr style=\"text-align: right;\">\n",
              "      <th></th>\n",
              "      <th>borough</th>\n",
              "      <th>neighborhood</th>\n",
              "      <th>building_class_category</th>\n",
              "      <th>tax_class_at_present</th>\n",
              "      <th>block</th>\n",
              "      <th>lot</th>\n",
              "      <th>ease-ment</th>\n",
              "      <th>building_class_at_present</th>\n",
              "      <th>address</th>\n",
              "      <th>zip_code</th>\n",
              "      <th>residential_units</th>\n",
              "      <th>commercial_units</th>\n",
              "      <th>total_units</th>\n",
              "      <th>land_square_feet</th>\n",
              "      <th>gross_square_feet</th>\n",
              "      <th>year_built</th>\n",
              "      <th>tax_class_at_time_of_sale</th>\n",
              "      <th>building_class_at_time_of_sale</th>\n",
              "      <th>sale_price</th>\n",
              "      <th>weekday</th>\n",
              "      <th>sale_day</th>\n",
              "      <th>sale_month</th>\n",
              "      <th>sale_year</th>\n",
              "    </tr>\n",
              "  </thead>\n",
              "  <tbody>\n",
              "    <tr>\n",
              "      <th>0</th>\n",
              "      <td>1</td>\n",
              "      <td>ALPHABET CITY</td>\n",
              "      <td>07 RENTALS - WALKUP APARTMENTS</td>\n",
              "      <td>2A</td>\n",
              "      <td>392</td>\n",
              "      <td>6</td>\n",
              "      <td></td>\n",
              "      <td>C2</td>\n",
              "      <td>153 AVENUE B</td>\n",
              "      <td>10009</td>\n",
              "      <td>5</td>\n",
              "      <td>0</td>\n",
              "      <td>5</td>\n",
              "      <td>1633.0</td>\n",
              "      <td>6440.0</td>\n",
              "      <td>1900</td>\n",
              "      <td>2</td>\n",
              "      <td>C2</td>\n",
              "      <td>6625000.0</td>\n",
              "      <td>2</td>\n",
              "      <td>19</td>\n",
              "      <td>7</td>\n",
              "      <td>2017</td>\n",
              "    </tr>\n",
              "    <tr>\n",
              "      <th>1</th>\n",
              "      <td>1</td>\n",
              "      <td>ALPHABET CITY</td>\n",
              "      <td>07 RENTALS - WALKUP APARTMENTS</td>\n",
              "      <td>2</td>\n",
              "      <td>399</td>\n",
              "      <td>26</td>\n",
              "      <td></td>\n",
              "      <td>C7</td>\n",
              "      <td>234 EAST 4TH   STREET</td>\n",
              "      <td>10009</td>\n",
              "      <td>28</td>\n",
              "      <td>3</td>\n",
              "      <td>31</td>\n",
              "      <td>4616.0</td>\n",
              "      <td>18690.0</td>\n",
              "      <td>1900</td>\n",
              "      <td>2</td>\n",
              "      <td>C7</td>\n",
              "      <td>NaN</td>\n",
              "      <td>2</td>\n",
              "      <td>14</td>\n",
              "      <td>12</td>\n",
              "      <td>2016</td>\n",
              "    </tr>\n",
              "    <tr>\n",
              "      <th>2</th>\n",
              "      <td>1</td>\n",
              "      <td>ALPHABET CITY</td>\n",
              "      <td>07 RENTALS - WALKUP APARTMENTS</td>\n",
              "      <td>2</td>\n",
              "      <td>399</td>\n",
              "      <td>39</td>\n",
              "      <td></td>\n",
              "      <td>C7</td>\n",
              "      <td>197 EAST 3RD   STREET</td>\n",
              "      <td>10009</td>\n",
              "      <td>16</td>\n",
              "      <td>1</td>\n",
              "      <td>17</td>\n",
              "      <td>2212.0</td>\n",
              "      <td>7803.0</td>\n",
              "      <td>1900</td>\n",
              "      <td>2</td>\n",
              "      <td>C7</td>\n",
              "      <td>NaN</td>\n",
              "      <td>4</td>\n",
              "      <td>9</td>\n",
              "      <td>12</td>\n",
              "      <td>2016</td>\n",
              "    </tr>\n",
              "    <tr>\n",
              "      <th>3</th>\n",
              "      <td>1</td>\n",
              "      <td>ALPHABET CITY</td>\n",
              "      <td>07 RENTALS - WALKUP APARTMENTS</td>\n",
              "      <td>2B</td>\n",
              "      <td>402</td>\n",
              "      <td>21</td>\n",
              "      <td></td>\n",
              "      <td>C4</td>\n",
              "      <td>154 EAST 7TH STREET</td>\n",
              "      <td>10009</td>\n",
              "      <td>10</td>\n",
              "      <td>0</td>\n",
              "      <td>10</td>\n",
              "      <td>2272.0</td>\n",
              "      <td>6794.0</td>\n",
              "      <td>1913</td>\n",
              "      <td>2</td>\n",
              "      <td>C4</td>\n",
              "      <td>3936272.0</td>\n",
              "      <td>4</td>\n",
              "      <td>23</td>\n",
              "      <td>9</td>\n",
              "      <td>2016</td>\n",
              "    </tr>\n",
              "    <tr>\n",
              "      <th>4</th>\n",
              "      <td>1</td>\n",
              "      <td>ALPHABET CITY</td>\n",
              "      <td>07 RENTALS - WALKUP APARTMENTS</td>\n",
              "      <td>2A</td>\n",
              "      <td>404</td>\n",
              "      <td>55</td>\n",
              "      <td></td>\n",
              "      <td>C2</td>\n",
              "      <td>301 EAST 10TH   STREET</td>\n",
              "      <td>10009</td>\n",
              "      <td>6</td>\n",
              "      <td>0</td>\n",
              "      <td>6</td>\n",
              "      <td>2369.0</td>\n",
              "      <td>4615.0</td>\n",
              "      <td>1900</td>\n",
              "      <td>2</td>\n",
              "      <td>C2</td>\n",
              "      <td>8000000.0</td>\n",
              "      <td>3</td>\n",
              "      <td>17</td>\n",
              "      <td>11</td>\n",
              "      <td>2016</td>\n",
              "    </tr>\n",
              "  </tbody>\n",
              "</table>\n",
              "</div>"
            ],
            "text/plain": [
              "  borough   neighborhood  ... sale_month sale_year\n",
              "0       1  ALPHABET CITY  ...          7      2017\n",
              "1       1  ALPHABET CITY  ...         12      2016\n",
              "2       1  ALPHABET CITY  ...         12      2016\n",
              "3       1  ALPHABET CITY  ...          9      2016\n",
              "4       1  ALPHABET CITY  ...         11      2016\n",
              "\n",
              "[5 rows x 23 columns]"
            ]
          },
          "metadata": {
            "tags": []
          },
          "execution_count": 19
        }
      ]
    },
    {
      "cell_type": "code",
      "metadata": {
        "id": "Skjj992jBkSt",
        "colab_type": "code",
        "colab": {
          "base_uri": "https://localhost:8080/",
          "height": 102
        },
        "outputId": "7f5049a5-e30a-4907-dc89-722367578c60"
      },
      "source": [
        "# separating the tax_class_at_present column into number and letter columns for comparison with tax_class_at_time_of_sale (Boolean)\n",
        "df['tax_class_at_present'], df['tax_class_at_present_letter'] = df['tax_class_at_present'].str[0], df['tax_class_at_present'].str[1]\n",
        "df['tax_class_at_present_letter'].loc[df['tax_class_at_present_letter'].isna()] = 0"
      ],
      "execution_count": 20,
      "outputs": [
        {
          "output_type": "stream",
          "text": [
            "/usr/local/lib/python3.6/dist-packages/pandas/core/indexing.py:671: SettingWithCopyWarning: \n",
            "A value is trying to be set on a copy of a slice from a DataFrame\n",
            "\n",
            "See the caveats in the documentation: https://pandas.pydata.org/pandas-docs/stable/user_guide/indexing.html#returning-a-view-versus-a-copy\n",
            "  self._setitem_with_indexer(indexer, value)\n"
          ],
          "name": "stderr"
        }
      ]
    },
    {
      "cell_type": "code",
      "metadata": {
        "id": "CoXPI8-ICaG3",
        "colab_type": "code",
        "colab": {}
      },
      "source": [
        "# setting blank tax_class_at_present values to the tax_class_at_time_of_sale\n",
        "# same for building_class columns\n",
        "# this makes an assumption, but a reasonable one, that they are the same if the present value is blank\n",
        "df.loc[df['tax_class_at_present']==\" \", 'tax_class_at_present'] = df.loc[df['tax_class_at_present']==\" \", 'tax_class_at_time_of_sale']\n",
        "df.loc[df['building_class_at_present']==\" \", \"building_class_at_present\"] = df.loc[df['building_class_at_present']==\" \", \"building_class_at_time_of_sale\"]"
      ],
      "execution_count": 21,
      "outputs": []
    },
    {
      "cell_type": "code",
      "metadata": {
        "id": "y74hFGGAI30V",
        "colab_type": "code",
        "colab": {
          "base_uri": "https://localhost:8080/",
          "height": 85
        },
        "outputId": "f369aeec-2d17-440d-adbf-be3b3b04b128"
      },
      "source": [
        "for col in df[['tax_class_at_present','tax_class_at_time_of_sale','building_class_at_present','building_class_at_time_of_sale']]:\n",
        "    print(col)\n",
        "    df[col] = df[col].astype(str).str.strip()"
      ],
      "execution_count": 22,
      "outputs": [
        {
          "output_type": "stream",
          "text": [
            "tax_class_at_present\n",
            "tax_class_at_time_of_sale\n",
            "building_class_at_present\n",
            "building_class_at_time_of_sale\n"
          ],
          "name": "stdout"
        }
      ]
    },
    {
      "cell_type": "code",
      "metadata": {
        "id": "uIlERzXWMD3x",
        "colab_type": "code",
        "colab": {}
      },
      "source": [
        "df.loc[(df['tax_class_at_present']!=df['tax_class_at_time_of_sale']) & (df['tax_class_at_present'].str.lower()==\"nan\"),\n",
        "       'tax_class_at_present'] = \\\n",
        "       df.loc[(df['tax_class_at_present']!=df['tax_class_at_time_of_sale']) & (df['tax_class_at_present'].str.lower()==\"nan\"),\n",
        "       'tax_class_at_time_of_sale']\n",
        "\n",
        "df.loc[(df['building_class_at_present']!=df['building_class_at_time_of_sale']) & (df['building_class_at_present'].str.lower()==\"nan\"),\n",
        "       'building_class_at_present'] = \\\n",
        "       df.loc[(df['building_class_at_present']!=df['building_class_at_time_of_sale']) & (df['building_class_at_present'].str.lower()==\"nan\"),\n",
        "       'building_class_at_time_of_sale']"
      ],
      "execution_count": 23,
      "outputs": []
    },
    {
      "cell_type": "code",
      "metadata": {
        "id": "9Wen_rUPS0Ys",
        "colab_type": "code",
        "colab": {}
      },
      "source": [
        "df['tax_class_stays_same'] = (df['tax_class_at_present']==df['tax_class_at_time_of_sale']).astype(\"int\")\n",
        "df['building_class_stays_same'] = (df['building_class_at_present']==df['building_class_at_time_of_sale']).astype(\"int\")"
      ],
      "execution_count": 24,
      "outputs": []
    },
    {
      "cell_type": "code",
      "metadata": {
        "id": "kF160XwPEJm7",
        "colab_type": "code",
        "colab": {}
      },
      "source": [
        "# have to get close with street addresses\n",
        "# an address searching algorithm would be best to normalize addresses and search for lat/long values\n",
        "df['address'] = df['address'].str.split(\",\",n=1,expand=True)[0].str.split(\" \",n=1,expand=True)[1]"
      ],
      "execution_count": 25,
      "outputs": []
    },
    {
      "cell_type": "code",
      "metadata": {
        "id": "JUFL_Hcy9MOd",
        "colab_type": "code",
        "colab": {
          "base_uri": "https://localhost:8080/",
          "height": 170
        },
        "outputId": "7039d19b-832b-47b7-c488-c5903e9a98a8"
      },
      "source": [
        "df.columns"
      ],
      "execution_count": 26,
      "outputs": [
        {
          "output_type": "execute_result",
          "data": {
            "text/plain": [
              "Index(['borough', 'neighborhood', 'building_class_category',\n",
              "       'tax_class_at_present', 'block', 'lot', 'ease-ment',\n",
              "       'building_class_at_present', 'address', 'zip_code', 'residential_units',\n",
              "       'commercial_units', 'total_units', 'land_square_feet',\n",
              "       'gross_square_feet', 'year_built', 'tax_class_at_time_of_sale',\n",
              "       'building_class_at_time_of_sale', 'sale_price', 'weekday', 'sale_day',\n",
              "       'sale_month', 'sale_year', 'tax_class_at_present_letter',\n",
              "       'tax_class_stays_same', 'building_class_stays_same'],\n",
              "      dtype='object')"
            ]
          },
          "metadata": {
            "tags": []
          },
          "execution_count": 26
        }
      ]
    },
    {
      "cell_type": "code",
      "metadata": {
        "id": "qc9NFF3jniq_",
        "colab_type": "code",
        "colab": {
          "base_uri": "https://localhost:8080/",
          "height": 51
        },
        "outputId": "d89788a6-3231-47c3-c749-126ad68d596b"
      },
      "source": [
        "orig_data_length = len(df)\n",
        "df = df[(df['sale_price'] > 100000) & (df['sale_price'] < 5000000)]\n",
        "# df = df[df['gross_square_feet'] < 10000]\n",
        "# df = df[df['land_square_feet'] < 10000]\n",
        "# df = df[(df['total_units'] > 0) & (df['total_units'] != 2261)]\n",
        "print(\"Percentage of original data left:\",str(round((len(df)/orig_data_length)*100,1))+\"%\")\n",
        "print(\"New Dataset Shape:\",df.shape)"
      ],
      "execution_count": 27,
      "outputs": [
        {
          "output_type": "stream",
          "text": [
            "Percentage of original data left: 64.6%\n",
            "New Dataset Shape: (54657, 26)\n"
          ],
          "name": "stdout"
        }
      ]
    },
    {
      "cell_type": "code",
      "metadata": {
        "id": "qZm6MO_5_Xup",
        "colab_type": "code",
        "colab": {
          "base_uri": "https://localhost:8080/",
          "height": 765
        },
        "outputId": "1035d036-2f84-49c9-ecc8-0f1a27503f4f"
      },
      "source": [
        "for col in df.select_dtypes(include=[np.number]).drop(['year_built','weekday','sale_month','sale_day','sale_year'], axis=1):\n",
        "    outliers = np.where(\n",
        "        np.abs(\n",
        "            stats.zscore(\n",
        "                df[col]\n",
        "            )\n",
        "        ) > 3 )[0]\n",
        "    \n",
        "    log_transformed_outliers = np.where(\n",
        "        np.abs(\n",
        "            stats.zscore(\n",
        "                df[col].apply(\n",
        "                    lambda x: np.log(x) if (x != 0) & (x != np.nan) else 1e-100\n",
        "                )\n",
        "            )\n",
        "        ) > 3 )[0]\n",
        "    \n",
        "    print(df[col].name)\n",
        "    print(\"outliers:\",len(outliers))\n",
        "    print(\"log transformed outliers:\",len(log_transformed_outliers))\n",
        "    print()\n",
        "    if len(log_transformed_outliers) < len(outliers):\n",
        "      df[col] = df[col].apply(lambda x: np.log(x) if (x != 0) & (x != np.nan) else 1e-20)"
      ],
      "execution_count": 28,
      "outputs": [
        {
          "output_type": "stream",
          "text": [
            "block\n",
            "outliers: 651\n",
            "log transformed outliers: 993\n",
            "\n",
            "lot\n",
            "outliers: 581\n",
            "log transformed outliers: 0\n",
            "\n",
            "zip_code\n",
            "outliers: 494\n",
            "log transformed outliers: 494\n",
            "\n",
            "residential_units\n",
            "outliers: 50\n",
            "log transformed outliers: 938\n",
            "\n",
            "commercial_units\n",
            "outliers: 5\n",
            "log transformed outliers: 453\n",
            "\n",
            "total_units\n",
            "outliers: 39\n",
            "log transformed outliers: 931\n",
            "\n",
            "land_square_feet\n",
            "outliers: 27\n",
            "log transformed outliers: 0\n",
            "\n",
            "gross_square_feet\n",
            "outliers: 50\n",
            "log transformed outliers: 0\n",
            "\n",
            "sale_price\n",
            "outliers: 1567\n",
            "log transformed outliers: 0\n",
            "\n",
            "tax_class_stays_same\n",
            "outliers: 13\n",
            "log transformed outliers: 13\n",
            "\n",
            "building_class_stays_same\n",
            "outliers: 114\n",
            "log transformed outliers: 114\n",
            "\n"
          ],
          "name": "stdout"
        }
      ]
    },
    {
      "cell_type": "code",
      "metadata": {
        "id": "qb_nVCkeFb3d",
        "colab_type": "code",
        "colab": {
          "base_uri": "https://localhost:8080/",
          "height": 319
        },
        "outputId": "486b895f-a089-4904-ff97-5d82983cec4b"
      },
      "source": [
        "sales=df['sale_price']\n",
        "print(sales.skew())\n",
        "sns.distplot(sales)"
      ],
      "execution_count": 29,
      "outputs": [
        {
          "output_type": "stream",
          "text": [
            "0.1989281802313763\n"
          ],
          "name": "stdout"
        },
        {
          "output_type": "execute_result",
          "data": {
            "text/plain": [
              "<matplotlib.axes._subplots.AxesSubplot at 0x7fb4f6d72278>"
            ]
          },
          "metadata": {
            "tags": []
          },
          "execution_count": 29
        },
        {
          "output_type": "display_data",
          "data": {
            "image/png": "[encoded data removed]",
            "text/plain": [
              "<Figure size 432x288 with 1 Axes>"
            ]
          },
          "metadata": {
            "tags": []
          }
        }
      ]
    },
    {
      "cell_type": "code",
      "metadata": {
        "id": "_Xhp7B1VlRSl",
        "colab_type": "code",
        "colab": {
          "base_uri": "https://localhost:8080/",
          "height": 476
        },
        "outputId": "469a4133-aa07-4728-fbd4-c84da9588887"
      },
      "source": [
        "df.dtypes"
      ],
      "execution_count": 30,
      "outputs": [
        {
          "output_type": "execute_result",
          "data": {
            "text/plain": [
              "borough                           category\n",
              "neighborhood                        object\n",
              "building_class_category             object\n",
              "tax_class_at_present                object\n",
              "block                                int64\n",
              "lot                                float64\n",
              "ease-ment                           object\n",
              "building_class_at_present           object\n",
              "address                             object\n",
              "zip_code                             int64\n",
              "residential_units                    int64\n",
              "commercial_units                     int64\n",
              "total_units                          int64\n",
              "land_square_feet                   float64\n",
              "gross_square_feet                  float64\n",
              "year_built                           int64\n",
              "tax_class_at_time_of_sale           object\n",
              "building_class_at_time_of_sale      object\n",
              "sale_price                         float64\n",
              "weekday                              int64\n",
              "sale_day                             int64\n",
              "sale_month                           int64\n",
              "sale_year                            int64\n",
              "tax_class_at_present_letter         object\n",
              "tax_class_stays_same                 int64\n",
              "building_class_stays_same            int64\n",
              "dtype: object"
            ]
          },
          "metadata": {
            "tags": []
          },
          "execution_count": 30
        }
      ]
    },
    {
      "cell_type": "code",
      "metadata": {
        "id": "6u6_dXVG7YRA",
        "colab_type": "code",
        "colab": {}
      },
      "source": [
        "CATEGORICAL_COLUMNS = ['borough', \n",
        "                       'weekday', \n",
        "                       'sale_day',\n",
        "                       'sale_month', \n",
        "                       'sale_year', \n",
        "                       'tax_class_at_present_letter',\n",
        "                       'tax_class_stays_same',\n",
        "                       'building_class_stays_same',\n",
        "                       'tax_class_at_time_of_sale',\n",
        "                       'building_class_at_time_of_sale',\n",
        "                       'year_built',\n",
        "                       'neighborhood',\n",
        "                       'building_class_category',\n",
        "                       'tax_class_at_present',\n",
        "                       'block',\n",
        "                       'lot',\n",
        "                       'ease-ment',\n",
        "                       'building_class_at_present', \n",
        "                       'address',\n",
        "                       'zip_code']\n",
        "NUMERIC_COLUMNS = ['residential_units','commercial_units', 'total_units', 'land_square_feet','gross_square_feet']\n",
        "\n",
        "feature_columns = []\n",
        "for feature_name in CATEGORICAL_COLUMNS:\n",
        "  df[feature_name] = df[feature_name].astype('str')\n",
        "  vocabulary = df[feature_name].unique()  # gets a list of all unique values from given feature column\n",
        "  feature_columns.append(tf.feature_column.categorical_column_with_vocabulary_list(feature_name, vocabulary))\n",
        "\n",
        "for feature_name in NUMERIC_COLUMNS:\n",
        "  df[feature_name] = df[feature_name].astype('float64')\n",
        "  feature_columns.append(tf.feature_column.numeric_column(feature_name, dtype=tf.float64))"
      ],
      "execution_count": 31,
      "outputs": []
    },
    {
      "cell_type": "code",
      "metadata": {
        "id": "iHUUizOd3WVK",
        "colab_type": "code",
        "colab": {}
      },
      "source": [
        "dftrain, dfeval, y_train, y_eval = train_test_split(df,df.pop('sale_price'), test_size=0.25, random_state=42)"
      ],
      "execution_count": 32,
      "outputs": []
    },
    {
      "cell_type": "code",
      "metadata": {
        "id": "myOeW-NXCH9-",
        "colab_type": "code",
        "colab": {}
      },
      "source": [
        "def make_input_fn(data_df, label_df, num_epochs=10, shuffle=True, batch_size=32):\n",
        "  def input_function():  # inner function, this will be returned\n",
        "    ds = tf.data.Dataset.from_tensor_slices((dict(data_df), label_df))  # create tf.data.Dataset object with data and its label\n",
        "    if shuffle:\n",
        "      ds = ds.shuffle(1000)  # randomize order of data\n",
        "    ds = ds.batch(batch_size).repeat(num_epochs)  # split dataset into batches of 32 and repeat process for number of epochs\n",
        "    return ds  # return a batch of the dataset\n",
        "  return input_function  # return a function object for use\n",
        "\n",
        "train_input_fn = make_input_fn(dftrain, y_train)  # here we will call the input_function that was returned to us to get a dataset object we can feed to the model\n",
        "eval_input_fn = make_input_fn(dfeval, y_eval, num_epochs=1, shuffle=False)\n"
      ],
      "execution_count": 33,
      "outputs": []
    },
    {
      "cell_type": "code",
      "metadata": {
        "id": "eUQixf5tCxJ0",
        "colab_type": "code",
        "colab": {
          "base_uri": "https://localhost:8080/",
          "height": 190
        },
        "outputId": "82d9d4f5-4c63-4d78-a931-bab6d7178b7c"
      },
      "source": [
        "estimator = tf.estimator.BoostedTreesRegressor(n_batches_per_layer=32,feature_columns=feature_columns,learning_rate=0.05)"
      ],
      "execution_count": 34,
      "outputs": [
        {
          "output_type": "stream",
          "text": [
            "INFO:tensorflow:Using default config.\n",
            "WARNING:tensorflow:Using temporary folder as model directory: /tmp/tmpon8hh6nc\n",
            "INFO:tensorflow:Using config: {'_model_dir': '/tmp/tmpon8hh6nc', '_tf_random_seed': None, '_save_summary_steps': 100, '_save_checkpoints_steps': None, '_save_checkpoints_secs': 600, '_session_config': allow_soft_placement: true\n",
            "graph_options {\n",
            "  rewrite_options {\n",
            "    meta_optimizer_iterations: ONE\n",
            "  }\n",
            "}\n",
            ", '_keep_checkpoint_max': 5, '_keep_checkpoint_every_n_hours': 10000, '_log_step_count_steps': 100, '_train_distribute': None, '_device_fn': None, '_protocol': None, '_eval_distribute': None, '_experimental_distribute': None, '_experimental_max_worker_delay_secs': None, '_session_creation_timeout_secs': 7200, '_service': None, '_cluster_spec': ClusterSpec({}), '_task_type': 'worker', '_task_id': 0, '_global_id_in_cluster': 0, '_master': '', '_evaluation_master': '', '_is_chief': True, '_num_ps_replicas': 0, '_num_worker_replicas': 1}\n"
          ],
          "name": "stdout"
        }
      ]
    },
    {
      "cell_type": "code",
      "metadata": {
        "id": "bpNlA4FWHbBs",
        "colab_type": "code",
        "colab": {
          "base_uri": "https://localhost:8080/",
          "height": 1000
        },
        "outputId": "2ddaca4c-d965-4da2-ffa3-8aa544f81e49"
      },
      "source": [
        "estimator.train(train_input_fn)  # train\n",
        "result = estimator.evaluate(eval_input_fn)  # get model metrics/stats by evaluating testing data"
      ],
      "execution_count": 35,
      "outputs": [
        {
          "output_type": "stream",
          "text": [
            "WARNING:tensorflow:From /usr/local/lib/python3.6/dist-packages/tensorflow/python/training/training_util.py:236: Variable.initialized_value (from tensorflow.python.ops.variables) is deprecated and will be removed in a future version.\n",
            "Instructions for updating:\n",
            "Use Variable.read_value. Variables in 2.X are initialized automatically both in eager and graph (inside tf.defun) contexts.\n",
            "INFO:tensorflow:Calling model_fn.\n",
            "INFO:tensorflow:Done calling model_fn.\n",
            "INFO:tensorflow:Create CheckpointSaverHook.\n",
            "WARNING:tensorflow:Issue encountered when serializing resources.\n",
            "Type is unsupported, or the types of the items don't match field type in CollectionDef. Note this is a warning and probably safe to ignore.\n",
            "'_Resource' object has no attribute 'name'\n",
            "INFO:tensorflow:Graph was finalized.\n",
            "INFO:tensorflow:Running local_init_op.\n",
            "INFO:tensorflow:Done running local_init_op.\n",
            "WARNING:tensorflow:Issue encountered when serializing resources.\n",
            "Type is unsupported, or the types of the items don't match field type in CollectionDef. Note this is a warning and probably safe to ignore.\n",
            "'_Resource' object has no attribute 'name'\n",
            "INFO:tensorflow:Calling checkpoint listeners before saving checkpoint 0...\n",
            "INFO:tensorflow:Saving checkpoints for 0 into /tmp/tmpon8hh6nc/model.ckpt.\n",
            "WARNING:tensorflow:Issue encountered when serializing resources.\n",
            "Type is unsupported, or the types of the items don't match field type in CollectionDef. Note this is a warning and probably safe to ignore.\n",
            "'_Resource' object has no attribute 'name'\n",
            "INFO:tensorflow:Calling checkpoint listeners after saving checkpoint 0...\n",
            "INFO:tensorflow:loss = 179.6145, step = 0\n",
            "WARNING:tensorflow:It seems that global step (tf.train.get_global_step) has not been increased. Current value (could be stable): 0 vs previous value: 0. You could increase the global step by passing tf.train.get_global_step() to Optimizer.apply_gradients or Optimizer.minimize.\n",
            "WARNING:tensorflow:It seems that global step (tf.train.get_global_step) has not been increased. Current value (could be stable): 0 vs previous value: 0. You could increase the global step by passing tf.train.get_global_step() to Optimizer.apply_gradients or Optimizer.minimize.\n",
            "WARNING:tensorflow:It seems that global step (tf.train.get_global_step) has not been increased. Current value (could be stable): 0 vs previous value: 0. You could increase the global step by passing tf.train.get_global_step() to Optimizer.apply_gradients or Optimizer.minimize.\n",
            "WARNING:tensorflow:It seems that global step (tf.train.get_global_step) has not been increased. Current value (could be stable): 0 vs previous value: 0. You could increase the global step by passing tf.train.get_global_step() to Optimizer.apply_gradients or Optimizer.minimize.\n",
            "WARNING:tensorflow:It seems that global step (tf.train.get_global_step) has not been increased. Current value (could be stable): 0 vs previous value: 0. You could increase the global step by passing tf.train.get_global_step() to Optimizer.apply_gradients or Optimizer.minimize.\n",
            "INFO:tensorflow:loss = 145.22125, step = 68 (1.117 sec)\n",
            "INFO:tensorflow:global_step/sec: 62.1079\n",
            "INFO:tensorflow:loss = 111.33713, step = 168 (1.188 sec)\n",
            "INFO:tensorflow:global_step/sec: 89.9044\n",
            "INFO:tensorflow:loss = 78.09626, step = 268 (1.018 sec)\n",
            "INFO:tensorflow:global_step/sec: 112.769\n",
            "INFO:tensorflow:loss = 57.35324, step = 368 (0.977 sec)\n",
            "INFO:tensorflow:global_step/sec: 93.4973\n",
            "INFO:tensorflow:loss = 43.711594, step = 468 (0.980 sec)\n",
            "INFO:tensorflow:global_step/sec: 113.182\n",
            "INFO:tensorflow:loss = 30.383127, step = 568 (0.954 sec)\n",
            "INFO:tensorflow:global_step/sec: 95.8872\n",
            "INFO:tensorflow:loss = 25.559765, step = 668 (0.979 sec)\n",
            "INFO:tensorflow:global_step/sec: 110.629\n",
            "INFO:tensorflow:loss = 15.178855, step = 768 (1.104 sec)\n",
            "INFO:tensorflow:global_step/sec: 92.5545\n",
            "INFO:tensorflow:loss = 11.085406, step = 868 (0.899 sec)\n",
            "INFO:tensorflow:global_step/sec: 109.089\n",
            "INFO:tensorflow:loss = 9.029746, step = 968 (1.046 sec)\n",
            "INFO:tensorflow:global_step/sec: 96.9042\n",
            "INFO:tensorflow:loss = 5.322376, step = 1068 (0.901 sec)\n",
            "INFO:tensorflow:global_step/sec: 107.909\n",
            "INFO:tensorflow:loss = 4.485738, step = 1168 (1.086 sec)\n",
            "INFO:tensorflow:global_step/sec: 94.9674\n",
            "INFO:tensorflow:loss = 3.9237702, step = 1268 (0.902 sec)\n",
            "INFO:tensorflow:global_step/sec: 107.462\n",
            "INFO:tensorflow:loss = 2.6527655, step = 1368 (1.060 sec)\n",
            "INFO:tensorflow:global_step/sec: 96.1594\n",
            "INFO:tensorflow:loss = 1.7316451, step = 1468 (0.895 sec)\n",
            "INFO:tensorflow:global_step/sec: 108.65\n",
            "INFO:tensorflow:loss = 1.492276, step = 1568 (1.064 sec)\n",
            "INFO:tensorflow:global_step/sec: 96.6092\n",
            "INFO:tensorflow:loss = 1.3636467, step = 1668 (0.923 sec)\n",
            "INFO:tensorflow:global_step/sec: 102.304\n",
            "INFO:tensorflow:loss = 0.89295894, step = 1768 (1.048 sec)\n",
            "INFO:tensorflow:global_step/sec: 100.201\n",
            "INFO:tensorflow:loss = 0.80070144, step = 1868 (0.915 sec)\n",
            "INFO:tensorflow:global_step/sec: 104.41\n",
            "INFO:tensorflow:loss = 0.5339644, step = 1968 (1.022 sec)\n",
            "INFO:tensorflow:global_step/sec: 101.069\n",
            "INFO:tensorflow:loss = 0.57859445, step = 2068 (0.929 sec)\n",
            "INFO:tensorflow:global_step/sec: 103.214\n",
            "INFO:tensorflow:loss = 0.45356095, step = 2168 (1.031 sec)\n",
            "INFO:tensorflow:global_step/sec: 98.7679\n",
            "INFO:tensorflow:loss = 0.6212243, step = 2268 (0.949 sec)\n",
            "INFO:tensorflow:global_step/sec: 102.955\n",
            "INFO:tensorflow:loss = 0.34911668, step = 2368 (1.041 sec)\n",
            "INFO:tensorflow:global_step/sec: 98.7992\n",
            "INFO:tensorflow:loss = 0.27889228, step = 2468 (0.989 sec)\n",
            "INFO:tensorflow:global_step/sec: 93.1949\n",
            "INFO:tensorflow:loss = 0.24695255, step = 2568 (1.007 sec)\n",
            "INFO:tensorflow:global_step/sec: 108.36\n",
            "INFO:tensorflow:loss = 0.24649, step = 2668 (0.987 sec)\n",
            "INFO:tensorflow:global_step/sec: 93.6398\n",
            "INFO:tensorflow:loss = 0.3142346, step = 2768 (0.985 sec)\n",
            "INFO:tensorflow:global_step/sec: 112.321\n",
            "INFO:tensorflow:loss = 0.32699403, step = 2868 (0.964 sec)\n",
            "INFO:tensorflow:global_step/sec: 93.6814\n",
            "INFO:tensorflow:loss = 0.3570333, step = 2968 (1.015 sec)\n",
            "INFO:tensorflow:global_step/sec: 109.118\n",
            "INFO:tensorflow:loss = 0.2188921, step = 3068 (0.976 sec)\n",
            "INFO:tensorflow:global_step/sec: 93.4354\n",
            "INFO:tensorflow:loss = 0.3859756, step = 3168 (1.003 sec)\n",
            "INFO:tensorflow:global_step/sec: 108.447\n",
            "INFO:tensorflow:loss = 0.22691043, step = 3268 (1.086 sec)\n",
            "INFO:tensorflow:global_step/sec: 93.7957\n",
            "INFO:tensorflow:loss = 0.17906934, step = 3368 (0.903 sec)\n",
            "INFO:tensorflow:global_step/sec: 107.766\n",
            "INFO:tensorflow:loss = 0.4204154, step = 3468 (1.068 sec)\n",
            "INFO:tensorflow:global_step/sec: 94.8551\n",
            "INFO:tensorflow:loss = 0.20401087, step = 3568 (0.913 sec)\n",
            "INFO:tensorflow:global_step/sec: 108.642\n",
            "INFO:tensorflow:loss = 0.2596253, step = 3668 (1.064 sec)\n",
            "INFO:tensorflow:global_step/sec: 95.3799\n",
            "INFO:tensorflow:loss = 0.19610128, step = 3768 (0.917 sec)\n",
            "INFO:tensorflow:global_step/sec: 107.875\n",
            "INFO:tensorflow:loss = 0.1764006, step = 3868 (1.067 sec)\n",
            "INFO:tensorflow:global_step/sec: 95.4376\n",
            "INFO:tensorflow:loss = 0.2009787, step = 3968 (0.923 sec)\n",
            "INFO:tensorflow:global_step/sec: 102.89\n",
            "INFO:tensorflow:loss = 0.4468822, step = 4068 (1.053 sec)\n",
            "INFO:tensorflow:global_step/sec: 99.0363\n",
            "INFO:tensorflow:loss = 0.25480735, step = 4168 (0.928 sec)\n",
            "INFO:tensorflow:global_step/sec: 102.929\n",
            "INFO:tensorflow:loss = 0.12799546, step = 4268 (1.069 sec)\n",
            "INFO:tensorflow:global_step/sec: 98.0126\n",
            "INFO:tensorflow:loss = 0.25151682, step = 4368 (0.925 sec)\n",
            "INFO:tensorflow:global_step/sec: 103.055\n",
            "INFO:tensorflow:loss = 0.20035884, step = 4468 (1.051 sec)\n",
            "INFO:tensorflow:global_step/sec: 99.0299\n",
            "INFO:tensorflow:loss = 0.21147278, step = 4568 (0.930 sec)\n",
            "INFO:tensorflow:global_step/sec: 102.187\n",
            "INFO:tensorflow:loss = 0.29438105, step = 4668 (1.051 sec)\n",
            "INFO:tensorflow:global_step/sec: 100.384\n",
            "INFO:tensorflow:loss = 0.45291907, step = 4768 (0.975 sec)\n",
            "INFO:tensorflow:global_step/sec: 92.549\n",
            "INFO:tensorflow:loss = 0.2754693, step = 4868 (1.005 sec)\n",
            "INFO:tensorflow:global_step/sec: 109.642\n",
            "INFO:tensorflow:loss = 0.21720196, step = 4968 (0.994 sec)\n",
            "INFO:tensorflow:global_step/sec: 92.5631\n",
            "INFO:tensorflow:loss = 0.2228549, step = 5068 (0.989 sec)\n",
            "INFO:tensorflow:global_step/sec: 110.579\n",
            "INFO:tensorflow:loss = 0.19408399, step = 5168 (0.982 sec)\n",
            "INFO:tensorflow:global_step/sec: 93.5352\n",
            "INFO:tensorflow:loss = 0.25976527, step = 5268 (1.008 sec)\n",
            "INFO:tensorflow:global_step/sec: 106.563\n",
            "INFO:tensorflow:loss = 0.25347942, step = 5368 (0.993 sec)\n",
            "INFO:tensorflow:global_step/sec: 94.017\n",
            "INFO:tensorflow:loss = 0.32454294, step = 5468 (1.011 sec)\n",
            "INFO:tensorflow:global_step/sec: 108.369\n",
            "INFO:tensorflow:loss = 0.20853595, step = 5568 (1.091 sec)\n",
            "INFO:tensorflow:global_step/sec: 92.7407\n",
            "INFO:tensorflow:loss = 0.45980492, step = 5668 (0.924 sec)\n",
            "INFO:tensorflow:global_step/sec: 105.382\n",
            "INFO:tensorflow:loss = 0.18845126, step = 5768 (1.080 sec)\n",
            "INFO:tensorflow:global_step/sec: 94.706\n",
            "INFO:tensorflow:loss = 0.19224907, step = 5868 (0.917 sec)\n",
            "INFO:tensorflow:global_step/sec: 106.187\n",
            "INFO:tensorflow:loss = 0.29393628, step = 5968 (1.088 sec)\n",
            "INFO:tensorflow:global_step/sec: 94.2109\n",
            "INFO:tensorflow:loss = 0.31029236, step = 6068 (0.917 sec)\n",
            "INFO:tensorflow:global_step/sec: 106.08\n",
            "INFO:tensorflow:loss = 0.3804925, step = 6168 (1.081 sec)\n",
            "INFO:tensorflow:global_step/sec: 94.6807\n",
            "INFO:tensorflow:loss = 0.13285136, step = 6268 (0.927 sec)\n",
            "INFO:tensorflow:global_step/sec: 102.801\n",
            "INFO:tensorflow:loss = 0.24260747, step = 6368 (1.106 sec)\n",
            "INFO:tensorflow:global_step/sec: 93.4447\n",
            "INFO:tensorflow:loss = 0.38837722, step = 6468 (0.951 sec)\n",
            "INFO:tensorflow:global_step/sec: 99.2474\n",
            "INFO:tensorflow:loss = 0.31461415, step = 6568 (1.086 sec)\n",
            "INFO:tensorflow:global_step/sec: 96.8583\n",
            "INFO:tensorflow:loss = 0.20390502, step = 6668 (0.957 sec)\n",
            "INFO:tensorflow:global_step/sec: 100.778\n",
            "INFO:tensorflow:loss = 0.21711472, step = 6768 (1.043 sec)\n",
            "INFO:tensorflow:global_step/sec: 100.153\n",
            "INFO:tensorflow:loss = 0.3302018, step = 6868 (0.932 sec)\n",
            "INFO:tensorflow:global_step/sec: 102.68\n",
            "INFO:tensorflow:loss = 0.17334503, step = 6968 (1.041 sec)\n",
            "INFO:tensorflow:global_step/sec: 100.747\n",
            "INFO:tensorflow:loss = 0.21227783, step = 7068 (0.918 sec)\n",
            "INFO:tensorflow:global_step/sec: 103.328\n",
            "INFO:tensorflow:loss = 0.26064253, step = 7168 (1.041 sec)\n",
            "INFO:tensorflow:global_step/sec: 100.225\n",
            "INFO:tensorflow:loss = 0.2502305, step = 7268 (0.969 sec)\n",
            "INFO:tensorflow:global_step/sec: 93.8662\n",
            "INFO:tensorflow:loss = 0.29306307, step = 7368 (1.023 sec)\n",
            "INFO:tensorflow:global_step/sec: 107.76\n",
            "INFO:tensorflow:loss = 0.23495132, step = 7468 (0.973 sec)\n",
            "INFO:tensorflow:global_step/sec: 93.9277\n",
            "INFO:tensorflow:loss = 0.2947229, step = 7568 (0.994 sec)\n",
            "INFO:tensorflow:global_step/sec: 110.528\n",
            "INFO:tensorflow:loss = 0.34204748, step = 7668 (0.969 sec)\n",
            "INFO:tensorflow:global_step/sec: 94.1807\n",
            "INFO:tensorflow:loss = 0.2208293, step = 7768 (1.003 sec)\n",
            "INFO:tensorflow:global_step/sec: 109.69\n",
            "INFO:tensorflow:loss = 0.34184986, step = 7868 (0.979 sec)\n",
            "INFO:tensorflow:global_step/sec: 93.6691\n",
            "INFO:tensorflow:loss = 0.26155293, step = 7968 (1.003 sec)\n",
            "INFO:tensorflow:global_step/sec: 108.719\n",
            "INFO:tensorflow:loss = 0.18956497, step = 8068 (1.066 sec)\n",
            "INFO:tensorflow:global_step/sec: 95.2853\n",
            "INFO:tensorflow:loss = 0.28733265, step = 8168 (0.921 sec)\n",
            "INFO:tensorflow:global_step/sec: 105.647\n",
            "INFO:tensorflow:loss = 0.26828185, step = 8268 (1.093 sec)\n",
            "INFO:tensorflow:global_step/sec: 92.7304\n",
            "INFO:tensorflow:loss = 0.3042254, step = 8368 (0.937 sec)\n",
            "INFO:tensorflow:global_step/sec: 105.436\n",
            "INFO:tensorflow:loss = 0.13693321, step = 8468 (1.061 sec)\n",
            "INFO:tensorflow:global_step/sec: 95.6031\n",
            "INFO:tensorflow:loss = 0.18291195, step = 8568 (0.924 sec)\n",
            "INFO:tensorflow:global_step/sec: 106.584\n",
            "INFO:tensorflow:loss = 0.16779222, step = 8668 (1.066 sec)\n",
            "INFO:tensorflow:global_step/sec: 95.0932\n",
            "INFO:tensorflow:loss = 0.2558989, step = 8768 (0.944 sec)\n",
            "INFO:tensorflow:global_step/sec: 101.578\n",
            "INFO:tensorflow:loss = 0.17875327, step = 8868 (1.054 sec)\n",
            "INFO:tensorflow:global_step/sec: 98.6381\n",
            "INFO:tensorflow:loss = 0.20832211, step = 8968 (0.941 sec)\n",
            "INFO:tensorflow:global_step/sec: 101.965\n",
            "INFO:tensorflow:loss = 0.31478965, step = 9068 (1.056 sec)\n",
            "INFO:tensorflow:global_step/sec: 99.0817\n",
            "INFO:tensorflow:loss = 0.21714264, step = 9168 (0.930 sec)\n",
            "INFO:tensorflow:global_step/sec: 102.196\n",
            "INFO:tensorflow:loss = 0.21695817, step = 9268 (1.042 sec)\n",
            "INFO:tensorflow:global_step/sec: 100.115\n",
            "INFO:tensorflow:loss = 0.1288616, step = 9368 (0.929 sec)\n",
            "INFO:tensorflow:global_step/sec: 99.7565\n",
            "INFO:tensorflow:loss = 0.23587142, step = 9468 (1.075 sec)\n",
            "INFO:tensorflow:global_step/sec: 99.4477\n",
            "INFO:tensorflow:loss = 0.24613695, step = 9568 (0.984 sec)\n",
            "INFO:tensorflow:global_step/sec: 92.2271\n",
            "INFO:tensorflow:loss = 0.25432682, step = 9668 (1.002 sec)\n",
            "INFO:tensorflow:global_step/sec: 109.202\n",
            "INFO:tensorflow:loss = 0.28812498, step = 9768 (0.999 sec)\n",
            "INFO:tensorflow:global_step/sec: 92.1863\n",
            "INFO:tensorflow:loss = 0.46898288, step = 9868 (1.008 sec)\n",
            "INFO:tensorflow:global_step/sec: 109.019\n",
            "INFO:tensorflow:loss = 0.15550023, step = 9968 (0.983 sec)\n",
            "INFO:tensorflow:global_step/sec: 92.4534\n",
            "INFO:tensorflow:loss = 0.41402173, step = 10068 (1.007 sec)\n",
            "INFO:tensorflow:global_step/sec: 110.163\n",
            "INFO:tensorflow:loss = 0.2262725, step = 10168 (0.976 sec)\n",
            "INFO:tensorflow:global_step/sec: 93.4578\n",
            "INFO:tensorflow:loss = 0.26130056, step = 10268 (1.004 sec)\n",
            "INFO:tensorflow:global_step/sec: 110.14\n",
            "INFO:tensorflow:loss = 0.18249902, step = 10368 (1.078 sec)\n",
            "INFO:tensorflow:global_step/sec: 93.6402\n",
            "INFO:tensorflow:loss = 0.35475487, step = 10468 (0.924 sec)\n",
            "INFO:tensorflow:global_step/sec: 105.593\n",
            "INFO:tensorflow:loss = 0.17982548, step = 10568 (1.075 sec)\n",
            "INFO:tensorflow:global_step/sec: 94.6763\n",
            "INFO:tensorflow:loss = 0.22494464, step = 10668 (0.910 sec)\n",
            "INFO:tensorflow:global_step/sec: 107.933\n",
            "INFO:tensorflow:loss = 0.30120486, step = 10768 (1.068 sec)\n",
            "INFO:tensorflow:global_step/sec: 94.9252\n",
            "INFO:tensorflow:loss = 0.15302026, step = 10868 (0.930 sec)\n",
            "INFO:tensorflow:global_step/sec: 104.816\n",
            "INFO:tensorflow:loss = 0.25689897, step = 10968 (1.078 sec)\n",
            "INFO:tensorflow:global_step/sec: 95.346\n",
            "INFO:tensorflow:loss = 0.25912622, step = 11068 (0.903 sec)\n",
            "INFO:tensorflow:global_step/sec: 107.178\n",
            "INFO:tensorflow:loss = 0.14196515, step = 11168 (1.077 sec)\n",
            "INFO:tensorflow:global_step/sec: 95.3318\n",
            "INFO:tensorflow:loss = 0.22280584, step = 11268 (0.943 sec)\n",
            "INFO:tensorflow:global_step/sec: 101\n",
            "INFO:tensorflow:loss = 0.300121, step = 11368 (1.043 sec)\n",
            "INFO:tensorflow:global_step/sec: 100.203\n",
            "INFO:tensorflow:loss = 0.24036145, step = 11468 (0.954 sec)\n",
            "INFO:tensorflow:global_step/sec: 99.2256\n",
            "INFO:tensorflow:loss = 0.22452416, step = 11568 (1.063 sec)\n",
            "INFO:tensorflow:global_step/sec: 98.415\n",
            "INFO:tensorflow:loss = 0.24534246, step = 11668 (0.940 sec)\n",
            "INFO:tensorflow:global_step/sec: 102.071\n",
            "INFO:tensorflow:loss = 0.18102469, step = 11768 (1.046 sec)\n",
            "INFO:tensorflow:global_step/sec: 99.4998\n",
            "INFO:tensorflow:loss = 0.35662544, step = 11868 (0.938 sec)\n",
            "INFO:tensorflow:global_step/sec: 102.386\n",
            "INFO:tensorflow:loss = 0.20611462, step = 11968 (1.061 sec)\n",
            "INFO:tensorflow:global_step/sec: 97.9486\n",
            "INFO:tensorflow:loss = 0.24511679, step = 12068 (0.996 sec)\n",
            "INFO:tensorflow:global_step/sec: 91.1277\n",
            "INFO:tensorflow:loss = 0.18165363, step = 12168 (1.011 sec)\n",
            "INFO:tensorflow:global_step/sec: 109.308\n",
            "INFO:tensorflow:loss = 0.1563058, step = 12268 (0.987 sec)\n",
            "INFO:tensorflow:global_step/sec: 92.9083\n",
            "INFO:tensorflow:loss = 0.2664677, step = 12368 (1.000 sec)\n",
            "INFO:tensorflow:global_step/sec: 110.423\n",
            "INFO:tensorflow:loss = 0.20938599, step = 12468 (0.995 sec)\n",
            "INFO:tensorflow:global_step/sec: 89.8927\n",
            "INFO:tensorflow:loss = 0.28196308, step = 12568 (1.046 sec)\n",
            "INFO:tensorflow:global_step/sec: 107.914\n",
            "INFO:tensorflow:loss = 0.2614339, step = 12668 (0.989 sec)\n",
            "INFO:tensorflow:global_step/sec: 92.188\n",
            "INFO:tensorflow:loss = 0.2697072, step = 12768 (1.010 sec)\n",
            "INFO:tensorflow:Calling checkpoint listeners before saving checkpoint 12778...\n",
            "INFO:tensorflow:Saving checkpoints for 12778 into /tmp/tmpon8hh6nc/model.ckpt.\n",
            "WARNING:tensorflow:Issue encountered when serializing resources.\n",
            "Type is unsupported, or the types of the items don't match field type in CollectionDef. Note this is a warning and probably safe to ignore.\n",
            "'_Resource' object has no attribute 'name'\n",
            "INFO:tensorflow:Calling checkpoint listeners after saving checkpoint 12778...\n",
            "INFO:tensorflow:Loss for final step: 0.3058052.\n",
            "INFO:tensorflow:Calling model_fn.\n",
            "INFO:tensorflow:Done calling model_fn.\n",
            "INFO:tensorflow:Starting evaluation at 2020-08-19T15:04:02Z\n",
            "INFO:tensorflow:Graph was finalized.\n",
            "INFO:tensorflow:Restoring parameters from /tmp/tmpon8hh6nc/model.ckpt-12778\n",
            "INFO:tensorflow:Running local_init_op.\n",
            "INFO:tensorflow:Done running local_init_op.\n",
            "INFO:tensorflow:Inference Time : 1.43933s\n",
            "INFO:tensorflow:Finished evaluation at 2020-08-19-15:04:04\n",
            "INFO:tensorflow:Saving dict for global step 12778: average_loss = 0.25839773, global_step = 12778, label/mean = 13.384774, loss = 0.25814307, prediction/mean = 13.384276\n",
            "WARNING:tensorflow:Issue encountered when serializing resources.\n",
            "Type is unsupported, or the types of the items don't match field type in CollectionDef. Note this is a warning and probably safe to ignore.\n",
            "'_Resource' object has no attribute 'name'\n",
            "INFO:tensorflow:Saving 'checkpoint_path' summary for global step 12778: /tmp/tmpon8hh6nc/model.ckpt-12778\n"
          ],
          "name": "stdout"
        }
      ]
    },
    {
      "cell_type": "code",
      "metadata": {
        "id": "LRfTndDDX-Du",
        "colab_type": "code",
        "colab": {}
      },
      "source": [
        "# RMSE\n",
        "def rmse(y_test,y_pred):\n",
        "      return np.sqrt(mean_squared_error(y_test,y_pred))"
      ],
      "execution_count": 36,
      "outputs": []
    },
    {
      "cell_type": "code",
      "metadata": {
        "id": "AImmHgKuF_bz",
        "colab_type": "code",
        "colab": {
          "base_uri": "https://localhost:8080/",
          "height": 119
        },
        "outputId": "e9c46b9e-7aa7-4518-d28a-a5251c61d981"
      },
      "source": [
        "pred_dicts = list(estimator.predict(eval_input_fn))\n",
        "\n",
        "preds = pd.Series([pred['predictions'][0] for pred in pred_dicts])\n",
        "\n",
        "actuals = y_eval.reset_index(drop=True)"
      ],
      "execution_count": 37,
      "outputs": [
        {
          "output_type": "stream",
          "text": [
            "INFO:tensorflow:Calling model_fn.\n",
            "INFO:tensorflow:Done calling model_fn.\n",
            "INFO:tensorflow:Graph was finalized.\n",
            "INFO:tensorflow:Restoring parameters from /tmp/tmpon8hh6nc/model.ckpt-12778\n",
            "INFO:tensorflow:Running local_init_op.\n",
            "INFO:tensorflow:Done running local_init_op.\n"
          ],
          "name": "stdout"
        }
      ]
    },
    {
      "cell_type": "code",
      "metadata": {
        "id": "mYmtjHaSyWUQ",
        "colab_type": "code",
        "colab": {
          "base_uri": "https://localhost:8080/",
          "height": 221
        },
        "outputId": "2d9aef18-36f0-498b-c6cb-52179fcfb136"
      },
      "source": [
        "print(actuals.head())\n",
        "print(preds.head())"
      ],
      "execution_count": 38,
      "outputs": [
        {
          "output_type": "stream",
          "text": [
            "0    12.367341\n",
            "1    13.715690\n",
            "2    12.860999\n",
            "3    12.959844\n",
            "4    13.384728\n",
            "Name: sale_price, dtype: float64\n",
            "0    12.779124\n",
            "1    13.507027\n",
            "2    13.743541\n",
            "3    12.955552\n",
            "4    13.451174\n",
            "dtype: float64\n"
          ],
          "name": "stdout"
        }
      ]
    },
    {
      "cell_type": "markdown",
      "metadata": {
        "id": "MdYZnp1aLcq9",
        "colab_type": "text"
      },
      "source": [
        "## Keep in mind that these are the log-transformed values of sale_price. \n",
        "## If you want to compute the errors with non-transformed values, use the following equation: \n",
        "## $$error = 10e^{actual} - 10e^{prediction}$$ "
      ]
    },
    {
      "cell_type": "code",
      "metadata": {
        "id": "Od_HtZbqGZA2",
        "colab_type": "code",
        "colab": {
          "base_uri": "https://localhost:8080/",
          "height": 102
        },
        "outputId": "ae538088-b443-4470-d4f9-267dc7bd45a6"
      },
      "source": [
        "result"
      ],
      "execution_count": 39,
      "outputs": [
        {
          "output_type": "execute_result",
          "data": {
            "text/plain": [
              "{'average_loss': 0.25839773,\n",
              " 'global_step': 12778,\n",
              " 'label/mean': 13.384774,\n",
              " 'loss': 0.25814307,\n",
              " 'prediction/mean': 13.384276}"
            ]
          },
          "metadata": {
            "tags": []
          },
          "execution_count": 39
        }
      ]
    },
    {
      "cell_type": "code",
      "metadata": {
        "id": "fbl36pepPLbC",
        "colab_type": "code",
        "colab": {
          "base_uri": "https://localhost:8080/",
          "height": 285
        },
        "outputId": "2b73ecfb-fb06-4486-9428-1a7694d3248d"
      },
      "source": [
        "error = actuals - preds\n",
        "plt.hist(error, bins = 50,range=(-2,2))\n",
        "plt.xlabel(\"Prediction Error\")\n",
        "_ = plt.ylabel(\"Count\")"
      ],
      "execution_count": 40,
      "outputs": [
        {
          "output_type": "display_data",
          "data": {
            "image/png": "[encoded data removed]",
            "text/plain": [
              "<Figure size 432x288 with 1 Axes>"
            ]
          },
          "metadata": {
            "tags": []
          }
        }
      ]
    },
    {
      "cell_type": "code",
      "metadata": {
        "id": "4cD7x0kPmirz",
        "colab_type": "code",
        "colab": {
          "base_uri": "https://localhost:8080/",
          "height": 301
        },
        "outputId": "8da48de6-f8c0-42f2-f4d5-0a08b78df028"
      },
      "source": [
        "fig, ax = plt.subplots(nrows= 1, ncols = 1)\n",
        "\n",
        "ax.scatter(x = actuals, y = preds)\n",
        "ax.set_aspect(\"equal\")\n",
        "ax.set_xlim(11,16)\n",
        "ax.set_ylim(11,16)\n",
        "z = np.polyfit(actuals, preds, 1)\n",
        "p = np.poly1d(z)\n",
        "ax.plot(actuals, p(actuals),\"r--\")\n",
        "ax.set_title(\"Actual vs. Predicted values\")\n",
        "ax.set_xlabel(\"Actuals\")\n",
        "ax.set_ylabel(\"Predicted\")\n",
        "\n",
        "\n",
        "fig.show()"
      ],
      "execution_count": 44,
      "outputs": [
        {
          "output_type": "display_data",
          "data": {
            "image/png": "[encoded data removed]",
            "text/plain": [
              "<Figure size 432x288 with 1 Axes>"
            ]
          },
          "metadata": {
            "tags": []
          }
        }
      ]
    },
    {
      "cell_type": "code",
      "metadata": {
        "id": "-ribccG-2OGy",
        "colab_type": "code",
        "colab": {
          "base_uri": "https://localhost:8080/",
          "height": 51
        },
        "outputId": "aa281f3a-006a-4f42-b9e9-6aabfbf32106"
      },
      "source": [
        "print('R^2 score: {}'.format(r2_score(actuals, preds)))\n",
        "\n",
        "print(\"Root Mean Squared Error: {}\".format(rmse(actuals, preds)))"
      ],
      "execution_count": 42,
      "outputs": [
        {
          "output_type": "stream",
          "text": [
            "R^2 score: 0.5519385274965414\n",
            "Root Mean Squared Error: 0.5083283171007869\n"
          ],
          "name": "stdout"
        }
      ]
    }
  ]
}