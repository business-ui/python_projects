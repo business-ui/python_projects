{
 "cells": [
  {
   "cell_type": "markdown",
   "metadata": {
    "colab_type": "text",
    "id": "view-in-github"
   },
   "source": [
    "<a href=\"https://colab.research.google.com/github/business-ui/python_projects/blob/master/NYC_Rolling_Sales.ipynb\" target=\"_parent\"><img src=\"https://colab.research.google.com/assets/colab-badge.svg\" alt=\"Open In Colab\"/></a>"
   ]
  },
  {
   "cell_type": "code",
   "execution_count": 1,
   "metadata": {
    "colab": {},
    "colab_type": "code",
    "id": "NPxUVGDMvY1o"
   },
   "outputs": [],
   "source": [
    "# %tensorflow_version 2.x"
   ]
  },
  {
   "cell_type": "code",
   "execution_count": 2,
   "metadata": {
    "colab": {
     "base_uri": "https://localhost:8080/",
     "height": 34
    },
    "colab_type": "code",
    "id": "BzMb1x0EvjSk",
    "outputId": "d5cb55e4-b881-42b9-8be9-c058483573b5"
   },
   "outputs": [
    {
     "name": "stdout",
     "output_type": "stream",
     "text": [
      "<module 'tensorflow._api.v2.version' from 'c:\\\\users\\\\ryana\\\\appdata\\\\local\\\\programs\\\\python\\\\python37\\\\lib\\\\site-packages\\\\tensorflow\\\\_api\\\\v2\\\\version\\\\__init__.py'>\n"
     ]
    }
   ],
   "source": [
    "import tensorflow as tf  # now import the tensorflow module\n",
    "print(tf.version)  # make sure the version is 2.x"
   ]
  },
  {
   "cell_type": "code",
   "execution_count": 3,
   "metadata": {},
   "outputs": [],
   "source": [
    "gpus = tf.config.experimental.list_physical_devices('GPU')\n",
    "tf.config.experimental.set_virtual_device_configuration(gpus[0],\n",
    "    [tf.config.experimental.VirtualDeviceConfiguration(memory_limit=1024)])"
   ]
  },
  {
   "cell_type": "code",
   "execution_count": 4,
   "metadata": {
    "colab": {
     "base_uri": "https://localhost:8080/",
     "height": 71
    },
    "colab_type": "code",
    "id": "fqqIZlZwwIwK",
    "outputId": "a276100a-5ce8-4d90-8498-9e79883d4bfe"
   },
   "outputs": [
    {
     "name": "stderr",
     "output_type": "stream",
     "text": [
      "c:\\users\\ryana\\appdata\\local\\programs\\python\\python37\\lib\\site-packages\\statsmodels\\tools\\_testing.py:19: FutureWarning: pandas.util.testing is deprecated. Use the functions in the public API at pandas.testing instead.\n",
      "  import pandas.util.testing as tm\n"
     ]
    }
   ],
   "source": [
    "import pandas as pd\n",
    "import seaborn as sns\n",
    "import matplotlib.pyplot as plt\n",
    "import datetime\n",
    "import numpy as np\n",
    "from scipy import stats\n",
    "from scipy.stats import norm"
   ]
  },
  {
   "cell_type": "code",
   "execution_count": 5,
   "metadata": {
    "colab": {},
    "colab_type": "code",
    "id": "WZlCUZhz2uSM"
   },
   "outputs": [],
   "source": [
    "from sklearn.model_selection import train_test_split"
   ]
  },
  {
   "cell_type": "code",
   "execution_count": 6,
   "metadata": {
    "colab": {},
    "colab_type": "code",
    "id": "gCV73taVYpke"
   },
   "outputs": [],
   "source": [
    "from sklearn.metrics import mean_squared_error, r2_score"
   ]
  },
  {
   "cell_type": "code",
   "execution_count": 7,
   "metadata": {
    "colab": {},
    "colab_type": "code",
    "id": "arA-fnlvvspV"
   },
   "outputs": [],
   "source": [
    "df = pd.read_csv(r\"C:\\Users\\ryana\\Downloads\\nyc-rolling-sales.csv\", parse_dates=True)"
   ]
  },
  {
   "cell_type": "code",
   "execution_count": 8,
   "metadata": {
    "colab": {
     "base_uri": "https://localhost:8080/",
     "height": 383
    },
    "colab_type": "code",
    "id": "5GBwCpgwwTGl",
    "outputId": "68298f92-0c5e-478f-810a-1d980943ec01"
   },
   "outputs": [
    {
     "data": {
      "text/html": [
       "<div>\n",
       "<style scoped>\n",
       "    .dataframe tbody tr th:only-of-type {\n",
       "        vertical-align: middle;\n",
       "    }\n",
       "\n",
       "    .dataframe tbody tr th {\n",
       "        vertical-align: top;\n",
       "    }\n",
       "\n",
       "    .dataframe thead th {\n",
       "        text-align: right;\n",
       "    }\n",
       "</style>\n",
       "<table border=\"1\" class=\"dataframe\">\n",
       "  <thead>\n",
       "    <tr style=\"text-align: right;\">\n",
       "      <th></th>\n",
       "      <th>Unnamed: 0</th>\n",
       "      <th>BOROUGH</th>\n",
       "      <th>NEIGHBORHOOD</th>\n",
       "      <th>BUILDING CLASS CATEGORY</th>\n",
       "      <th>TAX CLASS AT PRESENT</th>\n",
       "      <th>BLOCK</th>\n",
       "      <th>LOT</th>\n",
       "      <th>EASE-MENT</th>\n",
       "      <th>BUILDING CLASS AT PRESENT</th>\n",
       "      <th>ADDRESS</th>\n",
       "      <th>...</th>\n",
       "      <th>RESIDENTIAL UNITS</th>\n",
       "      <th>COMMERCIAL UNITS</th>\n",
       "      <th>TOTAL UNITS</th>\n",
       "      <th>LAND SQUARE FEET</th>\n",
       "      <th>GROSS SQUARE FEET</th>\n",
       "      <th>YEAR BUILT</th>\n",
       "      <th>TAX CLASS AT TIME OF SALE</th>\n",
       "      <th>BUILDING CLASS AT TIME OF SALE</th>\n",
       "      <th>SALE PRICE</th>\n",
       "      <th>SALE DATE</th>\n",
       "    </tr>\n",
       "  </thead>\n",
       "  <tbody>\n",
       "    <tr>\n",
       "      <th>0</th>\n",
       "      <td>4</td>\n",
       "      <td>1</td>\n",
       "      <td>ALPHABET CITY</td>\n",
       "      <td>07 RENTALS - WALKUP APARTMENTS</td>\n",
       "      <td>2A</td>\n",
       "      <td>392</td>\n",
       "      <td>6</td>\n",
       "      <td></td>\n",
       "      <td>C2</td>\n",
       "      <td>153 AVENUE B</td>\n",
       "      <td>...</td>\n",
       "      <td>5</td>\n",
       "      <td>0</td>\n",
       "      <td>5</td>\n",
       "      <td>1633</td>\n",
       "      <td>6440</td>\n",
       "      <td>1900</td>\n",
       "      <td>2</td>\n",
       "      <td>C2</td>\n",
       "      <td>6625000</td>\n",
       "      <td>2017-07-19 00:00:00</td>\n",
       "    </tr>\n",
       "    <tr>\n",
       "      <th>1</th>\n",
       "      <td>5</td>\n",
       "      <td>1</td>\n",
       "      <td>ALPHABET CITY</td>\n",
       "      <td>07 RENTALS - WALKUP APARTMENTS</td>\n",
       "      <td>2</td>\n",
       "      <td>399</td>\n",
       "      <td>26</td>\n",
       "      <td></td>\n",
       "      <td>C7</td>\n",
       "      <td>234 EAST 4TH   STREET</td>\n",
       "      <td>...</td>\n",
       "      <td>28</td>\n",
       "      <td>3</td>\n",
       "      <td>31</td>\n",
       "      <td>4616</td>\n",
       "      <td>18690</td>\n",
       "      <td>1900</td>\n",
       "      <td>2</td>\n",
       "      <td>C7</td>\n",
       "      <td>-</td>\n",
       "      <td>2016-12-14 00:00:00</td>\n",
       "    </tr>\n",
       "    <tr>\n",
       "      <th>2</th>\n",
       "      <td>6</td>\n",
       "      <td>1</td>\n",
       "      <td>ALPHABET CITY</td>\n",
       "      <td>07 RENTALS - WALKUP APARTMENTS</td>\n",
       "      <td>2</td>\n",
       "      <td>399</td>\n",
       "      <td>39</td>\n",
       "      <td></td>\n",
       "      <td>C7</td>\n",
       "      <td>197 EAST 3RD   STREET</td>\n",
       "      <td>...</td>\n",
       "      <td>16</td>\n",
       "      <td>1</td>\n",
       "      <td>17</td>\n",
       "      <td>2212</td>\n",
       "      <td>7803</td>\n",
       "      <td>1900</td>\n",
       "      <td>2</td>\n",
       "      <td>C7</td>\n",
       "      <td>-</td>\n",
       "      <td>2016-12-09 00:00:00</td>\n",
       "    </tr>\n",
       "  </tbody>\n",
       "</table>\n",
       "<p>3 rows × 22 columns</p>\n",
       "</div>"
      ],
      "text/plain": [
       "   Unnamed: 0  BOROUGH   NEIGHBORHOOD  \\\n",
       "0           4        1  ALPHABET CITY   \n",
       "1           5        1  ALPHABET CITY   \n",
       "2           6        1  ALPHABET CITY   \n",
       "\n",
       "                       BUILDING CLASS CATEGORY TAX CLASS AT PRESENT  BLOCK  \\\n",
       "0  07 RENTALS - WALKUP APARTMENTS                                2A    392   \n",
       "1  07 RENTALS - WALKUP APARTMENTS                                 2    399   \n",
       "2  07 RENTALS - WALKUP APARTMENTS                                 2    399   \n",
       "\n",
       "   LOT EASE-MENT BUILDING CLASS AT PRESENT                ADDRESS  ...  \\\n",
       "0    6                                  C2           153 AVENUE B  ...   \n",
       "1   26                                  C7  234 EAST 4TH   STREET  ...   \n",
       "2   39                                  C7  197 EAST 3RD   STREET  ...   \n",
       "\n",
       "  RESIDENTIAL UNITS  COMMERCIAL UNITS  TOTAL UNITS  LAND SQUARE FEET  \\\n",
       "0                 5                 0            5              1633   \n",
       "1                28                 3           31              4616   \n",
       "2                16                 1           17              2212   \n",
       "\n",
       "   GROSS SQUARE FEET YEAR BUILT TAX CLASS AT TIME OF SALE  \\\n",
       "0               6440       1900                         2   \n",
       "1              18690       1900                         2   \n",
       "2               7803       1900                         2   \n",
       "\n",
       "   BUILDING CLASS AT TIME OF SALE  SALE PRICE            SALE DATE  \n",
       "0                              C2     6625000  2017-07-19 00:00:00  \n",
       "1                              C7         -    2016-12-14 00:00:00  \n",
       "2                              C7         -    2016-12-09 00:00:00  \n",
       "\n",
       "[3 rows x 22 columns]"
      ]
     },
     "execution_count": 8,
     "metadata": {},
     "output_type": "execute_result"
    }
   ],
   "source": [
    "df.head(3)"
   ]
  },
  {
   "cell_type": "code",
   "execution_count": 9,
   "metadata": {
    "colab": {
     "base_uri": "https://localhost:8080/",
     "height": 153
    },
    "colab_type": "code",
    "id": "s5B3XEGkwUIv",
    "outputId": "3cfca370-262e-4991-dc55-a3d9ecbd9190"
   },
   "outputs": [
    {
     "data": {
      "text/plain": [
       "Index(['Unnamed: 0', 'BOROUGH', 'NEIGHBORHOOD', 'BUILDING CLASS CATEGORY',\n",
       "       'TAX CLASS AT PRESENT', 'BLOCK', 'LOT', 'EASE-MENT',\n",
       "       'BUILDING CLASS AT PRESENT', 'ADDRESS', 'APARTMENT NUMBER', 'ZIP CODE',\n",
       "       'RESIDENTIAL UNITS', 'COMMERCIAL UNITS', 'TOTAL UNITS',\n",
       "       'LAND SQUARE FEET', 'GROSS SQUARE FEET', 'YEAR BUILT',\n",
       "       'TAX CLASS AT TIME OF SALE', 'BUILDING CLASS AT TIME OF SALE',\n",
       "       'SALE PRICE', 'SALE DATE'],\n",
       "      dtype='object')"
      ]
     },
     "execution_count": 9,
     "metadata": {},
     "output_type": "execute_result"
    }
   ],
   "source": [
    "df.columns"
   ]
  },
  {
   "cell_type": "code",
   "execution_count": 10,
   "metadata": {
    "colab": {},
    "colab_type": "code",
    "id": "7WVcLaNuwXZE"
   },
   "outputs": [],
   "source": [
    "del df['Unnamed: 0']\n",
    "del df['APARTMENT NUMBER']"
   ]
  },
  {
   "cell_type": "code",
   "execution_count": 11,
   "metadata": {
    "colab": {},
    "colab_type": "code",
    "id": "JZQuz4fbyI_h"
   },
   "outputs": [],
   "source": [
    "df['SALE DATE'] = pd.to_datetime(df['SALE DATE'], infer_datetime_format=True)\n",
    "df['TAX CLASS AT TIME OF SALE'] = df['TAX CLASS AT TIME OF SALE'].astype('category')\n",
    "df['TAX CLASS AT PRESENT'] = df['TAX CLASS AT PRESENT'].astype('category')\n",
    "df['LAND SQUARE FEET'] = pd.to_numeric(df['LAND SQUARE FEET'], errors='coerce')\n",
    "df['GROSS SQUARE FEET']= pd.to_numeric(df['GROSS SQUARE FEET'], errors='coerce')\n",
    "df['SALE PRICE'] = pd.to_numeric(df['SALE PRICE'], errors='coerce')\n",
    "df['BOROUGH'] = df['BOROUGH'].astype('category')"
   ]
  },
  {
   "cell_type": "code",
   "execution_count": 12,
   "metadata": {
    "colab": {},
    "colab_type": "code",
    "id": "ihc-gv7pwaF2"
   },
   "outputs": [],
   "source": [
    "df.columns = df.columns.str.replace(\" \",\"_\").str.lower()"
   ]
  },
  {
   "cell_type": "code",
   "execution_count": 13,
   "metadata": {
    "colab": {
     "base_uri": "https://localhost:8080/",
     "height": 51
    },
    "colab_type": "code",
    "id": "71ddzEiHTIdZ",
    "outputId": "5fda5b7f-7d92-4278-b71f-86752fd1db9b"
   },
   "outputs": [
    {
     "name": "stdout",
     "output_type": "stream",
     "text": [
      "Number of duplicated rows: 765\n",
      "Duplicated rows deleted: True\n"
     ]
    }
   ],
   "source": [
    "print(\"Number of duplicated rows:\",sum(df.duplicated(df.columns)))\n",
    "df = df.drop_duplicates(df.columns, keep='last')\n",
    "print(\"Duplicated rows deleted:\",sum(df.duplicated(df.columns))==0)"
   ]
  },
  {
   "cell_type": "code",
   "execution_count": 14,
   "metadata": {
    "colab": {
     "base_uri": "https://localhost:8080/",
     "height": 374
    },
    "colab_type": "code",
    "id": "LbnFC5vGxqfX",
    "outputId": "b88b5d5c-02b8-4122-b113-044a2588ab81"
   },
   "outputs": [
    {
     "data": {
      "text/plain": [
       "borough                                 category\n",
       "neighborhood                              object\n",
       "building_class_category                   object\n",
       "tax_class_at_present                    category\n",
       "block                                      int64\n",
       "lot                                        int64\n",
       "ease-ment                                 object\n",
       "building_class_at_present                 object\n",
       "address                                   object\n",
       "zip_code                                   int64\n",
       "residential_units                          int64\n",
       "commercial_units                           int64\n",
       "total_units                                int64\n",
       "land_square_feet                         float64\n",
       "gross_square_feet                        float64\n",
       "year_built                                 int64\n",
       "tax_class_at_time_of_sale               category\n",
       "building_class_at_time_of_sale            object\n",
       "sale_price                               float64\n",
       "sale_date                         datetime64[ns]\n",
       "dtype: object"
      ]
     },
     "execution_count": 14,
     "metadata": {},
     "output_type": "execute_result"
    }
   ],
   "source": [
    "df.dtypes"
   ]
  },
  {
   "cell_type": "code",
   "execution_count": 15,
   "metadata": {
    "colab": {},
    "colab_type": "code",
    "id": "ZP-jHkqYw2tK"
   },
   "outputs": [],
   "source": [
    "miss=df.isnull().sum()/len(df)\n",
    "miss=miss[miss>0]\n",
    "miss.sort_values(inplace=True)\n",
    "miss.columns=[\"name\",\"count\"]"
   ]
  },
  {
   "cell_type": "code",
   "execution_count": 16,
   "metadata": {
    "colab": {
     "base_uri": "https://localhost:8080/",
     "height": 375
    },
    "colab_type": "code",
    "id": "Cu_a8S1MxTiF",
    "outputId": "728d8978-835c-4ceb-afa7-02a4e82423a2"
   },
   "outputs": [
    {
     "data": {
      "text/plain": [
       "<module 'seaborn' from 'c:\\\\users\\\\ryana\\\\appdata\\\\local\\\\programs\\\\python\\\\python37\\\\lib\\\\site-packages\\\\seaborn\\\\__init__.py'>"
      ]
     },
     "execution_count": 16,
     "metadata": {},
     "output_type": "execute_result"
    },
    {
     "data": {
      "image/png": "[encoded data removed]",
      "text/plain": [
       "<Figure size 432x288 with 1 Axes>"
      ]
     },
     "metadata": {},
     "output_type": "display_data"
    }
   ],
   "source": [
    "sns.set(style='whitegrid',color_codes=True)\n",
    "sns.barplot(x=miss.index, y=miss.values)\n",
    "plt.xticks(rotation=90)\n",
    "sns"
   ]
  },
  {
   "cell_type": "code",
   "execution_count": 17,
   "metadata": {
    "colab": {},
    "colab_type": "code",
    "id": "9m9mOaQVx8yL"
   },
   "outputs": [],
   "source": [
    "# let's fill these missing values up with mean values.\n",
    "df['land_square_feet']=df['land_square_feet'].fillna(df['land_square_feet'].mean())\n",
    "df['gross_square_feet']=df['gross_square_feet'].fillna(df['gross_square_feet'].mean())"
   ]
  },
  {
   "cell_type": "code",
   "execution_count": 18,
   "metadata": {
    "colab": {},
    "colab_type": "code",
    "id": "osuqghBp4nol"
   },
   "outputs": [],
   "source": [
    "# I want to add the weekday and month features to the dataset. January sales can differ from July sales.\n",
    "df['weekday'] = df['sale_date'].apply(lambda x: datetime.datetime.weekday(x))\n",
    "df['sale_day'] = pd.DatetimeIndex(df['sale_date']).day\n",
    "df['sale_month'] = pd.DatetimeIndex(df['sale_date']).month\n",
    "df['sale_year'] = pd.DatetimeIndex(df['sale_date']).year\n",
    "del df['sale_date']"
   ]
  },
  {
   "cell_type": "code",
   "execution_count": 19,
   "metadata": {
    "colab": {
     "base_uri": "https://localhost:8080/",
     "height": 960
    },
    "colab_type": "code",
    "id": "gqYUtgEE24Nr",
    "outputId": "36e1c6b9-6fe8-41c0-9746-8269d24ab985"
   },
   "outputs": [
    {
     "data": {
      "image/png": "[encoded data removed]",
      "text/plain": [
       "<Figure size 1080x1080 with 2 Axes>"
      ]
     },
     "metadata": {},
     "output_type": "display_data"
    }
   ],
   "source": [
    "fig, ax = plt.subplots(figsize=(15,15))\n",
    "sns.heatmap(df.corr(),annot=True,cmap=\"Spectral_r\", ax=ax)\n",
    "plt.show()"
   ]
  },
  {
   "cell_type": "code",
   "execution_count": 20,
   "metadata": {
    "colab": {
     "base_uri": "https://localhost:8080/",
     "height": 272
    },
    "colab_type": "code",
    "id": "_FSwiIhw3QAi",
    "outputId": "88fc8a81-474a-456d-b2cc-7cac17e49ca1"
   },
   "outputs": [
    {
     "data": {
      "text/plain": [
       "sale_price           1.000000\n",
       "gross_square_feet    0.449638\n",
       "total_units          0.126576\n",
       "residential_units    0.122465\n",
       "land_square_feet     0.060132\n",
       "commercial_units     0.044534\n",
       "lot                  0.012319\n",
       "weekday              0.004349\n",
       "sale_month           0.003379\n",
       "sale_year           -0.002087\n",
       "year_built          -0.003708\n",
       "sale_day            -0.004907\n",
       "zip_code            -0.034152\n",
       "block               -0.061249\n",
       "Name: sale_price, dtype: float64"
      ]
     },
     "execution_count": 20,
     "metadata": {},
     "output_type": "execute_result"
    }
   ],
   "source": [
    "# For a numeric representation of correlation with sale_price\n",
    "df.corr()['sale_price'].sort_values(ascending=False)"
   ]
  },
  {
   "cell_type": "code",
   "execution_count": 21,
   "metadata": {
    "colab": {
     "base_uri": "https://localhost:8080/",
     "height": 479
    },
    "colab_type": "code",
    "id": "y1QkkK6s4d1Y",
    "outputId": "051a6b3f-378d-47a9-dd70-aa93003c5ae6"
   },
   "outputs": [
    {
     "data": {
      "text/html": [
       "<div>\n",
       "<style scoped>\n",
       "    .dataframe tbody tr th:only-of-type {\n",
       "        vertical-align: middle;\n",
       "    }\n",
       "\n",
       "    .dataframe tbody tr th {\n",
       "        vertical-align: top;\n",
       "    }\n",
       "\n",
       "    .dataframe thead th {\n",
       "        text-align: right;\n",
       "    }\n",
       "</style>\n",
       "<table border=\"1\" class=\"dataframe\">\n",
       "  <thead>\n",
       "    <tr style=\"text-align: right;\">\n",
       "      <th></th>\n",
       "      <th>borough</th>\n",
       "      <th>neighborhood</th>\n",
       "      <th>building_class_category</th>\n",
       "      <th>tax_class_at_present</th>\n",
       "      <th>block</th>\n",
       "      <th>lot</th>\n",
       "      <th>ease-ment</th>\n",
       "      <th>building_class_at_present</th>\n",
       "      <th>address</th>\n",
       "      <th>zip_code</th>\n",
       "      <th>...</th>\n",
       "      <th>land_square_feet</th>\n",
       "      <th>gross_square_feet</th>\n",
       "      <th>year_built</th>\n",
       "      <th>tax_class_at_time_of_sale</th>\n",
       "      <th>building_class_at_time_of_sale</th>\n",
       "      <th>sale_price</th>\n",
       "      <th>weekday</th>\n",
       "      <th>sale_day</th>\n",
       "      <th>sale_month</th>\n",
       "      <th>sale_year</th>\n",
       "    </tr>\n",
       "  </thead>\n",
       "  <tbody>\n",
       "    <tr>\n",
       "      <th>0</th>\n",
       "      <td>1</td>\n",
       "      <td>ALPHABET CITY</td>\n",
       "      <td>07 RENTALS - WALKUP APARTMENTS</td>\n",
       "      <td>2A</td>\n",
       "      <td>392</td>\n",
       "      <td>6</td>\n",
       "      <td></td>\n",
       "      <td>C2</td>\n",
       "      <td>153 AVENUE B</td>\n",
       "      <td>10009</td>\n",
       "      <td>...</td>\n",
       "      <td>1633.0</td>\n",
       "      <td>6440.0</td>\n",
       "      <td>1900</td>\n",
       "      <td>2</td>\n",
       "      <td>C2</td>\n",
       "      <td>6625000.0</td>\n",
       "      <td>2</td>\n",
       "      <td>19</td>\n",
       "      <td>7</td>\n",
       "      <td>2017</td>\n",
       "    </tr>\n",
       "    <tr>\n",
       "      <th>1</th>\n",
       "      <td>1</td>\n",
       "      <td>ALPHABET CITY</td>\n",
       "      <td>07 RENTALS - WALKUP APARTMENTS</td>\n",
       "      <td>2</td>\n",
       "      <td>399</td>\n",
       "      <td>26</td>\n",
       "      <td></td>\n",
       "      <td>C7</td>\n",
       "      <td>234 EAST 4TH   STREET</td>\n",
       "      <td>10009</td>\n",
       "      <td>...</td>\n",
       "      <td>4616.0</td>\n",
       "      <td>18690.0</td>\n",
       "      <td>1900</td>\n",
       "      <td>2</td>\n",
       "      <td>C7</td>\n",
       "      <td>NaN</td>\n",
       "      <td>2</td>\n",
       "      <td>14</td>\n",
       "      <td>12</td>\n",
       "      <td>2016</td>\n",
       "    </tr>\n",
       "    <tr>\n",
       "      <th>2</th>\n",
       "      <td>1</td>\n",
       "      <td>ALPHABET CITY</td>\n",
       "      <td>07 RENTALS - WALKUP APARTMENTS</td>\n",
       "      <td>2</td>\n",
       "      <td>399</td>\n",
       "      <td>39</td>\n",
       "      <td></td>\n",
       "      <td>C7</td>\n",
       "      <td>197 EAST 3RD   STREET</td>\n",
       "      <td>10009</td>\n",
       "      <td>...</td>\n",
       "      <td>2212.0</td>\n",
       "      <td>7803.0</td>\n",
       "      <td>1900</td>\n",
       "      <td>2</td>\n",
       "      <td>C7</td>\n",
       "      <td>NaN</td>\n",
       "      <td>4</td>\n",
       "      <td>9</td>\n",
       "      <td>12</td>\n",
       "      <td>2016</td>\n",
       "    </tr>\n",
       "    <tr>\n",
       "      <th>3</th>\n",
       "      <td>1</td>\n",
       "      <td>ALPHABET CITY</td>\n",
       "      <td>07 RENTALS - WALKUP APARTMENTS</td>\n",
       "      <td>2B</td>\n",
       "      <td>402</td>\n",
       "      <td>21</td>\n",
       "      <td></td>\n",
       "      <td>C4</td>\n",
       "      <td>154 EAST 7TH STREET</td>\n",
       "      <td>10009</td>\n",
       "      <td>...</td>\n",
       "      <td>2272.0</td>\n",
       "      <td>6794.0</td>\n",
       "      <td>1913</td>\n",
       "      <td>2</td>\n",
       "      <td>C4</td>\n",
       "      <td>3936272.0</td>\n",
       "      <td>4</td>\n",
       "      <td>23</td>\n",
       "      <td>9</td>\n",
       "      <td>2016</td>\n",
       "    </tr>\n",
       "    <tr>\n",
       "      <th>4</th>\n",
       "      <td>1</td>\n",
       "      <td>ALPHABET CITY</td>\n",
       "      <td>07 RENTALS - WALKUP APARTMENTS</td>\n",
       "      <td>2A</td>\n",
       "      <td>404</td>\n",
       "      <td>55</td>\n",
       "      <td></td>\n",
       "      <td>C2</td>\n",
       "      <td>301 EAST 10TH   STREET</td>\n",
       "      <td>10009</td>\n",
       "      <td>...</td>\n",
       "      <td>2369.0</td>\n",
       "      <td>4615.0</td>\n",
       "      <td>1900</td>\n",
       "      <td>2</td>\n",
       "      <td>C2</td>\n",
       "      <td>8000000.0</td>\n",
       "      <td>3</td>\n",
       "      <td>17</td>\n",
       "      <td>11</td>\n",
       "      <td>2016</td>\n",
       "    </tr>\n",
       "  </tbody>\n",
       "</table>\n",
       "<p>5 rows × 23 columns</p>\n",
       "</div>"
      ],
      "text/plain": [
       "  borough   neighborhood                      building_class_category  \\\n",
       "0       1  ALPHABET CITY  07 RENTALS - WALKUP APARTMENTS                \n",
       "1       1  ALPHABET CITY  07 RENTALS - WALKUP APARTMENTS                \n",
       "2       1  ALPHABET CITY  07 RENTALS - WALKUP APARTMENTS                \n",
       "3       1  ALPHABET CITY  07 RENTALS - WALKUP APARTMENTS                \n",
       "4       1  ALPHABET CITY  07 RENTALS - WALKUP APARTMENTS                \n",
       "\n",
       "  tax_class_at_present  block  lot ease-ment building_class_at_present  \\\n",
       "0                   2A    392    6                                  C2   \n",
       "1                    2    399   26                                  C7   \n",
       "2                    2    399   39                                  C7   \n",
       "3                   2B    402   21                                  C4   \n",
       "4                   2A    404   55                                  C2   \n",
       "\n",
       "                  address  zip_code  ...  land_square_feet  gross_square_feet  \\\n",
       "0            153 AVENUE B     10009  ...            1633.0             6440.0   \n",
       "1   234 EAST 4TH   STREET     10009  ...            4616.0            18690.0   \n",
       "2   197 EAST 3RD   STREET     10009  ...            2212.0             7803.0   \n",
       "3     154 EAST 7TH STREET     10009  ...            2272.0             6794.0   \n",
       "4  301 EAST 10TH   STREET     10009  ...            2369.0             4615.0   \n",
       "\n",
       "   year_built  tax_class_at_time_of_sale  building_class_at_time_of_sale  \\\n",
       "0        1900                          2                              C2   \n",
       "1        1900                          2                              C7   \n",
       "2        1900                          2                              C7   \n",
       "3        1913                          2                              C4   \n",
       "4        1900                          2                              C2   \n",
       "\n",
       "   sale_price weekday sale_day  sale_month  sale_year  \n",
       "0   6625000.0       2       19           7       2017  \n",
       "1         NaN       2       14          12       2016  \n",
       "2         NaN       4        9          12       2016  \n",
       "3   3936272.0       4       23           9       2016  \n",
       "4   8000000.0       3       17          11       2016  \n",
       "\n",
       "[5 rows x 23 columns]"
      ]
     },
     "execution_count": 21,
     "metadata": {},
     "output_type": "execute_result"
    }
   ],
   "source": [
    "df.head()"
   ]
  },
  {
   "cell_type": "code",
   "execution_count": 22,
   "metadata": {
    "colab": {},
    "colab_type": "code",
    "id": "Skjj992jBkSt"
   },
   "outputs": [],
   "source": [
    "# separating the tax_class_at_present column into number and letter columns for comparison with tax_class_at_time_of_sale (Boolean)\n",
    "df['tax_class_at_present'], df['tax_class_at_present_letter'] = df['tax_class_at_present'].str[0], df['tax_class_at_present'].str[1]\n",
    "df.loc[df['tax_class_at_present_letter'].isna(),'tax_class_at_present_letter'] = 0"
   ]
  },
  {
   "cell_type": "code",
   "execution_count": 23,
   "metadata": {
    "colab": {},
    "colab_type": "code",
    "id": "CoXPI8-ICaG3"
   },
   "outputs": [],
   "source": [
    "# setting blank tax_class_at_present values to the tax_class_at_time_of_sale\n",
    "# same for building_class columns\n",
    "# this makes an assumption, but a reasonable one, that they are the same if the present value is blank\n",
    "df.loc[df['tax_class_at_present']==\" \", 'tax_class_at_present'] = df.loc[df['tax_class_at_present']==\" \", 'tax_class_at_time_of_sale']\n",
    "df.loc[df['building_class_at_present']==\" \", \"building_class_at_present\"] = df.loc[df['building_class_at_present']==\" \", \"building_class_at_time_of_sale\"]"
   ]
  },
  {
   "cell_type": "code",
   "execution_count": null,
   "metadata": {
    "colab": {
     "base_uri": "https://localhost:8080/",
     "height": 85
    },
    "colab_type": "code",
    "id": "y74hFGGAI30V",
    "outputId": "2d3dc4aa-025e-4335-950f-4a0bfdbd9307"
   },
   "outputs": [
    {
     "name": "stdout",
     "output_type": "stream",
     "text": [
      "tax_class_at_present\n",
      "tax_class_at_time_of_sale\n",
      "building_class_at_present\n",
      "building_class_at_time_of_sale\n"
     ]
    }
   ],
   "source": [
    "for col in df[['tax_class_at_present','tax_class_at_time_of_sale','building_class_at_present','building_class_at_time_of_sale']]:\n",
    "    print(col)\n",
    "    df[col] = df[col].astype(str).str.strip()"
   ]
  },
  {
   "cell_type": "code",
   "execution_count": null,
   "metadata": {
    "colab": {},
    "colab_type": "code",
    "id": "uIlERzXWMD3x"
   },
   "outputs": [],
   "source": [
    "df.loc[(df['tax_class_at_present']!=df['tax_class_at_time_of_sale']) & (df['tax_class_at_present'].str.lower()==\"nan\"),\n",
    "       'tax_class_at_present'] = \\\n",
    "       df.loc[(df['tax_class_at_present']!=df['tax_class_at_time_of_sale']) & (df['tax_class_at_present'].str.lower()==\"nan\"),\n",
    "       'tax_class_at_time_of_sale']\n",
    "\n",
    "df.loc[(df['building_class_at_present']!=df['building_class_at_time_of_sale']) & (df['building_class_at_present'].str.lower()==\"nan\"),\n",
    "       'building_class_at_present'] = \\\n",
    "       df.loc[(df['building_class_at_present']!=df['building_class_at_time_of_sale']) & (df['building_class_at_present'].str.lower()==\"nan\"),\n",
    "       'building_class_at_time_of_sale']"
   ]
  },
  {
   "cell_type": "code",
   "execution_count": null,
   "metadata": {
    "colab": {},
    "colab_type": "code",
    "id": "9Wen_rUPS0Ys"
   },
   "outputs": [],
   "source": [
    "df['tax_class_stays_same'] = (df['tax_class_at_present']==df['tax_class_at_time_of_sale']).astype(\"int\")\n",
    "df['building_class_stays_same'] = (df['building_class_at_present']==df['building_class_at_time_of_sale']).astype(\"int\")"
   ]
  },
  {
   "cell_type": "code",
   "execution_count": null,
   "metadata": {
    "colab": {},
    "colab_type": "code",
    "id": "kF160XwPEJm7"
   },
   "outputs": [],
   "source": [
    "# have to get close with street addresses\n",
    "# an address searching algorithm would be best to normalize addresses and search for lat/long values\n",
    "df['address'] = df['address'].str.split(\",\",n=1,expand=True)[0].str.split(\" \",n=1,expand=True)[1]"
   ]
  },
  {
   "cell_type": "code",
   "execution_count": null,
   "metadata": {
    "colab": {
     "base_uri": "https://localhost:8080/",
     "height": 170
    },
    "colab_type": "code",
    "id": "JUFL_Hcy9MOd",
    "outputId": "9b4cb0b3-9597-4d8c-db1b-e6b9ccd9657c"
   },
   "outputs": [
    {
     "data": {
      "text/plain": [
       "Index(['borough', 'neighborhood', 'building_class_category',\n",
       "       'tax_class_at_present', 'block', 'lot', 'ease-ment',\n",
       "       'building_class_at_present', 'address', 'zip_code', 'residential_units',\n",
       "       'commercial_units', 'total_units', 'land_square_feet',\n",
       "       'gross_square_feet', 'year_built', 'tax_class_at_time_of_sale',\n",
       "       'building_class_at_time_of_sale', 'sale_price', 'weekday', 'sale_day',\n",
       "       'sale_month', 'sale_year', 'tax_class_at_present_letter',\n",
       "       'tax_class_stays_same', 'building_class_stays_same'],\n",
       "      dtype='object')"
      ]
     },
     "execution_count": 28,
     "metadata": {},
     "output_type": "execute_result"
    }
   ],
   "source": [
    "df.columns"
   ]
  },
  {
   "cell_type": "code",
   "execution_count": null,
   "metadata": {
    "colab": {
     "base_uri": "https://localhost:8080/",
     "height": 51
    },
    "colab_type": "code",
    "id": "qc9NFF3jniq_",
    "outputId": "98c2ce93-0c26-491f-977b-fb29ed281130"
   },
   "outputs": [
    {
     "name": "stdout",
     "output_type": "stream",
     "text": [
      "Percentage of original data left: 65.1%\n",
      "New Dataset Shape: (54579, 26)\n"
     ]
    }
   ],
   "source": [
    "orig_data_length = len(df)\n",
    "df = df[(df['sale_price'] > 100000) & (df['sale_price'] < 5000000)]\n",
    "# df = df[df['gross_square_feet'] < 10000]\n",
    "# df = df[df['land_square_feet'] < 10000]\n",
    "# df = df[(df['total_units'] > 0) & (df['total_units'] != 2261)]\n",
    "print(\"Percentage of original data left:\",str(round((len(df)/orig_data_length)*100,1))+\"%\")\n",
    "print(\"New Dataset Shape:\",df.shape)"
   ]
  },
  {
   "cell_type": "code",
   "execution_count": null,
   "metadata": {
    "colab": {
     "base_uri": "https://localhost:8080/",
     "height": 51
    },
    "colab_type": "code",
    "id": "mTbh5KCdc2bC",
    "outputId": "7dbc5611-97b8-4881-db2d-93c0567efbb1"
   },
   "outputs": [
    {
     "name": "stdout",
     "output_type": "stream",
     "text": [
      "Skewness: 2.344063\n",
      "Kurtosis: 6.358450\n"
     ]
    }
   ],
   "source": [
    "print(\"Skewness: %f\" % df['sale_price'].skew())\n",
    "print(\"Kurtosis: %f\" % df['sale_price'].kurt())"
   ]
  },
  {
   "cell_type": "code",
   "execution_count": null,
   "metadata": {
    "colab": {
     "base_uri": "https://localhost:8080/",
     "height": 296
    },
    "colab_type": "code",
    "id": "8EAJIIR3c980",
    "outputId": "c20a5125-8599-422e-8f03-582472332826"
   },
   "outputs": [
    {
     "data": {
      "image/png": "[encoded data removed]",
      "text/plain": [
       "<Figure size 432x288 with 1 Axes>"
      ]
     },
     "metadata": {},
     "output_type": "display_data"
    }
   ],
   "source": [
    "sns.distplot(df['sale_price'],fit=norm)\n",
    "plt.show()"
   ]
  },
  {
   "cell_type": "code",
   "execution_count": null,
   "metadata": {
    "colab": {
     "base_uri": "https://localhost:8080/",
     "height": 301
    },
    "colab_type": "code",
    "id": "nyKJZG1KdAnf",
    "outputId": "a59355cb-3acc-492e-d8e6-3ceae884b187"
   },
   "outputs": [
    {
     "data": {
      "image/png": "[encoded data removed]",
      "text/plain": [
       "<Figure size 432x288 with 1 Axes>"
      ]
     },
     "metadata": {},
     "output_type": "display_data"
    }
   ],
   "source": [
    "stats.probplot(df['sale_price'], plot=plt)\n",
    "plt.show()"
   ]
  },
  {
   "cell_type": "code",
   "execution_count": null,
   "metadata": {
    "colab": {
     "base_uri": "https://localhost:8080/",
     "height": 285
    },
    "colab_type": "code",
    "id": "Gw4ThIPkdC3f",
    "outputId": "c6ccf1d8-0fed-4046-afd2-6ccd873f823f"
   },
   "outputs": [
    {
     "data": {
      "image/png": "[encoded data removed]",
      "text/plain": [
       "<Figure size 432x288 with 1 Axes>"
      ]
     },
     "metadata": {},
     "output_type": "display_data"
    }
   ],
   "source": [
    "sns.distplot(df['sale_price'].apply(np.log),fit=norm)\n",
    "plt.show()"
   ]
  },
  {
   "cell_type": "code",
   "execution_count": null,
   "metadata": {
    "colab": {
     "base_uri": "https://localhost:8080/",
     "height": 301
    },
    "colab_type": "code",
    "id": "9KmpTPaOb1Yv",
    "outputId": "5ed39bb1-224c-44ab-801d-a1b04764fb93"
   },
   "outputs": [
    {
     "data": {
      "image/png": "[encoded data removed]",
      "text/plain": [
       "<Figure size 432x288 with 1 Axes>"
      ]
     },
     "metadata": {},
     "output_type": "display_data"
    }
   ],
   "source": [
    "stats.probplot(df['sale_price'].apply(np.log),plot=plt)\n",
    "plt.show()"
   ]
  },
  {
   "cell_type": "markdown",
   "metadata": {
    "colab_type": "text",
    "id": "6uDYgIpD8mG2"
   },
   "source": [
    "The following algorithm is my **LOVELY** way of searching and comparing:\n",
    "*  \\# of outliers when log-transformed\n",
    "*  \\# of outliers without transformation\n",
    "\n",
    "The columns with less outliers when transformed are scaled and overwritten in the original dataframe."
   ]
  },
  {
   "cell_type": "code",
   "execution_count": null,
   "metadata": {
    "colab": {
     "base_uri": "https://localhost:8080/",
     "height": 765
    },
    "colab_type": "code",
    "id": "qZm6MO_5_Xup",
    "outputId": "82c548ed-e66e-4b05-b344-fc0b34a7b385"
   },
   "outputs": [
    {
     "name": "stdout",
     "output_type": "stream",
     "text": [
      "block\n",
      "outliers: 650\n",
      "log transformed outliers: 991\n",
      "\n",
      "lot\n",
      "outliers: 581\n",
      "log transformed outliers: 0\n",
      "\n",
      "zip_code\n",
      "outliers: 494\n",
      "log transformed outliers: 494\n",
      "\n",
      "residential_units\n",
      "outliers: 49\n",
      "log transformed outliers: 930\n",
      "\n",
      "commercial_units\n",
      "outliers: 5\n",
      "log transformed outliers: 444\n",
      "\n",
      "total_units\n",
      "outliers: 38\n",
      "log transformed outliers: 920\n",
      "\n",
      "land_square_feet\n",
      "outliers: 23\n",
      "log transformed outliers: 0\n",
      "\n",
      "gross_square_feet\n",
      "outliers: 44\n",
      "log transformed outliers: 0\n",
      "\n",
      "sale_price\n",
      "outliers: 1566\n",
      "log transformed outliers: 0\n",
      "\n",
      "tax_class_stays_same\n",
      "outliers: 13\n",
      "log transformed outliers: 13\n",
      "\n",
      "building_class_stays_same\n",
      "outliers: 114\n",
      "log transformed outliers: 114\n",
      "\n"
     ]
    }
   ],
   "source": [
    "for col in df.select_dtypes(include=[np.number]).drop(['year_built','weekday','sale_month','sale_day','sale_year'], axis=1):\n",
    "    outliers = np.where(\n",
    "        np.abs(\n",
    "            stats.zscore(\n",
    "                df[col]\n",
    "            )\n",
    "        ) > 3 )[0]\n",
    "    \n",
    "    log_transformed_outliers = np.where(\n",
    "        np.abs(\n",
    "            stats.zscore(\n",
    "                df[col].apply(\n",
    "                    lambda x: np.log(x) if (x != 0) & (x != np.nan) else 1e-100\n",
    "                )\n",
    "            )\n",
    "        ) > 3 )[0]\n",
    "    \n",
    "    print(df[col].name)\n",
    "    print(\"outliers:\",len(outliers))\n",
    "    print(\"log transformed outliers:\",len(log_transformed_outliers))\n",
    "    print()\n",
    "    if len(log_transformed_outliers) < len(outliers):\n",
    "      df[col] = df[col].apply(lambda x: np.log(x) if (x != 0) & (x != np.nan) else 1e-20)"
   ]
  },
  {
   "cell_type": "code",
   "execution_count": null,
   "metadata": {
    "colab": {
     "base_uri": "https://localhost:8080/",
     "height": 319
    },
    "colab_type": "code",
    "id": "qb_nVCkeFb3d",
    "outputId": "4e43e848-25ea-4e7f-edbc-bcaa15d9bd9b"
   },
   "outputs": [
    {
     "name": "stdout",
     "output_type": "stream",
     "text": [
      "0.198994620445416\n"
     ]
    },
    {
     "data": {
      "text/plain": [
       "<matplotlib.axes._subplots.AxesSubplot at 0x259e2cdb9e8>"
      ]
     },
     "execution_count": 36,
     "metadata": {},
     "output_type": "execute_result"
    },
    {
     "data": {
      "image/png": "[encoded data removed]",
      "text/plain": [
       "<Figure size 432x288 with 1 Axes>"
      ]
     },
     "metadata": {},
     "output_type": "display_data"
    }
   ],
   "source": [
    "sales=df['sale_price']\n",
    "print(sales.skew())\n",
    "sns.distplot(sales)"
   ]
  },
  {
   "cell_type": "code",
   "execution_count": null,
   "metadata": {
    "colab": {
     "base_uri": "https://localhost:8080/",
     "height": 137
    },
    "colab_type": "code",
    "id": "_Xhp7B1VlRSl",
    "outputId": "15f7bb67-3381-452e-b426-8d8820251fba"
   },
   "outputs": [
    {
     "data": {
      "text/plain": [
       "'<table border=\"1\" class=\"dataframe\">\\n  <thead>\\n    <tr style=\"text-align: right;\">\\n      <th></th>\\n      <th>sale_price</th>\\n    </tr>\\n  </thead>\\n  <tbody>\\n    <tr>\\n      <th>sale_price</th>\\n      <td>1.000000</td>\\n    </tr>\\n    <tr>\\n      <th>lot</th>\\n      <td>0.212401</td>\\n    </tr>\\n    <tr>\\n      <th>gross_square_feet</th>\\n      <td>0.131576</td>\\n    </tr>\\n    <tr>\\n      <th>land_square_feet</th>\\n      <td>0.101083</td>\\n    </tr>\\n    <tr>\\n      <th>sale_year</th>\\n      <td>0.044312</td>\\n    </tr>\\n    <tr>\\n      <th>residential_units</th>\\n      <td>0.027976</td>\\n    </tr>\\n    <tr>\\n      <th>total_units</th>\\n      <td>0.020053</td>\\n    </tr>\\n    <tr>\\n      <th>commercial_units</th>\\n      <td>0.001248</td>\\n    </tr>\\n    <tr>\\n      <th>sale_day</th>\\n      <td>-0.003934</td>\\n    </tr>\\n    <tr>\\n      <th>building_class_stays_same</th>\\n      <td>-0.006486</td>\\n    </tr>\\n    <tr>\\n      <th>weekday</th>\\n      <td>-0.010414</td>\\n    </tr>\\n    <tr>\\n      <th>tax_class_stays_same</th>\\n      <td>-0.013895</td>\\n    </tr>\\n    <tr>\\n      <th>sale_month</th>\\n      <td>-0.017177</td>\\n    </tr>\\n    <tr>\\n      <th>year_built</th>\\n      <td>-0.053473</td>\\n    </tr>\\n    <tr>\\n      <th>zip_code</th>\\n      <td>-0.132604</td>\\n    </tr>\\n    <tr>\\n      <th>block</th>\\n      <td>-0.334861</td>\\n    </tr>\\n  </tbody>\\n</table>'"
      ]
     },
     "execution_count": 37,
     "metadata": {},
     "output_type": "execute_result"
    }
   ],
   "source": [
    "pd.DataFrame(df.corr()['sale_price'].sort_values(ascending=False)).to_html()"
   ]
  },
  {
   "cell_type": "code",
   "execution_count": null,
   "metadata": {
    "colab": {},
    "colab_type": "code",
    "id": "6u6_dXVG7YRA"
   },
   "outputs": [],
   "source": [
    "CATEGORICAL_COLUMNS = ['borough', \n",
    "                       'weekday', \n",
    "                       'sale_day',\n",
    "                       'sale_month', \n",
    "                       'sale_year', \n",
    "                       'tax_class_at_present_letter',\n",
    "                       'tax_class_stays_same',\n",
    "                       'building_class_stays_same',\n",
    "                       'tax_class_at_time_of_sale',\n",
    "                       'building_class_at_time_of_sale',\n",
    "                       'year_built',\n",
    "                       'neighborhood',\n",
    "                       'building_class_category',\n",
    "                       'tax_class_at_present',\n",
    "                       'block',\n",
    "                       'lot',\n",
    "                       'ease-ment',\n",
    "                       'building_class_at_present', \n",
    "                       'address',\n",
    "                       'zip_code']\n",
    "NUMERIC_COLUMNS = ['residential_units','commercial_units', 'total_units', 'land_square_feet','gross_square_feet']\n",
    "\n",
    "feature_columns = []\n",
    "for feature_name in CATEGORICAL_COLUMNS:\n",
    "  df[feature_name] = df[feature_name].astype('str')\n",
    "  vocabulary = df[feature_name].unique()  # gets a list of all unique values from given feature column\n",
    "  feature_columns.append(tf.feature_column.categorical_column_with_vocabulary_list(feature_name, vocabulary))\n",
    "\n",
    "for feature_name in NUMERIC_COLUMNS:\n",
    "  df[feature_name] = df[feature_name].astype('float64')\n",
    "  feature_columns.append(tf.feature_column.numeric_column(feature_name, dtype=tf.float64))"
   ]
  },
  {
   "cell_type": "code",
   "execution_count": null,
   "metadata": {
    "colab": {},
    "colab_type": "code",
    "id": "iHUUizOd3WVK"
   },
   "outputs": [],
   "source": [
    "dftrain, dfeval, y_train, y_eval = train_test_split(df,df.pop('sale_price'), test_size=0.25, random_state=42)"
   ]
  },
  {
   "cell_type": "code",
   "execution_count": null,
   "metadata": {
    "colab": {},
    "colab_type": "code",
    "id": "myOeW-NXCH9-"
   },
   "outputs": [],
   "source": [
    "def make_input_fn(data_df, label_df, num_epochs=10, shuffle=True, batch_size=32):\n",
    "  def input_function():  # inner function, this will be returned\n",
    "    ds = tf.data.Dataset.from_tensor_slices((dict(data_df), label_df))  # create tf.data.Dataset object with data and its label\n",
    "    if shuffle:\n",
    "      ds = ds.shuffle(1000)  # randomize order of data\n",
    "    ds = ds.batch(batch_size).repeat(num_epochs)  # split dataset into batches of 32 and repeat process for number of epochs\n",
    "    return ds  # return a batch of the dataset\n",
    "  return input_function  # return a function object for use\n",
    "\n",
    "train_input_fn = make_input_fn(dftrain, y_train)  # here we will call the input_function that was returned to us to get a dataset object we can feed to the model\n",
    "eval_input_fn = make_input_fn(dfeval, y_eval, num_epochs=1, shuffle=False)\n"
   ]
  },
  {
   "cell_type": "code",
   "execution_count": null,
   "metadata": {
    "colab": {
     "base_uri": "https://localhost:8080/",
     "height": 190
    },
    "colab_type": "code",
    "id": "eUQixf5tCxJ0",
    "outputId": "3835f75b-4726-4484-d9f2-1f4c2d1221fb"
   },
   "outputs": [
    {
     "name": "stdout",
     "output_type": "stream",
     "text": [
      "INFO:tensorflow:Using default config.\n",
      "WARNING:tensorflow:Using temporary folder as model directory: C:\\Users\\ryana\\AppData\\Local\\Temp\\tmpiqqecink\n",
      "INFO:tensorflow:Using config: {'_model_dir': 'C:\\\\Users\\\\ryana\\\\AppData\\\\Local\\\\Temp\\\\tmpiqqecink', '_tf_random_seed': None, '_save_summary_steps': 100, '_save_checkpoints_steps': None, '_save_checkpoints_secs': 600, '_session_config': allow_soft_placement: true\n",
      "graph_options {\n",
      "  rewrite_options {\n",
      "    meta_optimizer_iterations: ONE\n",
      "  }\n",
      "}\n",
      ", '_keep_checkpoint_max': 5, '_keep_checkpoint_every_n_hours': 10000, '_log_step_count_steps': 100, '_train_distribute': None, '_device_fn': None, '_protocol': None, '_eval_distribute': None, '_experimental_distribute': None, '_experimental_max_worker_delay_secs': None, '_session_creation_timeout_secs': 7200, '_service': None, '_cluster_spec': ClusterSpec({}), '_task_type': 'worker', '_task_id': 0, '_global_id_in_cluster': 0, '_master': '', '_evaluation_master': '', '_is_chief': True, '_num_ps_replicas': 0, '_num_worker_replicas': 1}\n"
     ]
    }
   ],
   "source": [
    "estimator = tf.estimator.BoostedTreesRegressor(n_batches_per_layer=32,feature_columns=feature_columns,learning_rate=0.05)"
   ]
  },
  {
   "cell_type": "code",
   "execution_count": null,
   "metadata": {
    "colab": {
     "base_uri": "https://localhost:8080/",
     "height": 1000
    },
    "colab_type": "code",
    "id": "bpNlA4FWHbBs",
    "outputId": "9a40a61d-804d-4566-999b-d2a06a392e72"
   },
   "outputs": [
    {
     "name": "stdout",
     "output_type": "stream",
     "text": [
      "WARNING:tensorflow:From c:\\users\\ryana\\appdata\\local\\programs\\python\\python37\\lib\\site-packages\\tensorflow\\python\\training\\training_util.py:236: Variable.initialized_value (from tensorflow.python.ops.variables) is deprecated and will be removed in a future version.\n",
      "Instructions for updating:\n",
      "Use Variable.read_value. Variables in 2.X are initialized automatically both in eager and graph (inside tf.defun) contexts.\n",
      "INFO:tensorflow:Calling model_fn.\n",
      "INFO:tensorflow:Done calling model_fn.\n",
      "INFO:tensorflow:Create CheckpointSaverHook.\n",
      "WARNING:tensorflow:Issue encountered when serializing resources.\n",
      "Type is unsupported, or the types of the items don't match field type in CollectionDef. Note this is a warning and probably safe to ignore.\n",
      "'_Resource' object has no attribute 'name'\n",
      "INFO:tensorflow:Graph was finalized.\n"
     ]
    }
   ],
   "source": [
    "estimator.train(train_input_fn)  # train\n",
    "result = estimator.evaluate(eval_input_fn)  # get model metrics/stats by evaluating testing data"
   ]
  },
  {
   "cell_type": "code",
   "execution_count": null,
   "metadata": {
    "colab": {},
    "colab_type": "code",
    "id": "LRfTndDDX-Du"
   },
   "outputs": [],
   "source": [
    "# RMSE\n",
    "def rmse(y_test,y_pred):\n",
    "      return np.sqrt(mean_squared_error(y_test,y_pred))"
   ]
  },
  {
   "cell_type": "code",
   "execution_count": null,
   "metadata": {
    "colab": {
     "base_uri": "https://localhost:8080/",
     "height": 119
    },
    "colab_type": "code",
    "id": "AImmHgKuF_bz",
    "outputId": "b8733c71-4b44-47e8-9e60-58f4c8dcb6a0"
   },
   "outputs": [],
   "source": [
    "pred_dicts = list(estimator.predict(eval_input_fn))\n",
    "\n",
    "preds = pd.Series([pred['predictions'][0] for pred in pred_dicts])\n",
    "\n",
    "actuals = y_eval.reset_index(drop=True)"
   ]
  },
  {
   "cell_type": "code",
   "execution_count": null,
   "metadata": {
    "colab": {
     "base_uri": "https://localhost:8080/",
     "height": 221
    },
    "colab_type": "code",
    "id": "mYmtjHaSyWUQ",
    "outputId": "4132900a-1b78-4ae4-e49e-7c4fab65d72d"
   },
   "outputs": [],
   "source": [
    "print(actuals.head())\n",
    "print(preds.head())"
   ]
  },
  {
   "cell_type": "markdown",
   "metadata": {
    "colab_type": "text",
    "id": "MdYZnp1aLcq9"
   },
   "source": [
    "## Keep in mind that these are the log-transformed values of sale_price. \n",
    "## If you want to compute the errors with non-transformed values, use the following equation: \n",
    "## $$error = 10e^{actual} - 10e^{prediction}$$ "
   ]
  },
  {
   "cell_type": "code",
   "execution_count": null,
   "metadata": {
    "colab": {
     "base_uri": "https://localhost:8080/",
     "height": 102
    },
    "colab_type": "code",
    "id": "Od_HtZbqGZA2",
    "outputId": "eca839a8-7bd8-41e0-9b91-0e5d10b23a36"
   },
   "outputs": [],
   "source": [
    "result"
   ]
  },
  {
   "cell_type": "code",
   "execution_count": null,
   "metadata": {
    "colab": {
     "base_uri": "https://localhost:8080/",
     "height": 438
    },
    "colab_type": "code",
    "id": "fbl36pepPLbC",
    "outputId": "4b4b506e-1466-4c0c-a895-8f562ed22518"
   },
   "outputs": [],
   "source": [
    "error = actuals - preds\n",
    "print(error.describe())\n",
    "plt.hist(error, bins = 50,range=(-2,2))\n",
    "plt.xlabel(\"Prediction Error\")\n",
    "_ = plt.ylabel(\"Count\")"
   ]
  },
  {
   "cell_type": "markdown",
   "metadata": {},
   "source": [
    "## The first thing we have to check is whether the residuals are biased or not. We know from elementary statistics that the mean value of the residuals is zero, so we can start checking with a Student’s t-test if it’s true or not for our holdout sample."
   ]
  },
  {
   "cell_type": "code",
   "execution_count": null,
   "metadata": {},
   "outputs": [],
   "source": [
    "_, p_val = stats.ttest_1samp(error)\n",
    "print(\"P-value of the residuals:\",p_val)"
   ]
  },
  {
   "cell_type": "markdown",
   "metadata": {},
   "source": [
    "## As we can see, the p-value is greater than 5%, so we cannot reject the null hypothesis and can say that the mean value of the holdout residuals is statistically similar to 0.\n",
    "## Then, we can test if the holdout residuals have the same average as the training ones. This is called Welch’s t-test."
   ]
  },
  {
   "cell_type": "code",
   "execution_count": null,
   "metadata": {
    "colab": {
     "base_uri": "https://localhost:8080/",
     "height": 301
    },
    "colab_type": "code",
    "id": "4cD7x0kPmirz",
    "outputId": "ce7bc525-9f59-4ddf-ae5a-d6641551670d"
   },
   "outputs": [],
   "source": [
    "fig, ax = plt.subplots(nrows= 1, ncols = 1)\n",
    "\n",
    "ax.scatter(x = actuals.apply(np.exp), y = preds.apply(np.exp))\n",
    "ax.set_aspect(\"equal\")\n",
    "ax.set_xlim(11,16)\n",
    "ax.set_ylim(11,16)\n",
    "z = np.polyfit(actuals.apply(np.exp), preds.apply(np.exp), 1)\n",
    "p = np.poly1d(z)\n",
    "ax.plot(actuals.apply(np.exp), p(actuals.apply(np.exp)),\"r--\")\n",
    "ax.set_title(\"Actual vs. Predicted values\")\n",
    "ax.set_xlabel(\"Actuals\")\n",
    "ax.set_ylabel(\"Predicted\")\n",
    "\n",
    "\n",
    "fig.show()"
   ]
  },
  {
   "cell_type": "code",
   "execution_count": null,
   "metadata": {
    "colab": {
     "base_uri": "https://localhost:8080/",
     "height": 51
    },
    "colab_type": "code",
    "id": "-ribccG-2OGy",
    "outputId": "36ce2084-cf3a-4af1-fd00-b80790d68b9f"
   },
   "outputs": [],
   "source": [
    "print('R^2 score: {}'.format(r2_score(actuals, preds)))\n",
    "\n",
    "print(\"Root Mean Squared Error: {}\".format(rmse(actuals, preds)))"
   ]
  },
  {
   "cell_type": "code",
   "execution_count": null,
   "metadata": {},
   "outputs": [],
   "source": [
    "_, p_val = stats.ttest_ind(actuals, preds, equal_var=False)\n",
    "print(\"The P-value of the two-sampled t-test:\",p_val)"
   ]
  },
  {
   "cell_type": "markdown",
   "metadata": {},
   "source": [
    "## Again, a p-value higher than 5% can make us tell that there aren’t enough reasons to assume that the mean values are different."
   ]
  },
  {
   "cell_type": "markdown",
   "metadata": {},
   "source": [
    "## F-test\n",
    "### After we have checked the mean value, there comes the variance. We obviously want that the holdout residuals show a behavior not so much different from the training residuals, so we can compare the variances of the two sets and check whether the holdout variance is higher than the training variance.\n",
    "### A good test to check if a variance is greater than another one is the F-test, but it only works with normally distributed residuals. If the distribution is not normal, the test might give wrong results.\n",
    "### So, if we really want to use this test, we must check the normality of the residuals using (for example) a Shapiro-Wilk test."
   ]
  },
  {
   "cell_type": "code",
   "execution_count": null,
   "metadata": {},
   "outputs": [],
   "source": [
    "_, p_val = stats.shapiro(actuals)\n",
    "print(\"The P-value of the Shapiro test for the training data is:\",p_val)\n",
    "_, p_val = stats.shapiro(preds)\n",
    "print(\"The P-value of the Shapiro test for the test data is:\",p_val)"
   ]
  },
  {
   "cell_type": "code",
   "execution_count": null,
   "metadata": {},
   "outputs": [],
   "source": [
    "F = np.var(actuals) / np.var(preds)\n",
    "p_value = scipy.stats.f.cdf(F, actuals, preds)\n",
    "print(\"The P-value of the F test for difference of variances is:\",p_val)"
   ]
  },
  {
   "cell_type": "markdown",
   "metadata": {},
   "source": [
    "## The p-value is 72%, which is greater than 5% and allows us to say that the two sets have the same variance."
   ]
  }
 ],
 "metadata": {
  "colab": {
   "authorship_tag": "ABX9TyNzTP8CCSMuJCD0IFKRVKHm",
   "collapsed_sections": [],
   "include_colab_link": true,
   "name": "NYC-Rolling-Sales.ipynb",
   "provenance": [],
   "toc_visible": true
  },
  "kernelspec": {
   "display_name": "Python 3",
   "language": "python",
   "name": "python3"
  },
  "language_info": {
   "codemirror_mode": {
    "name": "ipython",
    "version": 3
   },
   "file_extension": ".py",
   "mimetype": "text/x-python",
   "name": "python",
   "nbconvert_exporter": "python",
   "pygments_lexer": "ipython3",
   "version": "3.7.3"
  }
 },
 "nbformat": 4,
 "nbformat_minor": 4
}
