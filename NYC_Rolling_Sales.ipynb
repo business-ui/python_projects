{
  "nbformat": 4,
  "nbformat_minor": 0,
  "metadata": {
    "colab": {
      "name": "NYC-Rolling-Sales.ipynb",
      "provenance": [],
      "collapsed_sections": [],
      "toc_visible": true,
      "authorship_tag": "ABX9TyMoVP+OsGsZgLdz89Ape3W+",
      "include_colab_link": true
    },
    "kernelspec": {
      "name": "python3",
      "display_name": "Python 3"
    }
  },
  "cells": [
    {
      "cell_type": "markdown",
      "metadata": {
        "id": "view-in-github",
        "colab_type": "text"
      },
      "source": [
        "<a href=\"https://colab.research.google.com/github/business-ui/python_projects/blob/master/NYC_Rolling_Sales.ipynb\" target=\"_parent\"><img src=\"https://colab.research.google.com/assets/colab-badge.svg\" alt=\"Open In Colab\"/></a>"
      ]
    },
    {
      "cell_type": "code",
      "metadata": {
        "id": "NPxUVGDMvY1o",
        "colab_type": "code",
        "colab": {}
      },
      "source": [
        "%tensorflow_version 2.x"
      ],
      "execution_count": 1,
      "outputs": []
    },
    {
      "cell_type": "code",
      "metadata": {
        "id": "BzMb1x0EvjSk",
        "colab_type": "code",
        "colab": {
          "base_uri": "https://localhost:8080/",
          "height": 34
        },
        "outputId": "a752c6c0-e6ec-414e-fecf-71fbafb22845"
      },
      "source": [
        "import tensorflow as tf  # now import the tensorflow module\n",
        "print(tf.version)  # make sure the version is 2.x"
      ],
      "execution_count": 2,
      "outputs": [
        {
          "output_type": "stream",
          "text": [
            "<module 'tensorflow._api.v2.version' from '/usr/local/lib/python3.6/dist-packages/tensorflow/_api/v2/version/__init__.py'>\n"
          ],
          "name": "stdout"
        }
      ]
    },
    {
      "cell_type": "code",
      "metadata": {
        "id": "fqqIZlZwwIwK",
        "colab_type": "code",
        "colab": {
          "base_uri": "https://localhost:8080/",
          "height": 71
        },
        "outputId": "998373a4-a288-4efe-8cf4-ae1ebe3fe3e8"
      },
      "source": [
        "import pandas as pd\n",
        "import seaborn as sns\n",
        "import matplotlib.pyplot as plt\n",
        "import datetime\n",
        "import numpy as np\n",
        "from scipy import stats"
      ],
      "execution_count": 3,
      "outputs": [
        {
          "output_type": "stream",
          "text": [
            "/usr/local/lib/python3.6/dist-packages/statsmodels/tools/_testing.py:19: FutureWarning: pandas.util.testing is deprecated. Use the functions in the public API at pandas.testing instead.\n",
            "  import pandas.util.testing as tm\n"
          ],
          "name": "stderr"
        }
      ]
    },
    {
      "cell_type": "code",
      "metadata": {
        "id": "WZlCUZhz2uSM",
        "colab_type": "code",
        "colab": {}
      },
      "source": [
        "from sklearn.model_selection import train_test_split, cross_val_score"
      ],
      "execution_count": 4,
      "outputs": []
    },
    {
      "cell_type": "code",
      "metadata": {
        "id": "gCV73taVYpke",
        "colab_type": "code",
        "colab": {}
      },
      "source": [
        "from sklearn.metrics import mean_squared_error, r2_score"
      ],
      "execution_count": 5,
      "outputs": []
    },
    {
      "cell_type": "code",
      "metadata": {
        "id": "arA-fnlvvspV",
        "colab_type": "code",
        "colab": {}
      },
      "source": [
        "df = pd.read_csv(\"/content/nyc-rolling-sales.csv\", parse_dates=True)"
      ],
      "execution_count": 6,
      "outputs": []
    },
    {
      "cell_type": "code",
      "metadata": {
        "id": "5GBwCpgwwTGl",
        "colab_type": "code",
        "colab": {
          "base_uri": "https://localhost:8080/",
          "height": 547
        },
        "outputId": "5e380d57-9b34-4c6c-ef79-516fc08e4b38"
      },
      "source": [
        "df.head()"
      ],
      "execution_count": 7,
      "outputs": [
        {
          "output_type": "execute_result",
          "data": {
            "text/html": [
              "<div>\n",
              "<style scoped>\n",
              "    .dataframe tbody tr th:only-of-type {\n",
              "        vertical-align: middle;\n",
              "    }\n",
              "\n",
              "    .dataframe tbody tr th {\n",
              "        vertical-align: top;\n",
              "    }\n",
              "\n",
              "    .dataframe thead th {\n",
              "        text-align: right;\n",
              "    }\n",
              "</style>\n",
              "<table border=\"1\" class=\"dataframe\">\n",
              "  <thead>\n",
              "    <tr style=\"text-align: right;\">\n",
              "      <th></th>\n",
              "      <th>Unnamed: 0</th>\n",
              "      <th>BOROUGH</th>\n",
              "      <th>NEIGHBORHOOD</th>\n",
              "      <th>BUILDING CLASS CATEGORY</th>\n",
              "      <th>TAX CLASS AT PRESENT</th>\n",
              "      <th>BLOCK</th>\n",
              "      <th>LOT</th>\n",
              "      <th>EASE-MENT</th>\n",
              "      <th>BUILDING CLASS AT PRESENT</th>\n",
              "      <th>ADDRESS</th>\n",
              "      <th>APARTMENT NUMBER</th>\n",
              "      <th>ZIP CODE</th>\n",
              "      <th>RESIDENTIAL UNITS</th>\n",
              "      <th>COMMERCIAL UNITS</th>\n",
              "      <th>TOTAL UNITS</th>\n",
              "      <th>LAND SQUARE FEET</th>\n",
              "      <th>GROSS SQUARE FEET</th>\n",
              "      <th>YEAR BUILT</th>\n",
              "      <th>TAX CLASS AT TIME OF SALE</th>\n",
              "      <th>BUILDING CLASS AT TIME OF SALE</th>\n",
              "      <th>SALE PRICE</th>\n",
              "      <th>SALE DATE</th>\n",
              "    </tr>\n",
              "  </thead>\n",
              "  <tbody>\n",
              "    <tr>\n",
              "      <th>0</th>\n",
              "      <td>4</td>\n",
              "      <td>1</td>\n",
              "      <td>ALPHABET CITY</td>\n",
              "      <td>07 RENTALS - WALKUP APARTMENTS</td>\n",
              "      <td>2A</td>\n",
              "      <td>392</td>\n",
              "      <td>6</td>\n",
              "      <td></td>\n",
              "      <td>C2</td>\n",
              "      <td>153 AVENUE B</td>\n",
              "      <td></td>\n",
              "      <td>10009</td>\n",
              "      <td>5</td>\n",
              "      <td>0</td>\n",
              "      <td>5</td>\n",
              "      <td>1633</td>\n",
              "      <td>6440</td>\n",
              "      <td>1900</td>\n",
              "      <td>2</td>\n",
              "      <td>C2</td>\n",
              "      <td>6625000</td>\n",
              "      <td>2017-07-19 00:00:00</td>\n",
              "    </tr>\n",
              "    <tr>\n",
              "      <th>1</th>\n",
              "      <td>5</td>\n",
              "      <td>1</td>\n",
              "      <td>ALPHABET CITY</td>\n",
              "      <td>07 RENTALS - WALKUP APARTMENTS</td>\n",
              "      <td>2</td>\n",
              "      <td>399</td>\n",
              "      <td>26</td>\n",
              "      <td></td>\n",
              "      <td>C7</td>\n",
              "      <td>234 EAST 4TH   STREET</td>\n",
              "      <td></td>\n",
              "      <td>10009</td>\n",
              "      <td>28</td>\n",
              "      <td>3</td>\n",
              "      <td>31</td>\n",
              "      <td>4616</td>\n",
              "      <td>18690</td>\n",
              "      <td>1900</td>\n",
              "      <td>2</td>\n",
              "      <td>C7</td>\n",
              "      <td>-</td>\n",
              "      <td>2016-12-14 00:00:00</td>\n",
              "    </tr>\n",
              "    <tr>\n",
              "      <th>2</th>\n",
              "      <td>6</td>\n",
              "      <td>1</td>\n",
              "      <td>ALPHABET CITY</td>\n",
              "      <td>07 RENTALS - WALKUP APARTMENTS</td>\n",
              "      <td>2</td>\n",
              "      <td>399</td>\n",
              "      <td>39</td>\n",
              "      <td></td>\n",
              "      <td>C7</td>\n",
              "      <td>197 EAST 3RD   STREET</td>\n",
              "      <td></td>\n",
              "      <td>10009</td>\n",
              "      <td>16</td>\n",
              "      <td>1</td>\n",
              "      <td>17</td>\n",
              "      <td>2212</td>\n",
              "      <td>7803</td>\n",
              "      <td>1900</td>\n",
              "      <td>2</td>\n",
              "      <td>C7</td>\n",
              "      <td>-</td>\n",
              "      <td>2016-12-09 00:00:00</td>\n",
              "    </tr>\n",
              "    <tr>\n",
              "      <th>3</th>\n",
              "      <td>7</td>\n",
              "      <td>1</td>\n",
              "      <td>ALPHABET CITY</td>\n",
              "      <td>07 RENTALS - WALKUP APARTMENTS</td>\n",
              "      <td>2B</td>\n",
              "      <td>402</td>\n",
              "      <td>21</td>\n",
              "      <td></td>\n",
              "      <td>C4</td>\n",
              "      <td>154 EAST 7TH STREET</td>\n",
              "      <td></td>\n",
              "      <td>10009</td>\n",
              "      <td>10</td>\n",
              "      <td>0</td>\n",
              "      <td>10</td>\n",
              "      <td>2272</td>\n",
              "      <td>6794</td>\n",
              "      <td>1913</td>\n",
              "      <td>2</td>\n",
              "      <td>C4</td>\n",
              "      <td>3936272</td>\n",
              "      <td>2016-09-23 00:00:00</td>\n",
              "    </tr>\n",
              "    <tr>\n",
              "      <th>4</th>\n",
              "      <td>8</td>\n",
              "      <td>1</td>\n",
              "      <td>ALPHABET CITY</td>\n",
              "      <td>07 RENTALS - WALKUP APARTMENTS</td>\n",
              "      <td>2A</td>\n",
              "      <td>404</td>\n",
              "      <td>55</td>\n",
              "      <td></td>\n",
              "      <td>C2</td>\n",
              "      <td>301 EAST 10TH   STREET</td>\n",
              "      <td></td>\n",
              "      <td>10009</td>\n",
              "      <td>6</td>\n",
              "      <td>0</td>\n",
              "      <td>6</td>\n",
              "      <td>2369</td>\n",
              "      <td>4615</td>\n",
              "      <td>1900</td>\n",
              "      <td>2</td>\n",
              "      <td>C2</td>\n",
              "      <td>8000000</td>\n",
              "      <td>2016-11-17 00:00:00</td>\n",
              "    </tr>\n",
              "  </tbody>\n",
              "</table>\n",
              "</div>"
            ],
            "text/plain": [
              "   Unnamed: 0  BOROUGH  ... SALE PRICE            SALE DATE\n",
              "0           4        1  ...    6625000  2017-07-19 00:00:00\n",
              "1           5        1  ...        -    2016-12-14 00:00:00\n",
              "2           6        1  ...        -    2016-12-09 00:00:00\n",
              "3           7        1  ...    3936272  2016-09-23 00:00:00\n",
              "4           8        1  ...    8000000  2016-11-17 00:00:00\n",
              "\n",
              "[5 rows x 22 columns]"
            ]
          },
          "metadata": {
            "tags": []
          },
          "execution_count": 7
        }
      ]
    },
    {
      "cell_type": "code",
      "metadata": {
        "id": "s5B3XEGkwUIv",
        "colab_type": "code",
        "colab": {
          "base_uri": "https://localhost:8080/",
          "height": 153
        },
        "outputId": "63900373-7980-4933-dbb3-9ca7fbed7df7"
      },
      "source": [
        "df.columns"
      ],
      "execution_count": 8,
      "outputs": [
        {
          "output_type": "execute_result",
          "data": {
            "text/plain": [
              "Index(['Unnamed: 0', 'BOROUGH', 'NEIGHBORHOOD', 'BUILDING CLASS CATEGORY',\n",
              "       'TAX CLASS AT PRESENT', 'BLOCK', 'LOT', 'EASE-MENT',\n",
              "       'BUILDING CLASS AT PRESENT', 'ADDRESS', 'APARTMENT NUMBER', 'ZIP CODE',\n",
              "       'RESIDENTIAL UNITS', 'COMMERCIAL UNITS', 'TOTAL UNITS',\n",
              "       'LAND SQUARE FEET', 'GROSS SQUARE FEET', 'YEAR BUILT',\n",
              "       'TAX CLASS AT TIME OF SALE', 'BUILDING CLASS AT TIME OF SALE',\n",
              "       'SALE PRICE', 'SALE DATE'],\n",
              "      dtype='object')"
            ]
          },
          "metadata": {
            "tags": []
          },
          "execution_count": 8
        }
      ]
    },
    {
      "cell_type": "code",
      "metadata": {
        "id": "7WVcLaNuwXZE",
        "colab_type": "code",
        "colab": {}
      },
      "source": [
        "del df['Unnamed: 0']\n",
        "del df['APARTMENT NUMBER']"
      ],
      "execution_count": 9,
      "outputs": []
    },
    {
      "cell_type": "code",
      "metadata": {
        "id": "JZQuz4fbyI_h",
        "colab_type": "code",
        "colab": {}
      },
      "source": [
        "df['SALE DATE'] = pd.to_datetime(df['SALE DATE'], infer_datetime_format=True)\n",
        "df['TAX CLASS AT TIME OF SALE'] = df['TAX CLASS AT TIME OF SALE'].astype('category')\n",
        "df['TAX CLASS AT PRESENT'] = df['TAX CLASS AT PRESENT'].astype('category')\n",
        "df['LAND SQUARE FEET'] = pd.to_numeric(df['LAND SQUARE FEET'], errors='coerce')\n",
        "df['GROSS SQUARE FEET']= pd.to_numeric(df['GROSS SQUARE FEET'], errors='coerce')\n",
        "df['SALE PRICE'] = pd.to_numeric(df['SALE PRICE'], errors='coerce')\n",
        "df['BOROUGH'] = df['BOROUGH'].astype('category')"
      ],
      "execution_count": 10,
      "outputs": []
    },
    {
      "cell_type": "code",
      "metadata": {
        "id": "ihc-gv7pwaF2",
        "colab_type": "code",
        "colab": {}
      },
      "source": [
        "df.columns = df.columns.str.replace(\" \",\"_\").str.lower()"
      ],
      "execution_count": 11,
      "outputs": []
    },
    {
      "cell_type": "code",
      "metadata": {
        "id": "LbnFC5vGxqfX",
        "colab_type": "code",
        "colab": {
          "base_uri": "https://localhost:8080/",
          "height": 374
        },
        "outputId": "860866a8-0449-4618-c8b5-85122f67b113"
      },
      "source": [
        "df.dtypes"
      ],
      "execution_count": 12,
      "outputs": [
        {
          "output_type": "execute_result",
          "data": {
            "text/plain": [
              "borough                                 category\n",
              "neighborhood                              object\n",
              "building_class_category                   object\n",
              "tax_class_at_present                    category\n",
              "block                                      int64\n",
              "lot                                        int64\n",
              "ease-ment                                 object\n",
              "building_class_at_present                 object\n",
              "address                                   object\n",
              "zip_code                                   int64\n",
              "residential_units                          int64\n",
              "commercial_units                           int64\n",
              "total_units                                int64\n",
              "land_square_feet                         float64\n",
              "gross_square_feet                        float64\n",
              "year_built                                 int64\n",
              "tax_class_at_time_of_sale               category\n",
              "building_class_at_time_of_sale            object\n",
              "sale_price                               float64\n",
              "sale_date                         datetime64[ns]\n",
              "dtype: object"
            ]
          },
          "metadata": {
            "tags": []
          },
          "execution_count": 12
        }
      ]
    },
    {
      "cell_type": "code",
      "metadata": {
        "id": "ZP-jHkqYw2tK",
        "colab_type": "code",
        "colab": {}
      },
      "source": [
        "miss=df.isnull().sum()/len(df)\n",
        "miss=miss[miss>0]\n",
        "miss.sort_values(inplace=True)\n",
        "miss.columns=[\"name\",\"count\"]"
      ],
      "execution_count": 13,
      "outputs": []
    },
    {
      "cell_type": "code",
      "metadata": {
        "id": "Cu_a8S1MxTiF",
        "colab_type": "code",
        "colab": {
          "base_uri": "https://localhost:8080/",
          "height": 375
        },
        "outputId": "d078394a-5359-4a08-dfa5-20a9a491e99d"
      },
      "source": [
        "sns.set(style='whitegrid',color_codes=True)\n",
        "sns.barplot(x=miss.index, y=miss.values)\n",
        "plt.xticks(rotation=90)\n",
        "sns"
      ],
      "execution_count": 14,
      "outputs": [
        {
          "output_type": "execute_result",
          "data": {
            "text/plain": [
              "<module 'seaborn' from '/usr/local/lib/python3.6/dist-packages/seaborn/__init__.py'>"
            ]
          },
          "metadata": {
            "tags": []
          },
          "execution_count": 14
        },
        {
          "output_type": "display_data",
          "data": {
            "image/png": "[encoded data removed]",
            "text/plain": [
              "<Figure size 432x288 with 1 Axes>"
            ]
          },
          "metadata": {
            "tags": []
          }
        }
      ]
    },
    {
      "cell_type": "code",
      "metadata": {
        "id": "9m9mOaQVx8yL",
        "colab_type": "code",
        "colab": {}
      },
      "source": [
        "# let's fill these missing values up with mean values.\n",
        "df['land_square_feet']=df['land_square_feet'].fillna(df['land_square_feet'].mean())\n",
        "df['gross_square_feet']=df['gross_square_feet'].fillna(df['gross_square_feet'].mean())"
      ],
      "execution_count": 15,
      "outputs": []
    },
    {
      "cell_type": "code",
      "metadata": {
        "id": "osuqghBp4nol",
        "colab_type": "code",
        "colab": {}
      },
      "source": [
        "# I want to add the weekday and month features to the dataset. January sales can differ from July sales.\n",
        "df['weekday'] = df['sale_date'].apply(lambda x: datetime.datetime.weekday(x))\n",
        "df['sale_day'] = pd.DatetimeIndex(df['sale_date']).day\n",
        "df['sale_month'] = pd.DatetimeIndex(df['sale_date']).month\n",
        "df['sale_year'] = pd.DatetimeIndex(df['sale_date']).year\n",
        "del df['sale_date']"
      ],
      "execution_count": 16,
      "outputs": []
    },
    {
      "cell_type": "code",
      "metadata": {
        "id": "gqYUtgEE24Nr",
        "colab_type": "code",
        "colab": {
          "base_uri": "https://localhost:8080/",
          "height": 960
        },
        "outputId": "95878ea6-cf18-415d-fbbc-22182786c9e4"
      },
      "source": [
        "fig, ax = plt.subplots(figsize=(15,15))\n",
        "sns.heatmap(df.corr(),annot=True,cmap=\"Spectral_r\", ax=ax)\n",
        "plt.show()"
      ],
      "execution_count": 17,
      "outputs": [
        {
          "output_type": "display_data",
          "data": {
            "image/png": "[encoded data removed]",
            "text/plain": [
              "<Figure size 1080x1080 with 2 Axes>"
            ]
          },
          "metadata": {
            "tags": []
          }
        }
      ]
    },
    {
      "cell_type": "code",
      "metadata": {
        "id": "_FSwiIhw3QAi",
        "colab_type": "code",
        "colab": {
          "base_uri": "https://localhost:8080/",
          "height": 272
        },
        "outputId": "01e9ec0d-6492-459e-843f-b3532a509d8b"
      },
      "source": [
        "# For a numeric representation of correlation with sale_price\n",
        "df.corr()['sale_price'].sort_values(ascending=False)"
      ],
      "execution_count": 18,
      "outputs": [
        {
          "output_type": "execute_result",
          "data": {
            "text/plain": [
              "sale_price           1.000000\n",
              "gross_square_feet    0.444508\n",
              "total_units          0.125101\n",
              "residential_units    0.119698\n",
              "land_square_feet     0.059079\n",
              "commercial_units     0.046006\n",
              "lot                  0.012324\n",
              "weekday              0.004376\n",
              "sale_month           0.003461\n",
              "sale_year           -0.002167\n",
              "year_built          -0.003539\n",
              "sale_day            -0.005103\n",
              "zip_code            -0.034170\n",
              "block               -0.061139\n",
              "Name: sale_price, dtype: float64"
            ]
          },
          "metadata": {
            "tags": []
          },
          "execution_count": 18
        }
      ]
    },
    {
      "cell_type": "code",
      "metadata": {
        "id": "y1QkkK6s4d1Y",
        "colab_type": "code",
        "colab": {
          "base_uri": "https://localhost:8080/",
          "height": 479
        },
        "outputId": "5ec691cc-9a0a-426e-ecae-36f1a9570230"
      },
      "source": [
        "df.head()"
      ],
      "execution_count": 19,
      "outputs": [
        {
          "output_type": "execute_result",
          "data": {
            "text/html": [
              "<div>\n",
              "<style scoped>\n",
              "    .dataframe tbody tr th:only-of-type {\n",
              "        vertical-align: middle;\n",
              "    }\n",
              "\n",
              "    .dataframe tbody tr th {\n",
              "        vertical-align: top;\n",
              "    }\n",
              "\n",
              "    .dataframe thead th {\n",
              "        text-align: right;\n",
              "    }\n",
              "</style>\n",
              "<table border=\"1\" class=\"dataframe\">\n",
              "  <thead>\n",
              "    <tr style=\"text-align: right;\">\n",
              "      <th></th>\n",
              "      <th>borough</th>\n",
              "      <th>neighborhood</th>\n",
              "      <th>building_class_category</th>\n",
              "      <th>tax_class_at_present</th>\n",
              "      <th>block</th>\n",
              "      <th>lot</th>\n",
              "      <th>ease-ment</th>\n",
              "      <th>building_class_at_present</th>\n",
              "      <th>address</th>\n",
              "      <th>zip_code</th>\n",
              "      <th>residential_units</th>\n",
              "      <th>commercial_units</th>\n",
              "      <th>total_units</th>\n",
              "      <th>land_square_feet</th>\n",
              "      <th>gross_square_feet</th>\n",
              "      <th>year_built</th>\n",
              "      <th>tax_class_at_time_of_sale</th>\n",
              "      <th>building_class_at_time_of_sale</th>\n",
              "      <th>sale_price</th>\n",
              "      <th>weekday</th>\n",
              "      <th>sale_day</th>\n",
              "      <th>sale_month</th>\n",
              "      <th>sale_year</th>\n",
              "    </tr>\n",
              "  </thead>\n",
              "  <tbody>\n",
              "    <tr>\n",
              "      <th>0</th>\n",
              "      <td>1</td>\n",
              "      <td>ALPHABET CITY</td>\n",
              "      <td>07 RENTALS - WALKUP APARTMENTS</td>\n",
              "      <td>2A</td>\n",
              "      <td>392</td>\n",
              "      <td>6</td>\n",
              "      <td></td>\n",
              "      <td>C2</td>\n",
              "      <td>153 AVENUE B</td>\n",
              "      <td>10009</td>\n",
              "      <td>5</td>\n",
              "      <td>0</td>\n",
              "      <td>5</td>\n",
              "      <td>1633.0</td>\n",
              "      <td>6440.0</td>\n",
              "      <td>1900</td>\n",
              "      <td>2</td>\n",
              "      <td>C2</td>\n",
              "      <td>6625000.0</td>\n",
              "      <td>2</td>\n",
              "      <td>19</td>\n",
              "      <td>7</td>\n",
              "      <td>2017</td>\n",
              "    </tr>\n",
              "    <tr>\n",
              "      <th>1</th>\n",
              "      <td>1</td>\n",
              "      <td>ALPHABET CITY</td>\n",
              "      <td>07 RENTALS - WALKUP APARTMENTS</td>\n",
              "      <td>2</td>\n",
              "      <td>399</td>\n",
              "      <td>26</td>\n",
              "      <td></td>\n",
              "      <td>C7</td>\n",
              "      <td>234 EAST 4TH   STREET</td>\n",
              "      <td>10009</td>\n",
              "      <td>28</td>\n",
              "      <td>3</td>\n",
              "      <td>31</td>\n",
              "      <td>4616.0</td>\n",
              "      <td>18690.0</td>\n",
              "      <td>1900</td>\n",
              "      <td>2</td>\n",
              "      <td>C7</td>\n",
              "      <td>NaN</td>\n",
              "      <td>2</td>\n",
              "      <td>14</td>\n",
              "      <td>12</td>\n",
              "      <td>2016</td>\n",
              "    </tr>\n",
              "    <tr>\n",
              "      <th>2</th>\n",
              "      <td>1</td>\n",
              "      <td>ALPHABET CITY</td>\n",
              "      <td>07 RENTALS - WALKUP APARTMENTS</td>\n",
              "      <td>2</td>\n",
              "      <td>399</td>\n",
              "      <td>39</td>\n",
              "      <td></td>\n",
              "      <td>C7</td>\n",
              "      <td>197 EAST 3RD   STREET</td>\n",
              "      <td>10009</td>\n",
              "      <td>16</td>\n",
              "      <td>1</td>\n",
              "      <td>17</td>\n",
              "      <td>2212.0</td>\n",
              "      <td>7803.0</td>\n",
              "      <td>1900</td>\n",
              "      <td>2</td>\n",
              "      <td>C7</td>\n",
              "      <td>NaN</td>\n",
              "      <td>4</td>\n",
              "      <td>9</td>\n",
              "      <td>12</td>\n",
              "      <td>2016</td>\n",
              "    </tr>\n",
              "    <tr>\n",
              "      <th>3</th>\n",
              "      <td>1</td>\n",
              "      <td>ALPHABET CITY</td>\n",
              "      <td>07 RENTALS - WALKUP APARTMENTS</td>\n",
              "      <td>2B</td>\n",
              "      <td>402</td>\n",
              "      <td>21</td>\n",
              "      <td></td>\n",
              "      <td>C4</td>\n",
              "      <td>154 EAST 7TH STREET</td>\n",
              "      <td>10009</td>\n",
              "      <td>10</td>\n",
              "      <td>0</td>\n",
              "      <td>10</td>\n",
              "      <td>2272.0</td>\n",
              "      <td>6794.0</td>\n",
              "      <td>1913</td>\n",
              "      <td>2</td>\n",
              "      <td>C4</td>\n",
              "      <td>3936272.0</td>\n",
              "      <td>4</td>\n",
              "      <td>23</td>\n",
              "      <td>9</td>\n",
              "      <td>2016</td>\n",
              "    </tr>\n",
              "    <tr>\n",
              "      <th>4</th>\n",
              "      <td>1</td>\n",
              "      <td>ALPHABET CITY</td>\n",
              "      <td>07 RENTALS - WALKUP APARTMENTS</td>\n",
              "      <td>2A</td>\n",
              "      <td>404</td>\n",
              "      <td>55</td>\n",
              "      <td></td>\n",
              "      <td>C2</td>\n",
              "      <td>301 EAST 10TH   STREET</td>\n",
              "      <td>10009</td>\n",
              "      <td>6</td>\n",
              "      <td>0</td>\n",
              "      <td>6</td>\n",
              "      <td>2369.0</td>\n",
              "      <td>4615.0</td>\n",
              "      <td>1900</td>\n",
              "      <td>2</td>\n",
              "      <td>C2</td>\n",
              "      <td>8000000.0</td>\n",
              "      <td>3</td>\n",
              "      <td>17</td>\n",
              "      <td>11</td>\n",
              "      <td>2016</td>\n",
              "    </tr>\n",
              "  </tbody>\n",
              "</table>\n",
              "</div>"
            ],
            "text/plain": [
              "  borough   neighborhood  ... sale_month sale_year\n",
              "0       1  ALPHABET CITY  ...          7      2017\n",
              "1       1  ALPHABET CITY  ...         12      2016\n",
              "2       1  ALPHABET CITY  ...         12      2016\n",
              "3       1  ALPHABET CITY  ...          9      2016\n",
              "4       1  ALPHABET CITY  ...         11      2016\n",
              "\n",
              "[5 rows x 23 columns]"
            ]
          },
          "metadata": {
            "tags": []
          },
          "execution_count": 19
        }
      ]
    },
    {
      "cell_type": "code",
      "metadata": {
        "id": "Skjj992jBkSt",
        "colab_type": "code",
        "colab": {
          "base_uri": "https://localhost:8080/",
          "height": 102
        },
        "outputId": "4e2dfb51-6caa-4a2e-9835-e800c7612bd3"
      },
      "source": [
        "# separating the tax_class_at_present column into number and letter columns for comparison with tax_class_at_time_of_sale (Boolean)\n",
        "df['tax_class_at_present'], df['tax_class_at_present_letter'] = df['tax_class_at_present'].str[0], df['tax_class_at_present'].str[1]\n",
        "df['tax_class_at_present_letter'].loc[df['tax_class_at_present_letter'].isna()] = 0"
      ],
      "execution_count": 20,
      "outputs": [
        {
          "output_type": "stream",
          "text": [
            "/usr/local/lib/python3.6/dist-packages/pandas/core/indexing.py:671: SettingWithCopyWarning: \n",
            "A value is trying to be set on a copy of a slice from a DataFrame\n",
            "\n",
            "See the caveats in the documentation: https://pandas.pydata.org/pandas-docs/stable/user_guide/indexing.html#returning-a-view-versus-a-copy\n",
            "  self._setitem_with_indexer(indexer, value)\n"
          ],
          "name": "stderr"
        }
      ]
    },
    {
      "cell_type": "code",
      "metadata": {
        "id": "CoXPI8-ICaG3",
        "colab_type": "code",
        "colab": {}
      },
      "source": [
        "# setting blank tax_class_at_present values to the tax_class_at_time_of_sale\n",
        "# same for building_class columns\n",
        "# this makes an assumption, but a reasonable one, that they are the same if the present value is blank\n",
        "df.loc[df['tax_class_at_present']==\" \", 'tax_class_at_present'] = df.loc[df['tax_class_at_present']==\" \", 'tax_class_at_time_of_sale']\n",
        "df.loc[df['building_class_at_present']==\" \", \"building_class_at_present\"] = df.loc[df['building_class_at_present']==\" \", \"building_class_at_time_of_sale\"]"
      ],
      "execution_count": 21,
      "outputs": []
    },
    {
      "cell_type": "code",
      "metadata": {
        "id": "y74hFGGAI30V",
        "colab_type": "code",
        "colab": {
          "base_uri": "https://localhost:8080/",
          "height": 85
        },
        "outputId": "41421859-ca14-4310-f73f-49f3d61dae07"
      },
      "source": [
        "for col in df[['tax_class_at_present','tax_class_at_time_of_sale','building_class_at_present','building_class_at_time_of_sale']]:\n",
        "    print(col)\n",
        "    df[col] = df[col].astype(str).str.strip()"
      ],
      "execution_count": 22,
      "outputs": [
        {
          "output_type": "stream",
          "text": [
            "tax_class_at_present\n",
            "tax_class_at_time_of_sale\n",
            "building_class_at_present\n",
            "building_class_at_time_of_sale\n"
          ],
          "name": "stdout"
        }
      ]
    },
    {
      "cell_type": "code",
      "metadata": {
        "id": "uIlERzXWMD3x",
        "colab_type": "code",
        "colab": {}
      },
      "source": [
        "df.loc[(df['tax_class_at_present']!=df['tax_class_at_time_of_sale']) & (df['tax_class_at_present'].str.lower()==\"nan\"),\n",
        "       'tax_class_at_present'] = \\\n",
        "       df.loc[(df['tax_class_at_present']!=df['tax_class_at_time_of_sale']) & (df['tax_class_at_present'].str.lower()==\"nan\"),\n",
        "       'tax_class_at_time_of_sale']\n",
        "\n",
        "df.loc[(df['building_class_at_present']!=df['building_class_at_time_of_sale']) & (df['building_class_at_present'].str.lower()==\"nan\"),\n",
        "       'building_class_at_present'] = \\\n",
        "       df.loc[(df['building_class_at_present']!=df['building_class_at_time_of_sale']) & (df['building_class_at_present'].str.lower()==\"nan\"),\n",
        "       'building_class_at_time_of_sale']"
      ],
      "execution_count": 23,
      "outputs": []
    },
    {
      "cell_type": "code",
      "metadata": {
        "id": "9Wen_rUPS0Ys",
        "colab_type": "code",
        "colab": {}
      },
      "source": [
        "df['tax_class_stays_same'] = (df['tax_class_at_present']==df['tax_class_at_time_of_sale']).astype(\"int\")\n",
        "df['building_class_stays_same'] = (df['building_class_at_present']==df['building_class_at_time_of_sale']).astype(\"int\")"
      ],
      "execution_count": 24,
      "outputs": []
    },
    {
      "cell_type": "code",
      "metadata": {
        "id": "kF160XwPEJm7",
        "colab_type": "code",
        "colab": {}
      },
      "source": [
        "# have to get close with street addresses\n",
        "# an address searching algorithm would be best to normalize addresses and search for lat/long values\n",
        "df['address'] = df['address'].str.split(\",\",n=1,expand=True)[0].str.split(\" \",n=1,expand=True)[1]"
      ],
      "execution_count": 25,
      "outputs": []
    },
    {
      "cell_type": "code",
      "metadata": {
        "id": "JUFL_Hcy9MOd",
        "colab_type": "code",
        "colab": {
          "base_uri": "https://localhost:8080/",
          "height": 170
        },
        "outputId": "d749e7d8-a656-4ea8-ef8e-0db22fc5faa2"
      },
      "source": [
        "df.columns"
      ],
      "execution_count": 26,
      "outputs": [
        {
          "output_type": "execute_result",
          "data": {
            "text/plain": [
              "Index(['borough', 'neighborhood', 'building_class_category',\n",
              "       'tax_class_at_present', 'block', 'lot', 'ease-ment',\n",
              "       'building_class_at_present', 'address', 'zip_code', 'residential_units',\n",
              "       'commercial_units', 'total_units', 'land_square_feet',\n",
              "       'gross_square_feet', 'year_built', 'tax_class_at_time_of_sale',\n",
              "       'building_class_at_time_of_sale', 'sale_price', 'weekday', 'sale_day',\n",
              "       'sale_month', 'sale_year', 'tax_class_at_present_letter',\n",
              "       'tax_class_stays_same', 'building_class_stays_same'],\n",
              "      dtype='object')"
            ]
          },
          "metadata": {
            "tags": []
          },
          "execution_count": 26
        }
      ]
    },
    {
      "cell_type": "code",
      "metadata": {
        "id": "qc9NFF3jniq_",
        "colab_type": "code",
        "colab": {
          "base_uri": "https://localhost:8080/",
          "height": 51
        },
        "outputId": "8aaf2daf-feaa-468d-8418-8b45fcaeae38"
      },
      "source": [
        "orig_data_length = len(df)\n",
        "df = df[(df['sale_price'] > 100000) & (df['sale_price'] < 5000000)]\n",
        "# df = df[df['gross_square_feet'] < 10000]\n",
        "# df = df[df['land_square_feet'] < 10000]\n",
        "# df = df[(df['total_units'] > 0) & (df['total_units'] != 2261)]\n",
        "print(\"Percentage of original data left:\",str(round((len(df)/orig_data_length)*100,1))+\"%\")\n",
        "print(\"New Dataset Shape:\",df.shape)"
      ],
      "execution_count": 27,
      "outputs": [
        {
          "output_type": "stream",
          "text": [
            "Percentage of original data left: 64.6%\n",
            "New Dataset Shape: (54657, 26)\n"
          ],
          "name": "stdout"
        }
      ]
    },
    {
      "cell_type": "markdown",
      "metadata": {
        "id": "6uDYgIpD8mG2",
        "colab_type": "text"
      },
      "source": [
        "The following algorithm is my **LOVELY** way of searching and comparing:\n",
        "*  \\# of outliers when log-transformed\n",
        "*  \\# of outliers without transformation\n",
        "\n",
        "The columns with less outliers when transformed are scaled and overwritten in the original dataframe."
      ]
    },
    {
      "cell_type": "code",
      "metadata": {
        "id": "qZm6MO_5_Xup",
        "colab_type": "code",
        "colab": {
          "base_uri": "https://localhost:8080/",
          "height": 765
        },
        "outputId": "3ae53e81-dbe0-44ad-d29b-6e491f1ae182"
      },
      "source": [
        "for col in df.select_dtypes(include=[np.number]).drop(['year_built','weekday','sale_month','sale_day','sale_year'], axis=1):\n",
        "    outliers = np.where(\n",
        "        np.abs(\n",
        "            stats.zscore(\n",
        "                df[col]\n",
        "            )\n",
        "        ) > 3 )[0]\n",
        "    \n",
        "    log_transformed_outliers = np.where(\n",
        "        np.abs(\n",
        "            stats.zscore(\n",
        "                df[col].apply(\n",
        "                    lambda x: np.log(x) if (x != 0) & (x != np.nan) else 1e-100\n",
        "                )\n",
        "            )\n",
        "        ) > 3 )[0]\n",
        "    \n",
        "    print(df[col].name)\n",
        "    print(\"outliers:\",len(outliers))\n",
        "    print(\"log transformed outliers:\",len(log_transformed_outliers))\n",
        "    print()\n",
        "    if len(log_transformed_outliers) < len(outliers):\n",
        "      df[col] = df[col].apply(lambda x: np.log(x) if (x != 0) & (x != np.nan) else 1e-20)"
      ],
      "execution_count": 28,
      "outputs": [
        {
          "output_type": "stream",
          "text": [
            "block\n",
            "outliers: 651\n",
            "log transformed outliers: 993\n",
            "\n",
            "lot\n",
            "outliers: 581\n",
            "log transformed outliers: 0\n",
            "\n",
            "zip_code\n",
            "outliers: 494\n",
            "log transformed outliers: 494\n",
            "\n",
            "residential_units\n",
            "outliers: 50\n",
            "log transformed outliers: 938\n",
            "\n",
            "commercial_units\n",
            "outliers: 5\n",
            "log transformed outliers: 453\n",
            "\n",
            "total_units\n",
            "outliers: 39\n",
            "log transformed outliers: 931\n",
            "\n",
            "land_square_feet\n",
            "outliers: 27\n",
            "log transformed outliers: 0\n",
            "\n",
            "gross_square_feet\n",
            "outliers: 50\n",
            "log transformed outliers: 0\n",
            "\n",
            "sale_price\n",
            "outliers: 1567\n",
            "log transformed outliers: 0\n",
            "\n",
            "tax_class_stays_same\n",
            "outliers: 13\n",
            "log transformed outliers: 13\n",
            "\n",
            "building_class_stays_same\n",
            "outliers: 114\n",
            "log transformed outliers: 114\n",
            "\n"
          ],
          "name": "stdout"
        }
      ]
    },
    {
      "cell_type": "code",
      "metadata": {
        "id": "qb_nVCkeFb3d",
        "colab_type": "code",
        "colab": {
          "base_uri": "https://localhost:8080/",
          "height": 319
        },
        "outputId": "c7487f46-52fd-4204-a412-badd99221f13"
      },
      "source": [
        "sales=df['sale_price']\n",
        "print(sales.skew())\n",
        "sns.distplot(sales)"
      ],
      "execution_count": 29,
      "outputs": [
        {
          "output_type": "stream",
          "text": [
            "0.1989281802313763\n"
          ],
          "name": "stdout"
        },
        {
          "output_type": "execute_result",
          "data": {
            "text/plain": [
              "<matplotlib.axes._subplots.AxesSubplot at 0x7f976ecad668>"
            ]
          },
          "metadata": {
            "tags": []
          },
          "execution_count": 29
        },
        {
          "output_type": "display_data",
          "data": {
            "image/png": "[encoded data removed]",
            "text/plain": [
              "<Figure size 432x288 with 1 Axes>"
            ]
          },
          "metadata": {
            "tags": []
          }
        }
      ]
    },
    {
      "cell_type": "code",
      "metadata": {
        "id": "_Xhp7B1VlRSl",
        "colab_type": "code",
        "colab": {
          "base_uri": "https://localhost:8080/",
          "height": 476
        },
        "outputId": "e68c2d75-155c-4d1e-d049-4cbdb6997eef"
      },
      "source": [
        "df.dtypes"
      ],
      "execution_count": 30,
      "outputs": [
        {
          "output_type": "execute_result",
          "data": {
            "text/plain": [
              "borough                           category\n",
              "neighborhood                        object\n",
              "building_class_category             object\n",
              "tax_class_at_present                object\n",
              "block                                int64\n",
              "lot                                float64\n",
              "ease-ment                           object\n",
              "building_class_at_present           object\n",
              "address                             object\n",
              "zip_code                             int64\n",
              "residential_units                    int64\n",
              "commercial_units                     int64\n",
              "total_units                          int64\n",
              "land_square_feet                   float64\n",
              "gross_square_feet                  float64\n",
              "year_built                           int64\n",
              "tax_class_at_time_of_sale           object\n",
              "building_class_at_time_of_sale      object\n",
              "sale_price                         float64\n",
              "weekday                              int64\n",
              "sale_day                             int64\n",
              "sale_month                           int64\n",
              "sale_year                            int64\n",
              "tax_class_at_present_letter         object\n",
              "tax_class_stays_same                 int64\n",
              "building_class_stays_same            int64\n",
              "dtype: object"
            ]
          },
          "metadata": {
            "tags": []
          },
          "execution_count": 30
        }
      ]
    },
    {
      "cell_type": "code",
      "metadata": {
        "id": "6u6_dXVG7YRA",
        "colab_type": "code",
        "colab": {}
      },
      "source": [
        "CATEGORICAL_COLUMNS = ['borough', \n",
        "                       'weekday', \n",
        "                       'sale_day',\n",
        "                       'sale_month', \n",
        "                       'sale_year', \n",
        "                       'tax_class_at_present_letter',\n",
        "                       'tax_class_stays_same',\n",
        "                       'building_class_stays_same',\n",
        "                       'tax_class_at_time_of_sale',\n",
        "                       'building_class_at_time_of_sale',\n",
        "                       'year_built',\n",
        "                       'neighborhood',\n",
        "                       'building_class_category',\n",
        "                       'tax_class_at_present',\n",
        "                       'block',\n",
        "                       'lot',\n",
        "                       'ease-ment',\n",
        "                       'building_class_at_present', \n",
        "                       'address',\n",
        "                       'zip_code']\n",
        "NUMERIC_COLUMNS = ['residential_units','commercial_units', 'total_units', 'land_square_feet','gross_square_feet']\n",
        "\n",
        "feature_columns = []\n",
        "for feature_name in CATEGORICAL_COLUMNS:\n",
        "  df[feature_name] = df[feature_name].astype('str')\n",
        "  vocabulary = df[feature_name].unique()  # gets a list of all unique values from given feature column\n",
        "  feature_columns.append(tf.feature_column.categorical_column_with_vocabulary_list(feature_name, vocabulary))\n",
        "\n",
        "for feature_name in NUMERIC_COLUMNS:\n",
        "  df[feature_name] = df[feature_name].astype('float64')\n",
        "  feature_columns.append(tf.feature_column.numeric_column(feature_name, dtype=tf.float64))"
      ],
      "execution_count": 31,
      "outputs": []
    },
    {
      "cell_type": "code",
      "metadata": {
        "id": "iHUUizOd3WVK",
        "colab_type": "code",
        "colab": {}
      },
      "source": [
        "dftrain, dfeval, y_train, y_eval = train_test_split(df,df.pop('sale_price'), test_size=0.25, random_state=42)"
      ],
      "execution_count": 32,
      "outputs": []
    },
    {
      "cell_type": "code",
      "metadata": {
        "id": "myOeW-NXCH9-",
        "colab_type": "code",
        "colab": {}
      },
      "source": [
        "def make_input_fn(data_df, label_df, num_epochs=10, shuffle=True, batch_size=32):\n",
        "  def input_function():  # inner function, this will be returned\n",
        "    ds = tf.data.Dataset.from_tensor_slices((dict(data_df), label_df))  # create tf.data.Dataset object with data and its label\n",
        "    if shuffle:\n",
        "      ds = ds.shuffle(1000)  # randomize order of data\n",
        "    ds = ds.batch(batch_size).repeat(num_epochs)  # split dataset into batches of 32 and repeat process for number of epochs\n",
        "    return ds  # return a batch of the dataset\n",
        "  return input_function  # return a function object for use\n",
        "\n",
        "train_input_fn = make_input_fn(dftrain, y_train)  # here we will call the input_function that was returned to us to get a dataset object we can feed to the model\n",
        "eval_input_fn = make_input_fn(dfeval, y_eval, num_epochs=1, shuffle=False)\n"
      ],
      "execution_count": 33,
      "outputs": []
    },
    {
      "cell_type": "code",
      "metadata": {
        "id": "eUQixf5tCxJ0",
        "colab_type": "code",
        "colab": {
          "base_uri": "https://localhost:8080/",
          "height": 190
        },
        "outputId": "bea169d9-da6a-4bc3-d62a-0f45db869bbe"
      },
      "source": [
        "estimator = tf.estimator.BoostedTreesRegressor(n_batches_per_layer=32,feature_columns=feature_columns,learning_rate=0.05)"
      ],
      "execution_count": 34,
      "outputs": [
        {
          "output_type": "stream",
          "text": [
            "INFO:tensorflow:Using default config.\n",
            "WARNING:tensorflow:Using temporary folder as model directory: /tmp/tmpcdmhmj8v\n",
            "INFO:tensorflow:Using config: {'_model_dir': '/tmp/tmpcdmhmj8v', '_tf_random_seed': None, '_save_summary_steps': 100, '_save_checkpoints_steps': None, '_save_checkpoints_secs': 600, '_session_config': allow_soft_placement: true\n",
            "graph_options {\n",
            "  rewrite_options {\n",
            "    meta_optimizer_iterations: ONE\n",
            "  }\n",
            "}\n",
            ", '_keep_checkpoint_max': 5, '_keep_checkpoint_every_n_hours': 10000, '_log_step_count_steps': 100, '_train_distribute': None, '_device_fn': None, '_protocol': None, '_eval_distribute': None, '_experimental_distribute': None, '_experimental_max_worker_delay_secs': None, '_session_creation_timeout_secs': 7200, '_service': None, '_cluster_spec': ClusterSpec({}), '_task_type': 'worker', '_task_id': 0, '_global_id_in_cluster': 0, '_master': '', '_evaluation_master': '', '_is_chief': True, '_num_ps_replicas': 0, '_num_worker_replicas': 1}\n"
          ],
          "name": "stdout"
        }
      ]
    },
    {
      "cell_type": "code",
      "metadata": {
        "id": "bpNlA4FWHbBs",
        "colab_type": "code",
        "colab": {
          "base_uri": "https://localhost:8080/",
          "height": 1000
        },
        "outputId": "5ad7e0e3-c790-4b4a-fa41-d24898a2dc26"
      },
      "source": [
        "estimator.train(train_input_fn)  # train\n",
        "result = estimator.evaluate(eval_input_fn)  # get model metrics/stats by evaluating testing data"
      ],
      "execution_count": 35,
      "outputs": [
        {
          "output_type": "stream",
          "text": [
            "WARNING:tensorflow:From /usr/local/lib/python3.6/dist-packages/tensorflow/python/training/training_util.py:236: Variable.initialized_value (from tensorflow.python.ops.variables) is deprecated and will be removed in a future version.\n",
            "Instructions for updating:\n",
            "Use Variable.read_value. Variables in 2.X are initialized automatically both in eager and graph (inside tf.defun) contexts.\n",
            "INFO:tensorflow:Calling model_fn.\n",
            "INFO:tensorflow:Done calling model_fn.\n",
            "INFO:tensorflow:Create CheckpointSaverHook.\n",
            "WARNING:tensorflow:Issue encountered when serializing resources.\n",
            "Type is unsupported, or the types of the items don't match field type in CollectionDef. Note this is a warning and probably safe to ignore.\n",
            "'_Resource' object has no attribute 'name'\n",
            "INFO:tensorflow:Graph was finalized.\n",
            "INFO:tensorflow:Running local_init_op.\n",
            "INFO:tensorflow:Done running local_init_op.\n",
            "WARNING:tensorflow:Issue encountered when serializing resources.\n",
            "Type is unsupported, or the types of the items don't match field type in CollectionDef. Note this is a warning and probably safe to ignore.\n",
            "'_Resource' object has no attribute 'name'\n",
            "INFO:tensorflow:Calling checkpoint listeners before saving checkpoint 0...\n",
            "INFO:tensorflow:Saving checkpoints for 0 into /tmp/tmpcdmhmj8v/model.ckpt.\n",
            "WARNING:tensorflow:Issue encountered when serializing resources.\n",
            "Type is unsupported, or the types of the items don't match field type in CollectionDef. Note this is a warning and probably safe to ignore.\n",
            "'_Resource' object has no attribute 'name'\n",
            "INFO:tensorflow:Calling checkpoint listeners after saving checkpoint 0...\n",
            "INFO:tensorflow:loss = 181.5787, step = 0\n",
            "WARNING:tensorflow:It seems that global step (tf.train.get_global_step) has not been increased. Current value (could be stable): 0 vs previous value: 0. You could increase the global step by passing tf.train.get_global_step() to Optimizer.apply_gradients or Optimizer.minimize.\n",
            "WARNING:tensorflow:It seems that global step (tf.train.get_global_step) has not been increased. Current value (could be stable): 0 vs previous value: 0. You could increase the global step by passing tf.train.get_global_step() to Optimizer.apply_gradients or Optimizer.minimize.\n",
            "WARNING:tensorflow:It seems that global step (tf.train.get_global_step) has not been increased. Current value (could be stable): 0 vs previous value: 0. You could increase the global step by passing tf.train.get_global_step() to Optimizer.apply_gradients or Optimizer.minimize.\n",
            "WARNING:tensorflow:It seems that global step (tf.train.get_global_step) has not been increased. Current value (could be stable): 0 vs previous value: 0. You could increase the global step by passing tf.train.get_global_step() to Optimizer.apply_gradients or Optimizer.minimize.\n",
            "WARNING:tensorflow:It seems that global step (tf.train.get_global_step) has not been increased. Current value (could be stable): 0 vs previous value: 0. You could increase the global step by passing tf.train.get_global_step() to Optimizer.apply_gradients or Optimizer.minimize.\n",
            "INFO:tensorflow:loss = 150.9281, step = 68 (1.576 sec)\n",
            "INFO:tensorflow:global_step/sec: 43.8305\n",
            "INFO:tensorflow:loss = 111.0975, step = 168 (1.689 sec)\n",
            "INFO:tensorflow:global_step/sec: 67.3148\n",
            "INFO:tensorflow:loss = 80.14802, step = 268 (1.419 sec)\n",
            "INFO:tensorflow:global_step/sec: 74.6691\n",
            "INFO:tensorflow:loss = 58.78328, step = 368 (1.402 sec)\n",
            "INFO:tensorflow:global_step/sec: 67.0457\n",
            "INFO:tensorflow:loss = 41.371727, step = 468 (1.426 sec)\n",
            "INFO:tensorflow:global_step/sec: 74.6362\n",
            "INFO:tensorflow:loss = 30.624626, step = 568 (1.424 sec)\n",
            "INFO:tensorflow:global_step/sec: 65.164\n",
            "INFO:tensorflow:loss = 21.517174, step = 668 (1.460 sec)\n",
            "INFO:tensorflow:global_step/sec: 74.3686\n",
            "INFO:tensorflow:loss = 15.900202, step = 768 (1.484 sec)\n",
            "INFO:tensorflow:global_step/sec: 66.2712\n",
            "INFO:tensorflow:loss = 11.138777, step = 868 (1.387 sec)\n",
            "INFO:tensorflow:global_step/sec: 72.5226\n",
            "INFO:tensorflow:loss = 8.315941, step = 968 (1.461 sec)\n",
            "INFO:tensorflow:global_step/sec: 69.5489\n",
            "INFO:tensorflow:loss = 6.285406, step = 1068 (1.315 sec)\n",
            "INFO:tensorflow:global_step/sec: 75.2306\n",
            "INFO:tensorflow:loss = 4.614415, step = 1168 (1.461 sec)\n",
            "INFO:tensorflow:global_step/sec: 69.3559\n",
            "INFO:tensorflow:loss = 4.117197, step = 1268 (1.310 sec)\n",
            "INFO:tensorflow:global_step/sec: 75.7169\n",
            "INFO:tensorflow:loss = 2.8425884, step = 1368 (1.443 sec)\n",
            "INFO:tensorflow:global_step/sec: 69.8767\n",
            "INFO:tensorflow:loss = 2.229462, step = 1468 (1.327 sec)\n",
            "INFO:tensorflow:global_step/sec: 72.3561\n",
            "INFO:tensorflow:loss = 1.2983088, step = 1568 (1.538 sec)\n",
            "INFO:tensorflow:global_step/sec: 67.1496\n",
            "INFO:tensorflow:loss = 1.3758585, step = 1668 (1.370 sec)\n",
            "INFO:tensorflow:global_step/sec: 69.098\n",
            "INFO:tensorflow:loss = 0.85470665, step = 1768 (1.479 sec)\n",
            "INFO:tensorflow:global_step/sec: 72.0501\n",
            "INFO:tensorflow:loss = 0.7540082, step = 1868 (1.345 sec)\n",
            "INFO:tensorflow:global_step/sec: 71.8729\n",
            "INFO:tensorflow:loss = 0.62852824, step = 1968 (1.426 sec)\n",
            "INFO:tensorflow:global_step/sec: 72.0839\n",
            "INFO:tensorflow:loss = 0.53499234, step = 2068 (1.328 sec)\n",
            "INFO:tensorflow:global_step/sec: 73.3279\n",
            "INFO:tensorflow:loss = 0.565551, step = 2168 (1.432 sec)\n",
            "INFO:tensorflow:global_step/sec: 71.9586\n",
            "INFO:tensorflow:loss = 0.46410644, step = 2268 (1.352 sec)\n",
            "INFO:tensorflow:global_step/sec: 71.528\n",
            "INFO:tensorflow:loss = 0.43441126, step = 2368 (1.438 sec)\n",
            "INFO:tensorflow:global_step/sec: 71.6203\n",
            "INFO:tensorflow:loss = 0.27073583, step = 2468 (1.352 sec)\n",
            "INFO:tensorflow:global_step/sec: 68.6938\n",
            "INFO:tensorflow:loss = 0.28647655, step = 2568 (1.416 sec)\n",
            "INFO:tensorflow:global_step/sec: 76.093\n",
            "INFO:tensorflow:loss = 0.37247333, step = 2668 (1.354 sec)\n",
            "INFO:tensorflow:global_step/sec: 68.6549\n",
            "INFO:tensorflow:loss = 0.31778958, step = 2768 (1.424 sec)\n",
            "INFO:tensorflow:global_step/sec: 74.8168\n",
            "INFO:tensorflow:loss = 0.16812785, step = 2868 (1.387 sec)\n",
            "INFO:tensorflow:global_step/sec: 68.0197\n",
            "INFO:tensorflow:loss = 0.28156677, step = 2968 (1.399 sec)\n",
            "INFO:tensorflow:global_step/sec: 75.4814\n",
            "INFO:tensorflow:loss = 0.28830144, step = 3068 (1.397 sec)\n",
            "INFO:tensorflow:global_step/sec: 68.024\n",
            "INFO:tensorflow:loss = 0.30903152, step = 3168 (1.422 sec)\n",
            "INFO:tensorflow:global_step/sec: 74.1526\n",
            "INFO:tensorflow:loss = 0.29065531, step = 3268 (1.457 sec)\n",
            "INFO:tensorflow:global_step/sec: 70.0658\n",
            "INFO:tensorflow:loss = 0.2916746, step = 3368 (1.278 sec)\n",
            "INFO:tensorflow:global_step/sec: 77.1181\n",
            "INFO:tensorflow:loss = 0.4156359, step = 3468 (1.441 sec)\n",
            "INFO:tensorflow:global_step/sec: 70.0174\n",
            "INFO:tensorflow:loss = 0.24711296, step = 3568 (1.287 sec)\n",
            "INFO:tensorflow:global_step/sec: 76.4786\n",
            "INFO:tensorflow:loss = 0.46796826, step = 3668 (1.460 sec)\n",
            "INFO:tensorflow:global_step/sec: 69.8439\n",
            "INFO:tensorflow:loss = 0.27477127, step = 3768 (1.321 sec)\n",
            "INFO:tensorflow:global_step/sec: 73.2664\n",
            "INFO:tensorflow:loss = 0.17489624, step = 3868 (1.486 sec)\n",
            "INFO:tensorflow:global_step/sec: 68.7484\n",
            "INFO:tensorflow:loss = 0.21054837, step = 3968 (1.362 sec)\n",
            "INFO:tensorflow:global_step/sec: 70.9294\n",
            "INFO:tensorflow:loss = 0.17713061, step = 4068 (1.441 sec)\n",
            "INFO:tensorflow:global_step/sec: 71.6295\n",
            "INFO:tensorflow:loss = 0.2942338, step = 4168 (1.315 sec)\n",
            "INFO:tensorflow:global_step/sec: 73.6882\n",
            "INFO:tensorflow:loss = 0.3299772, step = 4268 (1.439 sec)\n",
            "INFO:tensorflow:global_step/sec: 72.2114\n",
            "INFO:tensorflow:loss = 0.29314718, step = 4368 (1.319 sec)\n",
            "INFO:tensorflow:global_step/sec: 72.254\n",
            "INFO:tensorflow:loss = 0.3183423, step = 4468 (1.475 sec)\n",
            "INFO:tensorflow:global_step/sec: 70.0699\n",
            "INFO:tensorflow:loss = 0.28948689, step = 4568 (1.353 sec)\n",
            "INFO:tensorflow:global_step/sec: 72.4322\n",
            "INFO:tensorflow:loss = 0.3123359, step = 4668 (1.451 sec)\n",
            "INFO:tensorflow:global_step/sec: 70.531\n",
            "INFO:tensorflow:loss = 0.3044323, step = 4768 (1.394 sec)\n",
            "INFO:tensorflow:global_step/sec: 67.1371\n",
            "INFO:tensorflow:loss = 0.2744096, step = 4868 (1.419 sec)\n",
            "INFO:tensorflow:global_step/sec: 75.1121\n",
            "INFO:tensorflow:loss = 0.32423854, step = 4968 (1.382 sec)\n",
            "INFO:tensorflow:global_step/sec: 68.3759\n",
            "INFO:tensorflow:loss = 0.23108718, step = 5068 (1.401 sec)\n",
            "INFO:tensorflow:global_step/sec: 75.2545\n",
            "INFO:tensorflow:loss = 0.30806866, step = 5168 (1.409 sec)\n",
            "INFO:tensorflow:global_step/sec: 67.5639\n",
            "INFO:tensorflow:loss = 0.2355424, step = 5268 (1.394 sec)\n",
            "INFO:tensorflow:global_step/sec: 76.2786\n",
            "INFO:tensorflow:loss = 0.27436695, step = 5368 (1.381 sec)\n",
            "INFO:tensorflow:global_step/sec: 68.548\n",
            "INFO:tensorflow:loss = 0.3978685, step = 5468 (1.384 sec)\n",
            "INFO:tensorflow:global_step/sec: 76.8435\n",
            "INFO:tensorflow:loss = 0.32338664, step = 5568 (1.469 sec)\n",
            "INFO:tensorflow:global_step/sec: 68.6241\n",
            "INFO:tensorflow:loss = 0.19922401, step = 5668 (1.303 sec)\n",
            "INFO:tensorflow:global_step/sec: 75.5048\n",
            "INFO:tensorflow:loss = 0.27261582, step = 5768 (1.485 sec)\n",
            "INFO:tensorflow:global_step/sec: 68.1851\n",
            "INFO:tensorflow:loss = 0.23953247, step = 5868 (1.316 sec)\n",
            "INFO:tensorflow:global_step/sec: 73.4819\n",
            "INFO:tensorflow:loss = 0.40066686, step = 5968 (1.497 sec)\n",
            "INFO:tensorflow:global_step/sec: 68.3425\n",
            "INFO:tensorflow:loss = 0.23389298, step = 6068 (1.327 sec)\n",
            "INFO:tensorflow:global_step/sec: 74.3939\n",
            "INFO:tensorflow:loss = 0.26527834, step = 6168 (1.495 sec)\n",
            "INFO:tensorflow:global_step/sec: 67.4193\n",
            "INFO:tensorflow:loss = 0.1338216, step = 6268 (1.347 sec)\n",
            "INFO:tensorflow:global_step/sec: 73.752\n",
            "INFO:tensorflow:loss = 0.29577, step = 6368 (1.463 sec)\n",
            "INFO:tensorflow:global_step/sec: 68.6748\n",
            "INFO:tensorflow:loss = 0.32693774, step = 6468 (1.358 sec)\n",
            "INFO:tensorflow:global_step/sec: 71.9831\n",
            "INFO:tensorflow:loss = 0.22224836, step = 6568 (1.450 sec)\n",
            "INFO:tensorflow:global_step/sec: 71.4107\n",
            "INFO:tensorflow:loss = 0.35751623, step = 6668 (1.353 sec)\n",
            "INFO:tensorflow:global_step/sec: 71.5212\n",
            "INFO:tensorflow:loss = 0.3638779, step = 6768 (1.461 sec)\n",
            "INFO:tensorflow:global_step/sec: 70.2946\n",
            "INFO:tensorflow:loss = 0.3399495, step = 6868 (1.362 sec)\n",
            "INFO:tensorflow:global_step/sec: 70.4943\n",
            "INFO:tensorflow:loss = 0.4145621, step = 6968 (1.497 sec)\n",
            "INFO:tensorflow:global_step/sec: 68.5065\n",
            "INFO:tensorflow:loss = 0.23177421, step = 7068 (1.386 sec)\n",
            "INFO:tensorflow:global_step/sec: 70.0496\n",
            "INFO:tensorflow:loss = 0.29476166, step = 7168 (1.494 sec)\n",
            "INFO:tensorflow:global_step/sec: 67.0374\n",
            "INFO:tensorflow:loss = 0.3109056, step = 7268 (1.454 sec)\n",
            "INFO:tensorflow:global_step/sec: 66.8077\n",
            "INFO:tensorflow:loss = 0.24505073, step = 7368 (1.434 sec)\n",
            "INFO:tensorflow:global_step/sec: 75.0293\n",
            "INFO:tensorflow:loss = 0.47244173, step = 7468 (1.368 sec)\n",
            "INFO:tensorflow:global_step/sec: 68.417\n",
            "INFO:tensorflow:loss = 0.22973995, step = 7568 (1.395 sec)\n",
            "INFO:tensorflow:global_step/sec: 77.1443\n",
            "INFO:tensorflow:loss = 0.20220004, step = 7668 (1.378 sec)\n",
            "INFO:tensorflow:global_step/sec: 68.1975\n",
            "INFO:tensorflow:loss = 0.3918339, step = 7768 (1.397 sec)\n",
            "INFO:tensorflow:global_step/sec: 75.6829\n",
            "INFO:tensorflow:loss = 0.3212679, step = 7868 (1.389 sec)\n",
            "INFO:tensorflow:global_step/sec: 67.558\n",
            "INFO:tensorflow:loss = 0.31861913, step = 7968 (1.427 sec)\n",
            "INFO:tensorflow:global_step/sec: 73.7784\n",
            "INFO:tensorflow:loss = 0.25202724, step = 8068 (1.517 sec)\n",
            "INFO:tensorflow:global_step/sec: 67.2868\n",
            "INFO:tensorflow:loss = 0.25779578, step = 8168 (1.327 sec)\n",
            "INFO:tensorflow:global_step/sec: 73.7968\n",
            "INFO:tensorflow:loss = 0.2854219, step = 8268 (1.489 sec)\n",
            "INFO:tensorflow:global_step/sec: 68.4412\n",
            "INFO:tensorflow:loss = 0.32796645, step = 8368 (1.328 sec)\n",
            "INFO:tensorflow:global_step/sec: 74.4427\n",
            "INFO:tensorflow:loss = 0.15858369, step = 8468 (1.462 sec)\n",
            "INFO:tensorflow:global_step/sec: 69.4126\n",
            "INFO:tensorflow:loss = 0.3342895, step = 8568 (1.308 sec)\n",
            "INFO:tensorflow:global_step/sec: 74.5671\n",
            "INFO:tensorflow:loss = 0.32451716, step = 8668 (1.489 sec)\n",
            "INFO:tensorflow:global_step/sec: 68.6446\n",
            "INFO:tensorflow:loss = 0.23056006, step = 8768 (1.342 sec)\n",
            "INFO:tensorflow:global_step/sec: 70.7691\n",
            "INFO:tensorflow:loss = 0.26040027, step = 8868 (1.468 sec)\n",
            "INFO:tensorflow:global_step/sec: 70.9028\n",
            "INFO:tensorflow:loss = 0.3152892, step = 8968 (1.391 sec)\n",
            "INFO:tensorflow:global_step/sec: 70.3052\n",
            "INFO:tensorflow:loss = 0.31826243, step = 9068 (1.448 sec)\n",
            "INFO:tensorflow:global_step/sec: 69.5491\n",
            "INFO:tensorflow:loss = 0.47998574, step = 9168 (1.391 sec)\n",
            "INFO:tensorflow:global_step/sec: 70.3071\n",
            "INFO:tensorflow:loss = 0.29386428, step = 9268 (1.469 sec)\n",
            "INFO:tensorflow:global_step/sec: 70.83\n",
            "INFO:tensorflow:loss = 0.19797122, step = 9368 (1.358 sec)\n",
            "INFO:tensorflow:global_step/sec: 71.1553\n",
            "INFO:tensorflow:loss = 0.1912022, step = 9468 (1.466 sec)\n",
            "INFO:tensorflow:global_step/sec: 69.6399\n",
            "INFO:tensorflow:loss = 0.35306984, step = 9568 (1.411 sec)\n",
            "INFO:tensorflow:global_step/sec: 67.2795\n",
            "INFO:tensorflow:loss = 0.26763505, step = 9668 (1.400 sec)\n",
            "INFO:tensorflow:global_step/sec: 76.2194\n",
            "INFO:tensorflow:loss = 0.20182467, step = 9768 (1.384 sec)\n",
            "INFO:tensorflow:global_step/sec: 67.9922\n",
            "INFO:tensorflow:loss = 0.3462456, step = 9868 (1.407 sec)\n",
            "INFO:tensorflow:global_step/sec: 75.2246\n",
            "INFO:tensorflow:loss = 0.203097, step = 9968 (1.491 sec)\n",
            "INFO:tensorflow:global_step/sec: 51.8318\n",
            "INFO:tensorflow:loss = 0.3498773, step = 10068 (2.259 sec)\n",
            "INFO:tensorflow:global_step/sec: 48.4878\n",
            "INFO:tensorflow:loss = 0.1981995, step = 10168 (2.248 sec)\n",
            "INFO:tensorflow:global_step/sec: 41.6645\n",
            "INFO:tensorflow:loss = 0.17679265, step = 10268 (2.257 sec)\n",
            "INFO:tensorflow:global_step/sec: 48.3237\n",
            "INFO:tensorflow:loss = 0.16307776, step = 10368 (2.306 sec)\n",
            "INFO:tensorflow:global_step/sec: 43.8269\n",
            "INFO:tensorflow:loss = 0.2769853, step = 10468 (2.023 sec)\n",
            "INFO:tensorflow:global_step/sec: 47.8317\n",
            "INFO:tensorflow:loss = 0.1865943, step = 10568 (1.819 sec)\n",
            "INFO:tensorflow:global_step/sec: 64.1311\n",
            "INFO:tensorflow:loss = 0.22392012, step = 10668 (1.360 sec)\n",
            "INFO:tensorflow:global_step/sec: 73.239\n",
            "INFO:tensorflow:loss = 0.28891698, step = 10768 (1.480 sec)\n",
            "INFO:tensorflow:global_step/sec: 67.5135\n",
            "INFO:tensorflow:loss = 0.25916898, step = 10868 (1.338 sec)\n",
            "INFO:tensorflow:global_step/sec: 73.4942\n",
            "INFO:tensorflow:loss = 0.28308266, step = 10968 (1.526 sec)\n",
            "INFO:tensorflow:global_step/sec: 65.9541\n",
            "INFO:tensorflow:loss = 0.19598776, step = 11068 (1.352 sec)\n",
            "INFO:tensorflow:global_step/sec: 73.2692\n",
            "INFO:tensorflow:loss = 0.22633854, step = 11168 (1.524 sec)\n",
            "INFO:tensorflow:global_step/sec: 67.1151\n",
            "INFO:tensorflow:loss = 0.19679445, step = 11268 (1.364 sec)\n",
            "INFO:tensorflow:global_step/sec: 70.9879\n",
            "INFO:tensorflow:loss = 0.16366464, step = 11368 (1.497 sec)\n",
            "INFO:tensorflow:global_step/sec: 68.9203\n",
            "INFO:tensorflow:loss = 0.18601818, step = 11468 (1.363 sec)\n",
            "INFO:tensorflow:global_step/sec: 70.7965\n",
            "INFO:tensorflow:loss = 0.2121634, step = 11568 (1.465 sec)\n",
            "INFO:tensorflow:global_step/sec: 70.386\n",
            "INFO:tensorflow:loss = 0.20525411, step = 11668 (1.364 sec)\n",
            "INFO:tensorflow:global_step/sec: 70.9157\n",
            "INFO:tensorflow:loss = 0.34895715, step = 11768 (1.465 sec)\n",
            "INFO:tensorflow:global_step/sec: 70.4172\n",
            "INFO:tensorflow:loss = 0.20532641, step = 11868 (1.356 sec)\n",
            "INFO:tensorflow:global_step/sec: 71.6511\n",
            "INFO:tensorflow:loss = 0.2376233, step = 11968 (1.484 sec)\n",
            "INFO:tensorflow:global_step/sec: 68.7764\n",
            "INFO:tensorflow:loss = 0.17601508, step = 12068 (1.433 sec)\n",
            "INFO:tensorflow:global_step/sec: 66.3571\n",
            "INFO:tensorflow:loss = 0.24177298, step = 12168 (1.444 sec)\n",
            "INFO:tensorflow:global_step/sec: 73.4312\n",
            "INFO:tensorflow:loss = 0.2585978, step = 12268 (1.397 sec)\n",
            "INFO:tensorflow:global_step/sec: 67.0221\n",
            "INFO:tensorflow:loss = 0.21174572, step = 12368 (1.429 sec)\n",
            "INFO:tensorflow:global_step/sec: 75.0509\n",
            "INFO:tensorflow:loss = 0.24355605, step = 12468 (1.406 sec)\n",
            "INFO:tensorflow:global_step/sec: 66.9136\n",
            "INFO:tensorflow:loss = 0.25508767, step = 12568 (1.416 sec)\n",
            "INFO:tensorflow:global_step/sec: 75.1277\n",
            "INFO:tensorflow:loss = 0.19298841, step = 12668 (1.406 sec)\n",
            "INFO:tensorflow:global_step/sec: 67.1822\n",
            "INFO:tensorflow:loss = 0.24320294, step = 12768 (1.445 sec)\n",
            "INFO:tensorflow:Calling checkpoint listeners before saving checkpoint 12778...\n",
            "INFO:tensorflow:Saving checkpoints for 12778 into /tmp/tmpcdmhmj8v/model.ckpt.\n",
            "WARNING:tensorflow:Issue encountered when serializing resources.\n",
            "Type is unsupported, or the types of the items don't match field type in CollectionDef. Note this is a warning and probably safe to ignore.\n",
            "'_Resource' object has no attribute 'name'\n",
            "INFO:tensorflow:Calling checkpoint listeners after saving checkpoint 12778...\n",
            "INFO:tensorflow:Loss for final step: 0.22293702.\n",
            "INFO:tensorflow:Calling model_fn.\n",
            "INFO:tensorflow:Done calling model_fn.\n",
            "INFO:tensorflow:Starting evaluation at 2020-08-19T23:13:24Z\n",
            "INFO:tensorflow:Graph was finalized.\n",
            "INFO:tensorflow:Restoring parameters from /tmp/tmpcdmhmj8v/model.ckpt-12778\n",
            "INFO:tensorflow:Running local_init_op.\n",
            "INFO:tensorflow:Done running local_init_op.\n",
            "INFO:tensorflow:Inference Time : 1.69586s\n",
            "INFO:tensorflow:Finished evaluation at 2020-08-19-23:13:26\n",
            "INFO:tensorflow:Saving dict for global step 12778: average_loss = 0.25380144, global_step = 12778, label/mean = 13.384774, loss = 0.2534256, prediction/mean = 13.384746\n",
            "WARNING:tensorflow:Issue encountered when serializing resources.\n",
            "Type is unsupported, or the types of the items don't match field type in CollectionDef. Note this is a warning and probably safe to ignore.\n",
            "'_Resource' object has no attribute 'name'\n",
            "INFO:tensorflow:Saving 'checkpoint_path' summary for global step 12778: /tmp/tmpcdmhmj8v/model.ckpt-12778\n"
          ],
          "name": "stdout"
        }
      ]
    },
    {
      "cell_type": "code",
      "metadata": {
        "id": "LRfTndDDX-Du",
        "colab_type": "code",
        "colab": {}
      },
      "source": [
        "# RMSE\n",
        "def rmse(y_test,y_pred):\n",
        "      return np.sqrt(mean_squared_error(y_test,y_pred))"
      ],
      "execution_count": 36,
      "outputs": []
    },
    {
      "cell_type": "code",
      "metadata": {
        "id": "AImmHgKuF_bz",
        "colab_type": "code",
        "colab": {
          "base_uri": "https://localhost:8080/",
          "height": 119
        },
        "outputId": "a2d5ba2c-9aae-4791-c5ef-4fca90a3b75c"
      },
      "source": [
        "pred_dicts = list(estimator.predict(eval_input_fn))\n",
        "\n",
        "preds = pd.Series([pred['predictions'][0] for pred in pred_dicts])\n",
        "\n",
        "actuals = y_eval.reset_index(drop=True)"
      ],
      "execution_count": 37,
      "outputs": [
        {
          "output_type": "stream",
          "text": [
            "INFO:tensorflow:Calling model_fn.\n",
            "INFO:tensorflow:Done calling model_fn.\n",
            "INFO:tensorflow:Graph was finalized.\n",
            "INFO:tensorflow:Restoring parameters from /tmp/tmpcdmhmj8v/model.ckpt-12778\n",
            "INFO:tensorflow:Running local_init_op.\n",
            "INFO:tensorflow:Done running local_init_op.\n"
          ],
          "name": "stdout"
        }
      ]
    },
    {
      "cell_type": "code",
      "metadata": {
        "id": "mYmtjHaSyWUQ",
        "colab_type": "code",
        "colab": {
          "base_uri": "https://localhost:8080/",
          "height": 221
        },
        "outputId": "a8b8acc1-bd92-472d-d2ec-ad49c1162c62"
      },
      "source": [
        "print(actuals.head())\n",
        "print(preds.head())"
      ],
      "execution_count": 38,
      "outputs": [
        {
          "output_type": "stream",
          "text": [
            "0    12.367341\n",
            "1    13.715690\n",
            "2    12.860999\n",
            "3    12.959844\n",
            "4    13.384728\n",
            "Name: sale_price, dtype: float64\n",
            "0    12.852198\n",
            "1    13.604314\n",
            "2    13.568142\n",
            "3    12.905449\n",
            "4    13.482596\n",
            "dtype: float64\n"
          ],
          "name": "stdout"
        }
      ]
    },
    {
      "cell_type": "markdown",
      "metadata": {
        "id": "MdYZnp1aLcq9",
        "colab_type": "text"
      },
      "source": [
        "## Keep in mind that these are the log-transformed values of sale_price. \n",
        "## If you want to compute the errors with non-transformed values, use the following equation: \n",
        "## $$error = 10e^{actual} - 10e^{prediction}$$ "
      ]
    },
    {
      "cell_type": "code",
      "metadata": {
        "id": "Od_HtZbqGZA2",
        "colab_type": "code",
        "colab": {
          "base_uri": "https://localhost:8080/",
          "height": 102
        },
        "outputId": "95a18651-06ac-4f5e-dc49-e88791bf07fd"
      },
      "source": [
        "result"
      ],
      "execution_count": 39,
      "outputs": [
        {
          "output_type": "execute_result",
          "data": {
            "text/plain": [
              "{'average_loss': 0.25380144,\n",
              " 'global_step': 12778,\n",
              " 'label/mean': 13.384774,\n",
              " 'loss': 0.2534256,\n",
              " 'prediction/mean': 13.384746}"
            ]
          },
          "metadata": {
            "tags": []
          },
          "execution_count": 39
        }
      ]
    },
    {
      "cell_type": "code",
      "metadata": {
        "id": "fbl36pepPLbC",
        "colab_type": "code",
        "colab": {
          "base_uri": "https://localhost:8080/",
          "height": 285
        },
        "outputId": "f68910f6-ba1c-49d9-956d-efac6f1c7c65"
      },
      "source": [
        "error = actuals - preds\n",
        "plt.hist(error, bins = 50,range=(-2,2))\n",
        "plt.xlabel(\"Prediction Error\")\n",
        "_ = plt.ylabel(\"Count\")"
      ],
      "execution_count": 40,
      "outputs": [
        {
          "output_type": "display_data",
          "data": {
            "image/png": "[encoded data removed]",
            "text/plain": [
              "<Figure size 432x288 with 1 Axes>"
            ]
          },
          "metadata": {
            "tags": []
          }
        }
      ]
    },
    {
      "cell_type": "code",
      "metadata": {
        "id": "4cD7x0kPmirz",
        "colab_type": "code",
        "colab": {
          "base_uri": "https://localhost:8080/",
          "height": 301
        },
        "outputId": "4b76ddac-047d-4f6e-9bee-f4613c28029f"
      },
      "source": [
        "fig, ax = plt.subplots(nrows= 1, ncols = 1)\n",
        "\n",
        "ax.scatter(x = actuals, y = preds)\n",
        "ax.set_aspect(\"equal\")\n",
        "ax.set_xlim(11,16)\n",
        "ax.set_ylim(11,16)\n",
        "z = np.polyfit(actuals, preds, 1)\n",
        "p = np.poly1d(z)\n",
        "ax.plot(actuals, p(actuals),\"r--\")\n",
        "ax.set_title(\"Actual vs. Predicted values\")\n",
        "ax.set_xlabel(\"Actuals\")\n",
        "ax.set_ylabel(\"Predicted\")\n",
        "\n",
        "\n",
        "fig.show()"
      ],
      "execution_count": 41,
      "outputs": [
        {
          "output_type": "display_data",
          "data": {
            "image/png": "[encoded data removed]",
            "text/plain": [
              "<Figure size 432x288 with 1 Axes>"
            ]
          },
          "metadata": {
            "tags": []
          }
        }
      ]
    },
    {
      "cell_type": "code",
      "metadata": {
        "id": "-ribccG-2OGy",
        "colab_type": "code",
        "colab": {
          "base_uri": "https://localhost:8080/",
          "height": 51
        },
        "outputId": "ec407604-0f5e-4599-f150-e0f8a74af996"
      },
      "source": [
        "print('R^2 score: {}'.format(r2_score(actuals, preds)))\n",
        "\n",
        "print(\"Root Mean Squared Error: {}\".format(rmse(actuals, preds)))"
      ],
      "execution_count": 42,
      "outputs": [
        {
          "output_type": "stream",
          "text": [
            "R^2 score: 0.5599082935802555\n",
            "Root Mean Squared Error: 0.5037871601355873\n"
          ],
          "name": "stdout"
        }
      ]
    },
    {
      "cell_type": "code",
      "metadata": {
        "id": "cmIZnL_lt50m",
        "colab_type": "code",
        "colab": {}
      },
      "source": [
        ""
      ],
      "execution_count": 42,
      "outputs": []
    }
  ]
}