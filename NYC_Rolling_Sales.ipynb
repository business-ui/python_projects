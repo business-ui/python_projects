{
 "cells": [
  {
   "cell_type": "markdown",
   "metadata": {
    "colab_type": "text",
    "id": "view-in-github"
   },
   "source": [
    "<a href=\"https://colab.research.google.com/github/business-ui/python_projects/blob/master/NYC_Rolling_Sales.ipynb\" target=\"_parent\"><img src=\"https://colab.research.google.com/assets/colab-badge.svg\" alt=\"Open In Colab\"/></a>"
   ]
  },
  {
   "cell_type": "code",
   "execution_count": 1,
   "metadata": {
    "colab": {},
    "colab_type": "code",
    "id": "NPxUVGDMvY1o"
   },
   "outputs": [],
   "source": [
    "# %tensorflow_version 2.x"
   ]
  },
  {
   "cell_type": "code",
   "execution_count": 2,
   "metadata": {
    "colab": {
<<<<<<< HEAD
     "base_uri": "https://localhost:8080/",
     "height": 34
    },
    "colab_type": "code",
    "id": "BzMb1x0EvjSk",
    "outputId": "d5cb55e4-b881-42b9-8be9-c058483573b5"
   },
   "outputs": [
    {
     "name": "stdout",
     "output_type": "stream",
     "text": [
      "<module 'tensorflow._api.v2.version' from 'c:\\\\users\\\\ryana\\\\appdata\\\\local\\\\programs\\\\python\\\\python37\\\\lib\\\\site-packages\\\\tensorflow\\\\_api\\\\v2\\\\version\\\\__init__.py'>\n"
     ]
    }
   ],
   "source": [
    "import tensorflow as tf  # now import the tensorflow module\n",
    "print(tf.version)  # make sure the version is 2.x"
   ]
  },
  {
   "cell_type": "code",
   "execution_count": 3,
   "metadata": {},
   "outputs": [],
   "source": [
    "gpus = tf.config.experimental.list_physical_devices('GPU')\n",
    "tf.config.experimental.set_virtual_device_configuration(gpus[0],\n",
    "    [tf.config.experimental.VirtualDeviceConfiguration(memory_limit=1024)])"
   ]
  },
  {
   "cell_type": "code",
   "execution_count": 4,
   "metadata": {
    "colab": {
     "base_uri": "https://localhost:8080/",
     "height": 71
=======
      "name": "NYC-Rolling-Sales.ipynb",
      "provenance": [],
      "collapsed_sections": [],
      "toc_visible": true,
      "authorship_tag": "ABX9TyPbgLLomHUSGwDvnVAWz9AS",
      "include_colab_link": true
    },
    "kernelspec": {
      "name": "python3",
      "display_name": "Python 3"
    },
    "accelerator": "GPU"
  },
  "cells": [
    {
      "cell_type": "markdown",
      "metadata": {
        "id": "view-in-github",
        "colab_type": "text"
      },
      "source": [
        "<a href=\"https://colab.research.google.com/github/business-ui/python_projects/blob/master/NYC_Rolling_Sales.ipynb\" target=\"_parent\"><img src=\"https://colab.research.google.com/assets/colab-badge.svg\" alt=\"Open In Colab\"/></a>"
      ]
    },
    {
      "cell_type": "code",
      "metadata": {
        "id": "NPxUVGDMvY1o",
        "colab_type": "code",
        "colab": {}
      },
      "source": [
        "%tensorflow_version 2.x"
      ],
      "execution_count": null,
      "outputs": []
    },
    {
      "cell_type": "code",
      "metadata": {
        "id": "BzMb1x0EvjSk",
        "colab_type": "code",
        "colab": {
          "base_uri": "https://localhost:8080/",
          "height": 34
        },
        "outputId": "b930612e-2baf-49da-85e0-e9d1e3e988c1"
      },
      "source": [
        "import tensorflow as tf  # now import the tensorflow module\n",
        "print(tf.version)  # make sure the version is 2.x"
      ],
      "execution_count": null,
      "outputs": [
        {
          "output_type": "stream",
          "text": [
            "<module 'tensorflow._api.v2.version' from '/usr/local/lib/python3.6/dist-packages/tensorflow/_api/v2/version/__init__.py'>\n"
          ],
          "name": "stdout"
        }
      ]
    },
    {
      "cell_type": "code",
      "metadata": {
        "id": "fqqIZlZwwIwK",
        "colab_type": "code",
        "colab": {
          "base_uri": "https://localhost:8080/",
          "height": 71
        },
        "outputId": "f0384a7f-70c9-462b-88c3-9017eb689750"
      },
      "source": [
        "import pandas as pd\n",
        "import seaborn as sns\n",
        "import matplotlib.pyplot as plt\n",
        "import datetime\n",
        "import numpy as np\n",
        "from scipy import stats\n",
        "from scipy.stats import norm"
      ],
      "execution_count": null,
      "outputs": [
        {
          "output_type": "stream",
          "text": [
            "/usr/local/lib/python3.6/dist-packages/statsmodels/tools/_testing.py:19: FutureWarning: pandas.util.testing is deprecated. Use the functions in the public API at pandas.testing instead.\n",
            "  import pandas.util.testing as tm\n"
          ],
          "name": "stderr"
        }
      ]
    },
    {
      "cell_type": "code",
      "metadata": {
        "id": "WZlCUZhz2uSM",
        "colab_type": "code",
        "colab": {}
      },
      "source": [
        "from sklearn.model_selection import train_test_split"
      ],
      "execution_count": null,
      "outputs": []
    },
    {
      "cell_type": "code",
      "metadata": {
        "id": "gCV73taVYpke",
        "colab_type": "code",
        "colab": {}
      },
      "source": [
        "from sklearn.metrics import mean_squared_error, r2_score"
      ],
      "execution_count": null,
      "outputs": []
>>>>>>> 718993765a3bab1abb84e4a6225adbc3b425a5de
    },
    "colab_type": "code",
    "id": "fqqIZlZwwIwK",
    "outputId": "a276100a-5ce8-4d90-8498-9e79883d4bfe"
   },
   "outputs": [
    {
<<<<<<< HEAD
     "name": "stderr",
     "output_type": "stream",
     "text": [
      "c:\\users\\ryana\\appdata\\local\\programs\\python\\python37\\lib\\site-packages\\statsmodels\\tools\\_testing.py:19: FutureWarning: pandas.util.testing is deprecated. Use the functions in the public API at pandas.testing instead.\n",
      "  import pandas.util.testing as tm\n"
     ]
    }
   ],
   "source": [
    "import pandas as pd\n",
    "import seaborn as sns\n",
    "import matplotlib.pyplot as plt\n",
    "import datetime\n",
    "import numpy as np\n",
    "from scipy import stats\n",
    "from scipy.stats import norm"
   ]
  },
  {
   "cell_type": "code",
   "execution_count": 5,
   "metadata": {
    "colab": {},
    "colab_type": "code",
    "id": "WZlCUZhz2uSM"
   },
   "outputs": [],
   "source": [
    "from sklearn.model_selection import train_test_split"
   ]
  },
  {
   "cell_type": "code",
   "execution_count": 6,
   "metadata": {
    "colab": {},
    "colab_type": "code",
    "id": "gCV73taVYpke"
   },
   "outputs": [],
   "source": [
    "from sklearn.metrics import mean_squared_error, r2_score"
   ]
  },
  {
   "cell_type": "code",
   "execution_count": 7,
   "metadata": {
    "colab": {},
    "colab_type": "code",
    "id": "arA-fnlvvspV"
   },
   "outputs": [],
   "source": [
    "df = pd.read_csv(r\"C:\\Users\\ryana\\Downloads\\nyc-rolling-sales.csv\", parse_dates=True)"
   ]
  },
  {
   "cell_type": "code",
   "execution_count": 8,
   "metadata": {
    "colab": {
     "base_uri": "https://localhost:8080/",
     "height": 383
=======
      "cell_type": "code",
      "metadata": {
        "id": "arA-fnlvvspV",
        "colab_type": "code",
        "colab": {}
      },
      "source": [
        "df = pd.read_csv(\"/content/nyc-rolling-sales.csv\", parse_dates=True)"
      ],
      "execution_count": null,
      "outputs": []
>>>>>>> 718993765a3bab1abb84e4a6225adbc3b425a5de
    },
    "colab_type": "code",
    "id": "5GBwCpgwwTGl",
    "outputId": "68298f92-0c5e-478f-810a-1d980943ec01"
   },
   "outputs": [
    {
<<<<<<< HEAD
     "data": {
      "text/html": [
       "<div>\n",
       "<style scoped>\n",
       "    .dataframe tbody tr th:only-of-type {\n",
       "        vertical-align: middle;\n",
       "    }\n",
       "\n",
       "    .dataframe tbody tr th {\n",
       "        vertical-align: top;\n",
       "    }\n",
       "\n",
       "    .dataframe thead th {\n",
       "        text-align: right;\n",
       "    }\n",
       "</style>\n",
       "<table border=\"1\" class=\"dataframe\">\n",
       "  <thead>\n",
       "    <tr style=\"text-align: right;\">\n",
       "      <th></th>\n",
       "      <th>Unnamed: 0</th>\n",
       "      <th>BOROUGH</th>\n",
       "      <th>NEIGHBORHOOD</th>\n",
       "      <th>BUILDING CLASS CATEGORY</th>\n",
       "      <th>TAX CLASS AT PRESENT</th>\n",
       "      <th>BLOCK</th>\n",
       "      <th>LOT</th>\n",
       "      <th>EASE-MENT</th>\n",
       "      <th>BUILDING CLASS AT PRESENT</th>\n",
       "      <th>ADDRESS</th>\n",
       "      <th>...</th>\n",
       "      <th>RESIDENTIAL UNITS</th>\n",
       "      <th>COMMERCIAL UNITS</th>\n",
       "      <th>TOTAL UNITS</th>\n",
       "      <th>LAND SQUARE FEET</th>\n",
       "      <th>GROSS SQUARE FEET</th>\n",
       "      <th>YEAR BUILT</th>\n",
       "      <th>TAX CLASS AT TIME OF SALE</th>\n",
       "      <th>BUILDING CLASS AT TIME OF SALE</th>\n",
       "      <th>SALE PRICE</th>\n",
       "      <th>SALE DATE</th>\n",
       "    </tr>\n",
       "  </thead>\n",
       "  <tbody>\n",
       "    <tr>\n",
       "      <th>0</th>\n",
       "      <td>4</td>\n",
       "      <td>1</td>\n",
       "      <td>ALPHABET CITY</td>\n",
       "      <td>07 RENTALS - WALKUP APARTMENTS</td>\n",
       "      <td>2A</td>\n",
       "      <td>392</td>\n",
       "      <td>6</td>\n",
       "      <td></td>\n",
       "      <td>C2</td>\n",
       "      <td>153 AVENUE B</td>\n",
       "      <td>...</td>\n",
       "      <td>5</td>\n",
       "      <td>0</td>\n",
       "      <td>5</td>\n",
       "      <td>1633</td>\n",
       "      <td>6440</td>\n",
       "      <td>1900</td>\n",
       "      <td>2</td>\n",
       "      <td>C2</td>\n",
       "      <td>6625000</td>\n",
       "      <td>2017-07-19 00:00:00</td>\n",
       "    </tr>\n",
       "    <tr>\n",
       "      <th>1</th>\n",
       "      <td>5</td>\n",
       "      <td>1</td>\n",
       "      <td>ALPHABET CITY</td>\n",
       "      <td>07 RENTALS - WALKUP APARTMENTS</td>\n",
       "      <td>2</td>\n",
       "      <td>399</td>\n",
       "      <td>26</td>\n",
       "      <td></td>\n",
       "      <td>C7</td>\n",
       "      <td>234 EAST 4TH   STREET</td>\n",
       "      <td>...</td>\n",
       "      <td>28</td>\n",
       "      <td>3</td>\n",
       "      <td>31</td>\n",
       "      <td>4616</td>\n",
       "      <td>18690</td>\n",
       "      <td>1900</td>\n",
       "      <td>2</td>\n",
       "      <td>C7</td>\n",
       "      <td>-</td>\n",
       "      <td>2016-12-14 00:00:00</td>\n",
       "    </tr>\n",
       "    <tr>\n",
       "      <th>2</th>\n",
       "      <td>6</td>\n",
       "      <td>1</td>\n",
       "      <td>ALPHABET CITY</td>\n",
       "      <td>07 RENTALS - WALKUP APARTMENTS</td>\n",
       "      <td>2</td>\n",
       "      <td>399</td>\n",
       "      <td>39</td>\n",
       "      <td></td>\n",
       "      <td>C7</td>\n",
       "      <td>197 EAST 3RD   STREET</td>\n",
       "      <td>...</td>\n",
       "      <td>16</td>\n",
       "      <td>1</td>\n",
       "      <td>17</td>\n",
       "      <td>2212</td>\n",
       "      <td>7803</td>\n",
       "      <td>1900</td>\n",
       "      <td>2</td>\n",
       "      <td>C7</td>\n",
       "      <td>-</td>\n",
       "      <td>2016-12-09 00:00:00</td>\n",
       "    </tr>\n",
       "  </tbody>\n",
       "</table>\n",
       "<p>3 rows × 22 columns</p>\n",
       "</div>"
      ],
      "text/plain": [
       "   Unnamed: 0  BOROUGH   NEIGHBORHOOD  \\\n",
       "0           4        1  ALPHABET CITY   \n",
       "1           5        1  ALPHABET CITY   \n",
       "2           6        1  ALPHABET CITY   \n",
       "\n",
       "                       BUILDING CLASS CATEGORY TAX CLASS AT PRESENT  BLOCK  \\\n",
       "0  07 RENTALS - WALKUP APARTMENTS                                2A    392   \n",
       "1  07 RENTALS - WALKUP APARTMENTS                                 2    399   \n",
       "2  07 RENTALS - WALKUP APARTMENTS                                 2    399   \n",
       "\n",
       "   LOT EASE-MENT BUILDING CLASS AT PRESENT                ADDRESS  ...  \\\n",
       "0    6                                  C2           153 AVENUE B  ...   \n",
       "1   26                                  C7  234 EAST 4TH   STREET  ...   \n",
       "2   39                                  C7  197 EAST 3RD   STREET  ...   \n",
       "\n",
       "  RESIDENTIAL UNITS  COMMERCIAL UNITS  TOTAL UNITS  LAND SQUARE FEET  \\\n",
       "0                 5                 0            5              1633   \n",
       "1                28                 3           31              4616   \n",
       "2                16                 1           17              2212   \n",
       "\n",
       "   GROSS SQUARE FEET YEAR BUILT TAX CLASS AT TIME OF SALE  \\\n",
       "0               6440       1900                         2   \n",
       "1              18690       1900                         2   \n",
       "2               7803       1900                         2   \n",
       "\n",
       "   BUILDING CLASS AT TIME OF SALE  SALE PRICE            SALE DATE  \n",
       "0                              C2     6625000  2017-07-19 00:00:00  \n",
       "1                              C7         -    2016-12-14 00:00:00  \n",
       "2                              C7         -    2016-12-09 00:00:00  \n",
       "\n",
       "[3 rows x 22 columns]"
=======
      "cell_type": "code",
      "metadata": {
        "id": "5GBwCpgwwTGl",
        "colab_type": "code",
        "colab": {
          "base_uri": "https://localhost:8080/",
          "height": 383
        },
        "outputId": "3e278596-d2fb-4fb9-f661-44f993705105"
      },
      "source": [
        "df.head(3)"
      ],
      "execution_count": null,
      "outputs": [
        {
          "output_type": "execute_result",
          "data": {
            "text/html": [
              "<div>\n",
              "<style scoped>\n",
              "    .dataframe tbody tr th:only-of-type {\n",
              "        vertical-align: middle;\n",
              "    }\n",
              "\n",
              "    .dataframe tbody tr th {\n",
              "        vertical-align: top;\n",
              "    }\n",
              "\n",
              "    .dataframe thead th {\n",
              "        text-align: right;\n",
              "    }\n",
              "</style>\n",
              "<table border=\"1\" class=\"dataframe\">\n",
              "  <thead>\n",
              "    <tr style=\"text-align: right;\">\n",
              "      <th></th>\n",
              "      <th>Unnamed: 0</th>\n",
              "      <th>BOROUGH</th>\n",
              "      <th>NEIGHBORHOOD</th>\n",
              "      <th>BUILDING CLASS CATEGORY</th>\n",
              "      <th>TAX CLASS AT PRESENT</th>\n",
              "      <th>BLOCK</th>\n",
              "      <th>LOT</th>\n",
              "      <th>EASE-MENT</th>\n",
              "      <th>BUILDING CLASS AT PRESENT</th>\n",
              "      <th>ADDRESS</th>\n",
              "      <th>APARTMENT NUMBER</th>\n",
              "      <th>ZIP CODE</th>\n",
              "      <th>RESIDENTIAL UNITS</th>\n",
              "      <th>COMMERCIAL UNITS</th>\n",
              "      <th>TOTAL UNITS</th>\n",
              "      <th>LAND SQUARE FEET</th>\n",
              "      <th>GROSS SQUARE FEET</th>\n",
              "      <th>YEAR BUILT</th>\n",
              "      <th>TAX CLASS AT TIME OF SALE</th>\n",
              "      <th>BUILDING CLASS AT TIME OF SALE</th>\n",
              "      <th>SALE PRICE</th>\n",
              "      <th>SALE DATE</th>\n",
              "    </tr>\n",
              "  </thead>\n",
              "  <tbody>\n",
              "    <tr>\n",
              "      <th>0</th>\n",
              "      <td>4</td>\n",
              "      <td>1</td>\n",
              "      <td>ALPHABET CITY</td>\n",
              "      <td>07 RENTALS - WALKUP APARTMENTS</td>\n",
              "      <td>2A</td>\n",
              "      <td>392</td>\n",
              "      <td>6</td>\n",
              "      <td></td>\n",
              "      <td>C2</td>\n",
              "      <td>153 AVENUE B</td>\n",
              "      <td></td>\n",
              "      <td>10009</td>\n",
              "      <td>5</td>\n",
              "      <td>0</td>\n",
              "      <td>5</td>\n",
              "      <td>1633</td>\n",
              "      <td>6440</td>\n",
              "      <td>1900</td>\n",
              "      <td>2</td>\n",
              "      <td>C2</td>\n",
              "      <td>6625000</td>\n",
              "      <td>2017-07-19 00:00:00</td>\n",
              "    </tr>\n",
              "    <tr>\n",
              "      <th>1</th>\n",
              "      <td>5</td>\n",
              "      <td>1</td>\n",
              "      <td>ALPHABET CITY</td>\n",
              "      <td>07 RENTALS - WALKUP APARTMENTS</td>\n",
              "      <td>2</td>\n",
              "      <td>399</td>\n",
              "      <td>26</td>\n",
              "      <td></td>\n",
              "      <td>C7</td>\n",
              "      <td>234 EAST 4TH   STREET</td>\n",
              "      <td></td>\n",
              "      <td>10009</td>\n",
              "      <td>28</td>\n",
              "      <td>3</td>\n",
              "      <td>31</td>\n",
              "      <td>4616</td>\n",
              "      <td>18690</td>\n",
              "      <td>1900</td>\n",
              "      <td>2</td>\n",
              "      <td>C7</td>\n",
              "      <td>-</td>\n",
              "      <td>2016-12-14 00:00:00</td>\n",
              "    </tr>\n",
              "    <tr>\n",
              "      <th>2</th>\n",
              "      <td>6</td>\n",
              "      <td>1</td>\n",
              "      <td>ALPHABET CITY</td>\n",
              "      <td>07 RENTALS - WALKUP APARTMENTS</td>\n",
              "      <td>2</td>\n",
              "      <td>399</td>\n",
              "      <td>39</td>\n",
              "      <td></td>\n",
              "      <td>C7</td>\n",
              "      <td>197 EAST 3RD   STREET</td>\n",
              "      <td></td>\n",
              "      <td>10009</td>\n",
              "      <td>16</td>\n",
              "      <td>1</td>\n",
              "      <td>17</td>\n",
              "      <td>2212</td>\n",
              "      <td>7803</td>\n",
              "      <td>1900</td>\n",
              "      <td>2</td>\n",
              "      <td>C7</td>\n",
              "      <td>-</td>\n",
              "      <td>2016-12-09 00:00:00</td>\n",
              "    </tr>\n",
              "  </tbody>\n",
              "</table>\n",
              "</div>"
            ],
            "text/plain": [
              "   Unnamed: 0  BOROUGH  ... SALE PRICE            SALE DATE\n",
              "0           4        1  ...    6625000  2017-07-19 00:00:00\n",
              "1           5        1  ...        -    2016-12-14 00:00:00\n",
              "2           6        1  ...        -    2016-12-09 00:00:00\n",
              "\n",
              "[3 rows x 22 columns]"
            ]
          },
          "metadata": {
            "tags": []
          },
          "execution_count": 7
        }
>>>>>>> 718993765a3bab1abb84e4a6225adbc3b425a5de
      ]
     },
     "execution_count": 8,
     "metadata": {},
     "output_type": "execute_result"
    }
   ],
   "source": [
    "df.head(3)"
   ]
  },
  {
   "cell_type": "code",
   "execution_count": 9,
   "metadata": {
    "colab": {
     "base_uri": "https://localhost:8080/",
     "height": 153
    },
    "colab_type": "code",
    "id": "s5B3XEGkwUIv",
    "outputId": "3cfca370-262e-4991-dc55-a3d9ecbd9190"
   },
   "outputs": [
    {
<<<<<<< HEAD
     "data": {
      "text/plain": [
       "Index(['Unnamed: 0', 'BOROUGH', 'NEIGHBORHOOD', 'BUILDING CLASS CATEGORY',\n",
       "       'TAX CLASS AT PRESENT', 'BLOCK', 'LOT', 'EASE-MENT',\n",
       "       'BUILDING CLASS AT PRESENT', 'ADDRESS', 'APARTMENT NUMBER', 'ZIP CODE',\n",
       "       'RESIDENTIAL UNITS', 'COMMERCIAL UNITS', 'TOTAL UNITS',\n",
       "       'LAND SQUARE FEET', 'GROSS SQUARE FEET', 'YEAR BUILT',\n",
       "       'TAX CLASS AT TIME OF SALE', 'BUILDING CLASS AT TIME OF SALE',\n",
       "       'SALE PRICE', 'SALE DATE'],\n",
       "      dtype='object')"
=======
      "cell_type": "code",
      "metadata": {
        "id": "s5B3XEGkwUIv",
        "colab_type": "code",
        "colab": {
          "base_uri": "https://localhost:8080/",
          "height": 153
        },
        "outputId": "c1a1b1e6-7edd-480c-a87c-065c22f8df51"
      },
      "source": [
        "df.columns"
      ],
      "execution_count": null,
      "outputs": [
        {
          "output_type": "execute_result",
          "data": {
            "text/plain": [
              "Index(['Unnamed: 0', 'BOROUGH', 'NEIGHBORHOOD', 'BUILDING CLASS CATEGORY',\n",
              "       'TAX CLASS AT PRESENT', 'BLOCK', 'LOT', 'EASE-MENT',\n",
              "       'BUILDING CLASS AT PRESENT', 'ADDRESS', 'APARTMENT NUMBER', 'ZIP CODE',\n",
              "       'RESIDENTIAL UNITS', 'COMMERCIAL UNITS', 'TOTAL UNITS',\n",
              "       'LAND SQUARE FEET', 'GROSS SQUARE FEET', 'YEAR BUILT',\n",
              "       'TAX CLASS AT TIME OF SALE', 'BUILDING CLASS AT TIME OF SALE',\n",
              "       'SALE PRICE', 'SALE DATE'],\n",
              "      dtype='object')"
            ]
          },
          "metadata": {
            "tags": []
          },
          "execution_count": 8
        }
>>>>>>> 718993765a3bab1abb84e4a6225adbc3b425a5de
      ]
     },
     "execution_count": 9,
     "metadata": {},
     "output_type": "execute_result"
    }
   ],
   "source": [
    "df.columns"
   ]
  },
  {
   "cell_type": "code",
   "execution_count": 10,
   "metadata": {
    "colab": {},
    "colab_type": "code",
    "id": "7WVcLaNuwXZE"
   },
   "outputs": [],
   "source": [
    "del df['Unnamed: 0']\n",
    "del df['APARTMENT NUMBER']"
   ]
  },
  {
   "cell_type": "code",
   "execution_count": 11,
   "metadata": {
    "colab": {},
    "colab_type": "code",
    "id": "JZQuz4fbyI_h"
   },
   "outputs": [],
   "source": [
    "df['SALE DATE'] = pd.to_datetime(df['SALE DATE'], infer_datetime_format=True)\n",
    "df['TAX CLASS AT TIME OF SALE'] = df['TAX CLASS AT TIME OF SALE'].astype('category')\n",
    "df['TAX CLASS AT PRESENT'] = df['TAX CLASS AT PRESENT'].astype('category')\n",
    "df['LAND SQUARE FEET'] = pd.to_numeric(df['LAND SQUARE FEET'], errors='coerce')\n",
    "df['GROSS SQUARE FEET']= pd.to_numeric(df['GROSS SQUARE FEET'], errors='coerce')\n",
    "df['SALE PRICE'] = pd.to_numeric(df['SALE PRICE'], errors='coerce')\n",
    "df['BOROUGH'] = df['BOROUGH'].astype('category')"
   ]
  },
  {
   "cell_type": "code",
   "execution_count": 12,
   "metadata": {
    "colab": {},
    "colab_type": "code",
    "id": "ihc-gv7pwaF2"
   },
   "outputs": [],
   "source": [
    "df.columns = df.columns.str.replace(\" \",\"_\").str.lower()"
   ]
  },
  {
   "cell_type": "code",
   "execution_count": 13,
   "metadata": {
    "colab": {
     "base_uri": "https://localhost:8080/",
     "height": 51
    },
    "colab_type": "code",
    "id": "71ddzEiHTIdZ",
    "outputId": "5fda5b7f-7d92-4278-b71f-86752fd1db9b"
   },
   "outputs": [
    {
<<<<<<< HEAD
     "name": "stdout",
     "output_type": "stream",
     "text": [
      "Number of duplicated rows: 765\n",
      "Duplicated rows deleted: True\n"
     ]
    }
   ],
   "source": [
    "print(\"Number of duplicated rows:\",sum(df.duplicated(df.columns)))\n",
    "df = df.drop_duplicates(df.columns, keep='last')\n",
    "print(\"Duplicated rows deleted:\",sum(df.duplicated(df.columns))==0)"
   ]
  },
  {
   "cell_type": "code",
   "execution_count": 14,
   "metadata": {
    "colab": {
     "base_uri": "https://localhost:8080/",
     "height": 374
=======
      "cell_type": "code",
      "metadata": {
        "id": "7WVcLaNuwXZE",
        "colab_type": "code",
        "colab": {}
      },
      "source": [
        "del df['Unnamed: 0']\n",
        "del df['APARTMENT NUMBER']"
      ],
      "execution_count": null,
      "outputs": []
    },
    {
      "cell_type": "code",
      "metadata": {
        "id": "JZQuz4fbyI_h",
        "colab_type": "code",
        "colab": {}
      },
      "source": [
        "df['SALE DATE'] = pd.to_datetime(df['SALE DATE'], infer_datetime_format=True)\n",
        "df['TAX CLASS AT TIME OF SALE'] = df['TAX CLASS AT TIME OF SALE'].astype('category')\n",
        "df['TAX CLASS AT PRESENT'] = df['TAX CLASS AT PRESENT'].astype('category')\n",
        "df['LAND SQUARE FEET'] = pd.to_numeric(df['LAND SQUARE FEET'], errors='coerce')\n",
        "df['GROSS SQUARE FEET']= pd.to_numeric(df['GROSS SQUARE FEET'], errors='coerce')\n",
        "df['SALE PRICE'] = pd.to_numeric(df['SALE PRICE'], errors='coerce')\n",
        "df['BOROUGH'] = df['BOROUGH'].astype('category')"
      ],
      "execution_count": null,
      "outputs": []
    },
    {
      "cell_type": "code",
      "metadata": {
        "id": "ihc-gv7pwaF2",
        "colab_type": "code",
        "colab": {}
      },
      "source": [
        "df.columns = df.columns.str.replace(\" \",\"_\").str.lower()"
      ],
      "execution_count": null,
      "outputs": []
    },
    {
      "cell_type": "code",
      "metadata": {
        "id": "71ddzEiHTIdZ",
        "colab_type": "code",
        "colab": {
          "base_uri": "https://localhost:8080/",
          "height": 51
        },
        "outputId": "b6aa17f6-80ce-4b82-9314-6075e23a48d3"
      },
      "source": [
        "print(\"Number of duplicated rows:\",sum(df.duplicated(df.columns)))\n",
        "df = df.drop_duplicates(df.columns, keep='last')\n",
        "print(\"Duplicated rows deleted:\",sum(df.duplicated(df.columns))==0)"
      ],
      "execution_count": null,
      "outputs": [
        {
          "output_type": "stream",
          "text": [
            "Number of duplicated rows: 765\n",
            "Duplicated rows deleted: True\n"
          ],
          "name": "stdout"
        }
      ]
>>>>>>> 718993765a3bab1abb84e4a6225adbc3b425a5de
    },
    "colab_type": "code",
    "id": "LbnFC5vGxqfX",
    "outputId": "b88b5d5c-02b8-4122-b113-044a2588ab81"
   },
   "outputs": [
    {
<<<<<<< HEAD
     "data": {
      "text/plain": [
       "borough                                 category\n",
       "neighborhood                              object\n",
       "building_class_category                   object\n",
       "tax_class_at_present                    category\n",
       "block                                      int64\n",
       "lot                                        int64\n",
       "ease-ment                                 object\n",
       "building_class_at_present                 object\n",
       "address                                   object\n",
       "zip_code                                   int64\n",
       "residential_units                          int64\n",
       "commercial_units                           int64\n",
       "total_units                                int64\n",
       "land_square_feet                         float64\n",
       "gross_square_feet                        float64\n",
       "year_built                                 int64\n",
       "tax_class_at_time_of_sale               category\n",
       "building_class_at_time_of_sale            object\n",
       "sale_price                               float64\n",
       "sale_date                         datetime64[ns]\n",
       "dtype: object"
=======
      "cell_type": "code",
      "metadata": {
        "id": "LbnFC5vGxqfX",
        "colab_type": "code",
        "colab": {
          "base_uri": "https://localhost:8080/",
          "height": 374
        },
        "outputId": "b24f3485-b0d7-4de2-c3c1-edcc4d51bd0f"
      },
      "source": [
        "df.dtypes"
      ],
      "execution_count": null,
      "outputs": [
        {
          "output_type": "execute_result",
          "data": {
            "text/plain": [
              "borough                                 category\n",
              "neighborhood                              object\n",
              "building_class_category                   object\n",
              "tax_class_at_present                    category\n",
              "block                                      int64\n",
              "lot                                        int64\n",
              "ease-ment                                 object\n",
              "building_class_at_present                 object\n",
              "address                                   object\n",
              "zip_code                                   int64\n",
              "residential_units                          int64\n",
              "commercial_units                           int64\n",
              "total_units                                int64\n",
              "land_square_feet                         float64\n",
              "gross_square_feet                        float64\n",
              "year_built                                 int64\n",
              "tax_class_at_time_of_sale               category\n",
              "building_class_at_time_of_sale            object\n",
              "sale_price                               float64\n",
              "sale_date                         datetime64[ns]\n",
              "dtype: object"
            ]
          },
          "metadata": {
            "tags": []
          },
          "execution_count": 13
        }
>>>>>>> 718993765a3bab1abb84e4a6225adbc3b425a5de
      ]
     },
     "execution_count": 14,
     "metadata": {},
     "output_type": "execute_result"
    }
   ],
   "source": [
    "df.dtypes"
   ]
  },
  {
   "cell_type": "code",
   "execution_count": 15,
   "metadata": {
    "colab": {},
    "colab_type": "code",
    "id": "ZP-jHkqYw2tK"
   },
   "outputs": [],
   "source": [
    "miss=df.isnull().sum()/len(df)\n",
    "miss=miss[miss>0]\n",
    "miss.sort_values(inplace=True)\n",
    "miss.columns=[\"name\",\"count\"]"
   ]
  },
  {
   "cell_type": "code",
   "execution_count": 16,
   "metadata": {
    "colab": {
     "base_uri": "https://localhost:8080/",
     "height": 375
    },
    "colab_type": "code",
    "id": "Cu_a8S1MxTiF",
    "outputId": "728d8978-835c-4ceb-afa7-02a4e82423a2"
   },
   "outputs": [
    {
<<<<<<< HEAD
     "data": {
      "text/plain": [
       "<module 'seaborn' from 'c:\\\\users\\\\ryana\\\\appdata\\\\local\\\\programs\\\\python\\\\python37\\\\lib\\\\site-packages\\\\seaborn\\\\__init__.py'>"
=======
      "cell_type": "code",
      "metadata": {
        "id": "ZP-jHkqYw2tK",
        "colab_type": "code",
        "colab": {}
      },
      "source": [
        "miss=df.isnull().sum()/len(df)\n",
        "miss=miss[miss>0]\n",
        "miss.sort_values(inplace=True)\n",
        "miss.columns=[\"name\",\"count\"]"
      ],
      "execution_count": null,
      "outputs": []
    },
    {
      "cell_type": "code",
      "metadata": {
        "id": "Cu_a8S1MxTiF",
        "colab_type": "code",
        "colab": {
          "base_uri": "https://localhost:8080/",
          "height": 375
        },
        "outputId": "1163bb30-8111-4bff-dc12-3fc14d49568e"
      },
      "source": [
        "sns.set(style='whitegrid',color_codes=True)\n",
        "sns.barplot(x=miss.index, y=miss.values)\n",
        "plt.xticks(rotation=90)\n",
        "sns"
      ],
      "execution_count": null,
      "outputs": [
        {
          "output_type": "execute_result",
          "data": {
            "text/plain": [
              "<module 'seaborn' from '/usr/local/lib/python3.6/dist-packages/seaborn/__init__.py'>"
            ]
          },
          "metadata": {
            "tags": []
          },
          "execution_count": 15
        },
        {
          "output_type": "display_data",
          "data": {
            "image/png": "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\n",
            "text/plain": [
              "<Figure size 432x288 with 1 Axes>"
            ]
          },
          "metadata": {
            "tags": []
          }
        }
>>>>>>> 718993765a3bab1abb84e4a6225adbc3b425a5de
      ]
     },
     "execution_count": 16,
     "metadata": {},
     "output_type": "execute_result"
    },
    {
<<<<<<< HEAD
     "data": {
      "image/png": "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\n",
      "text/plain": [
       "<Figure size 432x288 with 1 Axes>"
=======
      "cell_type": "code",
      "metadata": {
        "id": "9m9mOaQVx8yL",
        "colab_type": "code",
        "colab": {}
      },
      "source": [
        "# let's fill these missing values up with mean values.\n",
        "df['land_square_feet']=df['land_square_feet'].fillna(df['land_square_feet'].mean())\n",
        "df['gross_square_feet']=df['gross_square_feet'].fillna(df['gross_square_feet'].mean())"
      ],
      "execution_count": null,
      "outputs": []
    },
    {
      "cell_type": "code",
      "metadata": {
        "id": "osuqghBp4nol",
        "colab_type": "code",
        "colab": {}
      },
      "source": [
        "# I want to add the weekday and month features to the dataset. January sales can differ from July sales.\n",
        "df['weekday'] = df['sale_date'].apply(lambda x: datetime.datetime.weekday(x))\n",
        "df['sale_day'] = pd.DatetimeIndex(df['sale_date']).day\n",
        "df['sale_month'] = pd.DatetimeIndex(df['sale_date']).month\n",
        "df['sale_year'] = pd.DatetimeIndex(df['sale_date']).year\n",
        "del df['sale_date']"
      ],
      "execution_count": null,
      "outputs": []
    },
    {
      "cell_type": "code",
      "metadata": {
        "id": "gqYUtgEE24Nr",
        "colab_type": "code",
        "colab": {
          "base_uri": "https://localhost:8080/",
          "height": 960
        },
        "outputId": "9b04a137-eff0-4973-c5bd-4435584ac6dd"
      },
      "source": [
        "fig, ax = plt.subplots(figsize=(15,15))\n",
        "sns.heatmap(df.corr(),annot=True,cmap=\"Spectral_r\", ax=ax)\n",
        "plt.show()"
      ],
      "execution_count": null,
      "outputs": [
        {
          "output_type": "display_data",
          "data": {
            "image/png": "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\n",
            "text/plain": [
              "<Figure size 1080x1080 with 2 Axes>"
            ]
          },
          "metadata": {
            "tags": []
          }
        }
>>>>>>> 718993765a3bab1abb84e4a6225adbc3b425a5de
      ]
     },
     "metadata": {},
     "output_type": "display_data"
    }
   ],
   "source": [
    "sns.set(style='whitegrid',color_codes=True)\n",
    "sns.barplot(x=miss.index, y=miss.values)\n",
    "plt.xticks(rotation=90)\n",
    "sns"
   ]
  },
  {
   "cell_type": "code",
   "execution_count": 17,
   "metadata": {
    "colab": {},
    "colab_type": "code",
    "id": "9m9mOaQVx8yL"
   },
   "outputs": [],
   "source": [
    "# let's fill these missing values up with mean values.\n",
    "df['land_square_feet']=df['land_square_feet'].fillna(df['land_square_feet'].mean())\n",
    "df['gross_square_feet']=df['gross_square_feet'].fillna(df['gross_square_feet'].mean())"
   ]
  },
  {
   "cell_type": "code",
   "execution_count": 18,
   "metadata": {
    "colab": {},
    "colab_type": "code",
    "id": "osuqghBp4nol"
   },
   "outputs": [],
   "source": [
    "# I want to add the weekday and month features to the dataset. January sales can differ from July sales.\n",
    "df['weekday'] = df['sale_date'].apply(lambda x: datetime.datetime.weekday(x))\n",
    "df['sale_day'] = pd.DatetimeIndex(df['sale_date']).day\n",
    "df['sale_month'] = pd.DatetimeIndex(df['sale_date']).month\n",
    "df['sale_year'] = pd.DatetimeIndex(df['sale_date']).year\n",
    "del df['sale_date']"
   ]
  },
  {
   "cell_type": "code",
   "execution_count": 19,
   "metadata": {
    "colab": {
     "base_uri": "https://localhost:8080/",
     "height": 960
    },
    "colab_type": "code",
    "id": "gqYUtgEE24Nr",
    "outputId": "36e1c6b9-6fe8-41c0-9746-8269d24ab985"
   },
   "outputs": [
    {
<<<<<<< HEAD
     "data": {
      "image/png": "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\n",
      "text/plain": [
       "<Figure size 1080x1080 with 2 Axes>"
=======
      "cell_type": "code",
      "metadata": {
        "id": "_FSwiIhw3QAi",
        "colab_type": "code",
        "colab": {
          "base_uri": "https://localhost:8080/",
          "height": 272
        },
        "outputId": "e4ca1342-f28e-4efe-f8b5-e97a8a3d0706"
      },
      "source": [
        "# For a numeric representation of correlation with sale_price\n",
        "df.corr()['sale_price'].sort_values(ascending=False)"
      ],
      "execution_count": null,
      "outputs": [
        {
          "output_type": "execute_result",
          "data": {
            "text/plain": [
              "sale_price           1.000000\n",
              "gross_square_feet    0.449638\n",
              "total_units          0.126576\n",
              "residential_units    0.122465\n",
              "land_square_feet     0.060132\n",
              "commercial_units     0.044534\n",
              "lot                  0.012319\n",
              "weekday              0.004349\n",
              "sale_month           0.003379\n",
              "sale_year           -0.002087\n",
              "year_built          -0.003708\n",
              "sale_day            -0.004907\n",
              "zip_code            -0.034152\n",
              "block               -0.061249\n",
              "Name: sale_price, dtype: float64"
            ]
          },
          "metadata": {
            "tags": []
          },
          "execution_count": 19
        }
>>>>>>> 718993765a3bab1abb84e4a6225adbc3b425a5de
      ]
     },
     "metadata": {},
     "output_type": "display_data"
    }
   ],
   "source": [
    "fig, ax = plt.subplots(figsize=(15,15))\n",
    "sns.heatmap(df.corr(),annot=True,cmap=\"Spectral_r\", ax=ax)\n",
    "plt.show()"
   ]
  },
  {
   "cell_type": "code",
   "execution_count": 20,
   "metadata": {
    "colab": {
     "base_uri": "https://localhost:8080/",
     "height": 272
    },
    "colab_type": "code",
    "id": "_FSwiIhw3QAi",
    "outputId": "88fc8a81-474a-456d-b2cc-7cac17e49ca1"
   },
   "outputs": [
    {
<<<<<<< HEAD
     "data": {
      "text/plain": [
       "sale_price           1.000000\n",
       "gross_square_feet    0.449638\n",
       "total_units          0.126576\n",
       "residential_units    0.122465\n",
       "land_square_feet     0.060132\n",
       "commercial_units     0.044534\n",
       "lot                  0.012319\n",
       "weekday              0.004349\n",
       "sale_month           0.003379\n",
       "sale_year           -0.002087\n",
       "year_built          -0.003708\n",
       "sale_day            -0.004907\n",
       "zip_code            -0.034152\n",
       "block               -0.061249\n",
       "Name: sale_price, dtype: float64"
=======
      "cell_type": "code",
      "metadata": {
        "id": "y1QkkK6s4d1Y",
        "colab_type": "code",
        "colab": {
          "base_uri": "https://localhost:8080/",
          "height": 479
        },
        "outputId": "75b5113b-e995-4320-abe8-f57e6dacf210"
      },
      "source": [
        "df.head()"
      ],
      "execution_count": null,
      "outputs": [
        {
          "output_type": "execute_result",
          "data": {
            "text/html": [
              "<div>\n",
              "<style scoped>\n",
              "    .dataframe tbody tr th:only-of-type {\n",
              "        vertical-align: middle;\n",
              "    }\n",
              "\n",
              "    .dataframe tbody tr th {\n",
              "        vertical-align: top;\n",
              "    }\n",
              "\n",
              "    .dataframe thead th {\n",
              "        text-align: right;\n",
              "    }\n",
              "</style>\n",
              "<table border=\"1\" class=\"dataframe\">\n",
              "  <thead>\n",
              "    <tr style=\"text-align: right;\">\n",
              "      <th></th>\n",
              "      <th>borough</th>\n",
              "      <th>neighborhood</th>\n",
              "      <th>building_class_category</th>\n",
              "      <th>tax_class_at_present</th>\n",
              "      <th>block</th>\n",
              "      <th>lot</th>\n",
              "      <th>ease-ment</th>\n",
              "      <th>building_class_at_present</th>\n",
              "      <th>address</th>\n",
              "      <th>zip_code</th>\n",
              "      <th>residential_units</th>\n",
              "      <th>commercial_units</th>\n",
              "      <th>total_units</th>\n",
              "      <th>land_square_feet</th>\n",
              "      <th>gross_square_feet</th>\n",
              "      <th>year_built</th>\n",
              "      <th>tax_class_at_time_of_sale</th>\n",
              "      <th>building_class_at_time_of_sale</th>\n",
              "      <th>sale_price</th>\n",
              "      <th>weekday</th>\n",
              "      <th>sale_day</th>\n",
              "      <th>sale_month</th>\n",
              "      <th>sale_year</th>\n",
              "    </tr>\n",
              "  </thead>\n",
              "  <tbody>\n",
              "    <tr>\n",
              "      <th>0</th>\n",
              "      <td>1</td>\n",
              "      <td>ALPHABET CITY</td>\n",
              "      <td>07 RENTALS - WALKUP APARTMENTS</td>\n",
              "      <td>2A</td>\n",
              "      <td>392</td>\n",
              "      <td>6</td>\n",
              "      <td></td>\n",
              "      <td>C2</td>\n",
              "      <td>153 AVENUE B</td>\n",
              "      <td>10009</td>\n",
              "      <td>5</td>\n",
              "      <td>0</td>\n",
              "      <td>5</td>\n",
              "      <td>1633.0</td>\n",
              "      <td>6440.0</td>\n",
              "      <td>1900</td>\n",
              "      <td>2</td>\n",
              "      <td>C2</td>\n",
              "      <td>6625000.0</td>\n",
              "      <td>2</td>\n",
              "      <td>19</td>\n",
              "      <td>7</td>\n",
              "      <td>2017</td>\n",
              "    </tr>\n",
              "    <tr>\n",
              "      <th>1</th>\n",
              "      <td>1</td>\n",
              "      <td>ALPHABET CITY</td>\n",
              "      <td>07 RENTALS - WALKUP APARTMENTS</td>\n",
              "      <td>2</td>\n",
              "      <td>399</td>\n",
              "      <td>26</td>\n",
              "      <td></td>\n",
              "      <td>C7</td>\n",
              "      <td>234 EAST 4TH   STREET</td>\n",
              "      <td>10009</td>\n",
              "      <td>28</td>\n",
              "      <td>3</td>\n",
              "      <td>31</td>\n",
              "      <td>4616.0</td>\n",
              "      <td>18690.0</td>\n",
              "      <td>1900</td>\n",
              "      <td>2</td>\n",
              "      <td>C7</td>\n",
              "      <td>NaN</td>\n",
              "      <td>2</td>\n",
              "      <td>14</td>\n",
              "      <td>12</td>\n",
              "      <td>2016</td>\n",
              "    </tr>\n",
              "    <tr>\n",
              "      <th>2</th>\n",
              "      <td>1</td>\n",
              "      <td>ALPHABET CITY</td>\n",
              "      <td>07 RENTALS - WALKUP APARTMENTS</td>\n",
              "      <td>2</td>\n",
              "      <td>399</td>\n",
              "      <td>39</td>\n",
              "      <td></td>\n",
              "      <td>C7</td>\n",
              "      <td>197 EAST 3RD   STREET</td>\n",
              "      <td>10009</td>\n",
              "      <td>16</td>\n",
              "      <td>1</td>\n",
              "      <td>17</td>\n",
              "      <td>2212.0</td>\n",
              "      <td>7803.0</td>\n",
              "      <td>1900</td>\n",
              "      <td>2</td>\n",
              "      <td>C7</td>\n",
              "      <td>NaN</td>\n",
              "      <td>4</td>\n",
              "      <td>9</td>\n",
              "      <td>12</td>\n",
              "      <td>2016</td>\n",
              "    </tr>\n",
              "    <tr>\n",
              "      <th>3</th>\n",
              "      <td>1</td>\n",
              "      <td>ALPHABET CITY</td>\n",
              "      <td>07 RENTALS - WALKUP APARTMENTS</td>\n",
              "      <td>2B</td>\n",
              "      <td>402</td>\n",
              "      <td>21</td>\n",
              "      <td></td>\n",
              "      <td>C4</td>\n",
              "      <td>154 EAST 7TH STREET</td>\n",
              "      <td>10009</td>\n",
              "      <td>10</td>\n",
              "      <td>0</td>\n",
              "      <td>10</td>\n",
              "      <td>2272.0</td>\n",
              "      <td>6794.0</td>\n",
              "      <td>1913</td>\n",
              "      <td>2</td>\n",
              "      <td>C4</td>\n",
              "      <td>3936272.0</td>\n",
              "      <td>4</td>\n",
              "      <td>23</td>\n",
              "      <td>9</td>\n",
              "      <td>2016</td>\n",
              "    </tr>\n",
              "    <tr>\n",
              "      <th>4</th>\n",
              "      <td>1</td>\n",
              "      <td>ALPHABET CITY</td>\n",
              "      <td>07 RENTALS - WALKUP APARTMENTS</td>\n",
              "      <td>2A</td>\n",
              "      <td>404</td>\n",
              "      <td>55</td>\n",
              "      <td></td>\n",
              "      <td>C2</td>\n",
              "      <td>301 EAST 10TH   STREET</td>\n",
              "      <td>10009</td>\n",
              "      <td>6</td>\n",
              "      <td>0</td>\n",
              "      <td>6</td>\n",
              "      <td>2369.0</td>\n",
              "      <td>4615.0</td>\n",
              "      <td>1900</td>\n",
              "      <td>2</td>\n",
              "      <td>C2</td>\n",
              "      <td>8000000.0</td>\n",
              "      <td>3</td>\n",
              "      <td>17</td>\n",
              "      <td>11</td>\n",
              "      <td>2016</td>\n",
              "    </tr>\n",
              "  </tbody>\n",
              "</table>\n",
              "</div>"
            ],
            "text/plain": [
              "  borough   neighborhood  ... sale_month sale_year\n",
              "0       1  ALPHABET CITY  ...          7      2017\n",
              "1       1  ALPHABET CITY  ...         12      2016\n",
              "2       1  ALPHABET CITY  ...         12      2016\n",
              "3       1  ALPHABET CITY  ...          9      2016\n",
              "4       1  ALPHABET CITY  ...         11      2016\n",
              "\n",
              "[5 rows x 23 columns]"
            ]
          },
          "metadata": {
            "tags": []
          },
          "execution_count": 20
        }
>>>>>>> 718993765a3bab1abb84e4a6225adbc3b425a5de
      ]
     },
     "execution_count": 20,
     "metadata": {},
     "output_type": "execute_result"
    }
   ],
   "source": [
    "# For a numeric representation of correlation with sale_price\n",
    "df.corr()['sale_price'].sort_values(ascending=False)"
   ]
  },
  {
   "cell_type": "code",
   "execution_count": 21,
   "metadata": {
    "colab": {
     "base_uri": "https://localhost:8080/",
     "height": 479
    },
    "colab_type": "code",
    "id": "y1QkkK6s4d1Y",
    "outputId": "051a6b3f-378d-47a9-dd70-aa93003c5ae6"
   },
   "outputs": [
    {
<<<<<<< HEAD
     "data": {
      "text/html": [
       "<div>\n",
       "<style scoped>\n",
       "    .dataframe tbody tr th:only-of-type {\n",
       "        vertical-align: middle;\n",
       "    }\n",
       "\n",
       "    .dataframe tbody tr th {\n",
       "        vertical-align: top;\n",
       "    }\n",
       "\n",
       "    .dataframe thead th {\n",
       "        text-align: right;\n",
       "    }\n",
       "</style>\n",
       "<table border=\"1\" class=\"dataframe\">\n",
       "  <thead>\n",
       "    <tr style=\"text-align: right;\">\n",
       "      <th></th>\n",
       "      <th>borough</th>\n",
       "      <th>neighborhood</th>\n",
       "      <th>building_class_category</th>\n",
       "      <th>tax_class_at_present</th>\n",
       "      <th>block</th>\n",
       "      <th>lot</th>\n",
       "      <th>ease-ment</th>\n",
       "      <th>building_class_at_present</th>\n",
       "      <th>address</th>\n",
       "      <th>zip_code</th>\n",
       "      <th>...</th>\n",
       "      <th>land_square_feet</th>\n",
       "      <th>gross_square_feet</th>\n",
       "      <th>year_built</th>\n",
       "      <th>tax_class_at_time_of_sale</th>\n",
       "      <th>building_class_at_time_of_sale</th>\n",
       "      <th>sale_price</th>\n",
       "      <th>weekday</th>\n",
       "      <th>sale_day</th>\n",
       "      <th>sale_month</th>\n",
       "      <th>sale_year</th>\n",
       "    </tr>\n",
       "  </thead>\n",
       "  <tbody>\n",
       "    <tr>\n",
       "      <th>0</th>\n",
       "      <td>1</td>\n",
       "      <td>ALPHABET CITY</td>\n",
       "      <td>07 RENTALS - WALKUP APARTMENTS</td>\n",
       "      <td>2A</td>\n",
       "      <td>392</td>\n",
       "      <td>6</td>\n",
       "      <td></td>\n",
       "      <td>C2</td>\n",
       "      <td>153 AVENUE B</td>\n",
       "      <td>10009</td>\n",
       "      <td>...</td>\n",
       "      <td>1633.0</td>\n",
       "      <td>6440.0</td>\n",
       "      <td>1900</td>\n",
       "      <td>2</td>\n",
       "      <td>C2</td>\n",
       "      <td>6625000.0</td>\n",
       "      <td>2</td>\n",
       "      <td>19</td>\n",
       "      <td>7</td>\n",
       "      <td>2017</td>\n",
       "    </tr>\n",
       "    <tr>\n",
       "      <th>1</th>\n",
       "      <td>1</td>\n",
       "      <td>ALPHABET CITY</td>\n",
       "      <td>07 RENTALS - WALKUP APARTMENTS</td>\n",
       "      <td>2</td>\n",
       "      <td>399</td>\n",
       "      <td>26</td>\n",
       "      <td></td>\n",
       "      <td>C7</td>\n",
       "      <td>234 EAST 4TH   STREET</td>\n",
       "      <td>10009</td>\n",
       "      <td>...</td>\n",
       "      <td>4616.0</td>\n",
       "      <td>18690.0</td>\n",
       "      <td>1900</td>\n",
       "      <td>2</td>\n",
       "      <td>C7</td>\n",
       "      <td>NaN</td>\n",
       "      <td>2</td>\n",
       "      <td>14</td>\n",
       "      <td>12</td>\n",
       "      <td>2016</td>\n",
       "    </tr>\n",
       "    <tr>\n",
       "      <th>2</th>\n",
       "      <td>1</td>\n",
       "      <td>ALPHABET CITY</td>\n",
       "      <td>07 RENTALS - WALKUP APARTMENTS</td>\n",
       "      <td>2</td>\n",
       "      <td>399</td>\n",
       "      <td>39</td>\n",
       "      <td></td>\n",
       "      <td>C7</td>\n",
       "      <td>197 EAST 3RD   STREET</td>\n",
       "      <td>10009</td>\n",
       "      <td>...</td>\n",
       "      <td>2212.0</td>\n",
       "      <td>7803.0</td>\n",
       "      <td>1900</td>\n",
       "      <td>2</td>\n",
       "      <td>C7</td>\n",
       "      <td>NaN</td>\n",
       "      <td>4</td>\n",
       "      <td>9</td>\n",
       "      <td>12</td>\n",
       "      <td>2016</td>\n",
       "    </tr>\n",
       "    <tr>\n",
       "      <th>3</th>\n",
       "      <td>1</td>\n",
       "      <td>ALPHABET CITY</td>\n",
       "      <td>07 RENTALS - WALKUP APARTMENTS</td>\n",
       "      <td>2B</td>\n",
       "      <td>402</td>\n",
       "      <td>21</td>\n",
       "      <td></td>\n",
       "      <td>C4</td>\n",
       "      <td>154 EAST 7TH STREET</td>\n",
       "      <td>10009</td>\n",
       "      <td>...</td>\n",
       "      <td>2272.0</td>\n",
       "      <td>6794.0</td>\n",
       "      <td>1913</td>\n",
       "      <td>2</td>\n",
       "      <td>C4</td>\n",
       "      <td>3936272.0</td>\n",
       "      <td>4</td>\n",
       "      <td>23</td>\n",
       "      <td>9</td>\n",
       "      <td>2016</td>\n",
       "    </tr>\n",
       "    <tr>\n",
       "      <th>4</th>\n",
       "      <td>1</td>\n",
       "      <td>ALPHABET CITY</td>\n",
       "      <td>07 RENTALS - WALKUP APARTMENTS</td>\n",
       "      <td>2A</td>\n",
       "      <td>404</td>\n",
       "      <td>55</td>\n",
       "      <td></td>\n",
       "      <td>C2</td>\n",
       "      <td>301 EAST 10TH   STREET</td>\n",
       "      <td>10009</td>\n",
       "      <td>...</td>\n",
       "      <td>2369.0</td>\n",
       "      <td>4615.0</td>\n",
       "      <td>1900</td>\n",
       "      <td>2</td>\n",
       "      <td>C2</td>\n",
       "      <td>8000000.0</td>\n",
       "      <td>3</td>\n",
       "      <td>17</td>\n",
       "      <td>11</td>\n",
       "      <td>2016</td>\n",
       "    </tr>\n",
       "  </tbody>\n",
       "</table>\n",
       "<p>5 rows × 23 columns</p>\n",
       "</div>"
      ],
      "text/plain": [
       "  borough   neighborhood                      building_class_category  \\\n",
       "0       1  ALPHABET CITY  07 RENTALS - WALKUP APARTMENTS                \n",
       "1       1  ALPHABET CITY  07 RENTALS - WALKUP APARTMENTS                \n",
       "2       1  ALPHABET CITY  07 RENTALS - WALKUP APARTMENTS                \n",
       "3       1  ALPHABET CITY  07 RENTALS - WALKUP APARTMENTS                \n",
       "4       1  ALPHABET CITY  07 RENTALS - WALKUP APARTMENTS                \n",
       "\n",
       "  tax_class_at_present  block  lot ease-ment building_class_at_present  \\\n",
       "0                   2A    392    6                                  C2   \n",
       "1                    2    399   26                                  C7   \n",
       "2                    2    399   39                                  C7   \n",
       "3                   2B    402   21                                  C4   \n",
       "4                   2A    404   55                                  C2   \n",
       "\n",
       "                  address  zip_code  ...  land_square_feet  gross_square_feet  \\\n",
       "0            153 AVENUE B     10009  ...            1633.0             6440.0   \n",
       "1   234 EAST 4TH   STREET     10009  ...            4616.0            18690.0   \n",
       "2   197 EAST 3RD   STREET     10009  ...            2212.0             7803.0   \n",
       "3     154 EAST 7TH STREET     10009  ...            2272.0             6794.0   \n",
       "4  301 EAST 10TH   STREET     10009  ...            2369.0             4615.0   \n",
       "\n",
       "   year_built  tax_class_at_time_of_sale  building_class_at_time_of_sale  \\\n",
       "0        1900                          2                              C2   \n",
       "1        1900                          2                              C7   \n",
       "2        1900                          2                              C7   \n",
       "3        1913                          2                              C4   \n",
       "4        1900                          2                              C2   \n",
       "\n",
       "   sale_price weekday sale_day  sale_month  sale_year  \n",
       "0   6625000.0       2       19           7       2017  \n",
       "1         NaN       2       14          12       2016  \n",
       "2         NaN       4        9          12       2016  \n",
       "3   3936272.0       4       23           9       2016  \n",
       "4   8000000.0       3       17          11       2016  \n",
       "\n",
       "[5 rows x 23 columns]"
=======
      "cell_type": "code",
      "metadata": {
        "id": "Skjj992jBkSt",
        "colab_type": "code",
        "colab": {}
      },
      "source": [
        "# separating the tax_class_at_present column into number and letter columns for comparison with tax_class_at_time_of_sale (Boolean)\n",
        "df['tax_class_at_present'], df['tax_class_at_present_letter'] = df['tax_class_at_present'].str[0], df['tax_class_at_present'].str[1]\n",
        "df.loc[df['tax_class_at_present_letter'].isna(),'tax_class_at_present_letter'] = 0"
      ],
      "execution_count": null,
      "outputs": []
    },
    {
      "cell_type": "code",
      "metadata": {
        "id": "CoXPI8-ICaG3",
        "colab_type": "code",
        "colab": {}
      },
      "source": [
        "# setting blank tax_class_at_present values to the tax_class_at_time_of_sale\n",
        "# same for building_class columns\n",
        "# this makes an assumption, but a reasonable one, that they are the same if the present value is blank\n",
        "df.loc[df['tax_class_at_present']==\" \", 'tax_class_at_present'] = df.loc[df['tax_class_at_present']==\" \", 'tax_class_at_time_of_sale']\n",
        "df.loc[df['building_class_at_present']==\" \", \"building_class_at_present\"] = df.loc[df['building_class_at_present']==\" \", \"building_class_at_time_of_sale\"]"
      ],
      "execution_count": null,
      "outputs": []
    },
    {
      "cell_type": "code",
      "metadata": {
        "id": "y74hFGGAI30V",
        "colab_type": "code",
        "colab": {
          "base_uri": "https://localhost:8080/",
          "height": 85
        },
        "outputId": "418c00b8-6c59-4d8c-da2c-578c5715b24b"
      },
      "source": [
        "for col in df[['tax_class_at_present','tax_class_at_time_of_sale','building_class_at_present','building_class_at_time_of_sale']]:\n",
        "    print(col)\n",
        "    df[col] = df[col].astype(str).str.strip()"
      ],
      "execution_count": null,
      "outputs": [
        {
          "output_type": "stream",
          "text": [
            "tax_class_at_present\n",
            "tax_class_at_time_of_sale\n",
            "building_class_at_present\n",
            "building_class_at_time_of_sale\n"
          ],
          "name": "stdout"
        }
>>>>>>> 718993765a3bab1abb84e4a6225adbc3b425a5de
      ]
     },
     "execution_count": 21,
     "metadata": {},
     "output_type": "execute_result"
    }
   ],
   "source": [
    "df.head()"
   ]
  },
  {
   "cell_type": "code",
   "execution_count": 22,
   "metadata": {
    "colab": {},
    "colab_type": "code",
    "id": "Skjj992jBkSt"
   },
   "outputs": [],
   "source": [
    "# separating the tax_class_at_present column into number and letter columns for comparison with tax_class_at_time_of_sale (Boolean)\n",
    "df['tax_class_at_present'], df['tax_class_at_present_letter'] = df['tax_class_at_present'].str[0], df['tax_class_at_present'].str[1]\n",
    "df.loc[df['tax_class_at_present_letter'].isna(),'tax_class_at_present_letter'] = 0"
   ]
  },
  {
   "cell_type": "code",
   "execution_count": 23,
   "metadata": {
    "colab": {},
    "colab_type": "code",
    "id": "CoXPI8-ICaG3"
   },
   "outputs": [],
   "source": [
    "# setting blank tax_class_at_present values to the tax_class_at_time_of_sale\n",
    "# same for building_class columns\n",
    "# this makes an assumption, but a reasonable one, that they are the same if the present value is blank\n",
    "df.loc[df['tax_class_at_present']==\" \", 'tax_class_at_present'] = df.loc[df['tax_class_at_present']==\" \", 'tax_class_at_time_of_sale']\n",
    "df.loc[df['building_class_at_present']==\" \", \"building_class_at_present\"] = df.loc[df['building_class_at_present']==\" \", \"building_class_at_time_of_sale\"]"
   ]
  },
  {
   "cell_type": "code",
   "execution_count": null,
   "metadata": {
    "colab": {
     "base_uri": "https://localhost:8080/",
     "height": 85
    },
    "colab_type": "code",
    "id": "y74hFGGAI30V",
    "outputId": "2d3dc4aa-025e-4335-950f-4a0bfdbd9307"
   },
   "outputs": [
    {
<<<<<<< HEAD
     "name": "stdout",
     "output_type": "stream",
     "text": [
      "tax_class_at_present\n",
      "tax_class_at_time_of_sale\n",
      "building_class_at_present\n",
      "building_class_at_time_of_sale\n"
     ]
    }
   ],
   "source": [
    "for col in df[['tax_class_at_present','tax_class_at_time_of_sale','building_class_at_present','building_class_at_time_of_sale']]:\n",
    "    print(col)\n",
    "    df[col] = df[col].astype(str).str.strip()"
   ]
  },
  {
   "cell_type": "code",
   "execution_count": null,
   "metadata": {
    "colab": {},
    "colab_type": "code",
    "id": "uIlERzXWMD3x"
   },
   "outputs": [],
   "source": [
    "df.loc[(df['tax_class_at_present']!=df['tax_class_at_time_of_sale']) & (df['tax_class_at_present'].str.lower()==\"nan\"),\n",
    "       'tax_class_at_present'] = \\\n",
    "       df.loc[(df['tax_class_at_present']!=df['tax_class_at_time_of_sale']) & (df['tax_class_at_present'].str.lower()==\"nan\"),\n",
    "       'tax_class_at_time_of_sale']\n",
    "\n",
    "df.loc[(df['building_class_at_present']!=df['building_class_at_time_of_sale']) & (df['building_class_at_present'].str.lower()==\"nan\"),\n",
    "       'building_class_at_present'] = \\\n",
    "       df.loc[(df['building_class_at_present']!=df['building_class_at_time_of_sale']) & (df['building_class_at_present'].str.lower()==\"nan\"),\n",
    "       'building_class_at_time_of_sale']"
   ]
  },
  {
   "cell_type": "code",
   "execution_count": null,
   "metadata": {
    "colab": {},
    "colab_type": "code",
    "id": "9Wen_rUPS0Ys"
   },
   "outputs": [],
   "source": [
    "df['tax_class_stays_same'] = (df['tax_class_at_present']==df['tax_class_at_time_of_sale']).astype(\"int\")\n",
    "df['building_class_stays_same'] = (df['building_class_at_present']==df['building_class_at_time_of_sale']).astype(\"int\")"
   ]
  },
  {
   "cell_type": "code",
   "execution_count": null,
   "metadata": {
    "colab": {},
    "colab_type": "code",
    "id": "kF160XwPEJm7"
   },
   "outputs": [],
   "source": [
    "# have to get close with street addresses\n",
    "# an address searching algorithm would be best to normalize addresses and search for lat/long values\n",
    "df['address'] = df['address'].str.split(\",\",n=1,expand=True)[0].str.split(\" \",n=1,expand=True)[1]"
   ]
  },
  {
   "cell_type": "code",
   "execution_count": null,
   "metadata": {
    "colab": {
     "base_uri": "https://localhost:8080/",
     "height": 170
=======
      "cell_type": "code",
      "metadata": {
        "id": "uIlERzXWMD3x",
        "colab_type": "code",
        "colab": {}
      },
      "source": [
        "df.loc[(df['tax_class_at_present']!=df['tax_class_at_time_of_sale']) & (df['tax_class_at_present'].str.lower()==\"nan\"),\n",
        "       'tax_class_at_present'] = \\\n",
        "       df.loc[(df['tax_class_at_present']!=df['tax_class_at_time_of_sale']) & (df['tax_class_at_present'].str.lower()==\"nan\"),\n",
        "       'tax_class_at_time_of_sale']\n",
        "\n",
        "df.loc[(df['building_class_at_present']!=df['building_class_at_time_of_sale']) & (df['building_class_at_present'].str.lower()==\"nan\"),\n",
        "       'building_class_at_present'] = \\\n",
        "       df.loc[(df['building_class_at_present']!=df['building_class_at_time_of_sale']) & (df['building_class_at_present'].str.lower()==\"nan\"),\n",
        "       'building_class_at_time_of_sale']"
      ],
      "execution_count": null,
      "outputs": []
    },
    {
      "cell_type": "code",
      "metadata": {
        "id": "9Wen_rUPS0Ys",
        "colab_type": "code",
        "colab": {}
      },
      "source": [
        "df['tax_class_stays_same'] = (df['tax_class_at_present']==df['tax_class_at_time_of_sale']).astype(\"int\")\n",
        "df['building_class_stays_same'] = (df['building_class_at_present']==df['building_class_at_time_of_sale']).astype(\"int\")"
      ],
      "execution_count": null,
      "outputs": []
    },
    {
      "cell_type": "code",
      "metadata": {
        "id": "kF160XwPEJm7",
        "colab_type": "code",
        "colab": {}
      },
      "source": [
        "# have to get close with street addresses\n",
        "# an address searching algorithm would be best to normalize addresses and search for lat/long values\n",
        "df['address'] = df['address'].str.split(\",\",n=1,expand=True)[0].str.split(\" \",n=1,expand=True)[1]"
      ],
      "execution_count": null,
      "outputs": []
    },
    {
      "cell_type": "code",
      "metadata": {
        "id": "JUFL_Hcy9MOd",
        "colab_type": "code",
        "colab": {
          "base_uri": "https://localhost:8080/",
          "height": 170
        },
        "outputId": "467ec43c-856e-4cd9-cb54-914fab7fcc01"
      },
      "source": [
        "df.columns"
      ],
      "execution_count": null,
      "outputs": [
        {
          "output_type": "execute_result",
          "data": {
            "text/plain": [
              "Index(['borough', 'neighborhood', 'building_class_category',\n",
              "       'tax_class_at_present', 'block', 'lot', 'ease-ment',\n",
              "       'building_class_at_present', 'address', 'zip_code', 'residential_units',\n",
              "       'commercial_units', 'total_units', 'land_square_feet',\n",
              "       'gross_square_feet', 'year_built', 'tax_class_at_time_of_sale',\n",
              "       'building_class_at_time_of_sale', 'sale_price', 'weekday', 'sale_day',\n",
              "       'sale_month', 'sale_year', 'tax_class_at_present_letter',\n",
              "       'tax_class_stays_same', 'building_class_stays_same'],\n",
              "      dtype='object')"
            ]
          },
          "metadata": {
            "tags": []
          },
          "execution_count": 27
        }
      ]
>>>>>>> 718993765a3bab1abb84e4a6225adbc3b425a5de
    },
    "colab_type": "code",
    "id": "JUFL_Hcy9MOd",
    "outputId": "9b4cb0b3-9597-4d8c-db1b-e6b9ccd9657c"
   },
   "outputs": [
    {
<<<<<<< HEAD
     "data": {
      "text/plain": [
       "Index(['borough', 'neighborhood', 'building_class_category',\n",
       "       'tax_class_at_present', 'block', 'lot', 'ease-ment',\n",
       "       'building_class_at_present', 'address', 'zip_code', 'residential_units',\n",
       "       'commercial_units', 'total_units', 'land_square_feet',\n",
       "       'gross_square_feet', 'year_built', 'tax_class_at_time_of_sale',\n",
       "       'building_class_at_time_of_sale', 'sale_price', 'weekday', 'sale_day',\n",
       "       'sale_month', 'sale_year', 'tax_class_at_present_letter',\n",
       "       'tax_class_stays_same', 'building_class_stays_same'],\n",
       "      dtype='object')"
=======
      "cell_type": "code",
      "metadata": {
        "id": "qc9NFF3jniq_",
        "colab_type": "code",
        "colab": {
          "base_uri": "https://localhost:8080/",
          "height": 51
        },
        "outputId": "baaef263-20c6-4f81-ace6-bd134614f7a9"
      },
      "source": [
        "orig_data_length = len(df)\n",
        "df = df[(df['sale_price'] > 100000) & (df['sale_price'] < 5000000)]\n",
        "# df = df[df['gross_square_feet'] < 10000]\n",
        "# df = df[df['land_square_feet'] < 10000]\n",
        "# df = df[(df['total_units'] > 0) & (df['total_units'] != 2261)]\n",
        "print(\"Percentage of original data left:\",str(round((len(df)/orig_data_length)*100,1))+\"%\")\n",
        "print(\"New Dataset Shape:\",df.shape)"
      ],
      "execution_count": null,
      "outputs": [
        {
          "output_type": "stream",
          "text": [
            "Percentage of original data left: 65.1%\n",
            "New Dataset Shape: (54579, 26)\n"
          ],
          "name": "stdout"
        }
>>>>>>> 718993765a3bab1abb84e4a6225adbc3b425a5de
      ]
     },
     "execution_count": 28,
     "metadata": {},
     "output_type": "execute_result"
    }
   ],
   "source": [
    "df.columns"
   ]
  },
  {
   "cell_type": "code",
   "execution_count": null,
   "metadata": {
    "colab": {
     "base_uri": "https://localhost:8080/",
     "height": 51
    },
    "colab_type": "code",
    "id": "qc9NFF3jniq_",
    "outputId": "98c2ce93-0c26-491f-977b-fb29ed281130"
   },
   "outputs": [
    {
<<<<<<< HEAD
     "name": "stdout",
     "output_type": "stream",
     "text": [
      "Percentage of original data left: 65.1%\n",
      "New Dataset Shape: (54579, 26)\n"
     ]
    }
   ],
   "source": [
    "orig_data_length = len(df)\n",
    "df = df[(df['sale_price'] > 100000) & (df['sale_price'] < 5000000)]\n",
    "# df = df[df['gross_square_feet'] < 10000]\n",
    "# df = df[df['land_square_feet'] < 10000]\n",
    "# df = df[(df['total_units'] > 0) & (df['total_units'] != 2261)]\n",
    "print(\"Percentage of original data left:\",str(round((len(df)/orig_data_length)*100,1))+\"%\")\n",
    "print(\"New Dataset Shape:\",df.shape)"
   ]
  },
  {
   "cell_type": "code",
   "execution_count": null,
   "metadata": {
    "colab": {
     "base_uri": "https://localhost:8080/",
     "height": 51
=======
      "cell_type": "code",
      "metadata": {
        "id": "mTbh5KCdc2bC",
        "colab_type": "code",
        "colab": {
          "base_uri": "https://localhost:8080/",
          "height": 51
        },
        "outputId": "4c5f194e-5482-4c68-f908-ed0ced7727ca"
      },
      "source": [
        "print(\"Skewness: %f\" % df['sale_price'].skew())\n",
        "print(\"Kurtosis: %f\" % df['sale_price'].kurt())"
      ],
      "execution_count": null,
      "outputs": [
        {
          "output_type": "stream",
          "text": [
            "Skewness: 2.344063\n",
            "Kurtosis: 6.358450\n"
          ],
          "name": "stdout"
        }
      ]
>>>>>>> 718993765a3bab1abb84e4a6225adbc3b425a5de
    },
    "colab_type": "code",
    "id": "mTbh5KCdc2bC",
    "outputId": "7dbc5611-97b8-4881-db2d-93c0567efbb1"
   },
   "outputs": [
    {
<<<<<<< HEAD
     "name": "stdout",
     "output_type": "stream",
     "text": [
      "Skewness: 2.344063\n",
      "Kurtosis: 6.358450\n"
     ]
    }
   ],
   "source": [
    "print(\"Skewness: %f\" % df['sale_price'].skew())\n",
    "print(\"Kurtosis: %f\" % df['sale_price'].kurt())"
   ]
  },
  {
   "cell_type": "code",
   "execution_count": null,
   "metadata": {
    "colab": {
     "base_uri": "https://localhost:8080/",
     "height": 296
=======
      "cell_type": "code",
      "metadata": {
        "id": "8EAJIIR3c980",
        "colab_type": "code",
        "colab": {
          "base_uri": "https://localhost:8080/",
          "height": 296
        },
        "outputId": "1bf236b1-501b-4dd9-dfb4-687e6161e8ea"
      },
      "source": [
        "sns.distplot(df['sale_price'],fit=norm)\n",
        "plt.show()"
      ],
      "execution_count": null,
      "outputs": [
        {
          "output_type": "display_data",
          "data": {
            "image/png": "iVBORw0KGgoAAAANSUhEUgAAAXgAAAEXCAYAAACnP18pAAAABHNCSVQICAgIfAhkiAAAAAlwSFlzAAALEgAACxIB0t1+/AAAADh0RVh0U29mdHdhcmUAbWF0cGxvdGxpYiB2ZXJzaW9uMy4yLjIsIGh0dHA6Ly9tYXRwbG90bGliLm9yZy+WH4yJAAAgAElEQVR4nO3dd3hVVdr38e/pLb2fJCRAlBAJqIBiL1jiSx8VeQad57UQKzKDghQZiijKiA3QYYARHUFnBp2XkVhAxxkFRxAjAgEJLSQE0gspJzn9/SMQCQkkwGlJ7s91eZHs7LP3vSP8zjprr72Wwu12uxFCCNHlKP1dgBBCCO+QgBdCiC5KAl4IIbooCXghhOiiJOCFEKKLkoAXQoguKqACfuHChQwdOpTU1FT27dvnseO6XC5ef/11MjIyGDlyJA8//LDHji2EEIFK7e8CTnXLLbfwv//7v9x7770ePe67775LXl4eWVlZaDQaysvLPXp8IYQIRAEV8IMHD25z+44dO1i0aBH19fUATJo0iZtuuqnDx3377bd5//330Wg0AERFRV1wrUIIEegCKuDbUlNTw5w5c1i+fDkxMTGUlpZy9913k5WVRUhISLuvr62tpbq6ms8++4wvvvgCpVJJZmYmt956qw+qF0II/wn4gN++fTuFhYVkZmY2b1MoFOTn59O/f3+GDBnS5utiYmJYv349TqcTm82Gy+Vi7dq15OfnM378ePr06UNSUpKvLkMIIXwu4APe7XaTmprKmjVr2vz51q1bz/r6sLAwjEYjo0aNAiA5OZlLLrmEPXv2SMALIbq0gBpF05bLL7+c/Px8tmzZ0rxt586dnMscaSNGjGDTpk0AVFRUsHfvXi6++GKP1yqEEIFEEUizST7//PNs3LiR8vJywsPDCQsL45NPPmHnzp28/PLLHD9+HLvdTo8ePVi2bBlKZcfenyorK5k5cyaFhYUoFAoefPBBfvWrX3n5aoQQwr8CKuCFEEJ4TsB30QghhDg/AXGT1eVyUV9fj0ajQaFQ+LscIYToFNxuN3a7HZPJ1GaXdUAEfH19vUenJhBCiO6kT58+BAcHt9oeEAF/8gnTPn36oNVqvXKOnJwc0tPTvXLsQNHVr1Gur3OT6/M8m83Gvn37mjP0dB0K+IULF7JhwwaOHj3K+vXr6dOnT6t93nzzTT799FOUSiUajYbJkydz/fXXd6jIk90yWq0WnU7XodecD28eO1B09WuU6+vc5Pq840xd2x0K+I5MAjZgwAAefPBBDAYDe/fu5b777mPz5s3o9frzq1gIIcQF6VDAn2kSsFOd2lpPTU3F7XZTXV1NXFzc+VcnhBDivHmlD37dunUkJSWdc7jn5OR4o5xm2dnZXj1+IOjq1yjX17nJ9fmWxwP++++/54033uDtt98+59emp6d7rQ8rOzubQYMGeeXYgaKrX6NcX+cm1+d5Vqv1rA1jjwb89u3bmTp1Km+99Ra9e/f25KGFEEKcI489ybpz504mT57M4sWL6devn6cOK4QQ4jx1KOCff/55brjhBoqLi3nggQcYPnw4AJmZmezatQuAefPm0djYyOzZsxk9ejSjR48mNzfXe5ULIYQ4qw510cyaNYtZs2a12r5ixYrmrz/66CPPVdXJ1FpsNDQ6Wmwz6NUEG73z0JYQQnREQDzJ2tk1NDr4Mbe0xbaBqTES8EIIv5LZJIUQoouSgBdCiC5KAl4IIbooCXghhOiiJOCFEKKLkoAXQoguSgJeCCG6KBkH7yE5B8tptDkJD9FhjjT5uxwhhJCA94SSSgtfbz/a/H1YsI5rB8T7sSIhhJAuGo/YklMEwPiMVK68JI7qWivFFRY/VyWE6O4k4C+Q2+3mv7uKSIwJIjxYT9+e4QDsPFDm58qEEN2dBPwF2pNXSXl1A32Tm4I92KglIkTPzgPlfq5MCNHdScBfoH9nH0GnUdErIbR5W09zCPuPVFPfYPdjZUKI7k4C/gJY7U42/3SUQX1j0KpVzduTzcE4XW627ys9y6uFEMK7JOAvwPbcUuobHVyVbm6xPS7ChMmgYdueEj9VJoQQEvAX5MfcUgw6Fakn+t9PUioVpPeOJHtvCU6X20/VCSG6Own4C7A9t5T+KdGoVa1/jQMuiuJ4nY28Y8f9UJkQQkjAn7ei8nqKKywMTI1u8+cX9wgDYO/hSl+WJYQQzSTgz9PJJfouT41p8+cRIXoiQ/X8LAEvhPATCfjztD23lNgII+aotuedUSgU9E2OkBa8EMJvJODPg8PpYueBMgamxqBQKM64X9+eEZRWNVBxvMGH1QkhRBMJ+POw93AlDVYnl5+h//2ktBPTFuzNr/JFWUII0YIE/HnYvq8MpVLBgIvOHvC9E8LQqJXSTSOE8AsJ+PPwY24pqUnhmAyas+6nUSu5uEeY3GgVQviFBPw5Ol5n5WBhNQP7tj165nRpPSM4WFiNze70cmVCCNFSuwG/cOFChg4dSmpqKvv27WtzH6fTybx587j11lu57bbbWLt2rccLDRQ79pfhdsPAMwyPPF3fnhE4nG4OFFZ7uTIhhGip3YC/5ZZbWLNmDQkJCWfcZ/369RQUFLBx40b+9re/sWTJEgoLCz1aaCCotdj4784iTAYNIUYtpZUWSistWM/SOu+bHAE0TSsshBC+1G7ADx48GLPZfNZ9Pv30U8aOHYtSqSQiIoJbb72Vzz//3GNFBgpLg52f9pVijjTy0/4yfswt5cfcUhxOV6t9HU4XpZUWbHYn5igT2T+XUFppodZi80PlQojuyCN98EVFRcTH/7IGqdlspri42BOHDihHy+qpb3TQIza43X2tdmfzG0BkqJ69+VVs+7mEhkaHDyoVQogAW3Q7JyfHq8fPzs6+oNdvPdAUzkpnDfkFdc3bEyI15Bfkt9j31G1ahQ2H08Wunw+RGO7iSJ73+uMv9BoDnVxf5ybX51seCXiz2cyxY8cYMGAA0LpF31Hp6enodDpPlNRKdnY2gwYNuqBjrN2ymfAQHX0v6tVie1BQEMlJyWfcFhPr4McDu3EogzDHmYmJSLmgOs7EE9cYyOT6Oje5Ps+zWq1nbRh7pIvmjjvuYO3atbhcLiorK/nyyy/JyMjwxKEDhtPpYv+RKhJj2u+eOZ1BpyYiRM/Rsrr2dxZCCA9pN+Cff/55brjhBoqLi3nggQcYPnw4AJmZmezatQuA0aNHk5iYyO23384999zDE088QY8ePbxbuY8dLqrBZndhjjSe1+sTYoIorqjH7mh9Q1YIIbyh3S6aWbNmMWvWrFbbV6xY0fy1SqVi3rx5nq0swJycTyY2ou3ZI9uTGB3ErgPlHC46TkJMkCdLE0KINsmTrB20N7+S0CAtwcazT09wJvHRTW8Mew/LxGNCCN+QgO+g3MNVpCSEnXV64LPRa9VEhenZmy8PPAkhfEMCvgOqa60UVdSTkhB6QcdJiA7iQOFxmZdGCOETEvAdkHui1Z2SeOEB73C6yJX54YUQPiAB3wF786tQKRUkx4Vc0HHio4JQKGDngXIPVSaEEGcmAd8Be/Mr6Z0QilajuqDj6LQqkmKD2XVQAl4I4X0S8O1oesCpmr49IzxyvL49I8jNr6TRJnPSCCG8SwK+HQUltVhtTvokhXvkeH2Tw3E43eTKcEkhhJcF1GRjgSi/uBaAXvEX1v9+Uu/4UJQKBd/lFGGOahobb9CrCTZqPXJ8IYQ4SVrw7ThSUotSqSA+yjNPnyqUCqLDDWTvLWmeTlimEBZCeIMEfDuOlNQSH2VCo/bcryohOqhpMRCHjIcXQniPBHw7CoprO7TAx7lIiA7C5Ybi8nqPHlcIIU4lAX8WdoeToop6kjwc8OYoI0qFQqYPFkJ4lQT8WRwrq8flcnu8Ba9Rq4iNMFBYKi14IYT3SMCfQa3FRs6JB5KCDBpKKy1YPTiHTHx0EGXVFpmXRgjhNRLwZ9DQ6CB7bykKoKiinh9zS3E4PbdYR0J0EG43HJN+eCGEl0jAn0VlbSMhQVrUKs//msxRJpRK6YcXQniPBPxZVNVYCQ/We+XYapWSuAijBLwQwmsk4M/A4XRRXWslIsQ7AQ9N3TTlVQ1YGu1eO4cQovuSgD+DsqoGXG43ESE6r50jISYIN7CvQOalEUJ4ngT8GRwrb+o6CfdiCz42omk8/MGjx712DiFE9yUBfwbFFRYAwoO914JXq5REhekl4IUQXiEBfwYVxxsw6NRo1Be2yEd7YiOMHD5Wg9ODQzCFEAIk4M+oqtaKyaDx+nliI01Y7U4KSmq9fi4hRPciAX8GVTWNBPkg4OMijACyELcQwuMk4M+gqtbqk4APMWkJMmok4IUQHtehFZ3y8vKYPn061dXVhIWFsXDhQnr27Nlin4qKCmbMmEFRUREOh4MhQ4Ywa9Ys1OrOt2iU1e6krsHuky4ahUJBSnwouQWVXj+XEKJ76VALfs6cOYwfP54NGzYwfvx4Zs+e3WqfZcuWkZKSwvr16/n444/ZvXs3Gzdu9HjBvlBxvAGAIKP3Ax6gd0IoR0rqqGuQB56EEJ7TbsBXVFSwZ88eRowYAcCIESPYs2cPlZUtW5wKhYL6+npcLhc2mw273U5sbKx3qvayiupGAJ900UBTwIM88CSE8Kx2A76oqIjY2FhUqqbhgiqVipiYGIqKilrs9/jjj5OXl8d1113X/N+gQYO8U7WXlZ9swRt8sxB2r/hQFAq50SqE8CyPdZB//vnnpKam8u6771JfX09mZiaff/45d9xxR4ePkZOT46ly2pSdnd2h/XbsrgGgoryI41WK5u0JkRryC/Jb7d/W9nPZ1xzqJCpEzbZdh+kTeWGTj3X0Gjsrub7OTa7Pt9oNeLPZTElJCU6nE5VKhdPppLS0FLPZ3GK/1atXs2DBApRKJcHBwQwdOpStW7eeU8Cnp6ej03nnydHs7OwOf6LYlr8To95CSq+eLbYHBQWRnJTcav+2tp/LvtHRUfRJrmTXwXISe/ZFoWh6UzHo1QQbO/4p4lyusTOS6+vc5Po8z2q1nrVh3G4XTWRkJGlpaWRlZQGQlZVFWloaERERLfZLTEzkm2++AcBms/Hdd99x8cUXX0jtflNe3eDVWSRPZ7U7USkV1NTb+Oano/yYW8qPuaU0NDp8VoMQouvp0CiauXPnsnr1ajIyMli9ejXz5s0DIDMzk127dgEwc+ZMsrOzGTlyJGPGjKFnz57cc8893qvciypqGr06B01bYk488FRaZfHpeYUQXVeH+uBTUlJYu3Ztq+0rVqxo/jopKYlVq1Z5rjI/qqhuoH9KlE/PGRmqR6mA0soGUhLCfHpuIUTXJE+ynsbucFFdZyXci/PAt0WtUhIZapAWvBDCYyTgT1NV04jbjdeW6jub6HADZVUNuN1un59bCNH1SMCf5uQYeG8u9HEmMeFGrHYnx+ttPj+3EKLrkYA/zcmnWCN8fJMVfrnRWibdNEIID5CAP83JFnyYHwI+IkSPSqmgtLLB5+cWQnQ9EvCnKT/egEGnwqDz/SyYKqWCqDC50SqE8AwJ+NNUVDcSGWpofprU12LCDZRVN+CSG61CiAskAX+a8uMNRIb6/gbrSTHhxqahmrVWv9UghOgaJOBPU1NvIzTI9/3vJ8kTrUIIT5GAP02dxXZOE3x5WliwDrVKSWmV3GgVQlwYCfhTuFxu6hrsPlvJqS1KhaKpH75SWvBCiAsjAX8KS6Mdtxu/tuABosONlFU34HC6/FqHEKJzk4A/Ra2laU3UYD+24AFiIww4XW6Kyuv9WocQonOTgD9FraVpioCgAGjBA+QdO+7XOoQQnZsE/CnqTrTgQ/wc8KEmLTqNisNFNX6tQwjRuUnAn+KXFrx/u2gUCgXR4QYJeCHEBZGAP0XdiYD3901WaHrgqbC0DrvD6e9ShBCdlAT8KWobmrpoggz+bcEDxJy40Zp3TFrxQojzIwF/itp6G0a9GpXK/7+WuAgTAHvyKv1ciRCis/J/kgWQWovN7yNoTjIZNMSEG9h9qNzfpQghOikJ+FPUWux+HwN/qj5J4ew+VInLJTNLCiHOnQT8KeosNoINgdGCh6aAr7XYOFJS6+9ShBCdkAT8KWot/p2H5nR9ksIByDlU4edKhBCdkQT8Keoa/DuT5OmiQvVEherZLQEvhDgPEvAnuN3ugGvBKxQK+vWOIudgOW5Z4UkIcY4k4E9osDpwudyEmAKnBQ/QLyWSqlqrTDwmhDhnEvAnnJxJMiiAbrICpPeOBKQfXghx7joU8Hl5eYwbN46MjAzGjRvH4cOH29zv008/ZeTIkYwYMYKRI0dSXh74Y7hrLTZKKy0UnJj3xeVyUVppwWr3/xQBDqcLrVpJiEnL97uLKa20NM+XI4QQ7VF3ZKc5c+Ywfvx4Ro8ezT//+U9mz57NX/7ylxb77Nq1i6VLl/Luu+8SHR1NbW0tWm1gtYbb0tDo4Mfc0uahiIVldbjckJoc7ufKwGp3kptfhTnKxE/7y/hhbwmD+8YG1I1gIUTgarcFX1FRwZ49exgxYgQAI0aMYM+ePVRWtnyE/p133uHBBx8kOjoagODgYHQ6/y1efa4abQ4A9NoOvef5VHJcMFabk5IKWcZPCNFx7aZZUVERsbGxqFQqAFQqFTExMRQVFREREdG838GDB0lMTOTee+/FYrFw22238dhjj6FQKDpcTE5OznlcQsdlZ2e32qY2hJFfUMixEisAZaVF1FYrSYjUkF+Q32LftradabtH93W4UAA79x1hYIqeI3nV53SNXYlcX+cm1+dbHmuuOp1OcnNzWbVqFTabjQkTJhAfH8+YMWM6fIz09HSvtfqzs7MZNGhQq+2llRaSj6soqy8BGrioVzIqlZKgoCCSk5Jb7NvWtjNt9/S+uwoOUG1xYY4zExORck7X2FXI9XVucn2eZ7Vaz9owbreLxmw2U1JSgtPZdNPR6XRSWlqK2WxusV98fDx33HEHWq2WoKAgbrnlFnbu3HmB5ftOo82JWqUMiJkk25IcF0x5dQNVtY3+LkUI0Um0m2aRkZGkpaWRlZUFQFZWFmlpaS26Z6Cpb37z5s243W7sdjtbtmyhb9++3qnaC6w2B3qtyt9lnFFyXAgAOQdluKQQomM61FydO3cuq1evJiMjg9WrVzNv3jwAMjMz2bVrFwDDhw8nMjKSYcOGMWbMGC666CLuvvtu71XuYY02J7oADvjIUD1BBg07DwT+0FMhRGDoUB98SkoKa9eubbV9xYoVzV8rlUpmzJjBjBkzPFedD1ltzoAcQXOSQqEgKS6Y3XkV2B1ONOrAfTMSQgSGwOxw9oNGe2B30QD0jg/FanOyY7+04oUQ7ZOAP8Ea4F00AIkxQei0KrbkFPm7FCFEJyABT9NMko3WwO6iAVCplAxIiWLr7mJZ5UkI0S4JeMDudOFyuwO+BQ9weWo01bVW9hVU+bsUIUSAk4CnqXsGCPg+eID+KVGolArpphFCtEsCHrCdmDlSqwn8gDfqNfS/KIotOcX+LkUIEeAk4AGb3QWAVt05fh1XpZs5WlbH0bI6f5cihAhgnSPRvKwzteAdThc9YoIA+G7nMUorLTJPvBCiTYE9bMRHbI7ADHibzUppUSEV5cU0NtTjdrmpPhpFjU2LTuVk6+5igk7MDT8wNcbP1QohAo0EPGA90UWj83PANzbUs//nHezNyWbfnp8oLz121v33G8M5si2d9Muv4iLz//FRlUKIzkICnl+6aDQa//RY7cv9mQ/WvM/277/Gbreh0xm4KG0Ad/yf4bg0oURGxWI0BaNQKokLU/PT7oP8tOtnDhw4yKH9u9nxwyb++varXHLJJTz55JNcd9115zQPvxCia5KApyngFQrQ+Hiq4P0/7+CTf7xD/sG9aHV6rrj2Vi4fciM9U9JQqzWkJoeTm99yvHuf5HDcBjOxvS6n7t8HyLiyB1pnGWX5O8n6+B88/PDDpKSk8NBDDzFq1KjmhVqEEN2PBDxNAa9Vq3zW6i06ms/6tX/m553bCI+M4bEnnyap79XoDaYOHyM63IBKqaC4soHrLktlzB3Xc+vQGygpKeGdd95h5syZrF69mpkzZ3bpRRaEEGcmo2hoGibpixusDoed91YtZ9Gcx8nbv4cRYx9kxoIVjBwz9pzCHUClVBIbYaSoor55m1qtZtSoUXz00UcsWrSIyspK7rvvPqZOnUp19ZmX+RNCdE3SgqdpFI3Wy/3vRwsO8f6fX+HYkUMMvuYWRo/LJCg49IKOaY4y8WNuafMooJMUCgXDhw/n5ptvZuXKlaxcuZLvv/+eBQsWcO21117QOYUQnYe04DnRReOlFrzb7ebbf3/Ca/N/S+3xKmbP/wP3TphyweEOYI404XZDSYWlzZ8bjUYmTZrEBx98QHBwMBMmTOCll17Cbrdf8LmFEIFPAp6mYZLeGCJpt9v426rX+fC9pfS55DKemf9HrrrmBo8dPy6yqVunpLLtgD+pX79+fPjhh9x77728++67PPTQQ1RWVnqsDiFEYJKAp6kFr/HwNAWVFeUsfWkqWzdv5LYRv2bCb+d6pNV+Kp1WRbBRQ2VN+wtx6/V6Zs2axcKFC9mxYwdjx45l7969Hq1HCBFYJOBpCnhPtuBLiwp56skJFB8r4MGJv2fYnf+LUumdLqDwYD1VtdYO7z9q1ChWr16Nw+Hg3nvv5dtvv/VKXUII/+v2Ae92uz06iib/4F4Wv/g0VquVJ55ZSP+B13jkuGcSHqyjurYRl7vjC4D079+ftWvX0qNHDx577DE+++wzL1YohPCXbh/wdkfTYh+eGEWTu3s7b708Hb3ByCuLl5PUq48HKjy7sBA9Dqe7Q900p4qJieEvf/kLAwYM4Omnn+aDDz7wUoVCCH/p9gHfYHUAFz7R2N6cbP68eC6RMWZ+O/NV4hN6eKK8dkUE6wAoKq9vZ8/WQkJCWLFiBTfeeCPPPfcc7733nqfLE0L4kQS8BwI+e9sW/rx4HtFxiTw+9SWCQ8M9VV67wk4EfHHFuQc8gMFgYPHixdx2220sWLCANWvWeLI8IYQfScCfCHid+vwCPnf3dp77/TPExvfg8akvenykTHsMOjU6req8WvAnaTQaFi1axC233MLzzz/P+++/78EKhRD+IgHf3II/919FQV4uby99joTEHjw25SVMQSGeLq9dCoWC8GBdiykLzodWq+XVV1/l5ptvZv78+axbt85DFQoh/EUC/jy7aEqKjrD8tdkEBYfx/MI3MAUFe6O8DgkP1lN8hqdZz4VWq+X111/nqquuYtasWXzzzTceqE4I4S8dCvi8vDzGjRtHRkYG48aN4/Dhw2fc99ChQ1x66aUsXLjQUzV61fkEfFVlGcteeRalUsWjT79ARGSUt8rrkPBgHTX1NixW1wUfS6vVsmTJEvr06cPvfvc7duzY4YEKhRD+0KGAnzNnDuPHj2fDhg2MHz+e2bNnt7mf0+lkzpw53HrrrR4t0pvOtYumvq6GP73yLI0N9Tzy1HyiY+O9WV6HhAfrASiv8cwcM0FBQSxfvpzo6GgeffRRDh065JHjCiF8q91Uq6ioYM+ePYwYMQKAESNGsGfPnjbnMlm+fDk33XQTPXv29Hih3mJp7HgL3mptZMXrs6koK+ahSXNISErxdnkdEh7SNJKmvMbhsWNGRUWxYsUKVCoVEyZMoKSkxGPHFkL4RrsBX1RURGxsbPPKQCqVipiYGIqKilrst3fvXjZv3sz999/vlUK9pdHmQK1SomxnsQ+Xy8UrC+dTkLeP3zwyjYtSB/iowvYFm7SoVUqPteBPSkpKYvny5dTU1PDII49QX39hN3KFEL7lkfng7XY7v//973nxxRcvaIm4nJwcT5RzRtnZ2a22VVTVo1K6yS/Ib7E9IVLTYtu3/1rHtk3/4vrb7iQ0OrHFz07f90zbvLlvZIiG8uOONq/xQk2cOJGXX36ZzMxMJk+ejFLpv3vz3ri+QCLX17kF2vW1G/Bms5mSkhKcTicqlQqn00lpaSlms7l5n7KyMgoKCnj44YcBqKmpwe12U1dXx/z58ztcTHp6Ojqd7jwuo33Z2dltLl23/sfvMOq1JCclt9geFBTUvO37b79g26bPuWP4aG6/c0Krpf1O3fds27y5b3FtMQePlHtleb5Bgwah1WqZP38+//73v3nmmWc8fo6OONP/w65Crq9z88f1Wa3WszaM2w34yMhI0tLSyMrKYvTo0WRlZZGWlkZERETzPvHx8WzdurX5+yVLlmCxWJg2bdoFlu99DVbHWfvfD+bu4u/vLObitMt4fNJUDh6t9WF1HWeONJK91+m1xUvGjx/PoUOHWLVqFb169WLs2LEeP4cQwrM69Fl77ty5rF69moyMDFavXs28efMAyMzMZNeuXV4t0NsarWderq+s5BhvL51PZHQc9z8+E7U6cFc4NEc1re50IU+0tmf69Olcd911PPfccy3e0IUQgalDiZWSksLatWtbbV+xYkWb+z/55JMXVpUPNVgdGA2tfw0WSz1/XjIPhUJB5u/mYTT570Gmjji5utOR0lqSzd55olatVvPqq6/y61//mt/+9rf89a9/7VQjpoTobrr9k6wWq73VYh9ut5vX/vA8pUWF/N/HZhAV4/+x7u05GfCFpXVePU9wcDB//OMfUSgUTJw4UUbWCBHAun3AN1gdaE6baOxfn/6dbzf9m1H3PMTFaZf5qbJzo9OoCDWpOFLi/XsEPXr04JVXXiEvL48ZM2bgPofFRoQQvtOtA97pdGGzu9Cd0gf/864f+PQf73Lj0Nu58fZf+bG6cxcdovZ6C/6ka665hilTpvDFF1+wfPlyn5xTCHFuunXAW06bh6as5Bjv/Wkh5sRe/Pbpma2GQwa6qBANR8vqcLl806K+//77GTFiBG+88QZff/21T84phOi4bh3w9Q1NT35qNSqsjQ2sWjofhULBgxN/j16v93N15y4qRI3V5qS8usEn51MoFDz33HOkpqYydepU8vNbP4AlhPCfbh3wJyca06gVfPD2axQfK+B/H51OZHScnys7P1GhGsD7N1pPZTAYWLJkCUqlUm66ChFgunXAn2zB7/zvJ+z4YRMj7n6A1H4D/VzV+YsKaRrueaTUtw9jJSYm8uqrr3Lo0CFmzk3hrH8AACAASURBVJwpN12FCBDdOuAtjQ4sZfvYvOEDLr/yBm6+4y5/l3RBTDolwUaNT1vwJ5286bpx48YzPh8hhPCtbh3w+QUFFP/0AdFxPRj3wOROd1P1dAqFgsSYYAp93II/6f7772f48OG8/vrrshqUEAGg2wa8xWLhj6/OBeC+R2ei03W+m6qncjhdqA1hRIXqKSiupbTSQq3F5tMaFAoF8+fPl5uuQgSIbhnwbrebWbNmUXT0MLGX/Zr4hB7+LumCWe1OtuwqxOlyU1Nv49udx2ho9NwCIB118qarPOkqhP91y4BftWoVn332Gddl/JrIhDRUys7dNXOq+OggAPKLa/xWw6k3XZ999lm56SqEn3S7gP/vf//LK6+8QkZGBmlXDMNk0Pi7JI+KCTdgMmg4dPS4X+u45pprePrpp9mwYYPcdBXCT7pVwBcWFvLUU0/Ru3dvXnjhBeobHJj0XSvgFQoFveNDOFJSi9Xu9GstDzzwQPNN102bNvm1FiG6o24T8I2NjTz55JO43W6WLl2KyWSi1mLrci14gF7xoTicbnYfrPBrHafedJ0yZYrcdBXCx7pFwLvdblauXElubi4vv/wyyclNS97VNdgw6gN3EY/zFR8dhE6j4sd9pf4uRW66CuFH3SLgV65cyZYtW5g8eTI33HBD8/Zai52gLtiCVykV9IwPYcf+MhxOl7/LkZuuQvhJlw/4r7/+mtdee42rrrqKCRMmNG93u93UddEuGoDe8aFYGh1s21Pi71KAljddV65c6e9yhOgWunTA5+XlMXXqVPr27UtmZmaLJ1UbbU4cTneXu8l6UlJcMLERRhatyWZrTpG/ywGabroOGzaM1157TW66CuEDXa8D+oS6ujomTpyIWq1myZIlFBcXt/j5yac8u2oLXq1SMuXeQbz54Q5eeOd7brw8kYToIGLCDcRFGgkP0aNS/vL+btCrCTZqvVrTyZuuBw8eZMqUKaxdu5akpCSvnlOI7qxLBrzL5eKZZ54hPz+ft99+m4SEhFYBX2dpmkmyq7bgAXRaFbcNSeLfPxxh846jOJy/9H0rlQr6JIUxMDWG8GA9A1NjvB7wAEajkaVLl3L33XczceJEPvjgA0wmk9fPK0R31CUDfsmSJfz73/9m1qxZXHnllW3u80sLXk29Hx7p9xWtWkXGVT1xu91YGh0cr7Oi16nZeaCcvYcr2Xu4iksvjuKyPtE+q+nkTdeHH36YZ555hsWLF6NSqdp/oRDinHS5PvisrCyWLVvGnXfeyfjx48+4X3MLvot20ZxOoVBgMmiIjw7i6v5mbhqYyP8OS6Nf70h27C9n1frdOH044uaaa65hxowZfPXVV7z66qs+O68Q3UmXCvjt27czc+ZMBg8ezJw5c846/W9zC74Ld9G0x6jXcOPlCVx5SRz/3VXEy2uyfTqE8d577+XXv/41b7/9Nv/4xz98dl4huosuE/CFhYVMnDgRs9nM4sWL0WrP3p9c19C9WvBnolAouOKSWO66+SK+3XGMT/972KfnnzlzJldffTVz585l27ZtPj23EF1dlwj42tpaHn30URwOB8uWLSM8PLzd19RZbGjUSrQa6fsF+D9X9+TyPtG8vX43R8t8tyKUWq3m9ddfJzExkUmTJlFQUOCzcwvR1XUo4PPy8hg3bhwZGRmMGzeOw4cPt9rnzTffZPjw4YwcOZI777zTZ+OcHQ4HkydPJj8/n8WLF9OrV68Ova7WYifY2L1b76dSKBT89n8uR6tW8ur72T7tjw8JCeGPf/wjbrebRx99lKqqKp+dW4iurEMBP2fOHMaPH8+GDRsYP348s2fPbrXPgAED+PDDD1m/fj0LFixg8uTJNDY2erzg0/3rX//i22+/Zc6cOQwZMqTDr6u12AjywbDAziQy1MBjdw1gX0E1a7/a79NzJycns3TpUo4ePcoTTzzhk787QnR17QZ8RUUFe/bsYcSIEQCMGDGCPXv2UFlZ2WK/66+/HoPBAEBqaiput5vq6movlNzSjTfeyPvvv8/dd999Tq+rs9h9Mu67s3A4XZRWWuibHMGVl8Ty1425fL+72KfL/g0ePJg//OEP/PTTT0yZMgWn07/THQvR2bUb8EVFRcTGxjaPU1apVMTExFBUdObH39etW0dSUhJxcXGeq/QM9Ho9l19++Tm/rtZi65ITjZ0vq93Jj7ml/JhbSv+LotBrVSxd+xPHa60+rSMjI4MZM2bwr3/9ixdeeEEmJhPiAnj8Qafvv/+eN954g7fffvucX5uTk+PpclrIzs5u/rryeD1hBgdFxUXkFxS22jchUkN+QX672wJpX6DFzy7kuOnJOrbm1vPeJzu4/VJDq2N40yWXXMKwYcP44IMPcDqdjBo1qvlnp/4/7Irk+jq3QLu+dgPebDZTUlKC0+lEpVLhdDopLS3FbDa32nf79u1MnTqVt956i969e59zMenp6eh0unN+XUdkZ2czaNCg5u+tH2bRs4cZc5yZ5OOtR9IEBQWRnJTc7rZA2hdo8bMLOW4yYHEU8t/dFQy7/houvdh3T7oCzZ/K/v73vzNgwADuuuuuVv8Puxq5vs7NH9dntVrP2jBut4smMjKStLQ0srKygKYnRdPS0oiIiGix386dO5k8eTKLFy+mX79+F1i2d9nsTqw2p/TBt+Pq/vHERhh5/a/bm58b8BWlUsmLL77Itddey+9//3s++eQTn55fiK6gQ6No5s6dy+rVq8nIyGD16tXMmzcPgMzMTHbt2gXAvHnzaGxsZPbs2YwePZrRo0eTm5vrvcovwMmwkmGSZ6dRK3lgxCVUHm/k1fezKa6op7TS4rMbr1qtliVLljBo0CCmTZsWcB9/hQh0HeqDT0lJYe3ata22r1ixovnrjz76yHNVeVndiYCSYZLti48O4sp+sWzJKabB6uCGyxIY1DfWZ59+DAYDy5Yt48EHH2TJkiX069ePa6+91ifnFqKz6xJPsp6rWou04M/FwNQYLusTTc7BCr7decznI1tMJhPLly8nPj6eiRMnypQGQnRQtwz45ha8QVrwHaFQKLimv5n+KU0zT678eDc2u2/HqIeGhjJt2jTi4+N59NFH+f777316fiE6o24Z8Cdb8EHSgu8whULB9ZclMKRfHFtyipj5x2+pqvXt06ahoaGsWrUKs9nMww8/LMv+CdGObhnwdQ1NLXgZRXNuFAoFg9NieeyuARwuqmHaks0UV9T7tIaYmBj+8pe/0Lt3b5544gm++OILn55fiM6kWwZ8rcWOUqnAqO+SC1p53WUXR/P0+IHUWGxMeeMbsn8u8enomoiICN555x369evH5MmTWb9+vU/OK0Rn000DvmmagrMtCCLOzGp3crzOxqjre+NwuXl+1Vbe++xnLD4cKx8SEsLKlSsZPHgw06ZN4/333/fZuYXoLLplwNfJVMEeERGiZ+zQi4mLNPGfHwt588MdHCj0/gRzJ5lMJpYtW8ZNN93E/PnzWbRoES6X76Y5FiLQdcs+iupaKyEm70yJ0N2YDBpGXd+b7fvKyN5bwuTXviYlIZQh/eK4tE80PWKDvXqvQ6/Xs3jxYl544QX+/Oc/U1RUxIsvvtjuil5CdAfdMuCLKurpnxLp7zK6DIVCwcDUGEbf0JuszXnszqvg/Y25vL8xlx4xQVx7aQLXXhpPT3OIV86vVquZPXs2CQkJvPLKKxw7dow33niDmJgYr5xPiM6i2wW83eGk4ngD5kiTv0vpcox6DZdeHM2lF0dTXWsl79hxSqsa+NuXufz1i1wuvTiKUdenkNYrwuOteoVCwYQJE+jRowczZsxg7NixLFmyhAEDBnj0PEJ0Jt2uD764woLbDXFREvDeFBas4/LUGCaNu4wHRvRjSL849h6uYv7bW3n3kz1eWxIwIyOD999/H41Gw29+8xv+8Y9/eOU8QnQG3TDgm8ZtSwvedww6NYPTYvnNsDTSe0eyYUs+zy77L5U13nlQqm/fvqxdu5aBAwfy7LPPMn36dOrrfTteX4hA0O0CvuhEwMdJwPucTqPixoGJZI5O50BhNU+9/jUHjnhn1E14eDgrV65k4sSJfPzxx4wdO5a9e/d65VxCBKpuF/DFFRYMOhWhQTLKwl+uSjfz8pPXo1QqmPbmZr7Z3npFLU9QqVQ88cQTrFq1irq6Ou655x5WrFgha72KbqPbBXxReT1xkSZ5yMmPHE4XJr2Gmf/3SpJig3h5dTZzV3xHQUmNV843ZMgQ/vnPfzJ06FBeffVV7r33XvLy8rxyLiECSbcL+OKKeume8bOTC3wfKKzm1iuTuSo9jp/2lTHljU0sX7eLw0WeD/rw8HBee+01Fi1axOHDhxkzZgxvvvkmNptvplcQwh+61TBJl8tNSaWFKy+J83cp4gSVUsGgvrGkJISx/0gVn/33MOs3HSIm3EDf5Agu6RXB5X1jiI8KuuBzKRQKhg8fzhVXXMHChQtZunQpWVlZzJo1SxYREV1Stwr4iuON2B0uGSIZgMKCdTw0Kp17rQ6+31NCbkEVuw6W881PRwGIjzKR3kNNaprtglfiiomJ4ZVXXuHOO+/kueeeY8KECdx4441MmTKFiy66yBOXI0RA6FYB/8sQSaOfKxFtsdqd7DtSTViwjiH94rjyklgSY4IoKK5l045jbNxewde7N3J5n6aHqXqaQzAZNOg0KpwuNy63G41KiU6rIixIh0p19h7Ia6+9lo8//pg1a9awbNkyRo8ezV133cUjjzxCQkKCj65aCO/pVgEvQyQ7F4VCQWSogdgIE1dcEkd2ziH2HLGSc7CcLTnFZ32tQacmPSWSARdFc+nFUSTHhaBUtr6xrtPpePDBB/nVr37FW2+9xd/+9jfWrVvHnXfeSWZmpgS96NS6VcAXV9SjUiqIDjP4uxTRQVa7k50HygEoKKqgX+9k+vWOJDJUz0/7yrDZnTicbpRKSI4Lwe1ues2Rklp+PlzJtj0lQNP6u4kxwZijTESE6DEZNAQZNAQZNei1amx2J1dn/IaES4ayYf3fWPvhR6xdu5bLr7yOzAcf4IbrhsjIK9HpdKuALyqvJybC2O5HdxH4osIM9IgNbrEtNTmc3PwqdFoV/XpH0q93JHUWG0qlgoOFxymptLA9t5SaehtO15kXDtdE30LvoYMoP7iZ7T98z6NbviE4Momrbx7B3b8aRb+LYgkP1kngi4DXrQK+uKJepijoZoKMWlKTwzHqNfQ/sc3tdtMrIZScA+VY7U7sDhdqlRK1WskVfWOb1+ptsI6i4FgF6/75MZu/+piNH77Fl+veJiguncieg7mob38SooOJjw4iIdpEfFQQ8dFBhJjkIToRGLpNwLvdbooqLPRJCvd3KcLPFAoFOo2KIKOW0wdfKlUKtu8rO3ULUyZNYNrvMvn++638v3X/JHvrN+QV/kDxTxGE97gMVVgq2rAeKBRNnwyDDBrio02YI4OIizQSEaonLEiHVqNCqVCgUND0p7KpFqVCQWSo/qyfKoQ4H90m4PPLbNQ32LkoMczfpYhOxmp3kptfhSasN/fcP5kxv36MnJ+2sPenzWT/8DUu51cYjEEkXXQpqelXEBzbhxqrkt2HyvlmeyMdjW2lAuK+rCYlMYw+SeHER5mIjTQSG2FEr239T9XucHG8zkp1nRWVUkGwUUtokBaNWuXZX4DotLpNwH/3cy0hJi03DEz0dymik9Pq9AwcchO/vudX/PRzIbm7f2T3jq3s3fUDuTu/BSDG3IPeF/dj8MX9MCel0j8tBVDgxo3L1fSJ0mp3knesBpfLTV2DjYJjZTjcSnbuL2PTifH/J4UF6wg2alAplTicLqprrdS1sQauAogMM5AYHYQ5yoQ5yoTJoEGjVuJ2Q4PVQaPVQYPNgdXmRK9VE2zUEGTUEmzUEGzUEnTyT4Om+X6Vze6krsFOrcVGg9WBVq1Cr1URFWZAq5E3lEDVLQL+aFkduUcb+Z/bUtHJX0bhQQajicuuuJ7Lrrgel8uForGIr/7zLYf27WbHD5vZ8s3nAAQHhxCX2IuEpBQSklIwJ/TkmsGXYHf80klkUtWRnJTMgIuiaGh0UFbdQFl1A+XVDZRVW2iwOnE6XSiVCvr0CCfEpMWoV1NVa8XtdtNoc1LfYEehVFBWZWF/YTX1Z1gIXQFoNErsDhfus3zEMOjUOF1ubPa2J2hTKhSYo4z0ig+lZ3wISSeWaDQZNNgdLuob7NidLnBD3rFGYhJriQ43tPmJxFPcbjcud9Mnou5+I7xDv+W8vDymT59OdXU1YWFhLFy4kJ49e7bYx+l08vzzz7Np0yYUCgUPP/wwY8eO9UbN5+yfXx9EpYRh1/b0dymiC1MqlaSmpaMwJnDLMHC5XBQfzSfvwB7qKwvZvWcP336Vhd3+y/w3oWGRRMXGEx2bgEproKpPGq66XlQ3aggJi0Cj1mCOMnHToERy86tanfPkyKEzbWu0ObA7XDidbnonhFBYWodGrUStUqJQKEjvHYntRBDXN9ipb2z602K1U2exU9/gQKVSYNJr0GpUVNY0oFGrcLnc2B1Oquts2B1O9uZXsXnHsXZ/R6v/81XTdQdpiQ43EhGsJ8iowahXo1Q23Y+w2p1Ybc7mP20n/3Q4UamUaFRKNOqm/9yA9cQbW3WtlVrLLyOkDDoVcZGmU/4zEhdhIi7KSKhJh16nRtXGsxFdSYcCfs6cOYwfP57Ro0fzz3/+k9mzZ/OXv/ylxT7r16+noKCAjRs3Ul1dzZgxY7j66qtJTPRvl0h+cQ3/+uEIA3oZCQ/W+7UW0b0olUrie/Qivkev5tB1Op2UFh2h+FgB2Cr5OfcgZSXHyPlpC3U11Xz75f9rcQxTUAihYZGYzbG4lXoMxiCMpmCMpqY/KwvjqLIo0OuNaHU6tFo9dZFqHA47KpUavVaN/sSgnuhwI5U11hbHtztd7Cto+Qah1ajof1HUWd842tpuszuprrNitTmJCjNQUmlBq1GiUipRAEeLiki7KJmqWisVxxsoP95IUUU9lqN2GqwOXC43bnfTJwudRoVOo0KjVqI98bVBp8bpdmF3uLE0OppXBdNqVQQZNRh0anrrQptCWwEhJi3H62wUltbyw88l2B2tVxHTaZuOq9eqUKuUqJQKVEolSpUC3G7sDhd2hwubw4XD4cLucGJzuNColYQH64kK1ZNsDqGnOYRgTeCN0Gs34CsqKtizZw+rVq0CYMSIEcyfP5/KykoiIiKa9/v0008ZO3YsSqWSiIgIbr31Vj7//HMmTJjQbhHuE58RPTmzX2FpHWs27GV/QRVhJhXXpQVjtVpb7eew21DS+uOn02Fvtb2tbYG0r1ataPGzQK33fF9/6vX5+xrOd1+lChISe5CQ2IPeCaEcOnq8eZ+8vIMYdRpMGhv7845RV1NFTU01dTVV2BrrqK0upawoj8YGS/O/mS9anekXSqUSjVaHWqNFq9FiMOhxuhQoVUpUKjUqpQqTSYfVDiqVEqVKfSLc1IQGG7A0OlEoFM3/bQnSUWOxowAUCiUKFCiUCn4M0nG83ta8HwoF1SEGqmttoFCgbHoBtbU1GBr2N6/kpQWigIhwfYvVvU52q4QH66mqaYRTepkiQ/RU1Z7279gGEaF6KmsboRacTadDE2YkRgkxoZAe0tTSt1gdNFjt2OwuHE43TqcLR4MLZ50bp8uNA3C7f8kkpVKBSqnAoGy6NqWyafRTvcVB/XEnlXlOdm11Nt9IN+hUBJu0GHQadBpl86cShVKBSqEgOS4Eg75l7Gq1Wm677TaMxnOfQuVkZrrP0M+mcJ/pJyfk5OQwbdo0Pvnkk+Ztw4YN4+WXX6Zfv37N20aOHMkLL7zQvMjxihUrKCkpYdasWe0WWVtby759+9q/GiGEEK306dOH4ODgVtsD4iaryWSiT58+aDSabn9TRAghOsrtdmO32zGZ2u4eajfgzWYzJSUlOJ1OVCpVUx9iaSlms7nVfseOHWtuwRcVFREfH9+hIpVKZZvvPkIIIc5Orz/zvcV2J2WJjIwkLS2NrKwsALKyskhLS2vR/w5wxx13sHbtWlwuF5WVlXz55ZdkZGRcYOlCCCHOV7t98AAHDx5k+vTp1NTUEBISwsKFC+nduzeZmZlMmjSJ/v3743Q6ee655/j226YHPTIzMxk3bpzXL0AIIUTbOhTwQgghOh+ZN1cIIbooCXghhOiiJOCFEKKLkoAXQoguqlsEfF5eHuPGjSMjI4Nx48Zx+PBhf5fkMQsXLmTo0KGkpqZ2yaeBq6qqyMzMJCMjg5EjRzJx4kQqKyv9XZZHPf7444waNYoxY8Ywfvx4fv75Z3+X5BVLly7tkn9Phw4dyh133MHo0aMZPXo0mzZt8ndJv3B3A7/5zW/c69atc7vdbve6devcv/nNb/xckeds27bNfezYMffNN9/szs3N9Xc5HldVVeXesmVL8/cvvfSSe8aMGX6syPNqamqav/7iiy/cY8aM8WM13pGTk+N+6KGHuuTf00C+pi7fgj85WdqIESOApsnS9uzZ02VagYMHD271VHFXEhYWxpAhQ5q/v+yyyzh2rP1paTuTU5/irqur63LTddhsNp577jnmzp3r71K6nYCYi8abioqKiI2NRaVqWuhDpVIRExNDUVFRq6dxRWBzuVx88MEHDB061N+leNyzzz7Lt99+i9vtZuXKlf4ux6PeeOMNRo0a5fepw71pypQpuN1uBg0axFNPPUVISIi/SwK6SR+86Brmz5+P0Wjkvvvu83cpHvfCCy/wn//8h8mTJ/OHP/zB3+V4zPbt28nJyWH8+PH+LsVr1qxZw8cff8xHH32E2+3mueee83dJzbp8wJ86WRpwxsnSRGBbuHAh+fn5vP766yiVXfev7ZgxY9i6dStVVa0X1uiMtm3bxsGDB7nlllsYOnQoxcXFPPTQQ2zevNnfpXnMySzRarWMHz+eH3/80c8V/aLr/ks5oaOTpYnA9eqrr5KTk8Obb76JVqv1dzkeVV9fT1FRUfP3X331FaGhoYSFhfmxKs95+OGH2bx5M1999RVfffUVcXFx/PnPf+a6667zd2keYbFYqK2tBZqm7v30009JS0vzc1W/6BZz0ZxpsrSu4Pnnn2fjxo2Ul5cTHh5OWFhYi8VZOrv9+/czYsQIevbs2TwtamJiIm+++aafK/OM8vJyHn/8cRoaGlAqlYSGhjJt2rQWi+l0JUOHDmXZsmX06dPH36V4xJEjR3jyySdxOp24XC5SUlKYNWsWMTEx/i4N6CYBL4QQ3VGX76IRQojuSgJeCCG6KAl4IYTooiTghRCii5KAF0IIHzqfCQKrq6t56qmnyMjIYPjw4SxdurRDr5OAF91Camoq+fn5Pj3n7Nmzu8xwTuE5t9xyC2vWrCEhIaHDr5k+fToDBgxgw4YNfPLJJx1e77rLz0UjhL8E0iPrInAMHjy4ze07duxg0aJF1NfXAzBp0iRuuukmDh8+zL59+/jjH//YvG90dHSHziUBL4QXOJ3O5gnuhGhPTU0Nc+bMYfny5cTExFBaWsrdd99NVlYWBw4cIDY2lmeffZaff/6ZqKgonnnmGS6++OJ2jysBLzqd5cuX895771FXV0dMTAxz587FZDLxwgsvcPDgQfR6PbfffjvTp09vc2oDm83Ga6+9xmeffYbNZuPWW29l5syZzU/KtmXr1q1MnTqV8ePHs2rVKkwmE7/73e8YNWoU0PQRWqfTcezYMbZt28Zbb73Fxx9/TGxsLJMnTwbgyy+/ZMmSJRw5coSIiAhmz57NDTfcQG1tLS+++CLffPMNCoWCO++8k0mTJskbRDeyfft2CgsLyczMbN6mUCjIz8/H5XKxY8cOnn76aQYPHszGjRt57LHH+PLLL9s9rgS86FQOHTrEmjVr+PDDD4mNjaWwsBCXy0VNTQ0zZswgPT2d4uJiMjMzef/997n//vtbHWPRokUUFBSwbt061Go1U6ZM4c033+Tpp58+67nLy8upqqpi06ZN/PTTTzz88MOkp6c3T3uRlZXF8uXL+dOf/oTdbufjjz9ufu3OnTuZNm0aixcv5uqrr6asrIy6ujqg6c0hMjKSjRs30tDQwCOPPILZbOZ//ud/PPeLEwHN7XaTmprKmjVr2vy52Wxu7tq5/fbbmTp1KpWVle3OqSU3WUWnolKpsNlsHDx4ELvdTmJiIklJSaSnp3PZZZehVqtJTExk3LhxbNu2rdXr3W43f//735k5cyZhYWEEBQXxyCOPdHj+nt/+9rdotVquvPJKbrzxRj777LPmn91yyy0MGjQIpVKJTqdr8boPP/yQu+66i2uvvRalUklsbCwpKSmUl5fz9ddfM3PmTIxGI5GRkdx///1daj4h0b7LL7+c/Px8tmzZ0rxt586duN1u0tPTMRqN7N+/H2iaoTM0NJTw8PB2jysteNGpJCcnM3PmTJYsWcKBAwe47rrrmD59OhaLhZdeeomcnBwaGhpwOp1tTthVWVlJQ0MDd955Z/M2t9uNy+Vq99whISEYjcbm7+Pj4yktLW3+/mxTUBcVFXHjjTe22n7s2DEcDkeL2RVdLpdMZ92FnTpB4AMPPNA8QeBbb73Fyy+/zIIFC7Db7fTo0YNly5ahVCpZsGABM2bMwGazYTAYWLp0aYdW/pKAF53OyJEjGTlyJHV1dcyePZtFixZRWlrKJZdcwiuvvEJQUBDvvPMOGzZsaPXa8PBw9Ho9n3zyCbGxsed03pqaGiwWS3PIFxUVdehGFzSFf0FBQavtcXFxaLVatmzZglot/xy7g1mzZjFr1qxW2wcMGMB7773X5mv69+/Phx9+eM7nki4a0akcOnSI7777DpvNhlarRafToVQqqa+vx2QyYTKZOHjwIB988EGbr1cqlYwdO5YFCxZQUVEBQElJCZs2berQ+ZcsWYLNZuOHH37gP//5D3fccUeHXnf33Xfzj3/8g++++w6Xy0VJSQkHDx4kJiaGc8VE0AAAAQ9JREFUa6+9lpdeeom6ujpcLhcFBQV8//33HfuFCHEWEvCiU7HZbLzyyisMGTKE6667jsrKSp566immTZtGVlYWAwcO5Pe//z3Dhg074zGmTp1KcnIy99xzDwMHDuT+++8nLy+v3XNHRUUREhLC9ddfz5QpU5g7dy4pKSkdqnvAgAG8+OKLLFiwgEGDBnHfffc1Lx7+hz/8AbvdzrBhw7jiiiuYNGkSZWVlHfuFCHEWMh+8EB1wcpjkN9984+9ShOgwacELIUQXJXd1hDhh2bJl/OlPf2q1fdCgQS0eQBGis5AuGiGE6KKki0YIIbooCXghhOiiJOCFEKKLkoAXQoguSgJeCCG6KAl4IYToov4/wB5xkeV3Bs8AAAAASUVORK5CYII=\n",
            "text/plain": [
              "<Figure size 432x288 with 1 Axes>"
            ]
          },
          "metadata": {
            "tags": []
          }
        }
      ]
>>>>>>> 718993765a3bab1abb84e4a6225adbc3b425a5de
    },
    "colab_type": "code",
    "id": "8EAJIIR3c980",
    "outputId": "c20a5125-8599-422e-8f03-582472332826"
   },
   "outputs": [
    {
<<<<<<< HEAD
     "data": {
      "image/png": "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\n",
      "text/plain": [
       "<Figure size 432x288 with 1 Axes>"
=======
      "cell_type": "code",
      "metadata": {
        "id": "nyKJZG1KdAnf",
        "colab_type": "code",
        "colab": {
          "base_uri": "https://localhost:8080/",
          "height": 301
        },
        "outputId": "05c92508-78a8-4d08-b931-b659d1d3f274"
      },
      "source": [
        "stats.probplot(df['sale_price'], plot=plt)\n",
        "plt.show()"
      ],
      "execution_count": null,
      "outputs": [
        {
          "output_type": "display_data",
          "data": {
            "image/png": "iVBORw0KGgoAAAANSUhEUgAAAYcAAAEcCAYAAAAsv3j+AAAABHNCSVQICAgIfAhkiAAAAAlwSFlzAAALEgAACxIB0t1+/AAAADh0RVh0U29mdHdhcmUAbWF0cGxvdGxpYiB2ZXJzaW9uMy4yLjIsIGh0dHA6Ly9tYXRwbG90bGliLm9yZy+WH4yJAAAgAElEQVR4nO3deUBU9f7/8SfbICAIiOyoZS4oqQTuO1bmLmpueb0/M63UNM26pmVqWdl16WYLea1r7vuCmrnkmluKuGC5ZMq+ySKyw8z5/UHOVwJh0BlmgPfjn4Y5Zz7nPZ+xec3ZPh8zRVEUhBBCiAeYG7sAIYQQpkfCQQghRAkSDkIIIUqQcBBCCFGChIMQQogSJByEEEKUIOEgarSmTZsSGRn5SK8NCgri5MmTpS47d+4cvXr1KnXdkJAQZs+e/UjbrIgzZ87QtWtXg29HVE+Wxi5AiIoKCgrizp07WFhYYGNjQ9euXXn//fexs7MzdmlagYGB7Nu3r9Rlr732mvZxTEwMPXv25MqVK1haVvx/x23btjF79mxq1aqFmZkZPj4+vPnmm/To0aNC7cycORM3NzemTZtW4RpE9SR7DqJKCgkJITw8nO3btxMREcE333xTYp3CwkIjVFb5WrduTXh4OOfOnWPo0KG8+eab3L1719hliSpOwkFUaW5ubnTp0oUbN24ARYeJ1q5dy/PPP8/zzz8PwKZNm3juuedo27Ytr732GomJicXaOHr0KD179qRdu3YsXLgQjUYDQFRUFGPGjKFdu3a0a9eOt956i4yMjGKvvXz5Mn369KFNmza8++675OXlAWUf0lm2bBkzZswAYPTo0QC0adMGf39/fv31V9q2bcu1a9e066ekpNCqVStSU1PL7Atzc3OGDBlCbm4uUVFRJZbfvHmTf/zjHwQGBtK3b19+/vlnADZu3MiuXbv47rvv8Pf3L7ZnI2ouCQdRpcXHx3Ps2DF8fX21zx08eJBNmzbx448/curUKRYvXsznn3/OL7/8gpeXF9OnTy/WxoEDB9i6dSvbt2/n0KFDbN26FQBFUXj11Vc5fvw4e/fuJSEhgWXLlhV77f0v1QMHDnDr1i2+/vrrCtW/Zs0aAM6ePUt4eDht27alT58+hIaGatfZvXs3HTp0wNnZucy2CgsL2bx5M7a2tjRs2LDYsoKCAl577TU6derEyZMnee+995gxYwZ//vknw4cPp3///owbN47w8HBCQkIq9B5E9VStwmHhwoUEBQXRtGlTrl+/rtNr0tPTmT59Or169aJv3758+eWXBq5S6MOkSZMIDAxk1KhRtGnTptiv3QkTJuDo6EitWrXYtWsXQ4YMoUWLFqhUKqZPn86FCxeIiYnRrj9+/HgcHR3x9PRkzJgx7N69G4AGDRrQqVMnVCoVzs7OjB07lrNnzxar46WXXsLDwwNHR0def/119uzZ89jvLTg4mD179nB/2LOdO3cyYMCAh65/8eJFAgMD6dSpE3v27OGrr77C3t6+xDrZ2dlMmDABlUpFhw4d6NGjh17qFdVTtToh3bNnT8aMGcNLL72k82tmzpxJ+/btWbJkCQDJycmGKk/o0VdffUXHjh1LXebh4aF9nJSURIsWLbR/29nZ4ejoSGJiIt7e3iXW9/LyIikpCYA7d+6wYMECzp07R1ZWFoqi4ODg8NBteXp6al/7OFq1akWtWrU4c+YM9erVIyoqip49e5a5/vr168tsMykpCXd3d8zN/+/3oKenZ4lDbELcV63CITAwsNTnL168yKJFi8jKygJgypQpdO/endu3b3P9+vViJzPr1atXKbUKwzEzM9M+dnV1JTY2Vvt3dnY26enpuLm5aZ+Lj4+ncePGAMTFxeHq6grAkiVLMDMzY9euXTg6OnLw4EHmz59fbFvx8fHaxw++9lFqfVBwcDChoaHUq1ePXr16YW1tXaF2/87V1ZWEhAQ0Go02IOLj47WHnx5Wh6i5qtVhpdJkZGTwwQcfsHjxYrZt20ZISAhz5swhIyODP/74Azc3N2bPnk1wcDDjx4/XntgU1UO/fv3Ytm0bv//+O/n5+SxZsoSWLVtq9xoAvvvuO+7evUt8fDyrVq2iT58+AGRlZWFra4u9vT2JiYmsWLGiRPvr1q0jISGB9PR0QkJCtK/VlbOzM+bm5kRHRxd7fsCAARw8eJDQ0FAGDRr0CO+8uJYtW1KrVi1WrFhBQUEBZ86c4dChQ9p669atW+xQmxDVPhzCw8OJiYlh/PjxDBw4kPHjx2NmZkZkZCQajYaLFy8yePBgtm/fzosvvsjrr79u7JKFHnXs2JGpU6fyxhtv0LlzZ6Kjo1m6dGmxdXr27MngwYMZNGgQ3bt3Z+jQoQBMnjyZ3377jcDAQCZMmKC9+ulB/fr14+WXX+bZZ5+lfv36Ff73Y2Njw2uvvcbIkSMJDAzkwoULQNHhqubNm2NmZvbQPeKKUKlUhISEcOzYMdq3b8+8efP47LPPaNSoEQBDhw7ljz/+IDAwkIkTJz729kTVZ1YdJ/sJCgoiJCSEJk2acOTIEf773/+ydu3aEutdvnyZN998U3tJHxQdvz18+HC5V4YIYWjvvvsurq6ucmOaMIpqv+fg7+9PZGQkp0+f1j536dIlFEXBz88PW1tb7aGks2fPUqdOHZycnIxVrhBA0Z3TBw4c0O7FCFHZqtWew0cffcT+/fu5c+cOTk5OODo6smfPHi5dusS///1v7t69S0FBAT4+PoSEhGBubs7ly5eZN28e+fn52NjYMHv2bFq2bGnstyJqsM8//5wffviBCRMmyGFOYTTVKhyEEELoR7U/rCSEEKLiqsV9DhqNhqysLKysrOR6bSGE0JGiKBQUFGBnZ1fsBkmoJuGQlZWl83AZQgghimvSpEmJIVeqRThYWVkBRW9QpVLpvf2IiAj8/Pz03m51If1TNumf8kkflc1Q/ZOfn8/169e136EPqhbhcP9QkkqleuxhBh7GUO1WF9I/ZZP+KZ/0UdkM2T+lHY6XE9JCCCFKkHAQQghRgoSDEEKIEkzqnENQUFCx8wYzZsygS5cuRq5KCCFqHpMKB4AvvviCJk2aGLsMIYTQiyNh0aza+zvJaTkllpmZgaKAubkZGo2CvW3RVUOZ2QW4ONnQppkrZ68mkZyWQ729KYzp7Uv3AJ8Sbd9Jy8HFyabE8sdhcuEghBCm7pstF/jxVORjt3N/8CKNpujBvewC7bLktJxi20hOy+HLzRcB6B7gw5GwaL7cfJG8AnWpyx+XyYXDjBkzUBSFgIAApk+fXmJaRiGEMDR9ffnrW16BmlV7f6d7gA+r9v6uDYbSlj8ukxp4Lz4+Hg8PD/Lz81mwYAFZWVksWrSo3Nfl5eURERFRCRUKIaq7RVtjyMwzdhVlmzvKm7nrHj5z39xR3g9dVho/P78S91GY1J7D/cnaVSoVo0aNqvBwxaW9QX0ICwsjICBA7+1WF9I/ZZP+KZ8p9JGp7i38XT0nGwICAqi3N6XU8xj3l+uirB/WJhMO2dnZqNVq7O3tURSFH3/8EV9fX2OXJYSo5ga8tROTOXxSDmsrC8b0LvpeHNPbt9g5h78vf1wmEw4pKSm88cYbqNVqNBoNjRo14oMPPjB2WUKIaqz/WzuNuv0KXa30t6uR7v+32l+t5OPjw44dO4xdhhCiBhgxazdZeeryV9SjWioLJg1tVeEv79d5+GG37gE+eguDvzOZcBBCiMqg770FK0tzpgxrbbAvaWORcBBC1BiPGgwqCzO2fjZAz9WYNgkHIUS1dyQsmsXrzj/Sa1s9VZePXu+s54pMn4SDEKJae9S9BWd7FT/M7a3naqoOCQchRLX1KMHg42rH1/961gDVVC0yZLcQolqSYHg8sucghKhWHiUU7Kwt2PBxPwNUU3VJOAghqoWJCw8SnZRV4deZgQRDKeSwkhCiynvUYLAwg9DFAw1QUdUnew5CiCrvUYJhl4RCmWTPQQhRpVX0HIMZEgy6kHAQQlRZj3LyWQ4j6UbCQQhRJT1KMMgeg+7knIMQosqpSDBIIDwa2XMQQlQpFQkGO2sLA1ZSvUk4CCGqjIoGg9y/8OgkHIQQ1ZIEw+ORcBBCVAkjZu3WeV05z/D4JByEECavItN6SjDoh0mGw5dffknTpk25fv26sUsRQpgACYbKZ3LhcOXKFS5cuICXl5exSxFCmABdDydJMOiXSYVDfn4+8+fPZ+7cucYuRQhhAipyOEnol0mFw3/+8x8GDBiAt7e3sUsRQpgAXYPhrVHPGLiSmsdk7pAODw8nIiKCGTNmPHIbEREReqyouLCwMIO1XR1I/5RN+qd8f++jL3fF6fS6wR2csCeJsLAkQ5RlMir735DJhMPZs2e5efMmPXv2BCAhIYFx48bxySef0LlzZ53a8PPzw9raWu+1hYWFERAQoPd2qwvpn7JJ/5SvtD66sy5Gp9eOHdrVECWZFEP9G8rLy3voj2qTCYcJEyYwYcIE7d9BQUGEhITQpEkTI1YlhDAGXe+EluExDMekzjkIIYSuZHgMwzKZPYe/O3TokLFLEEIYga57DRIMhiV7DkIIk6FrMMg9DYYn4SCEEKIECQchhEmQvQbTIuEghDC6uTpetupsrzJwJVWHOieH6E1bCJ86nbzkO3pv32RPSAshaoZ/zt2r87o/zO1twEqqBk1BAQk/7Sdm81YK7t7FuV1brOo46H07Eg5CCKNKvZev03o1/XCSolaTfPQYUes3kpeUjINfC3xnz8S+qWHuBZNwEEIYzZGwaJ3W69OhgYErMV2KoqD+/Srh368iJyYGu0aNaDTxNRxbt8LMzMxg25VwEEIYxZGwaBavO6/Tuq8PbW3gakxT+sVLRK5eS8GNP7D08qTpOzOo27G9QUPhPgkHIYRR6BoMNfFw0r3rN4hcvZa7ly6jcnHBsn9f/Mf+EzOLyhsuRMJBCGGyalowZEdFE7l2Pamnz2Dp4MAT48bi/sLzhF++XKnBABIOQggj0PWehpoiNzGJ6A0bSTpyDAtra3xGDsdzQH8sbW2MVpOEgxDCJNWEexry09OJ2bSVhH37wcwMzwH98B4SjJWD/i9NrSgJByFEpdJlr8HZXlWt72kozMoidvtO4nbtQZOfj1vPIHyGv4h1PRdjl6Yl4SCEMDnVNRjUeXnE79lL7NbtFGZm4tK5E/VHjcDGy9PYpZUg4SCEqDQ19VyDprCQpIOHiN64mfzUVByf8afBP0ZR+8knjV3aQ0k4CCFMSnW6QknRaLjzywmi1m0gNz4B+2ZNaTLjTeq0aGHs0sol4SCEqBQ1aa9BURTSws4TtWYdWbduY9uwAb7vvYtTYECl3MCmDxIOQgiTUR32Gu5e+Y2oNevI+O13arm70WT6m7h06YSZedUaBFvCQQhhcLrsNVT18ZMy/7xF1Jq1pIWFY+XkxJOvTcDtuZ6YW1bNr9mqWbUQotqpquMn5cTFEbV2A3d+OYFl7do0+Oc/8OjbGwtra2OX9lhMKhwmTpxITEwM5ubm2Nra8v777+Pr62vssoQQj0GXvQYX+6p1yAUgLyWF6I2bSTzwM+ZWVni/OASvQQOxrG1n7NL0QqdwOH36NF5eXvj4+JCUlMTixYsxNzdn+vTp1KtXT2/FLFy4EHt7ewAOHjzIrFmz2L59u97aF0KYpsn9Te86/4cpyLhHzNZtJPz4E4pGg0fvXni/OASVk5OxS9MrneJ63rx5WPw16NPChQspLCzEzMyM999/X6/F3A8GgMzMzCpzVl8IUbrqdK6hMDuH6I2bCXt1InE7d1G3U0ee+foLnpzwSrULBtBxzyExMRFPT08KCwv55ZdfOHToEFZWVnTp0kXvBc2ePZsTJ06gKAorVqzQe/tCiMox5J1QndZ7fWhrwsLCDFzNoyualnPfX9NyZuDcri0NRo/Etn59Y5dmUDqFQ+3atblz5w43btygUaNG2NnZkZ+fT2Fhod4LWrBgAQA7duzgs88+47///a/Or42IiNB7PfeZ8j9eUyD9U7aa2D/5aqXcdVzszbV9Y2p9pGg0qC9dpvDocbibgXnDBqiGBJPt7cXvycmQnFyp9VR2/+gUDqNHj2bo0KEUFBQwa9YsAM6fP8+TBrz1e9CgQcyZM4e0tDScdNxl8/Pzw9oAVwiEhYUREBCg93arC+mfstXE/hk0Q7cb3v43tz9gWn2kKAopp04TtXY9eTGx1H6qEQ2mv4lj61ZGq8lQ/ZOXl/fQH9U6hcOECRN47rnnsLCwoP5fu1Jubm589NFHeisyKyuLjIwMPDw8ADh06BB16tTB0dFRb9sQQlQOHXYaTFL6hYtErl5L5h83sfH2ptnMt3Fu365Gnv/U+VJWb29vLl68SEREBH369MHNzU2vheTk5DB16lRycnIwNzenTp06hISE1MgPRYiqTNdhMkzpbuh7164TuWYddy9dxrqeC0+9MQnXHt0qffY1U6JTOFy7do3XX38dlUpFYmIiffr04ezZs2zfvp3PP/9cL4W4uLiwadMmvbQlhDBtphIM2VFRRK5ZT+qZX7Gq48ATr4zF/YVemFtZGbs0o9MpHObOncuUKVMYNGgQbdq0AaBNmza89957Bi1OCFG1VJXB9XITk4hav5HkI0exsLGh/qgRePTvZ9RpOU2NTuHwxx9/MHBgUdLfP8xja2tLXl6e4SoTQlRLxtxrKJqWcwsJ+w5gZm6O58D+eA8ZjJWDffkvrmF0CgcvLy8iIiJ4+umntc9dunRJe3JaCCFMea+hMDOL2O07iqblLCjA7bmeRdNy1q1r7NJMlk7hMHXqVF599VVGjBhBQUEB3377LRs2bODDDz80dH1CiGqksvca1Hl5xO/+kdhtO4qm5ezy17ScnlVnuA5j0SkcevTowYoVK9i0aRNt2rQhNjaWZcuW4efnZ+j6hBBVgKntNWgKC0k8cJDojVsoSEvDKcCf+qNNe1pOU6PzpazNmzdn7ty5BixFCFGdVcZeg6LRkHzsF6LXbyA3IRF732Y0fXs6dVo0N/i2qxudwuE///nPQ5dNnTpVb8UIIaoeU9hrUBSFtHNhRK5eS3ZkFHZPNMT3/Vk4BTwj90o9Ip3CISEhodjfycnJnD17lmeffdYgRQkhqgZTuOHt7pUrRK5ay72r16jl7k6Tt97EpXPVm5bT1OgUDp988kmJ544dO8aePXv0XpAQQugi888/iVy9jvTz4aicnWn0+qu4PhtUZaflNDWP3IudO3dm2rRp+qxFCFGFGGuvISc2jsi160k5cbJaTctpanQKh+jo6GJ/5+TksHv3bu0geUIIURp9TuSTdyeF6A2bSPz5EOYqFd7DhuI1aACWdtVjWk5To1M4PPfcc5iZmaEoRUMt2tjY4Ovry6effmrQ4oQQpknXvYbXh7Z+7G0VZGQQs2Ub8T/+BIqCR58XiqbllBGbDUqncLh69aqh6xBCVBGVdTipMDuHuNBdxO0IRZ2Xh2v3bviMHEYtV9fHalfoRs7cCCFMiiY/n4Sf9hO9eSuFGRk4t29Hg5dGYlvfx9il1SgPDYdu3brpdH3wkSNH9FmPEKIaeJS9BkWtJunwEaLWbyL/zh3qtHyaBv94CfsmjQ1QoSjPQ8Ph3//+d2XWIYSoAgxxw5uiKKh/+53w738gJyaW2o2fovGUSTi2aqn3bQndPTQc2rZtW5l1CCFMnL7PNSiK8te0nOsouHkTSx9vms18B+f2beWuZhOg8zmH33//nXPnzpGWlqa9aglk+AwhxP/RNRjuXbvO7VVryIi4grVrPawG9sP/n2Nq9LScpkancNi4cSOffPIJnTp14tixY3Tt2pUTJ07Qs2dPQ9cnhDAB+jqclBUZRdSadaT+eharOnV4Yvw43Hs9R/ilSxIMJkancFixYgUrVqwgMDCQNm3a8NVXX3H06FF+/PFHvRWSlpbGO++8Q1RUFCqVigYNGjB//nycnZ31tg0hhHHkJiYStW4jyUePFU3L+dJIPPv3xcJGpuU0VTqFQ0pKCoGBgQCYm5uj0Wjo1q0bb7/9tt4KMTMz45VXXqFdu3YALFy4kEWLFvHxxx/rbRtCiIp7nHMN+alpRG/eQuL+g5iZm+M1aABeg4NlWs4qQKdwcHd3JyYmBm9vbxo2bMjPP/+Mk5MTVlZWeivE0dFRGwwArVu3Zv369XprXwhRcY8aDIWZmcRu30lc6G4UtRrXZ3viM3yoTMtZhegUDq+88go3b97E29ubiRMnMnXqVAoKCpg9e7ZBitJoNKxfv56goCCDtC+EMAx1Xh7xu/YQs20H6qwsXLp2LpqWU8Zhq3LMlAcvPfqbqVOnMnjwYLp06YL5A2Oj5+fnU1BQgJ2BBryaN28eiYmJfPnll8W2+zB5eXlEREQYpBYhaqq562J0W2+UN4pajfr8BQqP/wKZWZg3fgrLHt0wd3czcJVCH/z8/LD+26i2Ze45uLm5MXv2bBRFoV+/fgQHB9OsWTNUKhUqlcogRS5cuJDIyEhCQkJ0CoYHlfYG9SEsLIyAgAC9t1tdSP+Urcr2jw7hYKZo8LmXSfT6jRQmJOLQ3JcG/3gJh+a+FdpUle2jSmKo/inrh3WZ4TBr1ixmzpzJ8ePHCQ0NZcSIEdSvX5/g4GD69++Pi4uLXgtdsmQJERERLF++3GDhI4QoX7nnGhSFp7JjGKO6yY2lUdg98QTN58zG8Rl/uYGtmij3nIO5uTndunWjW7duZGZm8tNPPxEaGsqSJUvo2LEj3377rV4KuXHjBt9++y0NGzZkxIgRAHh7e/PVV1/ppX0hhH7Uz06ga2o43rnJaDw9aDJjOi6dOsi0nNVMhUZlrV27Nt26dSM9PZ3o6GjOnj2rt0IaN27MtWvX9NaeEOLRPGyvwS03hW4p53kyJ54MC1saTXoN16AeMi1nNaXTp5qXl8f+/fvZsWMHZ86cITAwkKlTp/L8888buj4hRCUqLRic8+/SJfUCvpmR5JirOFQ3gFnfvCXTclZzZYbDmTNn2LFjB/v376devXoMHDiQDz/8EE9Pz8qqTwhRSf4eDPYFWXROu8jTGTcpNLPghFNLfnVsTp6FSoKhBigzHCZPnkyfPn1YsWIF/v7+lVWTEKKSPRgMNupcOqRe5pmMa6BAWJ1mnHLyI9uyaKiLx53hTVQNZYbDiRMn5KohIaq5+8Gg0uTTNu032qT/hpWiJsL+SX5xbkWGVW0jVyiMocxwkGAQonrr/9ZOLDRqnrl7jQ5pl7HV5HHVrj7H67YmReVYYn3Za6g55DIDIWooRa2m5d0bdE67iENhNrdsPDha15+EWqXfvyTBULNIOAhRwygaDSmnTnNy6X/pU5BBnLULe1w7EWn78PGPJBhqHgkHIWoIRVFID79A5Jp1ZN38E42qDlvdu3PDzgfKuKtZgqFmemg4jBo1Sqfb4NeuXavXgoQQ+pdx9RqRq9eSEXGFdMva/OLaiSv2T6CYlX1XswRDzfXQcHjxxRe1j6Oioti6dSvBwcF4enoSFxfHjh07GDJkSKUUKYR4NFm3I4lcs460s+ewcnRkv0tbLtRpjMas/Ck5JRhqtoeGQ3BwsPbxsGHD+O6772jcuLH2uf79+zNr1iymTJli2AqFEBWWm5BQNC3nseNY2NpQf/Qopp5UKDDX3wRdonrT6ZzDzZs3qV+/frHnvL29+fPPPw1SlBDi0eSnphG9aXPRtJwWFngFD8Rr8CAGzz0EFRgXT/YahE7h0KZNG2bOnMnUqVNxd3cnPj6eL7/8UjuvtBDCuAozM4nZup343T+iqNW4Pf8s3i8Oxbqus85Tfd4nwSBAx3D49NNPmTdvHv369aOwsBBLS0uef/55Pv74Y0PXJ4Qogzo3l7hde4jdvgN1dg4uXe5Py+kO6D4H9H0SDOI+ncLB0dGRpUuXotFoSE1NxdnZucKztAkh9EdTUEDi/gNEb9pKQXo6Tm0CaTB6JHYNG2rXkWAQj0Pn+xxu3rzJTz/9REpKCnPmzOHPP/8kPz+fZs2aGbI+IcQDFLWa5GPHiVq/kbzEJBxaNKfZzLdx8P2//w8rGgogwSBK0unn/969e3nppZdITExkx44dAGRlZfHpp58atDghRBFFUUg58ysX3nyLG58vw9LOjuYfvIffgvkSDMIgdNpz+OKLL1i5ciXNmjVj7969ADRr1oyrV68atDghBKRfukzUmnXcu3adWp6eNH17OnU7lpyWU4JB6JNO4ZCamkrTpk0BtHdNm5mZyUTiQhjQvRt/ELVmHekXLqKqW5dGk17HrWcPzCxK3sAmwSD0TadwaNGiBTt37mTQoEHa5/bs2UPLli0NVpgQNVV2TAxRa9aTcuo0lvb2NHz5n3j0fgHzhwyhL8EgDEGncJg9ezbjxo1jy5YtZGdnM27cOG7dusX333+v12IWLlzIvn37iI2NZdeuXTRp0kSv7QthyvKSk4lav4mkw0cwV6nwGTEMz4H9sbS1LXX9RwkFkGAQuik3HBRFQaVSsXv3bo4dO0b37t3x8PCge/fu2NnZ6bWYnj17MmbMGF566SW9tiuEKSu4e5fozdtI2PsTAJ79+uA9dDBWdeqUuv6jhgJIMAjdlRsOZmZm9O/fn/Pnz9OnTx+DFiN3XIuapDA7m7gdocTu3IUmPx/XoO7UHzEM63r1Sl1fQkFUJp0OK/n6+nLr1i0aNWpk6HoeS0REhMHaDgsLM1jb1YH0T9ke7B+loAD1ufMU/nIScnIw922GqkdXMlxciIiKgqioYq+duy7msbY9d5R3lfh8qkKNxlTZ/aNTOLRt25bx48cTHByMu7t7sauUhg4darDiKsrPzw9ra2u9txsWFkZAQIDe260upH/Kdr9/FLWaxJ8PEb1hE4UpqTi2bkWDf7xE7adK/9H1OHsK91WVPQb5N1Q2Q/VPXl7eQ39U6xQO58+fx8vLi19//bXY82ZmZiYVDkKYIkVRSD5+gqh168mNi8e+aROaTJtKnaf9Sl1fH6EAVScYhGnSKRxWr15t6DqEqHYURSH9fDj5//2e6wmJ2DaoT7NZM3FuG1jqPUL6CgWQYBCPT+exldLS0jh69Ch37tzhlVdeITExEUVRcHd311sxH330Efv37+fOnTuMHTsWR0dH9uzZo7f2hagsGb9fJXLVGjJ++0ia3IAAABtySURBVB0zR0caT5tCvS6dS9zAps9AAAkFoT86hcOvv/7KG2+8gZ+fH+fPn+eVV14hMjKS77//npCQEL0V89577/Hee+/prT0hKlvW7dt/TcsZhpWjI09OeIXYenVxbdu22HoSCsLU6RQOH3/8MZ9//jkdOnSgTZs2ALRq1YpLly4ZtDghqoqc+ASi1m3gzvFfsLC1pcE/XsKjXx8satUi7q+rTPQdCCChIAxHp3CIjY2lQ4cOwP+NrWRlZYVarTZcZUJUAXkpqcRs2kzigZ+LpuUcPAjvwYOwrF0beCAQHvNy1L+TUBCGplM4NGrUiOPHj9OlSxftcydPnpThLUSNVXDvHrHbdjwwLedz+AwbisrZCTDMXgJIKIjKo1M4zJw5k1dffZXu3buTm5vLnDlzOHToEF9//bWh6xPCpKhzcoqm5dyxE3V2DvW6daH+yOG8+O8zsOCYwbYroSAqm07h0Lp1a0JDQwkNDWXIkCF4eHiwZcsWvV6pJIQp0xQUkLDvADGbtlBw9y7Obdvw73h3kmOc4N9nDLZdCQVhLDpfyurm5sb48eMNWYsQJkdRq0k++te0nElJRNq4cdSrI3Gp9UD/N+MDEgjCNDw0HN5++22dJvP57LPP9FqQEKZAURRSz/zK8cXLqZefTrx1XY56PsttGw8w0CRXEgrClDw0HBo0aKB9nJaWxvbt2+nRowdeXl7ExcVx+PBhgoODK6VIISpL/7d20iA7nm4p4Xjm3cHcyoHt7t24ZlffIKEggSBM1UPDYfLkydrH48aNY/ny5cWG1D537hzffPONYasTwoD+fkWRe+4dhqeE80ROPBmWtvzo2oHL9o1QzMwf0sKjkUAQVYFO5xwuXLhAq1atij3XqlUrwsPDDVKUEIbwsMtL6+an0zXlAk2zosg2t+Znl0DOOzRFbV5yruZHpbIwY+tnA/TWnhCGplM4NG/enCVLljB16lRq1apFbm4uX3zxBb6+voauT4hHost9Bg4FmXROvYjfvT8pMLPkuHMrzjr6km9e+lzNFXV/D0GGoxZVkU7h8MknnzBjxgwCAwNxcHAgIyMDPz8/Fi1aZOj6hChXRW84sy3MoWPaZVrfvQ5mcM7Rl1NOfuRY1HrsWuSQkaguyg0HtVrN6dOn+eGHH0hNTSUpKYl69erh6elZGfUJofW4dx1bq/Npm36FNum/Y6moueTQiBNOrbhn9XhzoUsgiOqo3HCwsLDg008/ZejQoXh4eODh4VEZdYkaasg7oeSrFb22aakp5Jm7V+mQFoGNJp/fazfguHNrUlV1Hqk9CQNRE+h0WKlHjx4cOnSIoKAgQ9cjagBDjTv0d+aKhqcz/qBT6iUc1Nn8aevJUWd/EmvVrVA7EgaiJtIpHPLy8pgyZQr+/v4l5pCWm+Bqtve++YWLf6TofdTRx6Io+GbepkvqBZwL7hFTqx673DsTbVP+cC8SBEIU0SkcmjRpIiOwVgMjZu0mK68aD7OuKDyZHUu3lHDc8tNIUjmyxaMHf9h6P/QGNgkDIUqnUzg8eENcdXIkLJpVe3/nTloOLk42jOntS/cAnxLLk9NyqLc3hTbNXDl7NYnktBzMzc3QaBTsba3IL1CTV6Ax4jsR3jmJdEsJxyc3iTTL2oS6dea32k8UCwUJAiF0V244FBYWEhoayokTJ0hPT8fR0ZGOHTsyYMAArKysKqNGgzgSFs2Xmy+SV1D0Szo5LYcvN18EoHuAT6nLfzwVqX29RlN00vRedkElVy4e5JqXSteUcJ7KjiXTwoZ99dpx0eEpdi4ZbOzShKjSygyHe/fuMXbsWGJjY+nWrRvNmzcnOTmZxYsXs27dOlauXIm9vb3eirl16xYzZ87UhtDChQtp2LCh3tp/0Kq9v2u/+O/LK1Czau/vdA/wKXW5MB2O+Rl0Tb1A88zbWNjZ4T1mNB79+tDL2kBDpQpRw5QZDosXL8bZ2ZlVq1Zha2urfT4rK4tp06axePFi5s6dq7diPvjgA0aNGsXAgQPZuXMnc+bMYdWqVXpr/0F30nLKfP5hy0Xle/BwUF5KCtEbt5B44CDmVlZ4Dh2MV/AgLGs/3r0KQojiygyHgwcPsmnTpmLBAGBnZ8ecOXMYMWKE3sIhJSWF3377jf/9738A9OvXjw8//JDU1FScnZ31so0HuTjZkFxKALg42ZS5XBhGeecDCjLuEbttO/F79qJoNHj07oX3i0NQOTlVUoVC1CxlhkNmZiZubm6lLnN3dyczM1NvhcTHx+Pm5oaFRdFgZxYWFri6uhIfH2+QcBjT27fYOQUAaysLxvT2fehyoRt9nvjVTsu5fSfqnBzqde9G/ZHDqPWQf5dCCP0oMxx8fHw4ffo0nTp1KrHs1KlT+Pj4lPIq44mIiNB5XXugb6ADP1/M4G62mjq2FvRs5YA9SYSFJZW6vLGnNTfi8ribrcbMDBQFbKzMKNQoVNUMmTvKW+9thoWFPXYbSmEh6rBwCn85AVnZmDdtgqpHV+65unIlJgZiTOi+Ch3oo0+qO+mjslV6/yhl2Lp1q9KpUyflp59+UtRqtaIoiqJWq5W9e/cqnTp1UrZs2VLWyyvkzp07SkBAgFJYWKgoiqIUFhYqAQEBSkpKSrmvzc3NVc6dO6fk5ubqrZ4HnTt3ziDtVhf67B9NYaGScPBn5ewrryq/DBisXJ49R8m4ek1v7RuD/Pspn/RR2QzVP2V9d5a55zB48GDS09OZOXMmb731Fo6OjqSnp2NlZcWkSZMYMmSI3kKqbt26+Pr6snv3bgYOHMju3bvx9fU1yCElYXoURSH19Bki16wnJyYGu0aNeGrS69Rp1VKn6WqFEPpV7n0OL7/8MsOGDSM8PJy0tDScnJzw9/endu3aei9m7ty5zJw5k6+//hoHBwcWLlyo920I05N+8RKRq9eSeeMPbLy9aPqvGdTt0F5CQQgj0ukO6dq1a9OlSxdD10KjRo3YvHmzwbcjTMO96zeIXL2Wu5cuY13PhafemIRrj26YWehvBjYhxKPRKRyE0KfsqCgi16wn9cyvWNVx4IlXxuL+Qi/Mq/Ad90JUNxIOotLkJiYRvWEjSUeOYWFtjc/I4XgO6I+lrY2xSxNC/I2EgzC4/PR0YjZtJWHffjAzw3NAP7yHBGPl4GDs0oQQDyHhIAymMCuL2O07idu1B01+Pm7PBuEzfBjWLhWbbEcIUfkkHITeqfPyiN+zl9it2ynMzMSlcyfqjxqBjZfMOy5EVSHhIPRGU1hI4oGfidm0hfzUVJwC/Kk/ehS1n3zS2KUJISpIwkE8NkVRSD56nKh1G8hNSMDetxlNZkyjTovmxi5NCPGIJBzEI1MUhbSw8+Qv/47riUnYNmyA7/uzcAp4Rm5gE6KKk3AQj+Tuld+IXL2We79fxczJiSZvvYlL506YmZsbuzQhhB5IOIgKyfzzFlFr1pIWFo6VkxONXn+VGGdH6rVta+zShBB6JOEgdJITF0fU2g3c+eUElrVr0+Cf/8Cjb28srK2JlaGWhah2JBxEmfLupBC9cROJBw9hbmWF94tD8Bo0UKblFKKak3AQpSrIuEfM1m3E79kLioJH7xfwHjYElaOjsUsTQlQCCQdRTGF2DnGhu4jbEYo6NxfXHt3wGTGcWm6uxi5NCFGJJBwEAJqCAhJ+2kfM5q0U3M3AuX07Grw0Atv69Y1dmhDCCCQcajhFrSbp8FGiN2wkL/kOdVo+TYN/vIR9k8bGLk0IYUQSDjWUoiiknDpN1Nr15MTEUrvxUzw1eSKOrVsZuzQhhAmQcKhhFEXh7v1pOf+4iY23N81mvo1z+3ZyV7MQQkvCoQa5d+160bSclyOKpuWcMgnX7jItpxCiJAmHGqBoWs51pJ45+9e0nC/j/sLzMi2nEOKhTCIcdu7cyYoVK7h58yazZs1i9OjRxi6pWshNTCJq/UaSjxzFwsaG+i+NxLN/XyxsZFpOIUTZTCIcfH19Wbp0KcuXLzd2KdVCfloaMZu3krDvAGbm5ngNGoDX4GCsHOyNXZoQooowiXBo0qQJAOYyoudjKczMInb7jqJpOQsKcHvuWXyGD8W6rkzLKYSoGJMIB32JiIgwWNthJjy4nFJQgPrXcxSeOAW5uZi3aI6qe1fu1nXm7u3bcPu2wWsw5f4xBdI/5ZM+Kltl90+lhENwcDBxcXGlLjt58iQWerpaxs/PD2tra7209aCwsDACAgL03u7jKpqW8yDRG7dQmJaGU8Azf03L+USl1mGq/WMqpH/KJ31UNkP1T15e3kN/VFdKOGzfvr0yNlNjKBoNycd+IXr9BnITEnFo7kuzd97CobmvsUsTQlQT1eqwUnWnKAppZ88RuWYd2ZFR2D3RUKblFEIYhEmEw+7du/nss8/IyMjg559/Zvny5Xz//fc89dRTxi7NZNyNuFI0LefVa9TycKfJW9Nw6dxRpuUUQhiESYRDv3796Nevn7HLMEmZN/8kcvVa0sMvoHJ2ptHEV3HtGYS5pUl8dEKIakq+YUxUTmwckWvXk3LiJJb2tWn4/8bg3ucFLAxwwl0IIf5OwsHE5N1JIXrDJhJ/PoS5SoX3sKF4DRqApZ1MyymEqDwSDiaiICODmC3biP/xp6JpOfu8gPeLQ1E51jF2aUKIGkjCwciKTcuZl4dr9274jBxGLVeZllMIYTwSDkaiyc8nfu8+YrZsozAjg7od2lF/1Ehs6/sYuzQhhJBwqGyKWk3SocNEbdhM/p071GnVsmhazsZy2a4QwnRIOFQSRVFIOXmaqLXryImNo3bjxjSeOhnHlk8buzQhhChBwsHAFEUh/cJFIlevI+vmTWx8vGn27js4t2srdzULIUyWhIMB3bt2ndur1pARcQVr13o0nvoG9bp1kWk5hRAmT8LBALIio4has47UX89iVacOT4wfh3uv52RaTiFElSHhoEe5CQlF03IePS7TcgohqjQJBz3IT00jetMWEg8cLJqWM3ggXoMHYWUv03IKIaomCYfHUJiZSez2ncSF7kZRq3F7rifew17Euq6zsUsTQojHIuHwCNS5ucTv/pGYbTtQZ2fj0qUz9UcNx8bDw9ilCSGEXkg4VICmoIDE/QeJ3ryFgrR0nNoE0GD0KOwaNjR2aUIIoVcSDjpQNBqSjhwlat0G8hKTiqbl/NfbOPg2M3ZpQghhEBIOZVAUhdRfz5G/4jtuJCVj98QTNJozG8dn/OUGNiFEtSbh8BB3L0cQuXod965dw8zZmSYzpuPSqYNMyymEqBEkHP4m84+bRdNyXriIqq4zjSa9RoxjHeq1bWvs0oQQotKYRDjMmzePU6dOoVKpsLW1Zfbs2Tz9dOUOSJcdE0PU2g2knDyFpb09Dcf+E/fevbCwtiY2LKxSaxFCCGMziXDo2rUrs2bNwsrKisOHDzNt2jQOHjxYKdsuyLjH7R9Wk3ToMOYqFT7DX8Rz0AAsbW0rZftCCGGKTCIcevTooX3cunVrEhIS0Gg0mFfC8f3kI0dJPnIUj7598B46WKblFEIITCQcHrR27Vq6d+9eKcEA4NG3N27PP4tFrVqVsj0hhKgKzBRFUQy9keDgYOLi4kpddvLkSSz+GsJ6z549fPHFF6xduxYXFxed28/LyyMiIkIvtQohRE3j5+eHtbV1secqZc9h+/bt5a5z4MABli5dysqVKysUDA8q7Q3qQ1hYGAEBAXpvt7qQ/imb9E/5pI/KZqj+KeuHtUkcVjp8+DCffPIJ//vf//D29jZ2OUIIUeOZRDi8++67WFlZMWXKFO1zK1euxMnJyYhVCSFEzWUS4XD69GljlyCEEOIBMhaEEEKIEiQchBBClGASh5Ue1/2rcfPz8w22jby8PIO1XR1I/5RN+qd80kdlM0T/3P/OLO2Ohkq5z8HQ7t27x/Xr141dhhBCVElNmjTB/m9z3leLcNBoNGRlZWFlZSXzLAghhI4URaGgoAA7O7sSo1JUi3AQQgihX3JCWgghRAkSDkIIIUqQcBBCCFGChIMQQogSJByEEEKUIOEghBCiBAkHIYQQJUg4VNCZM2fw9fVlzZo1xi7FpMybN48XXniBAQMGMGLECC5fvmzskkzCrVu3GD58OL169WL48OHcvn3b2CWZjLS0NMaPH0+vXr3o378/kydPJjU11dhlmaQvv/ySpk2bVupIEBIOFZCZmcmiRYvo2rWrsUsxOV27dmXXrl2Ehoby6quvMm3aNGOXZBI++OADRo0axb59+xg1ahRz5swxdkkmw8zMjFdeeYV9+/axa9cufHx8WLRokbHLMjlXrlzhwoULeHl5Vep2JRwq4NNPP2XcuHEyCVEpevTogZWVFQCtW7cmISEBjUZj5KqMKyUlhd9++41+/foB0K9fP3777Tf5dfwXR0dH2rVrp/27devWD51rvqbKz89n/vz5zJ07t9K3LeGgo6NHj3Lv3j1eeOEFY5di8tauXUv37t1LjNVS08THx+Pm5oaFhQUAFhYWuLq6Eh8fb+TKTI9Go2H9+vUEBQUZuxST8p///IcBAwYYZfrkajFktz4EBwc/9FfLTz/9xOLFi/nf//5XyVWZjrL65+TJk9ovwD179rBr1y7Wrl1bmeWJKu7DDz/E1taW0aNHG7sUkxEeHk5ERAQzZswwyvYlHP6yffv2hy47d+4cycnJvPjii0DRibTDhw+Tnp7O5MmTK6tEoyqrf+47cOAAS5cuZeXKlbi4uFRCVabNw8ODxMRE1Go1FhYWqNVqkpKS8PDwMHZpJmXhwoVERkYSEhJS4/c2H3T27Flu3rxJz549AUhISGDcuHF88skndO7c2fAFKKLC/vWvfymrV682dhkm5dChQ0qPHj2U27dvG7sUkzJ69Ghlx44diqIoyo4dO5TRo0cbuSLTsnjxYmX06NFKdna2sUsxeT169FCuXbtWaduTPQehF++++y5WVlZMmTJF+9zKlStr/Mn7uXPnMnPmTL7++mscHBxYuHChsUsyGTdu3ODbb7+lYcOGjBgxAgBvb2+++uorI1cmQOZzEEIIUQo5wCeEEKIECQchhBAlSDgIIYQoQcJBCCFECRIOQgghSpBwECZh2bJlRrsTtDyhoaG8/PLLj91O06ZNiYyM1ENFhjVnzhzt5aRnzpyRgSZrKLnPQVQKf39/7eOcnBxUKpV2yI158+YZq6wSYmJi6NmzJ1euXMHSsuh/jwEDBjBgwAAjV2YY27ZtY/Pmzaxfv1773Pz5841YkTAVEg6iUoSHh2sfBwUF8dFHH9GxY0ftc8uWLauUOgoLC7Vf+kKIh5PDSsJkFBQU8M477+Dv70/fvn2LTRiUmJjIG2+8Qfv27QkKCmLVqlXaZfn5+SxYsIDOnTvTuXNnFixYQH5+PvB/h0WWL19Op06dePfdd9FoNCxfvpxnn32Wdu3aMXXqVNLT0wG0A7+1adMGf39/wsPD2bZtGyNHjtRu78aNG4wdO5a2bdvSsWNHQkJCALh06RLDhw8nMDCQzp07M3/+fG0d5YmOjmb06NH4+/szduxY5s+frz3MVtqhnaCgIE6ePKnTdps2bcr69et5/vnnCQwMZN68eSiKws2bN/nggw+4cOEC/v7+BAYGAjBz5kyWLl1aap1lfQ6XLl1i8ODBPPPMM3Ts2JFPPvlEp/cuTJOEgzAZhw4dom/fvpw7d46goCA+/PBDoGg459dff52mTZty7NgxfvjhB3744QeOHz8OwDfffMPFixfZuXMnoaGhXL58ma+//lrb7p07d7h79y6HDx/mww8/ZPXq1Rw8eJA1a9Zw/Phx6tSpoz2Ucn+Gv7NnzxIeHl7scBgUTfg0duxYunTpwvHjx9m/fz8dOnQAwNzcnHfffZfTp0+zYcMGTp06xbp163R67zNmzKBFixacOXOGiRMn6jTQ4X26bPfIkSNs2bKF0NBQ9u7dy/Hjx2nUqBHz5s2jdevWhIeHc+7cuTK3U97nsGDBAsaMGcP58+c5cOAAvXv31vk9CNMj4SBMRkBAAN26dcPCwoKBAwdy9epVAC5fvkxqaiqTJ09GpVLh4+PDsGHD+PHHHwHYtWsXkyZNom7dujg7OzNp0iRCQ0O17ZqbmzNlyhRUKhW1atViw4YNTJs2DXd3d1QqFZMnT2bfvn0UFhaWW+ORI0dwcXHh5Zdfxtramtq1a9OqVSsA/Pz8aN26NZaWlnh7ezN8+HDOnj1bbptxcXFcvnyZqVOnolKpaNOmTYXmNdBlu+PHj8fBwQFPT0/atWun7duKKO9zsLS0JCoqitTUVOzs7GjdunWFtyFMhxx8FSbjwWG+a9WqRV5eHoWFhcTGxpKUlKQ97AGgVqu1fyclJeHp6ald5unpSVJSkvZvJycnrK2ttX/HxcUxadKkYsNDm5ubk5KSUm6N8fHx1K9fv9Rlt27d4tNPPyUiIoKcnBzUajUtWrQot82kpCQcHBywtbUt9h50nRRIl+3Wq1dP+9jGxoasrCyd2n5QeZ/DggUL+OKLL+jduzfe3t5MnjyZHj16VHg7wjRIOAiT5+Hhgbe3N/v37y91uaurK3FxcTRu3Bgo+gJ3dXXVLjczMyu2vru7Ox9//DEBAQEl2oqNjS23lvu/lP9u7ty5NG/enMWLF1O7dm1WrlzJvn37ymwPir64MzIyyM7O1gZEXFyctm4bGxtyc3O166vV6mJTjT7qdqFk35SlvM+hYcOGLFmyBI1Gw/79+5kyZQpnzpwpFnqi6pDDSsLktWzZEjs7O5YvX05ubi5qtZrr169z6dIlAPr27cs333xDamoqqampfPXVV/Tv3/+h7Y0cOZLPP/9cGwSpqakcPHgQAGdnZ8zNzYmOji71td27dyc5OZmVK1eSn59PZmYmFy9eBCArKws7Ozvs7Oy4efNmsctDy+Ll5YWfnx/Lli0jPz+fc+fOcfjwYe3yJ554gry8PI4cOUJBQQHffPNNsRPOj7pdgLp165KYmKjTifPyPoedO3eSmpqKubk5Dg4OADJ5TxUmn5wweRYWFoSEhHD16lV69uxJ+/btee+998jMzARg4sSJ+Pn5ae9HaNGiBRMnTnxoe2PGjCEoKIiXX34Zf39/hg0bpv2Cs7Gx4bXXXmPkyJEEBgZy4cKFYq+tXbs233//PYcPH6ZTp0706tWLM2fOAPCvf/2L3bt388wzz/D+++/Tp08fnd/j4sWLuXjxIu3ateOrr75i0KBB2mX29vZ88MEHvPfee3Tt2hUbGxvc3d21yx9nu+3bt+epp56ic+fOtGvXrsx1y/scjh8/Tt++ffH392fBggUsXbqUWrVq6VyLMC0yn4MQJmjZsmVERkayaNEiY5ciaijZcxBCCFGChIMQQogS5LCSEEKIEmTPQQghRAkSDkIIIUqQcBBCCFGChIMQQogSJByEEEKUIOEghBCihP8PuZY71YOcgooAAAAASUVORK5CYII=\n",
            "text/plain": [
              "<Figure size 432x288 with 1 Axes>"
            ]
          },
          "metadata": {
            "tags": []
          }
        }
>>>>>>> 718993765a3bab1abb84e4a6225adbc3b425a5de
      ]
     },
     "metadata": {},
     "output_type": "display_data"
    }
   ],
   "source": [
    "sns.distplot(df['sale_price'],fit=norm)\n",
    "plt.show()"
   ]
  },
  {
   "cell_type": "code",
   "execution_count": null,
   "metadata": {
    "colab": {
     "base_uri": "https://localhost:8080/",
     "height": 301
    },
    "colab_type": "code",
    "id": "nyKJZG1KdAnf",
    "outputId": "a59355cb-3acc-492e-d8e6-3ceae884b187"
   },
   "outputs": [
    {
<<<<<<< HEAD
     "data": {
      "image/png": "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\n",
      "text/plain": [
       "<Figure size 432x288 with 1 Axes>"
=======
      "cell_type": "code",
      "metadata": {
        "id": "Gw4ThIPkdC3f",
        "colab_type": "code",
        "colab": {
          "base_uri": "https://localhost:8080/",
          "height": 285
        },
        "outputId": "a4fbfe0d-8570-449c-82eb-a708d4df697e"
      },
      "source": [
        "sns.distplot(df['sale_price'].apply(np.log),fit=norm)\n",
        "plt.show()"
      ],
      "execution_count": null,
      "outputs": [
        {
          "output_type": "display_data",
          "data": {
            "image/png": "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\n",
            "text/plain": [
              "<Figure size 432x288 with 1 Axes>"
            ]
          },
          "metadata": {
            "tags": []
          }
        }
>>>>>>> 718993765a3bab1abb84e4a6225adbc3b425a5de
      ]
     },
     "metadata": {},
     "output_type": "display_data"
    }
   ],
   "source": [
    "stats.probplot(df['sale_price'], plot=plt)\n",
    "plt.show()"
   ]
  },
  {
   "cell_type": "code",
   "execution_count": null,
   "metadata": {
    "colab": {
     "base_uri": "https://localhost:8080/",
     "height": 285
    },
    "colab_type": "code",
    "id": "Gw4ThIPkdC3f",
    "outputId": "c6ccf1d8-0fed-4046-afd2-6ccd873f823f"
   },
   "outputs": [
    {
<<<<<<< HEAD
     "data": {
      "image/png": "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\n",
      "text/plain": [
       "<Figure size 432x288 with 1 Axes>"
=======
      "cell_type": "code",
      "metadata": {
        "id": "9KmpTPaOb1Yv",
        "colab_type": "code",
        "colab": {
          "base_uri": "https://localhost:8080/",
          "height": 301
        },
        "outputId": "db292ab7-5319-4318-ab3f-1404a195ba24"
      },
      "source": [
        "stats.probplot(df['sale_price'].apply(np.log),plot=plt)\n",
        "plt.show()"
      ],
      "execution_count": null,
      "outputs": [
        {
          "output_type": "display_data",
          "data": {
            "image/png": "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\n",
            "text/plain": [
              "<Figure size 432x288 with 1 Axes>"
            ]
          },
          "metadata": {
            "tags": []
          }
        }
>>>>>>> 718993765a3bab1abb84e4a6225adbc3b425a5de
      ]
     },
     "metadata": {},
     "output_type": "display_data"
    }
   ],
   "source": [
    "sns.distplot(df['sale_price'].apply(np.log),fit=norm)\n",
    "plt.show()"
   ]
  },
  {
   "cell_type": "code",
   "execution_count": null,
   "metadata": {
    "colab": {
     "base_uri": "https://localhost:8080/",
     "height": 301
    },
    "colab_type": "code",
    "id": "9KmpTPaOb1Yv",
    "outputId": "5ed39bb1-224c-44ab-801d-a1b04764fb93"
   },
   "outputs": [
    {
     "data": {
      "image/png": "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\n",
      "text/plain": [
       "<Figure size 432x288 with 1 Axes>"
      ]
     },
     "metadata": {},
     "output_type": "display_data"
    }
   ],
   "source": [
    "stats.probplot(df['sale_price'].apply(np.log),plot=plt)\n",
    "plt.show()"
   ]
  },
  {
   "cell_type": "markdown",
   "metadata": {
    "colab_type": "text",
    "id": "6uDYgIpD8mG2"
   },
   "source": [
    "The following algorithm is my **LOVELY** way of searching and comparing:\n",
    "*  \\# of outliers when log-transformed\n",
    "*  \\# of outliers without transformation\n",
    "\n",
    "The columns with less outliers when transformed are scaled and overwritten in the original dataframe."
   ]
  },
  {
   "cell_type": "code",
   "execution_count": null,
   "metadata": {
    "colab": {
     "base_uri": "https://localhost:8080/",
     "height": 765
    },
    "colab_type": "code",
    "id": "qZm6MO_5_Xup",
    "outputId": "82c548ed-e66e-4b05-b344-fc0b34a7b385"
   },
   "outputs": [
    {
<<<<<<< HEAD
     "name": "stdout",
     "output_type": "stream",
     "text": [
      "block\n",
      "outliers: 650\n",
      "log transformed outliers: 991\n",
      "\n",
      "lot\n",
      "outliers: 581\n",
      "log transformed outliers: 0\n",
      "\n",
      "zip_code\n",
      "outliers: 494\n",
      "log transformed outliers: 494\n",
      "\n",
      "residential_units\n",
      "outliers: 49\n",
      "log transformed outliers: 930\n",
      "\n",
      "commercial_units\n",
      "outliers: 5\n",
      "log transformed outliers: 444\n",
      "\n",
      "total_units\n",
      "outliers: 38\n",
      "log transformed outliers: 920\n",
      "\n",
      "land_square_feet\n",
      "outliers: 23\n",
      "log transformed outliers: 0\n",
      "\n",
      "gross_square_feet\n",
      "outliers: 44\n",
      "log transformed outliers: 0\n",
      "\n",
      "sale_price\n",
      "outliers: 1566\n",
      "log transformed outliers: 0\n",
      "\n",
      "tax_class_stays_same\n",
      "outliers: 13\n",
      "log transformed outliers: 13\n",
      "\n",
      "building_class_stays_same\n",
      "outliers: 114\n",
      "log transformed outliers: 114\n",
      "\n"
     ]
    }
   ],
   "source": [
    "for col in df.select_dtypes(include=[np.number]).drop(['year_built','weekday','sale_month','sale_day','sale_year'], axis=1):\n",
    "    outliers = np.where(\n",
    "        np.abs(\n",
    "            stats.zscore(\n",
    "                df[col]\n",
    "            )\n",
    "        ) > 3 )[0]\n",
    "    \n",
    "    log_transformed_outliers = np.where(\n",
    "        np.abs(\n",
    "            stats.zscore(\n",
    "                df[col].apply(\n",
    "                    lambda x: np.log(x) if (x != 0) & (x != np.nan) else 1e-100\n",
    "                )\n",
    "            )\n",
    "        ) > 3 )[0]\n",
    "    \n",
    "    print(df[col].name)\n",
    "    print(\"outliers:\",len(outliers))\n",
    "    print(\"log transformed outliers:\",len(log_transformed_outliers))\n",
    "    print()\n",
    "    if len(log_transformed_outliers) < len(outliers):\n",
    "      df[col] = df[col].apply(lambda x: np.log(x) if (x != 0) & (x != np.nan) else 1e-20)"
   ]
  },
  {
   "cell_type": "code",
   "execution_count": null,
   "metadata": {
    "colab": {
     "base_uri": "https://localhost:8080/",
     "height": 319
=======
      "cell_type": "code",
      "metadata": {
        "id": "qZm6MO_5_Xup",
        "colab_type": "code",
        "colab": {
          "base_uri": "https://localhost:8080/",
          "height": 765
        },
        "outputId": "ce487f77-20f0-4bca-951a-35311eb7fc87"
      },
      "source": [
        "for col in df.select_dtypes(include=[np.number]).drop(['year_built','weekday','sale_month','sale_day','sale_year'], axis=1):\n",
        "    outliers = np.where(\n",
        "        np.abs(\n",
        "            stats.zscore(\n",
        "                df[col]\n",
        "            )\n",
        "        ) > 3 )[0]\n",
        "    \n",
        "    log_transformed_outliers = np.where(\n",
        "        np.abs(\n",
        "            stats.zscore(\n",
        "                df[col].apply(\n",
        "                    lambda x: np.log(x) if (x != 0) & (x != np.nan) else 1e-100\n",
        "                )\n",
        "            )\n",
        "        ) > 3 )[0]\n",
        "    \n",
        "    print(df[col].name)\n",
        "    print(\"outliers:\",len(outliers))\n",
        "    print(\"log transformed outliers:\",len(log_transformed_outliers))\n",
        "    print()\n",
        "    if len(log_transformed_outliers) < len(outliers):\n",
        "      df[col] = df[col].apply(lambda x: np.log(x) if (x != 0) & (x != np.nan) else 1e-20)"
      ],
      "execution_count": null,
      "outputs": [
        {
          "output_type": "stream",
          "text": [
            "block\n",
            "outliers: 650\n",
            "log transformed outliers: 991\n",
            "\n",
            "lot\n",
            "outliers: 581\n",
            "log transformed outliers: 0\n",
            "\n",
            "zip_code\n",
            "outliers: 494\n",
            "log transformed outliers: 494\n",
            "\n",
            "residential_units\n",
            "outliers: 49\n",
            "log transformed outliers: 930\n",
            "\n",
            "commercial_units\n",
            "outliers: 5\n",
            "log transformed outliers: 444\n",
            "\n",
            "total_units\n",
            "outliers: 38\n",
            "log transformed outliers: 920\n",
            "\n",
            "land_square_feet\n",
            "outliers: 23\n",
            "log transformed outliers: 0\n",
            "\n",
            "gross_square_feet\n",
            "outliers: 44\n",
            "log transformed outliers: 0\n",
            "\n",
            "sale_price\n",
            "outliers: 1566\n",
            "log transformed outliers: 0\n",
            "\n",
            "tax_class_stays_same\n",
            "outliers: 13\n",
            "log transformed outliers: 13\n",
            "\n",
            "building_class_stays_same\n",
            "outliers: 114\n",
            "log transformed outliers: 114\n",
            "\n"
          ],
          "name": "stdout"
        }
      ]
>>>>>>> 718993765a3bab1abb84e4a6225adbc3b425a5de
    },
    "colab_type": "code",
    "id": "qb_nVCkeFb3d",
    "outputId": "4e43e848-25ea-4e7f-edbc-bcaa15d9bd9b"
   },
   "outputs": [
    {
<<<<<<< HEAD
     "name": "stdout",
     "output_type": "stream",
     "text": [
      "0.198994620445416\n"
     ]
    },
    {
     "data": {
      "text/plain": [
       "<matplotlib.axes._subplots.AxesSubplot at 0x259e2cdb9e8>"
=======
      "cell_type": "code",
      "metadata": {
        "id": "qb_nVCkeFb3d",
        "colab_type": "code",
        "colab": {
          "base_uri": "https://localhost:8080/",
          "height": 319
        },
        "outputId": "6d72bce9-5588-4b7f-d4fe-14b0b3e8b115"
      },
      "source": [
        "sales=df['sale_price']\n",
        "print(sales.skew())\n",
        "sns.distplot(sales)"
      ],
      "execution_count": null,
      "outputs": [
        {
          "output_type": "stream",
          "text": [
            "0.198994620445416\n"
          ],
          "name": "stdout"
        },
        {
          "output_type": "execute_result",
          "data": {
            "text/plain": [
              "<matplotlib.axes._subplots.AxesSubplot at 0x7f20c777d4a8>"
            ]
          },
          "metadata": {
            "tags": []
          },
          "execution_count": 35
        },
        {
          "output_type": "display_data",
          "data": {
            "image/png": "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\n",
            "text/plain": [
              "<Figure size 432x288 with 1 Axes>"
            ]
          },
          "metadata": {
            "tags": []
          }
        }
      ]
    },
    {
      "cell_type": "code",
      "metadata": {
        "id": "_Xhp7B1VlRSl",
        "colab_type": "code",
        "colab": {
          "base_uri": "https://localhost:8080/",
          "height": 137
        },
        "outputId": "3d75bff2-fe16-4d55-83e1-87066ca2444c"
      },
      "source": [
        "pd.DataFrame(df.corr()['sale_price'].sort_values(ascending=False)).to_html()"
      ],
      "execution_count": null,
      "outputs": [
        {
          "output_type": "execute_result",
          "data": {
            "application/vnd.google.colaboratory.intrinsic+json": {
              "type": "string"
            },
            "text/plain": [
              "'<table border=\"1\" class=\"dataframe\">\\n  <thead>\\n    <tr style=\"text-align: right;\">\\n      <th></th>\\n      <th>sale_price</th>\\n    </tr>\\n  </thead>\\n  <tbody>\\n    <tr>\\n      <th>sale_price</th>\\n      <td>1.000000</td>\\n    </tr>\\n    <tr>\\n      <th>lot</th>\\n      <td>0.212401</td>\\n    </tr>\\n    <tr>\\n      <th>gross_square_feet</th>\\n      <td>0.131576</td>\\n    </tr>\\n    <tr>\\n      <th>land_square_feet</th>\\n      <td>0.101083</td>\\n    </tr>\\n    <tr>\\n      <th>sale_year</th>\\n      <td>0.044312</td>\\n    </tr>\\n    <tr>\\n      <th>residential_units</th>\\n      <td>0.027976</td>\\n    </tr>\\n    <tr>\\n      <th>total_units</th>\\n      <td>0.020053</td>\\n    </tr>\\n    <tr>\\n      <th>commercial_units</th>\\n      <td>0.001248</td>\\n    </tr>\\n    <tr>\\n      <th>sale_day</th>\\n      <td>-0.003934</td>\\n    </tr>\\n    <tr>\\n      <th>building_class_stays_same</th>\\n      <td>-0.006486</td>\\n    </tr>\\n    <tr>\\n      <th>weekday</th>\\n      <td>-0.010414</td>\\n    </tr>\\n    <tr>\\n      <th>tax_class_stays_same</th>\\n      <td>-0.013895</td>\\n    </tr>\\n    <tr>\\n      <th>sale_month</th>\\n      <td>-0.017177</td>\\n    </tr>\\n    <tr>\\n      <th>year_built</th>\\n      <td>-0.053473</td>\\n    </tr>\\n    <tr>\\n      <th>zip_code</th>\\n      <td>-0.132604</td>\\n    </tr>\\n    <tr>\\n      <th>block</th>\\n      <td>-0.334861</td>\\n    </tr>\\n  </tbody>\\n</table>'"
            ]
          },
          "metadata": {
            "tags": []
          },
          "execution_count": 36
        }
>>>>>>> 718993765a3bab1abb84e4a6225adbc3b425a5de
      ]
     },
     "execution_count": 36,
     "metadata": {},
     "output_type": "execute_result"
    },
    {
<<<<<<< HEAD
     "data": {
      "image/png": "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\n",
      "text/plain": [
       "<Figure size 432x288 with 1 Axes>"
=======
      "cell_type": "code",
      "metadata": {
        "id": "6u6_dXVG7YRA",
        "colab_type": "code",
        "colab": {}
      },
      "source": [
        "CATEGORICAL_COLUMNS = ['borough', \n",
        "                       'weekday', \n",
        "                       'sale_day',\n",
        "                       'sale_month', \n",
        "                       'sale_year', \n",
        "                       'tax_class_at_present_letter',\n",
        "                       'tax_class_stays_same',\n",
        "                       'building_class_stays_same',\n",
        "                       'tax_class_at_time_of_sale',\n",
        "                       'building_class_at_time_of_sale',\n",
        "                       'year_built',\n",
        "                       'neighborhood',\n",
        "                       'building_class_category',\n",
        "                       'tax_class_at_present',\n",
        "                       'block',\n",
        "                       'lot',\n",
        "                       'ease-ment',\n",
        "                       'building_class_at_present', \n",
        "                       'address',\n",
        "                       'zip_code']\n",
        "NUMERIC_COLUMNS = ['residential_units','commercial_units', 'total_units', 'land_square_feet','gross_square_feet']\n",
        "\n",
        "feature_columns = []\n",
        "for feature_name in CATEGORICAL_COLUMNS:\n",
        "  df[feature_name] = df[feature_name].astype('str')\n",
        "  vocabulary = df[feature_name].unique()  # gets a list of all unique values from given feature column\n",
        "  feature_columns.append(tf.feature_column.categorical_column_with_vocabulary_list(feature_name, vocabulary))\n",
        "\n",
        "for feature_name in NUMERIC_COLUMNS:\n",
        "  df[feature_name] = df[feature_name].astype('float64')\n",
        "  feature_columns.append(tf.feature_column.numeric_column(feature_name, dtype=tf.float64))"
      ],
      "execution_count": null,
      "outputs": []
    },
    {
      "cell_type": "code",
      "metadata": {
        "id": "iHUUizOd3WVK",
        "colab_type": "code",
        "colab": {}
      },
      "source": [
        "dftrain, dfeval, y_train, y_eval = train_test_split(df,df.pop('sale_price'), test_size=0.25, random_state=42)"
      ],
      "execution_count": null,
      "outputs": []
    },
    {
      "cell_type": "code",
      "metadata": {
        "id": "myOeW-NXCH9-",
        "colab_type": "code",
        "colab": {}
      },
      "source": [
        "def make_input_fn(data_df, label_df, num_epochs=10, shuffle=True, batch_size=32):\n",
        "  def input_function():  # inner function, this will be returned\n",
        "    ds = tf.data.Dataset.from_tensor_slices((dict(data_df), label_df))  # create tf.data.Dataset object with data and its label\n",
        "    if shuffle:\n",
        "      ds = ds.shuffle(1000)  # randomize order of data\n",
        "    ds = ds.batch(batch_size).repeat(num_epochs)  # split dataset into batches of 32 and repeat process for number of epochs\n",
        "    return ds  # return a batch of the dataset\n",
        "  return input_function  # return a function object for use\n",
        "\n",
        "train_input_fn = make_input_fn(dftrain, y_train)  # here we will call the input_function that was returned to us to get a dataset object we can feed to the model\n",
        "eval_input_fn = make_input_fn(dfeval, y_eval, num_epochs=1, shuffle=False)\n"
      ],
      "execution_count": null,
      "outputs": []
    },
    {
      "cell_type": "code",
      "metadata": {
        "id": "eUQixf5tCxJ0",
        "colab_type": "code",
        "colab": {
          "base_uri": "https://localhost:8080/",
          "height": 190
        },
        "outputId": "18b5ac2e-e83b-4c54-f6b6-c20651fc4d8b"
      },
      "source": [
        "estimator = tf.estimator.BoostedTreesRegressor(n_batches_per_layer=32,feature_columns=feature_columns,learning_rate=0.05)"
      ],
      "execution_count": null,
      "outputs": [
        {
          "output_type": "stream",
          "text": [
            "INFO:tensorflow:Using default config.\n",
            "WARNING:tensorflow:Using temporary folder as model directory: /tmp/tmpimq7ejv4\n",
            "INFO:tensorflow:Using config: {'_model_dir': '/tmp/tmpimq7ejv4', '_tf_random_seed': None, '_save_summary_steps': 100, '_save_checkpoints_steps': None, '_save_checkpoints_secs': 600, '_session_config': allow_soft_placement: true\n",
            "graph_options {\n",
            "  rewrite_options {\n",
            "    meta_optimizer_iterations: ONE\n",
            "  }\n",
            "}\n",
            ", '_keep_checkpoint_max': 5, '_keep_checkpoint_every_n_hours': 10000, '_log_step_count_steps': 100, '_train_distribute': None, '_device_fn': None, '_protocol': None, '_eval_distribute': None, '_experimental_distribute': None, '_experimental_max_worker_delay_secs': None, '_session_creation_timeout_secs': 7200, '_service': None, '_cluster_spec': ClusterSpec({}), '_task_type': 'worker', '_task_id': 0, '_global_id_in_cluster': 0, '_master': '', '_evaluation_master': '', '_is_chief': True, '_num_ps_replicas': 0, '_num_worker_replicas': 1}\n"
          ],
          "name": "stdout"
        }
>>>>>>> 718993765a3bab1abb84e4a6225adbc3b425a5de
      ]
     },
     "metadata": {},
     "output_type": "display_data"
    }
   ],
   "source": [
    "sales=df['sale_price']\n",
    "print(sales.skew())\n",
    "sns.distplot(sales)"
   ]
  },
  {
   "cell_type": "code",
   "execution_count": null,
   "metadata": {
    "colab": {
     "base_uri": "https://localhost:8080/",
     "height": 137
    },
    "colab_type": "code",
    "id": "_Xhp7B1VlRSl",
    "outputId": "15f7bb67-3381-452e-b426-8d8820251fba"
   },
   "outputs": [
    {
<<<<<<< HEAD
     "data": {
      "text/plain": [
       "'<table border=\"1\" class=\"dataframe\">\\n  <thead>\\n    <tr style=\"text-align: right;\">\\n      <th></th>\\n      <th>sale_price</th>\\n    </tr>\\n  </thead>\\n  <tbody>\\n    <tr>\\n      <th>sale_price</th>\\n      <td>1.000000</td>\\n    </tr>\\n    <tr>\\n      <th>lot</th>\\n      <td>0.212401</td>\\n    </tr>\\n    <tr>\\n      <th>gross_square_feet</th>\\n      <td>0.131576</td>\\n    </tr>\\n    <tr>\\n      <th>land_square_feet</th>\\n      <td>0.101083</td>\\n    </tr>\\n    <tr>\\n      <th>sale_year</th>\\n      <td>0.044312</td>\\n    </tr>\\n    <tr>\\n      <th>residential_units</th>\\n      <td>0.027976</td>\\n    </tr>\\n    <tr>\\n      <th>total_units</th>\\n      <td>0.020053</td>\\n    </tr>\\n    <tr>\\n      <th>commercial_units</th>\\n      <td>0.001248</td>\\n    </tr>\\n    <tr>\\n      <th>sale_day</th>\\n      <td>-0.003934</td>\\n    </tr>\\n    <tr>\\n      <th>building_class_stays_same</th>\\n      <td>-0.006486</td>\\n    </tr>\\n    <tr>\\n      <th>weekday</th>\\n      <td>-0.010414</td>\\n    </tr>\\n    <tr>\\n      <th>tax_class_stays_same</th>\\n      <td>-0.013895</td>\\n    </tr>\\n    <tr>\\n      <th>sale_month</th>\\n      <td>-0.017177</td>\\n    </tr>\\n    <tr>\\n      <th>year_built</th>\\n      <td>-0.053473</td>\\n    </tr>\\n    <tr>\\n      <th>zip_code</th>\\n      <td>-0.132604</td>\\n    </tr>\\n    <tr>\\n      <th>block</th>\\n      <td>-0.334861</td>\\n    </tr>\\n  </tbody>\\n</table>'"
=======
      "cell_type": "code",
      "metadata": {
        "id": "bpNlA4FWHbBs",
        "colab_type": "code",
        "colab": {
          "base_uri": "https://localhost:8080/",
          "height": 1000
        },
        "outputId": "9ec1005f-da16-47a7-c397-7cd39b15c82a"
      },
      "source": [
        "estimator.train(train_input_fn)  # train\n",
        "result = estimator.evaluate(eval_input_fn)  # get model metrics/stats by evaluating testing data"
      ],
      "execution_count": null,
      "outputs": [
        {
          "output_type": "stream",
          "text": [
            "WARNING:tensorflow:From /usr/local/lib/python3.6/dist-packages/tensorflow/python/training/training_util.py:236: Variable.initialized_value (from tensorflow.python.ops.variables) is deprecated and will be removed in a future version.\n",
            "Instructions for updating:\n",
            "Use Variable.read_value. Variables in 2.X are initialized automatically both in eager and graph (inside tf.defun) contexts.\n",
            "INFO:tensorflow:Calling model_fn.\n",
            "INFO:tensorflow:Done calling model_fn.\n",
            "INFO:tensorflow:Create CheckpointSaverHook.\n",
            "WARNING:tensorflow:Issue encountered when serializing resources.\n",
            "Type is unsupported, or the types of the items don't match field type in CollectionDef. Note this is a warning and probably safe to ignore.\n",
            "'_Resource' object has no attribute 'name'\n",
            "INFO:tensorflow:Graph was finalized.\n",
            "INFO:tensorflow:Running local_init_op.\n",
            "INFO:tensorflow:Done running local_init_op.\n",
            "WARNING:tensorflow:Issue encountered when serializing resources.\n",
            "Type is unsupported, or the types of the items don't match field type in CollectionDef. Note this is a warning and probably safe to ignore.\n",
            "'_Resource' object has no attribute 'name'\n",
            "INFO:tensorflow:Calling checkpoint listeners before saving checkpoint 0...\n",
            "INFO:tensorflow:Saving checkpoints for 0 into /tmp/tmpimq7ejv4/model.ckpt.\n",
            "WARNING:tensorflow:Issue encountered when serializing resources.\n",
            "Type is unsupported, or the types of the items don't match field type in CollectionDef. Note this is a warning and probably safe to ignore.\n",
            "'_Resource' object has no attribute 'name'\n",
            "INFO:tensorflow:Calling checkpoint listeners after saving checkpoint 0...\n",
            "INFO:tensorflow:loss = 174.84647, step = 0\n",
            "WARNING:tensorflow:It seems that global step (tf.train.get_global_step) has not been increased. Current value (could be stable): 0 vs previous value: 0. You could increase the global step by passing tf.train.get_global_step() to Optimizer.apply_gradients or Optimizer.minimize.\n",
            "WARNING:tensorflow:It seems that global step (tf.train.get_global_step) has not been increased. Current value (could be stable): 0 vs previous value: 0. You could increase the global step by passing tf.train.get_global_step() to Optimizer.apply_gradients or Optimizer.minimize.\n",
            "WARNING:tensorflow:It seems that global step (tf.train.get_global_step) has not been increased. Current value (could be stable): 0 vs previous value: 0. You could increase the global step by passing tf.train.get_global_step() to Optimizer.apply_gradients or Optimizer.minimize.\n",
            "WARNING:tensorflow:It seems that global step (tf.train.get_global_step) has not been increased. Current value (could be stable): 0 vs previous value: 0. You could increase the global step by passing tf.train.get_global_step() to Optimizer.apply_gradients or Optimizer.minimize.\n",
            "WARNING:tensorflow:It seems that global step (tf.train.get_global_step) has not been increased. Current value (could be stable): 0 vs previous value: 0. You could increase the global step by passing tf.train.get_global_step() to Optimizer.apply_gradients or Optimizer.minimize.\n",
            "INFO:tensorflow:loss = 143.68643, step = 68 (2.365 sec)\n",
            "INFO:tensorflow:global_step/sec: 30.3988\n",
            "INFO:tensorflow:loss = 107.152054, step = 168 (2.467 sec)\n",
            "INFO:tensorflow:global_step/sec: 43.3409\n",
            "INFO:tensorflow:loss = 79.75798, step = 268 (2.236 sec)\n",
            "INFO:tensorflow:global_step/sec: 46.0328\n",
            "INFO:tensorflow:loss = 56.703312, step = 368 (2.233 sec)\n",
            "INFO:tensorflow:global_step/sec: 43.552\n",
            "INFO:tensorflow:loss = 43.13679, step = 468 (2.206 sec)\n",
            "INFO:tensorflow:global_step/sec: 47.0278\n",
            "INFO:tensorflow:loss = 32.086067, step = 568 (2.205 sec)\n",
            "INFO:tensorflow:global_step/sec: 43.9309\n",
            "INFO:tensorflow:loss = 22.233818, step = 668 (2.204 sec)\n",
            "INFO:tensorflow:global_step/sec: 47.0591\n",
            "INFO:tensorflow:loss = 15.85903, step = 768 (2.309 sec)\n",
            "INFO:tensorflow:global_step/sec: 43.3674\n",
            "INFO:tensorflow:loss = 12.338764, step = 868 (2.169 sec)\n",
            "INFO:tensorflow:global_step/sec: 45.8501\n",
            "INFO:tensorflow:loss = 8.348008, step = 968 (2.297 sec)\n",
            "INFO:tensorflow:global_step/sec: 43.906\n",
            "INFO:tensorflow:loss = 6.7163916, step = 1068 (2.200 sec)\n",
            "INFO:tensorflow:global_step/sec: 44.9423\n",
            "INFO:tensorflow:loss = 5.855403, step = 1168 (2.292 sec)\n",
            "INFO:tensorflow:global_step/sec: 44.1266\n",
            "INFO:tensorflow:loss = 3.7125316, step = 1268 (2.145 sec)\n",
            "INFO:tensorflow:global_step/sec: 46.5228\n",
            "INFO:tensorflow:loss = 2.6793187, step = 1368 (2.282 sec)\n",
            "INFO:tensorflow:global_step/sec: 44.1149\n",
            "INFO:tensorflow:loss = 1.9288107, step = 1468 (2.146 sec)\n",
            "INFO:tensorflow:global_step/sec: 46.1865\n",
            "INFO:tensorflow:loss = 1.4538122, step = 1568 (2.261 sec)\n",
            "INFO:tensorflow:global_step/sec: 44.3083\n",
            "INFO:tensorflow:loss = 1.009944, step = 1668 (2.168 sec)\n",
            "INFO:tensorflow:global_step/sec: 45.3082\n",
            "INFO:tensorflow:loss = 1.143152, step = 1768 (2.260 sec)\n",
            "INFO:tensorflow:global_step/sec: 45.2303\n",
            "INFO:tensorflow:loss = 0.6732388, step = 1868 (2.188 sec)\n",
            "INFO:tensorflow:global_step/sec: 44.7144\n",
            "INFO:tensorflow:loss = 0.7487557, step = 1968 (2.275 sec)\n",
            "INFO:tensorflow:global_step/sec: 43.6052\n",
            "INFO:tensorflow:loss = 0.5252148, step = 2068 (2.283 sec)\n",
            "INFO:tensorflow:global_step/sec: 43.0624\n",
            "INFO:tensorflow:loss = 0.3884449, step = 2168 (2.434 sec)\n",
            "INFO:tensorflow:global_step/sec: 41.8312\n",
            "INFO:tensorflow:loss = 0.46474797, step = 2268 (2.336 sec)\n",
            "INFO:tensorflow:global_step/sec: 41.9324\n",
            "INFO:tensorflow:loss = 0.53970337, step = 2368 (2.397 sec)\n",
            "INFO:tensorflow:global_step/sec: 42.3299\n",
            "INFO:tensorflow:loss = 0.42257422, step = 2468 (2.330 sec)\n",
            "INFO:tensorflow:global_step/sec: 42.5027\n",
            "INFO:tensorflow:loss = 0.35435915, step = 2568 (2.288 sec)\n",
            "INFO:tensorflow:global_step/sec: 45.0387\n",
            "INFO:tensorflow:loss = 0.35124162, step = 2668 (2.212 sec)\n",
            "INFO:tensorflow:global_step/sec: 43.4386\n",
            "INFO:tensorflow:loss = 0.18103682, step = 2768 (2.276 sec)\n",
            "INFO:tensorflow:global_step/sec: 45.8298\n",
            "INFO:tensorflow:loss = 0.26828516, step = 2868 (2.225 sec)\n",
            "INFO:tensorflow:global_step/sec: 43.5566\n",
            "INFO:tensorflow:loss = 0.3089413, step = 2968 (2.260 sec)\n",
            "INFO:tensorflow:global_step/sec: 45.817\n",
            "INFO:tensorflow:loss = 0.17177989, step = 3068 (2.223 sec)\n",
            "INFO:tensorflow:global_step/sec: 42.9101\n",
            "INFO:tensorflow:loss = 0.2806248, step = 3168 (2.292 sec)\n",
            "INFO:tensorflow:global_step/sec: 45.0707\n",
            "INFO:tensorflow:loss = 0.19556218, step = 3268 (2.343 sec)\n",
            "INFO:tensorflow:global_step/sec: 43.3976\n",
            "INFO:tensorflow:loss = 0.31266832, step = 3368 (2.195 sec)\n",
            "INFO:tensorflow:global_step/sec: 45.3466\n",
            "INFO:tensorflow:loss = 0.24171907, step = 3468 (2.283 sec)\n",
            "INFO:tensorflow:global_step/sec: 43.7763\n",
            "INFO:tensorflow:loss = 0.2522352, step = 3568 (2.174 sec)\n",
            "INFO:tensorflow:global_step/sec: 45.3525\n",
            "INFO:tensorflow:loss = 0.32460183, step = 3668 (2.378 sec)\n",
            "INFO:tensorflow:global_step/sec: 42.666\n",
            "INFO:tensorflow:loss = 0.2663256, step = 3768 (2.173 sec)\n",
            "INFO:tensorflow:global_step/sec: 46.0614\n",
            "INFO:tensorflow:loss = 0.2589084, step = 3868 (2.312 sec)\n",
            "INFO:tensorflow:global_step/sec: 43.5396\n",
            "INFO:tensorflow:loss = 0.22172846, step = 3968 (2.197 sec)\n",
            "INFO:tensorflow:global_step/sec: 44.5815\n",
            "INFO:tensorflow:loss = 0.3221566, step = 4068 (2.270 sec)\n",
            "INFO:tensorflow:global_step/sec: 44.0145\n",
            "INFO:tensorflow:loss = 0.21449707, step = 4168 (2.218 sec)\n",
            "INFO:tensorflow:global_step/sec: 44.7811\n",
            "INFO:tensorflow:loss = 0.22587062, step = 4268 (2.303 sec)\n",
            "INFO:tensorflow:global_step/sec: 44.2737\n",
            "INFO:tensorflow:loss = 0.19162408, step = 4368 (2.219 sec)\n",
            "INFO:tensorflow:global_step/sec: 44.4492\n",
            "INFO:tensorflow:loss = 0.25174108, step = 4468 (2.308 sec)\n",
            "INFO:tensorflow:global_step/sec: 43.6435\n",
            "INFO:tensorflow:loss = 0.2908247, step = 4568 (2.252 sec)\n",
            "INFO:tensorflow:global_step/sec: 43.9067\n",
            "INFO:tensorflow:loss = 0.31587753, step = 4668 (2.306 sec)\n",
            "INFO:tensorflow:global_step/sec: 44.4196\n",
            "INFO:tensorflow:loss = 0.28605357, step = 4768 (2.252 sec)\n",
            "INFO:tensorflow:global_step/sec: 42.8056\n",
            "INFO:tensorflow:loss = 0.3051564, step = 4868 (2.237 sec)\n",
            "INFO:tensorflow:global_step/sec: 45.9668\n",
            "INFO:tensorflow:loss = 0.34563094, step = 4968 (2.232 sec)\n",
            "INFO:tensorflow:global_step/sec: 42.9092\n",
            "INFO:tensorflow:loss = 0.26570714, step = 5068 (2.293 sec)\n",
            "INFO:tensorflow:global_step/sec: 45.4516\n",
            "INFO:tensorflow:loss = 0.35849196, step = 5168 (2.261 sec)\n",
            "INFO:tensorflow:global_step/sec: 42.958\n",
            "INFO:tensorflow:loss = 0.27160668, step = 5268 (2.255 sec)\n",
            "INFO:tensorflow:global_step/sec: 46.2017\n",
            "INFO:tensorflow:loss = 0.2851436, step = 5368 (2.245 sec)\n",
            "INFO:tensorflow:global_step/sec: 42.5831\n",
            "INFO:tensorflow:loss = 0.14725605, step = 5468 (2.319 sec)\n",
            "INFO:tensorflow:global_step/sec: 44.5734\n",
            "INFO:tensorflow:loss = 0.19664842, step = 5568 (2.362 sec)\n",
            "INFO:tensorflow:global_step/sec: 42.3087\n",
            "INFO:tensorflow:loss = 0.25438344, step = 5668 (2.247 sec)\n",
            "INFO:tensorflow:global_step/sec: 44.3978\n",
            "INFO:tensorflow:loss = 0.24671951, step = 5768 (2.356 sec)\n",
            "INFO:tensorflow:global_step/sec: 42.7993\n",
            "INFO:tensorflow:loss = 0.18041155, step = 5868 (2.200 sec)\n",
            "INFO:tensorflow:global_step/sec: 44.5433\n",
            "INFO:tensorflow:loss = 0.20472607, step = 5968 (2.397 sec)\n",
            "INFO:tensorflow:global_step/sec: 42.7238\n",
            "INFO:tensorflow:loss = 0.25832072, step = 6068 (2.174 sec)\n",
            "INFO:tensorflow:global_step/sec: 45.4788\n",
            "INFO:tensorflow:loss = 0.17242086, step = 6168 (2.327 sec)\n",
            "INFO:tensorflow:global_step/sec: 43.5965\n",
            "INFO:tensorflow:loss = 0.29063913, step = 6268 (2.175 sec)\n",
            "INFO:tensorflow:global_step/sec: 45.1941\n",
            "INFO:tensorflow:loss = 0.1916464, step = 6368 (2.353 sec)\n",
            "INFO:tensorflow:global_step/sec: 43.2196\n",
            "INFO:tensorflow:loss = 0.37677586, step = 6468 (2.211 sec)\n",
            "INFO:tensorflow:global_step/sec: 43.9145\n",
            "INFO:tensorflow:loss = 0.21979237, step = 6568 (2.354 sec)\n",
            "INFO:tensorflow:global_step/sec: 43.3919\n",
            "INFO:tensorflow:loss = 0.46094602, step = 6668 (2.209 sec)\n",
            "INFO:tensorflow:global_step/sec: 44.4263\n",
            "INFO:tensorflow:loss = 0.31606615, step = 6768 (2.320 sec)\n",
            "INFO:tensorflow:global_step/sec: 43.5087\n",
            "INFO:tensorflow:loss = 0.35013577, step = 6868 (2.211 sec)\n",
            "INFO:tensorflow:global_step/sec: 44.725\n",
            "INFO:tensorflow:loss = 0.26545918, step = 6968 (2.320 sec)\n",
            "INFO:tensorflow:global_step/sec: 44.1751\n",
            "INFO:tensorflow:loss = 0.33584872, step = 7068 (2.190 sec)\n",
            "INFO:tensorflow:global_step/sec: 44.6462\n",
            "INFO:tensorflow:loss = 0.30011743, step = 7168 (2.356 sec)\n",
            "INFO:tensorflow:global_step/sec: 42.8922\n",
            "INFO:tensorflow:loss = 0.25626293, step = 7268 (2.286 sec)\n",
            "INFO:tensorflow:global_step/sec: 42.5641\n",
            "INFO:tensorflow:loss = 0.31127524, step = 7368 (2.245 sec)\n",
            "INFO:tensorflow:global_step/sec: 46.029\n",
            "INFO:tensorflow:loss = 0.17924424, step = 7468 (2.266 sec)\n",
            "INFO:tensorflow:global_step/sec: 42.8236\n",
            "INFO:tensorflow:loss = 0.25684452, step = 7568 (2.247 sec)\n",
            "INFO:tensorflow:global_step/sec: 46.1949\n",
            "INFO:tensorflow:loss = 0.24739268, step = 7668 (2.245 sec)\n",
            "INFO:tensorflow:global_step/sec: 42.0046\n",
            "INFO:tensorflow:loss = 0.5091483, step = 7768 (2.304 sec)\n",
            "INFO:tensorflow:global_step/sec: 45.6858\n",
            "INFO:tensorflow:loss = 0.24985412, step = 7868 (2.248 sec)\n",
            "INFO:tensorflow:global_step/sec: 43.1445\n",
            "INFO:tensorflow:loss = 0.28272665, step = 7968 (2.262 sec)\n",
            "INFO:tensorflow:global_step/sec: 45.6033\n",
            "INFO:tensorflow:loss = 0.2340183, step = 8068 (2.321 sec)\n",
            "INFO:tensorflow:global_step/sec: 43.4219\n",
            "INFO:tensorflow:loss = 0.2739532, step = 8168 (2.211 sec)\n",
            "INFO:tensorflow:global_step/sec: 44.5749\n",
            "INFO:tensorflow:loss = 0.30254596, step = 8268 (2.355 sec)\n",
            "INFO:tensorflow:global_step/sec: 43.1827\n",
            "INFO:tensorflow:loss = 0.41588765, step = 8368 (2.195 sec)\n",
            "INFO:tensorflow:global_step/sec: 44.9309\n",
            "INFO:tensorflow:loss = 0.15851158, step = 8468 (2.378 sec)\n",
            "INFO:tensorflow:global_step/sec: 42.2571\n",
            "INFO:tensorflow:loss = 0.31430766, step = 8568 (2.206 sec)\n",
            "INFO:tensorflow:global_step/sec: 44.5836\n",
            "INFO:tensorflow:loss = 0.22941278, step = 8668 (2.381 sec)\n",
            "INFO:tensorflow:global_step/sec: 42.4496\n",
            "INFO:tensorflow:loss = 0.12622496, step = 8768 (2.280 sec)\n",
            "INFO:tensorflow:global_step/sec: 41.8253\n",
            "INFO:tensorflow:loss = 0.22564574, step = 8868 (2.403 sec)\n",
            "INFO:tensorflow:global_step/sec: 43.9299\n",
            "INFO:tensorflow:loss = 0.3511225, step = 8968 (2.227 sec)\n",
            "INFO:tensorflow:global_step/sec: 43.8667\n",
            "INFO:tensorflow:loss = 0.27199793, step = 9068 (2.343 sec)\n",
            "INFO:tensorflow:global_step/sec: 43.956\n",
            "INFO:tensorflow:loss = 0.31183428, step = 9168 (2.218 sec)\n",
            "INFO:tensorflow:global_step/sec: 44.3072\n",
            "INFO:tensorflow:loss = 0.1374861, step = 9268 (2.324 sec)\n",
            "INFO:tensorflow:global_step/sec: 43.4299\n",
            "INFO:tensorflow:loss = 0.3053397, step = 9368 (2.206 sec)\n",
            "INFO:tensorflow:global_step/sec: 44.6819\n",
            "INFO:tensorflow:loss = 0.18184578, step = 9468 (2.294 sec)\n",
            "INFO:tensorflow:global_step/sec: 44.2125\n",
            "INFO:tensorflow:loss = 0.35553092, step = 9568 (2.307 sec)\n",
            "INFO:tensorflow:global_step/sec: 42.107\n",
            "INFO:tensorflow:loss = 0.18582952, step = 9668 (2.246 sec)\n",
            "INFO:tensorflow:global_step/sec: 45.9713\n",
            "INFO:tensorflow:loss = 0.2727195, step = 9768 (2.241 sec)\n",
            "INFO:tensorflow:global_step/sec: 42.8819\n",
            "INFO:tensorflow:loss = 0.25126708, step = 9868 (2.280 sec)\n",
            "INFO:tensorflow:global_step/sec: 45.5918\n",
            "INFO:tensorflow:loss = 0.2706931, step = 9968 (2.262 sec)\n",
            "INFO:tensorflow:global_step/sec: 42.9814\n",
            "INFO:tensorflow:loss = 0.30294555, step = 10068 (2.240 sec)\n",
            "INFO:tensorflow:global_step/sec: 46.3294\n",
            "INFO:tensorflow:loss = 0.18502603, step = 10168 (2.238 sec)\n",
            "INFO:tensorflow:global_step/sec: 43.1504\n",
            "INFO:tensorflow:loss = 0.33643764, step = 10268 (2.239 sec)\n",
            "INFO:tensorflow:global_step/sec: 45.7415\n",
            "INFO:tensorflow:loss = 0.22616896, step = 10368 (2.391 sec)\n",
            "INFO:tensorflow:global_step/sec: 41.7348\n",
            "INFO:tensorflow:loss = 0.24511251, step = 10468 (2.203 sec)\n",
            "INFO:tensorflow:global_step/sec: 45.6712\n",
            "INFO:tensorflow:loss = 0.19339287, step = 10568 (2.320 sec)\n",
            "INFO:tensorflow:global_step/sec: 43.3356\n",
            "INFO:tensorflow:loss = 0.2026791, step = 10668 (2.184 sec)\n",
            "INFO:tensorflow:global_step/sec: 45.405\n",
            "INFO:tensorflow:loss = 0.22607444, step = 10768 (2.336 sec)\n",
            "INFO:tensorflow:global_step/sec: 43.1158\n",
            "INFO:tensorflow:loss = 0.23513514, step = 10868 (2.209 sec)\n",
            "INFO:tensorflow:global_step/sec: 44.9549\n",
            "INFO:tensorflow:loss = 0.3069961, step = 10968 (2.330 sec)\n",
            "INFO:tensorflow:global_step/sec: 43.1805\n",
            "INFO:tensorflow:loss = 0.3351285, step = 11068 (2.194 sec)\n",
            "INFO:tensorflow:global_step/sec: 45.2947\n",
            "INFO:tensorflow:loss = 0.37628078, step = 11168 (2.343 sec)\n",
            "INFO:tensorflow:global_step/sec: 42.8965\n",
            "INFO:tensorflow:loss = 0.12587175, step = 11268 (2.193 sec)\n",
            "INFO:tensorflow:global_step/sec: 44.3932\n",
            "INFO:tensorflow:loss = 0.15242383, step = 11368 (2.340 sec)\n",
            "INFO:tensorflow:global_step/sec: 43.9593\n",
            "INFO:tensorflow:loss = 0.32972792, step = 11468 (2.246 sec)\n",
            "INFO:tensorflow:global_step/sec: 43.2383\n",
            "INFO:tensorflow:loss = 0.26049778, step = 11568 (2.339 sec)\n",
            "INFO:tensorflow:global_step/sec: 43.7771\n",
            "INFO:tensorflow:loss = 0.28957617, step = 11668 (2.191 sec)\n",
            "INFO:tensorflow:global_step/sec: 45.1545\n",
            "INFO:tensorflow:loss = 0.17809828, step = 11768 (2.347 sec)\n",
            "INFO:tensorflow:global_step/sec: 43.2518\n",
            "INFO:tensorflow:loss = 0.14797774, step = 11868 (2.191 sec)\n",
            "INFO:tensorflow:global_step/sec: 45.0333\n",
            "INFO:tensorflow:loss = 0.20153038, step = 11968 (2.314 sec)\n",
            "INFO:tensorflow:global_step/sec: 43.378\n",
            "INFO:tensorflow:loss = 0.29329145, step = 12068 (2.278 sec)\n",
            "INFO:tensorflow:global_step/sec: 42.4518\n",
            "INFO:tensorflow:loss = 0.251253, step = 12168 (2.324 sec)\n",
            "INFO:tensorflow:global_step/sec: 44.4343\n",
            "INFO:tensorflow:loss = 0.26528236, step = 12268 (2.284 sec)\n",
            "INFO:tensorflow:global_step/sec: 42.4792\n",
            "INFO:tensorflow:loss = 0.31085166, step = 12368 (2.288 sec)\n",
            "INFO:tensorflow:global_step/sec: 45.2201\n",
            "INFO:tensorflow:loss = 0.18409145, step = 12468 (2.310 sec)\n",
            "INFO:tensorflow:global_step/sec: 41.8429\n",
            "INFO:tensorflow:loss = 0.2200695, step = 12568 (2.322 sec)\n",
            "INFO:tensorflow:global_step/sec: 44.843\n",
            "INFO:tensorflow:loss = 0.14641468, step = 12668 (2.285 sec)\n",
            "INFO:tensorflow:global_step/sec: 42.3004\n",
            "INFO:tensorflow:Calling checkpoint listeners before saving checkpoint 12768...\n",
            "INFO:tensorflow:Saving checkpoints for 12768 into /tmp/tmpimq7ejv4/model.ckpt.\n",
            "WARNING:tensorflow:Issue encountered when serializing resources.\n",
            "Type is unsupported, or the types of the items don't match field type in CollectionDef. Note this is a warning and probably safe to ignore.\n",
            "'_Resource' object has no attribute 'name'\n",
            "INFO:tensorflow:Calling checkpoint listeners after saving checkpoint 12768...\n",
            "INFO:tensorflow:Loss for final step: 0.3989409.\n",
            "INFO:tensorflow:Calling model_fn.\n",
            "INFO:tensorflow:Done calling model_fn.\n",
            "INFO:tensorflow:Starting evaluation at 2020-08-25T13:32:31Z\n",
            "INFO:tensorflow:Graph was finalized.\n",
            "INFO:tensorflow:Restoring parameters from /tmp/tmpimq7ejv4/model.ckpt-12768\n",
            "INFO:tensorflow:Running local_init_op.\n",
            "INFO:tensorflow:Done running local_init_op.\n",
            "INFO:tensorflow:Inference Time : 3.66388s\n",
            "INFO:tensorflow:Finished evaluation at 2020-08-25-13:32:35\n",
            "INFO:tensorflow:Saving dict for global step 12768: average_loss = 0.26228327, global_step = 12768, label/mean = 13.3797655, loss = 0.2623152, prediction/mean = 13.3849945\n",
            "WARNING:tensorflow:Issue encountered when serializing resources.\n",
            "Type is unsupported, or the types of the items don't match field type in CollectionDef. Note this is a warning and probably safe to ignore.\n",
            "'_Resource' object has no attribute 'name'\n",
            "INFO:tensorflow:Saving 'checkpoint_path' summary for global step 12768: /tmp/tmpimq7ejv4/model.ckpt-12768\n"
          ],
          "name": "stdout"
        }
>>>>>>> 718993765a3bab1abb84e4a6225adbc3b425a5de
      ]
     },
     "execution_count": 37,
     "metadata": {},
     "output_type": "execute_result"
    }
   ],
   "source": [
    "pd.DataFrame(df.corr()['sale_price'].sort_values(ascending=False)).to_html()"
   ]
  },
  {
   "cell_type": "code",
   "execution_count": null,
   "metadata": {
    "colab": {},
    "colab_type": "code",
    "id": "6u6_dXVG7YRA"
   },
   "outputs": [],
   "source": [
    "CATEGORICAL_COLUMNS = ['borough', \n",
    "                       'weekday', \n",
    "                       'sale_day',\n",
    "                       'sale_month', \n",
    "                       'sale_year', \n",
    "                       'tax_class_at_present_letter',\n",
    "                       'tax_class_stays_same',\n",
    "                       'building_class_stays_same',\n",
    "                       'tax_class_at_time_of_sale',\n",
    "                       'building_class_at_time_of_sale',\n",
    "                       'year_built',\n",
    "                       'neighborhood',\n",
    "                       'building_class_category',\n",
    "                       'tax_class_at_present',\n",
    "                       'block',\n",
    "                       'lot',\n",
    "                       'ease-ment',\n",
    "                       'building_class_at_present', \n",
    "                       'address',\n",
    "                       'zip_code']\n",
    "NUMERIC_COLUMNS = ['residential_units','commercial_units', 'total_units', 'land_square_feet','gross_square_feet']\n",
    "\n",
    "feature_columns = []\n",
    "for feature_name in CATEGORICAL_COLUMNS:\n",
    "  df[feature_name] = df[feature_name].astype('str')\n",
    "  vocabulary = df[feature_name].unique()  # gets a list of all unique values from given feature column\n",
    "  feature_columns.append(tf.feature_column.categorical_column_with_vocabulary_list(feature_name, vocabulary))\n",
    "\n",
    "for feature_name in NUMERIC_COLUMNS:\n",
    "  df[feature_name] = df[feature_name].astype('float64')\n",
    "  feature_columns.append(tf.feature_column.numeric_column(feature_name, dtype=tf.float64))"
   ]
  },
  {
   "cell_type": "code",
   "execution_count": null,
   "metadata": {
    "colab": {},
    "colab_type": "code",
    "id": "iHUUizOd3WVK"
   },
   "outputs": [],
   "source": [
    "dftrain, dfeval, y_train, y_eval = train_test_split(df,df.pop('sale_price'), test_size=0.25, random_state=42)"
   ]
  },
  {
   "cell_type": "code",
   "execution_count": null,
   "metadata": {
    "colab": {},
    "colab_type": "code",
    "id": "myOeW-NXCH9-"
   },
   "outputs": [],
   "source": [
    "def make_input_fn(data_df, label_df, num_epochs=10, shuffle=True, batch_size=32):\n",
    "  def input_function():  # inner function, this will be returned\n",
    "    ds = tf.data.Dataset.from_tensor_slices((dict(data_df), label_df))  # create tf.data.Dataset object with data and its label\n",
    "    if shuffle:\n",
    "      ds = ds.shuffle(1000)  # randomize order of data\n",
    "    ds = ds.batch(batch_size).repeat(num_epochs)  # split dataset into batches of 32 and repeat process for number of epochs\n",
    "    return ds  # return a batch of the dataset\n",
    "  return input_function  # return a function object for use\n",
    "\n",
    "train_input_fn = make_input_fn(dftrain, y_train)  # here we will call the input_function that was returned to us to get a dataset object we can feed to the model\n",
    "eval_input_fn = make_input_fn(dfeval, y_eval, num_epochs=1, shuffle=False)\n"
   ]
  },
  {
   "cell_type": "code",
   "execution_count": null,
   "metadata": {
    "colab": {
     "base_uri": "https://localhost:8080/",
     "height": 190
    },
    "colab_type": "code",
    "id": "eUQixf5tCxJ0",
    "outputId": "3835f75b-4726-4484-d9f2-1f4c2d1221fb"
   },
   "outputs": [
    {
<<<<<<< HEAD
     "name": "stdout",
     "output_type": "stream",
     "text": [
      "INFO:tensorflow:Using default config.\n",
      "WARNING:tensorflow:Using temporary folder as model directory: C:\\Users\\ryana\\AppData\\Local\\Temp\\tmpiqqecink\n",
      "INFO:tensorflow:Using config: {'_model_dir': 'C:\\\\Users\\\\ryana\\\\AppData\\\\Local\\\\Temp\\\\tmpiqqecink', '_tf_random_seed': None, '_save_summary_steps': 100, '_save_checkpoints_steps': None, '_save_checkpoints_secs': 600, '_session_config': allow_soft_placement: true\n",
      "graph_options {\n",
      "  rewrite_options {\n",
      "    meta_optimizer_iterations: ONE\n",
      "  }\n",
      "}\n",
      ", '_keep_checkpoint_max': 5, '_keep_checkpoint_every_n_hours': 10000, '_log_step_count_steps': 100, '_train_distribute': None, '_device_fn': None, '_protocol': None, '_eval_distribute': None, '_experimental_distribute': None, '_experimental_max_worker_delay_secs': None, '_session_creation_timeout_secs': 7200, '_service': None, '_cluster_spec': ClusterSpec({}), '_task_type': 'worker', '_task_id': 0, '_global_id_in_cluster': 0, '_master': '', '_evaluation_master': '', '_is_chief': True, '_num_ps_replicas': 0, '_num_worker_replicas': 1}\n"
     ]
    }
   ],
   "source": [
    "estimator = tf.estimator.BoostedTreesRegressor(n_batches_per_layer=32,feature_columns=feature_columns,learning_rate=0.05)"
   ]
  },
  {
   "cell_type": "code",
   "execution_count": null,
   "metadata": {
    "colab": {
     "base_uri": "https://localhost:8080/",
     "height": 1000
=======
      "cell_type": "code",
      "metadata": {
        "id": "LRfTndDDX-Du",
        "colab_type": "code",
        "colab": {}
      },
      "source": [
        "# RMSE\n",
        "def rmse(y_test,y_pred):\n",
        "      return np.sqrt(mean_squared_error(y_test,y_pred))"
      ],
      "execution_count": null,
      "outputs": []
>>>>>>> 718993765a3bab1abb84e4a6225adbc3b425a5de
    },
    "colab_type": "code",
    "id": "bpNlA4FWHbBs",
    "outputId": "9a40a61d-804d-4566-999b-d2a06a392e72"
   },
   "outputs": [
    {
<<<<<<< HEAD
     "name": "stdout",
     "output_type": "stream",
     "text": [
      "WARNING:tensorflow:From c:\\users\\ryana\\appdata\\local\\programs\\python\\python37\\lib\\site-packages\\tensorflow\\python\\training\\training_util.py:236: Variable.initialized_value (from tensorflow.python.ops.variables) is deprecated and will be removed in a future version.\n",
      "Instructions for updating:\n",
      "Use Variable.read_value. Variables in 2.X are initialized automatically both in eager and graph (inside tf.defun) contexts.\n",
      "INFO:tensorflow:Calling model_fn.\n",
      "INFO:tensorflow:Done calling model_fn.\n",
      "INFO:tensorflow:Create CheckpointSaverHook.\n",
      "WARNING:tensorflow:Issue encountered when serializing resources.\n",
      "Type is unsupported, or the types of the items don't match field type in CollectionDef. Note this is a warning and probably safe to ignore.\n",
      "'_Resource' object has no attribute 'name'\n",
      "INFO:tensorflow:Graph was finalized.\n"
     ]
    }
   ],
   "source": [
    "estimator.train(train_input_fn)  # train\n",
    "result = estimator.evaluate(eval_input_fn)  # get model metrics/stats by evaluating testing data"
   ]
  },
  {
   "cell_type": "code",
   "execution_count": null,
   "metadata": {
    "colab": {},
    "colab_type": "code",
    "id": "LRfTndDDX-Du"
   },
   "outputs": [],
   "source": [
    "# RMSE\n",
    "def rmse(y_test,y_pred):\n",
    "      return np.sqrt(mean_squared_error(y_test,y_pred))"
   ]
  },
  {
   "cell_type": "code",
   "execution_count": null,
   "metadata": {
    "colab": {
     "base_uri": "https://localhost:8080/",
     "height": 119
    },
    "colab_type": "code",
    "id": "AImmHgKuF_bz",
    "outputId": "b8733c71-4b44-47e8-9e60-58f4c8dcb6a0"
   },
   "outputs": [],
   "source": [
    "pred_dicts = list(estimator.predict(eval_input_fn))\n",
    "\n",
    "preds = pd.Series([pred['predictions'][0] for pred in pred_dicts])\n",
    "\n",
    "actuals = y_eval.reset_index(drop=True)"
   ]
  },
  {
   "cell_type": "code",
   "execution_count": null,
   "metadata": {
    "colab": {
     "base_uri": "https://localhost:8080/",
     "height": 221
=======
      "cell_type": "code",
      "metadata": {
        "id": "AImmHgKuF_bz",
        "colab_type": "code",
        "colab": {
          "base_uri": "https://localhost:8080/",
          "height": 119
        },
        "outputId": "68958a47-3632-46cf-fbb9-942b12e03d6a"
      },
      "source": [
        "pred_dicts = list(estimator.predict(eval_input_fn))\n",
        "\n",
        "preds = pd.Series([pred['predictions'][0] for pred in pred_dicts])\n",
        "\n",
        "actuals = y_eval.reset_index(drop=True)"
      ],
      "execution_count": null,
      "outputs": [
        {
          "output_type": "stream",
          "text": [
            "INFO:tensorflow:Calling model_fn.\n",
            "INFO:tensorflow:Done calling model_fn.\n",
            "INFO:tensorflow:Graph was finalized.\n",
            "INFO:tensorflow:Restoring parameters from /tmp/tmpimq7ejv4/model.ckpt-12768\n",
            "INFO:tensorflow:Running local_init_op.\n",
            "INFO:tensorflow:Done running local_init_op.\n"
          ],
          "name": "stdout"
        }
      ]
    },
    {
      "cell_type": "code",
      "metadata": {
        "id": "mYmtjHaSyWUQ",
        "colab_type": "code",
        "colab": {
          "base_uri": "https://localhost:8080/",
          "height": 221
        },
        "outputId": "d050513d-fd1a-46f3-8174-833577f1d8e2"
      },
      "source": [
        "print(actuals.head())\n",
        "print(preds.head())"
      ],
      "execution_count": null,
      "outputs": [
        {
          "output_type": "stream",
          "text": [
            "0    12.751300\n",
            "1    13.997832\n",
            "2    12.095141\n",
            "3    13.384728\n",
            "4    14.285514\n",
            "Name: sale_price, dtype: float64\n",
            "0    13.230284\n",
            "1    13.128064\n",
            "2    12.397099\n",
            "3    13.194487\n",
            "4    13.271417\n",
            "dtype: float64\n"
          ],
          "name": "stdout"
        }
      ]
>>>>>>> 718993765a3bab1abb84e4a6225adbc3b425a5de
    },
    "colab_type": "code",
    "id": "mYmtjHaSyWUQ",
    "outputId": "4132900a-1b78-4ae4-e49e-7c4fab65d72d"
   },
   "outputs": [],
   "source": [
    "print(actuals.head())\n",
    "print(preds.head())"
   ]
  },
  {
   "cell_type": "markdown",
   "metadata": {
    "colab_type": "text",
    "id": "MdYZnp1aLcq9"
   },
   "source": [
    "## Keep in mind that these are the log-transformed values of sale_price. \n",
    "## If you want to compute the errors with non-transformed values, use the following equation: \n",
    "## $$error = 10e^{actual} - 10e^{prediction}$$ "
   ]
  },
  {
   "cell_type": "code",
   "execution_count": null,
   "metadata": {
    "colab": {
     "base_uri": "https://localhost:8080/",
     "height": 102
    },
<<<<<<< HEAD
    "colab_type": "code",
    "id": "Od_HtZbqGZA2",
    "outputId": "eca839a8-7bd8-41e0-9b91-0e5d10b23a36"
   },
   "outputs": [],
   "source": [
    "result"
   ]
  },
  {
   "cell_type": "code",
   "execution_count": null,
   "metadata": {
    "colab": {
     "base_uri": "https://localhost:8080/",
     "height": 438
    },
    "colab_type": "code",
    "id": "fbl36pepPLbC",
    "outputId": "4b4b506e-1466-4c0c-a895-8f562ed22518"
   },
   "outputs": [],
   "source": [
    "error = actuals - preds\n",
    "print(error.describe())\n",
    "plt.hist(error, bins = 50,range=(-2,2))\n",
    "plt.xlabel(\"Prediction Error\")\n",
    "_ = plt.ylabel(\"Count\")"
   ]
  },
  {
   "cell_type": "markdown",
   "metadata": {},
   "source": [
    "## The first thing we have to check is whether the residuals are biased or not. We know from elementary statistics that the mean value of the residuals is zero, so we can start checking with a Student’s t-test if it’s true or not for our holdout sample."
   ]
  },
  {
   "cell_type": "code",
   "execution_count": null,
   "metadata": {},
   "outputs": [],
   "source": [
    "_, p_val = stats.ttest_1samp(error)\n",
    "print(\"P-value of the residuals:\",p_val)"
   ]
  },
  {
   "cell_type": "markdown",
   "metadata": {},
   "source": [
    "## As we can see, the p-value is greater than 5%, so we cannot reject the null hypothesis and can say that the mean value of the holdout residuals is statistically similar to 0.\n",
    "## Then, we can test if the holdout residuals have the same average as the training ones. This is called Welch’s t-test."
   ]
  },
  {
   "cell_type": "code",
   "execution_count": null,
   "metadata": {
    "colab": {
     "base_uri": "https://localhost:8080/",
     "height": 301
    },
    "colab_type": "code",
    "id": "4cD7x0kPmirz",
    "outputId": "ce7bc525-9f59-4ddf-ae5a-d6641551670d"
   },
   "outputs": [],
   "source": [
    "fig, ax = plt.subplots(nrows= 1, ncols = 1)\n",
    "\n",
    "ax.scatter(x = actuals.apply(np.exp), y = preds.apply(np.exp))\n",
    "ax.set_aspect(\"equal\")\n",
    "ax.set_xlim(11,16)\n",
    "ax.set_ylim(11,16)\n",
    "z = np.polyfit(actuals.apply(np.exp), preds.apply(np.exp), 1)\n",
    "p = np.poly1d(z)\n",
    "ax.plot(actuals.apply(np.exp), p(actuals.apply(np.exp)),\"r--\")\n",
    "ax.set_title(\"Actual vs. Predicted values\")\n",
    "ax.set_xlabel(\"Actuals\")\n",
    "ax.set_ylabel(\"Predicted\")\n",
    "\n",
    "\n",
    "fig.show()"
   ]
  },
  {
   "cell_type": "code",
   "execution_count": null,
   "metadata": {
    "colab": {
     "base_uri": "https://localhost:8080/",
     "height": 51
    },
    "colab_type": "code",
    "id": "-ribccG-2OGy",
    "outputId": "36ce2084-cf3a-4af1-fd00-b80790d68b9f"
   },
   "outputs": [],
   "source": [
    "print('R^2 score: {}'.format(r2_score(actuals, preds)))\n",
    "\n",
    "print(\"Root Mean Squared Error: {}\".format(rmse(actuals, preds)))"
   ]
  },
  {
   "cell_type": "code",
   "execution_count": null,
   "metadata": {},
   "outputs": [],
   "source": [
    "_, p_val = stats.ttest_ind(actuals, preds, equal_var=False)\n",
    "print(\"The P-value of the two-sampled t-test:\",p_val)"
   ]
  },
  {
   "cell_type": "markdown",
   "metadata": {},
   "source": [
    "## Again, a p-value higher than 5% can make us tell that there aren’t enough reasons to assume that the mean values are different."
   ]
  },
  {
   "cell_type": "markdown",
   "metadata": {},
   "source": [
    "## F-test\n",
    "### After we have checked the mean value, there comes the variance. We obviously want that the holdout residuals show a behavior not so much different from the training residuals, so we can compare the variances of the two sets and check whether the holdout variance is higher than the training variance.\n",
    "### A good test to check if a variance is greater than another one is the F-test, but it only works with normally distributed residuals. If the distribution is not normal, the test might give wrong results.\n",
    "### So, if we really want to use this test, we must check the normality of the residuals using (for example) a Shapiro-Wilk test."
   ]
  },
  {
   "cell_type": "code",
   "execution_count": null,
   "metadata": {},
   "outputs": [],
   "source": [
    "_, p_val = stats.shapiro(actuals)\n",
    "print(\"The P-value of the Shapiro test for the training data is:\",p_val)\n",
    "_, p_val = stats.shapiro(preds)\n",
    "print(\"The P-value of the Shapiro test for the test data is:\",p_val)"
   ]
  },
  {
   "cell_type": "code",
   "execution_count": null,
   "metadata": {},
   "outputs": [],
   "source": [
    "F = np.var(actuals) / np.var(preds)\n",
    "p_value = scipy.stats.f.cdf(F, actuals, preds)\n",
    "print(\"The P-value of the F test for difference of variances is:\",p_val)"
   ]
  },
  {
   "cell_type": "markdown",
   "metadata": {},
   "source": [
    "## The p-value is 72%, which is greater than 5% and allows us to say that the two sets have the same variance."
   ]
  }
 ],
 "metadata": {
  "colab": {
   "authorship_tag": "ABX9TyNzTP8CCSMuJCD0IFKRVKHm",
   "collapsed_sections": [],
   "include_colab_link": true,
   "name": "NYC-Rolling-Sales.ipynb",
   "provenance": [],
   "toc_visible": true
  },
  "kernelspec": {
   "display_name": "Python 3",
   "language": "python",
   "name": "python3"
  },
  "language_info": {
   "codemirror_mode": {
    "name": "ipython",
    "version": 3
   },
   "file_extension": ".py",
   "mimetype": "text/x-python",
   "name": "python",
   "nbconvert_exporter": "python",
   "pygments_lexer": "ipython3",
   "version": "3.7.3"
  }
 },
 "nbformat": 4,
 "nbformat_minor": 4
}
=======
    {
      "cell_type": "code",
      "metadata": {
        "id": "Od_HtZbqGZA2",
        "colab_type": "code",
        "colab": {
          "base_uri": "https://localhost:8080/",
          "height": 102
        },
        "outputId": "8615eee4-60f4-472d-b407-53f0690f180c"
      },
      "source": [
        "result"
      ],
      "execution_count": null,
      "outputs": [
        {
          "output_type": "execute_result",
          "data": {
            "text/plain": [
              "{'average_loss': 0.26228327,\n",
              " 'global_step': 12768,\n",
              " 'label/mean': 13.3797655,\n",
              " 'loss': 0.2623152,\n",
              " 'prediction/mean': 13.3849945}"
            ]
          },
          "metadata": {
            "tags": []
          },
          "execution_count": 45
        }
      ]
    },
    {
      "cell_type": "code",
      "metadata": {
        "id": "fbl36pepPLbC",
        "colab_type": "code",
        "colab": {
          "base_uri": "https://localhost:8080/",
          "height": 438
        },
        "outputId": "0b0ba4d9-d91f-4db1-f611-6bd56b4c70cb"
      },
      "source": [
        "error = actuals - preds\n",
        "print(error.describe())\n",
        "plt.hist(error, bins = 50,range=(-2,2))\n",
        "plt.xlabel(\"Prediction Error\")\n",
        "_ = plt.ylabel(\"Count\")"
      ],
      "execution_count": null,
      "outputs": [
        {
          "output_type": "stream",
          "text": [
            "count    13645.000000\n",
            "mean        -0.005224\n",
            "std          0.512128\n",
            "min         -2.789882\n",
            "25%         -0.314864\n",
            "50%          0.011643\n",
            "75%          0.308531\n",
            "max          2.312869\n",
            "dtype: float64\n"
          ],
          "name": "stdout"
        },
        {
          "output_type": "display_data",
          "data": {
            "image/png": "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\n",
            "text/plain": [
              "<Figure size 432x288 with 1 Axes>"
            ]
          },
          "metadata": {
            "tags": []
          }
        }
      ]
    },
    {
      "cell_type": "markdown",
      "metadata": {
        "id": "GuUlrat4yLFA",
        "colab_type": "text"
      },
      "source": [
        "## The first thing we have to check is whether the residuals are biased or not. We know from elementary statistics that the mean value of the residuals is zero, so we can start checking with a Student’s t-test if it’s true or not for our holdout sample."
      ]
    },
    {
      "cell_type": "code",
      "metadata": {
        "id": "mDHmsipfyMH1",
        "colab_type": "code",
        "colab": {
          "base_uri": "https://localhost:8080/",
          "height": 34
        },
        "outputId": "40b6e147-6bf8-40f9-c688-576f557e77fe"
      },
      "source": [
        "_, p_val = stats.ttest_1samp(error, popmean=0)\n",
        "print(\"P-value of the residuals:\",p_val)"
      ],
      "execution_count": null,
      "outputs": [
        {
          "output_type": "stream",
          "text": [
            "P-value of the residuals: 0.2334504874636583\n"
          ],
          "name": "stdout"
        }
      ]
    },
    {
      "cell_type": "markdown",
      "metadata": {
        "id": "POGjF3avyONl",
        "colab_type": "text"
      },
      "source": [
        "## As we can see, the p-value is greater than 5%, so we cannot reject the null hypothesis and can say that the mean value of the holdout residuals is statistically similar to 0.\n",
        "\n",
        "## Then, we can test if the holdout residuals have the same average as the training ones. This is called Welch’s t-test."
      ]
    },
    {
      "cell_type": "code",
      "metadata": {
        "id": "5ZqAfYM3yQC3",
        "colab_type": "code",
        "colab": {
          "base_uri": "https://localhost:8080/",
          "height": 34
        },
        "outputId": "cb65937d-d427-47b9-cdb1-90428da5cab5"
      },
      "source": [
        "_, p_val = stats.ttest_ind(actuals, preds, equal_var=False)\n",
        "print(\"The P-value of the two-sampled t-test:\",p_val)"
      ],
      "execution_count": null,
      "outputs": [
        {
          "output_type": "stream",
          "text": [
            "The P-value of the two-sampled t-test: 0.5023710977343168\n"
          ],
          "name": "stdout"
        }
      ]
    },
    {
      "cell_type": "markdown",
      "metadata": {
        "id": "6DmbDlwXyVvC",
        "colab_type": "text"
      },
      "source": [
        "## Again, a p-value higher than 5% can make us tell that there aren’t enough reasons to assume that the mean values are different."
      ]
    },
    {
      "cell_type": "markdown",
      "metadata": {
        "id": "y31CP_kiyYWi",
        "colab_type": "text"
      },
      "source": [
        "## F-test\n",
        "### After we have checked the mean value, there comes the variance. We obviously want that the holdout residuals show a behavior not so much different from the training residuals, so we can compare the variances of the two sets and check whether the holdout variance is higher than the training variance.\n",
        "### A good test to check if a variance is greater than another one is the F-test, but it only works with normally distributed residuals. If the distribution is not normal, the test might give wrong results.\n",
        "### So, if we really want to use this test, we must check the normality of the residuals using (for example) a Shapiro-Wilk test."
      ]
    },
    {
      "cell_type": "code",
      "metadata": {
        "id": "vZvqCKoDyafF",
        "colab_type": "code",
        "colab": {
          "base_uri": "https://localhost:8080/",
          "height": 85
        },
        "outputId": "2f09aa25-a69c-4d75-f207-72583924e7c8"
      },
      "source": [
        "W, p_val = stats.shapiro(actuals)\n",
        "print(\"The W statistic of the Shapiro-Wilk test for the training data is:\",W)\n",
        "W, p_val = stats.shapiro(preds)\n",
        "print(\"The W statistic of the Shapiro-Wilk test for the test data is:\",W)"
      ],
      "execution_count": null,
      "outputs": [
        {
          "output_type": "stream",
          "text": [
            "The P-value of the Shapiro test for the training data is: 1.291715950519167e-24 0.9933211803436279\n",
            "The P-value of the Shapiro test for the test data is: 2.894843388193755e-31 0.9887940287590027\n"
          ],
          "name": "stdout"
        },
        {
          "output_type": "stream",
          "text": [
            "/usr/local/lib/python3.6/dist-packages/scipy/stats/morestats.py:1676: UserWarning: p-value may not be accurate for N > 5000.\n",
            "  warnings.warn(\"p-value may not be accurate for N > 5000.\")\n"
          ],
          "name": "stderr"
        }
      ]
    },
    {
      "cell_type": "markdown",
      "metadata": {
        "id": "zRqQOki3ybEK",
        "colab_type": "text"
      },
      "source": [
        "## Both W statistics are close to 1, so we can say that both sets show normally distributed residuals. We can safely go on performing the F-test.\n",
        "\n",
        "\n"
      ]
    },
    {
      "cell_type": "code",
      "metadata": {
        "id": "HMNK-TycymuC",
        "colab_type": "code",
        "colab": {
          "base_uri": "https://localhost:8080/",
          "height": 34
        },
        "outputId": "b7bdbcfe-13a3-476d-d040-e6af9ac01d2a"
      },
      "source": [
        "F = np.var(actuals) / np.var(preds)\n",
        "p_value = stats.f.cdf(F, actuals, preds)\n",
        "print(\"The P-value of the F test for difference of variances is:\",p_val)"
      ],
      "execution_count": null,
      "outputs": [
        {
          "output_type": "stream",
          "text": [
            "The P-value of the F test for difference of variances is: 2.894843388193755e-31\n"
          ],
          "name": "stdout"
        }
      ]
    },
    {
      "cell_type": "markdown",
      "metadata": {
        "id": "2FJrWPMMyp2a",
        "colab_type": "text"
      },
      "source": [
        "## The p-value is less than 5%, which allows us to say that the two sets have the same variance, or Var(actuals) == Var(predicted)"
      ]
    },
    {
      "cell_type": "code",
      "metadata": {
        "id": "4cD7x0kPmirz",
        "colab_type": "code",
        "colab": {
          "base_uri": "https://localhost:8080/",
          "height": 301
        },
        "outputId": "69588020-39e1-424a-dca3-b1348b1b6192"
      },
      "source": [
        "fig, ax = plt.subplots(nrows= 1, ncols = 1)\n",
        "\n",
        "ax.scatter(x = actuals, y = preds)\n",
        "ax.set_aspect(\"equal\")\n",
        "ax.set_xlim(11,16)\n",
        "ax.set_ylim(11,16)\n",
        "z = np.polyfit(actuals, preds, 1)\n",
        "p = np.poly1d(z)\n",
        "ax.plot(actuals, p(actuals),\"r--\")\n",
        "ax.set_title(\"Actual vs. Predicted values\")\n",
        "ax.set_xlabel(\"Actuals\")\n",
        "ax.set_ylabel(\"Predicted\")\n",
        "\n",
        "\n",
        "fig.show()"
      ],
      "execution_count": null,
      "outputs": [
        {
          "output_type": "display_data",
          "data": {
            "image/png": "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\n",
            "text/plain": [
              "<Figure size 432x288 with 1 Axes>"
            ]
          },
          "metadata": {
            "tags": []
          }
        }
      ]
    },
    {
      "cell_type": "code",
      "metadata": {
        "id": "-ribccG-2OGy",
        "colab_type": "code",
        "colab": {
          "base_uri": "https://localhost:8080/",
          "height": 51
        },
        "outputId": "dfe4b790-d231-4c64-e123-aacd4a72a7ee"
      },
      "source": [
        "print('R^2 score: {}'.format(r2_score(actuals, preds)))\n",
        "\n",
        "print(\"Root Mean Squared Error: {}\".format(rmse(actuals, preds)))"
      ],
      "execution_count": null,
      "outputs": [
        {
          "output_type": "stream",
          "text": [
            "R^2 score: 0.5462442430315297\n",
            "Root Mean Squared Error: 0.5121359043645497\n"
          ],
          "name": "stdout"
        }
      ]
    }
  ]
}
>>>>>>> 718993765a3bab1abb84e4a6225adbc3b425a5de
