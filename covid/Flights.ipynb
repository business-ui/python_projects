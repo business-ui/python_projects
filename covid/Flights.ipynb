{
 "cells": [
  {
   "cell_type": "code",
   "execution_count": 2,
   "metadata": {
    "cell.metadata.hide_input": true
   },
   "outputs": [],
   "source": [
    "import pandas as pd\n",
    "from string import ascii_uppercase\n",
    "codes = pd.DataFrame()\n",
    "for letter in ascii_uppercase:\n",
    "    new_codes = pd.read_html(\"https://en.wikipedia.org/wiki/List_of_airports_by_IATA_code:_{}\".format(letter),header=0)[0]\n",
    "    if len(new_codes.columns) != 4:\n",
    "        new_codes.drop(new_codes.columns[4:],inplace=True,axis=1)\n",
    "        codes = codes.append(new_codes)\n",
    "    else:\n",
    "        codes = codes.append(new_codes)"
   ]
  },
  {
   "cell_type": "code",
   "execution_count": null,
   "metadata": {},
   "outputs": [],
   "source": [
    "def find_airport_country(iata):\n",
    "    temp = iata[0].upper()\n",
    "    result = codes.loc[codes[\"IATA\"]==iata,\"Location served\"].str.split(\",\").str[-1].str.strip().item()\n",
    "    return result"
   ]
  },
  {
   "cell_type": "code",
   "execution_count": null,
   "metadata": {},
   "outputs": [],
   "source": [
    "def compare_airport_country(dep_country, arr_country):\n",
    "    if dep_country == arr_country:\n",
    "        return True\n",
    "    else:\n",
    "        return False"
   ]
  },
  {
   "cell_type": "code",
   "execution_count": null,
   "metadata": {},
   "outputs": [],
   "source": [
    "flights = pd.DataFrame(columns=['date','departure_airport','arrival_airport','airline','departure_country','arrival_country'])"
   ]
  },
  {
   "cell_type": "code",
   "execution_count": null,
   "metadata": {},
   "outputs": [],
   "source": [
    "for day in range(1,8):\n",
    "    formatted_date = (dt.date.today() + dt.timedelta(days=day)).strftime(\"%Y-%m-%d\")\n",
    "    params = {'access_key':'4666e4d10ce09fe420c4f2518d6286cf',\n",
    "              'flight_status':'scheduled',\n",
    "              'flight_date':formatted_date}\n",
    "    f = requests.get('https://api.aviationstack.com/v1/flights',params)\n",
    "    if f.json()['pagination']['total']%100==0:\n",
    "        pages = int(f.json()['pagination']['total']/100)\n",
    "    else:\n",
    "        pages = int(f.json()['pagination']['total']/100) + 1\n",
    "    \n",
    "    for page in [page * 100 for page in range(pages)]:\n",
    "        params['offset'] = page\n",
    "        f = requests.get('https://api.aviationstack.com/v1/flights',params)\n",
    "        for flight in range(len(f.json()['data'])):\n",
    "            flight_date = dt.datetime.strptime(f.json()['data'][flight]['flight_date'],\"%Y-%m-%d\")\n",
    "            dt.datetime.strptime(f.json()['data'][flight]['flight_date'],\"%Y-%m-%d\")\n",
    "            dep_airport = f.json()['data'][flight]['departure']['airport']\n",
    "            arr_airport = f.json()['data'][flight]['arrival']['airport']\n",
    "            airline = f.json()['data'][flight]['airline']['name']\n",
    "            dep_country = find_airport_country(f.json()['data'][flight]['departure']['iata'])\n",
    "            arr_country = find_airport_country(f.json()['data'][flight]['arrival']['iata'])\n",
    "\n",
    "            flights = flights.append({'date':flight_date,\n",
    "                                    'departure_airport':dep_airport,\n",
    "                                    'arrival_airport':arr_airport,\n",
    "                                    'airline':airline,\n",
    "                                    'departure_country':dep_country,\n",
    "                                    'arrival_country':arr_country} )"
   ]
  },
  {
   "cell_type": "code",
   "execution_count": null,
   "metadata": {},
   "outputs": [],
   "source": [
    "flights['international'] = np.where(flights['departure_country']==flights['arrival_country'],False,True)"
   ]
  },
  {
   "cell_type": "code",
   "execution_count": null,
   "metadata": {},
   "outputs": [],
   "source": [
    "print(flights.departure_country.unique())"
   ]
  },
  {
   "cell_type": "code",
   "execution_count": null,
   "metadata": {},
   "outputs": [],
   "source": [
    "print(codes.iloc[:,-1].str.split(\",\").str[-1].str.strip().unique())"
   ]
  },
  {
   "cell_type": "code",
   "execution_count": null,
   "metadata": {},
   "outputs": [],
   "source": []
  }
 ],
 "metadata": {
  "kernelspec": {
   "display_name": "Python 3",
   "language": "python",
   "name": "python3"
  },
  "language_info": {
   "codemirror_mode": {
    "name": "ipython",
    "version": 3
   },
   "file_extension": ".py",
   "mimetype": "text/x-python",
   "name": "python",
   "nbconvert_exporter": "python",
   "pygments_lexer": "ipython3",
   "version": "3.7.3"
  }
 },
 "nbformat": 4,
 "nbformat_minor": 2
}
