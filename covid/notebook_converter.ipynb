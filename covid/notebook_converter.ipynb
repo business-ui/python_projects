{
 "cells": [
  {
   "cell_type": "code",
   "execution_count": null,
   "metadata": {},
   "outputs": [],
   "source": [
    "import subprocess as cmd\n",
    "cmd.run(\"python covid.ipynb\")\n",
    "cmd.run('jupyter nbconvert covid.ipynb --no-input --output \"../../../../var/www/html/covid.html\"')\n",
    "cmd.run(\"\")"
   ]
  }
 ],
 "metadata": {
  "kernelspec": {
   "display_name": "Python 3.7.3 64-bit",
   "language": "python",
   "name": "python37364bit9a20ddc9d1ae462d97558f7f471a7945"
  },
  "language_info": {
   "codemirror_mode": {
    "name": "ipython",
    "version": 3
   },
   "file_extension": ".py",
   "mimetype": "text/x-python",
   "name": "python",
   "nbconvert_exporter": "python",
   "pygments_lexer": "ipython3",
   "version": "3.7.3"
  }
 },
 "nbformat": 4,
 "nbformat_minor": 2
}
