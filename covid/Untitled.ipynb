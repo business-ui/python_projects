{
 "cells": [
  {
   "cell_type": "code",
   "execution_count": 3,
   "metadata": {},
   "outputs": [
    {
     "name": "stderr",
     "output_type": "stream",
     "text": [
      "BokehDeprecationWarning: 'WidgetBox' is deprecated and will be removed in Bokeh 3.0, use 'bokeh.models.Column' instead\n"
     ]
    }
   ],
   "source": [
    "from bokeh.plotting import curdoc, output_file,show\n",
    "from bokeh.models.widgets import Button, CheckboxGroup\n",
    "from bokeh.layouts import widgetbox, row\n",
    "from bokeh.models import ColumnDataSource, Callback\n",
    "\n",
    "output_file(\"states.html\", title=\"states\")\n",
    "\n",
    "states_list = [\"Alabama\", \"Alaska \", \"Arizona\", \"Arkansas\", \"California\", \\\n",
    "        \"Colorado\", \"Connecticut\", \"Delaware\", \"Florida\", \"Georgia\", \\\n",
    "        \"Hawaii\", \"Idaho \", \"Illinois\", \"Indiana\", \"Iowa\", \"Kansas\", \\\n",
    "        \"Kentucky\", \"Louisiana\", \"Maine\", \"Maryland\", \"Massachusetts\", \\\n",
    "        \"Michigan \", \"Minnesota\", \"Mississippi\", \"Missouri\", \"Montana\",\\\n",
    "        \"Nebraska\", \"Nevada \", \"New Hampshire\", \"New Jersey\",\\\n",
    "        \"New Mexico\", \"New York\", \"North Carolina\", \"North Dakota\", \\\n",
    "        \"Ohio\", \"Oklahoma\",\"Oregon\", \"Pennsylvania\", \"Rhode Island\", \\\n",
    "        \"South Carolina\", \"South Dakota\", \"Tennessee\", \"Texas\", \"Utah\",\\\n",
    "        \"Vermont\", \"Virginia\",\"Washington\", \"West Virginia\", \\\n",
    "        \"Wisconsin\", \"Wyoming\"]\n",
    "\n",
    "states = CheckboxGroup(\n",
    "        labels = states_list,\n",
    "        active=[0,1])\n",
    "\n",
    "select_all = Button(label=\"select all\")\n",
    "\n",
    "def update():\n",
    "    states.active = list(range(len(states_list)))\n",
    "select_all.on_click(update)\n",
    "\n",
    "group = widgetbox(select_all, states)\n",
    "\n",
    "layout = row(group)\n",
    "\n",
    "curdoc().add_root(layout)\n",
    "curdoc().title = \"states\"\n"
   ]
  },
  {
   "cell_type": "code",
   "execution_count": 4,
   "metadata": {},
   "outputs": [
    {
     "name": "stderr",
     "output_type": "stream",
     "text": [
      "C:\\Users\\ryana\\AppData\\Local\\Programs\\Python\\Python37\\lib\\site-packages\\statsmodels\\tools\\_testing.py:19: FutureWarning: pandas.util.testing is deprecated. Use the functions in the public API at pandas.testing instead.\n",
      "  import pandas.util.testing as tm\n"
     ]
    }
   ],
   "source": [
    "# Useful Libraries\n",
    "import matplotlib.pyplot as plt\n",
    "import numpy as np\n",
    "import pandas as pd\n",
    "import scipy.stats as stats\n",
    "from statsmodels.stats.stattools import jarque_bera"
   ]
  },
  {
   "cell_type": "code",
   "execution_count": 7,
   "metadata": {},
   "outputs": [],
   "source": [
    "QUANDL_API_KEY = '6Lz8yq2BYAag2D5u2Eut'"
   ]
  },
  {
   "cell_type": "code",
   "execution_count": 8,
   "metadata": {},
   "outputs": [],
   "source": [
    "import quandl\n",
    "quandl.ApiConfig.api_key = QUANDL_API_KEY"
   ]
  },
  {
   "cell_type": "code",
   "execution_count": null,
   "metadata": {},
   "outputs": [],
   "source": [
    "!pip install zipline"
   ]
  },
  {
   "cell_type": "code",
   "execution_count": null,
   "metadata": {},
   "outputs": [],
   "source": [
    "from zipline.api import order, record, symbol"
   ]
  },
  {
   "cell_type": "code",
   "execution_count": null,
   "metadata": {},
   "outputs": [],
   "source": []
  }
 ],
 "metadata": {
  "kernelspec": {
   "display_name": "Python 3.7.3 64-bit",
   "language": "python",
   "name": "python37364bit9a20ddc9d1ae462d97558f7f471a7945"
  },
  "language_info": {
   "codemirror_mode": {
    "name": "ipython",
    "version": 3
   },
   "file_extension": ".py",
   "mimetype": "text/x-python",
   "name": "python",
   "nbconvert_exporter": "python",
   "pygments_lexer": "ipython3",
   "version": "3.7.3"
  }
 },
 "nbformat": 4,
 "nbformat_minor": 2
}
