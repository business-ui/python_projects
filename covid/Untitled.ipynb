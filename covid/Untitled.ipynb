{
 "cells": [
  {
   "cell_type": "code",
   "execution_count": 5,
   "metadata": {},
   "outputs": [
    {
     "name": "stderr",
     "output_type": "stream",
     "text": [
      "BokehDeprecationWarning: 'WidgetBox' is deprecated and will be removed in Bokeh 3.0, use 'bokeh.models.Column' instead\n"
     ]
    },
    {
     "ename": "TypeError",
     "evalue": "show() missing 1 required positional argument: 'obj'",
     "output_type": "error",
     "traceback": [
      "\u001b[1;31m---------------------------------------------------------------------------\u001b[0m",
      "\u001b[1;31mTypeError\u001b[0m                                 Traceback (most recent call last)",
      "\u001b[1;32m<ipython-input-5-e40dbe2e0ec1>\u001b[0m in \u001b[0;36m<module>\u001b[1;34m\u001b[0m\n\u001b[0;32m     34\u001b[0m \u001b[0mcurdoc\u001b[0m\u001b[1;33m(\u001b[0m\u001b[1;33m)\u001b[0m\u001b[1;33m.\u001b[0m\u001b[0madd_root\u001b[0m\u001b[1;33m(\u001b[0m\u001b[0mlayout\u001b[0m\u001b[1;33m)\u001b[0m\u001b[1;33m\u001b[0m\u001b[1;33m\u001b[0m\u001b[0m\n\u001b[0;32m     35\u001b[0m \u001b[0mcurdoc\u001b[0m\u001b[1;33m(\u001b[0m\u001b[1;33m)\u001b[0m\u001b[1;33m.\u001b[0m\u001b[0mtitle\u001b[0m \u001b[1;33m=\u001b[0m \u001b[1;34m\"states\"\u001b[0m\u001b[1;33m\u001b[0m\u001b[1;33m\u001b[0m\u001b[0m\n\u001b[1;32m---> 36\u001b[1;33m \u001b[0mshow\u001b[0m\u001b[1;33m(\u001b[0m\u001b[1;33m)\u001b[0m\u001b[1;33m\u001b[0m\u001b[1;33m\u001b[0m\u001b[0m\n\u001b[0m",
      "\u001b[1;31mTypeError\u001b[0m: show() missing 1 required positional argument: 'obj'"
     ]
    }
   ],
   "source": [
    "from bokeh.plotting import curdoc, output_file,show\n",
    "from bokeh.models.widgets import Button, CheckboxGroup\n",
    "from bokeh.layouts import widgetbox, row\n",
    "from bokeh.models import ColumnDataSource, Callback\n",
    "\n",
    "output_file(\"states.html\", title=\"states\")\n",
    "\n",
    "states_list = [\"Alabama\", \"Alaska \", \"Arizona\", \"Arkansas\", \"California\", \\\n",
    "        \"Colorado\", \"Connecticut\", \"Delaware\", \"Florida\", \"Georgia\", \\\n",
    "        \"Hawaii\", \"Idaho \", \"Illinois\", \"Indiana\", \"Iowa\", \"Kansas\", \\\n",
    "        \"Kentucky\", \"Louisiana\", \"Maine\", \"Maryland\", \"Massachusetts\", \\\n",
    "        \"Michigan \", \"Minnesota\", \"Mississippi\", \"Missouri\", \"Montana\",\\\n",
    "        \"Nebraska\", \"Nevada \", \"New Hampshire\", \"New Jersey\",\\\n",
    "        \"New Mexico\", \"New York\", \"North Carolina\", \"North Dakota\", \\\n",
    "        \"Ohio\", \"Oklahoma\",\"Oregon\", \"Pennsylvania\", \"Rhode Island\", \\\n",
    "        \"South Carolina\", \"South Dakota\", \"Tennessee\", \"Texas\", \"Utah\",\\\n",
    "        \"Vermont\", \"Virginia\",\"Washington\", \"West Virginia\", \\\n",
    "        \"Wisconsin\", \"Wyoming\"]\n",
    "\n",
    "states = CheckboxGroup(\n",
    "        labels = states_list,\n",
    "        active=[0,1])\n",
    "\n",
    "select_all = Button(label=\"select all\")\n",
    "\n",
    "def update():\n",
    "    states.active = list(range(len(states_list)))\n",
    "select_all.on_click(update)\n",
    "\n",
    "group = widgetbox(select_all, states)\n",
    "\n",
    "layout = row(group)\n",
    "\n",
    "curdoc().add_root(layout)\n",
    "curdoc().title = \"states\"\n",
    "show()"
   ]
  }
 ],
 "metadata": {
  "kernelspec": {
   "display_name": "Python 3.7.3 64-bit",
   "language": "python",
   "name": "python37364bit9a20ddc9d1ae462d97558f7f471a7945"
  },
  "language_info": {
   "codemirror_mode": {
    "name": "ipython",
    "version": 3
   },
   "file_extension": ".py",
   "mimetype": "text/x-python",
   "name": "python",
   "nbconvert_exporter": "python",
   "pygments_lexer": "ipython3",
   "version": "3.7.3"
  }
 },
 "nbformat": 4,
 "nbformat_minor": 2
}
