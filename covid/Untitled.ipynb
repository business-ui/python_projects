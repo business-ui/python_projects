{
 "cells": [
  {
   "cell_type": "code",
   "execution_count": 1,
   "metadata": {},
   "outputs": [
    {
     "name": "stderr",
     "output_type": "stream",
     "text": [
      "BokehDeprecationWarning: 'WidgetBox' is deprecated and will be removed in Bokeh 3.0, use 'bokeh.models.Column' instead\n"
     ]
    }
   ],
   "source": [
    "from bokeh.plotting import curdoc, output_file,show\n",
    "from bokeh.models.widgets import Button, CheckboxGroup\n",
    "from bokeh.layouts import widgetbox, row\n",
    "from bokeh.models import ColumnDataSource, Callback\n",
    "\n",
    "output_file(\"states.html\", title=\"states\")\n",
    "\n",
    "states_list = [\"Alabama\", \"Alaska \", \"Arizona\", \"Arkansas\", \"California\", \\\n",
    "        \"Colorado\", \"Connecticut\", \"Delaware\", \"Florida\", \"Georgia\", \\\n",
    "        \"Hawaii\", \"Idaho \", \"Illinois\", \"Indiana\", \"Iowa\", \"Kansas\", \\\n",
    "        \"Kentucky\", \"Louisiana\", \"Maine\", \"Maryland\", \"Massachusetts\", \\\n",
    "        \"Michigan \", \"Minnesota\", \"Mississippi\", \"Missouri\", \"Montana\",\\\n",
    "        \"Nebraska\", \"Nevada \", \"New Hampshire\", \"New Jersey\",\\\n",
    "        \"New Mexico\", \"New York\", \"North Carolina\", \"North Dakota\", \\\n",
    "        \"Ohio\", \"Oklahoma\",\"Oregon\", \"Pennsylvania\", \"Rhode Island\", \\\n",
    "        \"South Carolina\", \"South Dakota\", \"Tennessee\", \"Texas\", \"Utah\",\\\n",
    "        \"Vermont\", \"Virginia\",\"Washington\", \"West Virginia\", \\\n",
    "        \"Wisconsin\", \"Wyoming\"]\n",
    "\n",
    "states = CheckboxGroup(\n",
    "        labels = states_list,\n",
    "        active=[0,1])\n",
    "\n",
    "select_all = Button(label=\"select all\")\n",
    "\n",
    "def update():\n",
    "    states.active = list(range(len(states_list)))\n",
    "select_all.on_click(update)\n",
    "\n",
    "group = widgetbox(select_all, states)\n",
    "\n",
    "layout = row(group)\n",
    "\n",
    "curdoc().add_root(layout)\n",
    "curdoc().title = \"states\"\n"
   ]
  },
  {
   "cell_type": "code",
   "execution_count": 2,
   "metadata": {},
   "outputs": [
    {
     "ename": "AttributeError",
     "evalue": "unexpected attribute 'callback' to TextInput, similar attributes are js_event_callbacks",
     "output_type": "error",
     "traceback": [
      "\u001b[1;31m---------------------------------------------------------------------------\u001b[0m",
      "\u001b[1;31mAttributeError\u001b[0m                            Traceback (most recent call last)",
      "\u001b[1;32m<ipython-input-2-52b2621112ab>\u001b[0m in \u001b[0;36m<module>\u001b[1;34m\u001b[0m\n\u001b[0;32m     16\u001b[0m ti = TextInput(placeholder='Enter filter',\n\u001b[0;32m     17\u001b[0m                callback=CustomJS(args=dict(ds=ds, s=s),\n\u001b[1;32m---> 18\u001b[1;33m                                  code=\"s.options = ds.data['options'].filter(i => i.includes(cb_obj.value));\"))\n\u001b[0m\u001b[0;32m     19\u001b[0m \u001b[1;33m\u001b[0m\u001b[0m\n\u001b[0;32m     20\u001b[0m \u001b[0mshow\u001b[0m\u001b[1;33m(\u001b[0m\u001b[0mwidgetbox\u001b[0m\u001b[1;33m(\u001b[0m\u001b[0mti\u001b[0m\u001b[1;33m,\u001b[0m \u001b[0ms\u001b[0m\u001b[1;33m)\u001b[0m\u001b[1;33m)\u001b[0m\u001b[1;33m\u001b[0m\u001b[1;33m\u001b[0m\u001b[0m\n",
      "\u001b[1;32m~\\AppData\\Local\\Programs\\Python\\Python37\\lib\\site-packages\\bokeh\\model.py\u001b[0m in \u001b[0;36m__init__\u001b[1;34m(self, **kwargs)\u001b[0m\n\u001b[0;32m    232\u001b[0m         \u001b[0mkwargs\u001b[0m\u001b[1;33m.\u001b[0m\u001b[0mpop\u001b[0m\u001b[1;33m(\u001b[0m\u001b[1;34m\"id\"\u001b[0m\u001b[1;33m,\u001b[0m \u001b[1;32mNone\u001b[0m\u001b[1;33m)\u001b[0m\u001b[1;33m\u001b[0m\u001b[1;33m\u001b[0m\u001b[0m\n\u001b[0;32m    233\u001b[0m \u001b[1;33m\u001b[0m\u001b[0m\n\u001b[1;32m--> 234\u001b[1;33m         \u001b[0msuper\u001b[0m\u001b[1;33m(\u001b[0m\u001b[1;33m)\u001b[0m\u001b[1;33m.\u001b[0m\u001b[0m__init__\u001b[0m\u001b[1;33m(\u001b[0m\u001b[1;33m**\u001b[0m\u001b[0mkwargs\u001b[0m\u001b[1;33m)\u001b[0m\u001b[1;33m\u001b[0m\u001b[1;33m\u001b[0m\u001b[0m\n\u001b[0m\u001b[0;32m    235\u001b[0m         \u001b[0mdefault_theme\u001b[0m\u001b[1;33m.\u001b[0m\u001b[0mapply_to_model\u001b[0m\u001b[1;33m(\u001b[0m\u001b[0mself\u001b[0m\u001b[1;33m)\u001b[0m\u001b[1;33m\u001b[0m\u001b[1;33m\u001b[0m\u001b[0m\n\u001b[0;32m    236\u001b[0m \u001b[1;33m\u001b[0m\u001b[0m\n",
      "\u001b[1;32m~\\AppData\\Local\\Programs\\Python\\Python37\\lib\\site-packages\\bokeh\\core\\has_props.py\u001b[0m in \u001b[0;36m__init__\u001b[1;34m(self, **properties)\u001b[0m\n\u001b[0;32m    245\u001b[0m \u001b[1;33m\u001b[0m\u001b[0m\n\u001b[0;32m    246\u001b[0m         \u001b[1;32mfor\u001b[0m \u001b[0mname\u001b[0m\u001b[1;33m,\u001b[0m \u001b[0mvalue\u001b[0m \u001b[1;32min\u001b[0m \u001b[0mproperties\u001b[0m\u001b[1;33m.\u001b[0m\u001b[0mitems\u001b[0m\u001b[1;33m(\u001b[0m\u001b[1;33m)\u001b[0m\u001b[1;33m:\u001b[0m\u001b[1;33m\u001b[0m\u001b[1;33m\u001b[0m\u001b[0m\n\u001b[1;32m--> 247\u001b[1;33m             \u001b[0msetattr\u001b[0m\u001b[1;33m(\u001b[0m\u001b[0mself\u001b[0m\u001b[1;33m,\u001b[0m \u001b[0mname\u001b[0m\u001b[1;33m,\u001b[0m \u001b[0mvalue\u001b[0m\u001b[1;33m)\u001b[0m\u001b[1;33m\u001b[0m\u001b[1;33m\u001b[0m\u001b[0m\n\u001b[0m\u001b[0;32m    248\u001b[0m \u001b[1;33m\u001b[0m\u001b[0m\n\u001b[0;32m    249\u001b[0m     \u001b[1;32mdef\u001b[0m \u001b[0m__setattr__\u001b[0m\u001b[1;33m(\u001b[0m\u001b[0mself\u001b[0m\u001b[1;33m,\u001b[0m \u001b[0mname\u001b[0m\u001b[1;33m,\u001b[0m \u001b[0mvalue\u001b[0m\u001b[1;33m)\u001b[0m\u001b[1;33m:\u001b[0m\u001b[1;33m\u001b[0m\u001b[1;33m\u001b[0m\u001b[0m\n",
      "\u001b[1;32m~\\AppData\\Local\\Programs\\Python\\Python37\\lib\\site-packages\\bokeh\\core\\has_props.py\u001b[0m in \u001b[0;36m__setattr__\u001b[1;34m(self, name, value)\u001b[0m\n\u001b[0;32m    280\u001b[0m \u001b[1;33m\u001b[0m\u001b[0m\n\u001b[0;32m    281\u001b[0m             raise AttributeError(\"unexpected attribute '%s' to %s, %s attributes are %s\" %\n\u001b[1;32m--> 282\u001b[1;33m                 (name, self.__class__.__name__, text, nice_join(matches)))\n\u001b[0m\u001b[0;32m    283\u001b[0m \u001b[1;33m\u001b[0m\u001b[0m\n\u001b[0;32m    284\u001b[0m     \u001b[1;32mdef\u001b[0m \u001b[0m__str__\u001b[0m\u001b[1;33m(\u001b[0m\u001b[0mself\u001b[0m\u001b[1;33m)\u001b[0m\u001b[1;33m:\u001b[0m\u001b[1;33m\u001b[0m\u001b[1;33m\u001b[0m\u001b[0m\n",
      "\u001b[1;31mAttributeError\u001b[0m: unexpected attribute 'callback' to TextInput, similar attributes are js_event_callbacks"
     ]
    }
   ],
   "source": [
    "import random\n",
    "import string\n",
    "\n",
    "from bokeh.io import show\n",
    "from bokeh.layouts import widgetbox\n",
    "from bokeh.models import Select, TextInput, ColumnDataSource, CustomJS\n",
    "\n",
    "\n",
    "def random_str():\n",
    "    return ''.join(random.choice(string.ascii_letters + string.digits) for _ in range(20))\n",
    "\n",
    "\n",
    "ds = ColumnDataSource(data=dict(options=[random_str() for _ in range(500)]))\n",
    "# Setting initial values\n",
    "s = Select(options=ds.data['options'])\n",
    "ti = TextInput(placeholder='Enter filter',\n",
    "               callback=CustomJS(args=dict(ds=ds, s=s),\n",
    "                                 code=\"s.options = ds.data['options'].filter(i => i.includes(cb_obj.value));\"))\n",
    "\n",
    "show(widgetbox(ti, s))"
   ]
  }
 ],
 "metadata": {
  "kernelspec": {
   "display_name": "Python 3.7.3 64-bit",
   "language": "python",
   "name": "python37364bit9a20ddc9d1ae462d97558f7f471a7945"
  },
  "language_info": {
   "codemirror_mode": {
    "name": "ipython",
    "version": 3
   },
   "file_extension": ".py",
   "mimetype": "text/x-python",
   "name": "python",
   "nbconvert_exporter": "python",
   "pygments_lexer": "ipython3",
   "version": "3.7.3"
  }
 },
 "nbformat": 4,
 "nbformat_minor": 2
}
